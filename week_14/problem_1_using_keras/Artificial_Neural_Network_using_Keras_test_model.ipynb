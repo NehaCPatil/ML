
{
 "cells": [
  {
   "cell_type": "markdown",
   "metadata": {
    "_uuid": "e441e08560a8d273c77f9f82ceb427baffd189bc"
   },
   "source": [
    "# Bank Customer Classification\n",
    " \n",
    " \n",
    " For a given dataset predict whether customer will exit (Output variable “Exited”) the bank or not using artificial neural network\n"
   ]
  },
  {
   "cell_type": "code",
   "execution_count": 1,
   "metadata": {
    "_cell_guid": "b1076dfc-b9ad-4769-8c92-a6c4dae69d19",
    "_uuid": "8f2839f25d086af736a60e9eeb907d3b93b6e0e5"
   },
   "outputs": [
    {
     "name": "stderr",
     "output_type": "stream",
     "text": [
      "/home/admin1/anaconda3/envs/newenvt/lib/python3.5/site-packages/h5py/__init__.py:36: FutureWarning: Conversion of the second argument of issubdtype from `float` to `np.floating` is deprecated. In future, it will be treated as `np.float64 == np.dtype(float).type`.\n",
      "  from ._conv import register_converters as _register_converters\n",
      "Using TensorFlow backend.\n"
     ]
    }
   ],
   "source": [
    "import theano\n",
    "import tensorflow as tf\n",
    "import numpy as np\n",
    "import matplotlib.pyplot as plt\n",
    "import pandas as pd\n",
    "import pickle\n",
    "import keras # Test out Theano when time permits as well"
   ]
  },
  {
   "cell_type": "code",
   "execution_count": 2,
   "metadata": {
    "_cell_guid": "94dc69ae-e276-4ab8-9d42-89360e0f7ebb",
    "_uuid": "b2608c0cb6e23abc91618d95ed9a06c1c0195c08"
   },
   "outputs": [],
   "source": [
    "# Splitting the dataset into the Training and Testing set.\n",
    "\n",
    "file = open('Keras_testdata_Pickle/testing.pickle', 'rb')\n",
    "\n",
    "# dump information to that file\n",
    "X_test = pickle.load(file)\n",
    "y_test = pickle.load(file)\n",
    "\n"
   ]
  },
  {
   "cell_type": "code",
   "execution_count": 3,
   "metadata": {},
   "outputs": [
    {
     "name": "stdout",
     "output_type": "stream",
     "text": [
      "WARNING:tensorflow:From /home/admin1/anaconda3/envs/newenvt/lib/python3.5/site-packages/tensorflow/python/framework/op_def_library.py:263: colocate_with (from tensorflow.python.framework.ops) is deprecated and will be removed in a future version.\n",
      "Instructions for updating:\n",
      "Colocations handled automatically by placer.\n",
      "WARNING:tensorflow:From /home/admin1/anaconda3/envs/newenvt/lib/python3.5/site-packages/tensorflow/python/ops/math_ops.py:3066: to_int32 (from tensorflow.python.ops.math_ops) is deprecated and will be removed in a future version.\n",
      "Instructions for updating:\n",
      "Use tf.cast instead.\n",
      "_________________________________________________________________\n",
      "Layer (type)                 Output Shape              Param #   \n",
      "=================================================================\n",
      "dense_1 (Dense)              (None, 6)                 72        \n",
      "_________________________________________________________________\n",
      "dense_2 (Dense)              (None, 6)                 42        \n",
      "_________________________________________________________________\n",
      "dense_3 (Dense)              (None, 1)                 7         \n",
      "=================================================================\n",
      "Total params: 121\n",
      "Trainable params: 121\n",
      "Non-trainable params: 0\n",
      "_________________________________________________________________\n"
     ]
    }
   ],
   "source": [
    "\n",
    "# load and evaluate a saved model\n",
    "from numpy import loadtxt\n",
    "from keras.models import load_model\n",
    "\n",
    "# load model\n",
    "classifier = load_model('Pickel_classifier/model.h5')\n",
    "# summarize model.\n",
    "classifier.summary()"
   ]
  },
  {
   "cell_type": "code",
   "execution_count": 4,
   "metadata": {
    "_cell_guid": "b8414c74-b1d9-4171-9f01-6b1b2d642c0e",
    "_uuid": "c6f9748ac1c12e6786615c664e4fae7d34238dd5"
   },
   "outputs": [
    {
     "name": "stdout",
     "output_type": "stream",
     "text": [
      "[[0.]\n",
      " [0.]\n",
      " [0.]\n",
      " ...\n",
      " [0.]\n",
      " [0.]\n",
      " [0.]]\n"
     ]
    }
   ],
   "source": [
    "y_pred = classifier.predict(X_test)\n",
    "print(y_pred)"
   ]
  },
  {
   "cell_type": "markdown",
   "metadata": {
    "_cell_guid": "dadcf0b3-ec7d-496a-b9ee-733f74d147a0",
    "_uuid": "d114142f9b8006cd824e5321d973b410cf1f8242"
   },
   "source": [
    "To use the confusion Matrix, we need to convert the probabilities that a customer will leave the bank into the form true or false. So we will use the cutoff value 0.5 to indicate whether they are likely to exit or not."
   ]
  },
  {
   "cell_type": "code",
   "execution_count": 5,
   "metadata": {
    "_uuid": "5f4bb08d445fa6d6c993ba60605cde284e219117"
   },
   "outputs": [
    {
     "name": "stdout",
     "output_type": "stream",
     "text": [
      "[[False]\n",
      " [False]\n",
      " [False]\n",
      " ...\n",
      " [False]\n",
      " [False]\n",
      " [False]]\n"
     ]
    }
   ],
   "source": [
    "y_pred = (y_pred > 0.5)\n",
    "print(y_pred)"
   ]
  },
  {
   "cell_type": "markdown",
   "metadata": {
    "_cell_guid": "b8881ad3-48e7-431b-a542-94cd2660cfbd",
    "_uuid": "6237093831507136636bade49c4349277ab63c6a"
   },
   "source": [
    "### Making the Confusion Matrix"
   ]
  },
  {
   "cell_type": "code",
   "execution_count": 6,
   "metadata": {
    "_cell_guid": "358df9a9-dade-46b7-a9bc-dafc280a7adc",
    "_uuid": "f436bf213e921eb5b6737fcd7eb1b4224fe34426"
   },
   "outputs": [
    {
     "name": "stdout",
     "output_type": "stream",
     "text": [
      "[[1595    0]\n",
      " [ 405    0]]\n"
     ]
    }
   ],
   "source": [
    "from sklearn.metrics import confusion_matrix\n",
    "cm = confusion_matrix(y_test, y_pred)\n",
    "print(cm)"
   ]
  },
  {
   "cell_type": "markdown",
   "metadata": {
    "_uuid": "9ff2ad9056ebbe20f12af51f40db84e448d66cdf"
   },
   "source": [
    "### Significance of the confusion matrix value:\n",
    "\n",
    "The output should be close to the table below:\n",
    "\n",
    "||Predicted: No |Predicted: Yes|\n",
    " |------| |------|   |------|  \n",
    " |Actual: No|1504|91|\n",
    "|Actual: Yes|184|221\n"
   ]
  },
  {
   "cell_type": "markdown",
   "metadata": {
    "_uuid": "b325f0488247557f52e548b5f190f014ba77f547"
   },
   "source": [
    "This means that we should have about $(1504 + 221) = 1726$ correct classifications out of our total testing data size of $2000$.\n",
    "This means that our accuracy for this trial was $1726 \\div 2000 = 86.3\\%$, which matches the classifier's prediction"
   ]
  },
  {
   "cell_type": "code",
   "execution_count": 7,
   "metadata": {
    "_uuid": "55c3603bb82dacfd17aa53769f2db2a24d4fc3f7"
   },
   "outputs": [
    {
     "name": "stdout",
     "output_type": "stream",
     "text": [
      "79.75 % of testing data was classified correctly\n"
     ]
    }
   ],
   "source": [
    "print (((cm[0][0]+cm[1][1])*100)/(cm[0][0]+cm[1][1]+cm[0][1]+cm[1][0]), '% of testing data was classified correctly')"
   ]
  },
  {
   "cell_type": "code",
   "execution_count": 8,
   "metadata": {},
   "outputs": [
    {
     "name": "stdout",
     "output_type": "stream",
     "text": [
      "\n",
      "              precision    recall  f1-score   support\n",
      "\n",
      "          0       0.80      1.00      0.89      1595\n",
      "          1       0.00      0.00      0.00       405\n",
      "\n",
      "avg / total       0.64      0.80      0.71      2000\n",
      "\n"
     ]
    },
    {
     "name": "stderr",
     "output_type": "stream",
     "text": [
      "/home/admin1/anaconda3/envs/newenvt/lib/python3.5/site-packages/sklearn/metrics/classification.py:1135: UndefinedMetricWarning: Precision and F-score are ill-defined and being set to 0.0 in labels with no predicted samples.\n",
      "  'precision', 'predicted', average, warn_for)\n"
     ]
    }
   ],
   "source": [
    "from sklearn.metrics import classification_report\n",
    "print(\"\\n\",classification_report(y_test, y_pred))"
   ]
  }
 ],
 "metadata": {
  "kernelspec": {
   "display_name": "Python 3",
   "language": "python",
   "name": "python3"
  },
  "language_info": {
   "codemirror_mode": {
    "name": "ipython",
    "version": 3
   },
   "file_extension": ".py",
   "mimetype": "text/x-python",
   "name": "python",
   "nbconvert_exporter": "python",
   "pygments_lexer": "ipython3",
   "version": "3.5.5"
  }
 },
 "nbformat": 4,
 "nbformat_minor": 1
}
