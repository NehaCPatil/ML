{
 "cells": [
  {
   "cell_type": "markdown",
   "metadata": {
    "_uuid": "e441e08560a8d273c77f9f82ceb427baffd189bc"
   },
   "source": [
    "# Bank Customer Classification\n",
    " \n",
    " \n",
    " For a given dataset predict whether customer will exit (Output variable “Exited”) the bank or not using artificial neural network\n"
   ]
  },
  {
   "cell_type": "code",
   "execution_count": 1,
   "metadata": {
    "_cell_guid": "b1076dfc-b9ad-4769-8c92-a6c4dae69d19",
    "_uuid": "8f2839f25d086af736a60e9eeb907d3b93b6e0e5"
   },
   "outputs": [
    {
     "name": "stderr",
     "output_type": "stream",
     "text": [
      "/home/admin1/anaconda3/envs/newenvt/lib/python3.5/site-packages/h5py/__init__.py:36: FutureWarning: Conversion of the second argument of issubdtype from `float` to `np.floating` is deprecated. In future, it will be treated as `np.float64 == np.dtype(float).type`.\n",
      "  from ._conv import register_converters as _register_converters\n"
     ]
    }
   ],
   "source": [
    "import theano\n",
    "import tensorflow\n",
    "import numpy as np\n",
    "import matplotlib.pyplot as plt\n",
    "import pandas as pd\n",
    "import pickle\n",
    "\n",
    "from sklearn.preprocessing import LabelEncoder, OneHotEncoder\n",
    "from sklearn.model_selection import train_test_split\n",
    "from sklearn.preprocessing import StandardScaler\n",
    "from sklearn.metrics import roc_curve"
   ]
  },
  {
   "cell_type": "markdown",
   "metadata": {
    "_cell_guid": "191e6ef1-260f-4f3e-822c-92397b6cc5df",
    "_uuid": "a91e1f7964773655b9aaa13dd53676680ccfb47d"
   },
   "source": [
    "### Data Preprocessing "
   ]
  },
  {
   "cell_type": "markdown",
   "metadata": {
    "_uuid": "4d4c953f3ca2e847a7032a4fc8ad926aa353b265"
   },
   "source": [
    "\n",
    "For as much as we care, neither the customer ID, nor the surname should matter in classification. \n",
    "Therefore, we will use columns 3 (CreditScore) inclusive through the 13th column (exclusive).\n"
   ]
  },
  {
   "cell_type": "code",
   "execution_count": 2,
   "metadata": {
    "_cell_guid": "79c7e3d0-c299-4dcb-8224-4455121ee9b0",
    "_uuid": "d629ff2d2480ee46fbb7e2d37f6b5fab8052498a"
   },
   "outputs": [],
   "source": [
    "#importing the dataset\n",
    "dataset = pd.read_csv('Data/Churn_Modelling.csv')\n",
    "X = dataset.iloc[:,3:13].values # Credit Score through Estimated Salary\n",
    "y = dataset.iloc[:, 13].values # Exited"
   ]
  },
  {
   "cell_type": "code",
   "execution_count": 3,
   "metadata": {},
   "outputs": [
    {
     "data": {
      "text/html": [
       "<div>\n",
       "<style scoped>\n",
       "    .dataframe tbody tr th:only-of-type {\n",
       "        vertical-align: middle;\n",
       "    }\n",
       "\n",
       "    .dataframe tbody tr th {\n",
       "        vertical-align: top;\n",
       "    }\n",
       "\n",
       "    .dataframe thead th {\n",
       "        text-align: right;\n",
       "    }\n",
       "</style>\n",
       "<table border=\"1\" class=\"dataframe\">\n",
       "  <thead>\n",
       "    <tr style=\"text-align: right;\">\n",
       "      <th></th>\n",
       "      <th>RowNumber</th>\n",
       "      <th>CustomerId</th>\n",
       "      <th>Surname</th>\n",
       "      <th>CreditScore</th>\n",
       "      <th>Geography</th>\n",
       "      <th>Gender</th>\n",
       "      <th>Age</th>\n",
       "      <th>Tenure</th>\n",
       "      <th>Balance</th>\n",
       "      <th>NumOfProducts</th>\n",
       "      <th>HasCrCard</th>\n",
       "      <th>IsActiveMember</th>\n",
       "      <th>EstimatedSalary</th>\n",
       "      <th>Exited</th>\n",
       "    </tr>\n",
       "  </thead>\n",
       "  <tbody>\n",
       "    <tr>\n",
       "      <th>0</th>\n",
       "      <td>1</td>\n",
       "      <td>15634602</td>\n",
       "      <td>Hargrave</td>\n",
       "      <td>619</td>\n",
       "      <td>France</td>\n",
       "      <td>Female</td>\n",
       "      <td>42</td>\n",
       "      <td>2</td>\n",
       "      <td>0.00</td>\n",
       "      <td>1</td>\n",
       "      <td>1</td>\n",
       "      <td>1</td>\n",
       "      <td>101348.88</td>\n",
       "      <td>1</td>\n",
       "    </tr>\n",
       "    <tr>\n",
       "      <th>1</th>\n",
       "      <td>2</td>\n",
       "      <td>15647311</td>\n",
       "      <td>Hill</td>\n",
       "      <td>608</td>\n",
       "      <td>Spain</td>\n",
       "      <td>Female</td>\n",
       "      <td>41</td>\n",
       "      <td>1</td>\n",
       "      <td>83807.86</td>\n",
       "      <td>1</td>\n",
       "      <td>0</td>\n",
       "      <td>1</td>\n",
       "      <td>112542.58</td>\n",
       "      <td>0</td>\n",
       "    </tr>\n",
       "    <tr>\n",
       "      <th>2</th>\n",
       "      <td>3</td>\n",
       "      <td>15619304</td>\n",
       "      <td>Onio</td>\n",
       "      <td>502</td>\n",
       "      <td>France</td>\n",
       "      <td>Female</td>\n",
       "      <td>42</td>\n",
       "      <td>8</td>\n",
       "      <td>159660.80</td>\n",
       "      <td>3</td>\n",
       "      <td>1</td>\n",
       "      <td>0</td>\n",
       "      <td>113931.57</td>\n",
       "      <td>1</td>\n",
       "    </tr>\n",
       "    <tr>\n",
       "      <th>3</th>\n",
       "      <td>4</td>\n",
       "      <td>15701354</td>\n",
       "      <td>Boni</td>\n",
       "      <td>699</td>\n",
       "      <td>France</td>\n",
       "      <td>Female</td>\n",
       "      <td>39</td>\n",
       "      <td>1</td>\n",
       "      <td>0.00</td>\n",
       "      <td>2</td>\n",
       "      <td>0</td>\n",
       "      <td>0</td>\n",
       "      <td>93826.63</td>\n",
       "      <td>0</td>\n",
       "    </tr>\n",
       "    <tr>\n",
       "      <th>4</th>\n",
       "      <td>5</td>\n",
       "      <td>15737888</td>\n",
       "      <td>Mitchell</td>\n",
       "      <td>850</td>\n",
       "      <td>Spain</td>\n",
       "      <td>Female</td>\n",
       "      <td>43</td>\n",
       "      <td>2</td>\n",
       "      <td>125510.82</td>\n",
       "      <td>1</td>\n",
       "      <td>1</td>\n",
       "      <td>1</td>\n",
       "      <td>79084.10</td>\n",
       "      <td>0</td>\n",
       "    </tr>\n",
       "  </tbody>\n",
       "</table>\n",
       "</div>"
      ],
      "text/plain": [
       "   RowNumber  CustomerId   Surname  CreditScore Geography  Gender  Age  \\\n",
       "0          1    15634602  Hargrave          619    France  Female   42   \n",
       "1          2    15647311      Hill          608     Spain  Female   41   \n",
       "2          3    15619304      Onio          502    France  Female   42   \n",
       "3          4    15701354      Boni          699    France  Female   39   \n",
       "4          5    15737888  Mitchell          850     Spain  Female   43   \n",
       "\n",
       "   Tenure    Balance  NumOfProducts  HasCrCard  IsActiveMember  \\\n",
       "0       2       0.00              1          1               1   \n",
       "1       1   83807.86              1          0               1   \n",
       "2       8  159660.80              3          1               0   \n",
       "3       1       0.00              2          0               0   \n",
       "4       2  125510.82              1          1               1   \n",
       "\n",
       "   EstimatedSalary  Exited  \n",
       "0        101348.88       1  \n",
       "1        112542.58       0  \n",
       "2        113931.57       1  \n",
       "3         93826.63       0  \n",
       "4         79084.10       0  "
      ]
     },
     "execution_count": 3,
     "metadata": {},
     "output_type": "execute_result"
    }
   ],
   "source": [
    "dataset.head()"
   ]
  },
  {
   "cell_type": "code",
   "execution_count": 4,
   "metadata": {
    "_cell_guid": "4a8358b6-15f3-447a-b7ca-84b1260be431",
    "_uuid": "6ead7a5a9bd53033a6e2d72ee0d04c102ac62547"
   },
   "outputs": [
    {
     "name": "stdout",
     "output_type": "stream",
     "text": [
      "['France' 'Spain' 'France' 'France' 'Spain' 'Spain' 'France' 'Germany'] ... will now become:\n",
      "['Female' 'Female' 'Female' 'Female' 'Female' 'Male'] ... will now become: \n",
      "[0 2 0 0 2 2 0 1]\n",
      "[0 0 0 0 0 1]\n"
     ]
    }
   ],
   "source": [
    "# Encoding categorical (string based) data. Country: there are 3 options: France, Spain and Germany\n",
    "# This will convert those strings into scalar values for analysis\n",
    "print(X[:8,1], '... will now become:')\n",
    "print(X[:6,2], '... will now become: ')\n",
    "\n",
    "label_X_country_encoder = LabelEncoder()\n",
    "label_X_gender_encoder = LabelEncoder()\n",
    "X[:,1] = label_X_country_encoder.fit_transform(X[:,1])\n",
    "X[:,2] = label_X_gender_encoder.fit_transform(X[:,2])\n",
    "print(X[:8,1])\n",
    "print(X[:6,2])"
   ]
  },
  {
   "cell_type": "markdown",
   "metadata": {
    "_cell_guid": "6958b07a-5e29-403d-9d60-c08d97e05a51",
    "_uuid": "bb22f8944d080dcbd92a885f7ce59803bc16f61e"
   },
   "source": [
    "The Problem here is that we are treating the countries as one variable with ordinal values (0 < 1 <  2). Therefore, one way to get rid of that problem is to split the countries into respective dimensions. that is,\n",
    "\n",
    "| Country |  -> | Country|-> |Spain|France|Germany|\n",
    "|------|      |------|  |------|    |------|    |------|\n",
    "|   Spain |   -> |0| -> |1|0|0|\n",
    "|   France | -> |1| -> |0|1|0|\n",
    "|   France | ->  |1| -> |0|1|0|\n",
    "|   Germany | -> |2| -> |0|0|1|"
   ]
  },
  {
   "cell_type": "markdown",
   "metadata": {
    "_cell_guid": "fd292a3a-af3a-4e01-a6a3-0f4f9e4eaa3e",
    "_uuid": "4a096f238a4c58f81f6e975cfbbfbafe81394bba"
   },
   "source": [
    "\n",
    "Gender doesn't need to go through a similar process becasue it is binary"
   ]
  },
  {
   "cell_type": "code",
   "execution_count": 5,
   "metadata": {
    "_cell_guid": "7919a746-8eb9-4d5f-967f-d3e513320a93",
    "_uuid": "9334654d846ed1d7c86b17c5cda8fd43ba193a62"
   },
   "outputs": [],
   "source": [
    "# Converting the string features into their own dimensions. Gender doesn't matter here because its binary\n",
    "countryhotencoder = OneHotEncoder(categorical_features = [1]) # 1 is the country column\n",
    "X = countryhotencoder.fit_transform(X).toarray()"
   ]
  },
  {
   "cell_type": "markdown",
   "metadata": {
    "_cell_guid": "6f5ab21e-bc4c-4d23-8124-b7fbde15295a",
    "_uuid": "134720c31d216016bb6093571ca1cf08e49f0014"
   },
   "source": [
    "You can now see that the first three columns represent the three countries that constituted the \"country\" category. We can now observe that  we essentially only need two columns: a 0 on two countries means that the country has to be the one variable which wasn't included. This will save us from the problem of using too many dimensions\n",
    "\n",
    "|Spain|France|Germany|-> |France|Germany|\n",
    " |------|    |------|    |------|     |------|     |------|\n",
    " |1|0|0|-> |0|0|\n",
    "|0|1|0|-> |1|0|\n",
    "|0|1|0|-> |1|0|\n",
    "|0|0|1|-> |0|1|"
   ]
  },
  {
   "cell_type": "code",
   "execution_count": 6,
   "metadata": {
    "_cell_guid": "519c673a-19a4-43a9-8a52-f8d7fc2cd854",
    "_uuid": "43a5f7db6a5972cf3aa22ee84286d16871410113"
   },
   "outputs": [],
   "source": [
    "X = X[:,1:] # Got rid of Spain as a dimension. It is still there through out inferences"
   ]
  },
  {
   "cell_type": "code",
   "execution_count": 7,
   "metadata": {
    "_cell_guid": "94dc69ae-e276-4ab8-9d42-89360e0f7ebb",
    "_uuid": "b2608c0cb6e23abc91618d95ed9a06c1c0195c08"
   },
   "outputs": [],
   "source": [
    "# Splitting the dataset into the Training and Testing set.\n",
    "\n",
    "X_train, X_test, y_train, y_test = train_test_split(X,y, test_size = 0.2, random_state = 0)\n",
    "X_train, X_cv, y_train, y_cv = train_test_split(X_train,y_train, test_size = 0.2, random_state = 0)\n",
    "\n",
    "file = open('Keras_Pickle/testing.pickle', 'wb')\n",
    "\n",
    "# dump information to that file\n",
    "pickle.dump(X_test, file)\n",
    "pickle.dump(y_test,file)\n",
    "\n",
    "# close the file\n",
    "file.close()\n"
   ]
  },
  {
   "cell_type": "markdown",
   "metadata": {
    "_cell_guid": "19c34bde-4901-4116-81b5-0b2699cc8edc",
    "_uuid": "baee254e5d7c52966a84ad53aa890b1b0c548436"
   },
   "source": [
    "Feature scaling is a method used to standardize the range of independent variables or features of data. It is basically scaling all the dimensions to be even so that one independent variable does not dominate another. For example, bank account balance ranges from millions to 0, whereas gender is either 0 or 1. If one of the features has a broad range of values, the distance will be governed by this particular feature. Therefore, the range of all features should be normalized so that each feature contributes approximately proportionately to the final distance."
   ]
  },
  {
   "cell_type": "code",
   "execution_count": 8,
   "metadata": {
    "_cell_guid": "0d825f73-80a2-4b55-8c5d-1546055c0ade",
    "_uuid": "eb0f062f80060a4a608cebb1db7e08cb48d3c6d1"
   },
   "outputs": [],
   "source": [
    "# Feature Scaling\n",
    "\n",
    "sc=StandardScaler()\n",
    "X_train = sc.fit_transform(X_train)\n",
    "X_test = sc.transform(X_test)"
   ]
  },
  {
   "cell_type": "code",
   "execution_count": 9,
   "metadata": {
    "_cell_guid": "a96ac596-f07b-451c-a7aa-f98dc29bba81",
    "_uuid": "00892464955a6ad79489335772ae7fbe2471ac2c"
   },
   "outputs": [
    {
     "data": {
      "text/plain": [
       "((6400, 11), (2000, 11))"
      ]
     },
     "execution_count": 9,
     "metadata": {},
     "output_type": "execute_result"
    }
   ],
   "source": [
    "X_train.shape,X_test.shape"
   ]
  },
  {
   "cell_type": "markdown",
   "metadata": {
    "_cell_guid": "f8496b20-efff-48a4-8649-e6b60ac2e87b",
    "_uuid": "219c2ec9230ef437b87cd0ec5ffe5eece2843874"
   },
   "source": [
    "##  ANN"
   ]
  },
  {
   "cell_type": "code",
   "execution_count": 10,
   "metadata": {
    "_cell_guid": "e7845543-59c2-4802-b1fe-5096ad992fff",
    "_uuid": "8b166bec6c562467764525aa25e1b1478c04a7e3"
   },
   "outputs": [
    {
     "name": "stderr",
     "output_type": "stream",
     "text": [
      "Using TensorFlow backend.\n"
     ]
    }
   ],
   "source": [
    "import keras # Test out Theano when time permits as well\n",
    "from keras.models import Sequential\n",
    "from keras.layers import Dense"
   ]
  },
  {
   "cell_type": "code",
   "execution_count": 11,
   "metadata": {
    "_cell_guid": "477c2dd7-8267-4c0d-98d0-65483cfc47c0",
    "_uuid": "842944c858018351df27d454c03fe3bc3c3498c7"
   },
   "outputs": [],
   "source": [
    "# Initializing the ANN\n",
    "classifier = Sequential()"
   ]
  },
  {
   "cell_type": "markdown",
   "metadata": {
    "_cell_guid": "9a0c46ca-2e44-45bc-a48c-870f6aad0d0e",
    "_uuid": "a9c849675833548a819cf26298658158e844de59"
   },
   "source": [
    "A hurestic tip is that the amount of nodes (dimensions) in your hidden layer should be the average of your input and output layers, which means that since we have 11 dimensions (representing **Independent variables** Note: Countries still compose only  **one** dimension) and we are looking for a binary output, we calculate this to be $(11+1)\\div 2 = 6 $.\n",
    "\n",
    "#### The breakdown of the inputs for the first layer is as follows:\n",
    "\n",
    "*activiation*: **relu** becasue we are in an input layer. uses the ReLu activation function for $\\phi$\n",
    "\n",
    "*input_dim*: **11** because we span 11 dimensions in our input layer. This is needed for the first added layer. The subsequent layers's input dimensions can be inferred using the previously added layer's output dimension. The next hidden layer will know what to expect.\n",
    "\n",
    "*units*: **6** nodes (number of nodes in hidden layer). Can think of this as number of nodes are in the next layer.\n",
    "\n",
    "*kernel_initializer*: **uniform**  the distribution with which we randomly initialize weights for the nodes in this layer. \n",
    "\n"
   ]
  },
  {
   "cell_type": "code",
   "execution_count": 12,
   "metadata": {
    "_cell_guid": "74cbe4d8-517a-488d-92d0-71905549a062",
    "_uuid": "d714ebc59f601dd833a0eaafc6ae9a81b9f9f2d8"
   },
   "outputs": [
    {
     "name": "stdout",
     "output_type": "stream",
     "text": [
      "WARNING:tensorflow:From /home/admin1/anaconda3/envs/newenvt/lib/python3.5/site-packages/tensorflow/python/framework/op_def_library.py:263: colocate_with (from tensorflow.python.framework.ops) is deprecated and will be removed in a future version.\n",
      "Instructions for updating:\n",
      "Colocations handled automatically by placer.\n"
     ]
    }
   ],
   "source": [
    "# This adds the input layer (by specifying input dimension) AND the first hidden layer (units)\n",
    "classifier.add(Dense(activation = 'relu', input_dim = 11, units=6, kernel_initializer='uniform'))"
   ]
  },
  {
   "cell_type": "markdown",
   "metadata": {
    "_cell_guid": "0c30399e-24f6-44ac-b468-13ad68813a03",
    "_uuid": "47582c1198896d9c6276254440869f0ff685caa9"
   },
   "source": [
    "### We are going to add another layer to this model because we want to implement Deep Learning, which is an artificial Neural network with many layers.\n",
    "We will make our second hidden layer also have 6 nodes, just playing with the same arithmetic we used to determine the dimensions of the first hidden layer (average of your input and output layers) $(11+1)\\div 2 = 6 $."
   ]
  },
  {
   "cell_type": "code",
   "execution_count": 13,
   "metadata": {
    "_cell_guid": "4b2e774c-dfae-425d-9814-791ba9385f54",
    "_uuid": "4ee4b599740bccfd59166e6589f471c267bd3ba6"
   },
   "outputs": [],
   "source": [
    "# Adding the second hidden layer\n",
    "# Notice that we do not need to specify input dim. \n",
    "classifier.add(Dense(activation = 'relu', units=6, kernel_initializer='uniform')) "
   ]
  },
  {
   "cell_type": "markdown",
   "metadata": {
    "_cell_guid": "dcfa3079-f795-477b-a21c-e5cb3b6f0aef",
    "_uuid": "9f0c01f7d7019c1a73cb3cfe05dc03104b07fed7"
   },
   "source": [
    "### Adding the output layer\n",
    "#### The breakdown of the inputs for the output layer is as follows:\n",
    "\n",
    "*activiation*: **sigmoid** becasue we are in an output layer. uses the Sigmoid activation function for $\\phi$. This is used instead of the ReLu function becasue it generates probabilities for the outcome. We want the probability that each customer leaves the bank.  \n",
    "\n",
    "*input_dim*: **11** because we span 11 dimensions in our input layer. This is needed for the first added layer. The subsequent layers's input dimensions can be inferred using the previously added layer's output dimension. The next hidden layer will know what to expect.\n",
    "\n",
    "*units*: **6** nodes (number of nodes in hidden layer). Can think of this as number of nodes are in the next layer.\n",
    "\n",
    "*kernel_initializer*: **uniform**  the distribution with which we randomly initialize weights for the nodes in this layer. "
   ]
  },
  {
   "cell_type": "code",
   "execution_count": 14,
   "metadata": {
    "_cell_guid": "85159374-4412-4d00-8120-04e2d3797d18",
    "_uuid": "5e967723561562d1b402e531c51a9c505b3872cc"
   },
   "outputs": [],
   "source": [
    "# Adding the output layer\n",
    "# Notice that we do not need to specify input dim. \n",
    "# we have an output of 1 node, which is the the desired dimensions of our output (stay with the bank or not)\n",
    "# We use the sigmoid because we want probability outcomes\n",
    "classifier.add(Dense(activation = 'sigmoid', units=1, kernel_initializer='uniform')) "
   ]
  },
  {
   "cell_type": "markdown",
   "metadata": {
    "_cell_guid": "aeca69c0-472e-4344-8523-d5c5a4893650",
    "_uuid": "313cad84163d80c20e00eaac2d493c8eb50dab30"
   },
   "source": [
    "\n",
    "### If we want more than two categories, then we will need to change \n",
    "\n",
    " 1) the *units* parameter to match the desired category count\n",
    " \n",
    " 2) the *activation* field to **softmax**.  Basically a sigmoid function but applied to a dependent variable that has more than 2 categories."
   ]
  },
  {
   "cell_type": "markdown",
   "metadata": {
    "_cell_guid": "ba09a55b-572d-442c-9733-724600df8f9b",
    "_uuid": "f220ac215b66c3f765d05ee1d1ac1ba51854bd5e"
   },
   "source": [
    "## Compiling the Neural Network\n",
    "Basically applying Stochastic Gradient descent on the whole Neural Network. We are Tuning the individual weights on each neuron.\n",
    "\n",
    "#### The breakdown of the inputs for compiling is as follows:\n",
    "\n",
    "*optimizer*: ** adam** The algorithm we want to use to find the optimal set of weights in the neural networks.  Adam is a very efficeint variation of Stochastic Gradient Descent.\n",
    "\n",
    "*loss*: **binary_crossentropy** This is the loss function used within adam. This should be the logarthmic loss. If our dependent (output variable) is *Binary*, it is **binary_crossentropy**. If *Categorical*, then it is called **categorical_crossentropy**\n",
    "\n",
    "*metrics*: **[accuracy]** The accuracy metrics which will be evaluated(minimized) by the model. Used as accuracy criteria to imporve model performance. \n",
    "\n",
    "*kernel_initializer*: **uniform**  the distribution with which we randomly initialize weights for the nodes in this layer. "
   ]
  },
  {
   "cell_type": "code",
   "execution_count": 15,
   "metadata": {
    "_cell_guid": "269e47c9-d147-4013-b704-3f74fd344315",
    "_uuid": "827b3e0bb61ebad44f545d74b8bc021bbca6f1b2"
   },
   "outputs": [],
   "source": [
    "classifier.compile(optimizer='adam', loss = 'binary_crossentropy', metrics=['accuracy'])"
   ]
  },
  {
   "cell_type": "markdown",
   "metadata": {
    "_cell_guid": "db47d3e6-fd4f-461d-aa7a-b743c6fcf260",
    "_uuid": "d303bdd6aeb12b5ef9bd58d7a695ecfbc66bb131"
   },
   "source": [
    "## Fitting the Neural Network\n",
    "This is where we will be fitting the ANN to our training set.\n",
    "\n",
    "#### The breakdown of the inputs for compiling is as follows:\n",
    "\n",
    "** X_train** The independent variable portion of the data which needs to be fitted with the model.\n",
    "\n",
    "** Y_train** The output portion of the data which the model needs to produce after fitting.\n",
    "\n",
    "*batch_size*:  How often we want to back-propogate the error values so that individual node weights can be adjusted. \n",
    "\n",
    "*nb_epochs*: The number of times we want to run the entire test data over again to tune the weights. This is like the fuel of the algorithm. "
   ]
  },
  {
   "cell_type": "code",
   "execution_count": 16,
   "metadata": {
    "_cell_guid": "5ab480db-3223-4577-87d9-27ab42572679",
    "_uuid": "2373dff1ff229dbe72f41418035daf29049804df"
   },
   "outputs": [
    {
     "name": "stdout",
     "output_type": "stream",
     "text": [
      "WARNING:tensorflow:From /home/admin1/anaconda3/envs/newenvt/lib/python3.5/site-packages/tensorflow/python/ops/math_ops.py:3066: to_int32 (from tensorflow.python.ops.math_ops) is deprecated and will be removed in a future version.\n",
      "Instructions for updating:\n",
      "Use tf.cast instead.\n",
      "Epoch 1/10\n",
      "6400/6400 [==============================] - 1s 138us/step - loss: 0.5013 - acc: 0.7953\n",
      "Epoch 2/10\n",
      "6400/6400 [==============================] - 0s 69us/step - loss: 0.4299 - acc: 0.7973\n",
      "Epoch 3/10\n",
      "6400/6400 [==============================] - 0s 73us/step - loss: 0.4249 - acc: 0.7973\n",
      "Epoch 4/10\n",
      "6400/6400 [==============================] - 1s 83us/step - loss: 0.4213 - acc: 0.7991\n",
      "Epoch 5/10\n",
      "6400/6400 [==============================] - 1s 80us/step - loss: 0.4175 - acc: 0.8169\n",
      "Epoch 6/10\n",
      "6400/6400 [==============================] - 0s 76us/step - loss: 0.4158 - acc: 0.8230\n",
      "Epoch 7/10\n",
      "6400/6400 [==============================] - 0s 74us/step - loss: 0.4144 - acc: 0.8259\n",
      "Epoch 8/10\n",
      "6400/6400 [==============================] - 0s 74us/step - loss: 0.4133 - acc: 0.8272\n",
      "Epoch 9/10\n",
      "6400/6400 [==============================] - 1s 81us/step - loss: 0.4120 - acc: 0.8286\n",
      "Epoch 10/10\n",
      "6400/6400 [==============================] - 0s 77us/step - loss: 0.4102 - acc: 0.8297\n"
     ]
    },
    {
     "data": {
      "text/plain": [
       "<keras.callbacks.History at 0x7fb48d400f28>"
      ]
     },
     "execution_count": 16,
     "metadata": {},
     "output_type": "execute_result"
    }
   ],
   "source": [
    "classifier.fit(X_train, y_train, batch_size=10, epochs=10)"
   ]
  },
  {
   "cell_type": "code",
   "execution_count": 17,
   "metadata": {},
   "outputs": [
    {
     "name": "stdout",
     "output_type": "stream",
     "text": [
      "Epoch 1/10\n",
      "1600/1600 [==============================] - 0s 78us/step - loss: 3.3747 - acc: 0.7906\n",
      "Epoch 2/10\n",
      "1600/1600 [==============================] - 0s 78us/step - loss: 3.3747 - acc: 0.7906\n",
      "Epoch 3/10\n",
      "1600/1600 [==============================] - 0s 76us/step - loss: 3.3747 - acc: 0.7906\n",
      "Epoch 4/10\n",
      "1600/1600 [==============================] - 0s 74us/step - loss: 3.3747 - acc: 0.7906\n",
      "Epoch 5/10\n",
      "1600/1600 [==============================] - 0s 73us/step - loss: 3.3747 - acc: 0.7906\n",
      "Epoch 6/10\n",
      "1600/1600 [==============================] - 0s 73us/step - loss: 3.3747 - acc: 0.7906\n",
      "Epoch 7/10\n",
      "1600/1600 [==============================] - 0s 75us/step - loss: 3.3747 - acc: 0.7906\n",
      "Epoch 8/10\n",
      "1600/1600 [==============================] - 0s 72us/step - loss: 3.3747 - acc: 0.7906\n",
      "Epoch 9/10\n",
      "1600/1600 [==============================] - 0s 74us/step - loss: 3.3747 - acc: 0.7906\n",
      "Epoch 10/10\n",
      "1600/1600 [==============================] - 0s 78us/step - loss: 3.3747 - acc: 0.7906\n"
     ]
    },
    {
     "data": {
      "text/plain": [
       "<keras.callbacks.History at 0x7fb48c7cf3c8>"
      ]
     },
     "execution_count": 17,
     "metadata": {},
     "output_type": "execute_result"
    }
   ],
   "source": [
    "classifier.fit(X_cv, y_cv, batch_size=10, epochs=10)"
   ]
  },
  {
   "cell_type": "code",
   "execution_count": 18,
   "metadata": {},
   "outputs": [],
   "source": [
    "classifier.save(\"Pickel_classifier/model.h5\")"
   ]
  },
  {
   "cell_type": "markdown",
   "metadata": {
    "_cell_guid": "e4bc3339-634c-4343-9bf3-e5fe86be5b21",
    "_uuid": "05146ba8ae06c97f679d19c7785e34fc301a4146"
   },
   "source": [
    "\n",
    "## Testing the ANN\n",
    "### Predicting the coss_validation results\n",
    "\n",
    "This shows the probability of a customer leaving given the testing data. Each row in X_cv corresponds to a row in Y_cv"
   ]
  },
  {
   "cell_type": "code",
   "execution_count": 19,
   "metadata": {
    "_cell_guid": "b8414c74-b1d9-4171-9f01-6b1b2d642c0e",
    "_uuid": "c6f9748ac1c12e6786615c664e4fae7d34238dd5"
   },
   "outputs": [
    {
     "name": "stdout",
     "output_type": "stream",
     "text": [
      "[[0.]\n",
      " [0.]\n",
      " [0.]\n",
      " ...\n",
      " [0.]\n",
      " [0.]\n",
      " [0.]]\n"
     ]
    }
   ],
   "source": [
    "y_pred = classifier.predict(X_cv)\n",
    "print(y_pred)"
   ]
  },
  {
   "cell_type": "markdown",
   "metadata": {
    "_cell_guid": "dadcf0b3-ec7d-496a-b9ee-733f74d147a0",
    "_uuid": "d114142f9b8006cd824e5321d973b410cf1f8242"
   },
   "source": [
    "To use the confusion Matrix, we need to convert the probabilities that a customer will leave the bank into the form true or false. So we will use the cutoff value 0.5 to indicate whether they are likely to exit or not."
   ]
  },
  {
   "cell_type": "code",
   "execution_count": 20,
   "metadata": {
    "_uuid": "5f4bb08d445fa6d6c993ba60605cde284e219117"
   },
   "outputs": [
    {
     "name": "stdout",
     "output_type": "stream",
     "text": [
      "[[False]\n",
      " [False]\n",
      " [False]\n",
      " ...\n",
      " [False]\n",
      " [False]\n",
      " [False]]\n"
     ]
    }
   ],
   "source": [
    "y_pred = (y_pred > 0.5)\n",
    "print(y_pred)"
   ]
  },
  {
   "cell_type": "markdown",
   "metadata": {
    "_cell_guid": "b8881ad3-48e7-431b-a542-94cd2660cfbd",
    "_uuid": "6237093831507136636bade49c4349277ab63c6a"
   },
   "source": [
    "### Making the Confusion Matrix"
   ]
  },
  {
   "cell_type": "code",
   "execution_count": 21,
   "metadata": {
    "_cell_guid": "358df9a9-dade-46b7-a9bc-dafc280a7adc",
    "_uuid": "f436bf213e921eb5b6737fcd7eb1b4224fe34426"
   },
   "outputs": [
    {
     "name": "stdout",
     "output_type": "stream",
     "text": [
      "[[1265    0]\n",
      " [ 335    0]]\n"
     ]
    }
   ],
   "source": [
    "from sklearn.metrics import confusion_matrix\n",
    "cm = confusion_matrix(y_cv, y_pred)\n",
    "print(cm)"
   ]
  },
  {
   "cell_type": "markdown",
   "metadata": {
    "_uuid": "9ff2ad9056ebbe20f12af51f40db84e448d66cdf"
   },
   "source": [
    "### Significance of the confusion matrix value:\n",
    "\n",
    "The output should be close to the table below:\n",
    "\n",
    "||Predicted: No |Predicted: Yes|\n",
    " |------| |------|   |------|  \n",
    " |Actual: No|1504|91|\n",
    "|Actual: Yes|184|221\n"
   ]
  },
  {
   "cell_type": "markdown",
   "metadata": {
    "_uuid": "b325f0488247557f52e548b5f190f014ba77f547"
   },
   "source": [
    "This means that we should have about $(1504 + 221) = 1726$ correct classifications out of our total testing data size of $2000$.\n",
    "This means that our accuracy for this trial was $1726 \\div 2000 = 86.3\\%$, which matches the classifier's prediction"
   ]
  },
  {
   "cell_type": "code",
   "execution_count": 22,
   "metadata": {
    "_uuid": "55c3603bb82dacfd17aa53769f2db2a24d4fc3f7"
   },
   "outputs": [
    {
     "name": "stdout",
     "output_type": "stream",
     "text": [
      "79.0625 % of testing data was classified correctly\n"
     ]
    }
   ],
   "source": [
    "print (((cm[0][0]+cm[1][1])*100)/(cm[0][0]+cm[1][1]+cm[0][1]+cm[1][0]), '% of testing data was classified correctly')"
   ]
  },
  {
   "cell_type": "code",
   "execution_count": 23,
   "metadata": {},
   "outputs": [
    {
     "name": "stdout",
     "output_type": "stream",
     "text": [
      "\n",
      "              precision    recall  f1-score   support\n",
      "\n",
      "          0       0.79      1.00      0.88      1265\n",
      "          1       0.00      0.00      0.00       335\n",
      "\n",
      "avg / total       0.63      0.79      0.70      1600\n",
      "\n"
     ]
    },
    {
     "name": "stderr",
     "output_type": "stream",
     "text": [
      "/home/admin1/anaconda3/envs/newenvt/lib/python3.5/site-packages/sklearn/metrics/classification.py:1135: UndefinedMetricWarning: Precision and F-score are ill-defined and being set to 0.0 in labels with no predicted samples.\n",
      "  'precision', 'predicted', average, warn_for)\n"
     ]
    }
   ],
   "source": [
    "from sklearn.metrics import classification_report\n",
    "print(\"\\n\",classification_report(y_cv, y_pred))"
   ]
  }
 ],
 "metadata": {
  "kernelspec": {
   "display_name": "Python 3",
   "language": "python",
   "name": "python3"
  },
  "language_info": {
   "codemirror_mode": {
    "name": "ipython",
    "version": 3
   },
   "file_extension": ".py",
   "mimetype": "text/x-python",
   "name": "python",
   "nbconvert_exporter": "python",
   "pygments_lexer": "ipython3",
   "version": "3.5.5"
  }
 },
 "nbformat": 4,
 "nbformat_minor": 1
}
