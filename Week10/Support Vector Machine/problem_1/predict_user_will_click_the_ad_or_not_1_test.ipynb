{
 "cells": [
  {
   "cell_type": "code",
   "execution_count": 1,
   "metadata": {},
   "outputs": [],
   "source": [
    "# model to predict user will click the ad or not based on his experience and estimated salary for a given data"
   ]
  },
  {
   "cell_type": "code",
   "execution_count": 2,
   "metadata": {},
   "outputs": [],
   "source": [
    "# import libraries\n",
    "import os\n",
    "# ignore warnings\n",
    "import warnings\n",
    "warnings.filterwarnings('ignore')\n",
    "# feature scaling\n",
    "from sklearn.preprocessing import StandardScaler\n",
    "# for handling categorical data\n",
    "from sklearn.preprocessing import LabelEncoder\n",
    "from sklearn.preprocessing import Imputer\n",
    "# for logistic regression model\n",
    "from sklearn.linear_model import LogisticRegression\n",
    "# import function python file\n",
    "import importlib.util\n",
    "from sklearn.metrics import confusion_matrix\n",
    "\n",
    "import pickle"
   ]
  },
  {
   "cell_type": "code",
   "execution_count": 3,
   "metadata": {},
   "outputs": [],
   "source": [
    "# importing template file \n",
    "spec = importlib.util.spec_from_file_location(\"function\", \"/home/admin1/PycharmProjects/Machine-Learning-Followship-Program/week10/Utility/common_function.py\")\n",
    "foo = importlib.util.module_from_spec(spec)\n",
    "spec.loader.exec_module(foo)\n",
    "# creating object of Template class\n",
    "object_common_function = foo.function()\n"
   ]
  },
  {
   "cell_type": "code",
   "execution_count": 4,
   "metadata": {},
   "outputs": [
    {
     "name": "stdout",
     "output_type": "stream",
     "text": [
      "test_data has 120 rows and 3 Columns\n"
     ]
    }
   ],
   "source": [
    "# load train dataset\n",
    "\n",
    "test_data = object_common_function.load_data(\"CSV_files/test_file.csv\")\n",
    "print(\"test_data has {} rows and {} Columns\".format(test_data.shape[0],test_data.shape[1]))"
   ]
  },
  {
   "cell_type": "code",
   "execution_count": 5,
   "metadata": {},
   "outputs": [
    {
     "name": "stdout",
     "output_type": "stream",
     "text": [
      "<class 'pandas.core.frame.DataFrame'>\n",
      "RangeIndex: 120 entries, 0 to 119\n",
      "Data columns (total 3 columns):\n",
      "Age                120 non-null int64\n",
      "EstimatedSalary    120 non-null int64\n",
      "Purchased          120 non-null int64\n",
      "dtypes: int64(3)\n",
      "memory usage: 2.9 KB\n"
     ]
    }
   ],
   "source": [
    "# check information \n",
    "\n",
    "test_data.info()"
   ]
  },
  {
   "cell_type": "code",
   "execution_count": 6,
   "metadata": {},
   "outputs": [
    {
     "data": {
      "text/html": [
       "<div>\n",
       "<style scoped>\n",
       "    .dataframe tbody tr th:only-of-type {\n",
       "        vertical-align: middle;\n",
       "    }\n",
       "\n",
       "    .dataframe tbody tr th {\n",
       "        vertical-align: top;\n",
       "    }\n",
       "\n",
       "    .dataframe thead th {\n",
       "        text-align: right;\n",
       "    }\n",
       "</style>\n",
       "<table border=\"1\" class=\"dataframe\">\n",
       "  <thead>\n",
       "    <tr style=\"text-align: right;\">\n",
       "      <th></th>\n",
       "      <th>Age</th>\n",
       "      <th>EstimatedSalary</th>\n",
       "      <th>Purchased</th>\n",
       "    </tr>\n",
       "  </thead>\n",
       "  <tbody>\n",
       "    <tr>\n",
       "      <th>0</th>\n",
       "      <td>30</td>\n",
       "      <td>87000</td>\n",
       "      <td>0</td>\n",
       "    </tr>\n",
       "    <tr>\n",
       "      <th>1</th>\n",
       "      <td>38</td>\n",
       "      <td>50000</td>\n",
       "      <td>0</td>\n",
       "    </tr>\n",
       "    <tr>\n",
       "      <th>2</th>\n",
       "      <td>35</td>\n",
       "      <td>75000</td>\n",
       "      <td>0</td>\n",
       "    </tr>\n",
       "    <tr>\n",
       "      <th>3</th>\n",
       "      <td>30</td>\n",
       "      <td>79000</td>\n",
       "      <td>0</td>\n",
       "    </tr>\n",
       "    <tr>\n",
       "      <th>4</th>\n",
       "      <td>35</td>\n",
       "      <td>50000</td>\n",
       "      <td>0</td>\n",
       "    </tr>\n",
       "  </tbody>\n",
       "</table>\n",
       "</div>"
      ],
      "text/plain": [
       "   Age  EstimatedSalary  Purchased\n",
       "0   30            87000          0\n",
       "1   38            50000          0\n",
       "2   35            75000          0\n",
       "3   30            79000          0\n",
       "4   35            50000          0"
      ]
     },
     "execution_count": 6,
     "metadata": {},
     "output_type": "execute_result"
    }
   ],
   "source": [
    "test_data.head()"
   ]
  },
  {
   "cell_type": "code",
   "execution_count": 7,
   "metadata": {},
   "outputs": [],
   "source": [
    "# split dataset in feature and label\n",
    "\n",
    "x_test = test_data.iloc[:,[0,1]].values\n",
    "y_test = test_data.iloc[:,2].values"
   ]
  },
  {
   "cell_type": "code",
   "execution_count": null,
   "metadata": {},
   "outputs": [],
   "source": []
  },
  {
   "cell_type": "code",
   "execution_count": 8,
   "metadata": {},
   "outputs": [
    {
     "name": "stdout",
     "output_type": "stream",
     "text": [
      "\n",
      " confusion_matrix\n",
      " [[72  7]\n",
      " [ 7 34]]\n"
     ]
    },
    {
     "name": "stderr",
     "output_type": "stream",
     "text": [
      "'c' argument looks like a single numeric RGB or RGBA sequence, which should be avoided as value-mapping will have precedence in case its length matches with 'x' & 'y'.  Please use a 2-D array with a single row if you really want to specify the same RGB or RGBA value for all points.\n",
      "'c' argument looks like a single numeric RGB or RGBA sequence, which should be avoided as value-mapping will have precedence in case its length matches with 'x' & 'y'.  Please use a 2-D array with a single row if you really want to specify the same RGB or RGBA value for all points.\n"
     ]
    },
    {
     "data": {
      "image/png": "[encoded data removed]",
      "text/plain": [
       "<Figure size 432x288 with 1 Axes>"
      ]
     },
     "metadata": {
      "needs_background": "light"
     },
     "output_type": "display_data"
    },
    {
     "name": "stdout",
     "output_type": "stream",
     "text": [
      "Accuracy: accuracy_score : 88.33333333333333\n",
      "Accuracy: average_precision_score : 74.60192345825897\n",
      "Accuracy:  balanced_accuracy_score : 87.03303488731089\n",
      "Accuracy:  hamming_loss : 0.11666666666666667\n",
      "Accuracy:  fbeta_score : 88.33333333333333\n"
     ]
    }
   ],
   "source": [
    "class Support_Vector_Machine:\n",
    "    \n",
    "    def feature_scale(self,x_test):\n",
    "        sc_x = StandardScaler()\n",
    "        x_test = sc_x.fit_transform(x_test)\n",
    "        return x_test\n",
    "        \n",
    "    # load logistic regression model\n",
    "    \n",
    "    def load(self):\n",
    "        # dump train model pickle file\n",
    "        file = open('trainmodel.pkl', 'rb')\n",
    "        pickle_in = pickle.load(file)\n",
    "        return pickle_in\n",
    "    \n",
    "    # confusion matrix\n",
    "    \n",
    "    def confusion_matrix(self,y_test,y_predict): \n",
    "        cm = confusion_matrix(y_test,y_predict)\n",
    "        return cm\n",
    "    \n",
    "    \n",
    "    \n",
    "def main(x_test,y_test):\n",
    "    \n",
    "    # object\n",
    "    object_LR = Support_Vector_Machine()\n",
    "    \n",
    "    \n",
    "    x_test = object_LR.feature_scale(x_test)    \n",
    "    pickle_in = object_LR.load()\n",
    "    \n",
    "    y_predict = object_common_function.prediction(x_test,pickle_in)\n",
    "    \n",
    "    confusion_mat = object_LR.confusion_matrix(y_test,y_predict)\n",
    "    print(\"\\n confusion_matrix\\n\",confusion_mat )\n",
    "    \n",
    "    object_common_function.visualisation(x_test,y_test,pickle_in)\n",
    "    \n",
    "    accuracy,accuracy1,accuracy2,accuracy3,acc = object_common_function.Accuracy(y_test,y_predict)\n",
    "    \n",
    "    \n",
    "    \n",
    "if __name__ == '__main__':\n",
    "    main(x_test,y_test)"
   ]
  },
  {
   "cell_type": "code",
   "execution_count": null,
   "metadata": {},
   "outputs": [],
   "source": []
  }
 ],
 "metadata": {
  "kernelspec": {
   "display_name": "Python 3",
   "language": "python",
   "name": "python3"
  },
  "language_info": {
   "codemirror_mode": {
    "name": "ipython",
    "version": 3
   },
   "file_extension": ".py",
   "mimetype": "text/x-python",
   "name": "python",
   "nbconvert_exporter": "python",
   "pygments_lexer": "ipython3",
   "version": "3.7.2"
  }
 },
 "nbformat": 4,
 "nbformat_minor": 2
}
