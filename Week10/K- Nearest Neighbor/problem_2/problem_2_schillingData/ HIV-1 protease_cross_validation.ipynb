{
 "cells": [
  {
   "cell_type": "code",
   "execution_count": 1,
   "metadata": {},
   "outputs": [],
   "source": [
    "# model to predict user will click the ad or not based on his experience and estimated salary for a given data"
   ]
  },
  {
   "cell_type": "code",
   "execution_count": 2,
   "metadata": {},
   "outputs": [],
   "source": [
    "# import libraries\n",
    "import os\n",
    "import pandas as pd\n",
    "# ignore warnings\n",
    "import warnings\n",
    "warnings.filterwarnings('ignore')\n",
    "# feature scaling\n",
    "from sklearn.preprocessing import StandardScaler\n",
    "# for handling categorical data\n",
    "from sklearn.preprocessing import LabelEncoder\n",
    "from sklearn.preprocessing import Imputer\n",
    "# for logistic regression model\n",
    "from sklearn.neighbors import KNeighborsClassifier\n",
    "# import function python file\n",
    "import importlib.util\n",
    "from sklearn.metrics import confusion_matrix\n",
    "\n",
    "import pickle"
   ]
  },
  {
   "cell_type": "code",
   "execution_count": 3,
   "metadata": {},
   "outputs": [],
   "source": [
    "# importing template file \n",
    "spec = importlib.util.spec_from_file_location(\"function\", \"/home/admin1/PycharmProjects/Machine-Learning-Followship-Program/week10/Utility/common_function.py\")\n",
    "foo = importlib.util.module_from_spec(spec)\n",
    "spec.loader.exec_module(foo)\n",
    "# creating object of Template class\n",
    "object_common_function = foo.function()\n"
   ]
  },
  {
   "cell_type": "code",
   "execution_count": 4,
   "metadata": {},
   "outputs": [
    {
     "name": "stdout",
     "output_type": "stream",
     "text": [
      "cross_data has 851 rows and 9 Columns\n"
     ]
    }
   ],
   "source": [
    "# load train dataset\n",
    "\n",
    "cross_data = object_common_function.load_data(\"CSV_files/crossV_file.csv\")\n",
    "print(\"cross_data has {} rows and {} Columns\".format(cross_data.shape[0],cross_data.shape[1]))"
   ]
  },
  {
   "cell_type": "code",
   "execution_count": 5,
   "metadata": {},
   "outputs": [
    {
     "name": "stdout",
     "output_type": "stream",
     "text": [
      "<class 'pandas.core.frame.DataFrame'>\n",
      "RangeIndex: 851 entries, 0 to 850\n",
      "Data columns (total 9 columns):\n",
      "A         851 non-null object\n",
      "B         851 non-null object\n",
      "C         851 non-null object\n",
      "D         851 non-null object\n",
      "E         851 non-null object\n",
      "F         851 non-null object\n",
      "G         851 non-null object\n",
      "H         851 non-null object\n",
      "Result    851 non-null int64\n",
      "dtypes: int64(1), object(8)\n",
      "memory usage: 59.9+ KB\n"
     ]
    }
   ],
   "source": [
    "# check information \n",
    "\n",
    "cross_data.info()"
   ]
  },
  {
   "cell_type": "code",
   "execution_count": 6,
   "metadata": {},
   "outputs": [
    {
     "data": {
      "text/html": [
       "<div>\n",
       "<style scoped>\n",
       "    .dataframe tbody tr th:only-of-type {\n",
       "        vertical-align: middle;\n",
       "    }\n",
       "\n",
       "    .dataframe tbody tr th {\n",
       "        vertical-align: top;\n",
       "    }\n",
       "\n",
       "    .dataframe thead th {\n",
       "        text-align: right;\n",
       "    }\n",
       "</style>\n",
       "<table border=\"1\" class=\"dataframe\">\n",
       "  <thead>\n",
       "    <tr style=\"text-align: right;\">\n",
       "      <th></th>\n",
       "      <th>A</th>\n",
       "      <th>B</th>\n",
       "      <th>C</th>\n",
       "      <th>D</th>\n",
       "      <th>E</th>\n",
       "      <th>F</th>\n",
       "      <th>G</th>\n",
       "      <th>H</th>\n",
       "      <th>Result</th>\n",
       "    </tr>\n",
       "  </thead>\n",
       "  <tbody>\n",
       "    <tr>\n",
       "      <th>0</th>\n",
       "      <td>E</td>\n",
       "      <td>A</td>\n",
       "      <td>N</td>\n",
       "      <td>K</td>\n",
       "      <td>I</td>\n",
       "      <td>G</td>\n",
       "      <td>F</td>\n",
       "      <td>E</td>\n",
       "      <td>-1</td>\n",
       "    </tr>\n",
       "    <tr>\n",
       "      <th>1</th>\n",
       "      <td>E</td>\n",
       "      <td>K</td>\n",
       "      <td>E</td>\n",
       "      <td>Q</td>\n",
       "      <td>I</td>\n",
       "      <td>V</td>\n",
       "      <td>P</td>\n",
       "      <td>K</td>\n",
       "      <td>-1</td>\n",
       "    </tr>\n",
       "    <tr>\n",
       "      <th>2</th>\n",
       "      <td>L</td>\n",
       "      <td>A</td>\n",
       "      <td>P</td>\n",
       "      <td>I</td>\n",
       "      <td>S</td>\n",
       "      <td>S</td>\n",
       "      <td>S</td>\n",
       "      <td>K</td>\n",
       "      <td>-1</td>\n",
       "    </tr>\n",
       "    <tr>\n",
       "      <th>3</th>\n",
       "      <td>F</td>\n",
       "      <td>D</td>\n",
       "      <td>G</td>\n",
       "      <td>A</td>\n",
       "      <td>L</td>\n",
       "      <td>N</td>\n",
       "      <td>V</td>\n",
       "      <td>D</td>\n",
       "      <td>-1</td>\n",
       "    </tr>\n",
       "    <tr>\n",
       "      <th>4</th>\n",
       "      <td>L</td>\n",
       "      <td>D</td>\n",
       "      <td>L</td>\n",
       "      <td>G</td>\n",
       "      <td>G</td>\n",
       "      <td>S</td>\n",
       "      <td>S</td>\n",
       "      <td>F</td>\n",
       "      <td>-1</td>\n",
       "    </tr>\n",
       "  </tbody>\n",
       "</table>\n",
       "</div>"
      ],
      "text/plain": [
       "   A  B  C  D  E  F  G  H  Result\n",
       "0  E  A  N  K  I  G  F  E      -1\n",
       "1  E  K  E  Q  I  V  P  K      -1\n",
       "2  L  A  P  I  S  S  S  K      -1\n",
       "3  F  D  G  A  L  N  V  D      -1\n",
       "4  L  D  L  G  G  S  S  F      -1"
      ]
     },
     "execution_count": 6,
     "metadata": {},
     "output_type": "execute_result"
    }
   ],
   "source": [
    "cross_data.head()"
   ]
  },
  {
   "cell_type": "code",
   "execution_count": 7,
   "metadata": {},
   "outputs": [],
   "source": [
    "# x = dataset.iloc[:,1:].values\n",
    "x_cv = cross_data.loc[:, cross_data.columns != 'Result']\n",
    "y_cv = cross_data.iloc[:,cross_data.columns == 'Result']"
   ]
  },
  {
   "cell_type": "code",
   "execution_count": 8,
   "metadata": {},
   "outputs": [],
   "source": [
    "x_cv=object_common_function.one_hot_encoding(x_cv)\n",
    "x_cv= pd.DataFrame(x_cv)"
   ]
  },
  {
   "cell_type": "code",
   "execution_count": 9,
   "metadata": {},
   "outputs": [
    {
     "name": "stdout",
     "output_type": "stream",
     "text": [
      "\n",
      " confusion_matrix\n",
      " [[720  11]\n",
      " [ 49  71]]\n",
      "Accuracy: accuracy_score : 92.94947121034077\n",
      "Accuracy: average_precision_score : 56.98760664163633\n",
      "Accuracy:  balanced_accuracy_score : 78.83093935248517\n",
      "Accuracy:  hamming_loss : 7.050528789659224\n",
      "Accuracy:  fbeta_score : 92.94947121034079\n"
     ]
    }
   ],
   "source": [
    "class K_Nearest_Neighbor:\n",
    "    \n",
    "    def feature_scale(self,x_cv):\n",
    "        sc_x = StandardScaler()\n",
    "        x_cv = sc_x.fit_transform(x_cv)\n",
    "        return x_cv\n",
    "        \n",
    "    # load logistic regression model\n",
    "    \n",
    "    def load(self):\n",
    "        # dump train model pickle file\n",
    "        file = open('trainmodel.pkl', 'rb')\n",
    "        pickle_in = pickle.load(file)\n",
    "        return pickle_in\n",
    "    \n",
    "    # confusion matrix\n",
    "    \n",
    "    def confusion_matrix(self,y_cv,y_predict): \n",
    "        cm = confusion_matrix(y_cv,y_predict)\n",
    "        return cm\n",
    "    \n",
    "    \n",
    "    \n",
    "def main(x_cv,y_cv):\n",
    "    \n",
    "    # object\n",
    "    object_LR = K_Nearest_Neighbor()\n",
    "    \n",
    "    \n",
    "    x_cv = object_LR.feature_scale(x_cv)    \n",
    "    pickle_in = object_LR.load()\n",
    "    \n",
    "    y_predict = object_common_function.prediction(x_cv,pickle_in)\n",
    "    \n",
    "    confusion_mat = object_LR.confusion_matrix(y_cv,y_predict)\n",
    "    print(\"\\n confusion_matrix\\n\",confusion_mat )\n",
    "    \n",
    "#     object_common_function.visualisation(x_cv,y_cv,pickle_in)\n",
    "    \n",
    "    accuracy,accuracy1,accuracy2,accuracy3,acc = object_common_function.Accuracy(y_cv,y_predict)\n",
    "#     print(\"Accuracy : \",accuracy,accuracy1,accuracy2,accuracy3,acc)\n",
    "    \n",
    "    \n",
    "if __name__ == '__main__':\n",
    "    main(x_cv,y_cv)"
   ]
  },
  {
   "cell_type": "code",
   "execution_count": null,
   "metadata": {},
   "outputs": [],
   "source": []
  }
 ],
 "metadata": {
  "kernelspec": {
   "display_name": "Python 3",
   "language": "python",
   "name": "python3"
  },
  "language_info": {
   "codemirror_mode": {
    "name": "ipython",
    "version": 3
   },
   "file_extension": ".py",
   "mimetype": "text/x-python",
   "name": "python",
   "nbconvert_exporter": "python",
   "pygments_lexer": "ipython3",
   "version": "3.7.2"
  }
 },
 "nbformat": 4,
 "nbformat_minor": 2
}
