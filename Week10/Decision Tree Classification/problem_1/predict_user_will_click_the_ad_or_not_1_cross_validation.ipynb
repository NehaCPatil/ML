
{
 "cells": [
  {
   "cell_type": "code",
   "execution_count": 1,
   "metadata": {},
   "outputs": [],
   "source": [
    "# model to predict user will click the ad or not based on his experience and estimated salary for a given data"
   ]
  },
  {
   "cell_type": "code",
   "execution_count": 2,
   "metadata": {},
   "outputs": [],
   "source": [
    "# import libraries\n",
    "import os\n",
    "# ignore warnings\n",
    "import warnings\n",
    "warnings.filterwarnings('ignore')\n",
    "# feature scaling\n",
    "from sklearn.preprocessing import StandardScaler\n",
    "# for handling categorical data\n",
    "from sklearn.preprocessing import LabelEncoder\n",
    "from sklearn.preprocessing import Imputer\n",
    "\n",
    "# import function python file\n",
    "import importlib.util\n",
    "from sklearn.metrics import confusion_matrix\n",
    "\n",
    "import pickle"
   ]
  },
  {
   "cell_type": "code",
   "execution_count": 3,
   "metadata": {},
   "outputs": [],
   "source": [
    "# importing template file \n",
    "spec = importlib.util.spec_from_file_location(\"function\", \"/home/admin1/PycharmProjects/Machine-Learning-Followship-Program/week10/Utility/common_function.py\")\n",
    "foo = importlib.util.module_from_spec(spec)\n",
    "spec.loader.exec_module(foo)\n",
    "# creating object of Template class\n",
    "object_common_function = foo.function()\n"
   ]
  },
  {
   "cell_type": "code",
   "execution_count": 4,
   "metadata": {},
   "outputs": [
    {
     "name": "stdout",
     "output_type": "stream",
     "text": [
      "cross_data has 56 rows and 3 Columns\n"
     ]
    }
   ],
   "source": [
    "# load train dataset\n",
    "\n",
    "cross_data = object_common_function.load_data(\"CSV_files/crossV_file.csv\")\n",
    "print(\"cross_data has {} rows and {} Columns\".format(cross_data.shape[0],cross_data.shape[1]))"
   ]
  },
  {
   "cell_type": "code",
   "execution_count": 5,
   "metadata": {},
   "outputs": [
    {
     "name": "stdout",
     "output_type": "stream",
     "text": [
      "<class 'pandas.core.frame.DataFrame'>\n",
      "RangeIndex: 56 entries, 0 to 55\n",
      "Data columns (total 3 columns):\n",
      "Age                56 non-null int64\n",
      "EstimatedSalary    56 non-null int64\n",
      "Purchased          56 non-null int64\n",
      "dtypes: int64(3)\n",
      "memory usage: 1.4 KB\n"
     ]
    }
   ],
   "source": [
    "# check information \n",
    "\n",
    "cross_data.info()"
   ]
  },
  {
   "cell_type": "code",
   "execution_count": 6,
   "metadata": {},
   "outputs": [
    {
     "data": {
      "text/html": [
       "<div>\n",
       "<style scoped>\n",
       "    .dataframe tbody tr th:only-of-type {\n",
       "        vertical-align: middle;\n",
       "    }\n",
       "\n",
       "    .dataframe tbody tr th {\n",
       "        vertical-align: top;\n",
       "    }\n",
       "\n",
       "    .dataframe thead th {\n",
       "        text-align: right;\n",
       "    }\n",
       "</style>\n",
       "<table border=\"1\" class=\"dataframe\">\n",
       "  <thead>\n",
       "    <tr style=\"text-align: right;\">\n",
       "      <th></th>\n",
       "      <th>Age</th>\n",
       "      <th>EstimatedSalary</th>\n",
       "      <th>Purchased</th>\n",
       "    </tr>\n",
       "  </thead>\n",
       "  <tbody>\n",
       "    <tr>\n",
       "      <th>0</th>\n",
       "      <td>25</td>\n",
       "      <td>80000</td>\n",
       "      <td>0</td>\n",
       "    </tr>\n",
       "    <tr>\n",
       "      <th>1</th>\n",
       "      <td>24</td>\n",
       "      <td>19000</td>\n",
       "      <td>0</td>\n",
       "    </tr>\n",
       "    <tr>\n",
       "      <th>2</th>\n",
       "      <td>46</td>\n",
       "      <td>88000</td>\n",
       "      <td>1</td>\n",
       "    </tr>\n",
       "    <tr>\n",
       "      <th>3</th>\n",
       "      <td>40</td>\n",
       "      <td>57000</td>\n",
       "      <td>0</td>\n",
       "    </tr>\n",
       "    <tr>\n",
       "      <th>4</th>\n",
       "      <td>56</td>\n",
       "      <td>104000</td>\n",
       "      <td>1</td>\n",
       "    </tr>\n",
       "  </tbody>\n",
       "</table>\n",
       "</div>"
      ],
      "text/plain": [
       "   Age  EstimatedSalary  Purchased\n",
       "0   25            80000          0\n",
       "1   24            19000          0\n",
       "2   46            88000          1\n",
       "3   40            57000          0\n",
       "4   56           104000          1"
      ]
     },
     "execution_count": 6,
     "metadata": {},
     "output_type": "execute_result"
    }
   ],
   "source": [
    "cross_data.head()"
   ]
  },
  {
   "cell_type": "code",
   "execution_count": 7,
   "metadata": {},
   "outputs": [],
   "source": [
    "# split dataset in feature and label\n",
    "\n",
    "x_cv = cross_data.iloc[:,[0,1]].values\n",
    "y_cv = cross_data.iloc[:,2].values"
   ]
  },
  {
   "cell_type": "code",
   "execution_count": 8,
   "metadata": {},
   "outputs": [
    {
     "name": "stderr",
     "output_type": "stream",
     "text": [
      "'c' argument looks like a single numeric RGB or RGBA sequence, which should be avoided as value-mapping will have precedence in case its length matches with 'x' & 'y'.  Please use a 2-D array with a single row if you really want to specify the same RGB or RGBA value for all points.\n",
      "'c' argument looks like a single numeric RGB or RGBA sequence, which should be avoided as value-mapping will have precedence in case its length matches with 'x' & 'y'.  Please use a 2-D array with a single row if you really want to specify the same RGB or RGBA value for all points.\n"
     ]
    },
    {
     "name": "stdout",
     "output_type": "stream",
     "text": [
      "\n",
      " confusion_matrix\n",
      " [[36  4]\n",
      " [ 1 15]]\n"
     ]
    },
    {
     "data": {
      "image/png": "[encoded data removed]",
      "text/plain": [
       "<Figure size 432x288 with 1 Axes>"
      ]
     },
     "metadata": {
      "needs_background": "light"
     },
     "output_type": "display_data"
    },
    {
     "name": "stdout",
     "output_type": "stream",
     "text": [
      "Accuracy: accuracy_score : 91.07142857142857\n",
      "Accuracy: average_precision_score : 75.79887218045114\n",
      "Accuracy:  balanced_accuracy_score : 91.875\n",
      "Accuracy:  hamming_loss : 0.08928571428571429\n",
      "Accuracy:  fbeta_score : 91.07142857142857\n"
     ]
    }
   ],
   "source": [
    "class Decision_Tree_Classification:\n",
    "    \n",
    "    def feature_scale(self,x_cv):\n",
    "        sc_x = StandardScaler()\n",
    "        x_cv = sc_x.fit_transform(x_cv)\n",
    "        return x_cv\n",
    "        \n",
    "    # load logistic regression model\n",
    "    \n",
    "    def load(self):\n",
    "        # dump train model pickle file\n",
    "        file = open('trainmodel.pkl', 'rb')\n",
    "        pickle_in = pickle.load(file)\n",
    "        return pickle_in\n",
    "    \n",
    "    # confusion matrix\n",
    "    \n",
    "    def confusion_matrix(self,y_cv,y_predict): \n",
    "        cm = confusion_matrix(y_cv,y_predict)\n",
    "        return cm\n",
    "    \n",
    "    \n",
    "    \n",
    "def main(x_cv,y_cv):\n",
    "    \n",
    "    # object\n",
    "    object_LR = Decision_Tree_Classification()\n",
    "    \n",
    "    \n",
    "    x_cv = object_LR.feature_scale(x_cv)    \n",
    "    pickle_in = object_LR.load()\n",
    "    \n",
    "    y_predict = object_common_function.prediction(x_cv,pickle_in)\n",
    "    \n",
    "    confusion_mat = object_LR.confusion_matrix(y_cv,y_predict)\n",
    "    print(\"\\n confusion_matrix\\n\",confusion_mat )\n",
    "    \n",
    "    object_common_function.visualisation(x_cv,y_cv,pickle_in)\n",
    "    \n",
    "    accuracy,accuracy1,accuracy2,accuracy3,acc = object_common_function.Accuracy(y_cv,y_predict)\n",
    "    \n",
    "    \n",
    "    \n",
    "if __name__ == '__main__':\n",
    "    main(x_cv,y_cv)"
   ]
  },
  {
   "cell_type": "code",
   "execution_count": null,
   "metadata": {},
   "outputs": [],
   "source": []
  }
 ],
 "metadata": {
  "kernelspec": {
   "display_name": "Python 3",
   "language": "python",
   "name": "python3"
  },
  "language_info": {
   "codemirror_mode": {
    "name": "ipython",
    "version": 3
   },
   "file_extension": ".py",
   "mimetype": "text/x-python",
   "name": "python",
   "nbconvert_exporter": "python",
   "pygments_lexer": "ipython3",
   "version": "3.7.2"
  }
 },
 "nbformat": 4,
 "nbformat_minor": 2
}
