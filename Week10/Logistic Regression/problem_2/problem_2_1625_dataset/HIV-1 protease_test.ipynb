{
 "cells": [
  {
   "cell_type": "code",
   "execution_count": 1,
   "metadata": {},
   "outputs": [],
   "source": [
    "# model to predict user will click the ad or not based on his experience and estimated salary for a given data"
   ]
  },
  {
   "cell_type": "code",
   "execution_count": 23,
   "metadata": {},
   "outputs": [],
   "source": [
    "# import libraries\n",
    "import os\n",
    "import pandas as pd\n",
    "# ignore warnings\n",
    "import warnings\n",
    "warnings.filterwarnings('ignore')\n",
    "# feature scaling\n",
    "from sklearn.preprocessing import StandardScaler\n",
    "# for handling categorical data\n",
    "from sklearn.preprocessing import LabelEncoder\n",
    "from sklearn.preprocessing import Imputer\n",
    "# for logistic regression model\n",
    "from sklearn.linear_model import LogisticRegression\n",
    "# import function python file\n",
    "import importlib.util\n",
    "\n",
    "from sklearn.metrics import confusion_matrix\n",
    "\n",
    "import pickle"
   ]
  },
  {
   "cell_type": "code",
   "execution_count": 24,
   "metadata": {},
   "outputs": [],
   "source": [
    "# importing template file \n",
    "spec = importlib.util.spec_from_file_location(\"function\", \"/home/admin1/PycharmProjects/Machine-Learning-Followship-Program/week10/Utility/common_function.py\")\n",
    "foo = importlib.util.module_from_spec(spec)\n",
    "spec.loader.exec_module(foo)\n",
    "# creating object of Template class\n",
    "object_common_function = foo.function()\n"
   ]
  },
  {
   "cell_type": "code",
   "execution_count": 25,
   "metadata": {},
   "outputs": [
    {
     "name": "stdout",
     "output_type": "stream",
     "text": [
      "test_data has 488 rows and 9 Columns\n"
     ]
    }
   ],
   "source": [
    "# load train dataset\n",
    "\n",
    "test_data = object_common_function.load_data(\"CSV_files/test_file.csv\")\n",
    "print(\"test_data has {} rows and {} Columns\".format(test_data.shape[0],test_data.shape[1]))"
   ]
  },
  {
   "cell_type": "code",
   "execution_count": 26,
   "metadata": {},
   "outputs": [
    {
     "name": "stdout",
     "output_type": "stream",
     "text": [
      "<class 'pandas.core.frame.DataFrame'>\n",
      "RangeIndex: 488 entries, 0 to 487\n",
      "Data columns (total 9 columns):\n",
      "A         488 non-null object\n",
      "B         488 non-null object\n",
      "C         488 non-null object\n",
      "D         488 non-null object\n",
      "E         488 non-null object\n",
      "F         488 non-null object\n",
      "G         488 non-null object\n",
      "H         488 non-null object\n",
      "Result    488 non-null int64\n",
      "dtypes: int64(1), object(8)\n",
      "memory usage: 34.4+ KB\n"
     ]
    }
   ],
   "source": [
    "# check information \n",
    "\n",
    "test_data.info()"
   ]
  },
  {
   "cell_type": "code",
   "execution_count": 27,
   "metadata": {},
   "outputs": [
    {
     "data": {
      "text/html": [
       "<div>\n",
       "<style scoped>\n",
       "    .dataframe tbody tr th:only-of-type {\n",
       "        vertical-align: middle;\n",
       "    }\n",
       "\n",
       "    .dataframe tbody tr th {\n",
       "        vertical-align: top;\n",
       "    }\n",
       "\n",
       "    .dataframe thead th {\n",
       "        text-align: right;\n",
       "    }\n",
       "</style>\n",
       "<table border=\"1\" class=\"dataframe\">\n",
       "  <thead>\n",
       "    <tr style=\"text-align: right;\">\n",
       "      <th></th>\n",
       "      <th>A</th>\n",
       "      <th>B</th>\n",
       "      <th>C</th>\n",
       "      <th>D</th>\n",
       "      <th>E</th>\n",
       "      <th>F</th>\n",
       "      <th>G</th>\n",
       "      <th>H</th>\n",
       "      <th>Result</th>\n",
       "    </tr>\n",
       "  </thead>\n",
       "  <tbody>\n",
       "    <tr>\n",
       "      <th>0</th>\n",
       "      <td>S</td>\n",
       "      <td>D</td>\n",
       "      <td>T</td>\n",
       "      <td>Y</td>\n",
       "      <td>Y</td>\n",
       "      <td>A</td>\n",
       "      <td>D</td>\n",
       "      <td>S</td>\n",
       "      <td>1</td>\n",
       "    </tr>\n",
       "    <tr>\n",
       "      <th>1</th>\n",
       "      <td>P</td>\n",
       "      <td>N</td>\n",
       "      <td>V</td>\n",
       "      <td>S</td>\n",
       "      <td>L</td>\n",
       "      <td>A</td>\n",
       "      <td>M</td>\n",
       "      <td>T</td>\n",
       "      <td>1</td>\n",
       "    </tr>\n",
       "    <tr>\n",
       "      <th>2</th>\n",
       "      <td>H</td>\n",
       "      <td>L</td>\n",
       "      <td>R</td>\n",
       "      <td>E</td>\n",
       "      <td>Y</td>\n",
       "      <td>Q</td>\n",
       "      <td>D</td>\n",
       "      <td>L</td>\n",
       "      <td>-1</td>\n",
       "    </tr>\n",
       "    <tr>\n",
       "      <th>3</th>\n",
       "      <td>Q</td>\n",
       "      <td>G</td>\n",
       "      <td>N</td>\n",
       "      <td>F</td>\n",
       "      <td>L</td>\n",
       "      <td>Q</td>\n",
       "      <td>S</td>\n",
       "      <td>R</td>\n",
       "      <td>1</td>\n",
       "    </tr>\n",
       "    <tr>\n",
       "      <th>4</th>\n",
       "      <td>S</td>\n",
       "      <td>T</td>\n",
       "      <td>D</td>\n",
       "      <td>Y</td>\n",
       "      <td>G</td>\n",
       "      <td>I</td>\n",
       "      <td>L</td>\n",
       "      <td>Q</td>\n",
       "      <td>-1</td>\n",
       "    </tr>\n",
       "  </tbody>\n",
       "</table>\n",
       "</div>"
      ],
      "text/plain": [
       "   A  B  C  D  E  F  G  H  Result\n",
       "0  S  D  T  Y  Y  A  D  S       1\n",
       "1  P  N  V  S  L  A  M  T       1\n",
       "2  H  L  R  E  Y  Q  D  L      -1\n",
       "3  Q  G  N  F  L  Q  S  R       1\n",
       "4  S  T  D  Y  G  I  L  Q      -1"
      ]
     },
     "execution_count": 27,
     "metadata": {},
     "output_type": "execute_result"
    }
   ],
   "source": [
    "test_data.head()"
   ]
  },
  {
   "cell_type": "code",
   "execution_count": 28,
   "metadata": {},
   "outputs": [],
   "source": [
    "# x = dataset.iloc[:,1:].values\n",
    "x_test = test_data.loc[:, test_data.columns != 'Result']\n",
    "y_test = test_data.iloc[:,test_data.columns == 'Result']"
   ]
  },
  {
   "cell_type": "code",
   "execution_count": 29,
   "metadata": {},
   "outputs": [],
   "source": [
    "x_test=object_common_function.one_hot_encoding(x_test)\n",
    "x_test= pd.DataFrame(x_test)"
   ]
  },
  {
   "cell_type": "code",
   "execution_count": 30,
   "metadata": {},
   "outputs": [
    {
     "name": "stdout",
     "output_type": "stream",
     "text": [
      "(488, 160)\n",
      "\n",
      " confusion_matrix\n",
      " [[364   4]\n",
      " [  4 116]]\n",
      "Accuracy: accuracy_score : 98.36065573770492\n",
      "Accuracy: average_precision_score : 94.26411657559198\n",
      "Accuracy:  balanced_accuracy_score : 97.78985507246377\n",
      "Accuracy:  hamming_loss : 1.639344262295082\n",
      "Accuracy:  fbeta_score : 98.3606557377049\n"
     ]
    }
   ],
   "source": [
    "class Logistic_regression:\n",
    "    \n",
    "    def feature_scale(x_test):\n",
    "        sc_x = StandardScaler()\n",
    "        x_test = sc_x.fit_transform(x_test)\n",
    "        return x_test\n",
    "        \n",
    "    # load logistic regression model\n",
    "    \n",
    "    def load():\n",
    "        # dump train model pickle file\n",
    "        file = open('trainmodel.pkl', 'rb')\n",
    "        pickle_in = pickle.load(file)\n",
    "        return pickle_in\n",
    "    \n",
    "    # confusion matrix\n",
    "    \n",
    "    def confusion_matrix(y_test,y_predict): \n",
    "        cm = confusion_matrix(y_test,y_predict)\n",
    "        return cm\n",
    "    \n",
    "    \n",
    "    \n",
    "def main(x_test,y_test):\n",
    "    \n",
    "    # object\n",
    "    object_LR = Logistic_regression\n",
    "    \n",
    "    \n",
    "    x_test = object_LR.feature_scale(x_test)  \n",
    "    print(x_test.shape)\n",
    "    pickle_in = object_LR.load()\n",
    "    \n",
    "    y_predict = object_common_function.prediction(x_test,pickle_in)\n",
    "    \n",
    "    confusion_mat = object_LR.confusion_matrix(y_test,y_predict)\n",
    "    print(\"\\n confusion_matrix\\n\",confusion_mat )\n",
    "    \n",
    "#     object_common_function.visualisation(x_test,y_test,pickle_in)\n",
    "    \n",
    "    accuracy,accuracy1,accuracy2,accuracy3,acc = object_common_function.Accuracy(y_test,y_predict)\n",
    "#     print(\"Accuracy : \",accuracy,accuracy1,accuracy2,accuracy3,acc)\n",
    "    \n",
    "    \n",
    "if __name__ == '__main__':\n",
    "    main(x_test,y_test)"
   ]
  },
  {
   "cell_type": "code",
   "execution_count": null,
   "metadata": {},
   "outputs": [],
   "source": []
  }
 ],
 "metadata": {
  "kernelspec": {
   "display_name": "Python 3",
   "language": "python",
   "name": "python3"
  },
  "language_info": {
   "codemirror_mode": {
    "name": "ipython",
    "version": 3
   },
   "file_extension": ".py",
   "mimetype": "text/x-python",
   "name": "python",
   "nbconvert_exporter": "python",
   "pygments_lexer": "ipython3",
   "version": "3.7.2"
  }
 },
 "nbformat": 4,
 "nbformat_minor": 2
}
