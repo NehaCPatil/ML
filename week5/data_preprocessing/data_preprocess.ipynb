{
 "cells": [
  {
   "cell_type": "code",
   "execution_count": 1,
   "metadata": {},
   "outputs": [],
   "source": [
    "import pandas as pd\n",
    "import numpy as np\n",
    "\n",
    "# class data preprocessing\n",
    "class Data_preprocessing:\n",
    "    \n",
    "    # fuction for display csv file\n",
    "    def display_data(self):\n",
    "        \n",
    "        # Exception handling for file \n",
    "        try:\n",
    "            # for user input file name\n",
    "            self.file = input(\"\\n Enter file name:-\")\n",
    "            \n",
    "            # read csv file\n",
    "            self.df = pd.read_csv(self.file)\n",
    "            # print(\"\\n Read file\",df.head(15))\n",
    "            print(self.df)\n",
    "        \n",
    "        # if file not found the error\n",
    "        except OSError as e:\n",
    "            # print exception\n",
    "            print(\"File not found\")\n",
    "   \n",
    "\n",
    "    \"\"\"Handling missing data\"\"\"\n",
    "    def handling_missing_data(self):\n",
    "        \n",
    "        # check data type of all variable\n",
    "        print(\"\\n\",self.df.dtypes)\n",
    "        \n",
    "        # check for null value\n",
    "        print(\"\\n\\n\",self.df.isnull().sum())\n",
    "\n",
    "        # replacing missing values with mean\n",
    "\n",
    "        print(\"\\n\\n\",self.df['Age'].replace(np.NaN,self.df['Age'].mean(), inplace = True))\n",
    "        print(\"\\n\\n\",self.df['Salary'].replace(np.NaN,self.df['Age'].mean(), inplace = True))\n",
    "        # print file\n",
    "        print(self.df)\n",
    "        \n",
    "        \n",
    "    \"\"\"Handling categorical data\"\"\"\n",
    "    \n",
    "    def handling_categorical_data(self):\n",
    "        \n",
    "        # create dummy variable\n",
    "        Country_dummies = pd.get_dummies(self.df['Country'],prefix='Country')\n",
    "        \n",
    "        # concate with dataframe\n",
    "        my_file = pd.concat([self.df,Country_dummies], axis =1)\n",
    "        print(my_file)\n",
    "        \n",
    "        # create dummy Variable for Purchased\n",
    "        self.df['Purchased_dummies'] = self.df.Purchased.map({ 'Yes':1,'No':0 })\n",
    "        print(self.df)\n",
    "\n",
    "        \n",
    "    \"\"\"Split the dataset into training set and test set\"\"\"\n",
    "    \n",
    "    def split_dataset_into_training_test(self):\n",
    "        \n",
    "        train_per = int(0.70*len(self.df))\n",
    "        test_per = len(self.df)-train_per\n",
    "        X_train_set = self.df.head(train_per)\n",
    "        Y_train_set = self.df.tail(test_per)\n",
    "        \n",
    "        # display data\n",
    "        print(\"\\n\\n Training set\")\n",
    "        print(X_train_set)\n",
    "        print(\"\\n\\n Test data set\")\n",
    "        print(Y_train_set)\n",
    "           \n",
    "    \"\"\"Feature scaling\"\"\"  \n",
    "    def feature_scaling(self):\n",
    "        # Simple feature scaling\n",
    "        self.df[\"Age\"] = self.df[\"Age\"]/self.df[\"Age\"].max()\n",
    "        self.df[\"Salary\"]= self.df[\"Salary\"]/self.df[\"Salary\"].max()\n",
    "        print(\"Simple feature scaling\")\n",
    "        print(self.df)\n",
    "        \n",
    "        # Min-Max\n",
    "        self.df[\"Age\"] = (self.df[\"Age\"]-self.df[\"Age\"].min())/(self.df[\"Age\"].max()-self.df[\"Age\"].min())\n",
    "        self.df[\"Salary\"] = (self.df[\"Salary\"]-self.df[\"Salary\"].min())/(self.df[\"Salary\"].max()-self.df[\"Salary\"].min())\n",
    "        print(\"Min-max\")\n",
    "        print(self.df)\n",
    "        \n",
    "        # Z-Score\n",
    "        self.df[\"Age\"]= (self.df[\"Age\"]-self.df[\"Age\"].mean())/self.df[\"Age\"].std()\n",
    "        self.df[\"Salary\"]= (self.df[\"Salary\"]-self.df[\"Salary\"].mean())/self.df[\"Salary\"].std()\n",
    "        print(\"Z-Score\")\n",
    "        print(self.df)\n",
    "        \n",
    "        \n",
    "\n",
    "object_class = Data_preprocessing()\n"
   ]
  },
  {
   "cell_type": "code",
   "execution_count": 2,
   "metadata": {},
   "outputs": [
    {
     "name": "stdout",
     "output_type": "stream",
     "text": [
      "\n",
      " Enter file name:-data_preprocessing.csv\n",
      "   Country   Age   Salary Purchased\n",
      "0   France  44.0  72000.0        No\n",
      "1    Spain  27.0  48000.0       Yes\n",
      "2  Germany  30.0  54000.0        No\n",
      "3    Spain  38.0  61000.0        No\n",
      "4  Germany  40.0      NaN       Yes\n",
      "5   France  35.0  58000.0       Yes\n",
      "6    Spain   NaN  52000.0        No\n",
      "7   France  48.0  79000.0       Yes\n",
      "8  Germany  50.0  83000.0        No\n",
      "9   France  37.0  67000.0       Yes\n"
     ]
    }
   ],
   "source": [
    "object_class.display_data()\n",
    "\n"
   ]
  },
  {
   "cell_type": "code",
   "execution_count": 3,
   "metadata": {},
   "outputs": [
    {
     "name": "stdout",
     "output_type": "stream",
     "text": [
      "\n",
      " Country       object\n",
      "Age          float64\n",
      "Salary       float64\n",
      "Purchased     object\n",
      "dtype: object\n",
      "\n",
      "\n",
      " Country      0\n",
      "Age          1\n",
      "Salary       1\n",
      "Purchased    0\n",
      "dtype: int64\n",
      "\n",
      "\n",
      " None\n",
      "\n",
      "\n",
      " None\n",
      "   Country        Age        Salary Purchased\n",
      "0   France  44.000000  72000.000000        No\n",
      "1    Spain  27.000000  48000.000000       Yes\n",
      "2  Germany  30.000000  54000.000000        No\n",
      "3    Spain  38.000000  61000.000000        No\n",
      "4  Germany  40.000000     38.777778       Yes\n",
      "5   France  35.000000  58000.000000       Yes\n",
      "6    Spain  38.777778  52000.000000        No\n",
      "7   France  48.000000  79000.000000       Yes\n",
      "8  Germany  50.000000  83000.000000        No\n",
      "9   France  37.000000  67000.000000       Yes\n"
     ]
    }
   ],
   "source": [
    "\n",
    "object_class.handling_missing_data()\n"
   ]
  },
  {
   "cell_type": "code",
   "execution_count": 4,
   "metadata": {},
   "outputs": [
    {
     "name": "stdout",
     "output_type": "stream",
     "text": [
      "   Country        Age        Salary Purchased  Country_France  \\\n",
      "0   France  44.000000  72000.000000        No               1   \n",
      "1    Spain  27.000000  48000.000000       Yes               0   \n",
      "2  Germany  30.000000  54000.000000        No               0   \n",
      "3    Spain  38.000000  61000.000000        No               0   \n",
      "4  Germany  40.000000     38.777778       Yes               0   \n",
      "5   France  35.000000  58000.000000       Yes               1   \n",
      "6    Spain  38.777778  52000.000000        No               0   \n",
      "7   France  48.000000  79000.000000       Yes               1   \n",
      "8  Germany  50.000000  83000.000000        No               0   \n",
      "9   France  37.000000  67000.000000       Yes               1   \n",
      "\n",
      "   Country_Germany  Country_Spain  \n",
      "0                0              0  \n",
      "1                0              1  \n",
      "2                1              0  \n",
      "3                0              1  \n",
      "4                1              0  \n",
      "5                0              0  \n",
      "6                0              1  \n",
      "7                0              0  \n",
      "8                1              0  \n",
      "9                0              0  \n",
      "   Country        Age        Salary Purchased  Purchased_dummies\n",
      "0   France  44.000000  72000.000000        No                  0\n",
      "1    Spain  27.000000  48000.000000       Yes                  1\n",
      "2  Germany  30.000000  54000.000000        No                  0\n",
      "3    Spain  38.000000  61000.000000        No                  0\n",
      "4  Germany  40.000000     38.777778       Yes                  1\n",
      "5   France  35.000000  58000.000000       Yes                  1\n",
      "6    Spain  38.777778  52000.000000        No                  0\n",
      "7   France  48.000000  79000.000000       Yes                  1\n",
      "8  Germany  50.000000  83000.000000        No                  0\n",
      "9   France  37.000000  67000.000000       Yes                  1\n"
     ]
    }
   ],
   "source": [
    "\n",
    "object_class.handling_categorical_data()"
   ]
  },
  {
   "cell_type": "code",
   "execution_count": 5,
   "metadata": {},
   "outputs": [
    {
     "name": "stdout",
     "output_type": "stream",
     "text": [
      "\n",
      "\n",
      " Training set\n",
      "   Country        Age        Salary Purchased  Purchased_dummies\n",
      "0   France  44.000000  72000.000000        No                  0\n",
      "1    Spain  27.000000  48000.000000       Yes                  1\n",
      "2  Germany  30.000000  54000.000000        No                  0\n",
      "3    Spain  38.000000  61000.000000        No                  0\n",
      "4  Germany  40.000000     38.777778       Yes                  1\n",
      "5   France  35.000000  58000.000000       Yes                  1\n",
      "6    Spain  38.777778  52000.000000        No                  0\n",
      "\n",
      "\n",
      " Test data set\n",
      "   Country   Age   Salary Purchased  Purchased_dummies\n",
      "7   France  48.0  79000.0       Yes                  1\n",
      "8  Germany  50.0  83000.0        No                  0\n",
      "9   France  37.0  67000.0       Yes                  1\n"
     ]
    }
   ],
   "source": [
    "\n",
    "object_class.split_dataset_into_training_test()"
   ]
  },
  {
   "cell_type": "code",
   "execution_count": 6,
   "metadata": {},
   "outputs": [
    {
     "name": "stdout",
     "output_type": "stream",
     "text": [
      "Simple feature scaling\n",
      "   Country       Age    Salary Purchased  Purchased_dummies\n",
      "0   France  0.880000  0.867470        No                  0\n",
      "1    Spain  0.540000  0.578313       Yes                  1\n",
      "2  Germany  0.600000  0.650602        No                  0\n",
      "3    Spain  0.760000  0.734940        No                  0\n",
      "4  Germany  0.800000  0.000467       Yes                  1\n",
      "5   France  0.700000  0.698795       Yes                  1\n",
      "6    Spain  0.775556  0.626506        No                  0\n",
      "7   France  0.960000  0.951807       Yes                  1\n",
      "8  Germany  1.000000  1.000000        No                  0\n",
      "9   France  0.740000  0.807229       Yes                  1\n",
      "Min-max\n",
      "   Country       Age    Salary Purchased  Purchased_dummies\n",
      "0   France  0.739130  0.867408        No                  0\n",
      "1    Spain  0.000000  0.578116       Yes                  1\n",
      "2  Germany  0.130435  0.650439        No                  0\n",
      "3    Spain  0.478261  0.734816        No                  0\n",
      "4  Germany  0.565217  0.000000       Yes                  1\n",
      "5   France  0.347826  0.698654       Yes                  1\n",
      "6    Spain  0.512077  0.626331        No                  0\n",
      "7   France  0.913043  0.951785       Yes                  1\n",
      "8  Germany  1.000000  1.000000        No                  0\n",
      "9   France  0.434783  0.807139       Yes                  1\n",
      "Z-Score\n",
      "   Country       Age    Salary Purchased  Purchased_dummies\n",
      "0   France  0.719931  0.628120        No                  0\n",
      "1    Spain -1.623675 -0.404681       Yes                  1\n",
      "2  Germany -1.210098 -0.146480        No                  0\n",
      "3    Spain -0.107224  0.154753        No                  0\n",
      "4  Germany  0.168495 -2.468614       Yes                  1\n",
      "5   France -0.520801  0.025653       Yes                  1\n",
      "6    Spain  0.000000 -0.232547        No                  0\n",
      "7   France  1.271368  0.929354       Yes                  1\n",
      "8  Germany  1.547087  1.101487        No                  0\n",
      "9   France -0.245083  0.412953       Yes                  1\n"
     ]
    }
   ],
   "source": [
    "object_class.feature_scaling()"
   ]
  },
  {
   "cell_type": "code",
   "execution_count": null,
   "metadata": {},
   "outputs": [],
   "source": []
  },
  {
   "cell_type": "code",
   "execution_count": null,
   "metadata": {},
   "outputs": [],
   "source": []
  }
 ],
 "metadata": {
  "kernelspec": {
   "display_name": "Python 3",
   "language": "python",
   "name": "python3"
  },
  "language_info": {
   "codemirror_mode": {
    "name": "ipython",
    "version": 3
   },
   "file_extension": ".py",
   "mimetype": "text/x-python",
   "name": "python",
   "nbconvert_exporter": "python",
   "pygments_lexer": "ipython3",
   "version": "3.7.2"
  }
 },
 "nbformat": 4,
 "nbformat_minor": 2
}

