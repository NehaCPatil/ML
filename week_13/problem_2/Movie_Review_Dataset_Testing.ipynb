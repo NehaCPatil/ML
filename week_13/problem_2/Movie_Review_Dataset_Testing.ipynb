{
 "cells": [
  {
   "cell_type": "markdown",
   "metadata": {},
   "source": [
    "#  Large Movie Review Dataset\n",
    "\n",
    "We provide a set of 25,000 highly polar movie reviews for training, and 25,000 for testing. \n",
    "There is additional unlabeled data for use as well. \n",
    "Raw text and already processed bag of words formats are provided\n"
   ]
  },
  {
   "cell_type": "code",
   "execution_count": 1,
   "metadata": {},
   "outputs": [],
   "source": [
    "import nltk\n",
    "import random\n",
    "import pickle\n",
    "from nltk.corpus import movie_reviews\n",
    "import os\n",
    "import pandas as pd"
   ]
  },
  {
   "cell_type": "markdown",
   "metadata": {},
   "source": [
    "### Load model"
   ]
  },
  {
   "cell_type": "code",
   "execution_count": 6,
   "metadata": {},
   "outputs": [],
   "source": [
    "# open a file, where you stored the pickled testing_data\n",
    "file = open('testing.pickel', 'rb')\n",
    "\n",
    "# dump information to that file\n",
    "data = pickle.load(file)"
   ]
  },
  {
   "cell_type": "code",
   "execution_count": 3,
   "metadata": {},
   "outputs": [],
   "source": [
    "# open a file, where you stored the pickled naivebayes data\n",
    "\n",
    "classifier_f = open(\"naivebayes.pickle\", \"rb\")\n",
    "classifier = pickle.load(classifier_f)\n",
    "classifier_f.close()"
   ]
  },
  {
   "cell_type": "code",
   "execution_count": 4,
   "metadata": {},
   "outputs": [
    {
     "name": "stdout",
     "output_type": "stream",
     "text": [
      "Classifier accuracy percent testing_set: 83.0\n"
     ]
    }
   ],
   "source": [
    "print(\"Classifier accuracy percent testing_set:\",(nltk.classify.accuracy(classifier, data))*100)"
   ]
  },
  {
   "cell_type": "code",
   "execution_count": 5,
   "metadata": {},
   "outputs": [
    {
     "name": "stdout",
     "output_type": "stream",
     "text": [
      "Most Informative Features\n",
      "                   sucks = True              neg : pos    =      9.8 : 1.0\n",
      "                  annual = True              pos : neg    =      9.0 : 1.0\n",
      "                 idiotic = True              neg : pos    =      8.4 : 1.0\n",
      "           unimaginative = True              neg : pos    =      8.3 : 1.0\n",
      "             silverstone = True              neg : pos    =      7.7 : 1.0\n",
      "              schumacher = True              neg : pos    =      7.4 : 1.0\n",
      "                  suvari = True              neg : pos    =      7.0 : 1.0\n",
      "                 frances = True              pos : neg    =      7.0 : 1.0\n",
      "                    mena = True              neg : pos    =      7.0 : 1.0\n",
      "                  regard = True              pos : neg    =      7.0 : 1.0\n",
      "               atrocious = True              neg : pos    =      7.0 : 1.0\n",
      "                 kidding = True              neg : pos    =      6.3 : 1.0\n",
      "                  shoddy = True              neg : pos    =      6.3 : 1.0\n",
      "                  turkey = True              neg : pos    =      6.3 : 1.0\n",
      "                 cunning = True              pos : neg    =      6.3 : 1.0\n"
     ]
    }
   ],
   "source": [
    "classifier.show_most_informative_features(15)"
   ]
  }
 ],
 "metadata": {
  "kernelspec": {
   "display_name": "Python 3",
   "language": "python",
   "name": "python3"
  },
  "language_info": {
   "codemirror_mode": {
    "name": "ipython",
    "version": 3
   },
   "file_extension": ".py",
   "mimetype": "text/x-python",
   "name": "python",
   "nbconvert_exporter": "python",
   "pygments_lexer": "ipython3",
   "version": "3.7.2"
  }
 },
 "nbformat": 4,
 "nbformat_minor": 2
}
