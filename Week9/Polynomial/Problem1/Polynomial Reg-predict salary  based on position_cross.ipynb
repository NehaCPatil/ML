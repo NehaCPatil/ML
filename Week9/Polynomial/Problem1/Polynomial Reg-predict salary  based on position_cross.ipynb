{
 "cells": [
  {
   "cell_type": "code",
   "execution_count": 5,
   "metadata": {
    "ExecuteTime": {
     "end_time": "2019-05-02T04:36:47.171260Z",
     "start_time": "2019-05-02T04:36:46.145758Z"
    }
   },
   "outputs": [],
   "source": [
    "#importing the libraries\n",
    "import numpy as np\n",
    "import matplotlib.pyplot as plt\n",
    "from matplotlib import pyplot as plt  \n",
    "import pandas as pd\n",
    "\n",
    "#regression librarry\n",
    "from sklearn.linear_model import LinearRegression  \n",
    "from sklearn.preprocessing import PolynomialFeatures\n",
    "\n",
    "#o check accuracy\n",
    "from sklearn.metrics import accuracy_score\n",
    "# to check accuracy\n",
    "from sklearn.metrics import *\n",
    "\n",
    "import pickle \n",
    "import os, sys\n",
    "import csv\n",
    "\n",
    "# ignore warnings\n",
    "import warnings\n",
    "warnings.filterwarnings('ignore')\n",
    "\n"
   ]
  },
  {
   "cell_type": "code",
   "execution_count": 6,
   "metadata": {},
   "outputs": [
    {
     "name": "stdout",
     "output_type": "stream",
     "text": [
      "Dataset has 3 rows and 2 Columns\n"
     ]
    }
   ],
   "source": [
    "# Cross Validation\n",
    "\n",
    "# load dataset\n",
    "CV_dataset = pd.read_csv (\"CSV_files/CValidation_file.csv\")\n",
    "print(\"Dataset has {} rows and {} Columns\".format(CV_dataset.shape[0],CV_dataset.shape[1])) "
   ]
  },
  {
   "cell_type": "code",
   "execution_count": 7,
   "metadata": {},
   "outputs": [],
   "source": [
    "# seperate fetures and label\n",
    "x_cv = CV_dataset.iloc[:,:-1].values\n",
    "y_cv = CV_dataset.iloc[:,1].values"
   ]
  },
  {
   "cell_type": "code",
   "execution_count": 9,
   "metadata": {},
   "outputs": [
    {
     "data": {
      "text/plain": [
       "LinearRegression(copy_X=True, fit_intercept=True, n_jobs=None,\n",
       "         normalize=False)"
      ]
     },
     "execution_count": 9,
     "metadata": {},
     "output_type": "execute_result"
    }
   ],
   "source": [
    "# # fitting simple linear regression model to the training dataset\n",
    "lin_reg = LinearRegression(normalize=True)  \n",
    "lin_reg.fit( x_cv, y_cv)  \n",
    "\n",
    "# fitting polynomial regression model to the training dataset\n",
    "poly_reg = PolynomialFeatures(degree=5)\n",
    "x_poly = poly_reg.fit_transform(x_cv)\n",
    "# fit into multiple Linear regression model\n",
    "lin_reg2 = LinearRegression()\n",
    "lin_reg2.fit(x_poly,y_cv)"
   ]
  },
  {
   "cell_type": "code",
   "execution_count": 10,
   "metadata": {},
   "outputs": [
    {
     "name": "stdout",
     "output_type": "stream",
     "text": [
      "\n",
      " Accuracy train by acc_r2 100.0\n",
      "\n",
      " Accuracy train by median_ab_error 4.3655745685100555e-11\n"
     ]
    },
    {
     "data": {
      "image/png": "[encoded data removed]",
      "text/plain": [
       "<Figure size 432x288 with 1 Axes>"
      ]
     },
     "metadata": {
      "needs_background": "light"
     },
     "output_type": "display_data"
    }
   ],
   "source": [
    "class Cross_validation():\n",
    "           \n",
    "    def y_prediction(self,x_train,lin_reg2,poly_reg):\n",
    "        \n",
    "        # predicting the train set result\n",
    "        \n",
    "        y_pred_train = lin_reg2.predict(poly_reg.fit_transform(x_train))\n",
    "        return y_pred_train\n",
    "        \n",
    "\n",
    "    \n",
    "    def accuracy(self,y_predict_train,y_train):\n",
    "        # acc using r2\n",
    "        acc_r2 = r2_score(y_train, y_predict_train)*100\n",
    "\n",
    "        \n",
    "        # using median_ab_error\n",
    "        median_ab_error = median_absolute_error(y_train, y_predict_train)\n",
    "        return acc_r2, median_ab_error\n",
    "    \n",
    "    def visualization(self,x_cv,y_cv,poly_reg, lin_reg2):\n",
    "        \n",
    "        # visualizing the testing set result\n",
    "        \n",
    "        x_grid=np.arange(min(x_cv),max(x_cv),0.1)\n",
    "        x_grid=x_grid.reshape((len(x_grid),1))\n",
    "        plt.scatter(x_cv,y_cv,color='red')\n",
    "        plt.plot(x_grid,lin_reg2.predict(poly_reg.fit_transform(x_grid)),color='blue')\n",
    "        plt.title('predict salary  based on position (Cross Validation Set)')\n",
    "        plt.xlabel('Level')\n",
    "        plt.ylabel('Salary')\n",
    "        plt.show()\n",
    "        \n",
    "\n",
    "def main():\n",
    "    #class obj created\n",
    "    obj  = Cross_validation()\n",
    "    \n",
    " \n",
    "    \n",
    "    file1 = open('Polynomial_RegModule.pkl', 'rb')\n",
    "    reg1 = pickle.load(file1)\n",
    "    \n",
    "    # y_prediction ( cross validation)   \n",
    "    y_cv_pre = obj.y_prediction(x_cv,lin_reg2,poly_reg)\n",
    "    \n",
    "    \n",
    "    acc_r2, median_ab_error= obj.accuracy(y_cv_pre,y_cv)\n",
    "    print(\"\\n Accuracy train by acc_r2\", acc_r2)\n",
    "    print(\"\\n Accuracy train by median_ab_error\", median_ab_error)\n",
    "\n",
    "    obj.visualization(x_cv,y_cv,poly_reg, lin_reg2)\n",
    "\n",
    "if __name__ == '__main__':\n",
    "    main()\n"
   ]
  }
 ],
 "metadata": {
  "kernelspec": {
   "display_name": "Python 3",
   "language": "python",
   "name": "python3"
  },
  "language_info": {
   "codemirror_mode": {
    "name": "ipython",
    "version": 3
   },
   "file_extension": ".py",
   "mimetype": "text/x-python",
   "name": "python",
   "nbconvert_exporter": "python",
   "pygments_lexer": "ipython3",
   "version": "3.7.2"
  }
 },
 "nbformat": 4,
 "nbformat_minor": 2
}
