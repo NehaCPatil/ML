{
 "cells": [
  {
   "cell_type": "code",
   "execution_count": 27,
   "metadata": {},
   "outputs": [],
   "source": [
    "import os\n",
    "import pandas as pd\n",
    "import pandas.api.types as ptypes\n",
    "import numpy as np\n",
    "import seaborn as sb\n",
    "from matplotlib import pyplot as plt\n",
    "from sklearn.preprocessing import Imputer\n",
    "from sklearn.model_selection import train_test_split\n",
    "from sklearn.linear_model import LinearRegression\n",
    "from sklearn.metrics import *\n",
    "import pickle\n",
    "import csv\n",
    "from sklearn.metrics import accuracy_score"
   ]
  },
  {
   "cell_type": "code",
   "execution_count": 28,
   "metadata": {},
   "outputs": [
    {
     "data": {
      "text/html": [
       "<div>\n",
       "<style scoped>\n",
       "    .dataframe tbody tr th:only-of-type {\n",
       "        vertical-align: middle;\n",
       "    }\n",
       "\n",
       "    .dataframe tbody tr th {\n",
       "        vertical-align: top;\n",
       "    }\n",
       "\n",
       "    .dataframe thead th {\n",
       "        text-align: right;\n",
       "    }\n",
       "</style>\n",
       "<table border=\"1\" class=\"dataframe\">\n",
       "  <thead>\n",
       "    <tr style=\"text-align: right;\">\n",
       "      <th></th>\n",
       "      <th>temp</th>\n",
       "      <th>cnt</th>\n",
       "    </tr>\n",
       "  </thead>\n",
       "  <tbody>\n",
       "    <tr>\n",
       "      <th>0</th>\n",
       "      <td>0.32</td>\n",
       "      <td>9</td>\n",
       "    </tr>\n",
       "    <tr>\n",
       "      <th>1</th>\n",
       "      <td>0.22</td>\n",
       "      <td>156</td>\n",
       "    </tr>\n",
       "    <tr>\n",
       "      <th>2</th>\n",
       "      <td>0.24</td>\n",
       "      <td>11</td>\n",
       "    </tr>\n",
       "    <tr>\n",
       "      <th>3</th>\n",
       "      <td>0.68</td>\n",
       "      <td>13</td>\n",
       "    </tr>\n",
       "    <tr>\n",
       "      <th>4</th>\n",
       "      <td>0.88</td>\n",
       "      <td>102</td>\n",
       "    </tr>\n",
       "  </tbody>\n",
       "</table>\n",
       "</div>"
      ],
      "text/plain": [
       "   temp  cnt\n",
       "0  0.32    9\n",
       "1  0.22  156\n",
       "2  0.24   11\n",
       "3  0.68   13\n",
       "4  0.88  102"
      ]
     },
     "execution_count": 28,
     "metadata": {},
     "output_type": "execute_result"
    }
   ],
   "source": [
    "# Import dataset\n",
    "\n",
    "dataset1 = pd.read_csv(\"CSV/crossV_file.csv\")\n",
    "x =dataset1.iloc[:,:-1].values\n",
    "y =dataset1.iloc[:,1].values\n",
    "dataset1.head()"
   ]
  },
  {
   "cell_type": "code",
   "execution_count": 29,
   "metadata": {},
   "outputs": [
    {
     "name": "stdout",
     "output_type": "stream",
     "text": [
      "The train data has 4519 rows and 2 columns\n"
     ]
    }
   ],
   "source": [
    "# check for num of rows and cols\n",
    "\n",
    "print ('The train data has {0} rows and {1} columns'.format(dataset1.shape[0],dataset1.shape[1]))"
   ]
  },
  {
   "cell_type": "code",
   "execution_count": null,
   "metadata": {},
   "outputs": [],
   "source": [
    "#shape of x train and y train \n",
    "\n",
    "print(\"x train data shape\",x.shape)\n",
    "print(\"y train data shape\",y.shape)"
   ]
  },
  {
   "cell_type": "code",
   "execution_count": null,
   "metadata": {},
   "outputs": [],
   "source": [
    "# load pickle file\n",
    "\n",
    "file = open('trainmodel.pkl', 'rb')\n",
    "pickle_in = pickle.load(file)"
   ]
  },
  {
   "cell_type": "code",
   "execution_count": 30,
   "metadata": {},
   "outputs": [],
   "source": [
    "# dump train model pickle file\n",
    "file = open('trainmodel.pkl', 'rb')\n",
    "pickle_in = pickle.load(file)"
   ]
  },
  {
   "cell_type": "code",
   "execution_count": 31,
   "metadata": {},
   "outputs": [
    {
     "name": "stdout",
     "output_type": "stream",
     "text": [
      "pred_cv [122.65598268  85.70856773  93.09805072 ... 211.32977856 203.94029557\n",
      " 196.55081258]\n"
     ]
    }
   ],
   "source": [
    "# predicting the test set result and train set result\n",
    "\n",
    "y_pred_cv = pickle_in.predict(x)\n",
    "print(\"pred_cv\",y_pred_cv)"
   ]
  },
  {
   "cell_type": "code",
   "execution_count": 33,
   "metadata": {},
   "outputs": [
    {
     "data": {
      "image/png": "[encoded data removed]",
      "text/plain": [
       "<Figure size 432x288 with 1 Axes>"
      ]
     },
     "metadata": {
      "needs_background": "light"
     },
     "output_type": "display_data"
    }
   ],
   "source": [
    "# visualising the training set results\n",
    "\n",
    "plt.scatter(x, y , color = 'blue')\n",
    "plt.plot(x,y_pred_cv, color = 'red')\n",
    "plt.title(\"Salary Vs YearsExperience(Training set)\")\n",
    "plt.xlabel(\"Years of Experience\")\n",
    "plt.ylabel(\"Salary\")\n",
    "plt.show()"
   ]
  },
  {
   "cell_type": "code",
   "execution_count": 35,
   "metadata": {},
   "outputs": [
    {
     "name": "stdout",
     "output_type": "stream",
     "text": [
      "83.752348571412 100.0454656710761\n"
     ]
    }
   ],
   "source": [
    "# Accuracy for train and test\n",
    "# Accuracy = r2_score(y,y_pred_cv)*100\n",
    "error = r2_score(y, y_pred_cv)      \n",
    "acc_r2 = (1-error)*100\n",
    "       \n",
    "# using median_ab_error\n",
    "median_ab_error = median_absolute_error(y, y_pred_cv)\n",
    "print(acc_r2, median_ab_error)"
   ]
  },
  {
   "cell_type": "code",
   "execution_count": null,
   "metadata": {},
   "outputs": [],
   "source": [
    "class Simple_Linear_regression:\n",
    "    \n",
    "    # fitting sample linear regresion to the training set\n",
    "    \n",
    "    def model_train(self,x,y):  \n",
    "        regressor = LinearRegression()\n",
    "        regressor.fit(x,y)\n",
    "        return regressor\n",
    "    \n",
    "    # dump train model pickle file\n",
    "    \n",
    "    def pickel_file(self,regressor):\n",
    "        \n",
    "       \n",
    "        file = open('trainmodel.pkl', 'wb')\n",
    "        pickle.dump(regressor,file)\n",
    "        file.close()\n",
    "    \n",
    "    # predicting the test set result and train set result\n",
    "    \n",
    "    def prediction(self,x,regressor):\n",
    "    \n",
    "        y_pred_train = regressor.predict(x)\n",
    "        return y_pred_train\n",
    "\n",
    "    # Accuracy for train and test\n",
    "    \n",
    "    def accuracy(self,y,y_pred_train):\n",
    "        \n",
    "        # Accuracy = r2_score(y,y_pred_train)*100\n",
    "        error = r2_score(y, y_pred_train)      \n",
    "        acc_r2 = (1-error)*100\n",
    "       \n",
    "        # using median_ab_error\n",
    "        median_ab_error = median_absolute_error(y, y_pred_train)\n",
    "        return acc_r2, median_ab_error\n",
    "        \n",
    "    \n",
    "    # visualising the training set results\n",
    "    \n",
    "    def plotting(self,x, y):\n",
    "        \n",
    "        plt.scatter(x, y , color = 'blue')\n",
    "        plt.plot(x, regressor.predict(x), color = 'red')\n",
    "        plt.title(\"Salary Vs YearsExperience(Training set)\")\n",
    "        plt.xlabel(\"Years of Experience\")\n",
    "        plt.ylabel(\"Salary\")\n",
    "        plt.show()\n",
    "        \n",
    "def main(dataset1,x,y):\n",
    "    \n",
    "    object_SimpleLR = Simple_Linear_regression()\n",
    "    \n",
    "    regressor = object_SimpleLR.model_train(x,y)\n",
    "#     print(\"Regressor : \", regressor)\n",
    "    \n",
    "    object_SimpleLR.pickel_file(regressor)\n",
    "    \n",
    "    \n",
    "    y_pred_train = object_SimpleLR.prediction(x,regressor)\n",
    "#     print(\"prediction of y train data : \",y_pred_train)\n",
    "    \n",
    "    acc_r2, median_ab_error = object_SimpleLR.accuracy(y,y_pred_train)\n",
    "    print(\"Accuracy train data acc_r2 : \", acc_r2)\n",
    "    print(\"Accuracy train data median_ab_error : \",  median_ab_error)\n",
    "    \n",
    "    \n",
    "#     object_SimpleLR.plotting(x,y)\n",
    "    \n",
    "    \n",
    "    \n",
    "    \n",
    "    \n",
    "main(dataset1,x,y)\n",
    "    \n"
   ]
  },
  {
   "cell_type": "code",
   "execution_count": null,
   "metadata": {},
   "outputs": [],
   "source": []
  }
 ],
 "metadata": {
  "kernelspec": {
   "display_name": "Python 3",
   "language": "python",
   "name": "python3"
  },
  "language_info": {
   "codemirror_mode": {
    "name": "ipython",
    "version": 3
   },
   "file_extension": ".py",
   "mimetype": "text/x-python",
   "name": "python",
   "nbconvert_exporter": "python",
   "pygments_lexer": "ipython3",
   "version": "3.7.2"
  }
 },
 "nbformat": 4,
 "nbformat_minor": 2
}
