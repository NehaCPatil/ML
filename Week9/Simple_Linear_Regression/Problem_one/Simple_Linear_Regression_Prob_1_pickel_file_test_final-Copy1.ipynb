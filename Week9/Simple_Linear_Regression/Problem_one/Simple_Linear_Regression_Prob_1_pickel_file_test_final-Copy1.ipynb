{
 "cells": [
  {
   "cell_type": "code",
   "execution_count": 2,
   "metadata": {},
   "outputs": [
    {
     "name": "stdout",
     "output_type": "stream",
     "text": [
      "importing Jupyter notebook from function.ipynb\n"
     ]
    }
   ],
   "source": [
    "import os\n",
    "import pandas as pd\n",
    "import pandas.api.types as ptypes\n",
    "import numpy as np\n",
    "import seaborn as sb\n",
    "from matplotlib import pyplot as plt\n",
    "from sklearn.preprocessing import Imputer\n",
    "from sklearn.model_selection import train_test_split\n",
    "from sklearn.linear_model import LinearRegression\n",
    "from sklearn.metrics import *\n",
    "import pickle\n",
    "import csv\n",
    "\n",
    "import import_ipynb\n",
    "import function\n",
    "\n",
    "from sklearn.metrics import accuracy_score"
   ]
  },
  {
   "cell_type": "code",
   "execution_count": 4,
   "metadata": {},
   "outputs": [
    {
     "data": {
      "text/html": [
       "<div>\n",
       "<style scoped>\n",
       "    .dataframe tbody tr th:only-of-type {\n",
       "        vertical-align: middle;\n",
       "    }\n",
       "\n",
       "    .dataframe tbody tr th {\n",
       "        vertical-align: top;\n",
       "    }\n",
       "\n",
       "    .dataframe thead th {\n",
       "        text-align: right;\n",
       "    }\n",
       "</style>\n",
       "<table border=\"1\" class=\"dataframe\">\n",
       "  <thead>\n",
       "    <tr style=\"text-align: right;\">\n",
       "      <th></th>\n",
       "      <th>x</th>\n",
       "      <th>y</th>\n",
       "    </tr>\n",
       "  </thead>\n",
       "  <tbody>\n",
       "    <tr>\n",
       "      <th>0</th>\n",
       "      <td>1.5</td>\n",
       "      <td>37731.0</td>\n",
       "    </tr>\n",
       "    <tr>\n",
       "      <th>1</th>\n",
       "      <td>10.3</td>\n",
       "      <td>122391.0</td>\n",
       "    </tr>\n",
       "    <tr>\n",
       "      <th>2</th>\n",
       "      <td>4.1</td>\n",
       "      <td>57081.0</td>\n",
       "    </tr>\n",
       "    <tr>\n",
       "      <th>3</th>\n",
       "      <td>3.9</td>\n",
       "      <td>63218.0</td>\n",
       "    </tr>\n",
       "    <tr>\n",
       "      <th>4</th>\n",
       "      <td>9.5</td>\n",
       "      <td>116969.0</td>\n",
       "    </tr>\n",
       "  </tbody>\n",
       "</table>\n",
       "</div>"
      ],
      "text/plain": [
       "      x         y\n",
       "0   1.5   37731.0\n",
       "1  10.3  122391.0\n",
       "2   4.1   57081.0\n",
       "3   3.9   63218.0\n",
       "4   9.5  116969.0"
      ]
     },
     "execution_count": 4,
     "metadata": {},
     "output_type": "execute_result"
    }
   ],
   "source": [
    "# splitting x y data\n",
    "\n",
    "dataset1 = pd.read_csv(\"test_data.csv\")\n",
    "x =dataset1.iloc[:,:-1].values\n",
    "y =dataset1.iloc[:,1].values\n",
    "dataset1.head()"
   ]
  },
  {
   "cell_type": "code",
   "execution_count": 6,
   "metadata": {},
   "outputs": [
    {
     "name": "stdout",
     "output_type": "stream",
     "text": [
      "The train data has 10 rows and 2 columns\n"
     ]
    }
   ],
   "source": [
    "# check for num of rows and cols\n",
    "\n",
    "print ('The train data has {0} rows and {1} columns'.format(dataset1.shape[0],dataset1.shape[1]))"
   ]
  },
  {
   "cell_type": "code",
   "execution_count": 24,
   "metadata": {},
   "outputs": [
    {
     "name": "stdout",
     "output_type": "stream",
     "text": [
      "x train data shape (10, 1)\n",
      "y train data shape (10,)\n"
     ]
    }
   ],
   "source": [
    "#shape of x train and y train \n",
    "\n",
    "print(\"x train data shape\",x.shape)\n",
    "print(\"y train data shape\",y.shape)"
   ]
  },
  {
   "cell_type": "code",
   "execution_count": 25,
   "metadata": {},
   "outputs": [],
   "source": [
    "# load pickle file\n",
    "\n",
    "file = open('trainmodel.pkl', 'rb')\n",
    "pickle_in = pickle.load(file)"
   ]
  },
  {
   "cell_type": "code",
   "execution_count": 31,
   "metadata": {},
   "outputs": [
    {
     "name": "stdout",
     "output_type": "stream",
     "text": [
      "pred_cv [ 39967.14368085 123126.81210966  64537.04571663  62647.05325234\n",
      " 115566.84225249 108006.87239533 116511.83848464  63592.04948449\n",
      "  75877.00050238 100446.90253816]\n"
     ]
    },
    {
     "data": {
      "image/png": "[encoded data removed]",
      "text/plain": [
       "<Figure size 432x288 with 1 Axes>"
      ]
     },
     "metadata": {
      "needs_background": "light"
     },
     "output_type": "display_data"
    },
    {
     "name": "stdout",
     "output_type": "stream",
     "text": [
      "Accuracy Train 97.44559548896645\n"
     ]
    }
   ],
   "source": [
    "class Test_Simple_Lr:\n",
    "    # predicting the test set result and train set result\n",
    "\n",
    "    def predict(self,x):\n",
    "        y_pred_cv = pickle_in.predict(x)\n",
    "        print(\"pred_cv\",y_pred_cv)\n",
    "        return y_pred_cv\n",
    "    \n",
    "    # visualising the training set results\n",
    "    \n",
    "    def visualising(self,x, y):\n",
    "        plt.scatter(x, y , color = 'blue')\n",
    "        plt.plot(x, pickle_in.predict(x), color = 'red')\n",
    "        plt.title(\"Salary Vs YearsExperience(Training set)\")\n",
    "        plt.xlabel(\"Years of Experience\")\n",
    "        plt.ylabel(\"Salary\")\n",
    "        plt.show()\n",
    "    \n",
    "    # Accuracy for train and test\n",
    "    \n",
    "    def Accuracy(self,y,y_pred_cv):\n",
    "        \n",
    "        Accuracy = r2_score(y_pred_cv,y)*100\n",
    "        print(\"Accuracy Train\",Accuracy)\n",
    "        return Accuracy\n",
    "    \n",
    "def main(dataset1,x,y):\n",
    "    obj = Test_Simple_Lr()\n",
    "    \n",
    "    obj.predict(x)\n",
    "    \n",
    "    obj.visualising(x, y)\n",
    "    \n",
    "    obj.Accuracy(y,y_pred_cv)\n",
    "    \n",
    "main(dataset1,x,y)\n",
    "        \n",
    "        \n",
    "        "
   ]
  }
 ],
 "metadata": {
  "kernelspec": {
   "display_name": "Python 3",
   "language": "python",
   "name": "python3"
  },
  "language_info": {
   "codemirror_mode": {
    "name": "ipython",
    "version": 3
   },
   "file_extension": ".py",
   "mimetype": "text/x-python",
   "name": "python",
   "nbconvert_exporter": "python",
   "pygments_lexer": "ipython3",
   "version": "3.7.2"
  }
 },
 "nbformat": 4,
 "nbformat_minor": 2
}
