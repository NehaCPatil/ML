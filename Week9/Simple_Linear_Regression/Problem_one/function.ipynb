{
 "cells": [
  {
   "cell_type": "code",
   "execution_count": 21,
   "metadata": {},
   "outputs": [],
   "source": [
    "def csv_file(x_train_data,y_train_data,file_name):\n",
    "    myData = x_train_data\n",
    "    myFile = open(file_name, 'w')  \n",
    "    with myFile:\n",
    "        writer = csv.writer(myFile)\n",
    "        writer.writerows(myData)\n",
    "    \n",
    "    # colomn\n",
    "    colnames=['x_train'] \n",
    "    df = pd.read_csv(file_name, names=colnames, header=None)\n",
    "    \n",
    "    # inserting column with static value in data frame \n",
    "    df.insert(1, \"y_train\", y_train_data)\n",
    "   \n",
    "    df.to_csv(file_name , index =  False)\n",
    "    \n",
    "# csv_file(x_train_data,y_train_data,file_name)"
   ]
  },
  {
   "cell_type": "code",
   "execution_count": null,
   "metadata": {},
   "outputs": [],
   "source": []
  }
 ],
 "metadata": {
  "kernelspec": {
   "display_name": "Python 3",
   "language": "python",
   "name": "python3"
  },
  "language_info": {
   "codemirror_mode": {
    "name": "ipython",
    "version": 3
   },
   "file_extension": ".py",
   "mimetype": "text/x-python",
   "name": "python",
   "nbconvert_exporter": "python",
   "pygments_lexer": "ipython3",
   "version": "3.7.2"
  }
 },
 "nbformat": 4,
 "nbformat_minor": 2
}
