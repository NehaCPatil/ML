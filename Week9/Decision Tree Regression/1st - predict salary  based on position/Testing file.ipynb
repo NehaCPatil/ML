{
 "cells": [
  {
   "cell_type": "code",
   "execution_count": 1,
   "metadata": {},
   "outputs": [],
   "source": [
    "import numpy as np\n",
    "import matplotlib.pyplot as plt\n",
    "from matplotlib import pyplot as plt  \n",
    "import pandas as pd\n",
    "\n",
    "\n",
    "#o check accuracy\n",
    "from sklearn.metrics import accuracy_score\n",
    "# to check accuracy\n",
    "from sklearn.metrics import *\n",
    "\n",
    "import pickle \n",
    "\n",
    "# ignore warnings\n",
    "import warnings\n",
    "warnings.filterwarnings('ignore')\n",
    "\n",
    "import csv"
   ]
  },
  {
   "cell_type": "code",
   "execution_count": 2,
   "metadata": {},
   "outputs": [
    {
     "name": "stdout",
     "output_type": "stream",
     "text": [
      "Dataset has 2 rows and 3 Columns\n"
     ]
    }
   ],
   "source": [
    "# load dataset\n",
    "test_dataset = pd.read_csv (\"CSV_files/test_file.csv\")\n",
    "print(\"Dataset has {} rows and {} Columns\".format(test_dataset.shape[0],test_dataset.shape[1])) "
   ]
  },
  {
   "cell_type": "code",
   "execution_count": 4,
   "metadata": {},
   "outputs": [
    {
     "name": "stdout",
     "output_type": "stream",
     "text": [
      "y_predict value for 6.5 is  [150000.]\n",
      "\n",
      "Accuracy train by acc_r2 41.73553719008265\n",
      "\n",
      "Accuracy train by mean_sq_log 110000.0\n"
     ]
    },
    {
     "data": {
      "image/png": "[encoded data removed]",
      "text/plain": [
       "<Figure size 432x288 with 1 Axes>"
      ]
     },
     "metadata": {
      "needs_background": "light"
     },
     "output_type": "display_data"
    }
   ],
   "source": [
    "class Testing():\n",
    "           \n",
    "    def y_prediction(self,regression, x_test):\n",
    "        \n",
    "        # predicting the test set result\n",
    "        \n",
    "        y_predict = regression.predict(x_test)\n",
    "        print(\"y_predict value for 6.5 is \", regression.predict(np.array(6.5).reshape(-1,1)))\n",
    "        return y_predict\n",
    "        \n",
    "    \n",
    "    def accuracy(self,y_predict_train,y_train):\n",
    "        \n",
    "        # acc using r2\n",
    "        error = r2_score(y_train, y_predict_train)      \n",
    "        acc_r2 = (1-error)*100\n",
    "        \n",
    "        # using median_ab_error\n",
    "        median_ab_error = median_absolute_error(y_train, y_predict_train)\n",
    "        return acc_r2, median_ab_error\n",
    "    \n",
    "    def visualization(self,x_test,y_test, regression):\n",
    "        \n",
    "        # Visualization the Decision Tree result (for higher resolution & smoother curve)\n",
    "        \n",
    "        x_grid = np.arange(min(x_test), max(x_test), 0.01)\n",
    "        x_grid = x_grid.reshape((len(x_grid),1))\n",
    "        \n",
    "        plt.scatter(x_test,y_test, color = 'black')\n",
    "\n",
    "        # reshape x_grid or not both will give same ploting\n",
    "        \n",
    "        plt.plot(x_grid,regression.predict(x_grid.reshape(-1,1)), color = 'red')\n",
    "        plt.title(\"Truth or bluff(Decision tree algorithm)\")\n",
    "        plt.xlabel(\"Position Level\")\n",
    "        plt.ylabel(\"Salary\")\n",
    "        plt.show()\n",
    "        \n",
    "\n",
    "def main():\n",
    "    \n",
    "    obj  = Testing()\n",
    "    \n",
    "    # seperate fetures and label\n",
    "    x_test = test_dataset.iloc[:,1:2].values\n",
    "    y_test = test_dataset.iloc[:,2].values\n",
    " \n",
    "   \n",
    "    file1 = open('DecisionTreeModule.pkl', 'rb')\n",
    "    reg1 = pickle.load(file1)\n",
    "    \n",
    "      \n",
    "    y_test_pre = obj.y_prediction(reg1, x_test)\n",
    "   \n",
    "    acc_r2, median_ab_error = obj.accuracy(y_test_pre,y_test)\n",
    "    print(\"\\nAccuracy train by acc_r2\", acc_r2)\n",
    "    print(\"\\nAccuracy train by mean_sq_log\", median_ab_error)\n",
    "\n",
    "    obj.visualization(x_test,y_test,reg1)\n",
    "\n",
    "if __name__ == '__main__':\n",
    "    main()\n"
   ]
  },
  {
   "cell_type": "code",
   "execution_count": null,
   "metadata": {},
   "outputs": [],
   "source": []
  }
 ],
 "metadata": {
  "kernelspec": {
   "display_name": "Python 3",
   "language": "python",
   "name": "python3"
  },
  "language_info": {
   "codemirror_mode": {
    "name": "ipython",
    "version": 3
   },
   "file_extension": ".py",
   "mimetype": "text/x-python",
   "name": "python",
   "nbconvert_exporter": "python",
   "pygments_lexer": "ipython3",
   "version": "3.7.2"
  }
 },
 "nbformat": 4,
 "nbformat_minor": 2
}
