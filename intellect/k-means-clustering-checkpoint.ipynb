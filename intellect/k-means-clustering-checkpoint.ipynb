{
 "cells": [
  {
   "cell_type": "code",
   "execution_count": 9,
   "metadata": {
    "_cell_guid": "b1076dfc-b9ad-4769-8c92-a6c4dae69d19",
    "_uuid": "8f2839f25d086af736a60e9eeb907d3b93b6e0e5"
   },
   "outputs": [],
   "source": [
    "import numpy as np \n",
    "import pandas as pd \n",
    "import matplotlib.pyplot as plt\n",
    "import seaborn as sns\n",
    "from sklearn.feature_extraction import text\n",
    "from sklearn.feature_extraction.text import TfidfVectorizer\n",
    "from sklearn.cluster import KMeans\n",
    "from nltk.tokenize import RegexpTokenizer\n",
    "from nltk.stem.snowball import SnowballStemmer\n",
    "%matplotlib inline"
   ]
  },
  {
   "cell_type": "code",
   "execution_count": 2,
   "metadata": {
    "_cell_guid": "79c7e3d0-c299-4dcb-8224-4455121ee9b0",
    "_uuid": "d629ff2d2480ee46fbb7e2d37f6b5fab8052498a",
    "scrolled": true
   },
   "outputs": [
    {
     "data": {
      "text/html": [
       "<div>\n",
       "<style scoped>\n",
       "    .dataframe tbody tr th:only-of-type {\n",
       "        vertical-align: middle;\n",
       "    }\n",
       "\n",
       "    .dataframe tbody tr th {\n",
       "        vertical-align: top;\n",
       "    }\n",
       "\n",
       "    .dataframe thead th {\n",
       "        text-align: right;\n",
       "    }\n",
       "</style>\n",
       "<table border=\"1\" class=\"dataframe\">\n",
       "  <thead>\n",
       "    <tr style=\"text-align: right;\">\n",
       "      <th></th>\n",
       "      <th>first_name</th>\n",
       "    </tr>\n",
       "  </thead>\n",
       "  <tbody>\n",
       "    <tr>\n",
       "      <th>0</th>\n",
       "      <td>americanpatriotjeff</td>\n",
       "    </tr>\n",
       "    <tr>\n",
       "      <th>1</th>\n",
       "      <td>thanachotsiriviboon</td>\n",
       "    </tr>\n",
       "    <tr>\n",
       "      <th>2</th>\n",
       "      <td>lakshmiprasannarani</td>\n",
       "    </tr>\n",
       "    <tr>\n",
       "      <th>3</th>\n",
       "      <td>venkatasubramaniam</td>\n",
       "    </tr>\n",
       "    <tr>\n",
       "      <th>4</th>\n",
       "      <td>venkatapadmanabham</td>\n",
       "    </tr>\n",
       "  </tbody>\n",
       "</table>\n",
       "</div>"
      ],
      "text/plain": [
       "            first_name\n",
       "0  americanpatriotjeff\n",
       "1  thanachotsiriviboon\n",
       "2  lakshmiprasannarani\n",
       "3   venkatasubramaniam\n",
       "4   venkatapadmanabham"
      ]
     },
     "execution_count": 2,
     "metadata": {},
     "output_type": "execute_result"
    }
   ],
   "source": [
    "# import dataset\n",
    "\n",
    "data= pd.read_csv(\"first.csv\", names=['first_name'],nrows=1000)\n",
    "# data = data\n",
    "data.head()"
   ]
  },
  {
   "cell_type": "code",
   "execution_count": 3,
   "metadata": {
    "_cell_guid": "3e44d856-a323-45ac-b7cc-80d77385060f",
    "_uuid": "a498ee778ab763e0801b8f9cf14e1d4d01f38846"
   },
   "outputs": [
    {
     "name": "stdout",
     "output_type": "stream",
     "text": [
      "<class 'pandas.core.frame.DataFrame'>\n",
      "RangeIndex: 1000 entries, 0 to 999\n",
      "Data columns (total 1 columns):\n",
      "first_name    1000 non-null object\n",
      "dtypes: object(1)\n",
      "memory usage: 7.9+ KB\n"
     ]
    }
   ],
   "source": [
    "data.info()"
   ]
  },
  {
   "cell_type": "code",
   "execution_count": 4,
   "metadata": {
    "_cell_guid": "42392880-315c-41bf-98e8-a1cbfab72f6e",
    "_uuid": "1e0143660cbb59acf14ed07c847fd9bc3ca85045"
   },
   "outputs": [
    {
     "data": {
      "text/html": [
       "<div>\n",
       "<style scoped>\n",
       "    .dataframe tbody tr th:only-of-type {\n",
       "        vertical-align: middle;\n",
       "    }\n",
       "\n",
       "    .dataframe tbody tr th {\n",
       "        vertical-align: top;\n",
       "    }\n",
       "\n",
       "    .dataframe thead th {\n",
       "        text-align: right;\n",
       "    }\n",
       "</style>\n",
       "<table border=\"1\" class=\"dataframe\">\n",
       "  <thead>\n",
       "    <tr style=\"text-align: right;\">\n",
       "      <th></th>\n",
       "      <th>first_name</th>\n",
       "    </tr>\n",
       "  </thead>\n",
       "  <tbody>\n",
       "  </tbody>\n",
       "</table>\n",
       "</div>"
      ],
      "text/plain": [
       "Empty DataFrame\n",
       "Columns: [first_name]\n",
       "Index: []"
      ]
     },
     "execution_count": 4,
     "metadata": {},
     "output_type": "execute_result"
    }
   ],
   "source": [
    "data[data['first_name'].duplicated(keep=False)].sort_values('first_name').head(8)"
   ]
  },
  {
   "cell_type": "code",
   "execution_count": 5,
   "metadata": {
    "_cell_guid": "9f5ff611-397e-45b7-9616-7bc33f6e81bb",
    "_uuid": "4e5e82d7c6fb0e7b14f8b5772bea14e448f88fcc"
   },
   "outputs": [],
   "source": [
    "data = data.drop_duplicates('first_name')"
   ]
  },
  {
   "cell_type": "markdown",
   "metadata": {
    "_cell_guid": "f1bb8d35-27aa-4ff4-9a39-4329517aa6a4",
    "_uuid": "f022fdf6441499ed52b34c063240f4f28b2ff3a5"
   },
   "source": [
    "# NLP "
   ]
  },
  {
   "cell_type": "markdown",
   "metadata": {
    "_cell_guid": "7ecba7c7-84d0-426b-aa9c-9ca05d45da75",
    "_uuid": "d2f1e1b88fb7b29fd47c249be3af044ef1e2a246"
   },
   "source": [
    "# Preparing data for vectorizaion\n",
    "However, when doing natural language processing, words must be converted into vectors that machine learning algorithms can make use of. If your goal is to do machine learning on text data, like movie reviews or tweets or anything else, you need to convert the text data into numbers. This process is sometimes referred to as “embedding” or “vectorization”.\n",
    "\n",
    "In terms of vectorization, it is important to remember that it isn’t merely turning a single word into a single number. While words can be transformed into numbers, an entire document can be translated into a vector. Not only can a vector have more than one dimension, but with text data vectors are usually high-dimensional. This is because each dimension of your feature data will correspond to a word, and the language in the documents you are examining will have thousands of words.\n",
    "\n",
    "# TF-IDF\n",
    "In information retrieval, tf–idf or TFIDF, short for term frequency–inverse document frequency, is a numerical statistic that is intended to reflect how important a word is to a document in a collection or corpus. It is often used as a weighting factor in searches of information retrieval, text mining, and user modeling. The tf-idf value increases proportionally to the number of times a word appears in the document and is offset by the frequency of the word in the corpus, which helps to adjust for the fact that some words appear more frequently in general. Nowadays, tf-idf is one of the most popular term-weighting schemes; 83% of text-based recommender systems in the domain of digital libraries use tf-idf.\n",
    "\n",
    "Variations of the tf–idf weighting scheme are often used by search engines as a central tool in scoring and ranking a document's relevance given a user query. tf–idf can be successfully used for stop-words filtering in various subject fields, including text summarization and classification.\n",
    "\n",
    "One of the simplest ranking functions is computed by summing the tf–idf for each query term; many more sophisticated ranking functions are variants of this simple model."
   ]
  },
  {
   "cell_type": "code",
   "execution_count": 6,
   "metadata": {
    "_cell_guid": "c7e595ab-440c-4ad7-98e4-4358cc724d8c",
    "_uuid": "9c1c23ecabae8217a9aa8f90371f2a30053cc6f1"
   },
   "outputs": [],
   "source": [
    "punc = ['.', ',', '\"', \"'\", '?', '!', ':', ';', '(', ')', '[', ']', '{', '}',\"%\"]\n",
    "stop_words = text.ENGLISH_STOP_WORDS.union(punc)\n",
    "desc = data['first_name'].values\n",
    "vectorizer = TfidfVectorizer(stop_words = stop_words)\n",
    "X = vectorizer.fit_transform(desc)"
   ]
  },
  {
   "cell_type": "code",
   "execution_count": 7,
   "metadata": {
    "_cell_guid": "eb56971e-5412-4138-a4cd-0e14844796be",
    "_uuid": "10af64e15e2f08c30da71b847432eedc2aece199"
   },
   "outputs": [
    {
     "name": "stdout",
     "output_type": "stream",
     "text": [
      "1000\n",
      "[]\n"
     ]
    }
   ],
   "source": [
    "word_features = vectorizer.get_feature_names()\n",
    "print(len(word_features))\n",
    "print(word_features[5000:5100])"
   ]
  },
  {
   "cell_type": "markdown",
   "metadata": {
    "_cell_guid": "871b1bd6-c411-4ff6-a784-9b376a0db4e6",
    "_uuid": "e480f5b88938660f05c09f75af5f9f58d7110096"
   },
   "source": [
    "# Stemming\n",
    "Stemming is the process of reducing a word into its stem, i.e. its root form. The root form is not necessarily a word by itself, but it can be used to generate words by concatenating the right suffix. For example, the words fish, fishes and fishing all stem into fish, which is a correct word. On the other side, the words study, studies and studying stems into studi, which is not an English word.\n",
    "\n",
    "# Tokenizing\n",
    "Tokenization is breaking the sentence into words and punctuation,"
   ]
  },
  {
   "cell_type": "code",
   "execution_count": 11,
   "metadata": {
    "_cell_guid": "536a1a88-48a3-43d0-b368-ccf31947e5b1",
    "_uuid": "5d25104db183624b990a1d64e10cc618fd8ee715"
   },
   "outputs": [],
   "source": [
    "stemmer = SnowballStemmer('english')\n",
    "tokenizer = RegexpTokenizer(r'[a-zA-Z\\']+')\n",
    "\n",
    "def tokenize(text):\n",
    "    return [stemmer.stem(word) for word in tokenizer.tokenize(text.lower())]"
   ]
  },
  {
   "cell_type": "markdown",
   "metadata": {
    "_cell_guid": "9877cf33-ebe8-46e4-b26e-c6f673617517",
    "_uuid": "d190c4d6b9cb52ad70a021e3475704538b47f85f"
   },
   "source": [
    "# Vectorization with stop words(words irrelevant to the model), stemming and tokenizing"
   ]
  },
  {
   "cell_type": "code",
   "execution_count": 12,
   "metadata": {
    "_cell_guid": "18e1d30c-5515-4c0d-89e4-6af99658bee3",
    "_uuid": "5fcc93fa3093f30d181ffa38b4ca46b133316952",
    "scrolled": false
   },
   "outputs": [
    {
     "name": "stdout",
     "output_type": "stream",
     "text": [
      "1000\n",
      "['abdelghafour', 'abdelmetalab', 'abderrahmen', 'abdourahman', 'abdulghaffar', 'abdullahami', 'abdulmoteleb', 'abdulrashe', 'abedalhakeem', 'abramchayeva', 'adasankrumah', 'adayanthrath', 'adegbemisola', 'adrianadrian', 'agaissemarjori', 'agriventur', 'ahamedsaneej', 'aiyakrishnan', 'ajigbotoluwa', 'akhileshwari', 'akhmetkhanov', 'alalasundram', 'alessandrina', 'alexandrale', 'alexstephen', 'allalaghatta', 'alliedbarton', 'amaliajeann', 'amandalauren', 'ambikaipakan', 'ameeruzzaman', 'americanpatriotjeff', 'amoghavarsha', 'anandashankar', 'anandeganesh', 'anandhav', 'anandhavalavan', 'anantanaraya', 'anashunderia', 'andiputranto', 'andirectorew', 'andrewcolman', 'andrewjoseph', 'andrewkeenan', 'andrewsom', 'angelantonio', 'angelnanthia', 'anirudhreddi', 'anjanechnica', 'annakriseljeen']\n"
     ]
    },
    {
     "name": "stderr",
     "output_type": "stream",
     "text": [
      "C:\\Users\\neha.patil\\AppData\\Local\\Continuum\\anaconda3\\lib\\site-packages\\sklearn\\feature_extraction\\text.py:301: UserWarning: Your stop_words may be inconsistent with your preprocessing. Tokenizing the stop words generated tokens ['abov', 'afterward', 'alon', 'alreadi', 'alway', 'ani', 'anoth', 'anyon', 'anyth', 'anywher', 'becam', 'becaus', 'becom', 'befor', 'besid', 'cri', 'describ', 'dure', 'els', 'elsewher', 'empti', 'everi', 'everyon', 'everyth', 'everywher', 'fifti', 'forti', 'henc', 'hereaft', 'herebi', 'howev', 'hundr', 'inde', 'mani', 'meanwhil', 'moreov', 'nobodi', 'noon', 'noth', 'nowher', 'onc', 'onli', 'otherwis', 'ourselv', 'perhap', 'pleas', 'sever', 'sinc', 'sincer', 'sixti', 'someon', 'someth', 'sometim', 'somewher', 'themselv', 'thenc', 'thereaft', 'therebi', 'therefor', 'togeth', 'twelv', 'twenti', 'veri', 'whatev', 'whenc', 'whenev', 'wherea', 'whereaft', 'wherebi', 'wherev', 'whi', 'yourselv'] not in stop_words.\n",
      "  'stop_words.' % sorted(inconsistent))\n"
     ]
    }
   ],
   "source": [
    "vectorizer2 = TfidfVectorizer(stop_words = stop_words, tokenizer = tokenize)\n",
    "X2 = vectorizer2.fit_transform(desc)\n",
    "word_features2 = vectorizer2.get_feature_names()\n",
    "print(len(word_features2))\n",
    "print(word_features2[:50]) "
   ]
  },
  {
   "cell_type": "code",
   "execution_count": 13,
   "metadata": {
    "_cell_guid": "acdc11f4-7b5c-4aee-8c42-1a752bffbc2e",
    "_uuid": "244a3015e5b4f4f84c174586fa875f5cf49cff1d"
   },
   "outputs": [
    {
     "name": "stderr",
     "output_type": "stream",
     "text": [
      "C:\\Users\\neha.patil\\AppData\\Local\\Continuum\\anaconda3\\lib\\site-packages\\sklearn\\feature_extraction\\text.py:301: UserWarning: Your stop_words may be inconsistent with your preprocessing. Tokenizing the stop words generated tokens ['abov', 'afterward', 'alon', 'alreadi', 'alway', 'ani', 'anoth', 'anyon', 'anyth', 'anywher', 'becam', 'becaus', 'becom', 'befor', 'besid', 'cri', 'describ', 'dure', 'els', 'elsewher', 'empti', 'everi', 'everyon', 'everyth', 'everywher', 'fifti', 'forti', 'henc', 'hereaft', 'herebi', 'howev', 'hundr', 'inde', 'mani', 'meanwhil', 'moreov', 'nobodi', 'noon', 'noth', 'nowher', 'onc', 'onli', 'otherwis', 'ourselv', 'perhap', 'pleas', 'sever', 'sinc', 'sincer', 'sixti', 'someon', 'someth', 'sometim', 'somewher', 'themselv', 'thenc', 'thereaft', 'therebi', 'therefor', 'togeth', 'twelv', 'twenti', 'veri', 'whatev', 'whenc', 'whenev', 'wherea', 'whereaft', 'wherebi', 'wherev', 'whi', 'yourselv'] not in stop_words.\n",
      "  'stop_words.' % sorted(inconsistent))\n"
     ]
    }
   ],
   "source": [
    "vectorizer3 = TfidfVectorizer(stop_words = stop_words, tokenizer = tokenize, max_features = 1000)\n",
    "X3 = vectorizer3.fit_transform(desc)\n",
    "words = vectorizer3.get_feature_names()"
   ]
  },
  {
   "cell_type": "code",
   "execution_count": 14,
   "metadata": {
    "_cell_guid": "c72b26ab-4bef-44e6-b854-5bca3cd1f217",
    "_uuid": "992bea80b2647c4f4e564bb020ce8eab07db6b78",
    "scrolled": true
   },
   "outputs": [
    {
     "data": {
      "image/png": "[encoded data removed]",
      "text/plain": [
       "<Figure size 432x288 with 1 Axes>"
      ]
     },
     "metadata": {},
     "output_type": "display_data"
    }
   ],
   "source": [
    "from sklearn.cluster import KMeans\n",
    "wcss = []\n",
    "for i in range(1,11):\n",
    "    kmeans = KMeans(n_clusters=i,init='k-means++',max_iter=300,n_init=10,random_state=0)\n",
    "    kmeans.fit(X3)\n",
    "    wcss.append(kmeans.inertia_)\n",
    "plt.style.use('fivethirtyeight')\n",
    "plt.plot(range(1,11),wcss)\n",
    "plt.title('The Elbow Method')\n",
    "plt.xlabel('Number of clusters')\n",
    "plt.ylabel('WCSS')\n",
    "plt.savefig('elbow.png')\n",
    "plt.show()"
   ]
  },
  {
   "cell_type": "code",
   "execution_count": 15,
   "metadata": {
    "_cell_guid": "e096b262-a06c-4f0a-9c50-2ef4bda9b926",
    "_uuid": "0ed982322b3a0fecb997e88ef0fb2f681c5a801c",
    "scrolled": false
   },
   "outputs": [
    {
     "name": "stdout",
     "output_type": "stream",
     "text": [
      "['deantoinett', 'deborahjulia', 'deepaaishwarya', 'deniseatwork', 'denisemeiyan', 'desantelic', 'devassykutti', 'devendrakumar', 'devendranath', 'devitriyanti', 'devnarayanan', 'dhairyasheel', 'dhanamjayulu', 'dhananjayulu', 'dharamaind', 'dharmeshkumar', 'dhivyaraksha', 'dhruvinkumar', 'dhyaneshwaran', 'dianalumsdon', 'dietrichvic', 'djanaguiraman', 'doddametikurk', 'donnalakshmi', 'dorothybell', 'douglasboswel', 'dreadsington', 'drewmargaret', 'dubarrington', 'duraimurugan', 'durreshahwar', 'dwarakanadha', 'eamonmauric', 'eleftheri', 'elizabethada', 'elizabethden', 'elizabethvdf', 'emmacastillo', 'emmanouilidi', 'entertain', 'erinmichell', 'estherteresa', 'eswaraprasad', 'evanemmanuel', 'faramihamina', 'felixpeguero', 'fessessework', 'florencetin', 'fradleydavid', 'frankcharl']\n"
     ]
    }
   ],
   "source": [
    "print(words[250:300])"
   ]
  },
  {
   "cell_type": "markdown",
   "metadata": {
    "_cell_guid": "a3c414e5-70b2-4c63-a46a-f9c82e406e4b",
    "_uuid": "6992f369b10d54adf27ecdcf24c6f57deabf466f"
   },
   "source": [
    "# 3 Clusters"
   ]
  },
  {
   "cell_type": "code",
   "execution_count": 16,
   "metadata": {
    "_cell_guid": "b395dddc-8acb-40a8-825e-a6f3a615809e",
    "_uuid": "e0e187a022ec9032385f715d87cfbb865a11698d",
    "scrolled": false
   },
   "outputs": [
    {
     "name": "stdout",
     "output_type": "stream",
     "text": [
      "0 : zvikomborero, haileselasi, heatherleigh, hasanilesedi, harsimranjeet, harshwardhan, harshavardan, harryschmink, harishankaran, harinderpaul, hariharanath, hardeepind, haralambid, hajamohideen, haileselassi, habibunnisha, jaypinderp, gurusubrahmaniyan, gurkanwaljit, gurcharanjit, gurbakhshash, gunasekharan, gregoryallan, graceeleanor, graceclayton\n",
      "1 : alexstephen, zvikomborero, hennerberg, heatherleigh, hasanilesedi, harsimranjeet, harshwardhan, harshavardan, harryschmink, harishankaran, harinderpaul, hariharanath, hardeepind, haralambid, hajamohideen, haileselassi, haileselasi, habibunnisha, gurusubrahmaniyan, gurkanwaljit, gurcharanjit, gurbakhshash, gunasekharan, gregoryallan, graceeleanor\n",
      "2 : kimberlyann, zvikomborero, habibunnisha, hasanilesedi, harsimranjeet, harshwardhan, harshavardan, harryschmink, harishankaran, harinderpaul, hariharanath, hardeepind, haralambid, hajamohideen, haileselassi, haileselasi, gurusubrahmaniyan, gurkanwaljit, gurcharanjit, gurbakhshash, gunasekharan, gregoryallan, graceeleanor, graceclayton, gowrisangeetha\n"
     ]
    }
   ],
   "source": [
    "kmeans = KMeans(n_clusters = 3, n_init = 20, n_jobs = 1) # n_init(number of iterations for clsutering) n_jobs(number of cpu cores to use)\n",
    "kmeans.fit(X3)\n",
    "# We look at 3 the clusters generated by k-means.\n",
    "common_words = kmeans.cluster_centers_.argsort()[:,-1:-26:-1]\n",
    "for num, centroid in enumerate(common_words):\n",
    "    print(str(num) + ' : ' + ', '.join(words[word] for word in centroid))"
   ]
  },
  {
   "cell_type": "markdown",
   "metadata": {
    "_cell_guid": "05f80701-83af-49c1-a7b8-df8c20396bb9",
    "_uuid": "4750051c6cbdc6d262f31a94f5c4776eb020644a"
   },
   "source": [
    "# 5 Clusters"
   ]
  },
  {
   "cell_type": "code",
   "execution_count": 17,
   "metadata": {
    "_cell_guid": "137b7e2c-970f-4f2f-929e-c7b2bd2a8004",
    "_uuid": "2813cee7e61b966b179b806d29b222c55551ee35",
    "scrolled": false
   },
   "outputs": [
    {
     "name": "stdout",
     "output_type": "stream",
     "text": [
      "0 : zvikomborero, haileselassi, hectordaniel, heatherleigh, hasanilesedi, harsimranjeet, harshwardhan, harshavardan, harryschmink, harishankaran, harinderpaul, hariharanath, hardeepind, haralambid, hajamohideen, haileselasi, jeanetamari, habibunnisha, gurusubrahmaniyan, gurkanwaljit, gurcharanjit, gurbakhshash, gunasekharan, gregoryallan, graceeleanor\n",
      "1 : eleftheri, zvikomborero, haileselasi, hasanilesedi, harsimranjeet, harshwardhan, harshavardan, harryschmink, harishankaran, harinderpaul, hariharanath, hardeepind, haralambid, hajamohideen, haileselassi, habibunnisha, hectordaniel, gurusubrahmaniyan, gurkanwaljit, gurcharanjit, gurbakhshash, gunasekharan, gregoryallan, graceeleanor, graceclayton\n",
      "2 : chauntalayn, zvikomborero, haileselasi, heatherleigh, hasanilesedi, harsimranjeet, harshwardhan, harshavardan, harryschmink, harishankaran, harinderpaul, hariharanath, hardeepind, haralambid, hajamohideen, haileselassi, habibunnisha, gnanasekeran, gurusubrahmaniyan, gurkanwaljit, gurcharanjit, gurbakhshash, gunasekharan, gregoryallan, graceeleanor\n",
      "3 : praveenkumar, zvikomborero, hasanilesedi, harsimranjeet, harshwardhan, harshavardan, harryschmink, harishankaran, harinderpaul, hariharanath, hardeepind, haralambid, hajamohideen, haileselassi, haileselasi, habibunnisha, gnanaprakash, gurusubrahmaniyan, gurkanwaljit, gurcharanjit, gurbakhshash, gunasekharan, gregoryallan, graceeleanor, graceclayton\n",
      "4 : shardulendra, zvikomborero, habibunnisha, harsimranjeet, harshwardhan, harshavardan, harryschmink, harishankaran, harinderpaul, hariharanath, hardeepind, haralambid, hajamohideen, haileselassi, haileselasi, gurusubrahmaniyan, heatherleigh, gurkanwaljit, gurcharanjit, gurbakhshash, gunasekharan, gregoryallan, graceeleanor, graceclayton, gowrisangeetha\n"
     ]
    }
   ],
   "source": [
    "kmeans = KMeans(n_clusters = 5, n_init = 20, n_jobs = 1)\n",
    "kmeans.fit(X3)\n",
    "# We look at 5 the clusters generated by k-means.\n",
    "common_words = kmeans.cluster_centers_.argsort()[:,-1:-26:-1]\n",
    "for num, centroid in enumerate(common_words):\n",
    "    print(str(num) + ' : ' + ', '.join(words[word] for word in centroid))"
   ]
  },
  {
   "cell_type": "markdown",
   "metadata": {
    "_cell_guid": "e5ab0cdc-1178-486d-a982-3457aa69d234",
    "_uuid": "4faeeea430f9f679a594b2c7f1ef1c857611ade5"
   },
   "source": [
    "# 6 Clusters"
   ]
  },
  {
   "cell_type": "code",
   "execution_count": 18,
   "metadata": {
    "_cell_guid": "de4d9fbb-2462-4491-899f-b1e28e1a7697",
    "_uuid": "73c1c5bfafe12fd9bd57ab0c3bd07f60630f05a8"
   },
   "outputs": [
    {
     "name": "stdout",
     "output_type": "stream",
     "text": [
      "0 : zvikomborero, habibunnisha, hasanilesedi, harsimranjeet, harshwardhan, harshavardan, harryschmink, harishankaran, harinderpaul, hariharanath, hardeepind, haralambid, hajamohideen, haileselassi, haileselasi, gurusubrahmaniyan, jatinderjeet, gurkanwaljit, gurcharanjit, gurbakhshash, gunasekharan, gregoryallan, graceeleanor, graceclayton, gowrisangeetha\n",
      "1 : venkateswarrao, zvikomborero, gurusubrahmaniyan, harsimranjeet, harshwardhan, harshavardan, harryschmink, harishankaran, harinderpaul, hariharanath, hardeepind, haralambid, hajamohideen, haileselassi, haileselasi, habibunnisha, gurkanwaljit, heatherleigh, gurcharanjit, gurbakhshash, gunasekharan, gregoryallan, graceeleanor, graceclayton, gowrisangeetha\n",
      "2 : chennakesava, zvikomborero, haileselasi, heatherleigh, hasanilesedi, harsimranjeet, harshwardhan, harshavardan, harryschmink, harishankaran, harinderpaul, hariharanath, hardeepind, haralambid, hajamohideen, haileselassi, habibunnisha, gnanasekeran, gurusubrahmaniyan, gurkanwaljit, gurcharanjit, gurbakhshash, gunasekharan, gregoryallan, graceeleanor\n",
      "3 : puroshottama, habibunnisha, hasanilesedi, harsimranjeet, harshwardhan, harshavardan, harryschmink, harishankaran, harinderpaul, hariharanath, hardeepind, haralambid, hajamohideen, haileselassi, haileselasi, gurusubrahmaniyan, gnanaprakash, gurkanwaljit, gurcharanjit, gurbakhshash, gunasekharan, gregoryallan, graceeleanor, graceclayton, gowrisangeetha\n",
      "4 : mahendrasinh, zvikomborero, habibunnisha, hasanilesedi, harsimranjeet, harshwardhan, harshavardan, harryschmink, harishankaran, harinderpaul, hariharanath, hardeepind, haralambid, hajamohideen, haileselassi, haileselasi, gurusubrahmaniyan, hectordaniel, gurkanwaljit, gurcharanjit, gurbakhshash, gunasekharan, gregoryallan, graceeleanor, graceclayton\n",
      "5 : mahendrarasa, zvikomborero, habibunnisha, hasanilesedi, harsimranjeet, harshwardhan, harshavardan, harryschmink, harishankaran, harinderpaul, hariharanath, hardeepind, haralambid, hajamohideen, haileselassi, haileselasi, gurusubrahmaniyan, hectordaniel, gurkanwaljit, gurcharanjit, gurbakhshash, gunasekharan, gregoryallan, graceeleanor, graceclayton\n"
     ]
    }
   ],
   "source": [
    "kmeans = KMeans(n_clusters = 6, n_init = 20, n_jobs = 1)\n",
    "kmeans.fit(X3)\n",
    "# We look at 6 the clusters generated by k-means.\n",
    "common_words = kmeans.cluster_centers_.argsort()[:,-1:-26:-1]\n",
    "for num, centroid in enumerate(common_words):\n",
    "    print(str(num) + ' : ' + ', '.join(words[word] for word in centroid))"
   ]
  },
  {
   "cell_type": "markdown",
   "metadata": {
    "_cell_guid": "bff92434-ec9d-4e6b-a4a2-72ec4ea6f3bc",
    "_uuid": "7225da580975f8589615a8fd5232ba3c80780845"
   },
   "source": [
    "# 8 Clusters"
   ]
  },
  {
   "cell_type": "code",
   "execution_count": 19,
   "metadata": {
    "_cell_guid": "4134a6d2-09aa-4cf5-9821-d95d0482c4ac",
    "_uuid": "cf3c5af56aa05f6679effe85774207fe824255a1"
   },
   "outputs": [
    {
     "name": "stdout",
     "output_type": "stream",
     "text": [
      "0 : zvikomborero, haileselassi, hectordaniel, heatherleigh, hasanilesedi, harsimranjeet, harshwardhan, harshavardan, harryschmink, harishankaran, harinderpaul, hariharanath, hardeepind, haralambid, hajamohideen, haileselasi, jeanetamari, habibunnisha, gurusubrahmaniyan, gurkanwaljit, gurcharanjit, gurbakhshash, gunasekharan, gregoryallan, graceeleanor\n",
      "1 : chennakesava, zvikomborero, haileselasi, heatherleigh, hasanilesedi, harsimranjeet, harshwardhan, harshavardan, harryschmink, harishankaran, harinderpaul, hariharanath, hardeepind, haralambid, hajamohideen, haileselassi, habibunnisha, gnanasekeran, gurusubrahmaniyan, gurkanwaljit, gurcharanjit, gurbakhshash, gunasekharan, gregoryallan, graceeleanor\n",
      "2 : yurgalevitch, zvikomborero, habibunnisha, hasanilesedi, harsimranjeet, harshwardhan, harshavardan, harryschmink, harishankaran, harinderpaul, hariharanath, hardeepind, haralambid, hajamohideen, haileselassi, haileselasi, gurusubrahmaniyan, hectordaniel, gurkanwaljit, gurcharanjit, gurbakhshash, gunasekharan, gregoryallan, graceeleanor, graceclayton\n",
      "3 : balakarmekan, zvikomborero, haileselassi, heatherleigh, hasanilesedi, harsimranjeet, harshwardhan, harshavardan, harryschmink, harishankaran, harinderpaul, hariharanath, hardeepind, haralambid, hajamohideen, haileselasi, gnanasekeran, habibunnisha, gurusubrahmaniyan, gurkanwaljit, gurcharanjit, gurbakhshash, gunasekharan, gregoryallan, graceeleanor\n",
      "4 : muruganantham, zvikomborero, haileselasi, hasanilesedi, harsimranjeet, harshwardhan, harshavardan, harryschmink, harishankaran, harinderpaul, hariharanath, hardeepind, haralambid, hajamohideen, haileselassi, habibunnisha, gnanaprakash, gurusubrahmaniyan, gurkanwaljit, gurcharanjit, gurbakhshash, gunasekharan, gregoryallan, graceeleanor, graceclayton\n",
      "5 : mithileshwar, zvikomborero, gurusubrahmaniyan, harsimranjeet, harshwardhan, harshavardan, harryschmink, harishankaran, harinderpaul, hariharanath, hardeepind, haralambid, hajamohideen, haileselassi, haileselasi, habibunnisha, gurkanwaljit, heatherleigh, gurcharanjit, gurbakhshash, gunasekharan, gregoryallan, graceeleanor, graceclayton, gowrisangeetha\n",
      "6 : patapeaneang, zvikomborero, haileselasi, hasanilesedi, harsimranjeet, harshwardhan, harshavardan, harryschmink, harishankaran, harinderpaul, hariharanath, hardeepind, haralambid, hajamohideen, haileselassi, habibunnisha, hectordaniel, gurusubrahmaniyan, gurkanwaljit, gurcharanjit, gurbakhshash, gunasekharan, gregoryallan, graceeleanor, graceclayton\n",
      "7 : govindpurkar, zvikomborero, haileselasi, heatherleigh, hasanilesedi, harsimranjeet, harshwardhan, harshavardan, harryschmink, harishankaran, harinderpaul, hariharanath, hardeepind, haralambid, hajamohideen, haileselassi, habibunnisha, gnanaprakash, gurusubrahmaniyan, gurkanwaljit, gurcharanjit, gurbakhshash, gunasekharan, gregoryallan, graceeleanor\n"
     ]
    }
   ],
   "source": [
    "kmeans = KMeans(n_clusters = 8, n_init = 20, n_jobs = 1)\n",
    "kmeans.fit(X3)\n",
    "# Finally, we look at 8 the clusters generated by k-means.\n",
    "common_words = kmeans.cluster_centers_.argsort()[:,-1:-26:-1]\n",
    "for num, centroid in enumerate(common_words):\n",
    "    print(str(num) + ' : ' + ', '.join(words[word] for word in centroid))"
   ]
  },
  {
   "cell_type": "code",
   "execution_count": 20,
   "metadata": {},
   "outputs": [
    {
     "name": "stdout",
     "output_type": "stream",
     "text": [
      "0 : zvikomborero, hermannjosef, isabelleann, instruct, indirectr, illonaillona, ilangkumaran, ilanduraiyan, ianthalatr, hpuemerg, housseynatou, honchristian, hitchmoungh, hermenejildo, hennerberg, isselmouould, hectordaniel, heatherleigh, harsimranjeet, harshwardhan, harshavardan, harryschmink, harinderpaul, hariharanath, hardeepind\n",
      "1 : muruleedhara, zvikomborero, haileselasi, hasanilesedi, harsimranjeet, harshwardhan, harshavardan, harryschmink, harishankaran, harinderpaul, hariharanath, hardeepind, haralambid, hajamohideen, haileselassi, habibunnisha, gnanaprakash, gurusubrahmaniyan, gurkanwaljit, gurcharanjit, gurbakhshash, gunasekharan, gregoryallan, graceeleanor, graceclayton\n",
      "2 : jackequelin, zvikomborero, habibunnisha, hasanilesedi, harsimranjeet, harshwardhan, harshavardan, harryschmink, harishankaran, harinderpaul, hariharanath, hardeepind, haralambid, hajamohideen, haileselassi, haileselasi, gurusubrahmaniyan, hectordaniel, gurkanwaljit, gurcharanjit, gurbakhshash, gunasekharan, gregoryallan, graceeleanor, graceclayton\n",
      "3 : pratuangthip, zvikomborero, haileselasi, hasanilesedi, harsimranjeet, harshwardhan, harshavardan, harryschmink, harishankaran, harinderpaul, hariharanath, hardeepind, haralambid, hajamohideen, haileselassi, habibunnisha, gnanaprakash, gurusubrahmaniyan, gurkanwaljit, gurcharanjit, gurbakhshash, gunasekharan, gregoryallan, graceeleanor, graceclayton\n",
      "4 : dwarakanadha, zvikomborero, haileselasi, heatherleigh, hasanilesedi, harsimranjeet, harshwardhan, harshavardan, harryschmink, harishankaran, harinderpaul, hariharanath, hardeepind, haralambid, hajamohideen, haileselassi, habibunnisha, gurusubrahmaniyan, gurkanwaljit, gurcharanjit, gurbakhshash, gunasekharan, gregoryallan, graceeleanor, graceclayton\n",
      "5 : christoplh, zvikomborero, haileselasi, hasanilesedi, harsimranjeet, harshwardhan, harshavardan, harryschmink, harishankaran, harinderpaul, hariharanath, hardeepind, haralambid, hajamohideen, haileselassi, habibunnisha, hectordaniel, gurusubrahmaniyan, gurkanwaljit, gurcharanjit, gurbakhshash, gunasekharan, gregoryallan, graceeleanor, graceclayton\n",
      "6 : saurabhsmitm, zvikomborero, hectordaniel, hasanilesedi, harsimranjeet, harshwardhan, harshavardan, harryschmink, harishankaran, harinderpaul, hariharanath, hardeepind, haralambid, hajamohideen, haileselassi, haileselasi, habibunnisha, gurusubrahmaniyan, gurkanwaljit, gurcharanjit, gurbakhshash, gunasekharan, gregoryallan, graceeleanor, graceclayton\n",
      "7 : johnbenjamin, zvikomborero, habibunnisha, hasanilesedi, harsimranjeet, harshwardhan, harshavardan, harryschmink, harishankaran, harinderpaul, hariharanath, hardeepind, haralambid, hajamohideen, haileselassi, haileselasi, gurusubrahmaniyan, hectordaniel, gurkanwaljit, gurcharanjit, gurbakhshash, gunasekharan, gregoryallan, graceeleanor, graceclayton\n",
      "8 : piruthiviraj, haileselasi, heatherleigh, hasanilesedi, harsimranjeet, harshwardhan, harshavardan, harryschmink, harishankaran, harinderpaul, hariharanath, hardeepind, haralambid, hajamohideen, haileselassi, zvikomborero, gnanaprakash, gurusubrahmaniyan, gurkanwaljit, gurcharanjit, gurbakhshash, gunasekharan, gregoryallan, graceeleanor, graceclayton\n",
      "9 : daksheshkumar, zvikomborero, hennerberg, heatherleigh, hasanilesedi, harsimranjeet, harshwardhan, harshavardan, harryschmink, harishankaran, harinderpaul, hariharanath, hardeepind, haralambid, hajamohideen, haileselassi, haileselasi, habibunnisha, gurusubrahmaniyan, gurkanwaljit, gurcharanjit, gurbakhshash, gunasekharan, gregoryallan, graceeleanor\n",
      "10 : annastaissia, zvikomborero, habibunnisha, hasanilesedi, harsimranjeet, harshwardhan, harshavardan, harryschmink, harishankaran, harinderpaul, hariharanath, hardeepind, haralambid, hajamohideen, haileselassi, haileselasi, gurusubrahmaniyan, hectordaniel, gurkanwaljit, gurcharanjit, gurbakhshash, gunasekharan, gregoryallan, graceeleanor, graceclayton\n",
      "11 : mitninetyeight, zvikomborero, gurusubrahmaniyan, harsimranjeet, harshwardhan, harshavardan, harryschmink, harishankaran, harinderpaul, hariharanath, hardeepind, haralambid, hajamohideen, haileselassi, haileselasi, habibunnisha, gurkanwaljit, heatherleigh, gurcharanjit, gurbakhshash, gunasekharan, gregoryallan, graceeleanor, graceclayton, gowrisangeetha\n",
      "12 : venkatprasad, zvikomborero, gurusubrahmaniyan, harsimranjeet, harshwardhan, harshavardan, harryschmink, harishankaran, harinderpaul, hariharanath, hardeepind, haralambid, hajamohideen, haileselassi, haileselasi, habibunnisha, gurkanwaljit, heatherleigh, gurcharanjit, gurbakhshash, gunasekharan, gregoryallan, graceeleanor, graceclayton, gowrisangeetha\n",
      "13 : suroojnarin, haileselasi, heatherleigh, hasanilesedi, harsimranjeet, harshwardhan, harshavardan, harryschmink, harishankaran, harinderpaul, hariharanath, hardeepind, haralambid, hajamohideen, haileselassi, habibunnisha, gnanaprakash, gurusubrahmaniyan, gurkanwaljit, gurcharanjit, gurbakhshash, gunasekharan, gregoryallan, graceeleanor, graceclayton\n",
      "14 : wossensseg, zvikomborero, habibunnisha, hasanilesedi, harsimranjeet, harshwardhan, harshavardan, harryschmink, harishankaran, harinderpaul, hariharanath, hardeepind, haralambid, hajamohideen, haileselassi, haileselasi, gurusubrahmaniyan, hectordaniel, gurkanwaljit, gurcharanjit, gurbakhshash, gunasekharan, gregoryallan, graceeleanor, graceclayton\n",
      "15 : damianguzman, zvikomborero, hennerberg, heatherleigh, hasanilesedi, harsimranjeet, harshwardhan, harshavardan, harryschmink, harishankaran, harinderpaul, hariharanath, hardeepind, haralambid, hajamohideen, haileselassi, haileselasi, habibunnisha, gurusubrahmaniyan, gurkanwaljit, gurcharanjit, gurbakhshash, gunasekharan, gregoryallan, graceeleanor\n",
      "16 : arielasharon, zvikomborero, haileselasi, heatherleigh, hasanilesedi, harsimranjeet, harshwardhan, harshavardan, harryschmink, harishankaran, harinderpaul, hariharanath, hardeepind, haralambid, hajamohideen, haileselassi, habibunnisha, gurusubrahmaniyan, gurkanwaljit, gurcharanjit, gurbakhshash, gunasekharan, gregoryallan, graceeleanor, graceclayton\n",
      "17 : janepatricia, zvikomborero, habibunnisha, hasanilesedi, harsimranjeet, harshwardhan, harshavardan, harryschmink, harishankaran, harinderpaul, hariharanath, hardeepind, haralambid, hajamohideen, haileselassi, haileselasi, gurusubrahmaniyan, hectordaniel, gurkanwaljit, gurcharanjit, gurbakhshash, gunasekharan, gregoryallan, graceeleanor, graceclayton\n",
      "18 : keerthylakshmi, zvikomborero, habibunnisha, hasanilesedi, harsimranjeet, harshwardhan, harshavardan, harryschmink, harishankaran, harinderpaul, hariharanath, hardeepind, haralambid, hajamohideen, haileselassi, haileselasi, gurusubrahmaniyan, gnanaprakash, gurkanwaljit, gurcharanjit, gurbakhshash, gunasekharan, gregoryallan, graceeleanor, graceclayton\n",
      "19 : ngouanevilay, habibunnisha, hasanilesedi, harsimranjeet, harshwardhan, harshavardan, harryschmink, harishankaran, harinderpaul, hariharanath, hardeepind, haralambid, hajamohideen, haileselassi, haileselasi, zvikomborero, hectordaniel, gurusubrahmaniyan, gurkanwaljit, gurcharanjit, gurbakhshash, gunasekharan, gregoryallan, graceeleanor, graceclayton\n",
      "20 : anashunderia, zvikomborero, haileselasi, hasanilesedi, harsimranjeet, harshwardhan, harshavardan, harryschmink, harishankaran, harinderpaul, hariharanath, hardeepind, haralambid, hajamohideen, haileselassi, habibunnisha, hectordaniel, gurusubrahmaniyan, gurkanwaljit, gurcharanjit, gurbakhshash, gunasekharan, gregoryallan, graceeleanor, graceclayton\n",
      "21 : colleendovey, zvikomborero, hennerberg, heatherleigh, hasanilesedi, harsimranjeet, harshwardhan, harshavardan, harryschmink, harishankaran, harinderpaul, hariharanath, hardeepind, haralambid, hajamohideen, haileselassi, haileselasi, habibunnisha, gurusubrahmaniyan, gurkanwaljit, gurcharanjit, gurbakhshash, gunasekharan, gregoryallan, graceeleanor\n",
      "22 : ravindraraju, zvikomborero, hectordaniel, hasanilesedi, harsimranjeet, harshwardhan, harshavardan, harryschmink, harishankaran, harinderpaul, hariharanath, hardeepind, haralambid, hajamohideen, haileselassi, haileselasi, habibunnisha, gurusubrahmaniyan, gurkanwaljit, gurcharanjit, gurbakhshash, gunasekharan, gregoryallan, graceeleanor, graceclayton\n",
      "23 : venkatapathi, habibunnisha, hasanilesedi, harsimranjeet, harshwardhan, harshavardan, harryschmink, harishankaran, harinderpaul, hariharanath, hardeepind, haralambid, hajamohideen, haileselassi, haileselasi, gurusubrahmaniyan, gnanaprakash, gurkanwaljit, gurcharanjit, gurbakhshash, gunasekharan, gregoryallan, graceeleanor, graceclayton, gowrisangeetha\n",
      "24 : graceeleanor, zvikomborero, haileselasi, heatherleigh, hasanilesedi, harsimranjeet, harshwardhan, harshavardan, harryschmink, harishankaran, harinderpaul, hariharanath, hardeepind, haralambid, hajamohideen, haileselassi, habibunnisha, gnanaprakash, gurusubrahmaniyan, gurkanwaljit, gurcharanjit, gurbakhshash, gunasekharan, gregoryallan, graceclayton\n",
      "25 : laurenamanda, zvikomborero, hectordaniel, hasanilesedi, harsimranjeet, harshwardhan, harshavardan, harryschmink, harishankaran, harinderpaul, hariharanath, hardeepind, haralambid, hajamohideen, haileselassi, haileselasi, habibunnisha, gurusubrahmaniyan, gurkanwaljit, gurcharanjit, gurbakhshash, gunasekharan, gregoryallan, graceeleanor, graceclayton\n",
      "26 : mansojulieta, zvikomborero, habibunnisha, hasanilesedi, harsimranjeet, harshwardhan, harshavardan, harryschmink, harishankaran, harinderpaul, hariharanath, hardeepind, haralambid, hajamohideen, haileselassi, haileselasi, gurusubrahmaniyan, hectordaniel, gurkanwaljit, gurcharanjit, gurbakhshash, gunasekharan, gregoryallan, graceeleanor, graceclayton\n",
      "27 : ashwanikumar, zvikomborero, haileselasi, heatherleigh, hasanilesedi, harsimranjeet, harshwardhan, harshavardan, harryschmink, harishankaran, harinderpaul, hariharanath, hardeepind, haralambid, hajamohideen, haileselassi, habibunnisha, gnanasekeran, gurusubrahmaniyan, gurkanwaljit, gurcharanjit, gurbakhshash, gunasekharan, gregoryallan, graceeleanor\n",
      "28 : jaypinderp, haileselasi, heatherleigh, hasanilesedi, harsimranjeet, harshwardhan, harshavardan, harryschmink, harishankaran, harinderpaul, hariharanath, hardeepind, haralambid, hajamohideen, haileselassi, habibunnisha, gnanaprakash, gurusubrahmaniyan, gurkanwaljit, gurcharanjit, gurbakhshash, gunasekharan, gregoryallan, graceeleanor, graceclayton\n",
      "29 : harishankaran, zvikomborero, haileselasi, heatherleigh, hasanilesedi, harsimranjeet, harshwardhan, harshavardan, harryschmink, harinderpaul, hariharanath, hardeepind, haralambid, hajamohideen, haileselassi, habibunnisha, gnanaprakash, gurusubrahmaniyan, gurkanwaljit, gurcharanjit, gurbakhshash, gunasekharan, gregoryallan, graceeleanor, graceclayton\n",
      "30 : karthikanand, zvikomborero, haileselasi, hasanilesedi, harsimranjeet, harshwardhan, harshavardan, harryschmink, harishankaran, harinderpaul, hariharanath, hardeepind, haralambid, hajamohideen, haileselassi, habibunnisha, gnanaprakash, gurusubrahmaniyan, gurkanwaljit, gurcharanjit, gurbakhshash, gunasekharan, gregoryallan, graceeleanor, graceclayton\n",
      "31 : vijayalashmi, zvikomborero, habibunnisha, harsimranjeet, harshwardhan, harshavardan, harryschmink, harishankaran, harinderpaul, hariharanath, hardeepind, haralambid, hajamohideen, haileselassi, haileselasi, gurusubrahmaniyan, heatherleigh, gurkanwaljit, gurcharanjit, gurbakhshash, gunasekharan, gregoryallan, graceeleanor, graceclayton, gowrisangeetha\n",
      "32 : rajeshnirm, gurusubrahmaniyan, harsimranjeet, harshwardhan, harshavardan, harryschmink, harishankaran, harinderpaul, hariharanath, hardeepind, haralambid, hajamohideen, haileselassi, haileselasi, habibunnisha, zvikomborero, heatherleigh, gurkanwaljit, gurcharanjit, gurbakhshash, gunasekharan, gregoryallan, graceeleanor, graceclayton, gowrisangeetha\n",
      "33 : samanthajean, zvikomborero, habibunnisha, hasanilesedi, harsimranjeet, harshwardhan, harshavardan, harryschmink, harishankaran, harinderpaul, hariharanath, hardeepind, haralambid, hajamohideen, haileselassi, haileselasi, gurusubrahmaniyan, hectordaniel, gurkanwaljit, gurcharanjit, gurbakhshash, gunasekharan, gregoryallan, graceeleanor, graceclayton\n",
      "34 : rajyalakshmi, zvikomborero, habibunnisha, harsimranjeet, harshwardhan, harshavardan, harryschmink, harishankaran, harinderpaul, hariharanath, hardeepind, haralambid, hajamohideen, haileselassi, haileselasi, gurusubrahmaniyan, heatherleigh, gurkanwaljit, gurcharanjit, gurbakhshash, gunasekharan, gregoryallan, graceeleanor, graceclayton, gowrisangeetha\n",
      "35 : estherteresa, zvikomborero, haileselasi, hasanilesedi, harsimranjeet, harshwardhan, harshavardan, harryschmink, harishankaran, harinderpaul, hariharanath, hardeepind, haralambid, hajamohideen, haileselassi, habibunnisha, hectordaniel, gurusubrahmaniyan, gurkanwaljit, gurcharanjit, gurbakhshash, gunasekharan, gregoryallan, graceeleanor, graceclayton\n",
      "36 : atchuthanand, zvikomborero, haileselasi, heatherleigh, hasanilesedi, harsimranjeet, harshwardhan, harshavardan, harryschmink, harishankaran, harinderpaul, hariharanath, hardeepind, haralambid, hajamohideen, haileselassi, habibunnisha, gnanasekeran, gurusubrahmaniyan, gurkanwaljit, gurcharanjit, gurbakhshash, gunasekharan, gregoryallan, graceeleanor\n",
      "37 : rosejuliett, zvikomborero, habibunnisha, hasanilesedi, harsimranjeet, harshwardhan, harshavardan, harryschmink, harishankaran, harinderpaul, hariharanath, hardeepind, haralambid, hajamohideen, haileselassi, haileselasi, gurusubrahmaniyan, hectordaniel, gurkanwaljit, gurcharanjit, gurbakhshash, gunasekharan, gregoryallan, graceeleanor, graceclayton\n",
      "38 : benjaminwis, zvikomborero, haileselassi, heatherleigh, hasanilesedi, harsimranjeet, harshwardhan, harshavardan, harryschmink, harishankaran, harinderpaul, hariharanath, hardeepind, haralambid, hajamohideen, haileselasi, hennerberg, habibunnisha, gurusubrahmaniyan, gurkanwaljit, gurcharanjit, gurbakhshash, gunasekharan, gregoryallan, graceeleanor\n",
      "39 : antonyjoseph, zvikomborero, habibunnisha, hasanilesedi, harsimranjeet, harshwardhan, harshavardan, harryschmink, harishankaran, harinderpaul, hariharanath, hardeepind, haralambid, hajamohideen, haileselassi, haileselasi, gurusubrahmaniyan, hectordaniel, gurkanwaljit, gurcharanjit, gurbakhshash, gunasekharan, gregoryallan, graceeleanor, graceclayton\n",
      "40 : weimiedehtho, zvikomborero, hectordaniel, hasanilesedi, harsimranjeet, harshwardhan, harshavardan, harryschmink, harishankaran, harinderpaul, hariharanath, hardeepind, haralambid, hajamohideen, haileselassi, haileselasi, habibunnisha, gurusubrahmaniyan, gurkanwaljit, gurcharanjit, gurbakhshash, gunasekharan, gregoryallan, graceeleanor, graceclayton\n",
      "41 : saravanababu, zvikomborero, habibunnisha, hasanilesedi, harsimranjeet, harshwardhan, harshavardan, harryschmink, harishankaran, harinderpaul, hariharanath, hardeepind, haralambid, hajamohideen, haileselassi, haileselasi, gurusubrahmaniyan, hectordaniel, gurkanwaljit, gurcharanjit, gurbakhshash, gunasekharan, gregoryallan, graceeleanor, graceclayton\n",
      "42 : christopherj, zvikomborero, haileselasi, hasanilesedi, harsimranjeet, harshwardhan, harshavardan, harryschmink, harishankaran, harinderpaul, hariharanath, hardeepind, haralambid, hajamohideen, haileselassi, habibunnisha, hectordaniel, gurusubrahmaniyan, gurkanwaljit, gurcharanjit, gurbakhshash, gunasekharan, gregoryallan, graceeleanor, graceclayton\n",
      "43 : lauetauyzcha, zvikomborero, habibunnisha, hasanilesedi, harsimranjeet, harshwardhan, harshavardan, harryschmink, harishankaran, harinderpaul, hariharanath, hardeepind, haralambid, hajamohideen, haileselassi, haileselasi, gurusubrahmaniyan, gurkanwaljit, gurcharanjit, gurbakhshash, gunasekharan, gregoryallan, graceeleanor, graceclayton, gowrisangeetha\n",
      "44 : kamalakannan, haileselasi, heatherleigh, hasanilesedi, harsimranjeet, harshwardhan, harshavardan, harryschmink, harishankaran, harinderpaul, hariharanath, hardeepind, haralambid, hajamohideen, haileselassi, zvikomborero, gnanaprakash, gurusubrahmaniyan, gurkanwaljit, gurcharanjit, gurbakhshash, gunasekharan, gregoryallan, graceeleanor, graceclayton\n",
      "45 : kathykathryn, zvikomborero, habibunnisha, hasanilesedi, harsimranjeet, harshwardhan, harshavardan, harryschmink, harishankaran, harinderpaul, hariharanath, hardeepind, haralambid, hajamohideen, haileselassi, haileselasi, gurusubrahmaniyan, gnanaprakash, gurkanwaljit, gurcharanjit, gurbakhshash, gunasekharan, gregoryallan, graceeleanor, graceclayton\n",
      "46 : manjuprakash, zvikomborero, habibunnisha, hasanilesedi, harsimranjeet, harshwardhan, harshavardan, harryschmink, harishankaran, harinderpaul, hariharanath, hardeepind, haralambid, hajamohideen, haileselassi, haileselasi, gurusubrahmaniyan, hectordaniel, gurkanwaljit, gurcharanjit, gurbakhshash, gunasekharan, gregoryallan, graceeleanor, graceclayton\n",
      "47 : herreshemiah, zvikomborero, haileselasi, hasanilesedi, harsimranjeet, harshwardhan, harshavardan, harryschmink, harishankaran, harinderpaul, hariharanath, hardeepind, haralambid, hajamohideen, haileselassi, habibunnisha, hectordaniel, gurusubrahmaniyan, gurkanwaljit, gurcharanjit, gurbakhshash, gunasekharan, gregoryallan, graceeleanor, graceclayton\n",
      "48 : soniarichard, zvikomborero, haileselasi, hasanilesedi, harsimranjeet, harshwardhan, harshavardan, harryschmink, harishankaran, harinderpaul, hariharanath, hardeepind, haralambid, hajamohideen, haileselassi, habibunnisha, gnanaprakash, gurusubrahmaniyan, gurkanwaljit, gurcharanjit, gurbakhshash, gunasekharan, gregoryallan, graceeleanor, graceclayton\n",
      "49 : dahliacoop, zvikomborero, hennerberg, heatherleigh, hasanilesedi, harsimranjeet, harshwardhan, harshavardan, harryschmink, harishankaran, harinderpaul, hariharanath, hardeepind, haralambid, hajamohideen, haileselassi, haileselasi, habibunnisha, gurusubrahmaniyan, gurkanwaljit, gurcharanjit, gurbakhshash, gunasekharan, gregoryallan, graceeleanor\n",
      "50 : getbeepollen, zvikomborero, habibunnisha, hasanilesedi, harsimranjeet, harshwardhan, harshavardan, harryschmink, harishankaran, harinderpaul, hariharanath, hardeepind, haralambid, hajamohideen, haileselassi, haileselasi, gurusubrahmaniyan, hectordaniel, gurkanwaljit, gurcharanjit, gurbakhshash, gunasekharan, gregoryallan, graceeleanor, graceclayton\n",
      "51 : carriether, zvikomborero, haileselassi, heatherleigh, hasanilesedi, harsimranjeet, harshwardhan, harshavardan, harryschmink, harishankaran, harinderpaul, hariharanath, hardeepind, haralambid, hajamohideen, haileselasi, hennerberg, habibunnisha, gurusubrahmaniyan, gurkanwaljit, gurcharanjit, gurbakhshash, gunasekharan, gregoryallan, graceeleanor\n",
      "52 : hasanilesedi, zvikomborero, haileselasi, heatherleigh, harsimranjeet, harshwardhan, harshavardan, harryschmink, harishankaran, harinderpaul, hariharanath, hardeepind, haralambid, hajamohideen, haileselassi, habibunnisha, gnanaprakash, gurusubrahmaniyan, gurkanwaljit, gurcharanjit, gurbakhshash, gunasekharan, gregoryallan, graceeleanor, graceclayton\n",
      "53 : atlanticgulf, zvikomborero, haileselasi, heatherleigh, hasanilesedi, harsimranjeet, harshwardhan, harshavardan, harryschmink, harishankaran, harinderpaul, hariharanath, hardeepind, haralambid, hajamohideen, haileselassi, habibunnisha, gnanasekeran, gurusubrahmaniyan, gurkanwaljit, gurcharanjit, gurbakhshash, gunasekharan, gregoryallan, graceeleanor\n",
      "54 : fradleydavid, zvikomborero, habibunnisha, hasanilesedi, harsimranjeet, harshwardhan, harshavardan, harryschmink, harishankaran, harinderpaul, hariharanath, hardeepind, haralambid, hajamohideen, haileselassi, haileselasi, gurusubrahmaniyan, hectordaniel, gurkanwaljit, gurcharanjit, gurbakhshash, gunasekharan, gregoryallan, graceeleanor, graceclayton\n",
      "55 : rchristoph, zvikomborero, hectordaniel, hasanilesedi, harsimranjeet, harshwardhan, harshavardan, harryschmink, harishankaran, harinderpaul, hariharanath, hardeepind, haralambid, hajamohideen, haileselassi, haileselasi, habibunnisha, gurusubrahmaniyan, gurkanwaljit, gurcharanjit, gurbakhshash, gunasekharan, gregoryallan, graceeleanor, graceclayton\n",
      "56 : senthilvelan, zvikomborero, habibunnisha, harsimranjeet, harshwardhan, harshavardan, harryschmink, harishankaran, harinderpaul, hariharanath, hardeepind, haralambid, hajamohideen, haileselassi, haileselasi, gurusubrahmaniyan, heatherleigh, gurkanwaljit, gurcharanjit, gurbakhshash, gunasekharan, gregoryallan, graceeleanor, graceclayton, gowrisangeetha\n",
      "57 : alliedbarton, zvikomborero, hennerberg, heatherleigh, hasanilesedi, harsimranjeet, harshwardhan, harshavardan, harryschmink, harishankaran, harinderpaul, hariharanath, hardeepind, haralambid, hajamohideen, haileselassi, haileselasi, habibunnisha, gurusubrahmaniyan, gurkanwaljit, gurcharanjit, gurbakhshash, gunasekharan, gregoryallan, graceeleanor\n",
      "58 : nishibayashi, zvikomborero, habibunnisha, hasanilesedi, harsimranjeet, harshwardhan, harshavardan, harryschmink, harishankaran, harinderpaul, hariharanath, hardeepind, haralambid, hajamohideen, haileselassi, haileselasi, gurusubrahmaniyan, hectordaniel, gurkanwaljit, gurcharanjit, gurbakhshash, gunasekharan, gregoryallan, graceeleanor, graceclayton\n",
      "59 : sampathreddi, zvikomborero, habibunnisha, hasanilesedi, harsimranjeet, harshwardhan, harshavardan, harryschmink, harishankaran, harinderpaul, hariharanath, hardeepind, haralambid, hajamohideen, haileselassi, haileselasi, gurusubrahmaniyan, hectordaniel, gurkanwaljit, gurcharanjit, gurbakhshash, gunasekharan, gregoryallan, graceeleanor, graceclayton\n",
      "60 : mruthyunjaya, zvikomborero, habibunnisha, hasanilesedi, harsimranjeet, harshwardhan, harshavardan, harryschmink, harishankaran, harinderpaul, hariharanath, hardeepind, haralambid, hajamohideen, haileselassi, haileselasi, gurusubrahmaniyan, gnanaprakash, gurkanwaljit, gurcharanjit, gurbakhshash, gunasekharan, gregoryallan, graceeleanor, graceclayton\n",
      "61 : kaushikkumar, zvikomborero, habibunnisha, hasanilesedi, harsimranjeet, harshwardhan, harshavardan, harryschmink, harishankaran, harinderpaul, hariharanath, hardeepind, haralambid, hajamohideen, haileselassi, haileselasi, gurusubrahmaniyan, gnanaprakash, gurkanwaljit, gurcharanjit, gurbakhshash, gunasekharan, gregoryallan, graceeleanor, graceclayton\n",
      "62 : vrachopoulo, zvikomborero, hectordaniel, hasanilesedi, harsimranjeet, harshwardhan, harshavardan, harryschmink, harishankaran, harinderpaul, hariharanath, hardeepind, haralambid, hajamohideen, haileselassi, haileselasi, habibunnisha, gurusubrahmaniyan, gurkanwaljit, gurcharanjit, gurbakhshash, gunasekharan, gregoryallan, graceeleanor, graceclayton\n",
      "63 : sirisambhand, zvikomborero, habibunnisha, hasanilesedi, harsimranjeet, harshwardhan, harshavardan, harryschmink, harishankaran, harinderpaul, hariharanath, hardeepind, haralambid, hajamohideen, haileselassi, haileselasi, gurusubrahmaniyan, gnanaprakash, gurkanwaljit, gurcharanjit, gurbakhshash, gunasekharan, gregoryallan, graceeleanor, graceclayton\n",
      "64 : garnetspr, zvikomborero, habibunnisha, hasanilesedi, harsimranjeet, harshwardhan, harshavardan, harryschmink, harishankaran, harinderpaul, hariharanath, hardeepind, haralambid, hajamohideen, haileselassi, haileselasi, gurusubrahmaniyan, hectordaniel, gurkanwaljit, gurcharanjit, gurbakhshash, gunasekharan, gregoryallan, graceeleanor, graceclayton\n",
      "65 : madhabananda, zvikomborero, habibunnisha, hasanilesedi, harsimranjeet, harshwardhan, harshavardan, harryschmink, harishankaran, harinderpaul, hariharanath, hardeepind, haralambid, hajamohideen, haileselassi, haileselasi, gurusubrahmaniyan, hectordaniel, gurkanwaljit, gurcharanjit, gurbakhshash, gunasekharan, gregoryallan, graceeleanor, graceclayton\n",
      "66 : shrawankumar, zvikomborero, gurusubrahmaniyan, harsimranjeet, harshwardhan, harshavardan, harryschmink, harishankaran, harinderpaul, hariharanath, hardeepind, haralambid, hajamohideen, haileselassi, haileselasi, habibunnisha, gurkanwaljit, heatherleigh, gurcharanjit, gurbakhshash, gunasekharan, gregoryallan, graceeleanor, graceclayton, gowrisangeetha\n",
      "67 : changalaraya, zvikomborero, haileselassi, heatherleigh, hasanilesedi, harsimranjeet, harshwardhan, harshavardan, harryschmink, harishankaran, harinderpaul, hariharanath, hardeepind, haralambid, hajamohideen, haileselasi, gnanasekeran, habibunnisha, gurusubrahmaniyan, gurkanwaljit, gurcharanjit, gurbakhshash, gunasekharan, gregoryallan, graceeleanor\n",
      "68 : bcollpolychem, zvikomborero, haileselassi, heatherleigh, hasanilesedi, harsimranjeet, harshwardhan, harshavardan, harryschmink, harishankaran, harinderpaul, hariharanath, hardeepind, haralambid, hajamohideen, haileselasi, hennerberg, habibunnisha, gurusubrahmaniyan, gurkanwaljit, gurcharanjit, gurbakhshash, gunasekharan, gregoryallan, graceeleanor\n",
      "69 : ramananandan, zvikomborero, habibunnisha, harsimranjeet, harshwardhan, harshavardan, harryschmink, harishankaran, harinderpaul, hariharanath, hardeepind, haralambid, hajamohideen, haileselassi, haileselasi, gurusubrahmaniyan, heatherleigh, gurkanwaljit, gurcharanjit, gurbakhshash, gunasekharan, gregoryallan, graceeleanor, graceclayton, gowrisangeetha\n",
      "70 : carmitroslyn, zvikomborero, haileselassi, heatherleigh, hasanilesedi, harsimranjeet, harshwardhan, harshavardan, harryschmink, harishankaran, harinderpaul, hariharanath, hardeepind, haralambid, hajamohideen, haileselasi, hennerberg, habibunnisha, gurusubrahmaniyan, gurkanwaljit, gurcharanjit, gurbakhshash, gunasekharan, gregoryallan, graceeleanor\n",
      "71 : geethalakshmi, zvikomborero, habibunnisha, hasanilesedi, harsimranjeet, harshwardhan, harshavardan, harryschmink, harishankaran, harinderpaul, hariharanath, hardeepind, haralambid, hajamohideen, haileselassi, haileselasi, gurusubrahmaniyan, hectordaniel, gurkanwaljit, gurcharanjit, gurbakhshash, gunasekharan, gregoryallan, graceeleanor, graceclayton\n",
      "72 : dhanamjayulu, zvikomborero, haileselasi, heatherleigh, hasanilesedi, harsimranjeet, harshwardhan, harshavardan, harryschmink, harishankaran, harinderpaul, hariharanath, hardeepind, haralambid, hajamohideen, haileselassi, habibunnisha, hennerberg, gurusubrahmaniyan, gurkanwaljit, gurcharanjit, gurbakhshash, gunasekharan, gregoryallan, graceeleanor\n",
      "73 : vikramaditya, zvikomborero, habibunnisha, harsimranjeet, harshwardhan, harshavardan, harryschmink, harishankaran, harinderpaul, hariharanath, hardeepind, haralambid, hajamohideen, haileselassi, haileselasi, gurusubrahmaniyan, heatherleigh, gurkanwaljit, gurcharanjit, gurbakhshash, gunasekharan, gregoryallan, graceeleanor, graceclayton, gowrisangeetha\n",
      "74 : baynitrobert, zvikomborero, haileselassi, heatherleigh, hasanilesedi, harsimranjeet, harshwardhan, harshavardan, harryschmink, harishankaran, harinderpaul, hariharanath, hardeepind, haralambid, hajamohideen, haileselasi, hennerberg, habibunnisha, gurusubrahmaniyan, gurkanwaljit, gurcharanjit, gurbakhshash, gunasekharan, gregoryallan, graceeleanor\n",
      "75 : muralikrishnan, zvikomborero, hasanilesedi, harsimranjeet, harshwardhan, harshavardan, harryschmink, harishankaran, harinderpaul, hariharanath, hardeepind, haralambid, hajamohideen, haileselassi, haileselasi, habibunnisha, gnanaprakash, gurusubrahmaniyan, gurkanwaljit, gurcharanjit, gurbakhshash, gunasekharan, gregoryallan, graceeleanor, graceclayton\n",
      "76 : sankarakumar, zvikomborero, habibunnisha, hasanilesedi, harsimranjeet, harshwardhan, harshavardan, harryschmink, harishankaran, harinderpaul, hariharanath, hardeepind, haralambid, hajamohideen, haileselassi, haileselasi, gurusubrahmaniyan, hectordaniel, gurkanwaljit, gurcharanjit, gurbakhshash, gunasekharan, gregoryallan, graceeleanor, graceclayton\n",
      "77 : prasannakumar, zvikomborero, haileselasi, hasanilesedi, harsimranjeet, harshwardhan, harshavardan, harryschmink, harishankaran, harinderpaul, hariharanath, hardeepind, haralambid, hajamohideen, haileselassi, habibunnisha, gnanaprakash, gurusubrahmaniyan, gurkanwaljit, gurcharanjit, gurbakhshash, gunasekharan, gregoryallan, graceeleanor, graceclayton\n",
      "78 : touseefuddin, zvikomborero, haileselasi, hasanilesedi, harsimranjeet, harshwardhan, harshavardan, harryschmink, harishankaran, harinderpaul, hariharanath, hardeepind, haralambid, hajamohideen, haileselassi, habibunnisha, hectordaniel, gurusubrahmaniyan, gurkanwaljit, gurcharanjit, gurbakhshash, gunasekharan, gregoryallan, graceeleanor, graceclayton\n",
      "79 : kathrinamari, zvikomborero, habibunnisha, hasanilesedi, harsimranjeet, harshwardhan, harshavardan, harryschmink, harishankaran, harinderpaul, hariharanath, hardeepind, haralambid, hajamohideen, haileselassi, haileselasi, gurusubrahmaniyan, gnanaprakash, gurkanwaljit, gurcharanjit, gurbakhshash, gunasekharan, gregoryallan, graceeleanor, graceclayton\n",
      "80 : vamsikrishna, habibunnisha, hasanilesedi, harsimranjeet, harshwardhan, harshavardan, harryschmink, harishankaran, harinderpaul, hariharanath, hardeepind, haralambid, hajamohideen, haileselassi, haileselasi, zvikomborero, gnanaprakash, gurusubrahmaniyan, gurkanwaljit, gurcharanjit, gurbakhshash, gunasekharan, gregoryallan, graceeleanor, graceclayton\n",
      "81 : parvatheesam, zvikomborero, hasanilesedi, harsimranjeet, harshwardhan, harshavardan, harryschmink, harishankaran, harinderpaul, hariharanath, hardeepind, haralambid, hajamohideen, haileselassi, haileselasi, habibunnisha, hectordaniel, gurusubrahmaniyan, gurkanwaljit, gurcharanjit, gurbakhshash, gunasekharan, gregoryallan, graceeleanor, graceclayton\n",
      "82 : sudheerreddi, zvikomborero, habibunnisha, hasanilesedi, harsimranjeet, harshwardhan, harshavardan, harryschmink, harishankaran, harinderpaul, hariharanath, hardeepind, haralambid, hajamohideen, haileselassi, haileselasi, gurusubrahmaniyan, hectordaniel, gurkanwaljit, gurcharanjit, gurbakhshash, gunasekharan, gregoryallan, graceeleanor, graceclayton\n",
      "83 : anandashankar, zvikomborero, haileselasi, hasanilesedi, harsimranjeet, harshwardhan, harshavardan, harryschmink, harishankaran, harinderpaul, hariharanath, hardeepind, haralambid, hajamohideen, haileselassi, habibunnisha, hectordaniel, gurusubrahmaniyan, gurkanwaljit, gurcharanjit, gurbakhshash, gunasekharan, gregoryallan, graceeleanor, graceclayton\n",
      "84 : marietheres, zvikomborero, hectordaniel, hasanilesedi, harsimranjeet, harshwardhan, harshavardan, harryschmink, harishankaran, harinderpaul, hariharanath, hardeepind, haralambid, hajamohideen, haileselassi, haileselasi, habibunnisha, gurusubrahmaniyan, gurkanwaljit, gurcharanjit, gurbakhshash, gunasekharan, gregoryallan, graceeleanor, graceclayton\n",
      "85 : muhamadtahet, zvikomborero, habibunnisha, hasanilesedi, harsimranjeet, harshwardhan, harshavardan, harryschmink, harishankaran, harinderpaul, hariharanath, hardeepind, haralambid, hajamohideen, haileselassi, haileselasi, gurusubrahmaniyan, gnanaprakash, gurkanwaljit, gurcharanjit, gurbakhshash, gunasekharan, gregoryallan, graceeleanor, graceclayton\n",
      "86 : dharmeshkumar, hennerberg, heatherleigh, hasanilesedi, harsimranjeet, harshwardhan, harshavardan, harryschmink, harishankaran, harinderpaul, hariharanath, hardeepind, haralambid, hajamohideen, haileselassi, haileselasi, zvikomborero, habibunnisha, gurusubrahmaniyan, gurkanwaljit, gurcharanjit, gurbakhshash, gunasekharan, gregoryallan, graceeleanor\n",
      "87 : karkenah, zvikomborero, haileselasi, hasanilesedi, harsimranjeet, harshwardhan, harshavardan, harryschmink, harishankaran, harinderpaul, hariharanath, hardeepind, haralambid, hajamohideen, haileselassi, habibunnisha, gnanaprakash, gurusubrahmaniyan, gurkanwaljit, gurcharanjit, gurbakhshash, gunasekharan, gregoryallan, graceeleanor, graceclayton\n",
      "88 : satinderpaul, zvikomborero, hectordaniel, hasanilesedi, harsimranjeet, harshwardhan, harshavardan, harryschmink, harishankaran, harinderpaul, hariharanath, hardeepind, haralambid, hajamohideen, haileselassi, haileselasi, habibunnisha, gurusubrahmaniyan, gurkanwaljit, gurcharanjit, gurbakhshash, gunasekharan, gregoryallan, graceeleanor, graceclayton\n",
      "89 : joethebarb, zvikomborero, habibunnisha, hasanilesedi, harsimranjeet, harshwardhan, harshavardan, harryschmink, harishankaran, harinderpaul, hariharanath, hardeepind, haralambid, hajamohideen, haileselassi, haileselasi, gurusubrahmaniyan, hectordaniel, gurkanwaljit, gurcharanjit, gurbakhshash, gunasekharan, gregoryallan, graceeleanor, graceclayton\n",
      "90 : upendrakumar, zvikomborero, haileselasi, hasanilesedi, harsimranjeet, harshwardhan, harshavardan, harryschmink, harishankaran, harinderpaul, hariharanath, hardeepind, haralambid, hajamohideen, haileselassi, habibunnisha, gnanaprakash, gurusubrahmaniyan, gurkanwaljit, gurcharanjit, gurbakhshash, gunasekharan, gregoryallan, graceeleanor, graceclayton\n",
      "91 : karimmoham, zvikomborero, haileselasi, hasanilesedi, harsimranjeet, harshwardhan, harshavardan, harryschmink, harishankaran, harinderpaul, hariharanath, hardeepind, haralambid, hajamohideen, haileselassi, habibunnisha, gnanaprakash, gurusubrahmaniyan, gurkanwaljit, gurcharanjit, gurbakhshash, gunasekharan, gregoryallan, graceeleanor, graceclayton\n",
      "92 : azandossessi, zvikomborero, heatherleigh, hasanilesedi, harsimranjeet, harshwardhan, harshavardan, harryschmink, harishankaran, harinderpaul, hariharanath, hardeepind, haralambid, hajamohideen, haileselassi, haileselasi, gnanasekeran, habibunnisha, gurusubrahmaniyan, gurkanwaljit, gurcharanjit, gurbakhshash, gunasekharan, gregoryallan, graceeleanor\n",
      "93 : senevoravong, zvikomborero, habibunnisha, hasanilesedi, harsimranjeet, harshwardhan, harshavardan, harryschmink, harishankaran, harinderpaul, hariharanath, hardeepind, haralambid, hajamohideen, haileselassi, haileselasi, gurusubrahmaniyan, gurkanwaljit, gurcharanjit, gurbakhshash, gunasekharan, gregoryallan, graceeleanor, graceclayton, gowrisangeetha\n",
      "94 : organiz, zvikomborero, habibunnisha, hasanilesedi, harsimranjeet, harshwardhan, harshavardan, harryschmink, harishankaran, harinderpaul, hariharanath, hardeepind, haralambid, hajamohideen, haileselassi, haileselasi, gurusubrahmaniyan, hectordaniel, gurkanwaljit, gurcharanjit, gurbakhshash, gunasekharan, gregoryallan, graceeleanor, graceclayton\n",
      "95 : subramanyeswara, zvikomborero, habibunnisha, hasanilesedi, harsimranjeet, harshwardhan, harshavardan, harryschmink, harishankaran, harinderpaul, hariharanath, hardeepind, haralambid, hajamohideen, haileselassi, haileselasi, gurusubrahmaniyan, hectordaniel, gurkanwaljit, gurcharanjit, gurbakhshash, gunasekharan, gregoryallan, graceeleanor, graceclayton\n",
      "96 : olufunmilola, zvikomborero, habibunnisha, hasanilesedi, harsimranjeet, harshwardhan, harshavardan, harryschmink, harishankaran, harinderpaul, hariharanath, hardeepind, haralambid, hajamohideen, haileselassi, haileselasi, gurusubrahmaniyan, hectordaniel, gurkanwaljit, gurcharanjit, gurbakhshash, gunasekharan, gregoryallan, graceeleanor, graceclayton\n",
      "97 : konstantinot, zvikomborero, gurusubrahmaniyan, harsimranjeet, harshwardhan, harshavardan, harryschmink, harishankaran, harinderpaul, hariharanath, hardeepind, haralambid, hajamohideen, haileselassi, haileselasi, habibunnisha, gurkanwaljit, heatherleigh, gurcharanjit, gurbakhshash, gunasekharan, gregoryallan, graceeleanor, graceclayton, gowrisangeetha\n",
      "98 : shashibhushan, zvikomborero, habibunnisha, harsimranjeet, harshwardhan, harshavardan, harryschmink, harishankaran, harinderpaul, hariharanath, hardeepind, haralambid, hajamohideen, haileselassi, haileselasi, gurusubrahmaniyan, heatherleigh, gurkanwaljit, gurcharanjit, gurbakhshash, gunasekharan, gregoryallan, graceeleanor, graceclayton, gowrisangeetha\n",
      "99 : bharatchandra, zvikomborero, haileselasi, heatherleigh, hasanilesedi, harsimranjeet, harshwardhan, harshavardan, harryschmink, harishankaran, harinderpaul, hariharanath, hardeepind, haralambid, hajamohideen, haileselassi, habibunnisha, hennerberg, gurusubrahmaniyan, gurkanwaljit, gurcharanjit, gurbakhshash, gunasekharan, gregoryallan, graceeleanor\n"
     ]
    }
   ],
   "source": [
    "kmeans = KMeans(n_clusters = 100, n_init = 20, n_jobs = 1)\n",
    "kmeans.fit(X3)\n",
    "# Finally, we look at 8 the clusters generated by k-means.\n",
    "common_words = kmeans.cluster_centers_.argsort()[:,-1:-26:-1]\n",
    "for num, centroid in enumerate(common_words):\n",
    "    print(str(num) + ' : ' + ', '.join(words[word] for word in centroid))"
   ]
  },
  {
   "cell_type": "code",
   "execution_count": null,
   "metadata": {},
   "outputs": [],
   "source": []
  }
 ],
 "metadata": {
  "kernelspec": {
   "display_name": "Python 3",
   "language": "python",
   "name": "python3"
  },
  "language_info": {
   "codemirror_mode": {
    "name": "ipython",
    "version": 3
   },
   "file_extension": ".py",
   "mimetype": "text/x-python",
   "name": "python",
   "nbconvert_exporter": "python",
   "pygments_lexer": "ipython3",
   "version": "3.6.8"
  }
 },
 "nbformat": 4,
 "nbformat_minor": 1
}
