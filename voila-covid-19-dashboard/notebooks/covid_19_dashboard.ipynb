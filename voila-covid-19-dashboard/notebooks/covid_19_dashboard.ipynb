{
 "cells": [
  {
   "cell_type": "markdown",
   "metadata": {},
   "source": [
    "# COVID-19 Interactive Analysis Dashboard"
   ]
  },
  {
   "cell_type": "markdown",
   "metadata": {},
   "source": [
    "## What is COVID-19?\n",
    "\n",
    "> Coronaviruses are a large family of viruses that may cause respiratory illnesses in humans ranging from common colds to more severe conditions such as Severe Acute Respiratory Syndrome (SARS) and Middle Eastern Respiratory Syndrome (MERS).1\n",
    "'Novel coronavirus' is a new, previously unidentified strain of coronavirus. The novel coronavirus involved in the current outbreak has been named SARS-CoV-2 by the World Health Organization (WHO). 3The disease it causes has been named “coronavirus disease 2019” (or “COVID-19”).`\n",
    "\n",
    "![Coronavirus particle Image](https://www.apta.com/wp-content/uploads/home-banner-1.jpg)"
   ]
  },
  {
   "cell_type": "code",
   "execution_count": 5,
   "metadata": {},
   "outputs": [],
   "source": [
    "# importing libraries\n",
    "\n",
    "from __future__ import print_function\n",
    "from ipywidgets import interact, interactive, fixed, interact_manual\n",
    "from IPython.core.display import display, HTML\n",
    "\n",
    "import numpy as np\n",
    "import pandas as pd\n",
    "import matplotlib.pyplot as plt\n",
    "import plotly.express as px\n",
    "import folium\n",
    "import plotly.graph_objects as go\n",
    "import seaborn as sns\n",
    "import ipywidgets as widgets"
   ]
  },
  {
   "cell_type": "code",
   "execution_count": 6,
   "metadata": {},
   "outputs": [],
   "source": [
    "# loading data right from the source:\n",
    "death_df = pd.read_csv('https://raw.githubusercontent.com/CSSEGISandData/COVID-19/master/csse_covid_19_data/csse_covid_19_time_series/time_series_covid19_deaths_global.csv')\n",
    "confirmed_df = pd.read_csv('https://raw.githubusercontent.com/CSSEGISandData/COVID-19/master/csse_covid_19_data/csse_covid_19_time_series/time_series_covid19_confirmed_global.csv')\n",
    "recovered_df = pd.read_csv('https://raw.githubusercontent.com/CSSEGISandData/COVID-19/master/csse_covid_19_data/csse_covid_19_time_series/time_series_covid19_recovered_global.csv')\n",
    "country_df = pd.read_csv('https://raw.githubusercontent.com/CSSEGISandData/COVID-19/web-data/data/cases_country.csv')"
   ]
  },
  {
   "cell_type": "code",
   "execution_count": 15,
   "metadata": {},
   "outputs": [],
   "source": [
    "# confirmed_df.head()"
   ]
  },
  {
   "cell_type": "code",
   "execution_count": 16,
   "metadata": {},
   "outputs": [],
   "source": [
    "# recovered_df.head()"
   ]
  },
  {
   "cell_type": "code",
   "execution_count": 17,
   "metadata": {},
   "outputs": [],
   "source": [
    "# death_df.head()"
   ]
  },
  {
   "cell_type": "code",
   "execution_count": 18,
   "metadata": {},
   "outputs": [],
   "source": [
    "# country_df.head()"
   ]
  },
  {
   "cell_type": "code",
   "execution_count": 7,
   "metadata": {},
   "outputs": [],
   "source": [
    "# data cleaning\n",
    "\n",
    "# renaming the df column names to lowercase\n",
    "country_df.columns = map(str.lower, country_df.columns)\n",
    "confirmed_df.columns = map(str.lower, confirmed_df.columns)\n",
    "death_df.columns = map(str.lower, death_df.columns)\n",
    "recovered_df.columns = map(str.lower, recovered_df.columns)\n",
    "\n",
    "# changing province/state to state and country/region to country\n",
    "confirmed_df = confirmed_df.rename(columns={'province/state': 'state', 'country/region': 'country'})\n",
    "recovered_df = confirmed_df.rename(columns={'province/state': 'state', 'country/region': 'country'})\n",
    "death_df = death_df.rename(columns={'province/state': 'state', 'country/region': 'country'})\n",
    "country_df = country_df.rename(columns={'country_region': 'country'})\n",
    "# country_df.head()"
   ]
  },
  {
   "cell_type": "code",
   "execution_count": 8,
   "metadata": {},
   "outputs": [],
   "source": [
    "# total number of confirmed, death and recovered cases\n",
    "confirmed_total = int(country_df['confirmed'].sum())\n",
    "deaths_total = int(country_df['deaths'].sum())\n",
    "recovered_total = int(country_df['recovered'].sum())\n",
    "active_total = int(country_df['active'].sum())"
   ]
  },
  {
   "cell_type": "code",
   "execution_count": 9,
   "metadata": {},
   "outputs": [
    {
     "data": {
      "text/html": [
       "<div style = 'background-color: #504e4e; padding: 30px '><span style='color: #fff; font-size:30px;'> Confirmed: 3366714</span><span style='color: red; font-size:30px;margin-left:20px;'> Deaths: 239345</span><span style='color: lightgreen; font-size:30px; margin-left:20px;'> Recovered: 1060702</span></div>"
      ],
      "text/plain": [
       "<IPython.core.display.HTML object>"
      ]
     },
     "metadata": {},
     "output_type": "display_data"
    }
   ],
   "source": [
    "# displaying the total stats\n",
    "\n",
    "display(HTML(\"<div style = 'background-color: #504e4e; padding: 30px '>\" +\n",
    "             \"<span style='color: #fff; font-size:30px;'> Confirmed: \"  + str(confirmed_total) +\"</span>\" +\n",
    "             \"<span style='color: red; font-size:30px;margin-left:20px;'> Deaths: \" + str(deaths_total) + \"</span>\"+\n",
    "             \"<span style='color: lightgreen; font-size:30px; margin-left:20px;'> Recovered: \" + str(recovered_total) + \"</span>\"+\n",
    "             \"</div>\")\n",
    "       )"
   ]
  },
  {
   "cell_type": "markdown",
   "metadata": {},
   "source": [
    "# COVID-19 Confirmed/Death/Recovered cases by countries\n",
    "\n",
    "## Enter number of countries you want the data for"
   ]
  },
  {
   "cell_type": "code",
   "execution_count": 10,
   "metadata": {},
   "outputs": [
    {
     "data": {
      "application/vnd.jupyter.widget-view+json": {
       "model_id": "5b33f1133be141fa86da43483f1279da",
       "version_major": 2,
       "version_minor": 0
      },
      "text/plain": [
       "interactive(children=(Text(value='10', description='n'), Output()), _dom_classes=('widget-interact',))"
      ]
     },
     "metadata": {},
     "output_type": "display_data"
    },
    {
     "data": {
      "application/vnd.jupyter.widget-view+json": {
       "model_id": "aca4fbffc7d84c8b99d3819ffaeaa7d2",
       "version_major": 2,
       "version_minor": 0
      },
      "text/plain": [
       "VBox(children=(FigureWidget({\n",
       "    'data': [], 'layout': {'template': '...'}\n",
       "}),), layout=Layout(border='solid …"
      ]
     },
     "metadata": {},
     "output_type": "display_data"
    }
   ],
   "source": [
    "# sorting the values by confirmed descednding order\n",
    "# country_df.sort_values('confirmed', ascending= False).head(10).style.background_gradient(cmap='copper')\n",
    "fig = go.FigureWidget( layout=go.Layout() )\n",
    "def highlight_col(x):\n",
    "    r = 'background-color: red'\n",
    "    y = 'background-color: purple'\n",
    "    g = 'background-color: grey'\n",
    "    df1 = pd.DataFrame('', index=x.index, columns=x.columns)\n",
    "    df1.iloc[:, 4] = y\n",
    "    df1.iloc[:, 5] = r\n",
    "    df1.iloc[:, 6] = g\n",
    "    \n",
    "    return df1\n",
    "\n",
    "def show_latest_cases(n):\n",
    "    n = int(n)\n",
    "    return country_df.sort_values('confirmed', ascending= False).head(n).style.apply(highlight_col, axis=None)\n",
    "\n",
    "interact(show_latest_cases, n='10')\n",
    "\n",
    "ipywLayout = widgets.Layout(border='solid 2px green')\n",
    "ipywLayout.display='none' # uncomment this, run cell again - then the graph/figure disappears\n",
    "widgets.VBox([fig], layout=ipywLayout)"
   ]
  },
  {
   "cell_type": "code",
   "execution_count": 11,
   "metadata": {},
   "outputs": [],
   "source": [
    "sorted_country_df = country_df.sort_values('confirmed', ascending= False)"
   ]
  },
  {
   "cell_type": "markdown",
   "metadata": {},
   "source": [
    "# Slide to check for the worst hit countries"
   ]
  },
  {
   "cell_type": "code",
   "execution_count": 12,
   "metadata": {},
   "outputs": [
    {
     "data": {
      "application/vnd.jupyter.widget-view+json": {
       "model_id": "ffa5ba119dc44137a85b1e62dbdfd9b2",
       "version_major": 2,
       "version_minor": 0
      },
      "text/plain": [
       "interactive(children=(IntSlider(value=10, description='n', max=30, min=-10), Output()), _dom_classes=('widget-…"
      ]
     },
     "metadata": {},
     "output_type": "display_data"
    },
    {
     "data": {
      "application/vnd.jupyter.widget-view+json": {
       "model_id": "422a55f675264714ab2e39ce4e49df01",
       "version_major": 2,
       "version_minor": 0
      },
      "text/plain": [
       "VBox(children=(FigureWidget({\n",
       "    'data': [], 'layout': {'autosize': True, 'template': '...'}\n",
       "}),), layout=Lay…"
      ]
     },
     "metadata": {},
     "output_type": "display_data"
    }
   ],
   "source": [
    "# # plotting the 20 worst hit countries\n",
    "\n",
    "def bubble_chart(n):\n",
    "    fig = px.scatter(sorted_country_df.head(n), x=\"country\", y=\"confirmed\", size=\"confirmed\", color=\"country\",\n",
    "               hover_name=\"country\", size_max=60)\n",
    "    fig.update_layout(\n",
    "    title=str(n) +\" Worst hit countries\",\n",
    "    xaxis_title=\"Countries\",\n",
    "    yaxis_title=\"Confirmed Cases\",\n",
    "    width = 700\n",
    "    )\n",
    "    fig.show();\n",
    "\n",
    "interact(bubble_chart, n=10)\n",
    "\n",
    "ipywLayout = widgets.Layout(border='solid 2px green')\n",
    "ipywLayout.display='none'\n",
    "widgets.VBox([fig], layout=ipywLayout)"
   ]
  },
  {
   "cell_type": "code",
   "execution_count": 13,
   "metadata": {},
   "outputs": [],
   "source": [
    "\n",
    "\n",
    "def plot_cases_of_a_country(country):\n",
    "    labels = ['confirmed', 'deaths']\n",
    "    colors = ['blue', 'red']\n",
    "    mode_size = [6, 8]\n",
    "    line_size = [4, 5]\n",
    "    \n",
    "    df_list = [confirmed_df, death_df]\n",
    "    \n",
    "    fig = go.Figure();\n",
    "    \n",
    "    for i, df in enumerate(df_list):\n",
    "        if country == 'World' or country == 'world':\n",
    "            x_data = np.array(list(df.iloc[:, 20:].columns))\n",
    "            y_data = np.sum(np.asarray(df.iloc[:,4:]),axis = 0)\n",
    "            \n",
    "        else:    \n",
    "            x_data = np.array(list(df.iloc[:, 20:].columns))\n",
    "            y_data = np.sum(np.asarray(df[df['country'] == country].iloc[:,20:]),axis = 0)\n",
    "            \n",
    "        fig.add_trace(go.Scatter(x=x_data, y=y_data, mode='lines+markers',\n",
    "        name=labels[i],\n",
    "        line=dict(color=colors[i], width=line_size[i]),\n",
    "        connectgaps=True,\n",
    "        text = \"Total \" + str(labels[i]) +\": \"+ str(y_data[-1])\n",
    "        ));\n",
    "    \n",
    "    fig.update_layout(\n",
    "        title=\"COVID 19 cases of \" + country,\n",
    "        xaxis_title='Date',\n",
    "        yaxis_title='No. of Confirmed Cases',\n",
    "        margin=dict(l=20, r=20, t=40, b=20),\n",
    "        paper_bgcolor=\"lightgrey\",\n",
    "        width = 800,\n",
    "        \n",
    "    );\n",
    "    \n",
    "    fig.update_yaxes(type=\"linear\")\n",
    "    fig.show();\n"
   ]
  },
  {
   "cell_type": "markdown",
   "metadata": {},
   "source": [
    "# Check the details of your country or the World\n",
    "\n",
    "* Enter the name of your country(in capitalized format(e.g. Italy)) and world for total cases"
   ]
  },
  {
   "cell_type": "code",
   "execution_count": 14,
   "metadata": {},
   "outputs": [
    {
     "data": {
      "application/vnd.jupyter.widget-view+json": {
       "model_id": "6a239e85b1b9411a8a458ae86fa59389",
       "version_major": 2,
       "version_minor": 0
      },
      "text/plain": [
       "interactive(children=(Text(value='World', description='country'), Output()), _dom_classes=('widget-interact',)…"
      ]
     },
     "metadata": {},
     "output_type": "display_data"
    },
    {
     "data": {
      "application/vnd.jupyter.widget-view+json": {
       "model_id": "a75ac78fd77a400bb446bcdb8617626e",
       "version_major": 2,
       "version_minor": 0
      },
      "text/plain": [
       "VBox(children=(FigureWidget({\n",
       "    'data': [], 'layout': {'autosize': True, 'template': '...'}\n",
       "}),), layout=Lay…"
      ]
     },
     "metadata": {},
     "output_type": "display_data"
    }
   ],
   "source": [
    "interact(plot_cases_of_a_country, country='World')\n",
    "\n",
    "ipywLayout = widgets.Layout(border='solid 2px green')\n",
    "ipywLayout.display='none' # uncomment this, run cell again - then the graph/figure disappears\n",
    "widgets.VBox([fig], layout=ipywLayout)"
   ]
  },
  {
   "cell_type": "markdown",
   "metadata": {},
   "source": [
    "# 10 worst hit countries - Confirmed cases"
   ]
  },
  {
   "cell_type": "code",
   "execution_count": 15,
   "metadata": {},
   "outputs": [
    {
     "data": {
      "application/vnd.plotly.v1+json": {
       "config": {
        "plotlyServerURL": "https://plot.ly"
       },
       "data": [
        {
         "alignmentgroup": "True",
         "hovertemplate": "country=%{x}<br>confirmed=%{y}<extra></extra>",
         "legendgroup": "",
         "marker": {
          "color": "pink"
         },
         "name": "",
         "offsetgroup": "",
         "orientation": "v",
         "showlegend": false,
         "textposition": "auto",
         "type": "bar",
         "x": [
          "US",
          "Spain",
          "Italy",
          "United Kingdom",
          "France",
          "Germany",
          "Russia",
          "Turkey",
          "Iran",
          "Brazil"
         ],
         "xaxis": "x",
         "y": [
          1106373,
          213435,
          207428,
          178689,
          167305,
          164197,
          124054,
          122392,
          96448,
          92630
         ],
         "yaxis": "y"
        }
       ],
       "layout": {
        "barmode": "relative",
        "height": 500,
        "legend": {
         "tracegroupgap": 0
        },
        "template": {
         "data": {
          "bar": [
           {
            "error_x": {
             "color": "#2a3f5f"
            },
            "error_y": {
             "color": "#2a3f5f"
            },
            "marker": {
             "line": {
              "color": "#E5ECF6",
              "width": 0.5
             }
            },
            "type": "bar"
           }
          ],
          "barpolar": [
           {
            "marker": {
             "line": {
              "color": "#E5ECF6",
              "width": 0.5
             }
            },
            "type": "barpolar"
           }
          ],
          "carpet": [
           {
            "aaxis": {
             "endlinecolor": "#2a3f5f",
             "gridcolor": "white",
             "linecolor": "white",
             "minorgridcolor": "white",
             "startlinecolor": "#2a3f5f"
            },
            "baxis": {
             "endlinecolor": "#2a3f5f",
             "gridcolor": "white",
             "linecolor": "white",
             "minorgridcolor": "white",
             "startlinecolor": "#2a3f5f"
            },
            "type": "carpet"
           }
          ],
          "choropleth": [
           {
            "colorbar": {
             "outlinewidth": 0,
             "ticks": ""
            },
            "type": "choropleth"
           }
          ],
          "contour": [
           {
            "colorbar": {
             "outlinewidth": 0,
             "ticks": ""
            },
            "colorscale": [
             [
              0,
              "#0d0887"
             ],
             [
              0.1111111111111111,
              "#46039f"
             ],
             [
              0.2222222222222222,
              "#7201a8"
             ],
             [
              0.3333333333333333,
              "#9c179e"
             ],
             [
              0.4444444444444444,
              "#bd3786"
             ],
             [
              0.5555555555555556,
              "#d8576b"
             ],
             [
              0.6666666666666666,
              "#ed7953"
             ],
             [
              0.7777777777777778,
              "#fb9f3a"
             ],
             [
              0.8888888888888888,
              "#fdca26"
             ],
             [
              1,
              "#f0f921"
             ]
            ],
            "type": "contour"
           }
          ],
          "contourcarpet": [
           {
            "colorbar": {
             "outlinewidth": 0,
             "ticks": ""
            },
            "type": "contourcarpet"
           }
          ],
          "heatmap": [
           {
            "colorbar": {
             "outlinewidth": 0,
             "ticks": ""
            },
            "colorscale": [
             [
              0,
              "#0d0887"
             ],
             [
              0.1111111111111111,
              "#46039f"
             ],
             [
              0.2222222222222222,
              "#7201a8"
             ],
             [
              0.3333333333333333,
              "#9c179e"
             ],
             [
              0.4444444444444444,
              "#bd3786"
             ],
             [
              0.5555555555555556,
              "#d8576b"
             ],
             [
              0.6666666666666666,
              "#ed7953"
             ],
             [
              0.7777777777777778,
              "#fb9f3a"
             ],
             [
              0.8888888888888888,
              "#fdca26"
             ],
             [
              1,
              "#f0f921"
             ]
            ],
            "type": "heatmap"
           }
          ],
          "heatmapgl": [
           {
            "colorbar": {
             "outlinewidth": 0,
             "ticks": ""
            },
            "colorscale": [
             [
              0,
              "#0d0887"
             ],
             [
              0.1111111111111111,
              "#46039f"
             ],
             [
              0.2222222222222222,
              "#7201a8"
             ],
             [
              0.3333333333333333,
              "#9c179e"
             ],
             [
              0.4444444444444444,
              "#bd3786"
             ],
             [
              0.5555555555555556,
              "#d8576b"
             ],
             [
              0.6666666666666666,
              "#ed7953"
             ],
             [
              0.7777777777777778,
              "#fb9f3a"
             ],
             [
              0.8888888888888888,
              "#fdca26"
             ],
             [
              1,
              "#f0f921"
             ]
            ],
            "type": "heatmapgl"
           }
          ],
          "histogram": [
           {
            "marker": {
             "colorbar": {
              "outlinewidth": 0,
              "ticks": ""
             }
            },
            "type": "histogram"
           }
          ],
          "histogram2d": [
           {
            "colorbar": {
             "outlinewidth": 0,
             "ticks": ""
            },
            "colorscale": [
             [
              0,
              "#0d0887"
             ],
             [
              0.1111111111111111,
              "#46039f"
             ],
             [
              0.2222222222222222,
              "#7201a8"
             ],
             [
              0.3333333333333333,
              "#9c179e"
             ],
             [
              0.4444444444444444,
              "#bd3786"
             ],
             [
              0.5555555555555556,
              "#d8576b"
             ],
             [
              0.6666666666666666,
              "#ed7953"
             ],
             [
              0.7777777777777778,
              "#fb9f3a"
             ],
             [
              0.8888888888888888,
              "#fdca26"
             ],
             [
              1,
              "#f0f921"
             ]
            ],
            "type": "histogram2d"
           }
          ],
          "histogram2dcontour": [
           {
            "colorbar": {
             "outlinewidth": 0,
             "ticks": ""
            },
            "colorscale": [
             [
              0,
              "#0d0887"
             ],
             [
              0.1111111111111111,
              "#46039f"
             ],
             [
              0.2222222222222222,
              "#7201a8"
             ],
             [
              0.3333333333333333,
              "#9c179e"
             ],
             [
              0.4444444444444444,
              "#bd3786"
             ],
             [
              0.5555555555555556,
              "#d8576b"
             ],
             [
              0.6666666666666666,
              "#ed7953"
             ],
             [
              0.7777777777777778,
              "#fb9f3a"
             ],
             [
              0.8888888888888888,
              "#fdca26"
             ],
             [
              1,
              "#f0f921"
             ]
            ],
            "type": "histogram2dcontour"
           }
          ],
          "mesh3d": [
           {
            "colorbar": {
             "outlinewidth": 0,
             "ticks": ""
            },
            "type": "mesh3d"
           }
          ],
          "parcoords": [
           {
            "line": {
             "colorbar": {
              "outlinewidth": 0,
              "ticks": ""
             }
            },
            "type": "parcoords"
           }
          ],
          "pie": [
           {
            "automargin": true,
            "type": "pie"
           }
          ],
          "scatter": [
           {
            "marker": {
             "colorbar": {
              "outlinewidth": 0,
              "ticks": ""
             }
            },
            "type": "scatter"
           }
          ],
          "scatter3d": [
           {
            "line": {
             "colorbar": {
              "outlinewidth": 0,
              "ticks": ""
             }
            },
            "marker": {
             "colorbar": {
              "outlinewidth": 0,
              "ticks": ""
             }
            },
            "type": "scatter3d"
           }
          ],
          "scattercarpet": [
           {
            "marker": {
             "colorbar": {
              "outlinewidth": 0,
              "ticks": ""
             }
            },
            "type": "scattercarpet"
           }
          ],
          "scattergeo": [
           {
            "marker": {
             "colorbar": {
              "outlinewidth": 0,
              "ticks": ""
             }
            },
            "type": "scattergeo"
           }
          ],
          "scattergl": [
           {
            "marker": {
             "colorbar": {
              "outlinewidth": 0,
              "ticks": ""
             }
            },
            "type": "scattergl"
           }
          ],
          "scattermapbox": [
           {
            "marker": {
             "colorbar": {
              "outlinewidth": 0,
              "ticks": ""
             }
            },
            "type": "scattermapbox"
           }
          ],
          "scatterpolar": [
           {
            "marker": {
             "colorbar": {
              "outlinewidth": 0,
              "ticks": ""
             }
            },
            "type": "scatterpolar"
           }
          ],
          "scatterpolargl": [
           {
            "marker": {
             "colorbar": {
              "outlinewidth": 0,
              "ticks": ""
             }
            },
            "type": "scatterpolargl"
           }
          ],
          "scatterternary": [
           {
            "marker": {
             "colorbar": {
              "outlinewidth": 0,
              "ticks": ""
             }
            },
            "type": "scatterternary"
           }
          ],
          "surface": [
           {
            "colorbar": {
             "outlinewidth": 0,
             "ticks": ""
            },
            "colorscale": [
             [
              0,
              "#0d0887"
             ],
             [
              0.1111111111111111,
              "#46039f"
             ],
             [
              0.2222222222222222,
              "#7201a8"
             ],
             [
              0.3333333333333333,
              "#9c179e"
             ],
             [
              0.4444444444444444,
              "#bd3786"
             ],
             [
              0.5555555555555556,
              "#d8576b"
             ],
             [
              0.6666666666666666,
              "#ed7953"
             ],
             [
              0.7777777777777778,
              "#fb9f3a"
             ],
             [
              0.8888888888888888,
              "#fdca26"
             ],
             [
              1,
              "#f0f921"
             ]
            ],
            "type": "surface"
           }
          ],
          "table": [
           {
            "cells": {
             "fill": {
              "color": "#EBF0F8"
             },
             "line": {
              "color": "white"
             }
            },
            "header": {
             "fill": {
              "color": "#C8D4E3"
             },
             "line": {
              "color": "white"
             }
            },
            "type": "table"
           }
          ]
         },
         "layout": {
          "annotationdefaults": {
           "arrowcolor": "#2a3f5f",
           "arrowhead": 0,
           "arrowwidth": 1
          },
          "coloraxis": {
           "colorbar": {
            "outlinewidth": 0,
            "ticks": ""
           }
          },
          "colorscale": {
           "diverging": [
            [
             0,
             "#8e0152"
            ],
            [
             0.1,
             "#c51b7d"
            ],
            [
             0.2,
             "#de77ae"
            ],
            [
             0.3,
             "#f1b6da"
            ],
            [
             0.4,
             "#fde0ef"
            ],
            [
             0.5,
             "#f7f7f7"
            ],
            [
             0.6,
             "#e6f5d0"
            ],
            [
             0.7,
             "#b8e186"
            ],
            [
             0.8,
             "#7fbc41"
            ],
            [
             0.9,
             "#4d9221"
            ],
            [
             1,
             "#276419"
            ]
           ],
           "sequential": [
            [
             0,
             "#0d0887"
            ],
            [
             0.1111111111111111,
             "#46039f"
            ],
            [
             0.2222222222222222,
             "#7201a8"
            ],
            [
             0.3333333333333333,
             "#9c179e"
            ],
            [
             0.4444444444444444,
             "#bd3786"
            ],
            [
             0.5555555555555556,
             "#d8576b"
            ],
            [
             0.6666666666666666,
             "#ed7953"
            ],
            [
             0.7777777777777778,
             "#fb9f3a"
            ],
            [
             0.8888888888888888,
             "#fdca26"
            ],
            [
             1,
             "#f0f921"
            ]
           ],
           "sequentialminus": [
            [
             0,
             "#0d0887"
            ],
            [
             0.1111111111111111,
             "#46039f"
            ],
            [
             0.2222222222222222,
             "#7201a8"
            ],
            [
             0.3333333333333333,
             "#9c179e"
            ],
            [
             0.4444444444444444,
             "#bd3786"
            ],
            [
             0.5555555555555556,
             "#d8576b"
            ],
            [
             0.6666666666666666,
             "#ed7953"
            ],
            [
             0.7777777777777778,
             "#fb9f3a"
            ],
            [
             0.8888888888888888,
             "#fdca26"
            ],
            [
             1,
             "#f0f921"
            ]
           ]
          },
          "colorway": [
           "#636efa",
           "#EF553B",
           "#00cc96",
           "#ab63fa",
           "#FFA15A",
           "#19d3f3",
           "#FF6692",
           "#B6E880",
           "#FF97FF",
           "#FECB52"
          ],
          "font": {
           "color": "#2a3f5f"
          },
          "geo": {
           "bgcolor": "white",
           "lakecolor": "white",
           "landcolor": "#E5ECF6",
           "showlakes": true,
           "showland": true,
           "subunitcolor": "white"
          },
          "hoverlabel": {
           "align": "left"
          },
          "hovermode": "closest",
          "mapbox": {
           "style": "light"
          },
          "paper_bgcolor": "white",
          "plot_bgcolor": "#E5ECF6",
          "polar": {
           "angularaxis": {
            "gridcolor": "white",
            "linecolor": "white",
            "ticks": ""
           },
           "bgcolor": "#E5ECF6",
           "radialaxis": {
            "gridcolor": "white",
            "linecolor": "white",
            "ticks": ""
           }
          },
          "scene": {
           "xaxis": {
            "backgroundcolor": "#E5ECF6",
            "gridcolor": "white",
            "gridwidth": 2,
            "linecolor": "white",
            "showbackground": true,
            "ticks": "",
            "zerolinecolor": "white"
           },
           "yaxis": {
            "backgroundcolor": "#E5ECF6",
            "gridcolor": "white",
            "gridwidth": 2,
            "linecolor": "white",
            "showbackground": true,
            "ticks": "",
            "zerolinecolor": "white"
           },
           "zaxis": {
            "backgroundcolor": "#E5ECF6",
            "gridcolor": "white",
            "gridwidth": 2,
            "linecolor": "white",
            "showbackground": true,
            "ticks": "",
            "zerolinecolor": "white"
           }
          },
          "shapedefaults": {
           "line": {
            "color": "#2a3f5f"
           }
          },
          "ternary": {
           "aaxis": {
            "gridcolor": "white",
            "linecolor": "white",
            "ticks": ""
           },
           "baxis": {
            "gridcolor": "white",
            "linecolor": "white",
            "ticks": ""
           },
           "bgcolor": "#E5ECF6",
           "caxis": {
            "gridcolor": "white",
            "linecolor": "white",
            "ticks": ""
           }
          },
          "title": {
           "x": 0.05
          },
          "xaxis": {
           "automargin": true,
           "gridcolor": "white",
           "linecolor": "white",
           "ticks": "",
           "title": {
            "standoff": 15
           },
           "zerolinecolor": "white",
           "zerolinewidth": 2
          },
          "yaxis": {
           "automargin": true,
           "gridcolor": "white",
           "linecolor": "white",
           "ticks": "",
           "title": {
            "standoff": 15
           },
           "zerolinecolor": "white",
           "zerolinewidth": 2
          }
         }
        },
        "title": {
         "text": "Top 10 worst affected countries"
        },
        "width": 800,
        "xaxis": {
         "anchor": "y",
         "domain": [
          0,
          1
         ],
         "title": {
          "text": "country"
         }
        },
        "yaxis": {
         "anchor": "x",
         "domain": [
          0,
          1
         ],
         "title": {
          "text": "confirmed"
         }
        }
       }
      },
      "text/html": [
       "<div>\n",
       "        \n",
       "        \n",
       "            <div id=\"e6895b89-17c3-436c-9a28-4ae63dddba65\" class=\"plotly-graph-div\" style=\"height:500px; width:800px;\"></div>\n",
       "            <script type=\"text/javascript\">\n",
       "                require([\"plotly\"], function(Plotly) {\n",
       "                    window.PLOTLYENV=window.PLOTLYENV || {};\n",
       "                    \n",
       "                if (document.getElementById(\"e6895b89-17c3-436c-9a28-4ae63dddba65\")) {\n",
       "                    Plotly.newPlot(\n",
       "                        'e6895b89-17c3-436c-9a28-4ae63dddba65',\n",
       "                        [{\"alignmentgroup\": \"True\", \"hovertemplate\": \"country=%{x}<br>confirmed=%{y}<extra></extra>\", \"legendgroup\": \"\", \"marker\": {\"color\": \"pink\"}, \"name\": \"\", \"offsetgroup\": \"\", \"orientation\": \"v\", \"showlegend\": false, \"textposition\": \"auto\", \"type\": \"bar\", \"x\": [\"US\", \"Spain\", \"Italy\", \"United Kingdom\", \"France\", \"Germany\", \"Russia\", \"Turkey\", \"Iran\", \"Brazil\"], \"xaxis\": \"x\", \"y\": [1106373, 213435, 207428, 178689, 167305, 164197, 124054, 122392, 96448, 92630], \"yaxis\": \"y\"}],\n",
       "                        {\"barmode\": \"relative\", \"height\": 500, \"legend\": {\"tracegroupgap\": 0}, \"template\": {\"data\": {\"bar\": [{\"error_x\": {\"color\": \"#2a3f5f\"}, \"error_y\": {\"color\": \"#2a3f5f\"}, \"marker\": {\"line\": {\"color\": \"#E5ECF6\", \"width\": 0.5}}, \"type\": \"bar\"}], \"barpolar\": [{\"marker\": {\"line\": {\"color\": \"#E5ECF6\", \"width\": 0.5}}, \"type\": \"barpolar\"}], \"carpet\": [{\"aaxis\": {\"endlinecolor\": \"#2a3f5f\", \"gridcolor\": \"white\", \"linecolor\": \"white\", \"minorgridcolor\": \"white\", \"startlinecolor\": \"#2a3f5f\"}, \"baxis\": {\"endlinecolor\": \"#2a3f5f\", \"gridcolor\": \"white\", \"linecolor\": \"white\", \"minorgridcolor\": \"white\", \"startlinecolor\": \"#2a3f5f\"}, \"type\": \"carpet\"}], \"choropleth\": [{\"colorbar\": {\"outlinewidth\": 0, \"ticks\": \"\"}, \"type\": \"choropleth\"}], \"contour\": [{\"colorbar\": {\"outlinewidth\": 0, \"ticks\": \"\"}, \"colorscale\": [[0.0, \"#0d0887\"], [0.1111111111111111, \"#46039f\"], [0.2222222222222222, \"#7201a8\"], [0.3333333333333333, \"#9c179e\"], [0.4444444444444444, \"#bd3786\"], [0.5555555555555556, \"#d8576b\"], [0.6666666666666666, \"#ed7953\"], [0.7777777777777778, \"#fb9f3a\"], [0.8888888888888888, \"#fdca26\"], [1.0, \"#f0f921\"]], \"type\": \"contour\"}], \"contourcarpet\": [{\"colorbar\": {\"outlinewidth\": 0, \"ticks\": \"\"}, \"type\": \"contourcarpet\"}], \"heatmap\": [{\"colorbar\": {\"outlinewidth\": 0, \"ticks\": \"\"}, \"colorscale\": [[0.0, \"#0d0887\"], [0.1111111111111111, \"#46039f\"], [0.2222222222222222, \"#7201a8\"], [0.3333333333333333, \"#9c179e\"], [0.4444444444444444, \"#bd3786\"], [0.5555555555555556, \"#d8576b\"], [0.6666666666666666, \"#ed7953\"], [0.7777777777777778, \"#fb9f3a\"], [0.8888888888888888, \"#fdca26\"], [1.0, \"#f0f921\"]], \"type\": \"heatmap\"}], \"heatmapgl\": [{\"colorbar\": {\"outlinewidth\": 0, \"ticks\": \"\"}, \"colorscale\": [[0.0, \"#0d0887\"], [0.1111111111111111, \"#46039f\"], [0.2222222222222222, \"#7201a8\"], [0.3333333333333333, \"#9c179e\"], [0.4444444444444444, \"#bd3786\"], [0.5555555555555556, \"#d8576b\"], [0.6666666666666666, \"#ed7953\"], [0.7777777777777778, \"#fb9f3a\"], [0.8888888888888888, \"#fdca26\"], [1.0, \"#f0f921\"]], \"type\": \"heatmapgl\"}], \"histogram\": [{\"marker\": {\"colorbar\": {\"outlinewidth\": 0, \"ticks\": \"\"}}, \"type\": \"histogram\"}], \"histogram2d\": [{\"colorbar\": {\"outlinewidth\": 0, \"ticks\": \"\"}, \"colorscale\": [[0.0, \"#0d0887\"], [0.1111111111111111, \"#46039f\"], [0.2222222222222222, \"#7201a8\"], [0.3333333333333333, \"#9c179e\"], [0.4444444444444444, \"#bd3786\"], [0.5555555555555556, \"#d8576b\"], [0.6666666666666666, \"#ed7953\"], [0.7777777777777778, \"#fb9f3a\"], [0.8888888888888888, \"#fdca26\"], [1.0, \"#f0f921\"]], \"type\": \"histogram2d\"}], \"histogram2dcontour\": [{\"colorbar\": {\"outlinewidth\": 0, \"ticks\": \"\"}, \"colorscale\": [[0.0, \"#0d0887\"], [0.1111111111111111, \"#46039f\"], [0.2222222222222222, \"#7201a8\"], [0.3333333333333333, \"#9c179e\"], [0.4444444444444444, \"#bd3786\"], [0.5555555555555556, \"#d8576b\"], [0.6666666666666666, \"#ed7953\"], [0.7777777777777778, \"#fb9f3a\"], [0.8888888888888888, \"#fdca26\"], [1.0, \"#f0f921\"]], \"type\": \"histogram2dcontour\"}], \"mesh3d\": [{\"colorbar\": {\"outlinewidth\": 0, \"ticks\": \"\"}, \"type\": \"mesh3d\"}], \"parcoords\": [{\"line\": {\"colorbar\": {\"outlinewidth\": 0, \"ticks\": \"\"}}, \"type\": \"parcoords\"}], \"pie\": [{\"automargin\": true, \"type\": \"pie\"}], \"scatter\": [{\"marker\": {\"colorbar\": {\"outlinewidth\": 0, \"ticks\": \"\"}}, \"type\": \"scatter\"}], \"scatter3d\": [{\"line\": {\"colorbar\": {\"outlinewidth\": 0, \"ticks\": \"\"}}, \"marker\": {\"colorbar\": {\"outlinewidth\": 0, \"ticks\": \"\"}}, \"type\": \"scatter3d\"}], \"scattercarpet\": [{\"marker\": {\"colorbar\": {\"outlinewidth\": 0, \"ticks\": \"\"}}, \"type\": \"scattercarpet\"}], \"scattergeo\": [{\"marker\": {\"colorbar\": {\"outlinewidth\": 0, \"ticks\": \"\"}}, \"type\": \"scattergeo\"}], \"scattergl\": [{\"marker\": {\"colorbar\": {\"outlinewidth\": 0, \"ticks\": \"\"}}, \"type\": \"scattergl\"}], \"scattermapbox\": [{\"marker\": {\"colorbar\": {\"outlinewidth\": 0, \"ticks\": \"\"}}, \"type\": \"scattermapbox\"}], \"scatterpolar\": [{\"marker\": {\"colorbar\": {\"outlinewidth\": 0, \"ticks\": \"\"}}, \"type\": \"scatterpolar\"}], \"scatterpolargl\": [{\"marker\": {\"colorbar\": {\"outlinewidth\": 0, \"ticks\": \"\"}}, \"type\": \"scatterpolargl\"}], \"scatterternary\": [{\"marker\": {\"colorbar\": {\"outlinewidth\": 0, \"ticks\": \"\"}}, \"type\": \"scatterternary\"}], \"surface\": [{\"colorbar\": {\"outlinewidth\": 0, \"ticks\": \"\"}, \"colorscale\": [[0.0, \"#0d0887\"], [0.1111111111111111, \"#46039f\"], [0.2222222222222222, \"#7201a8\"], [0.3333333333333333, \"#9c179e\"], [0.4444444444444444, \"#bd3786\"], [0.5555555555555556, \"#d8576b\"], [0.6666666666666666, \"#ed7953\"], [0.7777777777777778, \"#fb9f3a\"], [0.8888888888888888, \"#fdca26\"], [1.0, \"#f0f921\"]], \"type\": \"surface\"}], \"table\": [{\"cells\": {\"fill\": {\"color\": \"#EBF0F8\"}, \"line\": {\"color\": \"white\"}}, \"header\": {\"fill\": {\"color\": \"#C8D4E3\"}, \"line\": {\"color\": \"white\"}}, \"type\": \"table\"}]}, \"layout\": {\"annotationdefaults\": {\"arrowcolor\": \"#2a3f5f\", \"arrowhead\": 0, \"arrowwidth\": 1}, \"coloraxis\": {\"colorbar\": {\"outlinewidth\": 0, \"ticks\": \"\"}}, \"colorscale\": {\"diverging\": [[0, \"#8e0152\"], [0.1, \"#c51b7d\"], [0.2, \"#de77ae\"], [0.3, \"#f1b6da\"], [0.4, \"#fde0ef\"], [0.5, \"#f7f7f7\"], [0.6, \"#e6f5d0\"], [0.7, \"#b8e186\"], [0.8, \"#7fbc41\"], [0.9, \"#4d9221\"], [1, \"#276419\"]], \"sequential\": [[0.0, \"#0d0887\"], [0.1111111111111111, \"#46039f\"], [0.2222222222222222, \"#7201a8\"], [0.3333333333333333, \"#9c179e\"], [0.4444444444444444, \"#bd3786\"], [0.5555555555555556, \"#d8576b\"], [0.6666666666666666, \"#ed7953\"], [0.7777777777777778, \"#fb9f3a\"], [0.8888888888888888, \"#fdca26\"], [1.0, \"#f0f921\"]], \"sequentialminus\": [[0.0, \"#0d0887\"], [0.1111111111111111, \"#46039f\"], [0.2222222222222222, \"#7201a8\"], [0.3333333333333333, \"#9c179e\"], [0.4444444444444444, \"#bd3786\"], [0.5555555555555556, \"#d8576b\"], [0.6666666666666666, \"#ed7953\"], [0.7777777777777778, \"#fb9f3a\"], [0.8888888888888888, \"#fdca26\"], [1.0, \"#f0f921\"]]}, \"colorway\": [\"#636efa\", \"#EF553B\", \"#00cc96\", \"#ab63fa\", \"#FFA15A\", \"#19d3f3\", \"#FF6692\", \"#B6E880\", \"#FF97FF\", \"#FECB52\"], \"font\": {\"color\": \"#2a3f5f\"}, \"geo\": {\"bgcolor\": \"white\", \"lakecolor\": \"white\", \"landcolor\": \"#E5ECF6\", \"showlakes\": true, \"showland\": true, \"subunitcolor\": \"white\"}, \"hoverlabel\": {\"align\": \"left\"}, \"hovermode\": \"closest\", \"mapbox\": {\"style\": \"light\"}, \"paper_bgcolor\": \"white\", \"plot_bgcolor\": \"#E5ECF6\", \"polar\": {\"angularaxis\": {\"gridcolor\": \"white\", \"linecolor\": \"white\", \"ticks\": \"\"}, \"bgcolor\": \"#E5ECF6\", \"radialaxis\": {\"gridcolor\": \"white\", \"linecolor\": \"white\", \"ticks\": \"\"}}, \"scene\": {\"xaxis\": {\"backgroundcolor\": \"#E5ECF6\", \"gridcolor\": \"white\", \"gridwidth\": 2, \"linecolor\": \"white\", \"showbackground\": true, \"ticks\": \"\", \"zerolinecolor\": \"white\"}, \"yaxis\": {\"backgroundcolor\": \"#E5ECF6\", \"gridcolor\": \"white\", \"gridwidth\": 2, \"linecolor\": \"white\", \"showbackground\": true, \"ticks\": \"\", \"zerolinecolor\": \"white\"}, \"zaxis\": {\"backgroundcolor\": \"#E5ECF6\", \"gridcolor\": \"white\", \"gridwidth\": 2, \"linecolor\": \"white\", \"showbackground\": true, \"ticks\": \"\", \"zerolinecolor\": \"white\"}}, \"shapedefaults\": {\"line\": {\"color\": \"#2a3f5f\"}}, \"ternary\": {\"aaxis\": {\"gridcolor\": \"white\", \"linecolor\": \"white\", \"ticks\": \"\"}, \"baxis\": {\"gridcolor\": \"white\", \"linecolor\": \"white\", \"ticks\": \"\"}, \"bgcolor\": \"#E5ECF6\", \"caxis\": {\"gridcolor\": \"white\", \"linecolor\": \"white\", \"ticks\": \"\"}}, \"title\": {\"x\": 0.05}, \"xaxis\": {\"automargin\": true, \"gridcolor\": \"white\", \"linecolor\": \"white\", \"ticks\": \"\", \"title\": {\"standoff\": 15}, \"zerolinecolor\": \"white\", \"zerolinewidth\": 2}, \"yaxis\": {\"automargin\": true, \"gridcolor\": \"white\", \"linecolor\": \"white\", \"ticks\": \"\", \"title\": {\"standoff\": 15}, \"zerolinecolor\": \"white\", \"zerolinewidth\": 2}}}, \"title\": {\"text\": \"Top 10 worst affected countries\"}, \"width\": 800, \"xaxis\": {\"anchor\": \"y\", \"domain\": [0.0, 1.0], \"title\": {\"text\": \"country\"}}, \"yaxis\": {\"anchor\": \"x\", \"domain\": [0.0, 1.0], \"title\": {\"text\": \"confirmed\"}}},\n",
       "                        {\"responsive\": true}\n",
       "                    ).then(function(){\n",
       "                            \n",
       "var gd = document.getElementById('e6895b89-17c3-436c-9a28-4ae63dddba65');\n",
       "var x = new MutationObserver(function (mutations, observer) {{\n",
       "        var display = window.getComputedStyle(gd).display;\n",
       "        if (!display || display === 'none') {{\n",
       "            console.log([gd, 'removed!']);\n",
       "            Plotly.purge(gd);\n",
       "            observer.disconnect();\n",
       "        }}\n",
       "}});\n",
       "\n",
       "// Listen for the removal of the full notebook cells\n",
       "var notebookContainer = gd.closest('#notebook-container');\n",
       "if (notebookContainer) {{\n",
       "    x.observe(notebookContainer, {childList: true});\n",
       "}}\n",
       "\n",
       "// Listen for the clearing of the current output cell\n",
       "var outputEl = gd.closest('.output');\n",
       "if (outputEl) {{\n",
       "    x.observe(outputEl, {childList: true});\n",
       "}}\n",
       "\n",
       "                        })\n",
       "                };\n",
       "                });\n",
       "            </script>\n",
       "        </div>"
      ]
     },
     "metadata": {},
     "output_type": "display_data"
    }
   ],
   "source": [
    "px.bar(\n",
    "    sorted_country_df.head(10),\n",
    "    x = \"country\",\n",
    "    y = \"confirmed\",\n",
    "    title= \"Top 10 worst affected countries\", # the axis names\n",
    "    color_discrete_sequence=[\"pink\"], \n",
    "    height=500,\n",
    "    width=800\n",
    ")"
   ]
  },
  {
   "cell_type": "markdown",
   "metadata": {},
   "source": [
    "# 10 worst hit countries - Death cases"
   ]
  },
  {
   "cell_type": "code",
   "execution_count": 16,
   "metadata": {},
   "outputs": [
    {
     "data": {
      "application/vnd.plotly.v1+json": {
       "config": {
        "plotlyServerURL": "https://plot.ly"
       },
       "data": [
        {
         "alignmentgroup": "True",
         "hovertemplate": "country=%{x}<br>deaths=%{y}<extra></extra>",
         "legendgroup": "",
         "marker": {
          "color": "pink"
         },
         "name": "",
         "offsetgroup": "",
         "orientation": "v",
         "showlegend": false,
         "textposition": "auto",
         "type": "bar",
         "x": [
          "US",
          "Spain",
          "Italy",
          "United Kingdom",
          "France",
          "Germany",
          "Russia",
          "Turkey",
          "Iran",
          "Brazil"
         ],
         "xaxis": "x",
         "y": [
          65173,
          24543,
          28236,
          27583,
          24597,
          6736,
          1222,
          3258,
          6156,
          6434
         ],
         "yaxis": "y"
        }
       ],
       "layout": {
        "barmode": "relative",
        "height": 500,
        "legend": {
         "tracegroupgap": 0
        },
        "template": {
         "data": {
          "bar": [
           {
            "error_x": {
             "color": "#2a3f5f"
            },
            "error_y": {
             "color": "#2a3f5f"
            },
            "marker": {
             "line": {
              "color": "#E5ECF6",
              "width": 0.5
             }
            },
            "type": "bar"
           }
          ],
          "barpolar": [
           {
            "marker": {
             "line": {
              "color": "#E5ECF6",
              "width": 0.5
             }
            },
            "type": "barpolar"
           }
          ],
          "carpet": [
           {
            "aaxis": {
             "endlinecolor": "#2a3f5f",
             "gridcolor": "white",
             "linecolor": "white",
             "minorgridcolor": "white",
             "startlinecolor": "#2a3f5f"
            },
            "baxis": {
             "endlinecolor": "#2a3f5f",
             "gridcolor": "white",
             "linecolor": "white",
             "minorgridcolor": "white",
             "startlinecolor": "#2a3f5f"
            },
            "type": "carpet"
           }
          ],
          "choropleth": [
           {
            "colorbar": {
             "outlinewidth": 0,
             "ticks": ""
            },
            "type": "choropleth"
           }
          ],
          "contour": [
           {
            "colorbar": {
             "outlinewidth": 0,
             "ticks": ""
            },
            "colorscale": [
             [
              0,
              "#0d0887"
             ],
             [
              0.1111111111111111,
              "#46039f"
             ],
             [
              0.2222222222222222,
              "#7201a8"
             ],
             [
              0.3333333333333333,
              "#9c179e"
             ],
             [
              0.4444444444444444,
              "#bd3786"
             ],
             [
              0.5555555555555556,
              "#d8576b"
             ],
             [
              0.6666666666666666,
              "#ed7953"
             ],
             [
              0.7777777777777778,
              "#fb9f3a"
             ],
             [
              0.8888888888888888,
              "#fdca26"
             ],
             [
              1,
              "#f0f921"
             ]
            ],
            "type": "contour"
           }
          ],
          "contourcarpet": [
           {
            "colorbar": {
             "outlinewidth": 0,
             "ticks": ""
            },
            "type": "contourcarpet"
           }
          ],
          "heatmap": [
           {
            "colorbar": {
             "outlinewidth": 0,
             "ticks": ""
            },
            "colorscale": [
             [
              0,
              "#0d0887"
             ],
             [
              0.1111111111111111,
              "#46039f"
             ],
             [
              0.2222222222222222,
              "#7201a8"
             ],
             [
              0.3333333333333333,
              "#9c179e"
             ],
             [
              0.4444444444444444,
              "#bd3786"
             ],
             [
              0.5555555555555556,
              "#d8576b"
             ],
             [
              0.6666666666666666,
              "#ed7953"
             ],
             [
              0.7777777777777778,
              "#fb9f3a"
             ],
             [
              0.8888888888888888,
              "#fdca26"
             ],
             [
              1,
              "#f0f921"
             ]
            ],
            "type": "heatmap"
           }
          ],
          "heatmapgl": [
           {
            "colorbar": {
             "outlinewidth": 0,
             "ticks": ""
            },
            "colorscale": [
             [
              0,
              "#0d0887"
             ],
             [
              0.1111111111111111,
              "#46039f"
             ],
             [
              0.2222222222222222,
              "#7201a8"
             ],
             [
              0.3333333333333333,
              "#9c179e"
             ],
             [
              0.4444444444444444,
              "#bd3786"
             ],
             [
              0.5555555555555556,
              "#d8576b"
             ],
             [
              0.6666666666666666,
              "#ed7953"
             ],
             [
              0.7777777777777778,
              "#fb9f3a"
             ],
             [
              0.8888888888888888,
              "#fdca26"
             ],
             [
              1,
              "#f0f921"
             ]
            ],
            "type": "heatmapgl"
           }
          ],
          "histogram": [
           {
            "marker": {
             "colorbar": {
              "outlinewidth": 0,
              "ticks": ""
             }
            },
            "type": "histogram"
           }
          ],
          "histogram2d": [
           {
            "colorbar": {
             "outlinewidth": 0,
             "ticks": ""
            },
            "colorscale": [
             [
              0,
              "#0d0887"
             ],
             [
              0.1111111111111111,
              "#46039f"
             ],
             [
              0.2222222222222222,
              "#7201a8"
             ],
             [
              0.3333333333333333,
              "#9c179e"
             ],
             [
              0.4444444444444444,
              "#bd3786"
             ],
             [
              0.5555555555555556,
              "#d8576b"
             ],
             [
              0.6666666666666666,
              "#ed7953"
             ],
             [
              0.7777777777777778,
              "#fb9f3a"
             ],
             [
              0.8888888888888888,
              "#fdca26"
             ],
             [
              1,
              "#f0f921"
             ]
            ],
            "type": "histogram2d"
           }
          ],
          "histogram2dcontour": [
           {
            "colorbar": {
             "outlinewidth": 0,
             "ticks": ""
            },
            "colorscale": [
             [
              0,
              "#0d0887"
             ],
             [
              0.1111111111111111,
              "#46039f"
             ],
             [
              0.2222222222222222,
              "#7201a8"
             ],
             [
              0.3333333333333333,
              "#9c179e"
             ],
             [
              0.4444444444444444,
              "#bd3786"
             ],
             [
              0.5555555555555556,
              "#d8576b"
             ],
             [
              0.6666666666666666,
              "#ed7953"
             ],
             [
              0.7777777777777778,
              "#fb9f3a"
             ],
             [
              0.8888888888888888,
              "#fdca26"
             ],
             [
              1,
              "#f0f921"
             ]
            ],
            "type": "histogram2dcontour"
           }
          ],
          "mesh3d": [
           {
            "colorbar": {
             "outlinewidth": 0,
             "ticks": ""
            },
            "type": "mesh3d"
           }
          ],
          "parcoords": [
           {
            "line": {
             "colorbar": {
              "outlinewidth": 0,
              "ticks": ""
             }
            },
            "type": "parcoords"
           }
          ],
          "pie": [
           {
            "automargin": true,
            "type": "pie"
           }
          ],
          "scatter": [
           {
            "marker": {
             "colorbar": {
              "outlinewidth": 0,
              "ticks": ""
             }
            },
            "type": "scatter"
           }
          ],
          "scatter3d": [
           {
            "line": {
             "colorbar": {
              "outlinewidth": 0,
              "ticks": ""
             }
            },
            "marker": {
             "colorbar": {
              "outlinewidth": 0,
              "ticks": ""
             }
            },
            "type": "scatter3d"
           }
          ],
          "scattercarpet": [
           {
            "marker": {
             "colorbar": {
              "outlinewidth": 0,
              "ticks": ""
             }
            },
            "type": "scattercarpet"
           }
          ],
          "scattergeo": [
           {
            "marker": {
             "colorbar": {
              "outlinewidth": 0,
              "ticks": ""
             }
            },
            "type": "scattergeo"
           }
          ],
          "scattergl": [
           {
            "marker": {
             "colorbar": {
              "outlinewidth": 0,
              "ticks": ""
             }
            },
            "type": "scattergl"
           }
          ],
          "scattermapbox": [
           {
            "marker": {
             "colorbar": {
              "outlinewidth": 0,
              "ticks": ""
             }
            },
            "type": "scattermapbox"
           }
          ],
          "scatterpolar": [
           {
            "marker": {
             "colorbar": {
              "outlinewidth": 0,
              "ticks": ""
             }
            },
            "type": "scatterpolar"
           }
          ],
          "scatterpolargl": [
           {
            "marker": {
             "colorbar": {
              "outlinewidth": 0,
              "ticks": ""
             }
            },
            "type": "scatterpolargl"
           }
          ],
          "scatterternary": [
           {
            "marker": {
             "colorbar": {
              "outlinewidth": 0,
              "ticks": ""
             }
            },
            "type": "scatterternary"
           }
          ],
          "surface": [
           {
            "colorbar": {
             "outlinewidth": 0,
             "ticks": ""
            },
            "colorscale": [
             [
              0,
              "#0d0887"
             ],
             [
              0.1111111111111111,
              "#46039f"
             ],
             [
              0.2222222222222222,
              "#7201a8"
             ],
             [
              0.3333333333333333,
              "#9c179e"
             ],
             [
              0.4444444444444444,
              "#bd3786"
             ],
             [
              0.5555555555555556,
              "#d8576b"
             ],
             [
              0.6666666666666666,
              "#ed7953"
             ],
             [
              0.7777777777777778,
              "#fb9f3a"
             ],
             [
              0.8888888888888888,
              "#fdca26"
             ],
             [
              1,
              "#f0f921"
             ]
            ],
            "type": "surface"
           }
          ],
          "table": [
           {
            "cells": {
             "fill": {
              "color": "#EBF0F8"
             },
             "line": {
              "color": "white"
             }
            },
            "header": {
             "fill": {
              "color": "#C8D4E3"
             },
             "line": {
              "color": "white"
             }
            },
            "type": "table"
           }
          ]
         },
         "layout": {
          "annotationdefaults": {
           "arrowcolor": "#2a3f5f",
           "arrowhead": 0,
           "arrowwidth": 1
          },
          "coloraxis": {
           "colorbar": {
            "outlinewidth": 0,
            "ticks": ""
           }
          },
          "colorscale": {
           "diverging": [
            [
             0,
             "#8e0152"
            ],
            [
             0.1,
             "#c51b7d"
            ],
            [
             0.2,
             "#de77ae"
            ],
            [
             0.3,
             "#f1b6da"
            ],
            [
             0.4,
             "#fde0ef"
            ],
            [
             0.5,
             "#f7f7f7"
            ],
            [
             0.6,
             "#e6f5d0"
            ],
            [
             0.7,
             "#b8e186"
            ],
            [
             0.8,
             "#7fbc41"
            ],
            [
             0.9,
             "#4d9221"
            ],
            [
             1,
             "#276419"
            ]
           ],
           "sequential": [
            [
             0,
             "#0d0887"
            ],
            [
             0.1111111111111111,
             "#46039f"
            ],
            [
             0.2222222222222222,
             "#7201a8"
            ],
            [
             0.3333333333333333,
             "#9c179e"
            ],
            [
             0.4444444444444444,
             "#bd3786"
            ],
            [
             0.5555555555555556,
             "#d8576b"
            ],
            [
             0.6666666666666666,
             "#ed7953"
            ],
            [
             0.7777777777777778,
             "#fb9f3a"
            ],
            [
             0.8888888888888888,
             "#fdca26"
            ],
            [
             1,
             "#f0f921"
            ]
           ],
           "sequentialminus": [
            [
             0,
             "#0d0887"
            ],
            [
             0.1111111111111111,
             "#46039f"
            ],
            [
             0.2222222222222222,
             "#7201a8"
            ],
            [
             0.3333333333333333,
             "#9c179e"
            ],
            [
             0.4444444444444444,
             "#bd3786"
            ],
            [
             0.5555555555555556,
             "#d8576b"
            ],
            [
             0.6666666666666666,
             "#ed7953"
            ],
            [
             0.7777777777777778,
             "#fb9f3a"
            ],
            [
             0.8888888888888888,
             "#fdca26"
            ],
            [
             1,
             "#f0f921"
            ]
           ]
          },
          "colorway": [
           "#636efa",
           "#EF553B",
           "#00cc96",
           "#ab63fa",
           "#FFA15A",
           "#19d3f3",
           "#FF6692",
           "#B6E880",
           "#FF97FF",
           "#FECB52"
          ],
          "font": {
           "color": "#2a3f5f"
          },
          "geo": {
           "bgcolor": "white",
           "lakecolor": "white",
           "landcolor": "#E5ECF6",
           "showlakes": true,
           "showland": true,
           "subunitcolor": "white"
          },
          "hoverlabel": {
           "align": "left"
          },
          "hovermode": "closest",
          "mapbox": {
           "style": "light"
          },
          "paper_bgcolor": "white",
          "plot_bgcolor": "#E5ECF6",
          "polar": {
           "angularaxis": {
            "gridcolor": "white",
            "linecolor": "white",
            "ticks": ""
           },
           "bgcolor": "#E5ECF6",
           "radialaxis": {
            "gridcolor": "white",
            "linecolor": "white",
            "ticks": ""
           }
          },
          "scene": {
           "xaxis": {
            "backgroundcolor": "#E5ECF6",
            "gridcolor": "white",
            "gridwidth": 2,
            "linecolor": "white",
            "showbackground": true,
            "ticks": "",
            "zerolinecolor": "white"
           },
           "yaxis": {
            "backgroundcolor": "#E5ECF6",
            "gridcolor": "white",
            "gridwidth": 2,
            "linecolor": "white",
            "showbackground": true,
            "ticks": "",
            "zerolinecolor": "white"
           },
           "zaxis": {
            "backgroundcolor": "#E5ECF6",
            "gridcolor": "white",
            "gridwidth": 2,
            "linecolor": "white",
            "showbackground": true,
            "ticks": "",
            "zerolinecolor": "white"
           }
          },
          "shapedefaults": {
           "line": {
            "color": "#2a3f5f"
           }
          },
          "ternary": {
           "aaxis": {
            "gridcolor": "white",
            "linecolor": "white",
            "ticks": ""
           },
           "baxis": {
            "gridcolor": "white",
            "linecolor": "white",
            "ticks": ""
           },
           "bgcolor": "#E5ECF6",
           "caxis": {
            "gridcolor": "white",
            "linecolor": "white",
            "ticks": ""
           }
          },
          "title": {
           "x": 0.05
          },
          "xaxis": {
           "automargin": true,
           "gridcolor": "white",
           "linecolor": "white",
           "ticks": "",
           "title": {
            "standoff": 15
           },
           "zerolinecolor": "white",
           "zerolinewidth": 2
          },
          "yaxis": {
           "automargin": true,
           "gridcolor": "white",
           "linecolor": "white",
           "ticks": "",
           "title": {
            "standoff": 15
           },
           "zerolinecolor": "white",
           "zerolinewidth": 2
          }
         }
        },
        "title": {
         "text": "Top 10 worst affected countries"
        },
        "width": 800,
        "xaxis": {
         "anchor": "y",
         "domain": [
          0,
          1
         ],
         "title": {
          "text": "country"
         }
        },
        "yaxis": {
         "anchor": "x",
         "domain": [
          0,
          1
         ],
         "title": {
          "text": "deaths"
         }
        }
       }
      },
      "text/html": [
       "<div>\n",
       "        \n",
       "        \n",
       "            <div id=\"cef4a582-d79c-4c3d-9c8d-e5dd7d477368\" class=\"plotly-graph-div\" style=\"height:500px; width:800px;\"></div>\n",
       "            <script type=\"text/javascript\">\n",
       "                require([\"plotly\"], function(Plotly) {\n",
       "                    window.PLOTLYENV=window.PLOTLYENV || {};\n",
       "                    \n",
       "                if (document.getElementById(\"cef4a582-d79c-4c3d-9c8d-e5dd7d477368\")) {\n",
       "                    Plotly.newPlot(\n",
       "                        'cef4a582-d79c-4c3d-9c8d-e5dd7d477368',\n",
       "                        [{\"alignmentgroup\": \"True\", \"hovertemplate\": \"country=%{x}<br>deaths=%{y}<extra></extra>\", \"legendgroup\": \"\", \"marker\": {\"color\": \"pink\"}, \"name\": \"\", \"offsetgroup\": \"\", \"orientation\": \"v\", \"showlegend\": false, \"textposition\": \"auto\", \"type\": \"bar\", \"x\": [\"US\", \"Spain\", \"Italy\", \"United Kingdom\", \"France\", \"Germany\", \"Russia\", \"Turkey\", \"Iran\", \"Brazil\"], \"xaxis\": \"x\", \"y\": [65173, 24543, 28236, 27583, 24597, 6736, 1222, 3258, 6156, 6434], \"yaxis\": \"y\"}],\n",
       "                        {\"barmode\": \"relative\", \"height\": 500, \"legend\": {\"tracegroupgap\": 0}, \"template\": {\"data\": {\"bar\": [{\"error_x\": {\"color\": \"#2a3f5f\"}, \"error_y\": {\"color\": \"#2a3f5f\"}, \"marker\": {\"line\": {\"color\": \"#E5ECF6\", \"width\": 0.5}}, \"type\": \"bar\"}], \"barpolar\": [{\"marker\": {\"line\": {\"color\": \"#E5ECF6\", \"width\": 0.5}}, \"type\": \"barpolar\"}], \"carpet\": [{\"aaxis\": {\"endlinecolor\": \"#2a3f5f\", \"gridcolor\": \"white\", \"linecolor\": \"white\", \"minorgridcolor\": \"white\", \"startlinecolor\": \"#2a3f5f\"}, \"baxis\": {\"endlinecolor\": \"#2a3f5f\", \"gridcolor\": \"white\", \"linecolor\": \"white\", \"minorgridcolor\": \"white\", \"startlinecolor\": \"#2a3f5f\"}, \"type\": \"carpet\"}], \"choropleth\": [{\"colorbar\": {\"outlinewidth\": 0, \"ticks\": \"\"}, \"type\": \"choropleth\"}], \"contour\": [{\"colorbar\": {\"outlinewidth\": 0, \"ticks\": \"\"}, \"colorscale\": [[0.0, \"#0d0887\"], [0.1111111111111111, \"#46039f\"], [0.2222222222222222, \"#7201a8\"], [0.3333333333333333, \"#9c179e\"], [0.4444444444444444, \"#bd3786\"], [0.5555555555555556, \"#d8576b\"], [0.6666666666666666, \"#ed7953\"], [0.7777777777777778, \"#fb9f3a\"], [0.8888888888888888, \"#fdca26\"], [1.0, \"#f0f921\"]], \"type\": \"contour\"}], \"contourcarpet\": [{\"colorbar\": {\"outlinewidth\": 0, \"ticks\": \"\"}, \"type\": \"contourcarpet\"}], \"heatmap\": [{\"colorbar\": {\"outlinewidth\": 0, \"ticks\": \"\"}, \"colorscale\": [[0.0, \"#0d0887\"], [0.1111111111111111, \"#46039f\"], [0.2222222222222222, \"#7201a8\"], [0.3333333333333333, \"#9c179e\"], [0.4444444444444444, \"#bd3786\"], [0.5555555555555556, \"#d8576b\"], [0.6666666666666666, \"#ed7953\"], [0.7777777777777778, \"#fb9f3a\"], [0.8888888888888888, \"#fdca26\"], [1.0, \"#f0f921\"]], \"type\": \"heatmap\"}], \"heatmapgl\": [{\"colorbar\": {\"outlinewidth\": 0, \"ticks\": \"\"}, \"colorscale\": [[0.0, \"#0d0887\"], [0.1111111111111111, \"#46039f\"], [0.2222222222222222, \"#7201a8\"], [0.3333333333333333, \"#9c179e\"], [0.4444444444444444, \"#bd3786\"], [0.5555555555555556, \"#d8576b\"], [0.6666666666666666, \"#ed7953\"], [0.7777777777777778, \"#fb9f3a\"], [0.8888888888888888, \"#fdca26\"], [1.0, \"#f0f921\"]], \"type\": \"heatmapgl\"}], \"histogram\": [{\"marker\": {\"colorbar\": {\"outlinewidth\": 0, \"ticks\": \"\"}}, \"type\": \"histogram\"}], \"histogram2d\": [{\"colorbar\": {\"outlinewidth\": 0, \"ticks\": \"\"}, \"colorscale\": [[0.0, \"#0d0887\"], [0.1111111111111111, \"#46039f\"], [0.2222222222222222, \"#7201a8\"], [0.3333333333333333, \"#9c179e\"], [0.4444444444444444, \"#bd3786\"], [0.5555555555555556, \"#d8576b\"], [0.6666666666666666, \"#ed7953\"], [0.7777777777777778, \"#fb9f3a\"], [0.8888888888888888, \"#fdca26\"], [1.0, \"#f0f921\"]], \"type\": \"histogram2d\"}], \"histogram2dcontour\": [{\"colorbar\": {\"outlinewidth\": 0, \"ticks\": \"\"}, \"colorscale\": [[0.0, \"#0d0887\"], [0.1111111111111111, \"#46039f\"], [0.2222222222222222, \"#7201a8\"], [0.3333333333333333, \"#9c179e\"], [0.4444444444444444, \"#bd3786\"], [0.5555555555555556, \"#d8576b\"], [0.6666666666666666, \"#ed7953\"], [0.7777777777777778, \"#fb9f3a\"], [0.8888888888888888, \"#fdca26\"], [1.0, \"#f0f921\"]], \"type\": \"histogram2dcontour\"}], \"mesh3d\": [{\"colorbar\": {\"outlinewidth\": 0, \"ticks\": \"\"}, \"type\": \"mesh3d\"}], \"parcoords\": [{\"line\": {\"colorbar\": {\"outlinewidth\": 0, \"ticks\": \"\"}}, \"type\": \"parcoords\"}], \"pie\": [{\"automargin\": true, \"type\": \"pie\"}], \"scatter\": [{\"marker\": {\"colorbar\": {\"outlinewidth\": 0, \"ticks\": \"\"}}, \"type\": \"scatter\"}], \"scatter3d\": [{\"line\": {\"colorbar\": {\"outlinewidth\": 0, \"ticks\": \"\"}}, \"marker\": {\"colorbar\": {\"outlinewidth\": 0, \"ticks\": \"\"}}, \"type\": \"scatter3d\"}], \"scattercarpet\": [{\"marker\": {\"colorbar\": {\"outlinewidth\": 0, \"ticks\": \"\"}}, \"type\": \"scattercarpet\"}], \"scattergeo\": [{\"marker\": {\"colorbar\": {\"outlinewidth\": 0, \"ticks\": \"\"}}, \"type\": \"scattergeo\"}], \"scattergl\": [{\"marker\": {\"colorbar\": {\"outlinewidth\": 0, \"ticks\": \"\"}}, \"type\": \"scattergl\"}], \"scattermapbox\": [{\"marker\": {\"colorbar\": {\"outlinewidth\": 0, \"ticks\": \"\"}}, \"type\": \"scattermapbox\"}], \"scatterpolar\": [{\"marker\": {\"colorbar\": {\"outlinewidth\": 0, \"ticks\": \"\"}}, \"type\": \"scatterpolar\"}], \"scatterpolargl\": [{\"marker\": {\"colorbar\": {\"outlinewidth\": 0, \"ticks\": \"\"}}, \"type\": \"scatterpolargl\"}], \"scatterternary\": [{\"marker\": {\"colorbar\": {\"outlinewidth\": 0, \"ticks\": \"\"}}, \"type\": \"scatterternary\"}], \"surface\": [{\"colorbar\": {\"outlinewidth\": 0, \"ticks\": \"\"}, \"colorscale\": [[0.0, \"#0d0887\"], [0.1111111111111111, \"#46039f\"], [0.2222222222222222, \"#7201a8\"], [0.3333333333333333, \"#9c179e\"], [0.4444444444444444, \"#bd3786\"], [0.5555555555555556, \"#d8576b\"], [0.6666666666666666, \"#ed7953\"], [0.7777777777777778, \"#fb9f3a\"], [0.8888888888888888, \"#fdca26\"], [1.0, \"#f0f921\"]], \"type\": \"surface\"}], \"table\": [{\"cells\": {\"fill\": {\"color\": \"#EBF0F8\"}, \"line\": {\"color\": \"white\"}}, \"header\": {\"fill\": {\"color\": \"#C8D4E3\"}, \"line\": {\"color\": \"white\"}}, \"type\": \"table\"}]}, \"layout\": {\"annotationdefaults\": {\"arrowcolor\": \"#2a3f5f\", \"arrowhead\": 0, \"arrowwidth\": 1}, \"coloraxis\": {\"colorbar\": {\"outlinewidth\": 0, \"ticks\": \"\"}}, \"colorscale\": {\"diverging\": [[0, \"#8e0152\"], [0.1, \"#c51b7d\"], [0.2, \"#de77ae\"], [0.3, \"#f1b6da\"], [0.4, \"#fde0ef\"], [0.5, \"#f7f7f7\"], [0.6, \"#e6f5d0\"], [0.7, \"#b8e186\"], [0.8, \"#7fbc41\"], [0.9, \"#4d9221\"], [1, \"#276419\"]], \"sequential\": [[0.0, \"#0d0887\"], [0.1111111111111111, \"#46039f\"], [0.2222222222222222, \"#7201a8\"], [0.3333333333333333, \"#9c179e\"], [0.4444444444444444, \"#bd3786\"], [0.5555555555555556, \"#d8576b\"], [0.6666666666666666, \"#ed7953\"], [0.7777777777777778, \"#fb9f3a\"], [0.8888888888888888, \"#fdca26\"], [1.0, \"#f0f921\"]], \"sequentialminus\": [[0.0, \"#0d0887\"], [0.1111111111111111, \"#46039f\"], [0.2222222222222222, \"#7201a8\"], [0.3333333333333333, \"#9c179e\"], [0.4444444444444444, \"#bd3786\"], [0.5555555555555556, \"#d8576b\"], [0.6666666666666666, \"#ed7953\"], [0.7777777777777778, \"#fb9f3a\"], [0.8888888888888888, \"#fdca26\"], [1.0, \"#f0f921\"]]}, \"colorway\": [\"#636efa\", \"#EF553B\", \"#00cc96\", \"#ab63fa\", \"#FFA15A\", \"#19d3f3\", \"#FF6692\", \"#B6E880\", \"#FF97FF\", \"#FECB52\"], \"font\": {\"color\": \"#2a3f5f\"}, \"geo\": {\"bgcolor\": \"white\", \"lakecolor\": \"white\", \"landcolor\": \"#E5ECF6\", \"showlakes\": true, \"showland\": true, \"subunitcolor\": \"white\"}, \"hoverlabel\": {\"align\": \"left\"}, \"hovermode\": \"closest\", \"mapbox\": {\"style\": \"light\"}, \"paper_bgcolor\": \"white\", \"plot_bgcolor\": \"#E5ECF6\", \"polar\": {\"angularaxis\": {\"gridcolor\": \"white\", \"linecolor\": \"white\", \"ticks\": \"\"}, \"bgcolor\": \"#E5ECF6\", \"radialaxis\": {\"gridcolor\": \"white\", \"linecolor\": \"white\", \"ticks\": \"\"}}, \"scene\": {\"xaxis\": {\"backgroundcolor\": \"#E5ECF6\", \"gridcolor\": \"white\", \"gridwidth\": 2, \"linecolor\": \"white\", \"showbackground\": true, \"ticks\": \"\", \"zerolinecolor\": \"white\"}, \"yaxis\": {\"backgroundcolor\": \"#E5ECF6\", \"gridcolor\": \"white\", \"gridwidth\": 2, \"linecolor\": \"white\", \"showbackground\": true, \"ticks\": \"\", \"zerolinecolor\": \"white\"}, \"zaxis\": {\"backgroundcolor\": \"#E5ECF6\", \"gridcolor\": \"white\", \"gridwidth\": 2, \"linecolor\": \"white\", \"showbackground\": true, \"ticks\": \"\", \"zerolinecolor\": \"white\"}}, \"shapedefaults\": {\"line\": {\"color\": \"#2a3f5f\"}}, \"ternary\": {\"aaxis\": {\"gridcolor\": \"white\", \"linecolor\": \"white\", \"ticks\": \"\"}, \"baxis\": {\"gridcolor\": \"white\", \"linecolor\": \"white\", \"ticks\": \"\"}, \"bgcolor\": \"#E5ECF6\", \"caxis\": {\"gridcolor\": \"white\", \"linecolor\": \"white\", \"ticks\": \"\"}}, \"title\": {\"x\": 0.05}, \"xaxis\": {\"automargin\": true, \"gridcolor\": \"white\", \"linecolor\": \"white\", \"ticks\": \"\", \"title\": {\"standoff\": 15}, \"zerolinecolor\": \"white\", \"zerolinewidth\": 2}, \"yaxis\": {\"automargin\": true, \"gridcolor\": \"white\", \"linecolor\": \"white\", \"ticks\": \"\", \"title\": {\"standoff\": 15}, \"zerolinecolor\": \"white\", \"zerolinewidth\": 2}}}, \"title\": {\"text\": \"Top 10 worst affected countries\"}, \"width\": 800, \"xaxis\": {\"anchor\": \"y\", \"domain\": [0.0, 1.0], \"title\": {\"text\": \"country\"}}, \"yaxis\": {\"anchor\": \"x\", \"domain\": [0.0, 1.0], \"title\": {\"text\": \"deaths\"}}},\n",
       "                        {\"responsive\": true}\n",
       "                    ).then(function(){\n",
       "                            \n",
       "var gd = document.getElementById('cef4a582-d79c-4c3d-9c8d-e5dd7d477368');\n",
       "var x = new MutationObserver(function (mutations, observer) {{\n",
       "        var display = window.getComputedStyle(gd).display;\n",
       "        if (!display || display === 'none') {{\n",
       "            console.log([gd, 'removed!']);\n",
       "            Plotly.purge(gd);\n",
       "            observer.disconnect();\n",
       "        }}\n",
       "}});\n",
       "\n",
       "// Listen for the removal of the full notebook cells\n",
       "var notebookContainer = gd.closest('#notebook-container');\n",
       "if (notebookContainer) {{\n",
       "    x.observe(notebookContainer, {childList: true});\n",
       "}}\n",
       "\n",
       "// Listen for the clearing of the current output cell\n",
       "var outputEl = gd.closest('.output');\n",
       "if (outputEl) {{\n",
       "    x.observe(outputEl, {childList: true});\n",
       "}}\n",
       "\n",
       "                        })\n",
       "                };\n",
       "                });\n",
       "            </script>\n",
       "        </div>"
      ]
     },
     "metadata": {},
     "output_type": "display_data"
    }
   ],
   "source": [
    "px.bar(\n",
    "    sorted_country_df.head(10),\n",
    "    x = \"country\",\n",
    "    y = \"deaths\",\n",
    "    title= \"Top 10 worst affected countries\", # the axis names\n",
    "    color_discrete_sequence=[\"pink\"], \n",
    "    height=500,\n",
    "    width=800\n",
    ")"
   ]
  },
  {
   "cell_type": "markdown",
   "metadata": {},
   "source": [
    "# Worst hit countries - Recovering cases"
   ]
  },
  {
   "cell_type": "code",
   "execution_count": 17,
   "metadata": {},
   "outputs": [
    {
     "data": {
      "application/vnd.plotly.v1+json": {
       "config": {
        "plotlyServerURL": "https://plot.ly"
       },
       "data": [
        {
         "alignmentgroup": "True",
         "hovertemplate": "country=%{x}<br>recovered=%{y}<extra></extra>",
         "legendgroup": "",
         "marker": {
          "color": "pink"
         },
         "name": "",
         "offsetgroup": "",
         "orientation": "v",
         "showlegend": false,
         "textposition": "auto",
         "type": "bar",
         "x": [
          "US",
          "Spain",
          "Italy",
          "United Kingdom",
          "France",
          "Germany",
          "Russia",
          "Turkey",
          "Iran",
          "Brazil"
         ],
         "xaxis": "x",
         "y": [
          164015,
          112050,
          78249,
          892,
          50212,
          129000,
          15013,
          53808,
          77350,
          38039
         ],
         "yaxis": "y"
        }
       ],
       "layout": {
        "barmode": "relative",
        "height": 500,
        "legend": {
         "tracegroupgap": 0
        },
        "template": {
         "data": {
          "bar": [
           {
            "error_x": {
             "color": "#2a3f5f"
            },
            "error_y": {
             "color": "#2a3f5f"
            },
            "marker": {
             "line": {
              "color": "#E5ECF6",
              "width": 0.5
             }
            },
            "type": "bar"
           }
          ],
          "barpolar": [
           {
            "marker": {
             "line": {
              "color": "#E5ECF6",
              "width": 0.5
             }
            },
            "type": "barpolar"
           }
          ],
          "carpet": [
           {
            "aaxis": {
             "endlinecolor": "#2a3f5f",
             "gridcolor": "white",
             "linecolor": "white",
             "minorgridcolor": "white",
             "startlinecolor": "#2a3f5f"
            },
            "baxis": {
             "endlinecolor": "#2a3f5f",
             "gridcolor": "white",
             "linecolor": "white",
             "minorgridcolor": "white",
             "startlinecolor": "#2a3f5f"
            },
            "type": "carpet"
           }
          ],
          "choropleth": [
           {
            "colorbar": {
             "outlinewidth": 0,
             "ticks": ""
            },
            "type": "choropleth"
           }
          ],
          "contour": [
           {
            "colorbar": {
             "outlinewidth": 0,
             "ticks": ""
            },
            "colorscale": [
             [
              0,
              "#0d0887"
             ],
             [
              0.1111111111111111,
              "#46039f"
             ],
             [
              0.2222222222222222,
              "#7201a8"
             ],
             [
              0.3333333333333333,
              "#9c179e"
             ],
             [
              0.4444444444444444,
              "#bd3786"
             ],
             [
              0.5555555555555556,
              "#d8576b"
             ],
             [
              0.6666666666666666,
              "#ed7953"
             ],
             [
              0.7777777777777778,
              "#fb9f3a"
             ],
             [
              0.8888888888888888,
              "#fdca26"
             ],
             [
              1,
              "#f0f921"
             ]
            ],
            "type": "contour"
           }
          ],
          "contourcarpet": [
           {
            "colorbar": {
             "outlinewidth": 0,
             "ticks": ""
            },
            "type": "contourcarpet"
           }
          ],
          "heatmap": [
           {
            "colorbar": {
             "outlinewidth": 0,
             "ticks": ""
            },
            "colorscale": [
             [
              0,
              "#0d0887"
             ],
             [
              0.1111111111111111,
              "#46039f"
             ],
             [
              0.2222222222222222,
              "#7201a8"
             ],
             [
              0.3333333333333333,
              "#9c179e"
             ],
             [
              0.4444444444444444,
              "#bd3786"
             ],
             [
              0.5555555555555556,
              "#d8576b"
             ],
             [
              0.6666666666666666,
              "#ed7953"
             ],
             [
              0.7777777777777778,
              "#fb9f3a"
             ],
             [
              0.8888888888888888,
              "#fdca26"
             ],
             [
              1,
              "#f0f921"
             ]
            ],
            "type": "heatmap"
           }
          ],
          "heatmapgl": [
           {
            "colorbar": {
             "outlinewidth": 0,
             "ticks": ""
            },
            "colorscale": [
             [
              0,
              "#0d0887"
             ],
             [
              0.1111111111111111,
              "#46039f"
             ],
             [
              0.2222222222222222,
              "#7201a8"
             ],
             [
              0.3333333333333333,
              "#9c179e"
             ],
             [
              0.4444444444444444,
              "#bd3786"
             ],
             [
              0.5555555555555556,
              "#d8576b"
             ],
             [
              0.6666666666666666,
              "#ed7953"
             ],
             [
              0.7777777777777778,
              "#fb9f3a"
             ],
             [
              0.8888888888888888,
              "#fdca26"
             ],
             [
              1,
              "#f0f921"
             ]
            ],
            "type": "heatmapgl"
           }
          ],
          "histogram": [
           {
            "marker": {
             "colorbar": {
              "outlinewidth": 0,
              "ticks": ""
             }
            },
            "type": "histogram"
           }
          ],
          "histogram2d": [
           {
            "colorbar": {
             "outlinewidth": 0,
             "ticks": ""
            },
            "colorscale": [
             [
              0,
              "#0d0887"
             ],
             [
              0.1111111111111111,
              "#46039f"
             ],
             [
              0.2222222222222222,
              "#7201a8"
             ],
             [
              0.3333333333333333,
              "#9c179e"
             ],
             [
              0.4444444444444444,
              "#bd3786"
             ],
             [
              0.5555555555555556,
              "#d8576b"
             ],
             [
              0.6666666666666666,
              "#ed7953"
             ],
             [
              0.7777777777777778,
              "#fb9f3a"
             ],
             [
              0.8888888888888888,
              "#fdca26"
             ],
             [
              1,
              "#f0f921"
             ]
            ],
            "type": "histogram2d"
           }
          ],
          "histogram2dcontour": [
           {
            "colorbar": {
             "outlinewidth": 0,
             "ticks": ""
            },
            "colorscale": [
             [
              0,
              "#0d0887"
             ],
             [
              0.1111111111111111,
              "#46039f"
             ],
             [
              0.2222222222222222,
              "#7201a8"
             ],
             [
              0.3333333333333333,
              "#9c179e"
             ],
             [
              0.4444444444444444,
              "#bd3786"
             ],
             [
              0.5555555555555556,
              "#d8576b"
             ],
             [
              0.6666666666666666,
              "#ed7953"
             ],
             [
              0.7777777777777778,
              "#fb9f3a"
             ],
             [
              0.8888888888888888,
              "#fdca26"
             ],
             [
              1,
              "#f0f921"
             ]
            ],
            "type": "histogram2dcontour"
           }
          ],
          "mesh3d": [
           {
            "colorbar": {
             "outlinewidth": 0,
             "ticks": ""
            },
            "type": "mesh3d"
           }
          ],
          "parcoords": [
           {
            "line": {
             "colorbar": {
              "outlinewidth": 0,
              "ticks": ""
             }
            },
            "type": "parcoords"
           }
          ],
          "pie": [
           {
            "automargin": true,
            "type": "pie"
           }
          ],
          "scatter": [
           {
            "marker": {
             "colorbar": {
              "outlinewidth": 0,
              "ticks": ""
             }
            },
            "type": "scatter"
           }
          ],
          "scatter3d": [
           {
            "line": {
             "colorbar": {
              "outlinewidth": 0,
              "ticks": ""
             }
            },
            "marker": {
             "colorbar": {
              "outlinewidth": 0,
              "ticks": ""
             }
            },
            "type": "scatter3d"
           }
          ],
          "scattercarpet": [
           {
            "marker": {
             "colorbar": {
              "outlinewidth": 0,
              "ticks": ""
             }
            },
            "type": "scattercarpet"
           }
          ],
          "scattergeo": [
           {
            "marker": {
             "colorbar": {
              "outlinewidth": 0,
              "ticks": ""
             }
            },
            "type": "scattergeo"
           }
          ],
          "scattergl": [
           {
            "marker": {
             "colorbar": {
              "outlinewidth": 0,
              "ticks": ""
             }
            },
            "type": "scattergl"
           }
          ],
          "scattermapbox": [
           {
            "marker": {
             "colorbar": {
              "outlinewidth": 0,
              "ticks": ""
             }
            },
            "type": "scattermapbox"
           }
          ],
          "scatterpolar": [
           {
            "marker": {
             "colorbar": {
              "outlinewidth": 0,
              "ticks": ""
             }
            },
            "type": "scatterpolar"
           }
          ],
          "scatterpolargl": [
           {
            "marker": {
             "colorbar": {
              "outlinewidth": 0,
              "ticks": ""
             }
            },
            "type": "scatterpolargl"
           }
          ],
          "scatterternary": [
           {
            "marker": {
             "colorbar": {
              "outlinewidth": 0,
              "ticks": ""
             }
            },
            "type": "scatterternary"
           }
          ],
          "surface": [
           {
            "colorbar": {
             "outlinewidth": 0,
             "ticks": ""
            },
            "colorscale": [
             [
              0,
              "#0d0887"
             ],
             [
              0.1111111111111111,
              "#46039f"
             ],
             [
              0.2222222222222222,
              "#7201a8"
             ],
             [
              0.3333333333333333,
              "#9c179e"
             ],
             [
              0.4444444444444444,
              "#bd3786"
             ],
             [
              0.5555555555555556,
              "#d8576b"
             ],
             [
              0.6666666666666666,
              "#ed7953"
             ],
             [
              0.7777777777777778,
              "#fb9f3a"
             ],
             [
              0.8888888888888888,
              "#fdca26"
             ],
             [
              1,
              "#f0f921"
             ]
            ],
            "type": "surface"
           }
          ],
          "table": [
           {
            "cells": {
             "fill": {
              "color": "#EBF0F8"
             },
             "line": {
              "color": "white"
             }
            },
            "header": {
             "fill": {
              "color": "#C8D4E3"
             },
             "line": {
              "color": "white"
             }
            },
            "type": "table"
           }
          ]
         },
         "layout": {
          "annotationdefaults": {
           "arrowcolor": "#2a3f5f",
           "arrowhead": 0,
           "arrowwidth": 1
          },
          "coloraxis": {
           "colorbar": {
            "outlinewidth": 0,
            "ticks": ""
           }
          },
          "colorscale": {
           "diverging": [
            [
             0,
             "#8e0152"
            ],
            [
             0.1,
             "#c51b7d"
            ],
            [
             0.2,
             "#de77ae"
            ],
            [
             0.3,
             "#f1b6da"
            ],
            [
             0.4,
             "#fde0ef"
            ],
            [
             0.5,
             "#f7f7f7"
            ],
            [
             0.6,
             "#e6f5d0"
            ],
            [
             0.7,
             "#b8e186"
            ],
            [
             0.8,
             "#7fbc41"
            ],
            [
             0.9,
             "#4d9221"
            ],
            [
             1,
             "#276419"
            ]
           ],
           "sequential": [
            [
             0,
             "#0d0887"
            ],
            [
             0.1111111111111111,
             "#46039f"
            ],
            [
             0.2222222222222222,
             "#7201a8"
            ],
            [
             0.3333333333333333,
             "#9c179e"
            ],
            [
             0.4444444444444444,
             "#bd3786"
            ],
            [
             0.5555555555555556,
             "#d8576b"
            ],
            [
             0.6666666666666666,
             "#ed7953"
            ],
            [
             0.7777777777777778,
             "#fb9f3a"
            ],
            [
             0.8888888888888888,
             "#fdca26"
            ],
            [
             1,
             "#f0f921"
            ]
           ],
           "sequentialminus": [
            [
             0,
             "#0d0887"
            ],
            [
             0.1111111111111111,
             "#46039f"
            ],
            [
             0.2222222222222222,
             "#7201a8"
            ],
            [
             0.3333333333333333,
             "#9c179e"
            ],
            [
             0.4444444444444444,
             "#bd3786"
            ],
            [
             0.5555555555555556,
             "#d8576b"
            ],
            [
             0.6666666666666666,
             "#ed7953"
            ],
            [
             0.7777777777777778,
             "#fb9f3a"
            ],
            [
             0.8888888888888888,
             "#fdca26"
            ],
            [
             1,
             "#f0f921"
            ]
           ]
          },
          "colorway": [
           "#636efa",
           "#EF553B",
           "#00cc96",
           "#ab63fa",
           "#FFA15A",
           "#19d3f3",
           "#FF6692",
           "#B6E880",
           "#FF97FF",
           "#FECB52"
          ],
          "font": {
           "color": "#2a3f5f"
          },
          "geo": {
           "bgcolor": "white",
           "lakecolor": "white",
           "landcolor": "#E5ECF6",
           "showlakes": true,
           "showland": true,
           "subunitcolor": "white"
          },
          "hoverlabel": {
           "align": "left"
          },
          "hovermode": "closest",
          "mapbox": {
           "style": "light"
          },
          "paper_bgcolor": "white",
          "plot_bgcolor": "#E5ECF6",
          "polar": {
           "angularaxis": {
            "gridcolor": "white",
            "linecolor": "white",
            "ticks": ""
           },
           "bgcolor": "#E5ECF6",
           "radialaxis": {
            "gridcolor": "white",
            "linecolor": "white",
            "ticks": ""
           }
          },
          "scene": {
           "xaxis": {
            "backgroundcolor": "#E5ECF6",
            "gridcolor": "white",
            "gridwidth": 2,
            "linecolor": "white",
            "showbackground": true,
            "ticks": "",
            "zerolinecolor": "white"
           },
           "yaxis": {
            "backgroundcolor": "#E5ECF6",
            "gridcolor": "white",
            "gridwidth": 2,
            "linecolor": "white",
            "showbackground": true,
            "ticks": "",
            "zerolinecolor": "white"
           },
           "zaxis": {
            "backgroundcolor": "#E5ECF6",
            "gridcolor": "white",
            "gridwidth": 2,
            "linecolor": "white",
            "showbackground": true,
            "ticks": "",
            "zerolinecolor": "white"
           }
          },
          "shapedefaults": {
           "line": {
            "color": "#2a3f5f"
           }
          },
          "ternary": {
           "aaxis": {
            "gridcolor": "white",
            "linecolor": "white",
            "ticks": ""
           },
           "baxis": {
            "gridcolor": "white",
            "linecolor": "white",
            "ticks": ""
           },
           "bgcolor": "#E5ECF6",
           "caxis": {
            "gridcolor": "white",
            "linecolor": "white",
            "ticks": ""
           }
          },
          "title": {
           "x": 0.05
          },
          "xaxis": {
           "automargin": true,
           "gridcolor": "white",
           "linecolor": "white",
           "ticks": "",
           "title": {
            "standoff": 15
           },
           "zerolinecolor": "white",
           "zerolinewidth": 2
          },
          "yaxis": {
           "automargin": true,
           "gridcolor": "white",
           "linecolor": "white",
           "ticks": "",
           "title": {
            "standoff": 15
           },
           "zerolinecolor": "white",
           "zerolinewidth": 2
          }
         }
        },
        "title": {
         "text": "Top 10 worst affected countries"
        },
        "width": 800,
        "xaxis": {
         "anchor": "y",
         "domain": [
          0,
          1
         ],
         "title": {
          "text": "country"
         }
        },
        "yaxis": {
         "anchor": "x",
         "domain": [
          0,
          1
         ],
         "title": {
          "text": "recovered"
         }
        }
       }
      },
      "text/html": [
       "<div>\n",
       "        \n",
       "        \n",
       "            <div id=\"50d99e36-3b58-44c2-8a91-92722dd34b5b\" class=\"plotly-graph-div\" style=\"height:500px; width:800px;\"></div>\n",
       "            <script type=\"text/javascript\">\n",
       "                require([\"plotly\"], function(Plotly) {\n",
       "                    window.PLOTLYENV=window.PLOTLYENV || {};\n",
       "                    \n",
       "                if (document.getElementById(\"50d99e36-3b58-44c2-8a91-92722dd34b5b\")) {\n",
       "                    Plotly.newPlot(\n",
       "                        '50d99e36-3b58-44c2-8a91-92722dd34b5b',\n",
       "                        [{\"alignmentgroup\": \"True\", \"hovertemplate\": \"country=%{x}<br>recovered=%{y}<extra></extra>\", \"legendgroup\": \"\", \"marker\": {\"color\": \"pink\"}, \"name\": \"\", \"offsetgroup\": \"\", \"orientation\": \"v\", \"showlegend\": false, \"textposition\": \"auto\", \"type\": \"bar\", \"x\": [\"US\", \"Spain\", \"Italy\", \"United Kingdom\", \"France\", \"Germany\", \"Russia\", \"Turkey\", \"Iran\", \"Brazil\"], \"xaxis\": \"x\", \"y\": [164015, 112050, 78249, 892, 50212, 129000, 15013, 53808, 77350, 38039], \"yaxis\": \"y\"}],\n",
       "                        {\"barmode\": \"relative\", \"height\": 500, \"legend\": {\"tracegroupgap\": 0}, \"template\": {\"data\": {\"bar\": [{\"error_x\": {\"color\": \"#2a3f5f\"}, \"error_y\": {\"color\": \"#2a3f5f\"}, \"marker\": {\"line\": {\"color\": \"#E5ECF6\", \"width\": 0.5}}, \"type\": \"bar\"}], \"barpolar\": [{\"marker\": {\"line\": {\"color\": \"#E5ECF6\", \"width\": 0.5}}, \"type\": \"barpolar\"}], \"carpet\": [{\"aaxis\": {\"endlinecolor\": \"#2a3f5f\", \"gridcolor\": \"white\", \"linecolor\": \"white\", \"minorgridcolor\": \"white\", \"startlinecolor\": \"#2a3f5f\"}, \"baxis\": {\"endlinecolor\": \"#2a3f5f\", \"gridcolor\": \"white\", \"linecolor\": \"white\", \"minorgridcolor\": \"white\", \"startlinecolor\": \"#2a3f5f\"}, \"type\": \"carpet\"}], \"choropleth\": [{\"colorbar\": {\"outlinewidth\": 0, \"ticks\": \"\"}, \"type\": \"choropleth\"}], \"contour\": [{\"colorbar\": {\"outlinewidth\": 0, \"ticks\": \"\"}, \"colorscale\": [[0.0, \"#0d0887\"], [0.1111111111111111, \"#46039f\"], [0.2222222222222222, \"#7201a8\"], [0.3333333333333333, \"#9c179e\"], [0.4444444444444444, \"#bd3786\"], [0.5555555555555556, \"#d8576b\"], [0.6666666666666666, \"#ed7953\"], [0.7777777777777778, \"#fb9f3a\"], [0.8888888888888888, \"#fdca26\"], [1.0, \"#f0f921\"]], \"type\": \"contour\"}], \"contourcarpet\": [{\"colorbar\": {\"outlinewidth\": 0, \"ticks\": \"\"}, \"type\": \"contourcarpet\"}], \"heatmap\": [{\"colorbar\": {\"outlinewidth\": 0, \"ticks\": \"\"}, \"colorscale\": [[0.0, \"#0d0887\"], [0.1111111111111111, \"#46039f\"], [0.2222222222222222, \"#7201a8\"], [0.3333333333333333, \"#9c179e\"], [0.4444444444444444, \"#bd3786\"], [0.5555555555555556, \"#d8576b\"], [0.6666666666666666, \"#ed7953\"], [0.7777777777777778, \"#fb9f3a\"], [0.8888888888888888, \"#fdca26\"], [1.0, \"#f0f921\"]], \"type\": \"heatmap\"}], \"heatmapgl\": [{\"colorbar\": {\"outlinewidth\": 0, \"ticks\": \"\"}, \"colorscale\": [[0.0, \"#0d0887\"], [0.1111111111111111, \"#46039f\"], [0.2222222222222222, \"#7201a8\"], [0.3333333333333333, \"#9c179e\"], [0.4444444444444444, \"#bd3786\"], [0.5555555555555556, \"#d8576b\"], [0.6666666666666666, \"#ed7953\"], [0.7777777777777778, \"#fb9f3a\"], [0.8888888888888888, \"#fdca26\"], [1.0, \"#f0f921\"]], \"type\": \"heatmapgl\"}], \"histogram\": [{\"marker\": {\"colorbar\": {\"outlinewidth\": 0, \"ticks\": \"\"}}, \"type\": \"histogram\"}], \"histogram2d\": [{\"colorbar\": {\"outlinewidth\": 0, \"ticks\": \"\"}, \"colorscale\": [[0.0, \"#0d0887\"], [0.1111111111111111, \"#46039f\"], [0.2222222222222222, \"#7201a8\"], [0.3333333333333333, \"#9c179e\"], [0.4444444444444444, \"#bd3786\"], [0.5555555555555556, \"#d8576b\"], [0.6666666666666666, \"#ed7953\"], [0.7777777777777778, \"#fb9f3a\"], [0.8888888888888888, \"#fdca26\"], [1.0, \"#f0f921\"]], \"type\": \"histogram2d\"}], \"histogram2dcontour\": [{\"colorbar\": {\"outlinewidth\": 0, \"ticks\": \"\"}, \"colorscale\": [[0.0, \"#0d0887\"], [0.1111111111111111, \"#46039f\"], [0.2222222222222222, \"#7201a8\"], [0.3333333333333333, \"#9c179e\"], [0.4444444444444444, \"#bd3786\"], [0.5555555555555556, \"#d8576b\"], [0.6666666666666666, \"#ed7953\"], [0.7777777777777778, \"#fb9f3a\"], [0.8888888888888888, \"#fdca26\"], [1.0, \"#f0f921\"]], \"type\": \"histogram2dcontour\"}], \"mesh3d\": [{\"colorbar\": {\"outlinewidth\": 0, \"ticks\": \"\"}, \"type\": \"mesh3d\"}], \"parcoords\": [{\"line\": {\"colorbar\": {\"outlinewidth\": 0, \"ticks\": \"\"}}, \"type\": \"parcoords\"}], \"pie\": [{\"automargin\": true, \"type\": \"pie\"}], \"scatter\": [{\"marker\": {\"colorbar\": {\"outlinewidth\": 0, \"ticks\": \"\"}}, \"type\": \"scatter\"}], \"scatter3d\": [{\"line\": {\"colorbar\": {\"outlinewidth\": 0, \"ticks\": \"\"}}, \"marker\": {\"colorbar\": {\"outlinewidth\": 0, \"ticks\": \"\"}}, \"type\": \"scatter3d\"}], \"scattercarpet\": [{\"marker\": {\"colorbar\": {\"outlinewidth\": 0, \"ticks\": \"\"}}, \"type\": \"scattercarpet\"}], \"scattergeo\": [{\"marker\": {\"colorbar\": {\"outlinewidth\": 0, \"ticks\": \"\"}}, \"type\": \"scattergeo\"}], \"scattergl\": [{\"marker\": {\"colorbar\": {\"outlinewidth\": 0, \"ticks\": \"\"}}, \"type\": \"scattergl\"}], \"scattermapbox\": [{\"marker\": {\"colorbar\": {\"outlinewidth\": 0, \"ticks\": \"\"}}, \"type\": \"scattermapbox\"}], \"scatterpolar\": [{\"marker\": {\"colorbar\": {\"outlinewidth\": 0, \"ticks\": \"\"}}, \"type\": \"scatterpolar\"}], \"scatterpolargl\": [{\"marker\": {\"colorbar\": {\"outlinewidth\": 0, \"ticks\": \"\"}}, \"type\": \"scatterpolargl\"}], \"scatterternary\": [{\"marker\": {\"colorbar\": {\"outlinewidth\": 0, \"ticks\": \"\"}}, \"type\": \"scatterternary\"}], \"surface\": [{\"colorbar\": {\"outlinewidth\": 0, \"ticks\": \"\"}, \"colorscale\": [[0.0, \"#0d0887\"], [0.1111111111111111, \"#46039f\"], [0.2222222222222222, \"#7201a8\"], [0.3333333333333333, \"#9c179e\"], [0.4444444444444444, \"#bd3786\"], [0.5555555555555556, \"#d8576b\"], [0.6666666666666666, \"#ed7953\"], [0.7777777777777778, \"#fb9f3a\"], [0.8888888888888888, \"#fdca26\"], [1.0, \"#f0f921\"]], \"type\": \"surface\"}], \"table\": [{\"cells\": {\"fill\": {\"color\": \"#EBF0F8\"}, \"line\": {\"color\": \"white\"}}, \"header\": {\"fill\": {\"color\": \"#C8D4E3\"}, \"line\": {\"color\": \"white\"}}, \"type\": \"table\"}]}, \"layout\": {\"annotationdefaults\": {\"arrowcolor\": \"#2a3f5f\", \"arrowhead\": 0, \"arrowwidth\": 1}, \"coloraxis\": {\"colorbar\": {\"outlinewidth\": 0, \"ticks\": \"\"}}, \"colorscale\": {\"diverging\": [[0, \"#8e0152\"], [0.1, \"#c51b7d\"], [0.2, \"#de77ae\"], [0.3, \"#f1b6da\"], [0.4, \"#fde0ef\"], [0.5, \"#f7f7f7\"], [0.6, \"#e6f5d0\"], [0.7, \"#b8e186\"], [0.8, \"#7fbc41\"], [0.9, \"#4d9221\"], [1, \"#276419\"]], \"sequential\": [[0.0, \"#0d0887\"], [0.1111111111111111, \"#46039f\"], [0.2222222222222222, \"#7201a8\"], [0.3333333333333333, \"#9c179e\"], [0.4444444444444444, \"#bd3786\"], [0.5555555555555556, \"#d8576b\"], [0.6666666666666666, \"#ed7953\"], [0.7777777777777778, \"#fb9f3a\"], [0.8888888888888888, \"#fdca26\"], [1.0, \"#f0f921\"]], \"sequentialminus\": [[0.0, \"#0d0887\"], [0.1111111111111111, \"#46039f\"], [0.2222222222222222, \"#7201a8\"], [0.3333333333333333, \"#9c179e\"], [0.4444444444444444, \"#bd3786\"], [0.5555555555555556, \"#d8576b\"], [0.6666666666666666, \"#ed7953\"], [0.7777777777777778, \"#fb9f3a\"], [0.8888888888888888, \"#fdca26\"], [1.0, \"#f0f921\"]]}, \"colorway\": [\"#636efa\", \"#EF553B\", \"#00cc96\", \"#ab63fa\", \"#FFA15A\", \"#19d3f3\", \"#FF6692\", \"#B6E880\", \"#FF97FF\", \"#FECB52\"], \"font\": {\"color\": \"#2a3f5f\"}, \"geo\": {\"bgcolor\": \"white\", \"lakecolor\": \"white\", \"landcolor\": \"#E5ECF6\", \"showlakes\": true, \"showland\": true, \"subunitcolor\": \"white\"}, \"hoverlabel\": {\"align\": \"left\"}, \"hovermode\": \"closest\", \"mapbox\": {\"style\": \"light\"}, \"paper_bgcolor\": \"white\", \"plot_bgcolor\": \"#E5ECF6\", \"polar\": {\"angularaxis\": {\"gridcolor\": \"white\", \"linecolor\": \"white\", \"ticks\": \"\"}, \"bgcolor\": \"#E5ECF6\", \"radialaxis\": {\"gridcolor\": \"white\", \"linecolor\": \"white\", \"ticks\": \"\"}}, \"scene\": {\"xaxis\": {\"backgroundcolor\": \"#E5ECF6\", \"gridcolor\": \"white\", \"gridwidth\": 2, \"linecolor\": \"white\", \"showbackground\": true, \"ticks\": \"\", \"zerolinecolor\": \"white\"}, \"yaxis\": {\"backgroundcolor\": \"#E5ECF6\", \"gridcolor\": \"white\", \"gridwidth\": 2, \"linecolor\": \"white\", \"showbackground\": true, \"ticks\": \"\", \"zerolinecolor\": \"white\"}, \"zaxis\": {\"backgroundcolor\": \"#E5ECF6\", \"gridcolor\": \"white\", \"gridwidth\": 2, \"linecolor\": \"white\", \"showbackground\": true, \"ticks\": \"\", \"zerolinecolor\": \"white\"}}, \"shapedefaults\": {\"line\": {\"color\": \"#2a3f5f\"}}, \"ternary\": {\"aaxis\": {\"gridcolor\": \"white\", \"linecolor\": \"white\", \"ticks\": \"\"}, \"baxis\": {\"gridcolor\": \"white\", \"linecolor\": \"white\", \"ticks\": \"\"}, \"bgcolor\": \"#E5ECF6\", \"caxis\": {\"gridcolor\": \"white\", \"linecolor\": \"white\", \"ticks\": \"\"}}, \"title\": {\"x\": 0.05}, \"xaxis\": {\"automargin\": true, \"gridcolor\": \"white\", \"linecolor\": \"white\", \"ticks\": \"\", \"title\": {\"standoff\": 15}, \"zerolinecolor\": \"white\", \"zerolinewidth\": 2}, \"yaxis\": {\"automargin\": true, \"gridcolor\": \"white\", \"linecolor\": \"white\", \"ticks\": \"\", \"title\": {\"standoff\": 15}, \"zerolinecolor\": \"white\", \"zerolinewidth\": 2}}}, \"title\": {\"text\": \"Top 10 worst affected countries\"}, \"width\": 800, \"xaxis\": {\"anchor\": \"y\", \"domain\": [0.0, 1.0], \"title\": {\"text\": \"country\"}}, \"yaxis\": {\"anchor\": \"x\", \"domain\": [0.0, 1.0], \"title\": {\"text\": \"recovered\"}}},\n",
       "                        {\"responsive\": true}\n",
       "                    ).then(function(){\n",
       "                            \n",
       "var gd = document.getElementById('50d99e36-3b58-44c2-8a91-92722dd34b5b');\n",
       "var x = new MutationObserver(function (mutations, observer) {{\n",
       "        var display = window.getComputedStyle(gd).display;\n",
       "        if (!display || display === 'none') {{\n",
       "            console.log([gd, 'removed!']);\n",
       "            Plotly.purge(gd);\n",
       "            observer.disconnect();\n",
       "        }}\n",
       "}});\n",
       "\n",
       "// Listen for the removal of the full notebook cells\n",
       "var notebookContainer = gd.closest('#notebook-container');\n",
       "if (notebookContainer) {{\n",
       "    x.observe(notebookContainer, {childList: true});\n",
       "}}\n",
       "\n",
       "// Listen for the clearing of the current output cell\n",
       "var outputEl = gd.closest('.output');\n",
       "if (outputEl) {{\n",
       "    x.observe(outputEl, {childList: true});\n",
       "}}\n",
       "\n",
       "                        })\n",
       "                };\n",
       "                });\n",
       "            </script>\n",
       "        </div>"
      ]
     },
     "metadata": {},
     "output_type": "display_data"
    }
   ],
   "source": [
    "px.bar(\n",
    "    sorted_country_df.head(10),\n",
    "    x = \"country\",\n",
    "    y = \"recovered\",\n",
    "    title= \"Top 10 worst affected countries\", # the axis names\n",
    "    color_discrete_sequence=[\"pink\"], \n",
    "    height=500,\n",
    "    width=800\n",
    ")"
   ]
  },
  {
   "cell_type": "markdown",
   "metadata": {},
   "source": [
    "# Global spread of COVID-19"
   ]
  },
  {
   "cell_type": "code",
   "execution_count": 18,
   "metadata": {
    "scrolled": true
   },
   "outputs": [
    {
     "data": {
      "text/html": [
       "<div style=\"width:100%;\"><div style=\"position:relative;width:100%;height:0;padding-bottom:60%;\"><iframe src=\"about:blank\" style=\"position:absolute;width:100%;height:100%;left:0;top:0;border:none !important;\" data-html=PCFET0NUWVBFIGh0bWw+CjxoZWFkPiAgICAKICAgIDxtZXRhIGh0dHAtZXF1aXY9ImNvbnRlbnQtdHlwZSIgY29udGVudD0idGV4dC9odG1sOyBjaGFyc2V0PVVURi04IiAvPgogICAgCiAgICAgICAgPHNjcmlwdD4KICAgICAgICAgICAgTF9OT19UT1VDSCA9IGZhbHNlOwogICAgICAgICAgICBMX0RJU0FCTEVfM0QgPSBmYWxzZTsKICAgICAgICA8L3NjcmlwdD4KICAgIAogICAgPHNjcmlwdCBzcmM9Imh0dHBzOi8vY2RuLmpzZGVsaXZyLm5ldC9ucG0vbGVhZmxldEAxLjUuMS9kaXN0L2xlYWZsZXQuanMiPjwvc2NyaXB0PgogICAgPHNjcmlwdCBzcmM9Imh0dHBzOi8vY29kZS5qcXVlcnkuY29tL2pxdWVyeS0xLjEyLjQubWluLmpzIj48L3NjcmlwdD4KICAgIDxzY3JpcHQgc3JjPSJodHRwczovL21heGNkbi5ib290c3RyYXBjZG4uY29tL2Jvb3RzdHJhcC8zLjIuMC9qcy9ib290c3RyYXAubWluLmpzIj48L3NjcmlwdD4KICAgIDxzY3JpcHQgc3JjPSJodHRwczovL2NkbmpzLmNsb3VkZmxhcmUuY29tL2FqYXgvbGlicy9MZWFmbGV0LmF3ZXNvbWUtbWFya2Vycy8yLjAuMi9sZWFmbGV0LmF3ZXNvbWUtbWFya2Vycy5qcyI+PC9zY3JpcHQ+CiAgICA8bGluayByZWw9InN0eWxlc2hlZXQiIGhyZWY9Imh0dHBzOi8vY2RuLmpzZGVsaXZyLm5ldC9ucG0vbGVhZmxldEAxLjUuMS9kaXN0L2xlYWZsZXQuY3NzIi8+CiAgICA8bGluayByZWw9InN0eWxlc2hlZXQiIGhyZWY9Imh0dHBzOi8vbWF4Y2RuLmJvb3RzdHJhcGNkbi5jb20vYm9vdHN0cmFwLzMuMi4wL2Nzcy9ib290c3RyYXAubWluLmNzcyIvPgogICAgPGxpbmsgcmVsPSJzdHlsZXNoZWV0IiBocmVmPSJodHRwczovL21heGNkbi5ib290c3RyYXBjZG4uY29tL2Jvb3RzdHJhcC8zLjIuMC9jc3MvYm9vdHN0cmFwLXRoZW1lLm1pbi5jc3MiLz4KICAgIDxsaW5rIHJlbD0ic3R5bGVzaGVldCIgaHJlZj0iaHR0cHM6Ly9tYXhjZG4uYm9vdHN0cmFwY2RuLmNvbS9mb250LWF3ZXNvbWUvNC42LjMvY3NzL2ZvbnQtYXdlc29tZS5taW4uY3NzIi8+CiAgICA8bGluayByZWw9InN0eWxlc2hlZXQiIGhyZWY9Imh0dHBzOi8vY2RuanMuY2xvdWRmbGFyZS5jb20vYWpheC9saWJzL0xlYWZsZXQuYXdlc29tZS1tYXJrZXJzLzIuMC4yL2xlYWZsZXQuYXdlc29tZS1tYXJrZXJzLmNzcyIvPgogICAgPGxpbmsgcmVsPSJzdHlsZXNoZWV0IiBocmVmPSJodHRwczovL3Jhd2Nkbi5naXRoYWNrLmNvbS9weXRob24tdmlzdWFsaXphdGlvbi9mb2xpdW0vbWFzdGVyL2ZvbGl1bS90ZW1wbGF0ZXMvbGVhZmxldC5hd2Vzb21lLnJvdGF0ZS5jc3MiLz4KICAgIDxzdHlsZT5odG1sLCBib2R5IHt3aWR0aDogMTAwJTtoZWlnaHQ6IDEwMCU7bWFyZ2luOiAwO3BhZGRpbmc6IDA7fTwvc3R5bGU+CiAgICA8c3R5bGU+I21hcCB7cG9zaXRpb246YWJzb2x1dGU7dG9wOjA7Ym90dG9tOjA7cmlnaHQ6MDtsZWZ0OjA7fTwvc3R5bGU+CiAgICAKICAgICAgICAgICAgPG1ldGEgbmFtZT0idmlld3BvcnQiIGNvbnRlbnQ9IndpZHRoPWRldmljZS13aWR0aCwKICAgICAgICAgICAgICAgIGluaXRpYWwtc2NhbGU9MS4wLCBtYXhpbXVtLXNjYWxlPTEuMCwgdXNlci1zY2FsYWJsZT1ubyIgLz4KICAgICAgICAgICAgPHN0eWxlPgogICAgICAgICAgICAgICAgI21hcF9mZmYxODU3NTk0YmY0YTNhODI3OGYxMjUzNmNjZDYzNyB7CiAgICAgICAgICAgICAgICAgICAgcG9zaXRpb246IHJlbGF0aXZlOwogICAgICAgICAgICAgICAgICAgIHdpZHRoOiAxMDAuMCU7CiAgICAgICAgICAgICAgICAgICAgaGVpZ2h0OiAxMDAuMCU7CiAgICAgICAgICAgICAgICAgICAgbGVmdDogMC4wJTsKICAgICAgICAgICAgICAgICAgICB0b3A6IDAuMCU7CiAgICAgICAgICAgICAgICB9CiAgICAgICAgICAgIDwvc3R5bGU+CiAgICAgICAgCjwvaGVhZD4KPGJvZHk+ICAgIAogICAgCiAgICAgICAgICAgIDxkaXYgY2xhc3M9ImZvbGl1bS1tYXAiIGlkPSJtYXBfZmZmMTg1NzU5NGJmNGEzYTgyNzhmMTI1MzZjY2Q2MzciID48L2Rpdj4KICAgICAgICAKPC9ib2R5Pgo8c2NyaXB0PiAgICAKICAgIAogICAgICAgICAgICB2YXIgbWFwX2ZmZjE4NTc1OTRiZjRhM2E4Mjc4ZjEyNTM2Y2NkNjM3ID0gTC5tYXAoCiAgICAgICAgICAgICAgICAibWFwX2ZmZjE4NTc1OTRiZjRhM2E4Mjc4ZjEyNTM2Y2NkNjM3IiwKICAgICAgICAgICAgICAgIHsKICAgICAgICAgICAgICAgICAgICBjZW50ZXI6IFsxMS4wLCAwLjBdLAogICAgICAgICAgICAgICAgICAgIGNyczogTC5DUlMuRVBTRzM4NTcsCiAgICAgICAgICAgICAgICAgICAgem9vbTogMiwKICAgICAgICAgICAgICAgICAgICB6b29tQ29udHJvbDogdHJ1ZSwKICAgICAgICAgICAgICAgICAgICBwcmVmZXJDYW52YXM6IGZhbHNlLAogICAgICAgICAgICAgICAgfQogICAgICAgICAgICApOwoKICAgICAgICAgICAgCgogICAgICAgIAogICAgCiAgICAgICAgICAgIHZhciB0aWxlX2xheWVyX2ExNDI3N2IwNGYyNjQ2Zjc4ODAxMTFkMDI0OWEzNTdjID0gTC50aWxlTGF5ZXIoCiAgICAgICAgICAgICAgICAiaHR0cHM6Ly9jYXJ0b2RiLWJhc2VtYXBzLXtzfS5nbG9iYWwuc3NsLmZhc3RseS5uZXQvbGlnaHRfYWxsL3t6fS97eH0ve3l9LnBuZyIsCiAgICAgICAgICAgICAgICB7ImF0dHJpYnV0aW9uIjogIlx1MDAyNmNvcHk7IFx1MDAzY2EgaHJlZj1cImh0dHA6Ly93d3cub3BlbnN0cmVldG1hcC5vcmcvY29weXJpZ2h0XCJcdTAwM2VPcGVuU3RyZWV0TWFwXHUwMDNjL2FcdTAwM2UgY29udHJpYnV0b3JzIFx1MDAyNmNvcHk7IFx1MDAzY2EgaHJlZj1cImh0dHA6Ly9jYXJ0b2RiLmNvbS9hdHRyaWJ1dGlvbnNcIlx1MDAzZUNhcnRvREJcdTAwM2MvYVx1MDAzZSwgQ2FydG9EQiBcdTAwM2NhIGhyZWYgPVwiaHR0cDovL2NhcnRvZGIuY29tL2F0dHJpYnV0aW9uc1wiXHUwMDNlYXR0cmlidXRpb25zXHUwMDNjL2FcdTAwM2UiLCAiZGV0ZWN0UmV0aW5hIjogZmFsc2UsICJtYXhOYXRpdmVab29tIjogNiwgIm1heFpvb20iOiA2LCAibWluWm9vbSI6IDIsICJub1dyYXAiOiBmYWxzZSwgIm9wYWNpdHkiOiAxLCAic3ViZG9tYWlucyI6ICJhYmMiLCAidG1zIjogZmFsc2V9CiAgICAgICAgICAgICkuYWRkVG8obWFwX2ZmZjE4NTc1OTRiZjRhM2E4Mjc4ZjEyNTM2Y2NkNjM3KTsKICAgICAgICAKICAgIAogICAgICAgICAgICB2YXIgY2lyY2xlX2RlNWIzMDA4MTEyYjQzNjJiYzIwYzJjNjY3MzUwMmU2ID0gTC5jaXJjbGUoCiAgICAgICAgICAgICAgICBbMzMuMCwgNjUuMF0sCiAgICAgICAgICAgICAgICB7ImJ1YmJsaW5nTW91c2VFdmVudHMiOiB0cnVlLCAiY29sb3IiOiAicmVkIiwgImRhc2hBcnJheSI6IG51bGwsICJkYXNoT2Zmc2V0IjogbnVsbCwgImZpbGwiOiB0cnVlLCAiZmlsbENvbG9yIjogImluZGlnbyIsICJmaWxsT3BhY2l0eSI6IDAuMiwgImZpbGxSdWxlIjogImV2ZW5vZGQiLCAibGluZUNhcCI6ICJyb3VuZCIsICJsaW5lSm9pbiI6ICJyb3VuZCIsICJvcGFjaXR5IjogMS4wLCAicmFkaXVzIjogMzYwMDAwLjAsICJzdHJva2UiOiB0cnVlLCAid2VpZ2h0IjogM30KICAgICAgICAgICAgKS5hZGRUbyhtYXBfZmZmMTg1NzU5NGJmNGEzYTgyNzhmMTI1MzZjY2Q2MzcpOwogICAgICAgIAogICAgCiAgICAgICAgICAgIGNpcmNsZV9kZTViMzAwODExMmI0MzYyYmMyMGMyYzY2NzM1MDJlNi5iaW5kVG9vbHRpcCgKICAgICAgICAgICAgICAgIGA8ZGl2PgogICAgICAgICAgICAgICAgICAgICA8ZGl2IHN0eWxlPSdtYXJnaW46IDA7IGJhY2tncm91bmQtY29sb3I6IGJsYWNrOyBjb2xvcjogd2hpdGU7Jz48aDQgc3R5bGU9J3RleHQtYWxpZ246Y2VudGVyO2ZvbnQtd2VpZ2h0OiBib2xkJz5BZmdoYW5pc3RhbjwvaDQ+PGhyIHN0eWxlPSdtYXJnaW46MTBweDtjb2xvcjogd2hpdGU7Jz48dWwgc3R5bGU9J2NvbG9yOiB3aGl0ZTs7bGlzdC1zdHlsZS10eXBlOmNpcmNsZTthbGlnbi1pdGVtOmxlZnQ7cGFkZGluZy1sZWZ0OjIwcHg7cGFkZGluZy1yaWdodDoyMHB4Jz48bGk+Q29uZmlybWVkOiAyMzM1PC9saT48bGk+RGVhdGhzOiAgIDY4PC9saT48bGk+RGVhdGggUmF0ZTogMi45MTwvbGk+PC91bD48L2Rpdj4KICAgICAgICAgICAgICAgICA8L2Rpdj5gLAogICAgICAgICAgICAgICAgeyJzdGlja3kiOiB0cnVlfQogICAgICAgICAgICApOwogICAgICAgIAogICAgCiAgICAgICAgICAgIHZhciBjaXJjbGVfOGE2ZjQxNGRjZmZhNDEzZmJjMDJiNWZiNGI3MjdjZTggPSBMLmNpcmNsZSgKICAgICAgICAgICAgICAgIFs0MS4xNTMzLCAyMC4xNjgzXSwKICAgICAgICAgICAgICAgIHsiYnViYmxpbmdNb3VzZUV2ZW50cyI6IHRydWUsICJjb2xvciI6ICJyZWQiLCAiZGFzaEFycmF5IjogbnVsbCwgImRhc2hPZmZzZXQiOiBudWxsLCAiZmlsbCI6IHRydWUsICJmaWxsQ29sb3IiOiAiaW5kaWdvIiwgImZpbGxPcGFjaXR5IjogMC4yLCAiZmlsbFJ1bGUiOiAiZXZlbm9kZCIsICJsaW5lQ2FwIjogInJvdW5kIiwgImxpbmVKb2luIjogInJvdW5kIiwgIm9wYWNpdHkiOiAxLjAsICJyYWRpdXMiOiAzMTAwMDAuMCwgInN0cm9rZSI6IHRydWUsICJ3ZWlnaHQiOiAzfQogICAgICAgICAgICApLmFkZFRvKG1hcF9mZmYxODU3NTk0YmY0YTNhODI3OGYxMjUzNmNjZDYzNyk7CiAgICAgICAgCiAgICAKICAgICAgICAgICAgY2lyY2xlXzhhNmY0MTRkY2ZmYTQxM2ZiYzAyYjVmYjRiNzI3Y2U4LmJpbmRUb29sdGlwKAogICAgICAgICAgICAgICAgYDxkaXY+CiAgICAgICAgICAgICAgICAgICAgIDxkaXYgc3R5bGU9J21hcmdpbjogMDsgYmFja2dyb3VuZC1jb2xvcjogYmxhY2s7IGNvbG9yOiB3aGl0ZTsnPjxoNCBzdHlsZT0ndGV4dC1hbGlnbjpjZW50ZXI7Zm9udC13ZWlnaHQ6IGJvbGQnPkFsYmFuaWE8L2g0PjxociBzdHlsZT0nbWFyZ2luOjEwcHg7Y29sb3I6IHdoaXRlOyc+PHVsIHN0eWxlPSdjb2xvcjogd2hpdGU7O2xpc3Qtc3R5bGUtdHlwZTpjaXJjbGU7YWxpZ24taXRlbTpsZWZ0O3BhZGRpbmctbGVmdDoyMHB4O3BhZGRpbmctcmlnaHQ6MjBweCc+PGxpPkNvbmZpcm1lZDogNzgyPC9saT48bGk+RGVhdGhzOiAgIDMxPC9saT48bGk+RGVhdGggUmF0ZTogMy45NjwvbGk+PC91bD48L2Rpdj4KICAgICAgICAgICAgICAgICA8L2Rpdj5gLAogICAgICAgICAgICAgICAgeyJzdGlja3kiOiB0cnVlfQogICAgICAgICAgICApOwogICAgICAgIAogICAgCiAgICAgICAgICAgIHZhciBjaXJjbGVfZjQyYWUyMDU3MTQxNDllNGI0MGJhYTg5YWQ2ZDc1MWUgPSBMLmNpcmNsZSgKICAgICAgICAgICAgICAgIFsyOC4wMzM5LCAxLjY1OTZdLAogICAgICAgICAgICAgICAgeyJidWJibGluZ01vdXNlRXZlbnRzIjogdHJ1ZSwgImNvbG9yIjogInJlZCIsICJkYXNoQXJyYXkiOiBudWxsLCAiZGFzaE9mZnNldCI6IG51bGwsICJmaWxsIjogdHJ1ZSwgImZpbGxDb2xvciI6ICJpbmRpZ28iLCAiZmlsbE9wYWNpdHkiOiAwLjIsICJmaWxsUnVsZSI6ICJldmVub2RkIiwgImxpbmVDYXAiOiAicm91bmQiLCAibGluZUpvaW4iOiAicm91bmQiLCAib3BhY2l0eSI6IDEuMCwgInJhZGl1cyI6IDQwOTk5OS45OTk5OTk5OTk5NCwgInN0cm9rZSI6IHRydWUsICJ3ZWlnaHQiOiAzfQogICAgICAgICAgICApLmFkZFRvKG1hcF9mZmYxODU3NTk0YmY0YTNhODI3OGYxMjUzNmNjZDYzNyk7CiAgICAgICAgCiAgICAKICAgICAgICAgICAgY2lyY2xlX2Y0MmFlMjA1NzE0MTQ5ZTRiNDBiYWE4OWFkNmQ3NTFlLmJpbmRUb29sdGlwKAogICAgICAgICAgICAgICAgYDxkaXY+CiAgICAgICAgICAgICAgICAgICAgIDxkaXYgc3R5bGU9J21hcmdpbjogMDsgYmFja2dyb3VuZC1jb2xvcjogYmxhY2s7IGNvbG9yOiB3aGl0ZTsnPjxoNCBzdHlsZT0ndGV4dC1hbGlnbjpjZW50ZXI7Zm9udC13ZWlnaHQ6IGJvbGQnPkFsZ2VyaWE8L2g0PjxociBzdHlsZT0nbWFyZ2luOjEwcHg7Y29sb3I6IHdoaXRlOyc+PHVsIHN0eWxlPSdjb2xvcjogd2hpdGU7O2xpc3Qtc3R5bGUtdHlwZTpjaXJjbGU7YWxpZ24taXRlbTpsZWZ0O3BhZGRpbmctbGVmdDoyMHB4O3BhZGRpbmctcmlnaHQ6MjBweCc+PGxpPkNvbmZpcm1lZDogNDE1NDwvbGk+PGxpPkRlYXRoczogICA0NTM8L2xpPjxsaT5EZWF0aCBSYXRlOiAxMC45PC9saT48L3VsPjwvZGl2PgogICAgICAgICAgICAgICAgIDwvZGl2PmAsCiAgICAgICAgICAgICAgICB7InN0aWNreSI6IHRydWV9CiAgICAgICAgICAgICk7CiAgICAgICAgCiAgICAKICAgICAgICAgICAgdmFyIGNpcmNsZV8wNWM2MGJmNzI0NmU0YTE0OTI2ZTAwMGM4MWRkMzBkMSA9IEwuY2lyY2xlKAogICAgICAgICAgICAgICAgWzQyLjUwNjMsIDEuNTIxOF0sCiAgICAgICAgICAgICAgICB7ImJ1YmJsaW5nTW91c2VFdmVudHMiOiB0cnVlLCAiY29sb3IiOiAicmVkIiwgImRhc2hBcnJheSI6IG51bGwsICJkYXNoT2Zmc2V0IjogbnVsbCwgImZpbGwiOiB0cnVlLCAiZmlsbENvbG9yIjogImluZGlnbyIsICJmaWxsT3BhY2l0eSI6IDAuMiwgImZpbGxSdWxlIjogImV2ZW5vZGQiLCAibGluZUNhcCI6ICJyb3VuZCIsICJsaW5lSm9pbiI6ICJyb3VuZCIsICJvcGFjaXR5IjogMS4wLCAicmFkaXVzIjogMzEwMDAwLjAsICJzdHJva2UiOiB0cnVlLCAid2VpZ2h0IjogM30KICAgICAgICAgICAgKS5hZGRUbyhtYXBfZmZmMTg1NzU5NGJmNGEzYTgyNzhmMTI1MzZjY2Q2MzcpOwogICAgICAgIAogICAgCiAgICAgICAgICAgIGNpcmNsZV8wNWM2MGJmNzI0NmU0YTE0OTI2ZTAwMGM4MWRkMzBkMS5iaW5kVG9vbHRpcCgKICAgICAgICAgICAgICAgIGA8ZGl2PgogICAgICAgICAgICAgICAgICAgICA8ZGl2IHN0eWxlPSdtYXJnaW46IDA7IGJhY2tncm91bmQtY29sb3I6IGJsYWNrOyBjb2xvcjogd2hpdGU7Jz48aDQgc3R5bGU9J3RleHQtYWxpZ246Y2VudGVyO2ZvbnQtd2VpZ2h0OiBib2xkJz5BbmRvcnJhPC9oND48aHIgc3R5bGU9J21hcmdpbjoxMHB4O2NvbG9yOiB3aGl0ZTsnPjx1bCBzdHlsZT0nY29sb3I6IHdoaXRlOztsaXN0LXN0eWxlLXR5cGU6Y2lyY2xlO2FsaWduLWl0ZW06bGVmdDtwYWRkaW5nLWxlZnQ6MjBweDtwYWRkaW5nLXJpZ2h0OjIwcHgnPjxsaT5Db25maXJtZWQ6IDc0NTwvbGk+PGxpPkRlYXRoczogICA0MzwvbGk+PGxpPkRlYXRoIFJhdGU6IDUuNzY8L2xpPjwvdWw+PC9kaXY+CiAgICAgICAgICAgICAgICAgPC9kaXY+YCwKICAgICAgICAgICAgICAgIHsic3RpY2t5IjogdHJ1ZX0KICAgICAgICAgICAgKTsKICAgICAgICAKICAgIAogICAgICAgICAgICB2YXIgY2lyY2xlXzY5NDBiODkwZTM1YzRiZDA4ODYxNTU4OWZjNzhhZjk3ID0gTC5jaXJjbGUoCiAgICAgICAgICAgICAgICBbLTExLjIwMjcsIDE3Ljg3MzldLAogICAgICAgICAgICAgICAgeyJidWJibGluZ01vdXNlRXZlbnRzIjogdHJ1ZSwgImNvbG9yIjogInJlZCIsICJkYXNoQXJyYXkiOiBudWxsLCAiZGFzaE9mZnNldCI6IG51bGwsICJmaWxsIjogdHJ1ZSwgImZpbGxDb2xvciI6ICJpbmRpZ28iLCAiZmlsbE9wYWNpdHkiOiAwLjIsICJmaWxsUnVsZSI6ICJldmVub2RkIiwgImxpbmVDYXAiOiAicm91bmQiLCAibGluZUpvaW4iOiAicm91bmQiLCAib3BhY2l0eSI6IDEuMCwgInJhZGl1cyI6IDE2MDAwMC4wLCAic3Ryb2tlIjogdHJ1ZSwgIndlaWdodCI6IDN9CiAgICAgICAgICAgICkuYWRkVG8obWFwX2ZmZjE4NTc1OTRiZjRhM2E4Mjc4ZjEyNTM2Y2NkNjM3KTsKICAgICAgICAKICAgIAogICAgICAgICAgICBjaXJjbGVfNjk0MGI4OTBlMzVjNGJkMDg4NjE1NTg5ZmM3OGFmOTcuYmluZFRvb2x0aXAoCiAgICAgICAgICAgICAgICBgPGRpdj4KICAgICAgICAgICAgICAgICAgICAgPGRpdiBzdHlsZT0nbWFyZ2luOiAwOyBiYWNrZ3JvdW5kLWNvbG9yOiBibGFjazsgY29sb3I6IHdoaXRlOyc+PGg0IHN0eWxlPSd0ZXh0LWFsaWduOmNlbnRlcjtmb250LXdlaWdodDogYm9sZCc+QW5nb2xhPC9oND48aHIgc3R5bGU9J21hcmdpbjoxMHB4O2NvbG9yOiB3aGl0ZTsnPjx1bCBzdHlsZT0nY29sb3I6IHdoaXRlOztsaXN0LXN0eWxlLXR5cGU6Y2lyY2xlO2FsaWduLWl0ZW06bGVmdDtwYWRkaW5nLWxlZnQ6MjBweDtwYWRkaW5nLXJpZ2h0OjIwcHgnPjxsaT5Db25maXJtZWQ6IDMwPC9saT48bGk+RGVhdGhzOiAgIDI8L2xpPjxsaT5EZWF0aCBSYXRlOiA2LjQ1PC9saT48L3VsPjwvZGl2PgogICAgICAgICAgICAgICAgIDwvZGl2PmAsCiAgICAgICAgICAgICAgICB7InN0aWNreSI6IHRydWV9CiAgICAgICAgICAgICk7CiAgICAgICAgCiAgICAKICAgICAgICAgICAgdmFyIGNpcmNsZV8wZjA0MWMwODljNGI0OGQxYTMwOTg1YjI4ZWM3YWViYSA9IEwuY2lyY2xlKAogICAgICAgICAgICAgICAgWzE3LjA2MDgsIC02MS43OTY0XSwKICAgICAgICAgICAgICAgIHsiYnViYmxpbmdNb3VzZUV2ZW50cyI6IHRydWUsICJjb2xvciI6ICJyZWQiLCAiZGFzaEFycmF5IjogbnVsbCwgImRhc2hPZmZzZXQiOiBudWxsLCAiZmlsbCI6IHRydWUsICJmaWxsQ29sb3IiOiAiaW5kaWdvIiwgImZpbGxPcGFjaXR5IjogMC4yLCAiZmlsbFJ1bGUiOiAiZXZlbm9kZCIsICJsaW5lQ2FwIjogInJvdW5kIiwgImxpbmVKb2luIjogInJvdW5kIiwgIm9wYWNpdHkiOiAxLjAsICJyYWRpdXMiOiAxNjAwMDAuMCwgInN0cm9rZSI6IHRydWUsICJ3ZWlnaHQiOiAzfQogICAgICAgICAgICApLmFkZFRvKG1hcF9mZmYxODU3NTk0YmY0YTNhODI3OGYxMjUzNmNjZDYzNyk7CiAgICAgICAgCiAgICAKICAgICAgICAgICAgY2lyY2xlXzBmMDQxYzA4OWM0YjQ4ZDFhMzA5ODViMjhlYzdhZWJhLmJpbmRUb29sdGlwKAogICAgICAgICAgICAgICAgYDxkaXY+CiAgICAgICAgICAgICAgICAgICAgIDxkaXYgc3R5bGU9J21hcmdpbjogMDsgYmFja2dyb3VuZC1jb2xvcjogYmxhY2s7IGNvbG9yOiB3aGl0ZTsnPjxoNCBzdHlsZT0ndGV4dC1hbGlnbjpjZW50ZXI7Zm9udC13ZWlnaHQ6IGJvbGQnPkFudGlndWEgYW5kIEJhcmJ1ZGE8L2g0PjxociBzdHlsZT0nbWFyZ2luOjEwcHg7Y29sb3I6IHdoaXRlOyc+PHVsIHN0eWxlPSdjb2xvcjogd2hpdGU7O2xpc3Qtc3R5bGUtdHlwZTpjaXJjbGU7YWxpZ24taXRlbTpsZWZ0O3BhZGRpbmctbGVmdDoyMHB4O3BhZGRpbmctcmlnaHQ6MjBweCc+PGxpPkNvbmZpcm1lZDogMjU8L2xpPjxsaT5EZWF0aHM6ICAgMzwvbGk+PGxpPkRlYXRoIFJhdGU6IDExLjU0PC9saT48L3VsPjwvZGl2PgogICAgICAgICAgICAgICAgIDwvZGl2PmAsCiAgICAgICAgICAgICAgICB7InN0aWNreSI6IHRydWV9CiAgICAgICAgICAgICk7CiAgICAgICAgCiAgICAKICAgICAgICAgICAgdmFyIGNpcmNsZV8wYTA2NDIzMGFmYzQ0NWU5OTE1NTZjYzg4MzM2YzNjNyA9IEwuY2lyY2xlKAogICAgICAgICAgICAgICAgWy0zOC40MTYxLCAtNjMuNjE2N10sCiAgICAgICAgICAgICAgICB7ImJ1YmJsaW5nTW91c2VFdmVudHMiOiB0cnVlLCAiY29sb3IiOiAicmVkIiwgImRhc2hBcnJheSI6IG51bGwsICJkYXNoT2Zmc2V0IjogbnVsbCwgImZpbGwiOiB0cnVlLCAiZmlsbENvbG9yIjogImluZGlnbyIsICJmaWxsT3BhY2l0eSI6IDAuMiwgImZpbGxSdWxlIjogImV2ZW5vZGQiLCAibGluZUNhcCI6ICJyb3VuZCIsICJsaW5lSm9pbiI6ICJyb3VuZCIsICJvcGFjaXR5IjogMS4wLCAicmFkaXVzIjogNDA5OTk5Ljk5OTk5OTk5OTk0LCAic3Ryb2tlIjogdHJ1ZSwgIndlaWdodCI6IDN9CiAgICAgICAgICAgICkuYWRkVG8obWFwX2ZmZjE4NTc1OTRiZjRhM2E4Mjc4ZjEyNTM2Y2NkNjM3KTsKICAgICAgICAKICAgIAogICAgICAgICAgICBjaXJjbGVfMGEwNjQyMzBhZmM0NDVlOTkxNTU2Y2M4ODMzNmMzYzcuYmluZFRvb2x0aXAoCiAgICAgICAgICAgICAgICBgPGRpdj4KICAgICAgICAgICAgICAgICAgICAgPGRpdiBzdHlsZT0nbWFyZ2luOiAwOyBiYWNrZ3JvdW5kLWNvbG9yOiBibGFjazsgY29sb3I6IHdoaXRlOyc+PGg0IHN0eWxlPSd0ZXh0LWFsaWduOmNlbnRlcjtmb250LXdlaWdodDogYm9sZCc+QXJnZW50aW5hPC9oND48aHIgc3R5bGU9J21hcmdpbjoxMHB4O2NvbG9yOiB3aGl0ZTsnPjx1bCBzdHlsZT0nY29sb3I6IHdoaXRlOztsaXN0LXN0eWxlLXR5cGU6Y2lyY2xlO2FsaWduLWl0ZW06bGVmdDtwYWRkaW5nLWxlZnQ6MjBweDtwYWRkaW5nLXJpZ2h0OjIwcHgnPjxsaT5Db25maXJtZWQ6IDQ1MzI8L2xpPjxsaT5EZWF0aHM6ICAgMjI1PC9saT48bGk+RGVhdGggUmF0ZTogNC45NjwvbGk+PC91bD48L2Rpdj4KICAgICAgICAgICAgICAgICA8L2Rpdj5gLAogICAgICAgICAgICAgICAgeyJzdGlja3kiOiB0cnVlfQogICAgICAgICAgICApOwogICAgICAgIAogICAgCiAgICAgICAgICAgIHZhciBjaXJjbGVfMDEwZDZkNTVhZWIxNGRhMGFlNThjODU4NGQwMzE5YWEgPSBMLmNpcmNsZSgKICAgICAgICAgICAgICAgIFs0MC4wNjkxLCA0NS4wMzgyXSwKICAgICAgICAgICAgICAgIHsiYnViYmxpbmdNb3VzZUV2ZW50cyI6IHRydWUsICJjb2xvciI6ICJyZWQiLCAiZGFzaEFycmF5IjogbnVsbCwgImRhc2hPZmZzZXQiOiBudWxsLCAiZmlsbCI6IHRydWUsICJmaWxsQ29sb3IiOiAiaW5kaWdvIiwgImZpbGxPcGFjaXR5IjogMC4yLCAiZmlsbFJ1bGUiOiAiZXZlbm9kZCIsICJsaW5lQ2FwIjogInJvdW5kIiwgImxpbmVKb2luIjogInJvdW5kIiwgIm9wYWNpdHkiOiAxLjAsICJyYWRpdXMiOiAzNjAwMDAuMCwgInN0cm9rZSI6IHRydWUsICJ3ZWlnaHQiOiAzfQogICAgICAgICAgICApLmFkZFRvKG1hcF9mZmYxODU3NTk0YmY0YTNhODI3OGYxMjUzNmNjZDYzNyk7CiAgICAgICAgCiAgICAKICAgICAgICAgICAgY2lyY2xlXzAxMGQ2ZDU1YWViMTRkYTBhZTU4Yzg1ODRkMDMxOWFhLmJpbmRUb29sdGlwKAogICAgICAgICAgICAgICAgYDxkaXY+CiAgICAgICAgICAgICAgICAgICAgIDxkaXYgc3R5bGU9J21hcmdpbjogMDsgYmFja2dyb3VuZC1jb2xvcjogYmxhY2s7IGNvbG9yOiB3aGl0ZTsnPjxoNCBzdHlsZT0ndGV4dC1hbGlnbjpjZW50ZXI7Zm9udC13ZWlnaHQ6IGJvbGQnPkFybWVuaWE8L2g0PjxociBzdHlsZT0nbWFyZ2luOjEwcHg7Y29sb3I6IHdoaXRlOyc+PHVsIHN0eWxlPSdjb2xvcjogd2hpdGU7O2xpc3Qtc3R5bGUtdHlwZTpjaXJjbGU7YWxpZ24taXRlbTpsZWZ0O3BhZGRpbmctbGVmdDoyMHB4O3BhZGRpbmctcmlnaHQ6MjBweCc+PGxpPkNvbmZpcm1lZDogMjE0ODwvbGk+PGxpPkRlYXRoczogICAzMzwvbGk+PGxpPkRlYXRoIFJhdGU6IDEuNTQ8L2xpPjwvdWw+PC9kaXY+CiAgICAgICAgICAgICAgICAgPC9kaXY+YCwKICAgICAgICAgICAgICAgIHsic3RpY2t5IjogdHJ1ZX0KICAgICAgICAgICAgKTsKICAgICAgICAKICAgIAogICAgICAgICAgICB2YXIgY2lyY2xlX2JmZmRmODBkOTc0ZjQ2OThhNmI5NmY5NjMyMDMxZmM0ID0gTC5jaXJjbGUoCiAgICAgICAgICAgICAgICBbLTM1LjQ3MzUsIDE0OS4wMTI0XSwKICAgICAgICAgICAgICAgIHsiYnViYmxpbmdNb3VzZUV2ZW50cyI6IHRydWUsICJjb2xvciI6ICJyZWQiLCAiZGFzaEFycmF5IjogbnVsbCwgImRhc2hPZmZzZXQiOiBudWxsLCAiZmlsbCI6IHRydWUsICJmaWxsQ29sb3IiOiAiaW5kaWdvIiwgImZpbGxPcGFjaXR5IjogMC4yLCAiZmlsbFJ1bGUiOiAiZXZlbm9kZCIsICJsaW5lQ2FwIjogInJvdW5kIiwgImxpbmVKb2luIjogInJvdW5kIiwgIm9wYWNpdHkiOiAxLjAsICJyYWRpdXMiOiAyMTAwMDAuMCwgInN0cm9rZSI6IHRydWUsICJ3ZWlnaHQiOiAzfQogICAgICAgICAgICApLmFkZFRvKG1hcF9mZmYxODU3NTk0YmY0YTNhODI3OGYxMjUzNmNjZDYzNyk7CiAgICAgICAgCiAgICAKICAgICAgICAgICAgY2lyY2xlX2JmZmRmODBkOTc0ZjQ2OThhNmI5NmY5NjMyMDMxZmM0LmJpbmRUb29sdGlwKAogICAgICAgICAgICAgICAgYDxkaXY+CiAgICAgICAgICAgICAgICAgICAgIDxkaXYgc3R5bGU9J21hcmdpbjogMDsgYmFja2dyb3VuZC1jb2xvcjogYmxhY2s7IGNvbG9yOiB3aGl0ZTsnPjxoNCBzdHlsZT0ndGV4dC1hbGlnbjpjZW50ZXI7Zm9udC13ZWlnaHQ6IGJvbGQnPkF1c3RyYWxpYTwvaDQ+PGhyIHN0eWxlPSdtYXJnaW46MTBweDtjb2xvcjogd2hpdGU7Jz48dWwgc3R5bGU9J2NvbG9yOiB3aGl0ZTs7bGlzdC1zdHlsZS10eXBlOmNpcmNsZTthbGlnbi1pdGVtOmxlZnQ7cGFkZGluZy1sZWZ0OjIwcHg7cGFkZGluZy1yaWdodDoyMHB4Jz48bGk+Q29uZmlybWVkOiAxMDY8L2xpPjxsaT5EZWF0aHM6ICAgMzwvbGk+PGxpPkRlYXRoIFJhdGU6IDIuODwvbGk+PC91bD48L2Rpdj4KICAgICAgICAgICAgICAgICA8L2Rpdj5gLAogICAgICAgICAgICAgICAgeyJzdGlja3kiOiB0cnVlfQogICAgICAgICAgICApOwogICAgICAgIAogICAgCiAgICAgICAgICAgIHZhciBjaXJjbGVfYWNmMzNmNmM4M2M4NDgzZjgzODA5MmE5ODdjZmVkMmIgPSBMLmNpcmNsZSgKICAgICAgICAgICAgICAgIFstMzMuODY4OCwgMTUxLjIwOTNdLAogICAgICAgICAgICAgICAgeyJidWJibGluZ01vdXNlRXZlbnRzIjogdHJ1ZSwgImNvbG9yIjogInJlZCIsICJkYXNoQXJyYXkiOiBudWxsLCAiZGFzaE9mZnNldCI6IG51bGwsICJmaWxsIjogdHJ1ZSwgImZpbGxDb2xvciI6ICJpbmRpZ28iLCAiZmlsbE9wYWNpdHkiOiAwLjIsICJmaWxsUnVsZSI6ICJldmVub2RkIiwgImxpbmVDYXAiOiAicm91bmQiLCAibGluZUpvaW4iOiAicm91bmQiLCAib3BhY2l0eSI6IDEuMCwgInJhZGl1cyI6IDQwOTk5OS45OTk5OTk5OTk5NCwgInN0cm9rZSI6IHRydWUsICJ3ZWlnaHQiOiAzfQogICAgICAgICAgICApLmFkZFRvKG1hcF9mZmYxODU3NTk0YmY0YTNhODI3OGYxMjUzNmNjZDYzNyk7CiAgICAgICAgCiAgICAKICAgICAgICAgICAgY2lyY2xlX2FjZjMzZjZjODNjODQ4M2Y4MzgwOTJhOTg3Y2ZlZDJiLmJpbmRUb29sdGlwKAogICAgICAgICAgICAgICAgYDxkaXY+CiAgICAgICAgICAgICAgICAgICAgIDxkaXYgc3R5bGU9J21hcmdpbjogMDsgYmFja2dyb3VuZC1jb2xvcjogYmxhY2s7IGNvbG9yOiB3aGl0ZTsnPjxoNCBzdHlsZT0ndGV4dC1hbGlnbjpjZW50ZXI7Zm9udC13ZWlnaHQ6IGJvbGQnPkF1c3RyYWxpYTwvaDQ+PGhyIHN0eWxlPSdtYXJnaW46MTBweDtjb2xvcjogd2hpdGU7Jz48dWwgc3R5bGU9J2NvbG9yOiB3aGl0ZTs7bGlzdC1zdHlsZS10eXBlOmNpcmNsZTthbGlnbi1pdGVtOmxlZnQ7cGFkZGluZy1sZWZ0OjIwcHg7cGFkZGluZy1yaWdodDoyMHB4Jz48bGk+Q29uZmlybWVkOiAzMDMwPC9saT48bGk+RGVhdGhzOiAgIDQxPC9saT48bGk+RGVhdGggUmF0ZTogMS4zNTwvbGk+PC91bD48L2Rpdj4KICAgICAgICAgICAgICAgICA8L2Rpdj5gLAogICAgICAgICAgICAgICAgeyJzdGlja3kiOiB0cnVlfQogICAgICAgICAgICApOwogICAgICAgIAogICAgCiAgICAgICAgICAgIHZhciBjaXJjbGVfZDc3NTM4ZDUxMmJmNGNmMzg3MzAxODY0MWMyMTM4OTYgPSBMLmNpcmNsZSgKICAgICAgICAgICAgICAgIFstMTIuNDYzNCwgMTMwLjg0NTZdLAogICAgICAgICAgICAgICAgeyJidWJibGluZ01vdXNlRXZlbnRzIjogdHJ1ZSwgImNvbG9yIjogInJlZCIsICJkYXNoQXJyYXkiOiBudWxsLCAiZGFzaE9mZnNldCI6IG51bGwsICJmaWxsIjogdHJ1ZSwgImZpbGxDb2xvciI6ICJpbmRpZ28iLCAiZmlsbE9wYWNpdHkiOiAwLjIsICJmaWxsUnVsZSI6ICJldmVub2RkIiwgImxpbmVDYXAiOiAicm91bmQiLCAibGluZUpvaW4iOiAicm91bmQiLCAib3BhY2l0eSI6IDEuMCwgInJhZGl1cyI6IDE2MDAwMC4wLCAic3Ryb2tlIjogdHJ1ZSwgIndlaWdodCI6IDN9CiAgICAgICAgICAgICkuYWRkVG8obWFwX2ZmZjE4NTc1OTRiZjRhM2E4Mjc4ZjEyNTM2Y2NkNjM3KTsKICAgICAgICAKICAgIAogICAgICAgICAgICBjaXJjbGVfZDc3NTM4ZDUxMmJmNGNmMzg3MzAxODY0MWMyMTM4OTYuYmluZFRvb2x0aXAoCiAgICAgICAgICAgICAgICBgPGRpdj4KICAgICAgICAgICAgICAgICAgICAgPGRpdiBzdHlsZT0nbWFyZ2luOiAwOyBiYWNrZ3JvdW5kLWNvbG9yOiBibGFjazsgY29sb3I6IHdoaXRlOyc+PGg0IHN0eWxlPSd0ZXh0LWFsaWduOmNlbnRlcjtmb250LXdlaWdodDogYm9sZCc+QXVzdHJhbGlhPC9oND48aHIgc3R5bGU9J21hcmdpbjoxMHB4O2NvbG9yOiB3aGl0ZTsnPjx1bCBzdHlsZT0nY29sb3I6IHdoaXRlOztsaXN0LXN0eWxlLXR5cGU6Y2lyY2xlO2FsaWduLWl0ZW06bGVmdDtwYWRkaW5nLWxlZnQ6MjBweDtwYWRkaW5nLXJpZ2h0OjIwcHgnPjxsaT5Db25maXJtZWQ6IDI3PC9saT48bGk+RGVhdGhzOiAgIDA8L2xpPjxsaT5EZWF0aCBSYXRlOiAwLjA8L2xpPjwvdWw+PC9kaXY+CiAgICAgICAgICAgICAgICAgPC9kaXY+YCwKICAgICAgICAgICAgICAgIHsic3RpY2t5IjogdHJ1ZX0KICAgICAgICAgICAgKTsKICAgICAgICAKICAgIAogICAgICAgICAgICB2YXIgY2lyY2xlXzU5ZDYyNzNhOTQ0ZjQ1YmNhZWEwMThkMTU3NTM3Nzg1ID0gTC5jaXJjbGUoCiAgICAgICAgICAgICAgICBbLTI4LjAxNjcsIDE1My40XSwKICAgICAgICAgICAgICAgIHsiYnViYmxpbmdNb3VzZUV2ZW50cyI6IHRydWUsICJjb2xvciI6ICJyZWQiLCAiZGFzaEFycmF5IjogbnVsbCwgImRhc2hPZmZzZXQiOiBudWxsLCAiZmlsbCI6IHRydWUsICJmaWxsQ29sb3IiOiAiaW5kaWdvIiwgImZpbGxPcGFjaXR5IjogMC4yLCAiZmlsbFJ1bGUiOiAiZXZlbm9kZCIsICJsaW5lQ2FwIjogInJvdW5kIiwgImxpbmVKb2luIjogInJvdW5kIiwgIm9wYWNpdHkiOiAxLjAsICJyYWRpdXMiOiAzMTAwMDAuMCwgInN0cm9rZSI6IHRydWUsICJ3ZWlnaHQiOiAzfQogICAgICAgICAgICApLmFkZFRvKG1hcF9mZmYxODU3NTk0YmY0YTNhODI3OGYxMjUzNmNjZDYzNyk7CiAgICAgICAgCiAgICAKICAgICAgICAgICAgY2lyY2xlXzU5ZDYyNzNhOTQ0ZjQ1YmNhZWEwMThkMTU3NTM3Nzg1LmJpbmRUb29sdGlwKAogICAgICAgICAgICAgICAgYDxkaXY+CiAgICAgICAgICAgICAgICAgICAgIDxkaXYgc3R5bGU9J21hcmdpbjogMDsgYmFja2dyb3VuZC1jb2xvcjogYmxhY2s7IGNvbG9yOiB3aGl0ZTsnPjxoNCBzdHlsZT0ndGV4dC1hbGlnbjpjZW50ZXI7Zm9udC13ZWlnaHQ6IGJvbGQnPkF1c3RyYWxpYTwvaDQ+PGhyIHN0eWxlPSdtYXJnaW46MTBweDtjb2xvcjogd2hpdGU7Jz48dWwgc3R5bGU9J2NvbG9yOiB3aGl0ZTs7bGlzdC1zdHlsZS10eXBlOmNpcmNsZTthbGlnbi1pdGVtOmxlZnQ7cGFkZGluZy1sZWZ0OjIwcHg7cGFkZGluZy1yaWdodDoyMHB4Jz48bGk+Q29uZmlybWVkOiAxMDM0PC9saT48bGk+RGVhdGhzOiAgIDY8L2xpPjxsaT5EZWF0aCBSYXRlOiAwLjU4PC9saT48L3VsPjwvZGl2PgogICAgICAgICAgICAgICAgIDwvZGl2PmAsCiAgICAgICAgICAgICAgICB7InN0aWNreSI6IHRydWV9CiAgICAgICAgICAgICk7CiAgICAgICAgCiAgICAKICAgICAgICAgICAgdmFyIGNpcmNsZV9hNTc3MWQxOTUzZjk0MTUzODJhMDAzZGFmZGNiNTc3YyA9IEwuY2lyY2xlKAogICAgICAgICAgICAgICAgWy0zNC45Mjg1LCAxMzguNjAwN10sCiAgICAgICAgICAgICAgICB7ImJ1YmJsaW5nTW91c2VFdmVudHMiOiB0cnVlLCAiY29sb3IiOiAicmVkIiwgImRhc2hBcnJheSI6IG51bGwsICJkYXNoT2Zmc2V0IjogbnVsbCwgImZpbGwiOiB0cnVlLCAiZmlsbENvbG9yIjogImluZGlnbyIsICJmaWxsT3BhY2l0eSI6IDAuMiwgImZpbGxSdWxlIjogImV2ZW5vZGQiLCAibGluZUNhcCI6ICJyb3VuZCIsICJsaW5lSm9pbiI6ICJyb3VuZCIsICJvcGFjaXR5IjogMS4wLCAicmFkaXVzIjogMzEwMDAwLjAsICJzdHJva2UiOiB0cnVlLCAid2VpZ2h0IjogM30KICAgICAgICAgICAgKS5hZGRUbyhtYXBfZmZmMTg1NzU5NGJmNGEzYTgyNzhmMTI1MzZjY2Q2MzcpOwogICAgICAgIAogICAgCiAgICAgICAgICAgIGNpcmNsZV9hNTc3MWQxOTUzZjk0MTUzODJhMDAzZGFmZGNiNTc3Yy5iaW5kVG9vbHRpcCgKICAgICAgICAgICAgICAgIGA8ZGl2PgogICAgICAgICAgICAgICAgICAgICA8ZGl2IHN0eWxlPSdtYXJnaW46IDA7IGJhY2tncm91bmQtY29sb3I6IGJsYWNrOyBjb2xvcjogd2hpdGU7Jz48aDQgc3R5bGU9J3RleHQtYWxpZ246Y2VudGVyO2ZvbnQtd2VpZ2h0OiBib2xkJz5BdXN0cmFsaWE8L2g0PjxociBzdHlsZT0nbWFyZ2luOjEwcHg7Y29sb3I6IHdoaXRlOyc+PHVsIHN0eWxlPSdjb2xvcjogd2hpdGU7O2xpc3Qtc3R5bGUtdHlwZTpjaXJjbGU7YWxpZ24taXRlbTpsZWZ0O3BhZGRpbmctbGVmdDoyMHB4O3BhZGRpbmctcmlnaHQ6MjBweCc+PGxpPkNvbmZpcm1lZDogNDM4PC9saT48bGk+RGVhdGhzOiAgIDQ8L2xpPjxsaT5EZWF0aCBSYXRlOiAwLjkxPC9saT48L3VsPjwvZGl2PgogICAgICAgICAgICAgICAgIDwvZGl2PmAsCiAgICAgICAgICAgICAgICB7InN0aWNreSI6IHRydWV9CiAgICAgICAgICAgICk7CiAgICAgICAgCiAgICAKICAgICAgICAgICAgdmFyIGNpcmNsZV81ZDBmZjkwYjRkMzU0YjljODE5MzY4ZjAzM2NlNDEyZCA9IEwuY2lyY2xlKAogICAgICAgICAgICAgICAgWy00MS40NTQ1LCAxNDUuOTcwN10sCiAgICAgICAgICAgICAgICB7ImJ1YmJsaW5nTW91c2VFdmVudHMiOiB0cnVlLCAiY29sb3IiOiAicmVkIiwgImRhc2hBcnJheSI6IG51bGwsICJkYXNoT2Zmc2V0IjogbnVsbCwgImZpbGwiOiB0cnVlLCAiZmlsbENvbG9yIjogImluZGlnbyIsICJmaWxsT3BhY2l0eSI6IDAuMiwgImZpbGxSdWxlIjogImV2ZW5vZGQiLCAibGluZUNhcCI6ICJyb3VuZCIsICJsaW5lSm9pbiI6ICJyb3VuZCIsICJvcGFjaXR5IjogMS4wLCAicmFkaXVzIjogMjYwMDAwLjAsICJzdHJva2UiOiB0cnVlLCAid2VpZ2h0IjogM30KICAgICAgICAgICAgKS5hZGRUbyhtYXBfZmZmMTg1NzU5NGJmNGEzYTgyNzhmMTI1MzZjY2Q2MzcpOwogICAgICAgIAogICAgCiAgICAgICAgICAgIGNpcmNsZV81ZDBmZjkwYjRkMzU0YjljODE5MzY4ZjAzM2NlNDEyZC5iaW5kVG9vbHRpcCgKICAgICAgICAgICAgICAgIGA8ZGl2PgogICAgICAgICAgICAgICAgICAgICA8ZGl2IHN0eWxlPSdtYXJnaW46IDA7IGJhY2tncm91bmQtY29sb3I6IGJsYWNrOyBjb2xvcjogd2hpdGU7Jz48aDQgc3R5bGU9J3RleHQtYWxpZ246Y2VudGVyO2ZvbnQtd2VpZ2h0OiBib2xkJz5BdXN0cmFsaWE8L2g0PjxociBzdHlsZT0nbWFyZ2luOjEwcHg7Y29sb3I6IHdoaXRlOyc+PHVsIHN0eWxlPSdjb2xvcjogd2hpdGU7O2xpc3Qtc3R5bGUtdHlwZTpjaXJjbGU7YWxpZ24taXRlbTpsZWZ0O3BhZGRpbmctbGVmdDoyMHB4O3BhZGRpbmctcmlnaHQ6MjBweCc+PGxpPkNvbmZpcm1lZDogMjIxPC9saT48bGk+RGVhdGhzOiAgIDEzPC9saT48bGk+RGVhdGggUmF0ZTogNS44NjwvbGk+PC91bD48L2Rpdj4KICAgICAgICAgICAgICAgICA8L2Rpdj5gLAogICAgICAgICAgICAgICAgeyJzdGlja3kiOiB0cnVlfQogICAgICAgICAgICApOwogICAgICAgIAogICAgCiAgICAgICAgICAgIHZhciBjaXJjbGVfMzI0NDk2Y2Y0NmU2NDVjMzk5MzRjNGMxMDRhZWZkYTEgPSBMLmNpcmNsZSgKICAgICAgICAgICAgICAgIFstMzcuODEzNiwgMTQ0Ljk2MzFdLAogICAgICAgICAgICAgICAgeyJidWJibGluZ01vdXNlRXZlbnRzIjogdHJ1ZSwgImNvbG9yIjogInJlZCIsICJkYXNoQXJyYXkiOiBudWxsLCAiZGFzaE9mZnNldCI6IG51bGwsICJmaWxsIjogdHJ1ZSwgImZpbGxDb2xvciI6ICJpbmRpZ28iLCAiZmlsbE9wYWNpdHkiOiAwLjIsICJmaWxsUnVsZSI6ICJldmVub2RkIiwgImxpbmVDYXAiOiAicm91bmQiLCAibGluZUpvaW4iOiAicm91bmQiLCAib3BhY2l0eSI6IDEuMCwgInJhZGl1cyI6IDM2MDAwMC4wLCAic3Ryb2tlIjogdHJ1ZSwgIndlaWdodCI6IDN9CiAgICAgICAgICAgICkuYWRkVG8obWFwX2ZmZjE4NTc1OTRiZjRhM2E4Mjc4ZjEyNTM2Y2NkNjM3KTsKICAgICAgICAKICAgIAogICAgICAgICAgICBjaXJjbGVfMzI0NDk2Y2Y0NmU2NDVjMzk5MzRjNGMxMDRhZWZkYTEuYmluZFRvb2x0aXAoCiAgICAgICAgICAgICAgICBgPGRpdj4KICAgICAgICAgICAgICAgICAgICAgPGRpdiBzdHlsZT0nbWFyZ2luOiAwOyBiYWNrZ3JvdW5kLWNvbG9yOiBibGFjazsgY29sb3I6IHdoaXRlOyc+PGg0IHN0eWxlPSd0ZXh0LWFsaWduOmNlbnRlcjtmb250LXdlaWdodDogYm9sZCc+QXVzdHJhbGlhPC9oND48aHIgc3R5bGU9J21hcmdpbjoxMHB4O2NvbG9yOiB3aGl0ZTsnPjx1bCBzdHlsZT0nY29sb3I6IHdoaXRlOztsaXN0LXN0eWxlLXR5cGU6Y2lyY2xlO2FsaWduLWl0ZW06bGVmdDtwYWRkaW5nLWxlZnQ6MjBweDtwYWRkaW5nLXJpZ2h0OjIwcHgnPjxsaT5Db25maXJtZWQ6IDEzNzE8L2xpPjxsaT5EZWF0aHM6ICAgMTg8L2xpPjxsaT5EZWF0aCBSYXRlOiAxLjMxPC9saT48L3VsPjwvZGl2PgogICAgICAgICAgICAgICAgIDwvZGl2PmAsCiAgICAgICAgICAgICAgICB7InN0aWNreSI6IHRydWV9CiAgICAgICAgICAgICk7CiAgICAgICAgCiAgICAKICAgICAgICAgICAgdmFyIGNpcmNsZV80NjY1ODJkNDcyNTc0MDgyYWNmMWNiZmNkM2VmMzAzYSA9IEwuY2lyY2xlKAogICAgICAgICAgICAgICAgWy0zMS45NTA1LCAxMTUuODYwNV0sCiAgICAgICAgICAgICAgICB7ImJ1YmJsaW5nTW91c2VFdmVudHMiOiB0cnVlLCAiY29sb3IiOiAicmVkIiwgImRhc2hBcnJheSI6IG51bGwsICJkYXNoT2Zmc2V0IjogbnVsbCwgImZpbGwiOiB0cnVlLCAiZmlsbENvbG9yIjogImluZGlnbyIsICJmaWxsT3BhY2l0eSI6IDAuMiwgImZpbGxSdWxlIjogImV2ZW5vZGQiLCAibGluZUNhcCI6ICJyb3VuZCIsICJsaW5lSm9pbiI6ICJyb3VuZCIsICJvcGFjaXR5IjogMS4wLCAicmFkaXVzIjogMzEwMDAwLjAsICJzdHJva2UiOiB0cnVlLCAid2VpZ2h0IjogM30KICAgICAgICAgICAgKS5hZGRUbyhtYXBfZmZmMTg1NzU5NGJmNGEzYTgyNzhmMTI1MzZjY2Q2MzcpOwogICAgICAgIAogICAgCiAgICAgICAgICAgIGNpcmNsZV80NjY1ODJkNDcyNTc0MDgyYWNmMWNiZmNkM2VmMzAzYS5iaW5kVG9vbHRpcCgKICAgICAgICAgICAgICAgIGA8ZGl2PgogICAgICAgICAgICAgICAgICAgICA8ZGl2IHN0eWxlPSdtYXJnaW46IDA7IGJhY2tncm91bmQtY29sb3I6IGJsYWNrOyBjb2xvcjogd2hpdGU7Jz48aDQgc3R5bGU9J3RleHQtYWxpZ246Y2VudGVyO2ZvbnQtd2VpZ2h0OiBib2xkJz5BdXN0cmFsaWE8L2g0PjxociBzdHlsZT0nbWFyZ2luOjEwcHg7Y29sb3I6IHdoaXRlOyc+PHVsIHN0eWxlPSdjb2xvcjogd2hpdGU7O2xpc3Qtc3R5bGUtdHlwZTpjaXJjbGU7YWxpZ24taXRlbTpsZWZ0O3BhZGRpbmctbGVmdDoyMHB4O3BhZGRpbmctcmlnaHQ6MjBweCc+PGxpPkNvbmZpcm1lZDogNTUxPC9saT48bGk+RGVhdGhzOiAgIDg8L2xpPjxsaT5EZWF0aCBSYXRlOiAxLjQ1PC9saT48L3VsPjwvZGl2PgogICAgICAgICAgICAgICAgIDwvZGl2PmAsCiAgICAgICAgICAgICAgICB7InN0aWNreSI6IHRydWV9CiAgICAgICAgICAgICk7CiAgICAgICAgCiAgICAKICAgICAgICAgICAgdmFyIGNpcmNsZV82YTE4NDU5MWY1OTE0ZWU2OTFhODQxMDFmZDUzOTdmNyA9IEwuY2lyY2xlKAogICAgICAgICAgICAgICAgWzQ3LjUxNjIsIDE0LjU1MDFdLAogICAgICAgICAgICAgICAgeyJidWJibGluZ01vdXNlRXZlbnRzIjogdHJ1ZSwgImNvbG9yIjogInJlZCIsICJkYXNoQXJyYXkiOiBudWxsLCAiZGFzaE9mZnNldCI6IG51bGwsICJmaWxsIjogdHJ1ZSwgImZpbGxDb2xvciI6ICJpbmRpZ28iLCAiZmlsbE9wYWNpdHkiOiAwLjIsICJmaWxsUnVsZSI6ICJldmVub2RkIiwgImxpbmVDYXAiOiAicm91bmQiLCAibGluZUpvaW4iOiAicm91bmQiLCAib3BhY2l0eSI6IDEuMCwgInJhZGl1cyI6IDQ1OTk5OS45OTk5OTk5OTk5NCwgInN0cm9rZSI6IHRydWUsICJ3ZWlnaHQiOiAzfQogICAgICAgICAgICApLmFkZFRvKG1hcF9mZmYxODU3NTk0YmY0YTNhODI3OGYxMjUzNmNjZDYzNyk7CiAgICAgICAgCiAgICAKICAgICAgICAgICAgY2lyY2xlXzZhMTg0NTkxZjU5MTRlZTY5MWE4NDEwMWZkNTM5N2Y3LmJpbmRUb29sdGlwKAogICAgICAgICAgICAgICAgYDxkaXY+CiAgICAgICAgICAgICAgICAgICAgIDxkaXYgc3R5bGU9J21hcmdpbjogMDsgYmFja2dyb3VuZC1jb2xvcjogYmxhY2s7IGNvbG9yOiB3aGl0ZTsnPjxoNCBzdHlsZT0ndGV4dC1hbGlnbjpjZW50ZXI7Zm9udC13ZWlnaHQ6IGJvbGQnPkF1c3RyaWE8L2g0PjxociBzdHlsZT0nbWFyZ2luOjEwcHg7Y29sb3I6IHdoaXRlOyc+PHVsIHN0eWxlPSdjb2xvcjogd2hpdGU7O2xpc3Qtc3R5bGUtdHlwZTpjaXJjbGU7YWxpZ24taXRlbTpsZWZ0O3BhZGRpbmctbGVmdDoyMHB4O3BhZGRpbmctcmlnaHQ6MjBweCc+PGxpPkNvbmZpcm1lZDogMTU1MzE8L2xpPjxsaT5EZWF0aHM6ICAgNTg5PC9saT48bGk+RGVhdGggUmF0ZTogMy43OTwvbGk+PC91bD48L2Rpdj4KICAgICAgICAgICAgICAgICA8L2Rpdj5gLAogICAgICAgICAgICAgICAgeyJzdGlja3kiOiB0cnVlfQogICAgICAgICAgICApOwogICAgICAgIAogICAgCiAgICAgICAgICAgIHZhciBjaXJjbGVfMzJiMDE3ZTRjM2E1NGRkMjg0ZDdhMTAzZGNiMmY3NzcgPSBMLmNpcmNsZSgKICAgICAgICAgICAgICAgIFs0MC4xNDMxLCA0Ny41NzY5XSwKICAgICAgICAgICAgICAgIHsiYnViYmxpbmdNb3VzZUV2ZW50cyI6IHRydWUsICJjb2xvciI6ICJyZWQiLCAiZGFzaEFycmF5IjogbnVsbCwgImRhc2hPZmZzZXQiOiBudWxsLCAiZmlsbCI6IHRydWUsICJmaWxsQ29sb3IiOiAiaW5kaWdvIiwgImZpbGxPcGFjaXR5IjogMC4yLCAiZmlsbFJ1bGUiOiAiZXZlbm9kZCIsICJsaW5lQ2FwIjogInJvdW5kIiwgImxpbmVKb2luIjogInJvdW5kIiwgIm9wYWNpdHkiOiAxLjAsICJyYWRpdXMiOiAzNjAwMDAuMCwgInN0cm9rZSI6IHRydWUsICJ3ZWlnaHQiOiAzfQogICAgICAgICAgICApLmFkZFRvKG1hcF9mZmYxODU3NTk0YmY0YTNhODI3OGYxMjUzNmNjZDYzNyk7CiAgICAgICAgCiAgICAKICAgICAgICAgICAgY2lyY2xlXzMyYjAxN2U0YzNhNTRkZDI4NGQ3YTEwM2RjYjJmNzc3LmJpbmRUb29sdGlwKAogICAgICAgICAgICAgICAgYDxkaXY+CiAgICAgICAgICAgICAgICAgICAgIDxkaXYgc3R5bGU9J21hcmdpbjogMDsgYmFja2dyb3VuZC1jb2xvcjogYmxhY2s7IGNvbG9yOiB3aGl0ZTsnPjxoNCBzdHlsZT0ndGV4dC1hbGlnbjpjZW50ZXI7Zm9udC13ZWlnaHQ6IGJvbGQnPkF6ZXJiYWlqYW48L2g0PjxociBzdHlsZT0nbWFyZ2luOjEwcHg7Y29sb3I6IHdoaXRlOyc+PHVsIHN0eWxlPSdjb2xvcjogd2hpdGU7O2xpc3Qtc3R5bGUtdHlwZTpjaXJjbGU7YWxpZ24taXRlbTpsZWZ0O3BhZGRpbmctbGVmdDoyMHB4O3BhZGRpbmctcmlnaHQ6MjBweCc+PGxpPkNvbmZpcm1lZDogMTg1NDwvbGk+PGxpPkRlYXRoczogICAyNTwvbGk+PGxpPkRlYXRoIFJhdGU6IDEuMzU8L2xpPjwvdWw+PC9kaXY+CiAgICAgICAgICAgICAgICAgPC9kaXY+YCwKICAgICAgICAgICAgICAgIHsic3RpY2t5IjogdHJ1ZX0KICAgICAgICAgICAgKTsKICAgICAgICAKICAgIAogICAgICAgICAgICB2YXIgY2lyY2xlXzkxNmFjY2JmZjZlZDQ3MDZiY2U2MTIxZDMxNTFmZjZjID0gTC5jaXJjbGUoCiAgICAgICAgICAgICAgICBbMjUuMDM0MywgLTc3LjM5NjNdLAogICAgICAgICAgICAgICAgeyJidWJibGluZ01vdXNlRXZlbnRzIjogdHJ1ZSwgImNvbG9yIjogInJlZCIsICJkYXNoQXJyYXkiOiBudWxsLCAiZGFzaE9mZnNldCI6IG51bGwsICJmaWxsIjogdHJ1ZSwgImZpbGxDb2xvciI6ICJpbmRpZ28iLCAiZmlsbE9wYWNpdHkiOiAwLjIsICJmaWxsUnVsZSI6ICJldmVub2RkIiwgImxpbmVDYXAiOiAicm91bmQiLCAibGluZUpvaW4iOiAicm91bmQiLCAib3BhY2l0eSI6IDEuMCwgInJhZGl1cyI6IDIxMDAwMC4wLCAic3Ryb2tlIjogdHJ1ZSwgIndlaWdodCI6IDN9CiAgICAgICAgICAgICkuYWRkVG8obWFwX2ZmZjE4NTc1OTRiZjRhM2E4Mjc4ZjEyNTM2Y2NkNjM3KTsKICAgICAgICAKICAgIAogICAgICAgICAgICBjaXJjbGVfOTE2YWNjYmZmNmVkNDcwNmJjZTYxMjFkMzE1MWZmNmMuYmluZFRvb2x0aXAoCiAgICAgICAgICAgICAgICBgPGRpdj4KICAgICAgICAgICAgICAgICAgICAgPGRpdiBzdHlsZT0nbWFyZ2luOiAwOyBiYWNrZ3JvdW5kLWNvbG9yOiBibGFjazsgY29sb3I6IHdoaXRlOyc+PGg0IHN0eWxlPSd0ZXh0LWFsaWduOmNlbnRlcjtmb250LXdlaWdodDogYm9sZCc+QmFoYW1hczwvaDQ+PGhyIHN0eWxlPSdtYXJnaW46MTBweDtjb2xvcjogd2hpdGU7Jz48dWwgc3R5bGU9J2NvbG9yOiB3aGl0ZTs7bGlzdC1zdHlsZS10eXBlOmNpcmNsZTthbGlnbi1pdGVtOmxlZnQ7cGFkZGluZy1sZWZ0OjIwcHg7cGFkZGluZy1yaWdodDoyMHB4Jz48bGk+Q29uZmlybWVkOiA4MTwvbGk+PGxpPkRlYXRoczogICAxMTwvbGk+PGxpPkRlYXRoIFJhdGU6IDEzLjQxPC9saT48L3VsPjwvZGl2PgogICAgICAgICAgICAgICAgIDwvZGl2PmAsCiAgICAgICAgICAgICAgICB7InN0aWNreSI6IHRydWV9CiAgICAgICAgICAgICk7CiAgICAgICAgCiAgICAKICAgICAgICAgICAgdmFyIGNpcmNsZV9hYzNkNWUwMWE3NTM0NjEzOTY2OGY0MzQ4NDlmMzZkYyA9IEwuY2lyY2xlKAogICAgICAgICAgICAgICAgWzI2LjAyNzUsIDUwLjU1XSwKICAgICAgICAgICAgICAgIHsiYnViYmxpbmdNb3VzZUV2ZW50cyI6IHRydWUsICJjb2xvciI6ICJyZWQiLCAiZGFzaEFycmF5IjogbnVsbCwgImRhc2hPZmZzZXQiOiBudWxsLCAiZmlsbCI6IHRydWUsICJmaWxsQ29sb3IiOiAiaW5kaWdvIiwgImZpbGxPcGFjaXR5IjogMC4yLCAiZmlsbFJ1bGUiOiAiZXZlbm9kZCIsICJsaW5lQ2FwIjogInJvdW5kIiwgImxpbmVKb2luIjogInJvdW5kIiwgIm9wYWNpdHkiOiAxLjAsICJyYWRpdXMiOiA0MDk5OTkuOTk5OTk5OTk5OTQsICJzdHJva2UiOiB0cnVlLCAid2VpZ2h0IjogM30KICAgICAgICAgICAgKS5hZGRUbyhtYXBfZmZmMTg1NzU5NGJmNGEzYTgyNzhmMTI1MzZjY2Q2MzcpOwogICAgICAgIAogICAgCiAgICAgICAgICAgIGNpcmNsZV9hYzNkNWUwMWE3NTM0NjEzOTY2OGY0MzQ4NDlmMzZkYy5iaW5kVG9vbHRpcCgKICAgICAgICAgICAgICAgIGA8ZGl2PgogICAgICAgICAgICAgICAgICAgICA8ZGl2IHN0eWxlPSdtYXJnaW46IDA7IGJhY2tncm91bmQtY29sb3I6IGJsYWNrOyBjb2xvcjogd2hpdGU7Jz48aDQgc3R5bGU9J3RleHQtYWxpZ246Y2VudGVyO2ZvbnQtd2VpZ2h0OiBib2xkJz5CYWhyYWluPC9oND48aHIgc3R5bGU9J21hcmdpbjoxMHB4O2NvbG9yOiB3aGl0ZTsnPjx1bCBzdHlsZT0nY29sb3I6IHdoaXRlOztsaXN0LXN0eWxlLXR5cGU6Y2lyY2xlO2FsaWduLWl0ZW06bGVmdDtwYWRkaW5nLWxlZnQ6MjBweDtwYWRkaW5nLXJpZ2h0OjIwcHgnPjxsaT5Db25maXJtZWQ6IDMxNzA8L2xpPjxsaT5EZWF0aHM6ICAgODwvbGk+PGxpPkRlYXRoIFJhdGU6IDAuMjU8L2xpPjwvdWw+PC9kaXY+CiAgICAgICAgICAgICAgICAgPC9kaXY+YCwKICAgICAgICAgICAgICAgIHsic3RpY2t5IjogdHJ1ZX0KICAgICAgICAgICAgKTsKICAgICAgICAKICAgIAogICAgICAgICAgICB2YXIgY2lyY2xlXzI2MGVlOGVlOTAzNDRmNDY5ZTc0MDYyYzdiYTFlYzc4ID0gTC5jaXJjbGUoCiAgICAgICAgICAgICAgICBbMjMuNjg1LCA5MC4zNTYzXSwKICAgICAgICAgICAgICAgIHsiYnViYmxpbmdNb3VzZUV2ZW50cyI6IHRydWUsICJjb2xvciI6ICJyZWQiLCAiZGFzaEFycmF5IjogbnVsbCwgImRhc2hPZmZzZXQiOiBudWxsLCAiZmlsbCI6IHRydWUsICJmaWxsQ29sb3IiOiAiaW5kaWdvIiwgImZpbGxPcGFjaXR5IjogMC4yLCAiZmlsbFJ1bGUiOiAiZXZlbm9kZCIsICJsaW5lQ2FwIjogInJvdW5kIiwgImxpbmVKb2luIjogInJvdW5kIiwgIm9wYWNpdHkiOiAxLjAsICJyYWRpdXMiOiA0NTk5OTkuOTk5OTk5OTk5OTQsICJzdHJva2UiOiB0cnVlLCAid2VpZ2h0IjogM30KICAgICAgICAgICAgKS5hZGRUbyhtYXBfZmZmMTg1NzU5NGJmNGEzYTgyNzhmMTI1MzZjY2Q2MzcpOwogICAgICAgIAogICAgCiAgICAgICAgICAgIGNpcmNsZV8yNjBlZThlZTkwMzQ0ZjQ2OWU3NDA2MmM3YmExZWM3OC5iaW5kVG9vbHRpcCgKICAgICAgICAgICAgICAgIGA8ZGl2PgogICAgICAgICAgICAgICAgICAgICA8ZGl2IHN0eWxlPSdtYXJnaW46IDA7IGJhY2tncm91bmQtY29sb3I6IGJsYWNrOyBjb2xvcjogd2hpdGU7Jz48aDQgc3R5bGU9J3RleHQtYWxpZ246Y2VudGVyO2ZvbnQtd2VpZ2h0OiBib2xkJz5CYW5nbGFkZXNoPC9oND48aHIgc3R5bGU9J21hcmdpbjoxMHB4O2NvbG9yOiB3aGl0ZTsnPjx1bCBzdHlsZT0nY29sb3I6IHdoaXRlOztsaXN0LXN0eWxlLXR5cGU6Y2lyY2xlO2FsaWduLWl0ZW06bGVmdDtwYWRkaW5nLWxlZnQ6MjBweDtwYWRkaW5nLXJpZ2h0OjIwcHgnPjxsaT5Db25maXJtZWQ6IDgyMzg8L2xpPjxsaT5EZWF0aHM6ICAgMTcwPC9saT48bGk+RGVhdGggUmF0ZTogMi4wNjwvbGk+PC91bD48L2Rpdj4KICAgICAgICAgICAgICAgICA8L2Rpdj5gLAogICAgICAgICAgICAgICAgeyJzdGlja3kiOiB0cnVlfQogICAgICAgICAgICApOwogICAgICAgIAogICAgCiAgICAgICAgICAgIHZhciBjaXJjbGVfYmY4MTI2MzgzMmU0NDkxZDkzYjg0MDVlZTdlMmU2OWMgPSBMLmNpcmNsZSgKICAgICAgICAgICAgICAgIFsxMy4xOTM5LCAtNTkuNTQzMl0sCiAgICAgICAgICAgICAgICB7ImJ1YmJsaW5nTW91c2VFdmVudHMiOiB0cnVlLCAiY29sb3IiOiAicmVkIiwgImRhc2hBcnJheSI6IG51bGwsICJkYXNoT2Zmc2V0IjogbnVsbCwgImZpbGwiOiB0cnVlLCAiZmlsbENvbG9yIjogImluZGlnbyIsICJmaWxsT3BhY2l0eSI6IDAuMiwgImZpbGxSdWxlIjogImV2ZW5vZGQiLCAibGluZUNhcCI6ICJyb3VuZCIsICJsaW5lSm9pbiI6ICJyb3VuZCIsICJvcGFjaXR5IjogMS4wLCAicmFkaXVzIjogMjEwMDAwLjAsICJzdHJva2UiOiB0cnVlLCAid2VpZ2h0IjogM30KICAgICAgICAgICAgKS5hZGRUbyhtYXBfZmZmMTg1NzU5NGJmNGEzYTgyNzhmMTI1MzZjY2Q2MzcpOwogICAgICAgIAogICAgCiAgICAgICAgICAgIGNpcmNsZV9iZjgxMjYzODMyZTQ0OTFkOTNiODQwNWVlN2UyZTY5Yy5iaW5kVG9vbHRpcCgKICAgICAgICAgICAgICAgIGA8ZGl2PgogICAgICAgICAgICAgICAgICAgICA8ZGl2IHN0eWxlPSdtYXJnaW46IDA7IGJhY2tncm91bmQtY29sb3I6IGJsYWNrOyBjb2xvcjogd2hpdGU7Jz48aDQgc3R5bGU9J3RleHQtYWxpZ246Y2VudGVyO2ZvbnQtd2VpZ2h0OiBib2xkJz5CYXJiYWRvczwvaDQ+PGhyIHN0eWxlPSdtYXJnaW46MTBweDtjb2xvcjogd2hpdGU7Jz48dWwgc3R5bGU9J2NvbG9yOiB3aGl0ZTs7bGlzdC1zdHlsZS10eXBlOmNpcmNsZTthbGlnbi1pdGVtOmxlZnQ7cGFkZGluZy1sZWZ0OjIwcHg7cGFkZGluZy1yaWdodDoyMHB4Jz48bGk+Q29uZmlybWVkOiA4MTwvbGk+PGxpPkRlYXRoczogICA3PC9saT48bGk+RGVhdGggUmF0ZTogOC41NDwvbGk+PC91bD48L2Rpdj4KICAgICAgICAgICAgICAgICA8L2Rpdj5gLAogICAgICAgICAgICAgICAgeyJzdGlja3kiOiB0cnVlfQogICAgICAgICAgICApOwogICAgICAgIAogICAgCiAgICAgICAgICAgIHZhciBjaXJjbGVfM2Q2ZDdlNDY5OTAyNDI3MWJkYjAwMjBhMzY1Yjk0ODkgPSBMLmNpcmNsZSgKICAgICAgICAgICAgICAgIFs1My43MDk4LCAyNy45NTM0XSwKICAgICAgICAgICAgICAgIHsiYnViYmxpbmdNb3VzZUV2ZW50cyI6IHRydWUsICJjb2xvciI6ICJyZWQiLCAiZGFzaEFycmF5IjogbnVsbCwgImRhc2hPZmZzZXQiOiBudWxsLCAiZmlsbCI6IHRydWUsICJmaWxsQ29sb3IiOiAiaW5kaWdvIiwgImZpbGxPcGFjaXR5IjogMC4yLCAiZmlsbFJ1bGUiOiAiZXZlbm9kZCIsICJsaW5lQ2FwIjogInJvdW5kIiwgImxpbmVKb2luIjogInJvdW5kIiwgIm9wYWNpdHkiOiAxLjAsICJyYWRpdXMiOiA0NTk5OTkuOTk5OTk5OTk5OTQsICJzdHJva2UiOiB0cnVlLCAid2VpZ2h0IjogM30KICAgICAgICAgICAgKS5hZGRUbyhtYXBfZmZmMTg1NzU5NGJmNGEzYTgyNzhmMTI1MzZjY2Q2MzcpOwogICAgICAgIAogICAgCiAgICAgICAgICAgIGNpcmNsZV8zZDZkN2U0Njk5MDI0MjcxYmRiMDAyMGEzNjViOTQ4OS5iaW5kVG9vbHRpcCgKICAgICAgICAgICAgICAgIGA8ZGl2PgogICAgICAgICAgICAgICAgICAgICA8ZGl2IHN0eWxlPSdtYXJnaW46IDA7IGJhY2tncm91bmQtY29sb3I6IGJsYWNrOyBjb2xvcjogd2hpdGU7Jz48aDQgc3R5bGU9J3RleHQtYWxpZ246Y2VudGVyO2ZvbnQtd2VpZ2h0OiBib2xkJz5CZWxhcnVzPC9oND48aHIgc3R5bGU9J21hcmdpbjoxMHB4O2NvbG9yOiB3aGl0ZTsnPjx1bCBzdHlsZT0nY29sb3I6IHdoaXRlOztsaXN0LXN0eWxlLXR5cGU6Y2lyY2xlO2FsaWduLWl0ZW06bGVmdDtwYWRkaW5nLWxlZnQ6MjBweDtwYWRkaW5nLXJpZ2h0OjIwcHgnPjxsaT5Db25maXJtZWQ6IDE0OTE3PC9saT48bGk+RGVhdGhzOiAgIDkzPC9saT48bGk+RGVhdGggUmF0ZTogMC42MjwvbGk+PC91bD48L2Rpdj4KICAgICAgICAgICAgICAgICA8L2Rpdj5gLAogICAgICAgICAgICAgICAgeyJzdGlja3kiOiB0cnVlfQogICAgICAgICAgICApOwogICAgICAgIAogICAgCiAgICAgICAgICAgIHZhciBjaXJjbGVfZGNlODAxYmYwYzBjNGFjNGJlMmE1ZjhhOGU5NmMwZWIgPSBMLmNpcmNsZSgKICAgICAgICAgICAgICAgIFs1MC44MzMzLCA0LjBdLAogICAgICAgICAgICAgICAgeyJidWJibGluZ01vdXNlRXZlbnRzIjogdHJ1ZSwgImNvbG9yIjogInJlZCIsICJkYXNoQXJyYXkiOiBudWxsLCAiZGFzaE9mZnNldCI6IG51bGwsICJmaWxsIjogdHJ1ZSwgImZpbGxDb2xvciI6ICJpbmRpZ28iLCAiZmlsbE9wYWNpdHkiOiAwLjIsICJmaWxsUnVsZSI6ICJldmVub2RkIiwgImxpbmVDYXAiOiAicm91bmQiLCAibGluZUpvaW4iOiAicm91bmQiLCAib3BhY2l0eSI6IDEuMCwgInJhZGl1cyI6IDUwOTk5OS45OTk5OTk5OTk5NCwgInN0cm9rZSI6IHRydWUsICJ3ZWlnaHQiOiAzfQogICAgICAgICAgICApLmFkZFRvKG1hcF9mZmYxODU3NTk0YmY0YTNhODI3OGYxMjUzNmNjZDYzNyk7CiAgICAgICAgCiAgICAKICAgICAgICAgICAgY2lyY2xlX2RjZTgwMWJmMGMwYzRhYzRiZTJhNWY4YThlOTZjMGViLmJpbmRUb29sdGlwKAogICAgICAgICAgICAgICAgYDxkaXY+CiAgICAgICAgICAgICAgICAgICAgIDxkaXYgc3R5bGU9J21hcmdpbjogMDsgYmFja2dyb3VuZC1jb2xvcjogYmxhY2s7IGNvbG9yOiB3aGl0ZTsnPjxoNCBzdHlsZT0ndGV4dC1hbGlnbjpjZW50ZXI7Zm9udC13ZWlnaHQ6IGJvbGQnPkJlbGdpdW08L2g0PjxociBzdHlsZT0nbWFyZ2luOjEwcHg7Y29sb3I6IHdoaXRlOyc+PHVsIHN0eWxlPSdjb2xvcjogd2hpdGU7O2xpc3Qtc3R5bGUtdHlwZTpjaXJjbGU7YWxpZ24taXRlbTpsZWZ0O3BhZGRpbmctbGVmdDoyMHB4O3BhZGRpbmctcmlnaHQ6MjBweCc+PGxpPkNvbmZpcm1lZDogNDkwMzI8L2xpPjxsaT5EZWF0aHM6ICAgNzcwMzwvbGk+PGxpPkRlYXRoIFJhdGU6IDE1LjcxPC9saT48L3VsPjwvZGl2PgogICAgICAgICAgICAgICAgIDwvZGl2PmAsCiAgICAgICAgICAgICAgICB7InN0aWNreSI6IHRydWV9CiAgICAgICAgICAgICk7CiAgICAgICAgCiAgICAKICAgICAgICAgICAgdmFyIGNpcmNsZV83Y2EwNjIxMjlhM2M0OGUyYWNkMzY1NzFhNWI3MWZhZSA9IEwuY2lyY2xlKAogICAgICAgICAgICAgICAgWzkuMzA3NywgMi4zMTU4XSwKICAgICAgICAgICAgICAgIHsiYnViYmxpbmdNb3VzZUV2ZW50cyI6IHRydWUsICJjb2xvciI6ICJyZWQiLCAiZGFzaEFycmF5IjogbnVsbCwgImRhc2hPZmZzZXQiOiBudWxsLCAiZmlsbCI6IHRydWUsICJmaWxsQ29sb3IiOiAiaW5kaWdvIiwgImZpbGxPcGFjaXR5IjogMC4yLCAiZmlsbFJ1bGUiOiAiZXZlbm9kZCIsICJsaW5lQ2FwIjogInJvdW5kIiwgImxpbmVKb2luIjogInJvdW5kIiwgIm9wYWNpdHkiOiAxLjAsICJyYWRpdXMiOiAyMTAwMDAuMCwgInN0cm9rZSI6IHRydWUsICJ3ZWlnaHQiOiAzfQogICAgICAgICAgICApLmFkZFRvKG1hcF9mZmYxODU3NTk0YmY0YTNhODI3OGYxMjUzNmNjZDYzNyk7CiAgICAgICAgCiAgICAKICAgICAgICAgICAgY2lyY2xlXzdjYTA2MjEyOWEzYzQ4ZTJhY2QzNjU3MWE1YjcxZmFlLmJpbmRUb29sdGlwKAogICAgICAgICAgICAgICAgYDxkaXY+CiAgICAgICAgICAgICAgICAgICAgIDxkaXYgc3R5bGU9J21hcmdpbjogMDsgYmFja2dyb3VuZC1jb2xvcjogYmxhY2s7IGNvbG9yOiB3aGl0ZTsnPjxoNCBzdHlsZT0ndGV4dC1hbGlnbjpjZW50ZXI7Zm9udC13ZWlnaHQ6IGJvbGQnPkJlbmluPC9oND48aHIgc3R5bGU9J21hcmdpbjoxMHB4O2NvbG9yOiB3aGl0ZTsnPjx1bCBzdHlsZT0nY29sb3I6IHdoaXRlOztsaXN0LXN0eWxlLXR5cGU6Y2lyY2xlO2FsaWduLWl0ZW06bGVmdDtwYWRkaW5nLWxlZnQ6MjBweDtwYWRkaW5nLXJpZ2h0OjIwcHgnPjxsaT5Db25maXJtZWQ6IDkwPC9saT48bGk+RGVhdGhzOiAgIDI8L2xpPjxsaT5EZWF0aCBSYXRlOiAyLjI8L2xpPjwvdWw+PC9kaXY+CiAgICAgICAgICAgICAgICAgPC9kaXY+YCwKICAgICAgICAgICAgICAgIHsic3RpY2t5IjogdHJ1ZX0KICAgICAgICAgICAgKTsKICAgICAgICAKICAgIAogICAgICAgICAgICB2YXIgY2lyY2xlXzc2NDE3NzBjOWZmNjRjMjg5YjAyZWRlOThjMGQzNDQ4ID0gTC5jaXJjbGUoCiAgICAgICAgICAgICAgICBbMjcuNTE0MiwgOTAuNDMzNl0sCiAgICAgICAgICAgICAgICB7ImJ1YmJsaW5nTW91c2VFdmVudHMiOiB0cnVlLCAiY29sb3IiOiAicmVkIiwgImRhc2hBcnJheSI6IG51bGwsICJkYXNoT2Zmc2V0IjogbnVsbCwgImZpbGwiOiB0cnVlLCAiZmlsbENvbG9yIjogImluZGlnbyIsICJmaWxsT3BhY2l0eSI6IDAuMiwgImZpbGxSdWxlIjogImV2ZW5vZGQiLCAibGluZUNhcCI6ICJyb3VuZCIsICJsaW5lSm9pbiI6ICJyb3VuZCIsICJvcGFjaXR5IjogMS4wLCAicmFkaXVzIjogMTEwMDAwLjAwMDAwMDAwMDAxLCAic3Ryb2tlIjogdHJ1ZSwgIndlaWdodCI6IDN9CiAgICAgICAgICAgICkuYWRkVG8obWFwX2ZmZjE4NTc1OTRiZjRhM2E4Mjc4ZjEyNTM2Y2NkNjM3KTsKICAgICAgICAKICAgIAogICAgICAgICAgICBjaXJjbGVfNzY0MTc3MGM5ZmY2NGMyODliMDJlZGU5OGMwZDM0NDguYmluZFRvb2x0aXAoCiAgICAgICAgICAgICAgICBgPGRpdj4KICAgICAgICAgICAgICAgICAgICAgPGRpdiBzdHlsZT0nbWFyZ2luOiAwOyBiYWNrZ3JvdW5kLWNvbG9yOiBibGFjazsgY29sb3I6IHdoaXRlOyc+PGg0IHN0eWxlPSd0ZXh0LWFsaWduOmNlbnRlcjtmb250LXdlaWdodDogYm9sZCc+Qmh1dGFuPC9oND48aHIgc3R5bGU9J21hcmdpbjoxMHB4O2NvbG9yOiB3aGl0ZTsnPjx1bCBzdHlsZT0nY29sb3I6IHdoaXRlOztsaXN0LXN0eWxlLXR5cGU6Y2lyY2xlO2FsaWduLWl0ZW06bGVmdDtwYWRkaW5nLWxlZnQ6MjBweDtwYWRkaW5nLXJpZ2h0OjIwcHgnPjxsaT5Db25maXJtZWQ6IDc8L2xpPjxsaT5EZWF0aHM6ICAgMDwvbGk+PGxpPkRlYXRoIFJhdGU6IDAuMDwvbGk+PC91bD48L2Rpdj4KICAgICAgICAgICAgICAgICA8L2Rpdj5gLAogICAgICAgICAgICAgICAgeyJzdGlja3kiOiB0cnVlfQogICAgICAgICAgICApOwogICAgICAgIAogICAgCiAgICAgICAgICAgIHZhciBjaXJjbGVfYTUyY2U3MmViNTllNDg3ZjkwNzg0NjdjNTBmOTRjZGQgPSBMLmNpcmNsZSgKICAgICAgICAgICAgICAgIFstMTYuMjkwMiwgLTYzLjU4ODddLAogICAgICAgICAgICAgICAgeyJidWJibGluZ01vdXNlRXZlbnRzIjogdHJ1ZSwgImNvbG9yIjogInJlZCIsICJkYXNoQXJyYXkiOiBudWxsLCAiZGFzaE9mZnNldCI6IG51bGwsICJmaWxsIjogdHJ1ZSwgImZpbGxDb2xvciI6ICJpbmRpZ28iLCAiZmlsbE9wYWNpdHkiOiAwLjIsICJmaWxsUnVsZSI6ICJldmVub2RkIiwgImxpbmVDYXAiOiAicm91bmQiLCAibGluZUpvaW4iOiAicm91bmQiLCAib3BhY2l0eSI6IDEuMCwgInJhZGl1cyI6IDM2MDAwMC4wLCAic3Ryb2tlIjogdHJ1ZSwgIndlaWdodCI6IDN9CiAgICAgICAgICAgICkuYWRkVG8obWFwX2ZmZjE4NTc1OTRiZjRhM2E4Mjc4ZjEyNTM2Y2NkNjM3KTsKICAgICAgICAKICAgIAogICAgICAgICAgICBjaXJjbGVfYTUyY2U3MmViNTllNDg3ZjkwNzg0NjdjNTBmOTRjZGQuYmluZFRvb2x0aXAoCiAgICAgICAgICAgICAgICBgPGRpdj4KICAgICAgICAgICAgICAgICAgICAgPGRpdiBzdHlsZT0nbWFyZ2luOiAwOyBiYWNrZ3JvdW5kLWNvbG9yOiBibGFjazsgY29sb3I6IHdoaXRlOyc+PGg0IHN0eWxlPSd0ZXh0LWFsaWduOmNlbnRlcjtmb250LXdlaWdodDogYm9sZCc+Qm9saXZpYTwvaDQ+PGhyIHN0eWxlPSdtYXJnaW46MTBweDtjb2xvcjogd2hpdGU7Jz48dWwgc3R5bGU9J2NvbG9yOiB3aGl0ZTs7bGlzdC1zdHlsZS10eXBlOmNpcmNsZTthbGlnbi1pdGVtOmxlZnQ7cGFkZGluZy1sZWZ0OjIwcHg7cGFkZGluZy1yaWdodDoyMHB4Jz48bGk+Q29uZmlybWVkOiAxMjI5PC9saT48bGk+RGVhdGhzOiAgIDY2PC9saT48bGk+RGVhdGggUmF0ZTogNS4zNzwvbGk+PC91bD48L2Rpdj4KICAgICAgICAgICAgICAgICA8L2Rpdj5gLAogICAgICAgICAgICAgICAgeyJzdGlja3kiOiB0cnVlfQogICAgICAgICAgICApOwogICAgICAgIAogICAgCiAgICAgICAgICAgIHZhciBjaXJjbGVfNGJjZWVjZmIxZjkxNDhhZGJlMTQzMGE2MjA5ODU2OTEgPSBMLmNpcmNsZSgKICAgICAgICAgICAgICAgIFs0My45MTU5LCAxNy42NzkxXSwKICAgICAgICAgICAgICAgIHsiYnViYmxpbmdNb3VzZUV2ZW50cyI6IHRydWUsICJjb2xvciI6ICJyZWQiLCAiZGFzaEFycmF5IjogbnVsbCwgImRhc2hPZmZzZXQiOiBudWxsLCAiZmlsbCI6IHRydWUsICJmaWxsQ29sb3IiOiAiaW5kaWdvIiwgImZpbGxPcGFjaXR5IjogMC4yLCAiZmlsbFJ1bGUiOiAiZXZlbm9kZCIsICJsaW5lQ2FwIjogInJvdW5kIiwgImxpbmVKb2luIjogInJvdW5kIiwgIm9wYWNpdHkiOiAxLjAsICJyYWRpdXMiOiAzNjAwMDAuMCwgInN0cm9rZSI6IHRydWUsICJ3ZWlnaHQiOiAzfQogICAgICAgICAgICApLmFkZFRvKG1hcF9mZmYxODU3NTk0YmY0YTNhODI3OGYxMjUzNmNjZDYzNyk7CiAgICAgICAgCiAgICAKICAgICAgICAgICAgY2lyY2xlXzRiY2VlY2ZiMWY5MTQ4YWRiZTE0MzBhNjIwOTg1NjkxLmJpbmRUb29sdGlwKAogICAgICAgICAgICAgICAgYDxkaXY+CiAgICAgICAgICAgICAgICAgICAgIDxkaXYgc3R5bGU9J21hcmdpbjogMDsgYmFja2dyb3VuZC1jb2xvcjogYmxhY2s7IGNvbG9yOiB3aGl0ZTsnPjxoNCBzdHlsZT0ndGV4dC1hbGlnbjpjZW50ZXI7Zm9udC13ZWlnaHQ6IGJvbGQnPkJvc25pYSBhbmQgSGVyemVnb3ZpbmE8L2g0PjxociBzdHlsZT0nbWFyZ2luOjEwcHg7Y29sb3I6IHdoaXRlOyc+PHVsIHN0eWxlPSdjb2xvcjogd2hpdGU7O2xpc3Qtc3R5bGUtdHlwZTpjaXJjbGU7YWxpZ24taXRlbTpsZWZ0O3BhZGRpbmctbGVmdDoyMHB4O3BhZGRpbmctcmlnaHQ6MjBweCc+PGxpPkNvbmZpcm1lZDogMTc4MTwvbGk+PGxpPkRlYXRoczogICA3MDwvbGk+PGxpPkRlYXRoIFJhdGU6IDMuOTM8L2xpPjwvdWw+PC9kaXY+CiAgICAgICAgICAgICAgICAgPC9kaXY+YCwKICAgICAgICAgICAgICAgIHsic3RpY2t5IjogdHJ1ZX0KICAgICAgICAgICAgKTsKICAgICAgICAKICAgIAogICAgICAgICAgICB2YXIgY2lyY2xlX2ViYTI5NDFkYjQwZjQ4NWU4MGU1MmE3NTM1YTczOTgwID0gTC5jaXJjbGUoCiAgICAgICAgICAgICAgICBbLTE0LjIzNSwgLTUxLjkyNTNdLAogICAgICAgICAgICAgICAgeyJidWJibGluZ01vdXNlRXZlbnRzIjogdHJ1ZSwgImNvbG9yIjogInJlZCIsICJkYXNoQXJyYXkiOiBudWxsLCAiZGFzaE9mZnNldCI6IG51bGwsICJmaWxsIjogdHJ1ZSwgImZpbGxDb2xvciI6ICJpbmRpZ28iLCAiZmlsbE9wYWNpdHkiOiAwLjIsICJmaWxsUnVsZSI6ICJldmVub2RkIiwgImxpbmVDYXAiOiAicm91bmQiLCAibGluZUpvaW4iOiAicm91bmQiLCAib3BhY2l0eSI6IDEuMCwgInJhZGl1cyI6IDU2MDAwMC4wLCAic3Ryb2tlIjogdHJ1ZSwgIndlaWdodCI6IDN9CiAgICAgICAgICAgICkuYWRkVG8obWFwX2ZmZjE4NTc1OTRiZjRhM2E4Mjc4ZjEyNTM2Y2NkNjM3KTsKICAgICAgICAKICAgIAogICAgICAgICAgICBjaXJjbGVfZWJhMjk0MWRiNDBmNDg1ZTgwZTUyYTc1MzVhNzM5ODAuYmluZFRvb2x0aXAoCiAgICAgICAgICAgICAgICBgPGRpdj4KICAgICAgICAgICAgICAgICAgICAgPGRpdiBzdHlsZT0nbWFyZ2luOiAwOyBiYWNrZ3JvdW5kLWNvbG9yOiBibGFjazsgY29sb3I6IHdoaXRlOyc+PGg0IHN0eWxlPSd0ZXh0LWFsaWduOmNlbnRlcjtmb250LXdlaWdodDogYm9sZCc+QnJhemlsPC9oND48aHIgc3R5bGU9J21hcmdpbjoxMHB4O2NvbG9yOiB3aGl0ZTsnPjx1bCBzdHlsZT0nY29sb3I6IHdoaXRlOztsaXN0LXN0eWxlLXR5cGU6Y2lyY2xlO2FsaWduLWl0ZW06bGVmdDtwYWRkaW5nLWxlZnQ6MjBweDtwYWRkaW5nLXJpZ2h0OjIwcHgnPjxsaT5Db25maXJtZWQ6IDkyMjAyPC9saT48bGk+RGVhdGhzOiAgIDY0MTI8L2xpPjxsaT5EZWF0aCBSYXRlOiA2Ljk1PC9saT48L3VsPjwvZGl2PgogICAgICAgICAgICAgICAgIDwvZGl2PmAsCiAgICAgICAgICAgICAgICB7InN0aWNreSI6IHRydWV9CiAgICAgICAgICAgICk7CiAgICAgICAgCiAgICAKICAgICAgICAgICAgdmFyIGNpcmNsZV82MDY3YWQzODU0MTM0OTcxYWEyZWI5Yjc0MDUyNGNhOSA9IEwuY2lyY2xlKAogICAgICAgICAgICAgICAgWzQuNTM1MywgMTE0LjcyNzddLAogICAgICAgICAgICAgICAgeyJidWJibGluZ01vdXNlRXZlbnRzIjogdHJ1ZSwgImNvbG9yIjogInJlZCIsICJkYXNoQXJyYXkiOiBudWxsLCAiZGFzaE9mZnNldCI6IG51bGwsICJmaWxsIjogdHJ1ZSwgImZpbGxDb2xvciI6ICJpbmRpZ28iLCAiZmlsbE9wYWNpdHkiOiAwLjIsICJmaWxsUnVsZSI6ICJldmVub2RkIiwgImxpbmVDYXAiOiAicm91bmQiLCAibGluZUpvaW4iOiAicm91bmQiLCAib3BhY2l0eSI6IDEuMCwgInJhZGl1cyI6IDIxMDAwMC4wLCAic3Ryb2tlIjogdHJ1ZSwgIndlaWdodCI6IDN9CiAgICAgICAgICAgICkuYWRkVG8obWFwX2ZmZjE4NTc1OTRiZjRhM2E4Mjc4ZjEyNTM2Y2NkNjM3KTsKICAgICAgICAKICAgIAogICAgICAgICAgICBjaXJjbGVfNjA2N2FkMzg1NDEzNDk3MWFhMmViOWI3NDA1MjRjYTkuYmluZFRvb2x0aXAoCiAgICAgICAgICAgICAgICBgPGRpdj4KICAgICAgICAgICAgICAgICAgICAgPGRpdiBzdHlsZT0nbWFyZ2luOiAwOyBiYWNrZ3JvdW5kLWNvbG9yOiBibGFjazsgY29sb3I6IHdoaXRlOyc+PGg0IHN0eWxlPSd0ZXh0LWFsaWduOmNlbnRlcjtmb250LXdlaWdodDogYm9sZCc+QnJ1bmVpPC9oND48aHIgc3R5bGU9J21hcmdpbjoxMHB4O2NvbG9yOiB3aGl0ZTsnPjx1bCBzdHlsZT0nY29sb3I6IHdoaXRlOztsaXN0LXN0eWxlLXR5cGU6Y2lyY2xlO2FsaWduLWl0ZW06bGVmdDtwYWRkaW5nLWxlZnQ6MjBweDtwYWRkaW5nLXJpZ2h0OjIwcHgnPjxsaT5Db25maXJtZWQ6IDEzODwvbGk+PGxpPkRlYXRoczogICAxPC9saT48bGk+RGVhdGggUmF0ZTogMC43MjwvbGk+PC91bD48L2Rpdj4KICAgICAgICAgICAgICAgICA8L2Rpdj5gLAogICAgICAgICAgICAgICAgeyJzdGlja3kiOiB0cnVlfQogICAgICAgICAgICApOwogICAgICAgIAogICAgCiAgICAgICAgICAgIHZhciBjaXJjbGVfN2U2OGUzNWZlZjJlNDAxYzhlZDVlODY4MDAxMGM0N2EgPSBMLmNpcmNsZSgKICAgICAgICAgICAgICAgIFs0Mi43MzM5LCAyNS40ODU4XSwKICAgICAgICAgICAgICAgIHsiYnViYmxpbmdNb3VzZUV2ZW50cyI6IHRydWUsICJjb2xvciI6ICJyZWQiLCAiZGFzaEFycmF5IjogbnVsbCwgImRhc2hPZmZzZXQiOiBudWxsLCAiZmlsbCI6IHRydWUsICJmaWxsQ29sb3IiOiAiaW5kaWdvIiwgImZpbGxPcGFjaXR5IjogMC4yLCAiZmlsbFJ1bGUiOiAiZXZlbm9kZCIsICJsaW5lQ2FwIjogInJvdW5kIiwgImxpbmVKb2luIjogInJvdW5kIiwgIm9wYWNpdHkiOiAxLjAsICJyYWRpdXMiOiAzNjAwMDAuMCwgInN0cm9rZSI6IHRydWUsICJ3ZWlnaHQiOiAzfQogICAgICAgICAgICApLmFkZFRvKG1hcF9mZmYxODU3NTk0YmY0YTNhODI3OGYxMjUzNmNjZDYzNyk7CiAgICAgICAgCiAgICAKICAgICAgICAgICAgY2lyY2xlXzdlNjhlMzVmZWYyZTQwMWM4ZWQ1ZTg2ODAwMTBjNDdhLmJpbmRUb29sdGlwKAogICAgICAgICAgICAgICAgYDxkaXY+CiAgICAgICAgICAgICAgICAgICAgIDxkaXYgc3R5bGU9J21hcmdpbjogMDsgYmFja2dyb3VuZC1jb2xvcjogYmxhY2s7IGNvbG9yOiB3aGl0ZTsnPjxoNCBzdHlsZT0ndGV4dC1hbGlnbjpjZW50ZXI7Zm9udC13ZWlnaHQ6IGJvbGQnPkJ1bGdhcmlhPC9oND48aHIgc3R5bGU9J21hcmdpbjoxMHB4O2NvbG9yOiB3aGl0ZTsnPjx1bCBzdHlsZT0nY29sb3I6IHdoaXRlOztsaXN0LXN0eWxlLXR5cGU6Y2lyY2xlO2FsaWduLWl0ZW06bGVmdDtwYWRkaW5nLWxlZnQ6MjBweDtwYWRkaW5nLXJpZ2h0OjIwcHgnPjxsaT5Db25maXJtZWQ6IDE1NTU8L2xpPjxsaT5EZWF0aHM6ICAgNjg8L2xpPjxsaT5EZWF0aCBSYXRlOiA0LjM3PC9saT48L3VsPjwvZGl2PgogICAgICAgICAgICAgICAgIDwvZGl2PmAsCiAgICAgICAgICAgICAgICB7InN0aWNreSI6IHRydWV9CiAgICAgICAgICAgICk7CiAgICAgICAgCiAgICAKICAgICAgICAgICAgdmFyIGNpcmNsZV80ZGZhY2I5NGNlNDA0Y2M3YTBiYTZkNWEyNzFjZjk3MiA9IEwuY2lyY2xlKAogICAgICAgICAgICAgICAgWzEyLjIzODMsIC0xLjU2MTZdLAogICAgICAgICAgICAgICAgeyJidWJibGluZ01vdXNlRXZlbnRzIjogdHJ1ZSwgImNvbG9yIjogInJlZCIsICJkYXNoQXJyYXkiOiBudWxsLCAiZGFzaE9mZnNldCI6IG51bGwsICJmaWxsIjogdHJ1ZSwgImZpbGxDb2xvciI6ICJpbmRpZ28iLCAiZmlsbE9wYWNpdHkiOiAwLjIsICJmaWxsUnVsZSI6ICJldmVub2RkIiwgImxpbmVDYXAiOiAicm91bmQiLCAibGluZUpvaW4iOiAicm91bmQiLCAib3BhY2l0eSI6IDEuMCwgInJhZGl1cyI6IDMxMDAwMC4wLCAic3Ryb2tlIjogdHJ1ZSwgIndlaWdodCI6IDN9CiAgICAgICAgICAgICkuYWRkVG8obWFwX2ZmZjE4NTc1OTRiZjRhM2E4Mjc4ZjEyNTM2Y2NkNjM3KTsKICAgICAgICAKICAgIAogICAgICAgICAgICBjaXJjbGVfNGRmYWNiOTRjZTQwNGNjN2EwYmE2ZDVhMjcxY2Y5NzIuYmluZFRvb2x0aXAoCiAgICAgICAgICAgICAgICBgPGRpdj4KICAgICAgICAgICAgICAgICAgICAgPGRpdiBzdHlsZT0nbWFyZ2luOiAwOyBiYWNrZ3JvdW5kLWNvbG9yOiBibGFjazsgY29sb3I6IHdoaXRlOyc+PGg0IHN0eWxlPSd0ZXh0LWFsaWduOmNlbnRlcjtmb250LXdlaWdodDogYm9sZCc+QnVya2luYSBGYXNvPC9oND48aHIgc3R5bGU9J21hcmdpbjoxMHB4O2NvbG9yOiB3aGl0ZTsnPjx1bCBzdHlsZT0nY29sb3I6IHdoaXRlOztsaXN0LXN0eWxlLXR5cGU6Y2lyY2xlO2FsaWduLWl0ZW06bGVmdDtwYWRkaW5nLWxlZnQ6MjBweDtwYWRkaW5nLXJpZ2h0OjIwcHgnPjxsaT5Db25maXJtZWQ6IDY0OTwvbGk+PGxpPkRlYXRoczogICA0NDwvbGk+PGxpPkRlYXRoIFJhdGU6IDYuNzc8L2xpPjwvdWw+PC9kaXY+CiAgICAgICAgICAgICAgICAgPC9kaXY+YCwKICAgICAgICAgICAgICAgIHsic3RpY2t5IjogdHJ1ZX0KICAgICAgICAgICAgKTsKICAgICAgICAKICAgIAogICAgICAgICAgICB2YXIgY2lyY2xlXzBlZDhkOWQ3MDViYjRhYWQ5OWFlYjE1NDljMjc0YzZhID0gTC5jaXJjbGUoCiAgICAgICAgICAgICAgICBbMTYuNTM4OCwgLTIzLjA0MThdLAogICAgICAgICAgICAgICAgeyJidWJibGluZ01vdXNlRXZlbnRzIjogdHJ1ZSwgImNvbG9yIjogInJlZCIsICJkYXNoQXJyYXkiOiBudWxsLCAiZGFzaE9mZnNldCI6IG51bGwsICJmaWxsIjogdHJ1ZSwgImZpbGxDb2xvciI6ICJpbmRpZ28iLCAiZmlsbE9wYWNpdHkiOiAwLjIsICJmaWxsUnVsZSI6ICJldmVub2RkIiwgImxpbmVDYXAiOiAicm91bmQiLCAibGluZUpvaW4iOiAicm91bmQiLCAib3BhY2l0eSI6IDEuMCwgInJhZGl1cyI6IDIxMDAwMC4wLCAic3Ryb2tlIjogdHJ1ZSwgIndlaWdodCI6IDN9CiAgICAgICAgICAgICkuYWRkVG8obWFwX2ZmZjE4NTc1OTRiZjRhM2E4Mjc4ZjEyNTM2Y2NkNjM3KTsKICAgICAgICAKICAgIAogICAgICAgICAgICBjaXJjbGVfMGVkOGQ5ZDcwNWJiNGFhZDk5YWViMTU0OWMyNzRjNmEuYmluZFRvb2x0aXAoCiAgICAgICAgICAgICAgICBgPGRpdj4KICAgICAgICAgICAgICAgICAgICAgPGRpdiBzdHlsZT0nbWFyZ2luOiAwOyBiYWNrZ3JvdW5kLWNvbG9yOiBibGFjazsgY29sb3I6IHdoaXRlOyc+PGg0IHN0eWxlPSd0ZXh0LWFsaWduOmNlbnRlcjtmb250LXdlaWdodDogYm9sZCc+Q2FibyBWZXJkZTwvaDQ+PGhyIHN0eWxlPSdtYXJnaW46MTBweDtjb2xvcjogd2hpdGU7Jz48dWwgc3R5bGU9J2NvbG9yOiB3aGl0ZTs7bGlzdC1zdHlsZS10eXBlOmNpcmNsZTthbGlnbi1pdGVtOmxlZnQ7cGFkZGluZy1sZWZ0OjIwcHg7cGFkZGluZy1yaWdodDoyMHB4Jz48bGk+Q29uZmlybWVkOiAxMjI8L2xpPjxsaT5EZWF0aHM6ICAgMTwvbGk+PGxpPkRlYXRoIFJhdGU6IDAuODE8L2xpPjwvdWw+PC9kaXY+CiAgICAgICAgICAgICAgICAgPC9kaXY+YCwKICAgICAgICAgICAgICAgIHsic3RpY2t5IjogdHJ1ZX0KICAgICAgICAgICAgKTsKICAgICAgICAKICAgIAogICAgICAgICAgICB2YXIgY2lyY2xlXzY3MzFjOTAzY2ExNTQyYmRiMTNkOTFiODU2MjE2MzMyID0gTC5jaXJjbGUoCiAgICAgICAgICAgICAgICBbMTEuNTUsIDEwNC45MTY3XSwKICAgICAgICAgICAgICAgIHsiYnViYmxpbmdNb3VzZUV2ZW50cyI6IHRydWUsICJjb2xvciI6ICJyZWQiLCAiZGFzaEFycmF5IjogbnVsbCwgImRhc2hPZmZzZXQiOiBudWxsLCAiZmlsbCI6IHRydWUsICJmaWxsQ29sb3IiOiAiaW5kaWdvIiwgImZpbGxPcGFjaXR5IjogMC4yLCAiZmlsbFJ1bGUiOiAiZXZlbm9kZCIsICJsaW5lQ2FwIjogInJvdW5kIiwgImxpbmVKb2luIjogInJvdW5kIiwgIm9wYWNpdHkiOiAxLjAsICJyYWRpdXMiOiAyMTAwMDAuMCwgInN0cm9rZSI6IHRydWUsICJ3ZWlnaHQiOiAzfQogICAgICAgICAgICApLmFkZFRvKG1hcF9mZmYxODU3NTk0YmY0YTNhODI3OGYxMjUzNmNjZDYzNyk7CiAgICAgICAgCiAgICAKICAgICAgICAgICAgY2lyY2xlXzY3MzFjOTAzY2ExNTQyYmRiMTNkOTFiODU2MjE2MzMyLmJpbmRUb29sdGlwKAogICAgICAgICAgICAgICAgYDxkaXY+CiAgICAgICAgICAgICAgICAgICAgIDxkaXYgc3R5bGU9J21hcmdpbjogMDsgYmFja2dyb3VuZC1jb2xvcjogYmxhY2s7IGNvbG9yOiB3aGl0ZTsnPjxoNCBzdHlsZT0ndGV4dC1hbGlnbjpjZW50ZXI7Zm9udC13ZWlnaHQ6IGJvbGQnPkNhbWJvZGlhPC9oND48aHIgc3R5bGU9J21hcmdpbjoxMHB4O2NvbG9yOiB3aGl0ZTsnPjx1bCBzdHlsZT0nY29sb3I6IHdoaXRlOztsaXN0LXN0eWxlLXR5cGU6Y2lyY2xlO2FsaWduLWl0ZW06bGVmdDtwYWRkaW5nLWxlZnQ6MjBweDtwYWRkaW5nLXJpZ2h0OjIwcHgnPjxsaT5Db25maXJtZWQ6IDEyMjwvbGk+PGxpPkRlYXRoczogICAwPC9saT48bGk+RGVhdGggUmF0ZTogMC4wPC9saT48L3VsPjwvZGl2PgogICAgICAgICAgICAgICAgIDwvZGl2PmAsCiAgICAgICAgICAgICAgICB7InN0aWNreSI6IHRydWV9CiAgICAgICAgICAgICk7CiAgICAgICAgCiAgICAKICAgICAgICAgICAgdmFyIGNpcmNsZV85ZGU5NmVkYzg2YzA0ZGMwYmMxMDhmMzEyNTlkM2U4NiA9IEwuY2lyY2xlKAogICAgICAgICAgICAgICAgWzMuODQ4MDAwMDAwMDAwMDAwMywgMTEuNTAyMV0sCiAgICAgICAgICAgICAgICB7ImJ1YmJsaW5nTW91c2VFdmVudHMiOiB0cnVlLCAiY29sb3IiOiAicmVkIiwgImRhc2hBcnJheSI6IG51bGwsICJkYXNoT2Zmc2V0IjogbnVsbCwgImZpbGwiOiB0cnVlLCAiZmlsbENvbG9yIjogImluZGlnbyIsICJmaWxsT3BhY2l0eSI6IDAuMiwgImZpbGxSdWxlIjogImV2ZW5vZGQiLCAibGluZUNhcCI6ICJyb3VuZCIsICJsaW5lSm9pbiI6ICJyb3VuZCIsICJvcGFjaXR5IjogMS4wLCAicmFkaXVzIjogMzYwMDAwLjAsICJzdHJva2UiOiB0cnVlLCAid2VpZ2h0IjogM30KICAgICAgICAgICAgKS5hZGRUbyhtYXBfZmZmMTg1NzU5NGJmNGEzYTgyNzhmMTI1MzZjY2Q2MzcpOwogICAgICAgIAogICAgCiAgICAgICAgICAgIGNpcmNsZV85ZGU5NmVkYzg2YzA0ZGMwYmMxMDhmMzEyNTlkM2U4Ni5iaW5kVG9vbHRpcCgKICAgICAgICAgICAgICAgIGA8ZGl2PgogICAgICAgICAgICAgICAgICAgICA8ZGl2IHN0eWxlPSdtYXJnaW46IDA7IGJhY2tncm91bmQtY29sb3I6IGJsYWNrOyBjb2xvcjogd2hpdGU7Jz48aDQgc3R5bGU9J3RleHQtYWxpZ246Y2VudGVyO2ZvbnQtd2VpZ2h0OiBib2xkJz5DYW1lcm9vbjwvaDQ+PGhyIHN0eWxlPSdtYXJnaW46MTBweDtjb2xvcjogd2hpdGU7Jz48dWwgc3R5bGU9J2NvbG9yOiB3aGl0ZTs7bGlzdC1zdHlsZS10eXBlOmNpcmNsZTthbGlnbi1pdGVtOmxlZnQ7cGFkZGluZy1sZWZ0OjIwcHg7cGFkZGluZy1yaWdodDoyMHB4Jz48bGk+Q29uZmlybWVkOiAxODMyPC9saT48bGk+RGVhdGhzOiAgIDYxPC9saT48bGk+RGVhdGggUmF0ZTogMy4zMzwvbGk+PC91bD48L2Rpdj4KICAgICAgICAgICAgICAgICA8L2Rpdj5gLAogICAgICAgICAgICAgICAgeyJzdGlja3kiOiB0cnVlfQogICAgICAgICAgICApOwogICAgICAgIAogICAgCiAgICAgICAgICAgIHZhciBjaXJjbGVfMTZlMmM1ZjU1NjQzNGI4N2EyN2IyOTU0YTQzN2M5MWYgPSBMLmNpcmNsZSgKICAgICAgICAgICAgICAgIFs1My45MzMzLCAtMTE2LjU3NjVdLAogICAgICAgICAgICAgICAgeyJidWJibGluZ01vdXNlRXZlbnRzIjogdHJ1ZSwgImNvbG9yIjogInJlZCIsICJkYXNoQXJyYXkiOiBudWxsLCAiZGFzaE9mZnNldCI6IG51bGwsICJmaWxsIjogdHJ1ZSwgImZpbGxDb2xvciI6ICJpbmRpZ28iLCAiZmlsbE9wYWNpdHkiOiAwLjIsICJmaWxsUnVsZSI6ICJldmVub2RkIiwgImxpbmVDYXAiOiAicm91bmQiLCAibGluZUpvaW4iOiAicm91bmQiLCAib3BhY2l0eSI6IDEuMCwgInJhZGl1cyI6IDQwOTk5OS45OTk5OTk5OTk5NCwgInN0cm9rZSI6IHRydWUsICJ3ZWlnaHQiOiAzfQogICAgICAgICAgICApLmFkZFRvKG1hcF9mZmYxODU3NTk0YmY0YTNhODI3OGYxMjUzNmNjZDYzNyk7CiAgICAgICAgCiAgICAKICAgICAgICAgICAgY2lyY2xlXzE2ZTJjNWY1NTY0MzRiODdhMjdiMjk1NGE0MzdjOTFmLmJpbmRUb29sdGlwKAogICAgICAgICAgICAgICAgYDxkaXY+CiAgICAgICAgICAgICAgICAgICAgIDxkaXYgc3R5bGU9J21hcmdpbjogMDsgYmFja2dyb3VuZC1jb2xvcjogYmxhY2s7IGNvbG9yOiB3aGl0ZTsnPjxoNCBzdHlsZT0ndGV4dC1hbGlnbjpjZW50ZXI7Zm9udC13ZWlnaHQ6IGJvbGQnPkNhbmFkYTwvaDQ+PGhyIHN0eWxlPSdtYXJnaW46MTBweDtjb2xvcjogd2hpdGU7Jz48dWwgc3R5bGU9J2NvbG9yOiB3aGl0ZTs7bGlzdC1zdHlsZS10eXBlOmNpcmNsZTthbGlnbi1pdGVtOmxlZnQ7cGFkZGluZy1sZWZ0OjIwcHg7cGFkZGluZy1yaWdodDoyMHB4Jz48bGk+Q29uZmlybWVkOiA1NTczPC9saT48bGk+RGVhdGhzOiAgIDkyPC9saT48bGk+RGVhdGggUmF0ZTogMS42NTwvbGk+PC91bD48L2Rpdj4KICAgICAgICAgICAgICAgICA8L2Rpdj5gLAogICAgICAgICAgICAgICAgeyJzdGlja3kiOiB0cnVlfQogICAgICAgICAgICApOwogICAgICAgIAogICAgCiAgICAgICAgICAgIHZhciBjaXJjbGVfNmYwY2E2ZWQ1YjVjNGRjMDg2NjMxMjkzZjIzZTFlOWUgPSBMLmNpcmNsZSgKICAgICAgICAgICAgICAgIFs0OS4yODI3LCAtMTIzLjEyMDddLAogICAgICAgICAgICAgICAgeyJidWJibGluZ01vdXNlRXZlbnRzIjogdHJ1ZSwgImNvbG9yIjogInJlZCIsICJkYXNoQXJyYXkiOiBudWxsLCAiZGFzaE9mZnNldCI6IG51bGwsICJmaWxsIjogdHJ1ZSwgImZpbGxDb2xvciI6ICJpbmRpZ28iLCAiZmlsbE9wYWNpdHkiOiAwLjIsICJmaWxsUnVsZSI6ICJldmVub2RkIiwgImxpbmVDYXAiOiAicm91bmQiLCAibGluZUpvaW4iOiAicm91bmQiLCAib3BhY2l0eSI6IDEuMCwgInJhZGl1cyI6IDM2MDAwMC4wLCAic3Ryb2tlIjogdHJ1ZSwgIndlaWdodCI6IDN9CiAgICAgICAgICAgICkuYWRkVG8obWFwX2ZmZjE4NTc1OTRiZjRhM2E4Mjc4ZjEyNTM2Y2NkNjM3KTsKICAgICAgICAKICAgIAogICAgICAgICAgICBjaXJjbGVfNmYwY2E2ZWQ1YjVjNGRjMDg2NjMxMjkzZjIzZTFlOWUuYmluZFRvb2x0aXAoCiAgICAgICAgICAgICAgICBgPGRpdj4KICAgICAgICAgICAgICAgICAgICAgPGRpdiBzdHlsZT0nbWFyZ2luOiAwOyBiYWNrZ3JvdW5kLWNvbG9yOiBibGFjazsgY29sb3I6IHdoaXRlOyc+PGg0IHN0eWxlPSd0ZXh0LWFsaWduOmNlbnRlcjtmb250LXdlaWdodDogYm9sZCc+Q2FuYWRhPC9oND48aHIgc3R5bGU9J21hcmdpbjoxMHB4O2NvbG9yOiB3aGl0ZTsnPjx1bCBzdHlsZT0nY29sb3I6IHdoaXRlOztsaXN0LXN0eWxlLXR5cGU6Y2lyY2xlO2FsaWduLWl0ZW06bGVmdDtwYWRkaW5nLWxlZnQ6MjBweDtwYWRkaW5nLXJpZ2h0OjIwcHgnPjxsaT5Db25maXJtZWQ6IDIxNDU8L2xpPjxsaT5EZWF0aHM6ICAgMTEyPC9saT48bGk+RGVhdGggUmF0ZTogNS4yMjwvbGk+PC91bD48L2Rpdj4KICAgICAgICAgICAgICAgICA8L2Rpdj5gLAogICAgICAgICAgICAgICAgeyJzdGlja3kiOiB0cnVlfQogICAgICAgICAgICApOwogICAgICAgIAogICAgCiAgICAgICAgICAgIHZhciBjaXJjbGVfY2JhYTg1ZWYxM2MxNDk5Zjk0YmUxYWNiMWQ2M2NjZjcgPSBMLmNpcmNsZSgKICAgICAgICAgICAgICAgIFszNy42NDg5LCAtMTIyLjY2NTVdLAogICAgICAgICAgICAgICAgeyJidWJibGluZ01vdXNlRXZlbnRzIjogdHJ1ZSwgImNvbG9yIjogInJlZCIsICJkYXNoQXJyYXkiOiBudWxsLCAiZGFzaE9mZnNldCI6IG51bGwsICJmaWxsIjogdHJ1ZSwgImZpbGxDb2xvciI6ICJpbmRpZ28iLCAiZmlsbE9wYWNpdHkiOiAwLjIsICJmaWxsUnVsZSI6ICJldmVub2RkIiwgImxpbmVDYXAiOiAicm91bmQiLCAibGluZUpvaW4iOiAicm91bmQiLCAib3BhY2l0eSI6IDEuMCwgInJhZGl1cyI6IDExMDAwMC4wMDAwMDAwMDAwMSwgInN0cm9rZSI6IHRydWUsICJ3ZWlnaHQiOiAzfQogICAgICAgICAgICApLmFkZFRvKG1hcF9mZmYxODU3NTk0YmY0YTNhODI3OGYxMjUzNmNjZDYzNyk7CiAgICAgICAgCiAgICAKICAgICAgICAgICAgY2lyY2xlX2NiYWE4NWVmMTNjMTQ5OWY5NGJlMWFjYjFkNjNjY2Y3LmJpbmRUb29sdGlwKAogICAgICAgICAgICAgICAgYDxkaXY+CiAgICAgICAgICAgICAgICAgICAgIDxkaXYgc3R5bGU9J21hcmdpbjogMDsgYmFja2dyb3VuZC1jb2xvcjogYmxhY2s7IGNvbG9yOiB3aGl0ZTsnPjxoNCBzdHlsZT0ndGV4dC1hbGlnbjpjZW50ZXI7Zm9udC13ZWlnaHQ6IGJvbGQnPkNhbmFkYTwvaDQ+PGhyIHN0eWxlPSdtYXJnaW46MTBweDtjb2xvcjogd2hpdGU7Jz48dWwgc3R5bGU9J2NvbG9yOiB3aGl0ZTs7bGlzdC1zdHlsZS10eXBlOmNpcmNsZTthbGlnbi1pdGVtOmxlZnQ7cGFkZGluZy1sZWZ0OjIwcHg7cGFkZGluZy1yaWdodDoyMHB4Jz48bGk+Q29uZmlybWVkOiAxMzwvbGk+PGxpPkRlYXRoczogICAwPC9saT48bGk+RGVhdGggUmF0ZTogMC4wPC9saT48L3VsPjwvZGl2PgogICAgICAgICAgICAgICAgIDwvZGl2PmAsCiAgICAgICAgICAgICAgICB7InN0aWNreSI6IHRydWV9CiAgICAgICAgICAgICk7CiAgICAgICAgCiAgICAKICAgICAgICAgICAgdmFyIGNpcmNsZV9jZTFkZWNlYWM0N2M0NGNkOTdjZDc3NTQyMmFhNmEyYyA9IEwuY2lyY2xlKAogICAgICAgICAgICAgICAgWzUzLjc2MDksIC05OC44MTM5XSwKICAgICAgICAgICAgICAgIHsiYnViYmxpbmdNb3VzZUV2ZW50cyI6IHRydWUsICJjb2xvciI6ICJyZWQiLCAiZGFzaEFycmF5IjogbnVsbCwgImRhc2hPZmZzZXQiOiBudWxsLCAiZmlsbCI6IHRydWUsICJmaWxsQ29sb3IiOiAiaW5kaWdvIiwgImZpbGxPcGFjaXR5IjogMC4yLCAiZmlsbFJ1bGUiOiAiZXZlbm9kZCIsICJsaW5lQ2FwIjogInJvdW5kIiwgImxpbmVKb2luIjogInJvdW5kIiwgIm9wYWNpdHkiOiAxLjAsICJyYWRpdXMiOiAyNjAwMDAuMCwgInN0cm9rZSI6IHRydWUsICJ3ZWlnaHQiOiAzfQogICAgICAgICAgICApLmFkZFRvKG1hcF9mZmYxODU3NTk0YmY0YTNhODI3OGYxMjUzNmNjZDYzNyk7CiAgICAgICAgCiAgICAKICAgICAgICAgICAgY2lyY2xlX2NlMWRlY2VhYzQ3YzQ0Y2Q5N2NkNzc1NDIyYWE2YTJjLmJpbmRUb29sdGlwKAogICAgICAgICAgICAgICAgYDxkaXY+CiAgICAgICAgICAgICAgICAgICAgIDxkaXYgc3R5bGU9J21hcmdpbjogMDsgYmFja2dyb3VuZC1jb2xvcjogYmxhY2s7IGNvbG9yOiB3aGl0ZTsnPjxoNCBzdHlsZT0ndGV4dC1hbGlnbjpjZW50ZXI7Zm9udC13ZWlnaHQ6IGJvbGQnPkNhbmFkYTwvaDQ+PGhyIHN0eWxlPSdtYXJnaW46MTBweDtjb2xvcjogd2hpdGU7Jz48dWwgc3R5bGU9J2NvbG9yOiB3aGl0ZTs7bGlzdC1zdHlsZS10eXBlOmNpcmNsZTthbGlnbi1pdGVtOmxlZnQ7cGFkZGluZy1sZWZ0OjIwcHg7cGFkZGluZy1yaWdodDoyMHB4Jz48bGk+Q29uZmlybWVkOiAyODE8L2xpPjxsaT5EZWF0aHM6ICAgNjwvbGk+PGxpPkRlYXRoIFJhdGU6IDIuMTM8L2xpPjwvdWw+PC9kaXY+CiAgICAgICAgICAgICAgICAgPC9kaXY+YCwKICAgICAgICAgICAgICAgIHsic3RpY2t5IjogdHJ1ZX0KICAgICAgICAgICAgKTsKICAgICAgICAKICAgIAogICAgICAgICAgICB2YXIgY2lyY2xlXzQ4MzViZGZmYzYyZTRhMjE4MWZkMjYzNDVhMDY3ZjAxID0gTC5jaXJjbGUoCiAgICAgICAgICAgICAgICBbNDYuNTY1MywgLTY2LjQ2MTldLAogICAgICAgICAgICAgICAgeyJidWJibGluZ01vdXNlRXZlbnRzIjogdHJ1ZSwgImNvbG9yIjogInJlZCIsICJkYXNoQXJyYXkiOiBudWxsLCAiZGFzaE9mZnNldCI6IG51bGwsICJmaWxsIjogdHJ1ZSwgImZpbGxDb2xvciI6ICJpbmRpZ28iLCAiZmlsbE9wYWNpdHkiOiAwLjIsICJmaWxsUnVsZSI6ICJldmVub2RkIiwgImxpbmVDYXAiOiAicm91bmQiLCAibGluZUpvaW4iOiAicm91bmQiLCAib3BhY2l0eSI6IDEuMCwgInJhZGl1cyI6IDIxMDAwMC4wLCAic3Ryb2tlIjogdHJ1ZSwgIndlaWdodCI6IDN9CiAgICAgICAgICAgICkuYWRkVG8obWFwX2ZmZjE4NTc1OTRiZjRhM2E4Mjc4ZjEyNTM2Y2NkNjM3KTsKICAgICAgICAKICAgIAogICAgICAgICAgICBjaXJjbGVfNDgzNWJkZmZjNjJlNGEyMTgxZmQyNjM0NWEwNjdmMDEuYmluZFRvb2x0aXAoCiAgICAgICAgICAgICAgICBgPGRpdj4KICAgICAgICAgICAgICAgICAgICAgPGRpdiBzdHlsZT0nbWFyZ2luOiAwOyBiYWNrZ3JvdW5kLWNvbG9yOiBibGFjazsgY29sb3I6IHdoaXRlOyc+PGg0IHN0eWxlPSd0ZXh0LWFsaWduOmNlbnRlcjtmb250LXdlaWdodDogYm9sZCc+Q2FuYWRhPC9oND48aHIgc3R5bGU9J21hcmdpbjoxMHB4O2NvbG9yOiB3aGl0ZTsnPjx1bCBzdHlsZT0nY29sb3I6IHdoaXRlOztsaXN0LXN0eWxlLXR5cGU6Y2lyY2xlO2FsaWduLWl0ZW06bGVmdDtwYWRkaW5nLWxlZnQ6MjBweDtwYWRkaW5nLXJpZ2h0OjIwcHgnPjxsaT5Db25maXJtZWQ6IDExODwvbGk+PGxpPkRlYXRoczogICAwPC9saT48bGk+RGVhdGggUmF0ZTogMC4wPC9saT48L3VsPjwvZGl2PgogICAgICAgICAgICAgICAgIDwvZGl2PmAsCiAgICAgICAgICAgICAgICB7InN0aWNreSI6IHRydWV9CiAgICAgICAgICAgICk7CiAgICAgICAgCiAgICAKICAgICAgICAgICAgdmFyIGNpcmNsZV8zYTk4OWNhZWVkYjY0Y2JiODYzMDFmOWUwNGE4Yjc3YiA9IEwuY2lyY2xlKAogICAgICAgICAgICAgICAgWzUzLjEzNTUsIC01Ny42NjA0XSwKICAgICAgICAgICAgICAgIHsiYnViYmxpbmdNb3VzZUV2ZW50cyI6IHRydWUsICJjb2xvciI6ICJyZWQiLCAiZGFzaEFycmF5IjogbnVsbCwgImRhc2hPZmZzZXQiOiBudWxsLCAiZmlsbCI6IHRydWUsICJmaWxsQ29sb3IiOiAiaW5kaWdvIiwgImZpbGxPcGFjaXR5IjogMC4yLCAiZmlsbFJ1bGUiOiAiZXZlbm9kZCIsICJsaW5lQ2FwIjogInJvdW5kIiwgImxpbmVKb2luIjogInJvdW5kIiwgIm9wYWNpdHkiOiAxLjAsICJyYWRpdXMiOiAyNjAwMDAuMCwgInN0cm9rZSI6IHRydWUsICJ3ZWlnaHQiOiAzfQogICAgICAgICAgICApLmFkZFRvKG1hcF9mZmYxODU3NTk0YmY0YTNhODI3OGYxMjUzNmNjZDYzNyk7CiAgICAgICAgCiAgICAKICAgICAgICAgICAgY2lyY2xlXzNhOTg5Y2FlZWRiNjRjYmI4NjMwMWY5ZTA0YThiNzdiLmJpbmRUb29sdGlwKAogICAgICAgICAgICAgICAgYDxkaXY+CiAgICAgICAgICAgICAgICAgICAgIDxkaXYgc3R5bGU9J21hcmdpbjogMDsgYmFja2dyb3VuZC1jb2xvcjogYmxhY2s7IGNvbG9yOiB3aGl0ZTsnPjxoNCBzdHlsZT0ndGV4dC1hbGlnbjpjZW50ZXI7Zm9udC13ZWlnaHQ6IGJvbGQnPkNhbmFkYTwvaDQ+PGhyIHN0eWxlPSdtYXJnaW46MTBweDtjb2xvcjogd2hpdGU7Jz48dWwgc3R5bGU9J2NvbG9yOiB3aGl0ZTs7bGlzdC1zdHlsZS10eXBlOmNpcmNsZTthbGlnbi1pdGVtOmxlZnQ7cGFkZGluZy1sZWZ0OjIwcHg7cGFkZGluZy1yaWdodDoyMHB4Jz48bGk+Q29uZmlybWVkOiAyNTk8L2xpPjxsaT5EZWF0aHM6ICAgMzwvbGk+PGxpPkRlYXRoIFJhdGU6IDEuMTU8L2xpPjwvdWw+PC9kaXY+CiAgICAgICAgICAgICAgICAgPC9kaXY+YCwKICAgICAgICAgICAgICAgIHsic3RpY2t5IjogdHJ1ZX0KICAgICAgICAgICAgKTsKICAgICAgICAKICAgIAogICAgICAgICAgICB2YXIgY2lyY2xlXzcxNDVmZjkyM2NjODRmOGU4NWJiYTU2ZGYxNWQwNDVlID0gTC5jaXJjbGUoCiAgICAgICAgICAgICAgICBbNDQuNjgxOTk5OTk5OTk5OTk1LCAtNjMuNzQ0M10sCiAgICAgICAgICAgICAgICB7ImJ1YmJsaW5nTW91c2VFdmVudHMiOiB0cnVlLCAiY29sb3IiOiAicmVkIiwgImRhc2hBcnJheSI6IG51bGwsICJkYXNoT2Zmc2V0IjogbnVsbCwgImZpbGwiOiB0cnVlLCAiZmlsbENvbG9yIjogImluZGlnbyIsICJmaWxsT3BhY2l0eSI6IDAuMiwgImZpbGxSdWxlIjogImV2ZW5vZGQiLCAibGluZUNhcCI6ICJyb3VuZCIsICJsaW5lSm9pbiI6ICJyb3VuZCIsICJvcGFjaXR5IjogMS4wLCAicmFkaXVzIjogMzEwMDAwLjAsICJzdHJva2UiOiB0cnVlLCAid2VpZ2h0IjogM30KICAgICAgICAgICAgKS5hZGRUbyhtYXBfZmZmMTg1NzU5NGJmNGEzYTgyNzhmMTI1MzZjY2Q2MzcpOwogICAgICAgIAogICAgCiAgICAgICAgICAgIGNpcmNsZV83MTQ1ZmY5MjNjYzg0ZjhlODViYmE1NmRmMTVkMDQ1ZS5iaW5kVG9vbHRpcCgKICAgICAgICAgICAgICAgIGA8ZGl2PgogICAgICAgICAgICAgICAgICAgICA8ZGl2IHN0eWxlPSdtYXJnaW46IDA7IGJhY2tncm91bmQtY29sb3I6IGJsYWNrOyBjb2xvcjogd2hpdGU7Jz48aDQgc3R5bGU9J3RleHQtYWxpZ246Y2VudGVyO2ZvbnQtd2VpZ2h0OiBib2xkJz5DYW5hZGE8L2g0PjxociBzdHlsZT0nbWFyZ2luOjEwcHg7Y29sb3I6IHdoaXRlOyc+PHVsIHN0eWxlPSdjb2xvcjogd2hpdGU7O2xpc3Qtc3R5bGUtdHlwZTpjaXJjbGU7YWxpZ24taXRlbTpsZWZ0O3BhZGRpbmctbGVmdDoyMHB4O3BhZGRpbmctcmlnaHQ6MjBweCc+PGxpPkNvbmZpcm1lZDogOTU5PC9saT48bGk+RGVhdGhzOiAgIDI5PC9saT48bGk+RGVhdGggUmF0ZTogMy4wMjwvbGk+PC91bD48L2Rpdj4KICAgICAgICAgICAgICAgICA8L2Rpdj5gLAogICAgICAgICAgICAgICAgeyJzdGlja3kiOiB0cnVlfQogICAgICAgICAgICApOwogICAgICAgIAogICAgCiAgICAgICAgICAgIHZhciBjaXJjbGVfMjVlMTY3ZWY4OGExNGMyZTkwYTEwMGU2MGY1NTEwZmMgPSBMLmNpcmNsZSgKICAgICAgICAgICAgICAgIFs1MS4yNTM4LCAtODUuMzIzMl0sCiAgICAgICAgICAgICAgICB7ImJ1YmJsaW5nTW91c2VFdmVudHMiOiB0cnVlLCAiY29sb3IiOiAicmVkIiwgImRhc2hBcnJheSI6IG51bGwsICJkYXNoT2Zmc2V0IjogbnVsbCwgImZpbGwiOiB0cnVlLCAiZmlsbENvbG9yIjogImluZGlnbyIsICJmaWxsT3BhY2l0eSI6IDAuMiwgImZpbGxSdWxlIjogImV2ZW5vZGQiLCAibGluZUNhcCI6ICJyb3VuZCIsICJsaW5lSm9pbiI6ICJyb3VuZCIsICJvcGFjaXR5IjogMS4wLCAicmFkaXVzIjogNDU5OTk5Ljk5OTk5OTk5OTk0LCAic3Ryb2tlIjogdHJ1ZSwgIndlaWdodCI6IDN9CiAgICAgICAgICAgICkuYWRkVG8obWFwX2ZmZjE4NTc1OTRiZjRhM2E4Mjc4ZjEyNTM2Y2NkNjM3KTsKICAgICAgICAKICAgIAogICAgICAgICAgICBjaXJjbGVfMjVlMTY3ZWY4OGExNGMyZTkwYTEwMGU2MGY1NTEwZmMuYmluZFRvb2x0aXAoCiAgICAgICAgICAgICAgICBgPGRpdj4KICAgICAgICAgICAgICAgICAgICAgPGRpdiBzdHlsZT0nbWFyZ2luOiAwOyBiYWNrZ3JvdW5kLWNvbG9yOiBibGFjazsgY29sb3I6IHdoaXRlOyc+PGg0IHN0eWxlPSd0ZXh0LWFsaWduOmNlbnRlcjtmb250LXdlaWdodDogYm9sZCc+Q2FuYWRhPC9oND48aHIgc3R5bGU9J21hcmdpbjoxMHB4O2NvbG9yOiB3aGl0ZTsnPjx1bCBzdHlsZT0nY29sb3I6IHdoaXRlOztsaXN0LXN0eWxlLXR5cGU6Y2lyY2xlO2FsaWduLWl0ZW06bGVmdDtwYWRkaW5nLWxlZnQ6MjBweDtwYWRkaW5nLXJpZ2h0OjIwcHgnPjxsaT5Db25maXJtZWQ6IDE3ODgwPC9saT48bGk+RGVhdGhzOiAgIDEyNjU8L2xpPjxsaT5EZWF0aCBSYXRlOiA3LjA3PC9saT48L3VsPjwvZGl2PgogICAgICAgICAgICAgICAgIDwvZGl2PmAsCiAgICAgICAgICAgICAgICB7InN0aWNreSI6IHRydWV9CiAgICAgICAgICAgICk7CiAgICAgICAgCiAgICAKICAgICAgICAgICAgdmFyIGNpcmNsZV9mOGUwNDMwMDBhNzA0Njg5ODk2ZDY2NzBjODNlYzJiOSA9IEwuY2lyY2xlKAogICAgICAgICAgICAgICAgWzQ2LjUxMDcsIC02My40MTY4XSwKICAgICAgICAgICAgICAgIHsiYnViYmxpbmdNb3VzZUV2ZW50cyI6IHRydWUsICJjb2xvciI6ICJyZWQiLCAiZGFzaEFycmF5IjogbnVsbCwgImRhc2hPZmZzZXQiOiBudWxsLCAiZmlsbCI6IHRydWUsICJmaWxsQ29sb3IiOiAiaW5kaWdvIiwgImZpbGxPcGFjaXR5IjogMC4yLCAiZmlsbFJ1bGUiOiAiZXZlbm9kZCIsICJsaW5lQ2FwIjogInJvdW5kIiwgImxpbmVKb2luIjogInJvdW5kIiwgIm9wYWNpdHkiOiAxLjAsICJyYWRpdXMiOiAxNjAwMDAuMCwgInN0cm9rZSI6IHRydWUsICJ3ZWlnaHQiOiAzfQogICAgICAgICAgICApLmFkZFRvKG1hcF9mZmYxODU3NTk0YmY0YTNhODI3OGYxMjUzNmNjZDYzNyk7CiAgICAgICAgCiAgICAKICAgICAgICAgICAgY2lyY2xlX2Y4ZTA0MzAwMGE3MDQ2ODk4OTZkNjY3MGM4M2VjMmI5LmJpbmRUb29sdGlwKAogICAgICAgICAgICAgICAgYDxkaXY+CiAgICAgICAgICAgICAgICAgICAgIDxkaXYgc3R5bGU9J21hcmdpbjogMDsgYmFja2dyb3VuZC1jb2xvcjogYmxhY2s7IGNvbG9yOiB3aGl0ZTsnPjxoNCBzdHlsZT0ndGV4dC1hbGlnbjpjZW50ZXI7Zm9udC13ZWlnaHQ6IGJvbGQnPkNhbmFkYTwvaDQ+PGhyIHN0eWxlPSdtYXJnaW46MTBweDtjb2xvcjogd2hpdGU7Jz48dWwgc3R5bGU9J2NvbG9yOiB3aGl0ZTs7bGlzdC1zdHlsZS10eXBlOmNpcmNsZTthbGlnbi1pdGVtOmxlZnQ7cGFkZGluZy1sZWZ0OjIwcHg7cGFkZGluZy1yaWdodDoyMHB4Jz48bGk+Q29uZmlybWVkOiAyNzwvbGk+PGxpPkRlYXRoczogICAwPC9saT48bGk+RGVhdGggUmF0ZTogMC4wPC9saT48L3VsPjwvZGl2PgogICAgICAgICAgICAgICAgIDwvZGl2PmAsCiAgICAgICAgICAgICAgICB7InN0aWNreSI6IHRydWV9CiAgICAgICAgICAgICk7CiAgICAgICAgCiAgICAKICAgICAgICAgICAgdmFyIGNpcmNsZV9iOWRmNDUwMjkwOWU0M2E1ODY4N2JmNmY5ZTFjYTBiYiA9IEwuY2lyY2xlKAogICAgICAgICAgICAgICAgWzUyLjkzOTksIC03My41NDkxXSwKICAgICAgICAgICAgICAgIHsiYnViYmxpbmdNb3VzZUV2ZW50cyI6IHRydWUsICJjb2xvciI6ICJyZWQiLCAiZGFzaEFycmF5IjogbnVsbCwgImRhc2hPZmZzZXQiOiBudWxsLCAiZmlsbCI6IHRydWUsICJmaWxsQ29sb3IiOiAiaW5kaWdvIiwgImZpbGxPcGFjaXR5IjogMC4yLCAiZmlsbFJ1bGUiOiAiZXZlbm9kZCIsICJsaW5lQ2FwIjogInJvdW5kIiwgImxpbmVKb2luIjogInJvdW5kIiwgIm9wYWNpdHkiOiAxLjAsICJyYWRpdXMiOiA1MDk5OTkuOTk5OTk5OTk5OTQsICJzdHJva2UiOiB0cnVlLCAid2VpZ2h0IjogM30KICAgICAgICAgICAgKS5hZGRUbyhtYXBfZmZmMTg1NzU5NGJmNGEzYTgyNzhmMTI1MzZjY2Q2MzcpOwogICAgICAgIAogICAgCiAgICAgICAgICAgIGNpcmNsZV9iOWRmNDUwMjkwOWU0M2E1ODY4N2JmNmY5ZTFjYTBiYi5iaW5kVG9vbHRpcCgKICAgICAgICAgICAgICAgIGA8ZGl2PgogICAgICAgICAgICAgICAgICAgICA8ZGl2IHN0eWxlPSdtYXJnaW46IDA7IGJhY2tncm91bmQtY29sb3I6IGJsYWNrOyBjb2xvcjogd2hpdGU7Jz48aDQgc3R5bGU9J3RleHQtYWxpZ246Y2VudGVyO2ZvbnQtd2VpZ2h0OiBib2xkJz5DYW5hZGE8L2g0PjxociBzdHlsZT0nbWFyZ2luOjEwcHg7Y29sb3I6IHdoaXRlOyc+PHVsIHN0eWxlPSdjb2xvcjogd2hpdGU7O2xpc3Qtc3R5bGUtdHlwZTpjaXJjbGU7YWxpZ24taXRlbTpsZWZ0O3BhZGRpbmctbGVmdDoyMHB4O3BhZGRpbmctcmlnaHQ6MjBweCc+PGxpPkNvbmZpcm1lZDogMjg2NTY8L2xpPjxsaT5EZWF0aHM6ICAgMjAyMjwvbGk+PGxpPkRlYXRoIFJhdGU6IDcuMDY8L2xpPjwvdWw+PC9kaXY+CiAgICAgICAgICAgICAgICAgPC9kaXY+YCwKICAgICAgICAgICAgICAgIHsic3RpY2t5IjogdHJ1ZX0KICAgICAgICAgICAgKTsKICAgICAgICAKICAgIAogICAgICAgICAgICB2YXIgY2lyY2xlXzFkMTZiZjcyZTIwNTRhNDU5YTZlMWQ0YmNhZjgxOGQ3ID0gTC5jaXJjbGUoCiAgICAgICAgICAgICAgICBbNTIuOTM5OSwgLTEwNi40NTA5XSwKICAgICAgICAgICAgICAgIHsiYnViYmxpbmdNb3VzZUV2ZW50cyI6IHRydWUsICJjb2xvciI6ICJyZWQiLCAiZGFzaEFycmF5IjogbnVsbCwgImRhc2hPZmZzZXQiOiBudWxsLCAiZmlsbCI6IHRydWUsICJmaWxsQ29sb3IiOiAiaW5kaWdvIiwgImZpbGxPcGFjaXR5IjogMC4yLCAiZmlsbFJ1bGUiOiAiZXZlbm9kZCIsICJsaW5lQ2FwIjogInJvdW5kIiwgImxpbmVKb2luIjogInJvdW5kIiwgIm9wYWNpdHkiOiAxLjAsICJyYWRpdXMiOiAzMTAwMDAuMCwgInN0cm9rZSI6IHRydWUsICJ3ZWlnaHQiOiAzfQogICAgICAgICAgICApLmFkZFRvKG1hcF9mZmYxODU3NTk0YmY0YTNhODI3OGYxMjUzNmNjZDYzNyk7CiAgICAgICAgCiAgICAKICAgICAgICAgICAgY2lyY2xlXzFkMTZiZjcyZTIwNTRhNDU5YTZlMWQ0YmNhZjgxOGQ3LmJpbmRUb29sdGlwKAogICAgICAgICAgICAgICAgYDxkaXY+CiAgICAgICAgICAgICAgICAgICAgIDxkaXYgc3R5bGU9J21hcmdpbjogMDsgYmFja2dyb3VuZC1jb2xvcjogYmxhY2s7IGNvbG9yOiB3aGl0ZTsnPjxoNCBzdHlsZT0ndGV4dC1hbGlnbjpjZW50ZXI7Zm9udC13ZWlnaHQ6IGJvbGQnPkNhbmFkYTwvaDQ+PGhyIHN0eWxlPSdtYXJnaW46MTBweDtjb2xvcjogd2hpdGU7Jz48dWwgc3R5bGU9J2NvbG9yOiB3aGl0ZTs7bGlzdC1zdHlsZS10eXBlOmNpcmNsZTthbGlnbi1pdGVtOmxlZnQ7cGFkZGluZy1sZWZ0OjIwcHg7cGFkZGluZy1yaWdodDoyMHB4Jz48bGk+Q29uZmlybWVkOiA0MTU8L2xpPjxsaT5EZWF0aHM6ICAgNzwvbGk+PGxpPkRlYXRoIFJhdGU6IDEuNjg8L2xpPjwvdWw+PC9kaXY+CiAgICAgICAgICAgICAgICAgPC9kaXY+YCwKICAgICAgICAgICAgICAgIHsic3RpY2t5IjogdHJ1ZX0KICAgICAgICAgICAgKTsKICAgICAgICAKICAgIAogICAgICAgICAgICB2YXIgY2lyY2xlX2QwM2NjYjgwNmU2NjRhNmRiYjJmZTkxNzZjZWVlYjZiID0gTC5jaXJjbGUoCiAgICAgICAgICAgICAgICBbNi42MTExLCAyMC45Mzk0XSwKICAgICAgICAgICAgICAgIHsiYnViYmxpbmdNb3VzZUV2ZW50cyI6IHRydWUsICJjb2xvciI6ICJyZWQiLCAiZGFzaEFycmF5IjogbnVsbCwgImRhc2hPZmZzZXQiOiBudWxsLCAiZmlsbCI6IHRydWUsICJmaWxsQ29sb3IiOiAiaW5kaWdvIiwgImZpbGxPcGFjaXR5IjogMC4yLCAiZmlsbFJ1bGUiOiAiZXZlbm9kZCIsICJsaW5lQ2FwIjogInJvdW5kIiwgImxpbmVKb2luIjogInJvdW5kIiwgIm9wYWNpdHkiOiAxLjAsICJyYWRpdXMiOiAyMTAwMDAuMCwgInN0cm9rZSI6IHRydWUsICJ3ZWlnaHQiOiAzfQogICAgICAgICAgICApLmFkZFRvKG1hcF9mZmYxODU3NTk0YmY0YTNhODI3OGYxMjUzNmNjZDYzNyk7CiAgICAgICAgCiAgICAKICAgICAgICAgICAgY2lyY2xlX2QwM2NjYjgwNmU2NjRhNmRiYjJmZTkxNzZjZWVlYjZiLmJpbmRUb29sdGlwKAogICAgICAgICAgICAgICAgYDxkaXY+CiAgICAgICAgICAgICAgICAgICAgIDxkaXYgc3R5bGU9J21hcmdpbjogMDsgYmFja2dyb3VuZC1jb2xvcjogYmxhY2s7IGNvbG9yOiB3aGl0ZTsnPjxoNCBzdHlsZT0ndGV4dC1hbGlnbjpjZW50ZXI7Zm9udC13ZWlnaHQ6IGJvbGQnPkNlbnRyYWwgQWZyaWNhbiBSZXB1YmxpYzwvaDQ+PGhyIHN0eWxlPSdtYXJnaW46MTBweDtjb2xvcjogd2hpdGU7Jz48dWwgc3R5bGU9J2NvbG9yOiB3aGl0ZTs7bGlzdC1zdHlsZS10eXBlOmNpcmNsZTthbGlnbi1pdGVtOmxlZnQ7cGFkZGluZy1sZWZ0OjIwcHg7cGFkZGluZy1yaWdodDoyMHB4Jz48bGk+Q29uZmlybWVkOiA3MjwvbGk+PGxpPkRlYXRoczogICAwPC9saT48bGk+RGVhdGggUmF0ZTogMC4wPC9saT48L3VsPjwvZGl2PgogICAgICAgICAgICAgICAgIDwvZGl2PmAsCiAgICAgICAgICAgICAgICB7InN0aWNreSI6IHRydWV9CiAgICAgICAgICAgICk7CiAgICAgICAgCiAgICAKICAgICAgICAgICAgdmFyIGNpcmNsZV81OGViMGE5OTU2MDQ0NzIxOTE0MDM0YmFjZWI1ZGJmNSA9IEwuY2lyY2xlKAogICAgICAgICAgICAgICAgWzE1LjQ1NDIsIDE4LjczMjJdLAogICAgICAgICAgICAgICAgeyJidWJibGluZ01vdXNlRXZlbnRzIjogdHJ1ZSwgImNvbG9yIjogInJlZCIsICJkYXNoQXJyYXkiOiBudWxsLCAiZGFzaE9mZnNldCI6IG51bGwsICJmaWxsIjogdHJ1ZSwgImZpbGxDb2xvciI6ICJpbmRpZ28iLCAiZmlsbE9wYWNpdHkiOiAwLjIsICJmaWxsUnVsZSI6ICJldmVub2RkIiwgImxpbmVDYXAiOiAicm91bmQiLCAibGluZUpvaW4iOiAicm91bmQiLCAib3BhY2l0eSI6IDEuMCwgInJhZGl1cyI6IDIxMDAwMC4wLCAic3Ryb2tlIjogdHJ1ZSwgIndlaWdodCI6IDN9CiAgICAgICAgICAgICkuYWRkVG8obWFwX2ZmZjE4NTc1OTRiZjRhM2E4Mjc4ZjEyNTM2Y2NkNjM3KTsKICAgICAgICAKICAgIAogICAgICAgICAgICBjaXJjbGVfNThlYjBhOTk1NjA0NDcyMTkxNDAzNGJhY2ViNWRiZjUuYmluZFRvb2x0aXAoCiAgICAgICAgICAgICAgICBgPGRpdj4KICAgICAgICAgICAgICAgICAgICAgPGRpdiBzdHlsZT0nbWFyZ2luOiAwOyBiYWNrZ3JvdW5kLWNvbG9yOiBibGFjazsgY29sb3I6IHdoaXRlOyc+PGg0IHN0eWxlPSd0ZXh0LWFsaWduOmNlbnRlcjtmb250LXdlaWdodDogYm9sZCc+Q2hhZDwvaDQ+PGhyIHN0eWxlPSdtYXJnaW46MTBweDtjb2xvcjogd2hpdGU7Jz48dWwgc3R5bGU9J2NvbG9yOiB3aGl0ZTs7bGlzdC1zdHlsZS10eXBlOmNpcmNsZTthbGlnbi1pdGVtOmxlZnQ7cGFkZGluZy1sZWZ0OjIwcHg7cGFkZGluZy1yaWdodDoyMHB4Jz48bGk+Q29uZmlybWVkOiA3MzwvbGk+PGxpPkRlYXRoczogICA1PC9saT48bGk+RGVhdGggUmF0ZTogNi43NjwvbGk+PC91bD48L2Rpdj4KICAgICAgICAgICAgICAgICA8L2Rpdj5gLAogICAgICAgICAgICAgICAgeyJzdGlja3kiOiB0cnVlfQogICAgICAgICAgICApOwogICAgICAgIAogICAgCiAgICAgICAgICAgIHZhciBjaXJjbGVfMDczY2MyMzA2Yzg3NGQzZWE3ZDY1YzEyZjkzMTJhNDEgPSBMLmNpcmNsZSgKICAgICAgICAgICAgICAgIFstMzUuNjc1MSwgLTcxLjU0M10sCiAgICAgICAgICAgICAgICB7ImJ1YmJsaW5nTW91c2VFdmVudHMiOiB0cnVlLCAiY29sb3IiOiAicmVkIiwgImRhc2hBcnJheSI6IG51bGwsICJkYXNoT2Zmc2V0IjogbnVsbCwgImZpbGwiOiB0cnVlLCAiZmlsbENvbG9yIjogImluZGlnbyIsICJmaWxsT3BhY2l0eSI6IDAuMiwgImZpbGxSdWxlIjogImV2ZW5vZGQiLCAibGluZUNhcCI6ICJyb3VuZCIsICJsaW5lSm9pbiI6ICJyb3VuZCIsICJvcGFjaXR5IjogMS4wLCAicmFkaXVzIjogNDU5OTk5Ljk5OTk5OTk5OTk0LCAic3Ryb2tlIjogdHJ1ZSwgIndlaWdodCI6IDN9CiAgICAgICAgICAgICkuYWRkVG8obWFwX2ZmZjE4NTc1OTRiZjRhM2E4Mjc4ZjEyNTM2Y2NkNjM3KTsKICAgICAgICAKICAgIAogICAgICAgICAgICBjaXJjbGVfMDczY2MyMzA2Yzg3NGQzZWE3ZDY1YzEyZjkzMTJhNDEuYmluZFRvb2x0aXAoCiAgICAgICAgICAgICAgICBgPGRpdj4KICAgICAgICAgICAgICAgICAgICAgPGRpdiBzdHlsZT0nbWFyZ2luOiAwOyBiYWNrZ3JvdW5kLWNvbG9yOiBibGFjazsgY29sb3I6IHdoaXRlOyc+PGg0IHN0eWxlPSd0ZXh0LWFsaWduOmNlbnRlcjtmb250LXdlaWdodDogYm9sZCc+Q2hpbGU8L2g0PjxociBzdHlsZT0nbWFyZ2luOjEwcHg7Y29sb3I6IHdoaXRlOyc+PHVsIHN0eWxlPSdjb2xvcjogd2hpdGU7O2xpc3Qtc3R5bGUtdHlwZTpjaXJjbGU7YWxpZ24taXRlbTpsZWZ0O3BhZGRpbmctbGVmdDoyMHB4O3BhZGRpbmctcmlnaHQ6MjBweCc+PGxpPkNvbmZpcm1lZDogMTcwMDg8L2xpPjxsaT5EZWF0aHM6ICAgMjM0PC9saT48bGk+RGVhdGggUmF0ZTogMS4zODwvbGk+PC91bD48L2Rpdj4KICAgICAgICAgICAgICAgICA8L2Rpdj5gLAogICAgICAgICAgICAgICAgeyJzdGlja3kiOiB0cnVlfQogICAgICAgICAgICApOwogICAgICAgIAogICAgCiAgICAgICAgICAgIHZhciBjaXJjbGVfMTMyYjUxNmVlNWZlNGU5ZWE4MjQyNjI2ZmYxNTkyMTkgPSBMLmNpcmNsZSgKICAgICAgICAgICAgICAgIFszMS44MjU3LCAxMTcuMjI2NF0sCiAgICAgICAgICAgICAgICB7ImJ1YmJsaW5nTW91c2VFdmVudHMiOiB0cnVlLCAiY29sb3IiOiAicmVkIiwgImRhc2hBcnJheSI6IG51bGwsICJkYXNoT2Zmc2V0IjogbnVsbCwgImZpbGwiOiB0cnVlLCAiZmlsbENvbG9yIjogImluZGlnbyIsICJmaWxsT3BhY2l0eSI6IDAuMiwgImZpbGxSdWxlIjogImV2ZW5vZGQiLCAibGluZUNhcCI6ICJyb3VuZCIsICJsaW5lSm9pbiI6ICJyb3VuZCIsICJvcGFjaXR5IjogMS4wLCAicmFkaXVzIjogMzEwMDAwLjAsICJzdHJva2UiOiB0cnVlLCAid2VpZ2h0IjogM30KICAgICAgICAgICAgKS5hZGRUbyhtYXBfZmZmMTg1NzU5NGJmNGEzYTgyNzhmMTI1MzZjY2Q2MzcpOwogICAgICAgIAogICAgCiAgICAgICAgICAgIGNpcmNsZV8xMzJiNTE2ZWU1ZmU0ZTllYTgyNDI2MjZmZjE1OTIxOS5iaW5kVG9vbHRpcCgKICAgICAgICAgICAgICAgIGA8ZGl2PgogICAgICAgICAgICAgICAgICAgICA8ZGl2IHN0eWxlPSdtYXJnaW46IDA7IGJhY2tncm91bmQtY29sb3I6IGJsYWNrOyBjb2xvcjogd2hpdGU7Jz48aDQgc3R5bGU9J3RleHQtYWxpZ246Y2VudGVyO2ZvbnQtd2VpZ2h0OiBib2xkJz5DaGluYTwvaDQ+PGhyIHN0eWxlPSdtYXJnaW46MTBweDtjb2xvcjogd2hpdGU7Jz48dWwgc3R5bGU9J2NvbG9yOiB3aGl0ZTs7bGlzdC1zdHlsZS10eXBlOmNpcmNsZTthbGlnbi1pdGVtOmxlZnQ7cGFkZGluZy1sZWZ0OjIwcHg7cGFkZGluZy1yaWdodDoyMHB4Jz48bGk+Q29uZmlybWVkOiA5OTE8L2xpPjxsaT5EZWF0aHM6ICAgNjwvbGk+PGxpPkRlYXRoIFJhdGU6IDAuNjwvbGk+PC91bD48L2Rpdj4KICAgICAgICAgICAgICAgICA8L2Rpdj5gLAogICAgICAgICAgICAgICAgeyJzdGlja3kiOiB0cnVlfQogICAgICAgICAgICApOwogICAgICAgIAogICAgCiAgICAgICAgICAgIHZhciBjaXJjbGVfZjUwN2E3ZGM1N2VhNGI2YzkwYTljNTMzODI5YjAxNDcgPSBMLmNpcmNsZSgKICAgICAgICAgICAgICAgIFs0MC4xODI0LCAxMTYuNDE0Ml0sCiAgICAgICAgICAgICAgICB7ImJ1YmJsaW5nTW91c2VFdmVudHMiOiB0cnVlLCAiY29sb3IiOiAicmVkIiwgImRhc2hBcnJheSI6IG51bGwsICJkYXNoT2Zmc2V0IjogbnVsbCwgImZpbGwiOiB0cnVlLCAiZmlsbENvbG9yIjogImluZGlnbyIsICJmaWxsT3BhY2l0eSI6IDAuMiwgImZpbGxSdWxlIjogImV2ZW5vZGQiLCAibGluZUNhcCI6ICJyb3VuZCIsICJsaW5lSm9pbiI6ICJyb3VuZCIsICJvcGFjaXR5IjogMS4wLCAicmFkaXVzIjogMzEwMDAwLjAsICJzdHJva2UiOiB0cnVlLCAid2VpZ2h0IjogM30KICAgICAgICAgICAgKS5hZGRUbyhtYXBfZmZmMTg1NzU5NGJmNGEzYTgyNzhmMTI1MzZjY2Q2MzcpOwogICAgICAgIAogICAgCiAgICAgICAgICAgIGNpcmNsZV9mNTA3YTdkYzU3ZWE0YjZjOTBhOWM1MzM4MjliMDE0Ny5iaW5kVG9vbHRpcCgKICAgICAgICAgICAgICAgIGA8ZGl2PgogICAgICAgICAgICAgICAgICAgICA8ZGl2IHN0eWxlPSdtYXJnaW46IDA7IGJhY2tncm91bmQtY29sb3I6IGJsYWNrOyBjb2xvcjogd2hpdGU7Jz48aDQgc3R5bGU9J3RleHQtYWxpZ246Y2VudGVyO2ZvbnQtd2VpZ2h0OiBib2xkJz5DaGluYTwvaDQ+PGhyIHN0eWxlPSdtYXJnaW46MTBweDtjb2xvcjogd2hpdGU7Jz48dWwgc3R5bGU9J2NvbG9yOiB3aGl0ZTs7bGlzdC1zdHlsZS10eXBlOmNpcmNsZTthbGlnbi1pdGVtOmxlZnQ7cGFkZGluZy1sZWZ0OjIwcHg7cGFkZGluZy1yaWdodDoyMHB4Jz48bGk+Q29uZmlybWVkOiA1OTM8L2xpPjxsaT5EZWF0aHM6ICAgOTwvbGk+PGxpPkRlYXRoIFJhdGU6IDEuNTI8L2xpPjwvdWw+PC9kaXY+CiAgICAgICAgICAgICAgICAgPC9kaXY+YCwKICAgICAgICAgICAgICAgIHsic3RpY2t5IjogdHJ1ZX0KICAgICAgICAgICAgKTsKICAgICAgICAKICAgIAogICAgICAgICAgICB2YXIgY2lyY2xlXzE3NDJiNTY0YTMyNjQ0MzlhMmI4MWFlMjA5NDBkY2Q3ID0gTC5jaXJjbGUoCiAgICAgICAgICAgICAgICBbMzAuMDU3MiwgMTA3Ljg3NF0sCiAgICAgICAgICAgICAgICB7ImJ1YmJsaW5nTW91c2VFdmVudHMiOiB0cnVlLCAiY29sb3IiOiAicmVkIiwgImRhc2hBcnJheSI6IG51bGwsICJkYXNoT2Zmc2V0IjogbnVsbCwgImZpbGwiOiB0cnVlLCAiZmlsbENvbG9yIjogImluZGlnbyIsICJmaWxsT3BhY2l0eSI6IDAuMiwgImZpbGxSdWxlIjogImV2ZW5vZGQiLCAibGluZUNhcCI6ICJyb3VuZCIsICJsaW5lSm9pbiI6ICJyb3VuZCIsICJvcGFjaXR5IjogMS4wLCAicmFkaXVzIjogMzEwMDAwLjAsICJzdHJva2UiOiB0cnVlLCAid2VpZ2h0IjogM30KICAgICAgICAgICAgKS5hZGRUbyhtYXBfZmZmMTg1NzU5NGJmNGEzYTgyNzhmMTI1MzZjY2Q2MzcpOwogICAgICAgIAogICAgCiAgICAgICAgICAgIGNpcmNsZV8xNzQyYjU2NGEzMjY0NDM5YTJiODFhZTIwOTQwZGNkNy5iaW5kVG9vbHRpcCgKICAgICAgICAgICAgICAgIGA8ZGl2PgogICAgICAgICAgICAgICAgICAgICA8ZGl2IHN0eWxlPSdtYXJnaW46IDA7IGJhY2tncm91bmQtY29sb3I6IGJsYWNrOyBjb2xvcjogd2hpdGU7Jz48aDQgc3R5bGU9J3RleHQtYWxpZ246Y2VudGVyO2ZvbnQtd2VpZ2h0OiBib2xkJz5DaGluYTwvaDQ+PGhyIHN0eWxlPSdtYXJnaW46MTBweDtjb2xvcjogd2hpdGU7Jz48dWwgc3R5bGU9J2NvbG9yOiB3aGl0ZTs7bGlzdC1zdHlsZS10eXBlOmNpcmNsZTthbGlnbi1pdGVtOmxlZnQ7cGFkZGluZy1sZWZ0OjIwcHg7cGFkZGluZy1yaWdodDoyMHB4Jz48bGk+Q29uZmlybWVkOiA1Nzk8L2xpPjxsaT5EZWF0aHM6ICAgNjwvbGk+PGxpPkRlYXRoIFJhdGU6IDEuMDM8L2xpPjwvdWw+PC9kaXY+CiAgICAgICAgICAgICAgICAgPC9kaXY+YCwKICAgICAgICAgICAgICAgIHsic3RpY2t5IjogdHJ1ZX0KICAgICAgICAgICAgKTsKICAgICAgICAKICAgIAogICAgICAgICAgICB2YXIgY2lyY2xlX2Y3ZDNlYTBmZjYwYzQyYWY5MGRmMWVlODEwNDkyZWZkID0gTC5jaXJjbGUoCiAgICAgICAgICAgICAgICBbMjYuMDc4OSwgMTE3Ljk4NzRdLAogICAgICAgICAgICAgICAgeyJidWJibGluZ01vdXNlRXZlbnRzIjogdHJ1ZSwgImNvbG9yIjogInJlZCIsICJkYXNoQXJyYXkiOiBudWxsLCAiZGFzaE9mZnNldCI6IG51bGwsICJmaWxsIjogdHJ1ZSwgImZpbGxDb2xvciI6ICJpbmRpZ28iLCAiZmlsbE9wYWNpdHkiOiAwLjIsICJmaWxsUnVsZSI6ICJldmVub2RkIiwgImxpbmVDYXAiOiAicm91bmQiLCAibGluZUpvaW4iOiAicm91bmQiLCAib3BhY2l0eSI6IDEuMCwgInJhZGl1cyI6IDI2MDAwMC4wLCAic3Ryb2tlIjogdHJ1ZSwgIndlaWdodCI6IDN9CiAgICAgICAgICAgICkuYWRkVG8obWFwX2ZmZjE4NTc1OTRiZjRhM2E4Mjc4ZjEyNTM2Y2NkNjM3KTsKICAgICAgICAKICAgIAogICAgICAgICAgICBjaXJjbGVfZjdkM2VhMGZmNjBjNDJhZjkwZGYxZWU4MTA0OTJlZmQuYmluZFRvb2x0aXAoCiAgICAgICAgICAgICAgICBgPGRpdj4KICAgICAgICAgICAgICAgICAgICAgPGRpdiBzdHlsZT0nbWFyZ2luOiAwOyBiYWNrZ3JvdW5kLWNvbG9yOiBibGFjazsgY29sb3I6IHdoaXRlOyc+PGg0IHN0eWxlPSd0ZXh0LWFsaWduOmNlbnRlcjtmb250LXdlaWdodDogYm9sZCc+Q2hpbmE8L2g0PjxociBzdHlsZT0nbWFyZ2luOjEwcHg7Y29sb3I6IHdoaXRlOyc+PHVsIHN0eWxlPSdjb2xvcjogd2hpdGU7O2xpc3Qtc3R5bGUtdHlwZTpjaXJjbGU7YWxpZ24taXRlbTpsZWZ0O3BhZGRpbmctbGVmdDoyMHB4O3BhZGRpbmctcmlnaHQ6MjBweCc+PGxpPkNvbmZpcm1lZDogMzU2PC9saT48bGk+RGVhdGhzOiAgIDE8L2xpPjxsaT5EZWF0aCBSYXRlOiAwLjI4PC9saT48L3VsPjwvZGl2PgogICAgICAgICAgICAgICAgIDwvZGl2PmAsCiAgICAgICAgICAgICAgICB7InN0aWNreSI6IHRydWV9CiAgICAgICAgICAgICk7CiAgICAgICAgCiAgICAKICAgICAgICAgICAgdmFyIGNpcmNsZV9iYTg2YTliNDg2NDk0ZmZmODc2OTgyZDQ5NzYxODQ0MCA9IEwuY2lyY2xlKAogICAgICAgICAgICAgICAgWzM3LjgwOTksIDEwMS4wNTgzXSwKICAgICAgICAgICAgICAgIHsiYnViYmxpbmdNb3VzZUV2ZW50cyI6IHRydWUsICJjb2xvciI6ICJyZWQiLCAiZGFzaEFycmF5IjogbnVsbCwgImRhc2hPZmZzZXQiOiBudWxsLCAiZmlsbCI6IHRydWUsICJmaWxsQ29sb3IiOiAiaW5kaWdvIiwgImZpbGxPcGFjaXR5IjogMC4yLCAiZmlsbFJ1bGUiOiAiZXZlbm9kZCIsICJsaW5lQ2FwIjogInJvdW5kIiwgImxpbmVKb2luIjogInJvdW5kIiwgIm9wYWNpdHkiOiAxLjAsICJyYWRpdXMiOiAyMTAwMDAuMCwgInN0cm9rZSI6IHRydWUsICJ3ZWlnaHQiOiAzfQogICAgICAgICAgICApLmFkZFRvKG1hcF9mZmYxODU3NTk0YmY0YTNhODI3OGYxMjUzNmNjZDYzNyk7CiAgICAgICAgCiAgICAKICAgICAgICAgICAgY2lyY2xlX2JhODZhOWI0ODY0OTRmZmY4NzY5ODJkNDk3NjE4NDQwLmJpbmRUb29sdGlwKAogICAgICAgICAgICAgICAgYDxkaXY+CiAgICAgICAgICAgICAgICAgICAgIDxkaXYgc3R5bGU9J21hcmdpbjogMDsgYmFja2dyb3VuZC1jb2xvcjogYmxhY2s7IGNvbG9yOiB3aGl0ZTsnPjxoNCBzdHlsZT0ndGV4dC1hbGlnbjpjZW50ZXI7Zm9udC13ZWlnaHQ6IGJvbGQnPkNoaW5hPC9oND48aHIgc3R5bGU9J21hcmdpbjoxMHB4O2NvbG9yOiB3aGl0ZTsnPjx1bCBzdHlsZT0nY29sb3I6IHdoaXRlOztsaXN0LXN0eWxlLXR5cGU6Y2lyY2xlO2FsaWduLWl0ZW06bGVmdDtwYWRkaW5nLWxlZnQ6MjBweDtwYWRkaW5nLXJpZ2h0OjIwcHgnPjxsaT5Db25maXJtZWQ6IDEzOTwvbGk+PGxpPkRlYXRoczogICAyPC9saT48bGk+RGVhdGggUmF0ZTogMS40MzwvbGk+PC91bD48L2Rpdj4KICAgICAgICAgICAgICAgICA8L2Rpdj5gLAogICAgICAgICAgICAgICAgeyJzdGlja3kiOiB0cnVlfQogICAgICAgICAgICApOwogICAgICAgIAogICAgCiAgICAgICAgICAgIHZhciBjaXJjbGVfMTE4ZTIzYmFmMGU2NGNmYTlmNWIxYjEwYmEyMzM2ZDEgPSBMLmNpcmNsZSgKICAgICAgICAgICAgICAgIFsyMy4zNDE3LCAxMTMuNDI0NF0sCiAgICAgICAgICAgICAgICB7ImJ1YmJsaW5nTW91c2VFdmVudHMiOiB0cnVlLCAiY29sb3IiOiAicmVkIiwgImRhc2hBcnJheSI6IG51bGwsICJkYXNoT2Zmc2V0IjogbnVsbCwgImZpbGwiOiB0cnVlLCAiZmlsbENvbG9yIjogImluZGlnbyIsICJmaWxsT3BhY2l0eSI6IDAuMiwgImZpbGxSdWxlIjogImV2ZW5vZGQiLCAibGluZUNhcCI6ICJyb3VuZCIsICJsaW5lSm9pbiI6ICJyb3VuZCIsICJvcGFjaXR5IjogMS4wLCAicmFkaXVzIjogMzYwMDAwLjAsICJzdHJva2UiOiB0cnVlLCAid2VpZ2h0IjogM30KICAgICAgICAgICAgKS5hZGRUbyhtYXBfZmZmMTg1NzU5NGJmNGEzYTgyNzhmMTI1MzZjY2Q2MzcpOwogICAgICAgIAogICAgCiAgICAgICAgICAgIGNpcmNsZV8xMThlMjNiYWYwZTY0Y2ZhOWY1YjFiMTBiYTIzMzZkMS5iaW5kVG9vbHRpcCgKICAgICAgICAgICAgICAgIGA8ZGl2PgogICAgICAgICAgICAgICAgICAgICA8ZGl2IHN0eWxlPSdtYXJnaW46IDA7IGJhY2tncm91bmQtY29sb3I6IGJsYWNrOyBjb2xvcjogd2hpdGU7Jz48aDQgc3R5bGU9J3RleHQtYWxpZ246Y2VudGVyO2ZvbnQtd2VpZ2h0OiBib2xkJz5DaGluYTwvaDQ+PGhyIHN0eWxlPSdtYXJnaW46MTBweDtjb2xvcjogd2hpdGU7Jz48dWwgc3R5bGU9J2NvbG9yOiB3aGl0ZTs7bGlzdC1zdHlsZS10eXBlOmNpcmNsZTthbGlnbi1pdGVtOmxlZnQ7cGFkZGluZy1sZWZ0OjIwcHg7cGFkZGluZy1yaWdodDoyMHB4Jz48bGk+Q29uZmlybWVkOiAxNTg4PC9saT48bGk+RGVhdGhzOiAgIDg8L2xpPjxsaT5EZWF0aCBSYXRlOiAwLjU8L2xpPjwvdWw+PC9kaXY+CiAgICAgICAgICAgICAgICAgPC9kaXY+YCwKICAgICAgICAgICAgICAgIHsic3RpY2t5IjogdHJ1ZX0KICAgICAgICAgICAgKTsKICAgICAgICAKICAgIAogICAgICAgICAgICB2YXIgY2lyY2xlXzJhODJiMGUwMGI4MTQxZmFhMzBmNmJlYWFhOThlOTI4ID0gTC5jaXJjbGUoCiAgICAgICAgICAgICAgICBbMjMuODI5OCwgMTA4Ljc4ODFdLAogICAgICAgICAgICAgICAgeyJidWJibGluZ01vdXNlRXZlbnRzIjogdHJ1ZSwgImNvbG9yIjogInJlZCIsICJkYXNoQXJyYXkiOiBudWxsLCAiZGFzaE9mZnNldCI6IG51bGwsICJmaWxsIjogdHJ1ZSwgImZpbGxDb2xvciI6ICJpbmRpZ28iLCAiZmlsbE9wYWNpdHkiOiAwLjIsICJmaWxsUnVsZSI6ICJldmVub2RkIiwgImxpbmVDYXAiOiAicm91bmQiLCAibGluZUpvaW4iOiAicm91bmQiLCAib3BhY2l0eSI6IDEuMCwgInJhZGl1cyI6IDI2MDAwMC4wLCAic3Ryb2tlIjogdHJ1ZSwgIndlaWdodCI6IDN9CiAgICAgICAgICAgICkuYWRkVG8obWFwX2ZmZjE4NTc1OTRiZjRhM2E4Mjc4ZjEyNTM2Y2NkNjM3KTsKICAgICAgICAKICAgIAogICAgICAgICAgICBjaXJjbGVfMmE4MmIwZTAwYjgxNDFmYWEzMGY2YmVhYWE5OGU5MjguYmluZFRvb2x0aXAoCiAgICAgICAgICAgICAgICBgPGRpdj4KICAgICAgICAgICAgICAgICAgICAgPGRpdiBzdHlsZT0nbWFyZ2luOiAwOyBiYWNrZ3JvdW5kLWNvbG9yOiBibGFjazsgY29sb3I6IHdoaXRlOyc+PGg0IHN0eWxlPSd0ZXh0LWFsaWduOmNlbnRlcjtmb250LXdlaWdodDogYm9sZCc+Q2hpbmE8L2g0PjxociBzdHlsZT0nbWFyZ2luOjEwcHg7Y29sb3I6IHdoaXRlOyc+PHVsIHN0eWxlPSdjb2xvcjogd2hpdGU7O2xpc3Qtc3R5bGUtdHlwZTpjaXJjbGU7YWxpZ24taXRlbTpsZWZ0O3BhZGRpbmctbGVmdDoyMHB4O3BhZGRpbmctcmlnaHQ6MjBweCc+PGxpPkNvbmZpcm1lZDogMjU0PC9saT48bGk+RGVhdGhzOiAgIDI8L2xpPjxsaT5EZWF0aCBSYXRlOiAwLjc4PC9saT48L3VsPjwvZGl2PgogICAgICAgICAgICAgICAgIDwvZGl2PmAsCiAgICAgICAgICAgICAgICB7InN0aWNreSI6IHRydWV9CiAgICAgICAgICAgICk7CiAgICAgICAgCiAgICAKICAgICAgICAgICAgdmFyIGNpcmNsZV9jZTg4OGM0YWZmOTY0YjBhYTM4M2M5NTNmZWQ2NGNkNiA9IEwuY2lyY2xlKAogICAgICAgICAgICAgICAgWzI2LjgxNTQsIDEwNi44NzQ4XSwKICAgICAgICAgICAgICAgIHsiYnViYmxpbmdNb3VzZUV2ZW50cyI6IHRydWUsICJjb2xvciI6ICJyZWQiLCAiZGFzaEFycmF5IjogbnVsbCwgImRhc2hPZmZzZXQiOiBudWxsLCAiZmlsbCI6IHRydWUsICJmaWxsQ29sb3IiOiAiaW5kaWdvIiwgImZpbGxPcGFjaXR5IjogMC4yLCAiZmlsbFJ1bGUiOiAiZXZlbm9kZCIsICJsaW5lQ2FwIjogInJvdW5kIiwgImxpbmVKb2luIjogInJvdW5kIiwgIm9wYWNpdHkiOiAxLjAsICJyYWRpdXMiOiAyMTAwMDAuMCwgInN0cm9rZSI6IHRydWUsICJ3ZWlnaHQiOiAzfQogICAgICAgICAgICApLmFkZFRvKG1hcF9mZmYxODU3NTk0YmY0YTNhODI3OGYxMjUzNmNjZDYzNyk7CiAgICAgICAgCiAgICAKICAgICAgICAgICAgY2lyY2xlX2NlODg4YzRhZmY5NjRiMGFhMzgzYzk1M2ZlZDY0Y2Q2LmJpbmRUb29sdGlwKAogICAgICAgICAgICAgICAgYDxkaXY+CiAgICAgICAgICAgICAgICAgICAgIDxkaXYgc3R5bGU9J21hcmdpbjogMDsgYmFja2dyb3VuZC1jb2xvcjogYmxhY2s7IGNvbG9yOiB3aGl0ZTsnPjxoNCBzdHlsZT0ndGV4dC1hbGlnbjpjZW50ZXI7Zm9udC13ZWlnaHQ6IGJvbGQnPkNoaW5hPC9oND48aHIgc3R5bGU9J21hcmdpbjoxMHB4O2NvbG9yOiB3aGl0ZTsnPjx1bCBzdHlsZT0nY29sb3I6IHdoaXRlOztsaXN0LXN0eWxlLXR5cGU6Y2lyY2xlO2FsaWduLWl0ZW06bGVmdDtwYWRkaW5nLWxlZnQ6MjBweDtwYWRkaW5nLXJpZ2h0OjIwcHgnPjxsaT5Db25maXJtZWQ6IDE0NzwvbGk+PGxpPkRlYXRoczogICAyPC9saT48bGk+RGVhdGggUmF0ZTogMS4zNTwvbGk+PC91bD48L2Rpdj4KICAgICAgICAgICAgICAgICA8L2Rpdj5gLAogICAgICAgICAgICAgICAgeyJzdGlja3kiOiB0cnVlfQogICAgICAgICAgICApOwogICAgICAgIAogICAgCiAgICAgICAgICAgIHZhciBjaXJjbGVfZTI1NjQ1Njc0NzYzNDQ4NjhlYjU5ZTMzNzA1NGYwNzMgPSBMLmNpcmNsZSgKICAgICAgICAgICAgICAgIFsxOS4xOTU5LCAxMDkuNzQ1M10sCiAgICAgICAgICAgICAgICB7ImJ1YmJsaW5nTW91c2VFdmVudHMiOiB0cnVlLCAiY29sb3IiOiAicmVkIiwgImRhc2hBcnJheSI6IG51bGwsICJkYXNoT2Zmc2V0IjogbnVsbCwgImZpbGwiOiB0cnVlLCAiZmlsbENvbG9yIjogImluZGlnbyIsICJmaWxsT3BhY2l0eSI6IDAuMiwgImZpbGxSdWxlIjogImV2ZW5vZGQiLCAibGluZUNhcCI6ICJyb3VuZCIsICJsaW5lSm9pbiI6ICJyb3VuZCIsICJvcGFjaXR5IjogMS4wLCAicmFkaXVzIjogMjYwMDAwLjAsICJzdHJva2UiOiB0cnVlLCAid2VpZ2h0IjogM30KICAgICAgICAgICAgKS5hZGRUbyhtYXBfZmZmMTg1NzU5NGJmNGEzYTgyNzhmMTI1MzZjY2Q2MzcpOwogICAgICAgIAogICAgCiAgICAgICAgICAgIGNpcmNsZV9lMjU2NDU2NzQ3NjM0NDg2OGViNTllMzM3MDU0ZjA3My5iaW5kVG9vbHRpcCgKICAgICAgICAgICAgICAgIGA8ZGl2PgogICAgICAgICAgICAgICAgICAgICA8ZGl2IHN0eWxlPSdtYXJnaW46IDA7IGJhY2tncm91bmQtY29sb3I6IGJsYWNrOyBjb2xvcjogd2hpdGU7Jz48aDQgc3R5bGU9J3RleHQtYWxpZ246Y2VudGVyO2ZvbnQtd2VpZ2h0OiBib2xkJz5DaGluYTwvaDQ+PGhyIHN0eWxlPSdtYXJnaW46MTBweDtjb2xvcjogd2hpdGU7Jz48dWwgc3R5bGU9J2NvbG9yOiB3aGl0ZTs7bGlzdC1zdHlsZS10eXBlOmNpcmNsZTthbGlnbi1pdGVtOmxlZnQ7cGFkZGluZy1sZWZ0OjIwcHg7cGFkZGluZy1yaWdodDoyMHB4Jz48bGk+Q29uZmlybWVkOiAxNjg8L2xpPjxsaT5EZWF0aHM6ICAgNjwvbGk+PGxpPkRlYXRoIFJhdGU6IDMuNTU8L2xpPjwvdWw+PC9kaXY+CiAgICAgICAgICAgICAgICAgPC9kaXY+YCwKICAgICAgICAgICAgICAgIHsic3RpY2t5IjogdHJ1ZX0KICAgICAgICAgICAgKTsKICAgICAgICAKICAgIAogICAgICAgICAgICB2YXIgY2lyY2xlXzUwMmJjYjM2MGY2ODRkYTY4ODU4NDljODI4ODEzZjVmID0gTC5jaXJjbGUoCiAgICAgICAgICAgICAgICBbMzkuNTQ5LCAxMTYuMTMwNl0sCiAgICAgICAgICAgICAgICB7ImJ1YmJsaW5nTW91c2VFdmVudHMiOiB0cnVlLCAiY29sb3IiOiAicmVkIiwgImRhc2hBcnJheSI6IG51bGwsICJkYXNoT2Zmc2V0IjogbnVsbCwgImZpbGwiOiB0cnVlLCAiZmlsbENvbG9yIjogImluZGlnbyIsICJmaWxsT3BhY2l0eSI6IDAuMiwgImZpbGxSdWxlIjogImV2ZW5vZGQiLCAibGluZUNhcCI6ICJyb3VuZCIsICJsaW5lSm9pbiI6ICJyb3VuZCIsICJvcGFjaXR5IjogMS4wLCAicmFkaXVzIjogMjYwMDAwLjAsICJzdHJva2UiOiB0cnVlLCAid2VpZ2h0IjogM30KICAgICAgICAgICAgKS5hZGRUbyhtYXBfZmZmMTg1NzU5NGJmNGEzYTgyNzhmMTI1MzZjY2Q2MzcpOwogICAgICAgIAogICAgCiAgICAgICAgICAgIGNpcmNsZV81MDJiY2IzNjBmNjg0ZGE2ODg1ODQ5YzgyODgxM2Y1Zi5iaW5kVG9vbHRpcCgKICAgICAgICAgICAgICAgIGA8ZGl2PgogICAgICAgICAgICAgICAgICAgICA8ZGl2IHN0eWxlPSdtYXJnaW46IDA7IGJhY2tncm91bmQtY29sb3I6IGJsYWNrOyBjb2xvcjogd2hpdGU7Jz48aDQgc3R5bGU9J3RleHQtYWxpZ246Y2VudGVyO2ZvbnQtd2VpZ2h0OiBib2xkJz5DaGluYTwvaDQ+PGhyIHN0eWxlPSdtYXJnaW46MTBweDtjb2xvcjogd2hpdGU7Jz48dWwgc3R5bGU9J2NvbG9yOiB3aGl0ZTs7bGlzdC1zdHlsZS10eXBlOmNpcmNsZTthbGlnbi1pdGVtOmxlZnQ7cGFkZGluZy1sZWZ0OjIwcHg7cGFkZGluZy1yaWdodDoyMHB4Jz48bGk+Q29uZmlybWVkOiAzMjg8L2xpPjxsaT5EZWF0aHM6ICAgNjwvbGk+PGxpPkRlYXRoIFJhdGU6IDEuODI8L2xpPjwvdWw+PC9kaXY+CiAgICAgICAgICAgICAgICAgPC9kaXY+YCwKICAgICAgICAgICAgICAgIHsic3RpY2t5IjogdHJ1ZX0KICAgICAgICAgICAgKTsKICAgICAgICAKICAgIAogICAgICAgICAgICB2YXIgY2lyY2xlXzNmY2NlMDU0MzdjZjQ0NDFiMGJiNmU1MmQ0Yzg0YTQ3ID0gTC5jaXJjbGUoCiAgICAgICAgICAgICAgICBbNDcuODYxOTk5OTk5OTk5OTk1LCAxMjcuNzYxNV0sCiAgICAgICAgICAgICAgICB7ImJ1YmJsaW5nTW91c2VFdmVudHMiOiB0cnVlLCAiY29sb3IiOiAicmVkIiwgImRhc2hBcnJheSI6IG51bGwsICJkYXNoT2Zmc2V0IjogbnVsbCwgImZpbGwiOiB0cnVlLCAiZmlsbENvbG9yIjogImluZGlnbyIsICJmaWxsT3BhY2l0eSI6IDAuMiwgImZpbGxSdWxlIjogImV2ZW5vZGQiLCAibGluZUNhcCI6ICJyb3VuZCIsICJsaW5lSm9pbiI6ICJyb3VuZCIsICJvcGFjaXR5IjogMS4wLCAicmFkaXVzIjogMzEwMDAwLjAsICJzdHJva2UiOiB0cnVlLCAid2VpZ2h0IjogM30KICAgICAgICAgICAgKS5hZGRUbyhtYXBfZmZmMTg1NzU5NGJmNGEzYTgyNzhmMTI1MzZjY2Q2MzcpOwogICAgICAgIAogICAgCiAgICAgICAgICAgIGNpcmNsZV8zZmNjZTA1NDM3Y2Y0NDQxYjBiYjZlNTJkNGM4NGE0Ny5iaW5kVG9vbHRpcCgKICAgICAgICAgICAgICAgIGA8ZGl2PgogICAgICAgICAgICAgICAgICAgICA8ZGl2IHN0eWxlPSdtYXJnaW46IDA7IGJhY2tncm91bmQtY29sb3I6IGJsYWNrOyBjb2xvcjogd2hpdGU7Jz48aDQgc3R5bGU9J3RleHQtYWxpZ246Y2VudGVyO2ZvbnQtd2VpZ2h0OiBib2xkJz5DaGluYTwvaDQ+PGhyIHN0eWxlPSdtYXJnaW46MTBweDtjb2xvcjogd2hpdGU7Jz48dWwgc3R5bGU9J2NvbG9yOiB3aGl0ZTs7bGlzdC1zdHlsZS10eXBlOmNpcmNsZTthbGlnbi1pdGVtOmxlZnQ7cGFkZGluZy1sZWZ0OjIwcHg7cGFkZGluZy1yaWdodDoyMHB4Jz48bGk+Q29uZmlybWVkOiA5NDQ8L2xpPjxsaT5EZWF0aHM6ICAgMTM8L2xpPjxsaT5EZWF0aCBSYXRlOiAxLjM4PC9saT48L3VsPjwvZGl2PgogICAgICAgICAgICAgICAgIDwvZGl2PmAsCiAgICAgICAgICAgICAgICB7InN0aWNreSI6IHRydWV9CiAgICAgICAgICAgICk7CiAgICAgICAgCiAgICAKICAgICAgICAgICAgdmFyIGNpcmNsZV80ZGZkNmNhY2ZlNmQ0MWYzYmE1MTE5ODQ4YjA5NTEyYiA9IEwuY2lyY2xlKAogICAgICAgICAgICAgICAgWzMzLjg4MiwgMTEzLjYxMzk5OTk5OTk5OTk5XSwKICAgICAgICAgICAgICAgIHsiYnViYmxpbmdNb3VzZUV2ZW50cyI6IHRydWUsICJjb2xvciI6ICJyZWQiLCAiZGFzaEFycmF5IjogbnVsbCwgImRhc2hPZmZzZXQiOiBudWxsLCAiZmlsbCI6IHRydWUsICJmaWxsQ29sb3IiOiAiaW5kaWdvIiwgImZpbGxPcGFjaXR5IjogMC4yLCAiZmlsbFJ1bGUiOiAiZXZlbm9kZCIsICJsaW5lQ2FwIjogInJvdW5kIiwgImxpbmVKb2luIjogInJvdW5kIiwgIm9wYWNpdHkiOiAxLjAsICJyYWRpdXMiOiAzNjAwMDAuMCwgInN0cm9rZSI6IHRydWUsICJ3ZWlnaHQiOiAzfQogICAgICAgICAgICApLmFkZFRvKG1hcF9mZmYxODU3NTk0YmY0YTNhODI3OGYxMjUzNmNjZDYzNyk7CiAgICAgICAgCiAgICAKICAgICAgICAgICAgY2lyY2xlXzRkZmQ2Y2FjZmU2ZDQxZjNiYTUxMTk4NDhiMDk1MTJiLmJpbmRUb29sdGlwKAogICAgICAgICAgICAgICAgYDxkaXY+CiAgICAgICAgICAgICAgICAgICAgIDxkaXYgc3R5bGU9J21hcmdpbjogMDsgYmFja2dyb3VuZC1jb2xvcjogYmxhY2s7IGNvbG9yOiB3aGl0ZTsnPjxoNCBzdHlsZT0ndGV4dC1hbGlnbjpjZW50ZXI7Zm9udC13ZWlnaHQ6IGJvbGQnPkNoaW5hPC9oND48aHIgc3R5bGU9J21hcmdpbjoxMHB4O2NvbG9yOiB3aGl0ZTsnPjx1bCBzdHlsZT0nY29sb3I6IHdoaXRlOztsaXN0LXN0eWxlLXR5cGU6Y2lyY2xlO2FsaWduLWl0ZW06bGVmdDtwYWRkaW5nLWxlZnQ6MjBweDtwYWRkaW5nLXJpZ2h0OjIwcHgnPjxsaT5Db25maXJtZWQ6IDEyNzY8L2xpPjxsaT5EZWF0aHM6ICAgMjI8L2xpPjxsaT5EZWF0aCBSYXRlOiAxLjcyPC9saT48L3VsPjwvZGl2PgogICAgICAgICAgICAgICAgIDwvZGl2PmAsCiAgICAgICAgICAgICAgICB7InN0aWNreSI6IHRydWV9CiAgICAgICAgICAgICk7CiAgICAgICAgCiAgICAKICAgICAgICAgICAgdmFyIGNpcmNsZV84YmU0YjhhNThhMDE0N2RhODRlZmNmNTI0ZDY3MTUwNiA9IEwuY2lyY2xlKAogICAgICAgICAgICAgICAgWzIyLjMsIDExNC4yXSwKICAgICAgICAgICAgICAgIHsiYnViYmxpbmdNb3VzZUV2ZW50cyI6IHRydWUsICJjb2xvciI6ICJyZWQiLCAiZGFzaEFycmF5IjogbnVsbCwgImRhc2hPZmZzZXQiOiBudWxsLCAiZmlsbCI6IHRydWUsICJmaWxsQ29sb3IiOiAiaW5kaWdvIiwgImZpbGxPcGFjaXR5IjogMC4yLCAiZmlsbFJ1bGUiOiAiZXZlbm9kZCIsICJsaW5lQ2FwIjogInJvdW5kIiwgImxpbmVKb2luIjogInJvdW5kIiwgIm9wYWNpdHkiOiAxLjAsICJyYWRpdXMiOiAzMTAwMDAuMCwgInN0cm9rZSI6IHRydWUsICJ3ZWlnaHQiOiAzfQogICAgICAgICAgICApLmFkZFRvKG1hcF9mZmYxODU3NTk0YmY0YTNhODI3OGYxMjUzNmNjZDYzNyk7CiAgICAgICAgCiAgICAKICAgICAgICAgICAgY2lyY2xlXzhiZTRiOGE1OGEwMTQ3ZGE4NGVmY2Y1MjRkNjcxNTA2LmJpbmRUb29sdGlwKAogICAgICAgICAgICAgICAgYDxkaXY+CiAgICAgICAgICAgICAgICAgICAgIDxkaXYgc3R5bGU9J21hcmdpbjogMDsgYmFja2dyb3VuZC1jb2xvcjogYmxhY2s7IGNvbG9yOiB3aGl0ZTsnPjxoNCBzdHlsZT0ndGV4dC1hbGlnbjpjZW50ZXI7Zm9udC13ZWlnaHQ6IGJvbGQnPkNoaW5hPC9oND48aHIgc3R5bGU9J21hcmdpbjoxMHB4O2NvbG9yOiB3aGl0ZTsnPjx1bCBzdHlsZT0nY29sb3I6IHdoaXRlOztsaXN0LXN0eWxlLXR5cGU6Y2lyY2xlO2FsaWduLWl0ZW06bGVmdDtwYWRkaW5nLWxlZnQ6MjBweDtwYWRkaW5nLXJpZ2h0OjIwcHgnPjxsaT5Db25maXJtZWQ6IDEwMzk8L2xpPjxsaT5EZWF0aHM6ICAgNDwvbGk+PGxpPkRlYXRoIFJhdGU6IDAuMzg8L2xpPjwvdWw+PC9kaXY+CiAgICAgICAgICAgICAgICAgPC9kaXY+YCwKICAgICAgICAgICAgICAgIHsic3RpY2t5IjogdHJ1ZX0KICAgICAgICAgICAgKTsKICAgICAgICAKICAgIAogICAgICAgICAgICB2YXIgY2lyY2xlXzM0ZGRkZTY0YzA3ZDQ5YzhhNGMxZTE5ODU0NWIxNWMwID0gTC5jaXJjbGUoCiAgICAgICAgICAgICAgICBbMzAuOTc1NiwgMTEyLjI3MDddLAogICAgICAgICAgICAgICAgeyJidWJibGluZ01vdXNlRXZlbnRzIjogdHJ1ZSwgImNvbG9yIjogInJlZCIsICJkYXNoQXJyYXkiOiBudWxsLCAiZGFzaE9mZnNldCI6IG51bGwsICJmaWxsIjogdHJ1ZSwgImZpbGxDb2xvciI6ICJpbmRpZ28iLCAiZmlsbE9wYWNpdHkiOiAwLjIsICJmaWxsUnVsZSI6ICJldmVub2RkIiwgImxpbmVDYXAiOiAicm91bmQiLCAibGluZUpvaW4iOiAicm91bmQiLCAib3BhY2l0eSI6IDEuMCwgInJhZGl1cyI6IDU2MDAwMC4wLCAic3Ryb2tlIjogdHJ1ZSwgIndlaWdodCI6IDN9CiAgICAgICAgICAgICkuYWRkVG8obWFwX2ZmZjE4NTc1OTRiZjRhM2E4Mjc4ZjEyNTM2Y2NkNjM3KTsKICAgICAgICAKICAgIAogICAgICAgICAgICBjaXJjbGVfMzRkZGRlNjRjMDdkNDljOGE0YzFlMTk4NTQ1YjE1YzAuYmluZFRvb2x0aXAoCiAgICAgICAgICAgICAgICBgPGRpdj4KICAgICAgICAgICAgICAgICAgICAgPGRpdiBzdHlsZT0nbWFyZ2luOiAwOyBiYWNrZ3JvdW5kLWNvbG9yOiBibGFjazsgY29sb3I6IHdoaXRlOyc+PGg0IHN0eWxlPSd0ZXh0LWFsaWduOmNlbnRlcjtmb250LXdlaWdodDogYm9sZCc+Q2hpbmE8L2g0PjxociBzdHlsZT0nbWFyZ2luOjEwcHg7Y29sb3I6IHdoaXRlOyc+PHVsIHN0eWxlPSdjb2xvcjogd2hpdGU7O2xpc3Qtc3R5bGUtdHlwZTpjaXJjbGU7YWxpZ24taXRlbTpsZWZ0O3BhZGRpbmctbGVmdDoyMHB4O3BhZGRpbmctcmlnaHQ6MjBweCc+PGxpPkNvbmZpcm1lZDogNjgxMjg8L2xpPjxsaT5EZWF0aHM6ICAgNDUxMjwvbGk+PGxpPkRlYXRoIFJhdGU6IDYuNjI8L2xpPjwvdWw+PC9kaXY+CiAgICAgICAgICAgICAgICAgPC9kaXY+YCwKICAgICAgICAgICAgICAgIHsic3RpY2t5IjogdHJ1ZX0KICAgICAgICAgICAgKTsKICAgICAgICAKICAgIAogICAgICAgICAgICB2YXIgY2lyY2xlXzc2ZGUwYzk3NmVhNzRiYmI5NDk5OTBmNGY4Nzg4ZGY2ID0gTC5jaXJjbGUoCiAgICAgICAgICAgICAgICBbMjcuNjEwNCwgMTExLjcwODhdLAogICAgICAgICAgICAgICAgeyJidWJibGluZ01vdXNlRXZlbnRzIjogdHJ1ZSwgImNvbG9yIjogInJlZCIsICJkYXNoQXJyYXkiOiBudWxsLCAiZGFzaE9mZnNldCI6IG51bGwsICJmaWxsIjogdHJ1ZSwgImZpbGxDb2xvciI6ICJpbmRpZ28iLCAiZmlsbE9wYWNpdHkiOiAwLjIsICJmaWxsUnVsZSI6ICJldmVub2RkIiwgImxpbmVDYXAiOiAicm91bmQiLCAibGluZUpvaW4iOiAicm91bmQiLCAib3BhY2l0eSI6IDEuMCwgInJhZGl1cyI6IDMxMDAwMC4wLCAic3Ryb2tlIjogdHJ1ZSwgIndlaWdodCI6IDN9CiAgICAgICAgICAgICkuYWRkVG8obWFwX2ZmZjE4NTc1OTRiZjRhM2E4Mjc4ZjEyNTM2Y2NkNjM3KTsKICAgICAgICAKICAgIAogICAgICAgICAgICBjaXJjbGVfNzZkZTBjOTc2ZWE3NGJiYjk0OTk5MGY0Zjg3ODhkZjYuYmluZFRvb2x0aXAoCiAgICAgICAgICAgICAgICBgPGRpdj4KICAgICAgICAgICAgICAgICAgICAgPGRpdiBzdHlsZT0nbWFyZ2luOiAwOyBiYWNrZ3JvdW5kLWNvbG9yOiBibGFjazsgY29sb3I6IHdoaXRlOyc+PGg0IHN0eWxlPSd0ZXh0LWFsaWduOmNlbnRlcjtmb250LXdlaWdodDogYm9sZCc+Q2hpbmE8L2g0PjxociBzdHlsZT0nbWFyZ2luOjEwcHg7Y29sb3I6IHdoaXRlOyc+PHVsIHN0eWxlPSdjb2xvcjogd2hpdGU7O2xpc3Qtc3R5bGUtdHlwZTpjaXJjbGU7YWxpZ24taXRlbTpsZWZ0O3BhZGRpbmctbGVmdDoyMHB4O3BhZGRpbmctcmlnaHQ6MjBweCc+PGxpPkNvbmZpcm1lZDogMTAxOTwvbGk+PGxpPkRlYXRoczogICA0PC9saT48bGk+RGVhdGggUmF0ZTogMC4zOTwvbGk+PC91bD48L2Rpdj4KICAgICAgICAgICAgICAgICA8L2Rpdj5gLAogICAgICAgICAgICAgICAgeyJzdGlja3kiOiB0cnVlfQogICAgICAgICAgICApOwogICAgICAgIAogICAgCiAgICAgICAgICAgIHZhciBjaXJjbGVfNGY2MzA3MzcyZTdkNDY2NDgyZDQ2OTM4YTRiNDc4NDUgPSBMLmNpcmNsZSgKICAgICAgICAgICAgICAgIFs0NC4wOTM1LCAxMTMuOTQ0OF0sCiAgICAgICAgICAgICAgICB7ImJ1YmJsaW5nTW91c2VFdmVudHMiOiB0cnVlLCAiY29sb3IiOiAicmVkIiwgImRhc2hBcnJheSI6IG51bGwsICJkYXNoT2Zmc2V0IjogbnVsbCwgImZpbGwiOiB0cnVlLCAiZmlsbENvbG9yIjogImluZGlnbyIsICJmaWxsT3BhY2l0eSI6IDAuMiwgImZpbGxSdWxlIjogImV2ZW5vZGQiLCAibGluZUNhcCI6ICJyb3VuZCIsICJsaW5lSm9pbiI6ICJyb3VuZCIsICJvcGFjaXR5IjogMS4wLCAicmFkaXVzIjogMjYwMDAwLjAsICJzdHJva2UiOiB0cnVlLCAid2VpZ2h0IjogM30KICAgICAgICAgICAgKS5hZGRUbyhtYXBfZmZmMTg1NzU5NGJmNGEzYTgyNzhmMTI1MzZjY2Q2MzcpOwogICAgICAgIAogICAgCiAgICAgICAgICAgIGNpcmNsZV80ZjYzMDczNzJlN2Q0NjY0ODJkNDY5MzhhNGI0Nzg0NS5iaW5kVG9vbHRpcCgKICAgICAgICAgICAgICAgIGA8ZGl2PgogICAgICAgICAgICAgICAgICAgICA8ZGl2IHN0eWxlPSdtYXJnaW46IDA7IGJhY2tncm91bmQtY29sb3I6IGJsYWNrOyBjb2xvcjogd2hpdGU7Jz48aDQgc3R5bGU9J3RleHQtYWxpZ246Y2VudGVyO2ZvbnQtd2VpZ2h0OiBib2xkJz5DaGluYTwvaDQ+PGhyIHN0eWxlPSdtYXJnaW46MTBweDtjb2xvcjogd2hpdGU7Jz48dWwgc3R5bGU9J2NvbG9yOiB3aGl0ZTs7bGlzdC1zdHlsZS10eXBlOmNpcmNsZTthbGlnbi1pdGVtOmxlZnQ7cGFkZGluZy1sZWZ0OjIwcHg7cGFkZGluZy1yaWdodDoyMHB4Jz48bGk+Q29uZmlybWVkOiAyMDE8L2xpPjxsaT5EZWF0aHM6ICAgMTwvbGk+PGxpPkRlYXRoIFJhdGU6IDAuNTwvbGk+PC91bD48L2Rpdj4KICAgICAgICAgICAgICAgICA8L2Rpdj5gLAogICAgICAgICAgICAgICAgeyJzdGlja3kiOiB0cnVlfQogICAgICAgICAgICApOwogICAgICAgIAogICAgCiAgICAgICAgICAgIHZhciBjaXJjbGVfZmI5YzQ0MmQ4MmExNDk1MzgzNzI5MDEwNjNkYTJkMWYgPSBMLmNpcmNsZSgKICAgICAgICAgICAgICAgIFszMi45NzExLCAxMTkuNDU1XSwKICAgICAgICAgICAgICAgIHsiYnViYmxpbmdNb3VzZUV2ZW50cyI6IHRydWUsICJjb2xvciI6ICJyZWQiLCAiZGFzaEFycmF5IjogbnVsbCwgImRhc2hPZmZzZXQiOiBudWxsLCAiZmlsbCI6IHRydWUsICJmaWxsQ29sb3IiOiAiaW5kaWdvIiwgImZpbGxPcGFjaXR5IjogMC4yLCAiZmlsbFJ1bGUiOiAiZXZlbm9kZCIsICJsaW5lQ2FwIjogInJvdW5kIiwgImxpbmVKb2luIjogInJvdW5kIiwgIm9wYWNpdHkiOiAxLjAsICJyYWRpdXMiOiAzMTAwMDAuMCwgInN0cm9rZSI6IHRydWUsICJ3ZWlnaHQiOiAzfQogICAgICAgICAgICApLmFkZFRvKG1hcF9mZmYxODU3NTk0YmY0YTNhODI3OGYxMjUzNmNjZDYzNyk7CiAgICAgICAgCiAgICAKICAgICAgICAgICAgY2lyY2xlX2ZiOWM0NDJkODJhMTQ5NTM4MzcyOTAxMDYzZGEyZDFmLmJpbmRUb29sdGlwKAogICAgICAgICAgICAgICAgYDxkaXY+CiAgICAgICAgICAgICAgICAgICAgIDxkaXYgc3R5bGU9J21hcmdpbjogMDsgYmFja2dyb3VuZC1jb2xvcjogYmxhY2s7IGNvbG9yOiB3aGl0ZTsnPjxoNCBzdHlsZT0ndGV4dC1hbGlnbjpjZW50ZXI7Zm9udC13ZWlnaHQ6IGJvbGQnPkNoaW5hPC9oND48aHIgc3R5bGU9J21hcmdpbjoxMHB4O2NvbG9yOiB3aGl0ZTsnPjx1bCBzdHlsZT0nY29sb3I6IHdoaXRlOztsaXN0LXN0eWxlLXR5cGU6Y2lyY2xlO2FsaWduLWl0ZW06bGVmdDtwYWRkaW5nLWxlZnQ6MjBweDtwYWRkaW5nLXJpZ2h0OjIwcHgnPjxsaT5Db25maXJtZWQ6IDY1MzwvbGk+PGxpPkRlYXRoczogICAwPC9saT48bGk+RGVhdGggUmF0ZTogMC4wPC9saT48L3VsPjwvZGl2PgogICAgICAgICAgICAgICAgIDwvZGl2PmAsCiAgICAgICAgICAgICAgICB7InN0aWNreSI6IHRydWV9CiAgICAgICAgICAgICk7CiAgICAgICAgCiAgICAKICAgICAgICAgICAgdmFyIGNpcmNsZV9mMzFlZWU2MDM1NDc0M2ZhYTMxMTVmZjkzNjcxNDc4MSA9IEwuY2lyY2xlKAogICAgICAgICAgICAgICAgWzI3LjYxNCwgMTE1LjcyMjFdLAogICAgICAgICAgICAgICAgeyJidWJibGluZ01vdXNlRXZlbnRzIjogdHJ1ZSwgImNvbG9yIjogInJlZCIsICJkYXNoQXJyYXkiOiBudWxsLCAiZGFzaE9mZnNldCI6IG51bGwsICJmaWxsIjogdHJ1ZSwgImZpbGxDb2xvciI6ICJpbmRpZ28iLCAiZmlsbE9wYWNpdHkiOiAwLjIsICJmaWxsUnVsZSI6ICJldmVub2RkIiwgImxpbmVDYXAiOiAicm91bmQiLCAibGluZUpvaW4iOiAicm91bmQiLCAib3BhY2l0eSI6IDEuMCwgInJhZGl1cyI6IDMxMDAwMC4wLCAic3Ryb2tlIjogdHJ1ZSwgIndlaWdodCI6IDN9CiAgICAgICAgICAgICkuYWRkVG8obWFwX2ZmZjE4NTc1OTRiZjRhM2E4Mjc4ZjEyNTM2Y2NkNjM3KTsKICAgICAgICAKICAgIAogICAgICAgICAgICBjaXJjbGVfZjMxZWVlNjAzNTQ3NDNmYWEzMTE1ZmY5MzY3MTQ3ODEuYmluZFRvb2x0aXAoCiAgICAgICAgICAgICAgICBgPGRpdj4KICAgICAgICAgICAgICAgICAgICAgPGRpdiBzdHlsZT0nbWFyZ2luOiAwOyBiYWNrZ3JvdW5kLWNvbG9yOiBibGFjazsgY29sb3I6IHdoaXRlOyc+PGg0IHN0eWxlPSd0ZXh0LWFsaWduOmNlbnRlcjtmb250LXdlaWdodDogYm9sZCc+Q2hpbmE8L2g0PjxociBzdHlsZT0nbWFyZ2luOjEwcHg7Y29sb3I6IHdoaXRlOyc+PHVsIHN0eWxlPSdjb2xvcjogd2hpdGU7O2xpc3Qtc3R5bGUtdHlwZTpjaXJjbGU7YWxpZ24taXRlbTpsZWZ0O3BhZGRpbmctbGVmdDoyMHB4O3BhZGRpbmctcmlnaHQ6MjBweCc+PGxpPkNvbmZpcm1lZDogOTM3PC9saT48bGk+RGVhdGhzOiAgIDE8L2xpPjxsaT5EZWF0aCBSYXRlOiAwLjExPC9saT48L3VsPjwvZGl2PgogICAgICAgICAgICAgICAgIDwvZGl2PmAsCiAgICAgICAgICAgICAgICB7InN0aWNreSI6IHRydWV9CiAgICAgICAgICAgICk7CiAgICAgICAgCiAgICAKICAgICAgICAgICAgdmFyIGNpcmNsZV81MGVmYzlkMjMzY2Q0MWI2YmY2NjY1Y2NkZWU1OGU1YSA9IEwuY2lyY2xlKAogICAgICAgICAgICAgICAgWzQzLjY2NjEsIDEyNi4xOTIzXSwKICAgICAgICAgICAgICAgIHsiYnViYmxpbmdNb3VzZUV2ZW50cyI6IHRydWUsICJjb2xvciI6ICJyZWQiLCAiZGFzaEFycmF5IjogbnVsbCwgImRhc2hPZmZzZXQiOiBudWxsLCAiZmlsbCI6IHRydWUsICJmaWxsQ29sb3IiOiAiaW5kaWdvIiwgImZpbGxPcGFjaXR5IjogMC4yLCAiZmlsbFJ1bGUiOiAiZXZlbm9kZCIsICJsaW5lQ2FwIjogInJvdW5kIiwgImxpbmVKb2luIjogInJvdW5kIiwgIm9wYWNpdHkiOiAxLjAsICJyYWRpdXMiOiAyMTAwMDAuMCwgInN0cm9rZSI6IHRydWUsICJ3ZWlnaHQiOiAzfQogICAgICAgICAgICApLmFkZFRvKG1hcF9mZmYxODU3NTk0YmY0YTNhODI3OGYxMjUzNmNjZDYzNyk7CiAgICAgICAgCiAgICAKICAgICAgICAgICAgY2lyY2xlXzUwZWZjOWQyMzNjZDQxYjZiZjY2NjVjY2RlZTU4ZTVhLmJpbmRUb29sdGlwKAogICAgICAgICAgICAgICAgYDxkaXY+CiAgICAgICAgICAgICAgICAgICAgIDxkaXYgc3R5bGU9J21hcmdpbjogMDsgYmFja2dyb3VuZC1jb2xvcjogYmxhY2s7IGNvbG9yOiB3aGl0ZTsnPjxoNCBzdHlsZT0ndGV4dC1hbGlnbjpjZW50ZXI7Zm9udC13ZWlnaHQ6IGJvbGQnPkNoaW5hPC9oND48aHIgc3R5bGU9J21hcmdpbjoxMHB4O2NvbG9yOiB3aGl0ZTsnPjx1bCBzdHlsZT0nY29sb3I6IHdoaXRlOztsaXN0LXN0eWxlLXR5cGU6Y2lyY2xlO2FsaWduLWl0ZW06bGVmdDtwYWRkaW5nLWxlZnQ6MjBweDtwYWRkaW5nLXJpZ2h0OjIwcHgnPjxsaT5Db25maXJtZWQ6IDExMjwvbGk+PGxpPkRlYXRoczogICAxPC9saT48bGk+RGVhdGggUmF0ZTogMC44ODwvbGk+PC91bD48L2Rpdj4KICAgICAgICAgICAgICAgICA8L2Rpdj5gLAogICAgICAgICAgICAgICAgeyJzdGlja3kiOiB0cnVlfQogICAgICAgICAgICApOwogICAgICAgIAogICAgCiAgICAgICAgICAgIHZhciBjaXJjbGVfNDdkOTQ2YjBjZDk4NGJiOTgxOGJjZTJiN2I5M2I3NTAgPSBMLmNpcmNsZSgKICAgICAgICAgICAgICAgIFs0MS4yOTU2LCAxMjIuNjA4NV0sCiAgICAgICAgICAgICAgICB7ImJ1YmJsaW5nTW91c2VFdmVudHMiOiB0cnVlLCAiY29sb3IiOiAicmVkIiwgImRhc2hBcnJheSI6IG51bGwsICJkYXNoT2Zmc2V0IjogbnVsbCwgImZpbGwiOiB0cnVlLCAiZmlsbENvbG9yIjogImluZGlnbyIsICJmaWxsT3BhY2l0eSI6IDAuMiwgImZpbGxSdWxlIjogImV2ZW5vZGQiLCAibGluZUNhcCI6ICJyb3VuZCIsICJsaW5lSm9pbiI6ICJyb3VuZCIsICJvcGFjaXR5IjogMS4wLCAicmFkaXVzIjogMjEwMDAwLjAsICJzdHJva2UiOiB0cnVlLCAid2VpZ2h0IjogM30KICAgICAgICAgICAgKS5hZGRUbyhtYXBfZmZmMTg1NzU5NGJmNGEzYTgyNzhmMTI1MzZjY2Q2MzcpOwogICAgICAgIAogICAgCiAgICAgICAgICAgIGNpcmNsZV80N2Q5NDZiMGNkOTg0YmI5ODE4YmNlMmI3YjkzYjc1MC5iaW5kVG9vbHRpcCgKICAgICAgICAgICAgICAgIGA8ZGl2PgogICAgICAgICAgICAgICAgICAgICA8ZGl2IHN0eWxlPSdtYXJnaW46IDA7IGJhY2tncm91bmQtY29sb3I6IGJsYWNrOyBjb2xvcjogd2hpdGU7Jz48aDQgc3R5bGU9J3RleHQtYWxpZ246Y2VudGVyO2ZvbnQtd2VpZ2h0OiBib2xkJz5DaGluYTwvaDQ+PGhyIHN0eWxlPSdtYXJnaW46MTBweDtjb2xvcjogd2hpdGU7Jz48dWwgc3R5bGU9J2NvbG9yOiB3aGl0ZTs7bGlzdC1zdHlsZS10eXBlOmNpcmNsZTthbGlnbi1pdGVtOmxlZnQ7cGFkZGluZy1sZWZ0OjIwcHg7cGFkZGluZy1yaWdodDoyMHB4Jz48bGk+Q29uZmlybWVkOiAxNDY8L2xpPjxsaT5EZWF0aHM6ICAgMjwvbGk+PGxpPkRlYXRoIFJhdGU6IDEuMzY8L2xpPjwvdWw+PC9kaXY+CiAgICAgICAgICAgICAgICAgPC9kaXY+YCwKICAgICAgICAgICAgICAgIHsic3RpY2t5IjogdHJ1ZX0KICAgICAgICAgICAgKTsKICAgICAgICAKICAgIAogICAgICAgICAgICB2YXIgY2lyY2xlXzUyMDM4NzIyYjZkYjRiNjc4YWExMTU3MTJmZGRlN2I3ID0gTC5jaXJjbGUoCiAgICAgICAgICAgICAgICBbMjIuMTY2NywgMTEzLjU1XSwKICAgICAgICAgICAgICAgIHsiYnViYmxpbmdNb3VzZUV2ZW50cyI6IHRydWUsICJjb2xvciI6ICJyZWQiLCAiZGFzaEFycmF5IjogbnVsbCwgImRhc2hPZmZzZXQiOiBudWxsLCAiZmlsbCI6IHRydWUsICJmaWxsQ29sb3IiOiAiaW5kaWdvIiwgImZpbGxPcGFjaXR5IjogMC4yLCAiZmlsbFJ1bGUiOiAiZXZlbm9kZCIsICJsaW5lQ2FwIjogInJvdW5kIiwgImxpbmVKb2luIjogInJvdW5kIiwgIm9wYWNpdHkiOiAxLjAsICJyYWRpdXMiOiAxNjAwMDAuMCwgInN0cm9rZSI6IHRydWUsICJ3ZWlnaHQiOiAzfQogICAgICAgICAgICApLmFkZFRvKG1hcF9mZmYxODU3NTk0YmY0YTNhODI3OGYxMjUzNmNjZDYzNyk7CiAgICAgICAgCiAgICAKICAgICAgICAgICAgY2lyY2xlXzUyMDM4NzIyYjZkYjRiNjc4YWExMTU3MTJmZGRlN2I3LmJpbmRUb29sdGlwKAogICAgICAgICAgICAgICAgYDxkaXY+CiAgICAgICAgICAgICAgICAgICAgIDxkaXYgc3R5bGU9J21hcmdpbjogMDsgYmFja2dyb3VuZC1jb2xvcjogYmxhY2s7IGNvbG9yOiB3aGl0ZTsnPjxoNCBzdHlsZT0ndGV4dC1hbGlnbjpjZW50ZXI7Zm9udC13ZWlnaHQ6IGJvbGQnPkNoaW5hPC9oND48aHIgc3R5bGU9J21hcmdpbjoxMHB4O2NvbG9yOiB3aGl0ZTsnPjx1bCBzdHlsZT0nY29sb3I6IHdoaXRlOztsaXN0LXN0eWxlLXR5cGU6Y2lyY2xlO2FsaWduLWl0ZW06bGVmdDtwYWRkaW5nLWxlZnQ6MjBweDtwYWRkaW5nLXJpZ2h0OjIwcHgnPjxsaT5Db25maXJtZWQ6IDQ1PC9saT48bGk+RGVhdGhzOiAgIDA8L2xpPjxsaT5EZWF0aCBSYXRlOiAwLjA8L2xpPjwvdWw+PC9kaXY+CiAgICAgICAgICAgICAgICAgPC9kaXY+YCwKICAgICAgICAgICAgICAgIHsic3RpY2t5IjogdHJ1ZX0KICAgICAgICAgICAgKTsKICAgICAgICAKICAgIAogICAgICAgICAgICB2YXIgY2lyY2xlXzk4OTQyMTIyMDFjOTRiZWZiMWQ5NWY3Y2FlOWQ1MWYxID0gTC5jaXJjbGUoCiAgICAgICAgICAgICAgICBbMzcuMjY5MiwgMTA2LjE2NTVdLAogICAgICAgICAgICAgICAgeyJidWJibGluZ01vdXNlRXZlbnRzIjogdHJ1ZSwgImNvbG9yIjogInJlZCIsICJkYXNoQXJyYXkiOiBudWxsLCAiZGFzaE9mZnNldCI6IG51bGwsICJmaWxsIjogdHJ1ZSwgImZpbGxDb2xvciI6ICJpbmRpZ28iLCAiZmlsbE9wYWNpdHkiOiAwLjIsICJmaWxsUnVsZSI6ICJldmVub2RkIiwgImxpbmVDYXAiOiAicm91bmQiLCAibGluZUpvaW4iOiAicm91bmQiLCAib3BhY2l0eSI6IDEuMCwgInJhZGl1cyI6IDIxMDAwMC4wLCAic3Ryb2tlIjogdHJ1ZSwgIndlaWdodCI6IDN9CiAgICAgICAgICAgICkuYWRkVG8obWFwX2ZmZjE4NTc1OTRiZjRhM2E4Mjc4ZjEyNTM2Y2NkNjM3KTsKICAgICAgICAKICAgIAogICAgICAgICAgICBjaXJjbGVfOTg5NDIxMjIwMWM5NGJlZmIxZDk1ZjdjYWU5ZDUxZjEuYmluZFRvb2x0aXAoCiAgICAgICAgICAgICAgICBgPGRpdj4KICAgICAgICAgICAgICAgICAgICAgPGRpdiBzdHlsZT0nbWFyZ2luOiAwOyBiYWNrZ3JvdW5kLWNvbG9yOiBibGFjazsgY29sb3I6IHdoaXRlOyc+PGg0IHN0eWxlPSd0ZXh0LWFsaWduOmNlbnRlcjtmb250LXdlaWdodDogYm9sZCc+Q2hpbmE8L2g0PjxociBzdHlsZT0nbWFyZ2luOjEwcHg7Y29sb3I6IHdoaXRlOyc+PHVsIHN0eWxlPSdjb2xvcjogd2hpdGU7O2xpc3Qtc3R5bGUtdHlwZTpjaXJjbGU7YWxpZ24taXRlbTpsZWZ0O3BhZGRpbmctbGVmdDoyMHB4O3BhZGRpbmctcmlnaHQ6MjBweCc+PGxpPkNvbmZpcm1lZDogNzU8L2xpPjxsaT5EZWF0aHM6ICAgMDwvbGk+PGxpPkRlYXRoIFJhdGU6IDAuMDwvbGk+PC91bD48L2Rpdj4KICAgICAgICAgICAgICAgICA8L2Rpdj5gLAogICAgICAgICAgICAgICAgeyJzdGlja3kiOiB0cnVlfQogICAgICAgICAgICApOwogICAgICAgIAogICAgCiAgICAgICAgICAgIHZhciBjaXJjbGVfMmM1MDdkNGVmZGU3NDAxNDk3YWI0YWI4MTA1YzM3NzggPSBMLmNpcmNsZSgKICAgICAgICAgICAgICAgIFszNS43NDUyLCA5NS45OTU2XSwKICAgICAgICAgICAgICAgIHsiYnViYmxpbmdNb3VzZUV2ZW50cyI6IHRydWUsICJjb2xvciI6ICJyZWQiLCAiZGFzaEFycmF5IjogbnVsbCwgImRhc2hPZmZzZXQiOiBudWxsLCAiZmlsbCI6IHRydWUsICJmaWxsQ29sb3IiOiAiaW5kaWdvIiwgImZpbGxPcGFjaXR5IjogMC4yLCAiZmlsbFJ1bGUiOiAiZXZlbm9kZCIsICJsaW5lQ2FwIjogInJvdW5kIiwgImxpbmVKb2luIjogInJvdW5kIiwgIm9wYWNpdHkiOiAxLjAsICJyYWRpdXMiOiAxMTAwMDAuMDAwMDAwMDAwMDEsICJzdHJva2UiOiB0cnVlLCAid2VpZ2h0IjogM30KICAgICAgICAgICAgKS5hZGRUbyhtYXBfZmZmMTg1NzU5NGJmNGEzYTgyNzhmMTI1MzZjY2Q2MzcpOwogICAgICAgIAogICAgCiAgICAgICAgICAgIGNpcmNsZV8yYzUwN2Q0ZWZkZTc0MDE0OTdhYjRhYjgxMDVjMzc3OC5iaW5kVG9vbHRpcCgKICAgICAgICAgICAgICAgIGA8ZGl2PgogICAgICAgICAgICAgICAgICAgICA8ZGl2IHN0eWxlPSdtYXJnaW46IDA7IGJhY2tncm91bmQtY29sb3I6IGJsYWNrOyBjb2xvcjogd2hpdGU7Jz48aDQgc3R5bGU9J3RleHQtYWxpZ246Y2VudGVyO2ZvbnQtd2VpZ2h0OiBib2xkJz5DaGluYTwvaDQ+PGhyIHN0eWxlPSdtYXJnaW46MTBweDtjb2xvcjogd2hpdGU7Jz48dWwgc3R5bGU9J2NvbG9yOiB3aGl0ZTs7bGlzdC1zdHlsZS10eXBlOmNpcmNsZTthbGlnbi1pdGVtOmxlZnQ7cGFkZGluZy1sZWZ0OjIwcHg7cGFkZGluZy1yaWdodDoyMHB4Jz48bGk+Q29uZmlybWVkOiAxODwvbGk+PGxpPkRlYXRoczogICAwPC9saT48bGk+RGVhdGggUmF0ZTogMC4wPC9saT48L3VsPjwvZGl2PgogICAgICAgICAgICAgICAgIDwvZGl2PmAsCiAgICAgICAgICAgICAgICB7InN0aWNreSI6IHRydWV9CiAgICAgICAgICAgICk7CiAgICAgICAgCiAgICAKICAgICAgICAgICAgdmFyIGNpcmNsZV81OTFhMDM3MDg0ZGM0NjI0OGQ1ZmQ1MGJmYjY1NzRiYSA9IEwuY2lyY2xlKAogICAgICAgICAgICAgICAgWzM1LjE5MTcsIDEwOC44NzAxXSwKICAgICAgICAgICAgICAgIHsiYnViYmxpbmdNb3VzZUV2ZW50cyI6IHRydWUsICJjb2xvciI6ICJyZWQiLCAiZGFzaEFycmF5IjogbnVsbCwgImRhc2hPZmZzZXQiOiBudWxsLCAiZmlsbCI6IHRydWUsICJmaWxsQ29sb3IiOiAiaW5kaWdvIiwgImZpbGxPcGFjaXR5IjogMC4yLCAiZmlsbFJ1bGUiOiAiZXZlbm9kZCIsICJsaW5lQ2FwIjogInJvdW5kIiwgImxpbmVKb2luIjogInJvdW5kIiwgIm9wYWNpdHkiOiAxLjAsICJyYWRpdXMiOiAyNjAwMDAuMCwgInN0cm9rZSI6IHRydWUsICJ3ZWlnaHQiOiAzfQogICAgICAgICAgICApLmFkZFRvKG1hcF9mZmYxODU3NTk0YmY0YTNhODI3OGYxMjUzNmNjZDYzNyk7CiAgICAgICAgCiAgICAKICAgICAgICAgICAgY2lyY2xlXzU5MWEwMzcwODRkYzQ2MjQ4ZDVmZDUwYmZiNjU3NGJhLmJpbmRUb29sdGlwKAogICAgICAgICAgICAgICAgYDxkaXY+CiAgICAgICAgICAgICAgICAgICAgIDxkaXYgc3R5bGU9J21hcmdpbjogMDsgYmFja2dyb3VuZC1jb2xvcjogYmxhY2s7IGNvbG9yOiB3aGl0ZTsnPjxoNCBzdHlsZT0ndGV4dC1hbGlnbjpjZW50ZXI7Zm9udC13ZWlnaHQ6IGJvbGQnPkNoaW5hPC9oND48aHIgc3R5bGU9J21hcmdpbjoxMHB4O2NvbG9yOiB3aGl0ZTsnPjx1bCBzdHlsZT0nY29sb3I6IHdoaXRlOztsaXN0LXN0eWxlLXR5cGU6Y2lyY2xlO2FsaWduLWl0ZW06bGVmdDtwYWRkaW5nLWxlZnQ6MjBweDtwYWRkaW5nLXJpZ2h0OjIwcHgnPjxsaT5Db25maXJtZWQ6IDMwNjwvbGk+PGxpPkRlYXRoczogICAzPC9saT48bGk+RGVhdGggUmF0ZTogMC45ODwvbGk+PC91bD48L2Rpdj4KICAgICAgICAgICAgICAgICA8L2Rpdj5gLAogICAgICAgICAgICAgICAgeyJzdGlja3kiOiB0cnVlfQogICAgICAgICAgICApOwogICAgICAgIAogICAgCiAgICAgICAgICAgIHZhciBjaXJjbGVfZDUxNDMxMDIxZDQyNDUzMGJiYjY3MzQ5ZGI3OTIwNWMgPSBMLmNpcmNsZSgKICAgICAgICAgICAgICAgIFszNi4zNDI3LCAxMTguMTQ5OF0sCiAgICAgICAgICAgICAgICB7ImJ1YmJsaW5nTW91c2VFdmVudHMiOiB0cnVlLCAiY29sb3IiOiAicmVkIiwgImRhc2hBcnJheSI6IG51bGwsICJkYXNoT2Zmc2V0IjogbnVsbCwgImZpbGwiOiB0cnVlLCAiZmlsbENvbG9yIjogImluZGlnbyIsICJmaWxsT3BhY2l0eSI6IDAuMiwgImZpbGxSdWxlIjogImV2ZW5vZGQiLCAibGluZUNhcCI6ICJyb3VuZCIsICJsaW5lSm9pbiI6ICJyb3VuZCIsICJvcGFjaXR5IjogMS4wLCAicmFkaXVzIjogMzEwMDAwLjAsICJzdHJva2UiOiB0cnVlLCAid2VpZ2h0IjogM30KICAgICAgICAgICAgKS5hZGRUbyhtYXBfZmZmMTg1NzU5NGJmNGEzYTgyNzhmMTI1MzZjY2Q2MzcpOwogICAgICAgIAogICAgCiAgICAgICAgICAgIGNpcmNsZV9kNTE0MzEwMjFkNDI0NTMwYmJiNjczNDlkYjc5MjA1Yy5iaW5kVG9vbHRpcCgKICAgICAgICAgICAgICAgIGA8ZGl2PgogICAgICAgICAgICAgICAgICAgICA8ZGl2IHN0eWxlPSdtYXJnaW46IDA7IGJhY2tncm91bmQtY29sb3I6IGJsYWNrOyBjb2xvcjogd2hpdGU7Jz48aDQgc3R5bGU9J3RleHQtYWxpZ246Y2VudGVyO2ZvbnQtd2VpZ2h0OiBib2xkJz5DaGluYTwvaDQ+PGhyIHN0eWxlPSdtYXJnaW46MTBweDtjb2xvcjogd2hpdGU7Jz48dWwgc3R5bGU9J2NvbG9yOiB3aGl0ZTs7bGlzdC1zdHlsZS10eXBlOmNpcmNsZTthbGlnbi1pdGVtOmxlZnQ7cGFkZGluZy1sZWZ0OjIwcHg7cGFkZGluZy1yaWdodDoyMHB4Jz48bGk+Q29uZmlybWVkOiA3ODc8L2xpPjxsaT5EZWF0aHM6ICAgNzwvbGk+PGxpPkRlYXRoIFJhdGU6IDAuODk8L2xpPjwvdWw+PC9kaXY+CiAgICAgICAgICAgICAgICAgPC9kaXY+YCwKICAgICAgICAgICAgICAgIHsic3RpY2t5IjogdHJ1ZX0KICAgICAgICAgICAgKTsKICAgICAgICAKICAgIAogICAgICAgICAgICB2YXIgY2lyY2xlXzZhMGYwZGZiMWMwZjRlYTVhZGJmZGRhZjg5ZWVlOTI0ID0gTC5jaXJjbGUoCiAgICAgICAgICAgICAgICBbMzEuMjAxOTk5OTk5OTk5OTk4LCAxMjEuNDQ5MV0sCiAgICAgICAgICAgICAgICB7ImJ1YmJsaW5nTW91c2VFdmVudHMiOiB0cnVlLCAiY29sb3IiOiAicmVkIiwgImRhc2hBcnJheSI6IG51bGwsICJkYXNoT2Zmc2V0IjogbnVsbCwgImZpbGwiOiB0cnVlLCAiZmlsbENvbG9yIjogImluZGlnbyIsICJmaWxsT3BhY2l0eSI6IDAuMiwgImZpbGxSdWxlIjogImV2ZW5vZGQiLCAibGluZUNhcCI6ICJyb3VuZCIsICJsaW5lSm9pbiI6ICJyb3VuZCIsICJvcGFjaXR5IjogMS4wLCAicmFkaXVzIjogMzEwMDAwLjAsICJzdHJva2UiOiB0cnVlLCAid2VpZ2h0IjogM30KICAgICAgICAgICAgKS5hZGRUbyhtYXBfZmZmMTg1NzU5NGJmNGEzYTgyNzhmMTI1MzZjY2Q2MzcpOwogICAgICAgIAogICAgCiAgICAgICAgICAgIGNpcmNsZV82YTBmMGRmYjFjMGY0ZWE1YWRiZmRkYWY4OWVlZTkyNC5iaW5kVG9vbHRpcCgKICAgICAgICAgICAgICAgIGA8ZGl2PgogICAgICAgICAgICAgICAgICAgICA8ZGl2IHN0eWxlPSdtYXJnaW46IDA7IGJhY2tncm91bmQtY29sb3I6IGJsYWNrOyBjb2xvcjogd2hpdGU7Jz48aDQgc3R5bGU9J3RleHQtYWxpZ246Y2VudGVyO2ZvbnQtd2VpZ2h0OiBib2xkJz5DaGluYTwvaDQ+PGhyIHN0eWxlPSdtYXJnaW46MTBweDtjb2xvcjogd2hpdGU7Jz48dWwgc3R5bGU9J2NvbG9yOiB3aGl0ZTs7bGlzdC1zdHlsZS10eXBlOmNpcmNsZTthbGlnbi1pdGVtOmxlZnQ7cGFkZGluZy1sZWZ0OjIwcHg7cGFkZGluZy1yaWdodDoyMHB4Jz48bGk+Q29uZmlybWVkOiA2NTI8L2xpPjxsaT5EZWF0aHM6ICAgNzwvbGk+PGxpPkRlYXRoIFJhdGU6IDEuMDc8L2xpPjwvdWw+PC9kaXY+CiAgICAgICAgICAgICAgICAgPC9kaXY+YCwKICAgICAgICAgICAgICAgIHsic3RpY2t5IjogdHJ1ZX0KICAgICAgICAgICAgKTsKICAgICAgICAKICAgIAogICAgICAgICAgICB2YXIgY2lyY2xlXzBmZThiOTliZjMwZjQwNTZhZjE3YmUwYjJhM2UwYmNkID0gTC5jaXJjbGUoCiAgICAgICAgICAgICAgICBbMzcuNTc3NywgMTEyLjI5MjJdLAogICAgICAgICAgICAgICAgeyJidWJibGluZ01vdXNlRXZlbnRzIjogdHJ1ZSwgImNvbG9yIjogInJlZCIsICJkYXNoQXJyYXkiOiBudWxsLCAiZGFzaE9mZnNldCI6IG51bGwsICJmaWxsIjogdHJ1ZSwgImZpbGxDb2xvciI6ICJpbmRpZ28iLCAiZmlsbE9wYWNpdHkiOiAwLjIsICJmaWxsUnVsZSI6ICJldmVub2RkIiwgImxpbmVDYXAiOiAicm91bmQiLCAibGluZUpvaW4iOiAicm91bmQiLCAib3BhY2l0eSI6IDEuMCwgInJhZGl1cyI6IDI2MDAwMC4wLCAic3Ryb2tlIjogdHJ1ZSwgIndlaWdodCI6IDN9CiAgICAgICAgICAgICkuYWRkVG8obWFwX2ZmZjE4NTc1OTRiZjRhM2E4Mjc4ZjEyNTM2Y2NkNjM3KTsKICAgICAgICAKICAgIAogICAgICAgICAgICBjaXJjbGVfMGZlOGI5OWJmMzBmNDA1NmFmMTdiZTBiMmEzZTBiY2QuYmluZFRvb2x0aXAoCiAgICAgICAgICAgICAgICBgPGRpdj4KICAgICAgICAgICAgICAgICAgICAgPGRpdiBzdHlsZT0nbWFyZ2luOiAwOyBiYWNrZ3JvdW5kLWNvbG9yOiBibGFjazsgY29sb3I6IHdoaXRlOyc+PGg0IHN0eWxlPSd0ZXh0LWFsaWduOmNlbnRlcjtmb250LXdlaWdodDogYm9sZCc+Q2hpbmE8L2g0PjxociBzdHlsZT0nbWFyZ2luOjEwcHg7Y29sb3I6IHdoaXRlOyc+PHVsIHN0eWxlPSdjb2xvcjogd2hpdGU7O2xpc3Qtc3R5bGUtdHlwZTpjaXJjbGU7YWxpZ24taXRlbTpsZWZ0O3BhZGRpbmctbGVmdDoyMHB4O3BhZGRpbmctcmlnaHQ6MjBweCc+PGxpPkNvbmZpcm1lZDogMTk3PC9saT48bGk+RGVhdGhzOiAgIDA8L2xpPjxsaT5EZWF0aCBSYXRlOiAwLjA8L2xpPjwvdWw+PC9kaXY+CiAgICAgICAgICAgICAgICAgPC9kaXY+YCwKICAgICAgICAgICAgICAgIHsic3RpY2t5IjogdHJ1ZX0KICAgICAgICAgICAgKTsKICAgICAgICAKICAgIAogICAgICAgICAgICB2YXIgY2lyY2xlXzYyMzI4M2U5NjU1ZjRiYWNiNzgzZTFjNDgzZDM3OWZhID0gTC5jaXJjbGUoCiAgICAgICAgICAgICAgICBbMzAuNjE3MSwgMTAyLjcxMDNdLAogICAgICAgICAgICAgICAgeyJidWJibGluZ01vdXNlRXZlbnRzIjogdHJ1ZSwgImNvbG9yIjogInJlZCIsICJkYXNoQXJyYXkiOiBudWxsLCAiZGFzaE9mZnNldCI6IG51bGwsICJmaWxsIjogdHJ1ZSwgImZpbGxDb2xvciI6ICJpbmRpZ28iLCAiZmlsbE9wYWNpdHkiOiAwLjIsICJmaWxsUnVsZSI6ICJldmVub2RkIiwgImxpbmVDYXAiOiAicm91bmQiLCAibGluZUpvaW4iOiAicm91bmQiLCAib3BhY2l0eSI6IDEuMCwgInJhZGl1cyI6IDMxMDAwMC4wLCAic3Ryb2tlIjogdHJ1ZSwgIndlaWdodCI6IDN9CiAgICAgICAgICAgICkuYWRkVG8obWFwX2ZmZjE4NTc1OTRiZjRhM2E4Mjc4ZjEyNTM2Y2NkNjM3KTsKICAgICAgICAKICAgIAogICAgICAgICAgICBjaXJjbGVfNjIzMjgzZTk2NTVmNGJhY2I3ODNlMWM0ODNkMzc5ZmEuYmluZFRvb2x0aXAoCiAgICAgICAgICAgICAgICBgPGRpdj4KICAgICAgICAgICAgICAgICAgICAgPGRpdiBzdHlsZT0nbWFyZ2luOiAwOyBiYWNrZ3JvdW5kLWNvbG9yOiBibGFjazsgY29sb3I6IHdoaXRlOyc+PGg0IHN0eWxlPSd0ZXh0LWFsaWduOmNlbnRlcjtmb250LXdlaWdodDogYm9sZCc+Q2hpbmE8L2g0PjxociBzdHlsZT0nbWFyZ2luOjEwcHg7Y29sb3I6IHdoaXRlOyc+PHVsIHN0eWxlPSdjb2xvcjogd2hpdGU7O2xpc3Qtc3R5bGUtdHlwZTpjaXJjbGU7YWxpZ24taXRlbTpsZWZ0O3BhZGRpbmctbGVmdDoyMHB4O3BhZGRpbmctcmlnaHQ6MjBweCc+PGxpPkNvbmZpcm1lZDogNTYxPC9saT48bGk+RGVhdGhzOiAgIDM8L2xpPjxsaT5EZWF0aCBSYXRlOiAwLjUzPC9saT48L3VsPjwvZGl2PgogICAgICAgICAgICAgICAgIDwvZGl2PmAsCiAgICAgICAgICAgICAgICB7InN0aWNreSI6IHRydWV9CiAgICAgICAgICAgICk7CiAgICAgICAgCiAgICAKICAgICAgICAgICAgdmFyIGNpcmNsZV9kNmZiZDhlM2I0ZjQ0Nzg0YTIxOWNmY2NlM2QyNGFjYiA9IEwuY2lyY2xlKAogICAgICAgICAgICAgICAgWzM5LjMwNTQsIDExNy4zMjNdLAogICAgICAgICAgICAgICAgeyJidWJibGluZ01vdXNlRXZlbnRzIjogdHJ1ZSwgImNvbG9yIjogInJlZCIsICJkYXNoQXJyYXkiOiBudWxsLCAiZGFzaE9mZnNldCI6IG51bGwsICJmaWxsIjogdHJ1ZSwgImZpbGxDb2xvciI6ICJpbmRpZ28iLCAiZmlsbE9wYWNpdHkiOiAwLjIsICJmaWxsUnVsZSI6ICJldmVub2RkIiwgImxpbmVDYXAiOiAicm91bmQiLCAibGluZUpvaW4iOiAicm91bmQiLCAib3BhY2l0eSI6IDEuMCwgInJhZGl1cyI6IDI2MDAwMC4wLCAic3Ryb2tlIjogdHJ1ZSwgIndlaWdodCI6IDN9CiAgICAgICAgICAgICkuYWRkVG8obWFwX2ZmZjE4NTc1OTRiZjRhM2E4Mjc4ZjEyNTM2Y2NkNjM3KTsKICAgICAgICAKICAgIAogICAgICAgICAgICBjaXJjbGVfZDZmYmQ4ZTNiNGY0NDc4NGEyMTljZmNjZTNkMjRhY2IuYmluZFRvb2x0aXAoCiAgICAgICAgICAgICAgICBgPGRpdj4KICAgICAgICAgICAgICAgICAgICAgPGRpdiBzdHlsZT0nbWFyZ2luOiAwOyBiYWNrZ3JvdW5kLWNvbG9yOiBibGFjazsgY29sb3I6IHdoaXRlOyc+PGg0IHN0eWxlPSd0ZXh0LWFsaWduOmNlbnRlcjtmb250LXdlaWdodDogYm9sZCc+Q2hpbmE8L2g0PjxociBzdHlsZT0nbWFyZ2luOjEwcHg7Y29sb3I6IHdoaXRlOyc+PHVsIHN0eWxlPSdjb2xvcjogd2hpdGU7O2xpc3Qtc3R5bGUtdHlwZTpjaXJjbGU7YWxpZ24taXRlbTpsZWZ0O3BhZGRpbmctbGVmdDoyMHB4O3BhZGRpbmctcmlnaHQ6MjBweCc+PGxpPkNvbmZpcm1lZDogMTkwPC9saT48bGk+RGVhdGhzOiAgIDM8L2xpPjxsaT5EZWF0aCBSYXRlOiAxLjU3PC9saT48L3VsPjwvZGl2PgogICAgICAgICAgICAgICAgIDwvZGl2PmAsCiAgICAgICAgICAgICAgICB7InN0aWNreSI6IHRydWV9CiAgICAgICAgICAgICk7CiAgICAgICAgCiAgICAKICAgICAgICAgICAgdmFyIGNpcmNsZV81MTczZTMxZTkzZmM0N2E0YWM0ZWNmZjRjZWU5OGQxMSA9IEwuY2lyY2xlKAogICAgICAgICAgICAgICAgWzMxLjY5MjcsIDg4LjA5MjRdLAogICAgICAgICAgICAgICAgeyJidWJibGluZ01vdXNlRXZlbnRzIjogdHJ1ZSwgImNvbG9yIjogInJlZCIsICJkYXNoQXJyYXkiOiBudWxsLCAiZGFzaE9mZnNldCI6IG51bGwsICJmaWxsIjogdHJ1ZSwgImZpbGxDb2xvciI6ICJpbmRpZ28iLCAiZmlsbE9wYWNpdHkiOiAwLjIsICJmaWxsUnVsZSI6ICJldmVub2RkIiwgImxpbmVDYXAiOiAicm91bmQiLCAibGluZUpvaW4iOiAicm91bmQiLCAib3BhY2l0eSI6IDEuMCwgInJhZGl1cyI6IDEwMDAwLjAsICJzdHJva2UiOiB0cnVlLCAid2VpZ2h0IjogM30KICAgICAgICAgICAgKS5hZGRUbyhtYXBfZmZmMTg1NzU5NGJmNGEzYTgyNzhmMTI1MzZjY2Q2MzcpOwogICAgICAgIAogICAgCiAgICAgICAgICAgIGNpcmNsZV81MTczZTMxZTkzZmM0N2E0YWM0ZWNmZjRjZWU5OGQxMS5iaW5kVG9vbHRpcCgKICAgICAgICAgICAgICAgIGA8ZGl2PgogICAgICAgICAgICAgICAgICAgICA8ZGl2IHN0eWxlPSdtYXJnaW46IDA7IGJhY2tncm91bmQtY29sb3I6IGJsYWNrOyBjb2xvcjogd2hpdGU7Jz48aDQgc3R5bGU9J3RleHQtYWxpZ246Y2VudGVyO2ZvbnQtd2VpZ2h0OiBib2xkJz5DaGluYTwvaDQ+PGhyIHN0eWxlPSdtYXJnaW46MTBweDtjb2xvcjogd2hpdGU7Jz48dWwgc3R5bGU9J2NvbG9yOiB3aGl0ZTs7bGlzdC1zdHlsZS10eXBlOmNpcmNsZTthbGlnbi1pdGVtOmxlZnQ7cGFkZGluZy1sZWZ0OjIwcHg7cGFkZGluZy1yaWdodDoyMHB4Jz48bGk+Q29uZmlybWVkOiAxPC9saT48bGk+RGVhdGhzOiAgIDA8L2xpPjxsaT5EZWF0aCBSYXRlOiAwLjA8L2xpPjwvdWw+PC9kaXY+CiAgICAgICAgICAgICAgICAgPC9kaXY+YCwKICAgICAgICAgICAgICAgIHsic3RpY2t5IjogdHJ1ZX0KICAgICAgICAgICAgKTsKICAgICAgICAKICAgIAogICAgICAgICAgICB2YXIgY2lyY2xlXzk1NmUxNjg3YzE0NzQ3MjA4ODRkN2JhZWUyOTA3NGNjID0gTC5jaXJjbGUoCiAgICAgICAgICAgICAgICBbNDEuMTEyOSwgODUuMjQwMV0sCiAgICAgICAgICAgICAgICB7ImJ1YmJsaW5nTW91c2VFdmVudHMiOiB0cnVlLCAiY29sb3IiOiAicmVkIiwgImRhc2hBcnJheSI6IG51bGwsICJkYXNoT2Zmc2V0IjogbnVsbCwgImZpbGwiOiB0cnVlLCAiZmlsbENvbG9yIjogImluZGlnbyIsICJmaWxsT3BhY2l0eSI6IDAuMiwgImZpbGxSdWxlIjogImV2ZW5vZGQiLCAibGluZUNhcCI6ICJyb3VuZCIsICJsaW5lSm9pbiI6ICJyb3VuZCIsICJvcGFjaXR5IjogMS4wLCAicmFkaXVzIjogMjEwMDAwLjAsICJzdHJva2UiOiB0cnVlLCAid2VpZ2h0IjogM30KICAgICAgICAgICAgKS5hZGRUbyhtYXBfZmZmMTg1NzU5NGJmNGEzYTgyNzhmMTI1MzZjY2Q2MzcpOwogICAgICAgIAogICAgCiAgICAgICAgICAgIGNpcmNsZV85NTZlMTY4N2MxNDc0NzIwODg0ZDdiYWVlMjkwNzRjYy5iaW5kVG9vbHRpcCgKICAgICAgICAgICAgICAgIGA8ZGl2PgogICAgICAgICAgICAgICAgICAgICA8ZGl2IHN0eWxlPSdtYXJnaW46IDA7IGJhY2tncm91bmQtY29sb3I6IGJsYWNrOyBjb2xvcjogd2hpdGU7Jz48aDQgc3R5bGU9J3RleHQtYWxpZ246Y2VudGVyO2ZvbnQtd2VpZ2h0OiBib2xkJz5DaGluYTwvaDQ+PGhyIHN0eWxlPSdtYXJnaW46MTBweDtjb2xvcjogd2hpdGU7Jz48dWwgc3R5bGU9J2NvbG9yOiB3aGl0ZTs7bGlzdC1zdHlsZS10eXBlOmNpcmNsZTthbGlnbi1pdGVtOmxlZnQ7cGFkZGluZy1sZWZ0OjIwcHg7cGFkZGluZy1yaWdodDoyMHB4Jz48bGk+Q29uZmlybWVkOiA3NjwvbGk+PGxpPkRlYXRoczogICAzPC9saT48bGk+RGVhdGggUmF0ZTogMy45PC9saT48L3VsPjwvZGl2PgogICAgICAgICAgICAgICAgIDwvZGl2PmAsCiAgICAgICAgICAgICAgICB7InN0aWNreSI6IHRydWV9CiAgICAgICAgICAgICk7CiAgICAgICAgCiAgICAKICAgICAgICAgICAgdmFyIGNpcmNsZV9mYWI2YzY2ZjdmMTE0NmIzYTgyNTk3Mzc1ZDIyZTNhOSA9IEwuY2lyY2xlKAogICAgICAgICAgICAgICAgWzI0Ljk3NCwgMTAxLjQ4NzAwMDAwMDAwMDAxXSwKICAgICAgICAgICAgICAgIHsiYnViYmxpbmdNb3VzZUV2ZW50cyI6IHRydWUsICJjb2xvciI6ICJyZWQiLCAiZGFzaEFycmF5IjogbnVsbCwgImRhc2hPZmZzZXQiOiBudWxsLCAiZmlsbCI6IHRydWUsICJmaWxsQ29sb3IiOiAiaW5kaWdvIiwgImZpbGxPcGFjaXR5IjogMC4yLCAiZmlsbFJ1bGUiOiAiZXZlbm9kZCIsICJsaW5lQ2FwIjogInJvdW5kIiwgImxpbmVKb2luIjogInJvdW5kIiwgIm9wYWNpdHkiOiAxLjAsICJyYWRpdXMiOiAyNjAwMDAuMCwgInN0cm9rZSI6IHRydWUsICJ3ZWlnaHQiOiAzfQogICAgICAgICAgICApLmFkZFRvKG1hcF9mZmYxODU3NTk0YmY0YTNhODI3OGYxMjUzNmNjZDYzNyk7CiAgICAgICAgCiAgICAKICAgICAgICAgICAgY2lyY2xlX2ZhYjZjNjZmN2YxMTQ2YjNhODI1OTczNzVkMjJlM2E5LmJpbmRUb29sdGlwKAogICAgICAgICAgICAgICAgYDxkaXY+CiAgICAgICAgICAgICAgICAgICAgIDxkaXYgc3R5bGU9J21hcmdpbjogMDsgYmFja2dyb3VuZC1jb2xvcjogYmxhY2s7IGNvbG9yOiB3aGl0ZTsnPjxoNCBzdHlsZT0ndGV4dC1hbGlnbjpjZW50ZXI7Zm9udC13ZWlnaHQ6IGJvbGQnPkNoaW5hPC9oND48aHIgc3R5bGU9J21hcmdpbjoxMHB4O2NvbG9yOiB3aGl0ZTsnPjx1bCBzdHlsZT0nY29sb3I6IHdoaXRlOztsaXN0LXN0eWxlLXR5cGU6Y2lyY2xlO2FsaWduLWl0ZW06bGVmdDtwYWRkaW5nLWxlZnQ6MjBweDtwYWRkaW5nLXJpZ2h0OjIwcHgnPjxsaT5Db25maXJtZWQ6IDE4NTwvbGk+PGxpPkRlYXRoczogICAyPC9saT48bGk+RGVhdGggUmF0ZTogMS4wODwvbGk+PC91bD48L2Rpdj4KICAgICAgICAgICAgICAgICA8L2Rpdj5gLAogICAgICAgICAgICAgICAgeyJzdGlja3kiOiB0cnVlfQogICAgICAgICAgICApOwogICAgICAgIAogICAgCiAgICAgICAgICAgIHZhciBjaXJjbGVfZDk3MGJhOWU5YTYyNGIyYjllMDY3ZWJhYThlYWRjNWUgPSBMLmNpcmNsZSgKICAgICAgICAgICAgICAgIFsyOS4xODMyLCAxMjAuMDkzNF0sCiAgICAgICAgICAgICAgICB7ImJ1YmJsaW5nTW91c2VFdmVudHMiOiB0cnVlLCAiY29sb3IiOiAicmVkIiwgImRhc2hBcnJheSI6IG51bGwsICJkYXNoT2Zmc2V0IjogbnVsbCwgImZpbGwiOiB0cnVlLCAiZmlsbENvbG9yIjogImluZGlnbyIsICJmaWxsT3BhY2l0eSI6IDAuMiwgImZpbGxSdWxlIjogImV2ZW5vZGQiLCAibGluZUNhcCI6ICJyb3VuZCIsICJsaW5lSm9pbiI6ICJyb3VuZCIsICJvcGFjaXR5IjogMS4wLCAicmFkaXVzIjogMzYwMDAwLjAsICJzdHJva2UiOiB0cnVlLCAid2VpZ2h0IjogM30KICAgICAgICAgICAgKS5hZGRUbyhtYXBfZmZmMTg1NzU5NGJmNGEzYTgyNzhmMTI1MzZjY2Q2MzcpOwogICAgICAgIAogICAgCiAgICAgICAgICAgIGNpcmNsZV9kOTcwYmE5ZTlhNjI0YjJiOWUwNjdlYmFhOGVhZGM1ZS5iaW5kVG9vbHRpcCgKICAgICAgICAgICAgICAgIGA8ZGl2PgogICAgICAgICAgICAgICAgICAgICA8ZGl2IHN0eWxlPSdtYXJnaW46IDA7IGJhY2tncm91bmQtY29sb3I6IGJsYWNrOyBjb2xvcjogd2hpdGU7Jz48aDQgc3R5bGU9J3RleHQtYWxpZ246Y2VudGVyO2ZvbnQtd2VpZ2h0OiBib2xkJz5DaGluYTwvaDQ+PGhyIHN0eWxlPSdtYXJnaW46MTBweDtjb2xvcjogd2hpdGU7Jz48dWwgc3R5bGU9J2NvbG9yOiB3aGl0ZTs7bGlzdC1zdHlsZS10eXBlOmNpcmNsZTthbGlnbi1pdGVtOmxlZnQ7cGFkZGluZy1sZWZ0OjIwcHg7cGFkZGluZy1yaWdodDoyMHB4Jz48bGk+Q29uZmlybWVkOiAxMjY4PC9saT48bGk+RGVhdGhzOiAgIDE8L2xpPjxsaT5EZWF0aCBSYXRlOiAwLjA4PC9saT48L3VsPjwvZGl2PgogICAgICAgICAgICAgICAgIDwvZGl2PmAsCiAgICAgICAgICAgICAgICB7InN0aWNreSI6IHRydWV9CiAgICAgICAgICAgICk7CiAgICAgICAgCiAgICAKICAgICAgICAgICAgdmFyIGNpcmNsZV8yMjc4ZDQ5NTNhYTE0M2QyOWVkODM5ZDZkOGJiYWE4MSA9IEwuY2lyY2xlKAogICAgICAgICAgICAgICAgWzQuNTcwOSwgLTc0LjI5NzNdLAogICAgICAgICAgICAgICAgeyJidWJibGluZ01vdXNlRXZlbnRzIjogdHJ1ZSwgImNvbG9yIjogInJlZCIsICJkYXNoQXJyYXkiOiBudWxsLCAiZGFzaE9mZnNldCI6IG51bGwsICJmaWxsIjogdHJ1ZSwgImZpbGxDb2xvciI6ICJpbmRpZ28iLCAiZmlsbE9wYWNpdHkiOiAwLjIsICJmaWxsUnVsZSI6ICJldmVub2RkIiwgImxpbmVDYXAiOiAicm91bmQiLCAibGluZUpvaW4iOiAicm91bmQiLCAib3BhY2l0eSI6IDEuMCwgInJhZGl1cyI6IDQwOTk5OS45OTk5OTk5OTk5NCwgInN0cm9rZSI6IHRydWUsICJ3ZWlnaHQiOiAzfQogICAgICAgICAgICApLmFkZFRvKG1hcF9mZmYxODU3NTk0YmY0YTNhODI3OGYxMjUzNmNjZDYzNyk7CiAgICAgICAgCiAgICAKICAgICAgICAgICAgY2lyY2xlXzIyNzhkNDk1M2FhMTQzZDI5ZWQ4MzlkNmQ4YmJhYTgxLmJpbmRUb29sdGlwKAogICAgICAgICAgICAgICAgYDxkaXY+CiAgICAgICAgICAgICAgICAgICAgIDxkaXYgc3R5bGU9J21hcmdpbjogMDsgYmFja2dyb3VuZC1jb2xvcjogYmxhY2s7IGNvbG9yOiB3aGl0ZTsnPjxoNCBzdHlsZT0ndGV4dC1hbGlnbjpjZW50ZXI7Zm9udC13ZWlnaHQ6IGJvbGQnPkNvbG9tYmlhPC9oND48aHIgc3R5bGU9J21hcmdpbjoxMHB4O2NvbG9yOiB3aGl0ZTsnPjx1bCBzdHlsZT0nY29sb3I6IHdoaXRlOztsaXN0LXN0eWxlLXR5cGU6Y2lyY2xlO2FsaWduLWl0ZW06bGVmdDtwYWRkaW5nLWxlZnQ6MjBweDtwYWRkaW5nLXJpZ2h0OjIwcHgnPjxsaT5Db25maXJtZWQ6IDcwMDY8L2xpPjxsaT5EZWF0aHM6ICAgMzE0PC9saT48bGk+RGVhdGggUmF0ZTogNC40ODwvbGk+PC91bD48L2Rpdj4KICAgICAgICAgICAgICAgICA8L2Rpdj5gLAogICAgICAgICAgICAgICAgeyJzdGlja3kiOiB0cnVlfQogICAgICAgICAgICApOwogICAgICAgIAogICAgCiAgICAgICAgICAgIHZhciBjaXJjbGVfOWZlYzZlYjZkOGYzNDBjNDg0Zjg5YTI5NjgxMGZkNzkgPSBMLmNpcmNsZSgKICAgICAgICAgICAgICAgIFstNC4wMzgzLCAyMS43NTg3XSwKICAgICAgICAgICAgICAgIHsiYnViYmxpbmdNb3VzZUV2ZW50cyI6IHRydWUsICJjb2xvciI6ICJyZWQiLCAiZGFzaEFycmF5IjogbnVsbCwgImRhc2hPZmZzZXQiOiBudWxsLCAiZmlsbCI6IHRydWUsICJmaWxsQ29sb3IiOiAiaW5kaWdvIiwgImZpbGxPcGFjaXR5IjogMC4yLCAiZmlsbFJ1bGUiOiAiZXZlbm9kZCIsICJsaW5lQ2FwIjogInJvdW5kIiwgImxpbmVKb2luIjogInJvdW5kIiwgIm9wYWNpdHkiOiAxLjAsICJyYWRpdXMiOiAyNjAwMDAuMCwgInN0cm9rZSI6IHRydWUsICJ3ZWlnaHQiOiAzfQogICAgICAgICAgICApLmFkZFRvKG1hcF9mZmYxODU3NTk0YmY0YTNhODI3OGYxMjUzNmNjZDYzNyk7CiAgICAgICAgCiAgICAKICAgICAgICAgICAgY2lyY2xlXzlmZWM2ZWI2ZDhmMzQwYzQ4NGY4OWEyOTY4MTBmZDc5LmJpbmRUb29sdGlwKAogICAgICAgICAgICAgICAgYDxkaXY+CiAgICAgICAgICAgICAgICAgICAgIDxkaXYgc3R5bGU9J21hcmdpbjogMDsgYmFja2dyb3VuZC1jb2xvcjogYmxhY2s7IGNvbG9yOiB3aGl0ZTsnPjxoNCBzdHlsZT0ndGV4dC1hbGlnbjpjZW50ZXI7Zm9udC13ZWlnaHQ6IGJvbGQnPkNvbmdvIChCcmF6emF2aWxsZSk8L2g0PjxociBzdHlsZT0nbWFyZ2luOjEwcHg7Y29sb3I6IHdoaXRlOyc+PHVsIHN0eWxlPSdjb2xvcjogd2hpdGU7O2xpc3Qtc3R5bGUtdHlwZTpjaXJjbGU7YWxpZ24taXRlbTpsZWZ0O3BhZGRpbmctbGVmdDoyMHB4O3BhZGRpbmctcmlnaHQ6MjBweCc+PGxpPkNvbmZpcm1lZDogMjI5PC9saT48bGk+RGVhdGhzOiAgIDk8L2xpPjxsaT5EZWF0aCBSYXRlOiAzLjkxPC9saT48L3VsPjwvZGl2PgogICAgICAgICAgICAgICAgIDwvZGl2PmAsCiAgICAgICAgICAgICAgICB7InN0aWNreSI6IHRydWV9CiAgICAgICAgICAgICk7CiAgICAgICAgCiAgICAKICAgICAgICAgICAgdmFyIGNpcmNsZV9jZDBjNTcyN2Y5Yjc0NDhkYmU3ZDk3OGY2Y2ZhNDNkYiA9IEwuY2lyY2xlKAogICAgICAgICAgICAgICAgWy00LjAzODMsIDIxLjc1ODddLAogICAgICAgICAgICAgICAgeyJidWJibGluZ01vdXNlRXZlbnRzIjogdHJ1ZSwgImNvbG9yIjogInJlZCIsICJkYXNoQXJyYXkiOiBudWxsLCAiZGFzaE9mZnNldCI6IG51bGwsICJmaWxsIjogdHJ1ZSwgImZpbGxDb2xvciI6ICJpbmRpZ28iLCAiZmlsbE9wYWNpdHkiOiAwLjIsICJmaWxsUnVsZSI6ICJldmVub2RkIiwgImxpbmVDYXAiOiAicm91bmQiLCAibGluZUpvaW4iOiAicm91bmQiLCAib3BhY2l0eSI6IDEuMCwgInJhZGl1cyI6IDMxMDAwMC4wLCAic3Ryb2tlIjogdHJ1ZSwgIndlaWdodCI6IDN9CiAgICAgICAgICAgICkuYWRkVG8obWFwX2ZmZjE4NTc1OTRiZjRhM2E4Mjc4ZjEyNTM2Y2NkNjM3KTsKICAgICAgICAKICAgIAogICAgICAgICAgICBjaXJjbGVfY2QwYzU3MjdmOWI3NDQ4ZGJlN2Q5NzhmNmNmYTQzZGIuYmluZFRvb2x0aXAoCiAgICAgICAgICAgICAgICBgPGRpdj4KICAgICAgICAgICAgICAgICAgICAgPGRpdiBzdHlsZT0nbWFyZ2luOiAwOyBiYWNrZ3JvdW5kLWNvbG9yOiBibGFjazsgY29sb3I6IHdoaXRlOyc+PGg0IHN0eWxlPSd0ZXh0LWFsaWduOmNlbnRlcjtmb250LXdlaWdodDogYm9sZCc+Q29uZ28gKEtpbnNoYXNhKTwvaDQ+PGhyIHN0eWxlPSdtYXJnaW46MTBweDtjb2xvcjogd2hpdGU7Jz48dWwgc3R5bGU9J2NvbG9yOiB3aGl0ZTs7bGlzdC1zdHlsZS10eXBlOmNpcmNsZTthbGlnbi1pdGVtOmxlZnQ7cGFkZGluZy1sZWZ0OjIwcHg7cGFkZGluZy1yaWdodDoyMHB4Jz48bGk+Q29uZmlybWVkOiA2MDQ8L2xpPjxsaT5EZWF0aHM6ICAgMzI8L2xpPjxsaT5EZWF0aCBSYXRlOiA1LjI5PC9saT48L3VsPjwvZGl2PgogICAgICAgICAgICAgICAgIDwvZGl2PmAsCiAgICAgICAgICAgICAgICB7InN0aWNreSI6IHRydWV9CiAgICAgICAgICAgICk7CiAgICAgICAgCiAgICAKICAgICAgICAgICAgdmFyIGNpcmNsZV82OWFhZWVkM2IzYjU0YmQzOGU2ZDQ2MDZjM2M4ZGI5MCA9IEwuY2lyY2xlKAogICAgICAgICAgICAgICAgWzkuNzQ4OSwgLTgzLjc1MzRdLAogICAgICAgICAgICAgICAgeyJidWJibGluZ01vdXNlRXZlbnRzIjogdHJ1ZSwgImNvbG9yIjogInJlZCIsICJkYXNoQXJyYXkiOiBudWxsLCAiZGFzaE9mZnNldCI6IG51bGwsICJmaWxsIjogdHJ1ZSwgImZpbGxDb2xvciI6ICJpbmRpZ28iLCAiZmlsbE9wYWNpdHkiOiAwLjIsICJmaWxsUnVsZSI6ICJldmVub2RkIiwgImxpbmVDYXAiOiAicm91bmQiLCAibGluZUpvaW4iOiAicm91bmQiLCAib3BhY2l0eSI6IDEuMCwgInJhZGl1cyI6IDMxMDAwMC4wLCAic3Ryb2tlIjogdHJ1ZSwgIndlaWdodCI6IDN9CiAgICAgICAgICAgICkuYWRkVG8obWFwX2ZmZjE4NTc1OTRiZjRhM2E4Mjc4ZjEyNTM2Y2NkNjM3KTsKICAgICAgICAKICAgIAogICAgICAgICAgICBjaXJjbGVfNjlhYWVlZDNiM2I1NGJkMzhlNmQ0NjA2YzNjOGRiOTAuYmluZFRvb2x0aXAoCiAgICAgICAgICAgICAgICBgPGRpdj4KICAgICAgICAgICAgICAgICAgICAgPGRpdiBzdHlsZT0nbWFyZ2luOiAwOyBiYWNrZ3JvdW5kLWNvbG9yOiBibGFjazsgY29sb3I6IHdoaXRlOyc+PGg0IHN0eWxlPSd0ZXh0LWFsaWduOmNlbnRlcjtmb250LXdlaWdodDogYm9sZCc+Q29zdGEgUmljYTwvaDQ+PGhyIHN0eWxlPSdtYXJnaW46MTBweDtjb2xvcjogd2hpdGU7Jz48dWwgc3R5bGU9J2NvbG9yOiB3aGl0ZTs7bGlzdC1zdHlsZS10eXBlOmNpcmNsZTthbGlnbi1pdGVtOmxlZnQ7cGFkZGluZy1sZWZ0OjIwcHg7cGFkZGluZy1yaWdodDoyMHB4Jz48bGk+Q29uZmlybWVkOiA3MjU8L2xpPjxsaT5EZWF0aHM6ICAgNjwvbGk+PGxpPkRlYXRoIFJhdGU6IDAuODM8L2xpPjwvdWw+PC9kaXY+CiAgICAgICAgICAgICAgICAgPC9kaXY+YCwKICAgICAgICAgICAgICAgIHsic3RpY2t5IjogdHJ1ZX0KICAgICAgICAgICAgKTsKICAgICAgICAKICAgIAogICAgICAgICAgICB2YXIgY2lyY2xlXzQzMmFlNTY3NDc4NDRlZDE5MjIxNmZlOTY3MWNmODlmID0gTC5jaXJjbGUoCiAgICAgICAgICAgICAgICBbNy41NCwgLTUuNTQ3MV0sCiAgICAgICAgICAgICAgICB7ImJ1YmJsaW5nTW91c2VFdmVudHMiOiB0cnVlLCAiY29sb3IiOiAicmVkIiwgImRhc2hBcnJheSI6IG51bGwsICJkYXNoT2Zmc2V0IjogbnVsbCwgImZpbGwiOiB0cnVlLCAiZmlsbENvbG9yIjogImluZGlnbyIsICJmaWxsT3BhY2l0eSI6IDAuMiwgImZpbGxSdWxlIjogImV2ZW5vZGQiLCAibGluZUNhcCI6ICJyb3VuZCIsICJsaW5lSm9pbiI6ICJyb3VuZCIsICJvcGFjaXR5IjogMS4wLCAicmFkaXVzIjogMzYwMDAwLjAsICJzdHJva2UiOiB0cnVlLCAid2VpZ2h0IjogM30KICAgICAgICAgICAgKS5hZGRUbyhtYXBfZmZmMTg1NzU5NGJmNGEzYTgyNzhmMTI1MzZjY2Q2MzcpOwogICAgICAgIAogICAgCiAgICAgICAgICAgIGNpcmNsZV80MzJhZTU2NzQ3ODQ0ZWQxOTIyMTZmZTk2NzFjZjg5Zi5iaW5kVG9vbHRpcCgKICAgICAgICAgICAgICAgIGA8ZGl2PgogICAgICAgICAgICAgICAgICAgICA8ZGl2IHN0eWxlPSdtYXJnaW46IDA7IGJhY2tncm91bmQtY29sb3I6IGJsYWNrOyBjb2xvcjogd2hpdGU7Jz48aDQgc3R5bGU9J3RleHQtYWxpZ246Y2VudGVyO2ZvbnQtd2VpZ2h0OiBib2xkJz5Db3RlIGQnSXZvaXJlPC9oND48aHIgc3R5bGU9J21hcmdpbjoxMHB4O2NvbG9yOiB3aGl0ZTsnPjx1bCBzdHlsZT0nY29sb3I6IHdoaXRlOztsaXN0LXN0eWxlLXR5cGU6Y2lyY2xlO2FsaWduLWl0ZW06bGVmdDtwYWRkaW5nLWxlZnQ6MjBweDtwYWRkaW5nLXJpZ2h0OjIwcHgnPjxsaT5Db25maXJtZWQ6IDEzMzM8L2xpPjxsaT5EZWF0aHM6ICAgMTU8L2xpPjxsaT5EZWF0aCBSYXRlOiAxLjEyPC9saT48L3VsPjwvZGl2PgogICAgICAgICAgICAgICAgIDwvZGl2PmAsCiAgICAgICAgICAgICAgICB7InN0aWNreSI6IHRydWV9CiAgICAgICAgICAgICk7CiAgICAgICAgCiAgICAKICAgICAgICAgICAgdmFyIGNpcmNsZV84ZDk4NGNlNGFiZWM0ZDAxOWM1NDViM2JhMjI4N2U0MCA9IEwuY2lyY2xlKAogICAgICAgICAgICAgICAgWzQ1LjEsIDE1LjJdLAogICAgICAgICAgICAgICAgeyJidWJibGluZ01vdXNlRXZlbnRzIjogdHJ1ZSwgImNvbG9yIjogInJlZCIsICJkYXNoQXJyYXkiOiBudWxsLCAiZGFzaE9mZnNldCI6IG51bGwsICJmaWxsIjogdHJ1ZSwgImZpbGxDb2xvciI6ICJpbmRpZ28iLCAiZmlsbE9wYWNpdHkiOiAwLjIsICJmaWxsUnVsZSI6ICJldmVub2RkIiwgImxpbmVDYXAiOiAicm91bmQiLCAibGluZUpvaW4iOiAicm91bmQiLCAib3BhY2l0eSI6IDEuMCwgInJhZGl1cyI6IDM2MDAwMC4wLCAic3Ryb2tlIjogdHJ1ZSwgIndlaWdodCI6IDN9CiAgICAgICAgICAgICkuYWRkVG8obWFwX2ZmZjE4NTc1OTRiZjRhM2E4Mjc4ZjEyNTM2Y2NkNjM3KTsKICAgICAgICAKICAgIAogICAgICAgICAgICBjaXJjbGVfOGQ5ODRjZTRhYmVjNGQwMTljNTQ1YjNiYTIyODdlNDAuYmluZFRvb2x0aXAoCiAgICAgICAgICAgICAgICBgPGRpdj4KICAgICAgICAgICAgICAgICAgICAgPGRpdiBzdHlsZT0nbWFyZ2luOiAwOyBiYWNrZ3JvdW5kLWNvbG9yOiBibGFjazsgY29sb3I6IHdoaXRlOyc+PGg0IHN0eWxlPSd0ZXh0LWFsaWduOmNlbnRlcjtmb250LXdlaWdodDogYm9sZCc+Q3JvYXRpYTwvaDQ+PGhyIHN0eWxlPSdtYXJnaW46MTBweDtjb2xvcjogd2hpdGU7Jz48dWwgc3R5bGU9J2NvbG9yOiB3aGl0ZTs7bGlzdC1zdHlsZS10eXBlOmNpcmNsZTthbGlnbi1pdGVtOmxlZnQ7cGFkZGluZy1sZWZ0OjIwcHg7cGFkZGluZy1yaWdodDoyMHB4Jz48bGk+Q29uZmlybWVkOiAyMDg1PC9saT48bGk+RGVhdGhzOiAgIDc1PC9saT48bGk+RGVhdGggUmF0ZTogMy42PC9saT48L3VsPjwvZGl2PgogICAgICAgICAgICAgICAgIDwvZGl2PmAsCiAgICAgICAgICAgICAgICB7InN0aWNreSI6IHRydWV9CiAgICAgICAgICAgICk7CiAgICAgICAgCiAgICAKICAgICAgICAgICAgdmFyIGNpcmNsZV8yODhlYzhhZGQ5YzQ0MGRjYmMzOTJjMjU2ZDBmZjcwOSA9IEwuY2lyY2xlKAogICAgICAgICAgICAgICAgWzAuMCwgMC4wXSwKICAgICAgICAgICAgICAgIHsiYnViYmxpbmdNb3VzZUV2ZW50cyI6IHRydWUsICJjb2xvciI6ICJyZWQiLCAiZGFzaEFycmF5IjogbnVsbCwgImRhc2hPZmZzZXQiOiBudWxsLCAiZmlsbCI6IHRydWUsICJmaWxsQ29sb3IiOiAiaW5kaWdvIiwgImZpbGxPcGFjaXR5IjogMC4yLCAiZmlsbFJ1bGUiOiAiZXZlbm9kZCIsICJsaW5lQ2FwIjogInJvdW5kIiwgImxpbmVKb2luIjogInJvdW5kIiwgIm9wYWNpdHkiOiAxLjAsICJyYWRpdXMiOiAzMTAwMDAuMCwgInN0cm9rZSI6IHRydWUsICJ3ZWlnaHQiOiAzfQogICAgICAgICAgICApLmFkZFRvKG1hcF9mZmYxODU3NTk0YmY0YTNhODI3OGYxMjUzNmNjZDYzNyk7CiAgICAgICAgCiAgICAKICAgICAgICAgICAgY2lyY2xlXzI4OGVjOGFkZDljNDQwZGNiYzM5MmMyNTZkMGZmNzA5LmJpbmRUb29sdGlwKAogICAgICAgICAgICAgICAgYDxkaXY+CiAgICAgICAgICAgICAgICAgICAgIDxkaXYgc3R5bGU9J21hcmdpbjogMDsgYmFja2dyb3VuZC1jb2xvcjogYmxhY2s7IGNvbG9yOiB3aGl0ZTsnPjxoNCBzdHlsZT0ndGV4dC1hbGlnbjpjZW50ZXI7Zm9udC13ZWlnaHQ6IGJvbGQnPkRpYW1vbmQgUHJpbmNlc3M8L2g0PjxociBzdHlsZT0nbWFyZ2luOjEwcHg7Y29sb3I6IHdoaXRlOyc+PHVsIHN0eWxlPSdjb2xvcjogd2hpdGU7O2xpc3Qtc3R5bGUtdHlwZTpjaXJjbGU7YWxpZ24taXRlbTpsZWZ0O3BhZGRpbmctbGVmdDoyMHB4O3BhZGRpbmctcmlnaHQ6MjBweCc+PGxpPkNvbmZpcm1lZDogNzEyPC9saT48bGk+RGVhdGhzOiAgIDEzPC9saT48bGk+RGVhdGggUmF0ZTogMS44MjwvbGk+PC91bD48L2Rpdj4KICAgICAgICAgICAgICAgICA8L2Rpdj5gLAogICAgICAgICAgICAgICAgeyJzdGlja3kiOiB0cnVlfQogICAgICAgICAgICApOwogICAgICAgIAogICAgCiAgICAgICAgICAgIHZhciBjaXJjbGVfYmM2YmM3ZDI4OWMzNDNhOWIxOTI4OTI3ZTFmMDE3ZGUgPSBMLmNpcmNsZSgKICAgICAgICAgICAgICAgIFsyMi4wLCAtODAuMF0sCiAgICAgICAgICAgICAgICB7ImJ1YmJsaW5nTW91c2VFdmVudHMiOiB0cnVlLCAiY29sb3IiOiAicmVkIiwgImRhc2hBcnJheSI6IG51bGwsICJkYXNoT2Zmc2V0IjogbnVsbCwgImZpbGwiOiB0cnVlLCAiZmlsbENvbG9yIjogImluZGlnbyIsICJmaWxsT3BhY2l0eSI6IDAuMiwgImZpbGxSdWxlIjogImV2ZW5vZGQiLCAibGluZUNhcCI6ICJyb3VuZCIsICJsaW5lSm9pbiI6ICJyb3VuZCIsICJvcGFjaXR5IjogMS4wLCAicmFkaXVzIjogMzYwMDAwLjAsICJzdHJva2UiOiB0cnVlLCAid2VpZ2h0IjogM30KICAgICAgICAgICAgKS5hZGRUbyhtYXBfZmZmMTg1NzU5NGJmNGEzYTgyNzhmMTI1MzZjY2Q2MzcpOwogICAgICAgIAogICAgCiAgICAgICAgICAgIGNpcmNsZV9iYzZiYzdkMjg5YzM0M2E5YjE5Mjg5MjdlMWYwMTdkZS5iaW5kVG9vbHRpcCgKICAgICAgICAgICAgICAgIGA8ZGl2PgogICAgICAgICAgICAgICAgICAgICA8ZGl2IHN0eWxlPSdtYXJnaW46IDA7IGJhY2tncm91bmQtY29sb3I6IGJsYWNrOyBjb2xvcjogd2hpdGU7Jz48aDQgc3R5bGU9J3RleHQtYWxpZ246Y2VudGVyO2ZvbnQtd2VpZ2h0OiBib2xkJz5DdWJhPC9oND48aHIgc3R5bGU9J21hcmdpbjoxMHB4O2NvbG9yOiB3aGl0ZTsnPjx1bCBzdHlsZT0nY29sb3I6IHdoaXRlOztsaXN0LXN0eWxlLXR5cGU6Y2lyY2xlO2FsaWduLWl0ZW06bGVmdDtwYWRkaW5nLWxlZnQ6MjBweDtwYWRkaW5nLXJpZ2h0OjIwcHgnPjxsaT5Db25maXJtZWQ6IDE1Mzc8L2xpPjxsaT5EZWF0aHM6ICAgNjQ8L2xpPjxsaT5EZWF0aCBSYXRlOiA0LjE2PC9saT48L3VsPjwvZGl2PgogICAgICAgICAgICAgICAgIDwvZGl2PmAsCiAgICAgICAgICAgICAgICB7InN0aWNreSI6IHRydWV9CiAgICAgICAgICAgICk7CiAgICAgICAgCiAgICAKICAgICAgICAgICAgdmFyIGNpcmNsZV8yY2RjNGI5ZTBjYWY0ZGUwOTBmNDBkZDlkZjNhYTc0MSA9IEwuY2lyY2xlKAogICAgICAgICAgICAgICAgWzM1LjEyNjQsIDMzLjQyOTldLAogICAgICAgICAgICAgICAgeyJidWJibGluZ01vdXNlRXZlbnRzIjogdHJ1ZSwgImNvbG9yIjogInJlZCIsICJkYXNoQXJyYXkiOiBudWxsLCAiZGFzaE9mZnNldCI6IG51bGwsICJmaWxsIjogdHJ1ZSwgImZpbGxDb2xvciI6ICJpbmRpZ28iLCAiZmlsbE9wYWNpdHkiOiAwLjIsICJmaWxsUnVsZSI6ICJldmVub2RkIiwgImxpbmVDYXAiOiAicm91bmQiLCAibGluZUpvaW4iOiAicm91bmQiLCAib3BhY2l0eSI6IDEuMCwgInJhZGl1cyI6IDMxMDAwMC4wLCAic3Ryb2tlIjogdHJ1ZSwgIndlaWdodCI6IDN9CiAgICAgICAgICAgICkuYWRkVG8obWFwX2ZmZjE4NTc1OTRiZjRhM2E4Mjc4ZjEyNTM2Y2NkNjM3KTsKICAgICAgICAKICAgIAogICAgICAgICAgICBjaXJjbGVfMmNkYzRiOWUwY2FmNGRlMDkwZjQwZGQ5ZGYzYWE3NDEuYmluZFRvb2x0aXAoCiAgICAgICAgICAgICAgICBgPGRpdj4KICAgICAgICAgICAgICAgICAgICAgPGRpdiBzdHlsZT0nbWFyZ2luOiAwOyBiYWNrZ3JvdW5kLWNvbG9yOiBibGFjazsgY29sb3I6IHdoaXRlOyc+PGg0IHN0eWxlPSd0ZXh0LWFsaWduOmNlbnRlcjtmb250LXdlaWdodDogYm9sZCc+Q3lwcnVzPC9oND48aHIgc3R5bGU9J21hcmdpbjoxMHB4O2NvbG9yOiB3aGl0ZTsnPjx1bCBzdHlsZT0nY29sb3I6IHdoaXRlOztsaXN0LXN0eWxlLXR5cGU6Y2lyY2xlO2FsaWduLWl0ZW06bGVmdDtwYWRkaW5nLWxlZnQ6MjBweDtwYWRkaW5nLXJpZ2h0OjIwcHgnPjxsaT5Db25maXJtZWQ6IDg1NzwvbGk+PGxpPkRlYXRoczogICAxNTwvbGk+PGxpPkRlYXRoIFJhdGU6IDEuNzU8L2xpPjwvdWw+PC9kaXY+CiAgICAgICAgICAgICAgICAgPC9kaXY+YCwKICAgICAgICAgICAgICAgIHsic3RpY2t5IjogdHJ1ZX0KICAgICAgICAgICAgKTsKICAgICAgICAKICAgIAogICAgICAgICAgICB2YXIgY2lyY2xlXzEyZjRjZmM2Y2Y5NzQxN2U5MjE3M2RjZGM3MDE0NzMzID0gTC5jaXJjbGUoCiAgICAgICAgICAgICAgICBbNDkuODE3NSwgMTUuNDcyOTk5OTk5OTk5OTk5XSwKICAgICAgICAgICAgICAgIHsiYnViYmxpbmdNb3VzZUV2ZW50cyI6IHRydWUsICJjb2xvciI6ICJyZWQiLCAiZGFzaEFycmF5IjogbnVsbCwgImRhc2hPZmZzZXQiOiBudWxsLCAiZmlsbCI6IHRydWUsICJmaWxsQ29sb3IiOiAiaW5kaWdvIiwgImZpbGxPcGFjaXR5IjogMC4yLCAiZmlsbFJ1bGUiOiAiZXZlbm9kZCIsICJsaW5lQ2FwIjogInJvdW5kIiwgImxpbmVKb2luIjogInJvdW5kIiwgIm9wYWNpdHkiOiAxLjAsICJyYWRpdXMiOiA0MDk5OTkuOTk5OTk5OTk5OTQsICJzdHJva2UiOiB0cnVlLCAid2VpZ2h0IjogM30KICAgICAgICAgICAgKS5hZGRUbyhtYXBfZmZmMTg1NzU5NGJmNGEzYTgyNzhmMTI1MzZjY2Q2MzcpOwogICAgICAgIAogICAgCiAgICAgICAgICAgIGNpcmNsZV8xMmY0Y2ZjNmNmOTc0MTdlOTIxNzNkY2RjNzAxNDczMy5iaW5kVG9vbHRpcCgKICAgICAgICAgICAgICAgIGA8ZGl2PgogICAgICAgICAgICAgICAgICAgICA8ZGl2IHN0eWxlPSdtYXJnaW46IDA7IGJhY2tncm91bmQtY29sb3I6IGJsYWNrOyBjb2xvcjogd2hpdGU7Jz48aDQgc3R5bGU9J3RleHQtYWxpZ246Y2VudGVyO2ZvbnQtd2VpZ2h0OiBib2xkJz5DemVjaGlhPC9oND48aHIgc3R5bGU9J21hcmdpbjoxMHB4O2NvbG9yOiB3aGl0ZTsnPjx1bCBzdHlsZT0nY29sb3I6IHdoaXRlOztsaXN0LXN0eWxlLXR5cGU6Y2lyY2xlO2FsaWduLWl0ZW06bGVmdDtwYWRkaW5nLWxlZnQ6MjBweDtwYWRkaW5nLXJpZ2h0OjIwcHgnPjxsaT5Db25maXJtZWQ6IDc3Mzc8L2xpPjxsaT5EZWF0aHM6ICAgMjQwPC9saT48bGk+RGVhdGggUmF0ZTogMy4xPC9saT48L3VsPjwvZGl2PgogICAgICAgICAgICAgICAgIDwvZGl2PmAsCiAgICAgICAgICAgICAgICB7InN0aWNreSI6IHRydWV9CiAgICAgICAgICAgICk7CiAgICAgICAgCiAgICAKICAgICAgICAgICAgdmFyIGNpcmNsZV9kMDA3MGZlMTQ3OGY0MjJlOWI3MmUxOTA1ZDIzZDJkOSA9IEwuY2lyY2xlKAogICAgICAgICAgICAgICAgWzYxLjg5MjYsIC02LjkxMThdLAogICAgICAgICAgICAgICAgeyJidWJibGluZ01vdXNlRXZlbnRzIjogdHJ1ZSwgImNvbG9yIjogInJlZCIsICJkYXNoQXJyYXkiOiBudWxsLCAiZGFzaE9mZnNldCI6IG51bGwsICJmaWxsIjogdHJ1ZSwgImZpbGxDb2xvciI6ICJpbmRpZ28iLCAiZmlsbE9wYWNpdHkiOiAwLjIsICJmaWxsUnVsZSI6ICJldmVub2RkIiwgImxpbmVDYXAiOiAicm91bmQiLCAibGluZUpvaW4iOiAicm91bmQiLCAib3BhY2l0eSI6IDEuMCwgInJhZGl1cyI6IDI2MDAwMC4wLCAic3Ryb2tlIjogdHJ1ZSwgIndlaWdodCI6IDN9CiAgICAgICAgICAgICkuYWRkVG8obWFwX2ZmZjE4NTc1OTRiZjRhM2E4Mjc4ZjEyNTM2Y2NkNjM3KTsKICAgICAgICAKICAgIAogICAgICAgICAgICBjaXJjbGVfZDAwNzBmZTE0NzhmNDIyZTliNzJlMTkwNWQyM2QyZDkuYmluZFRvb2x0aXAoCiAgICAgICAgICAgICAgICBgPGRpdj4KICAgICAgICAgICAgICAgICAgICAgPGRpdiBzdHlsZT0nbWFyZ2luOiAwOyBiYWNrZ3JvdW5kLWNvbG9yOiBibGFjazsgY29sb3I6IHdoaXRlOyc+PGg0IHN0eWxlPSd0ZXh0LWFsaWduOmNlbnRlcjtmb250LXdlaWdodDogYm9sZCc+RGVubWFyazwvaDQ+PGhyIHN0eWxlPSdtYXJnaW46MTBweDtjb2xvcjogd2hpdGU7Jz48dWwgc3R5bGU9J2NvbG9yOiB3aGl0ZTs7bGlzdC1zdHlsZS10eXBlOmNpcmNsZTthbGlnbi1pdGVtOmxlZnQ7cGFkZGluZy1sZWZ0OjIwcHg7cGFkZGluZy1yaWdodDoyMHB4Jz48bGk+Q29uZmlybWVkOiAxODc8L2xpPjxsaT5EZWF0aHM6ICAgMDwvbGk+PGxpPkRlYXRoIFJhdGU6IDAuMDwvbGk+PC91bD48L2Rpdj4KICAgICAgICAgICAgICAgICA8L2Rpdj5gLAogICAgICAgICAgICAgICAgeyJzdGlja3kiOiB0cnVlfQogICAgICAgICAgICApOwogICAgICAgIAogICAgCiAgICAgICAgICAgIHZhciBjaXJjbGVfNzc0MWE3MTRhN2NjNDE2ZGI4M2UwNzQ4ZjIyNzk4ODUgPSBMLmNpcmNsZSgKICAgICAgICAgICAgICAgIFs3MS43MDY5LCAtNDIuNjA0M10sCiAgICAgICAgICAgICAgICB7ImJ1YmJsaW5nTW91c2VFdmVudHMiOiB0cnVlLCAiY29sb3IiOiAicmVkIiwgImRhc2hBcnJheSI6IG51bGwsICJkYXNoT2Zmc2V0IjogbnVsbCwgImZpbGwiOiB0cnVlLCAiZmlsbENvbG9yIjogImluZGlnbyIsICJmaWxsT3BhY2l0eSI6IDAuMiwgImZpbGxSdWxlIjogImV2ZW5vZGQiLCAibGluZUNhcCI6ICJyb3VuZCIsICJsaW5lSm9pbiI6ICJyb3VuZCIsICJvcGFjaXR5IjogMS4wLCAicmFkaXVzIjogMTEwMDAwLjAwMDAwMDAwMDAxLCAic3Ryb2tlIjogdHJ1ZSwgIndlaWdodCI6IDN9CiAgICAgICAgICAgICkuYWRkVG8obWFwX2ZmZjE4NTc1OTRiZjRhM2E4Mjc4ZjEyNTM2Y2NkNjM3KTsKICAgICAgICAKICAgIAogICAgICAgICAgICBjaXJjbGVfNzc0MWE3MTRhN2NjNDE2ZGI4M2UwNzQ4ZjIyNzk4ODUuYmluZFRvb2x0aXAoCiAgICAgICAgICAgICAgICBgPGRpdj4KICAgICAgICAgICAgICAgICAgICAgPGRpdiBzdHlsZT0nbWFyZ2luOiAwOyBiYWNrZ3JvdW5kLWNvbG9yOiBibGFjazsgY29sb3I6IHdoaXRlOyc+PGg0IHN0eWxlPSd0ZXh0LWFsaWduOmNlbnRlcjtmb250LXdlaWdodDogYm9sZCc+RGVubWFyazwvaDQ+PGhyIHN0eWxlPSdtYXJnaW46MTBweDtjb2xvcjogd2hpdGU7Jz48dWwgc3R5bGU9J2NvbG9yOiB3aGl0ZTs7bGlzdC1zdHlsZS10eXBlOmNpcmNsZTthbGlnbi1pdGVtOmxlZnQ7cGFkZGluZy1sZWZ0OjIwcHg7cGFkZGluZy1yaWdodDoyMHB4Jz48bGk+Q29uZmlybWVkOiAxMTwvbGk+PGxpPkRlYXRoczogICAwPC9saT48bGk+RGVhdGggUmF0ZTogMC4wPC9saT48L3VsPjwvZGl2PgogICAgICAgICAgICAgICAgIDwvZGl2PmAsCiAgICAgICAgICAgICAgICB7InN0aWNreSI6IHRydWV9CiAgICAgICAgICAgICk7CiAgICAgICAgCiAgICAKICAgICAgICAgICAgdmFyIGNpcmNsZV82MmRlNDRjMDNmN2Q0YjY4YjgxNTMxNTg1MDJmZjA3YSA9IEwuY2lyY2xlKAogICAgICAgICAgICAgICAgWzU2LjI2MzksIDkuNTAxOF0sCiAgICAgICAgICAgICAgICB7ImJ1YmJsaW5nTW91c2VFdmVudHMiOiB0cnVlLCAiY29sb3IiOiAicmVkIiwgImRhc2hBcnJheSI6IG51bGwsICJkYXNoT2Zmc2V0IjogbnVsbCwgImZpbGwiOiB0cnVlLCAiZmlsbENvbG9yIjogImluZGlnbyIsICJmaWxsT3BhY2l0eSI6IDAuMiwgImZpbGxSdWxlIjogImV2ZW5vZGQiLCAibGluZUNhcCI6ICJyb3VuZCIsICJsaW5lSm9pbiI6ICJyb3VuZCIsICJvcGFjaXR5IjogMS4wLCAicmFkaXVzIjogNDU5OTk5Ljk5OTk5OTk5OTk0LCAic3Ryb2tlIjogdHJ1ZSwgIndlaWdodCI6IDN9CiAgICAgICAgICAgICkuYWRkVG8obWFwX2ZmZjE4NTc1OTRiZjRhM2E4Mjc4ZjEyNTM2Y2NkNjM3KTsKICAgICAgICAKICAgIAogICAgICAgICAgICBjaXJjbGVfNjJkZTQ0YzAzZjdkNGI2OGI4MTUzMTU4NTAyZmYwN2EuYmluZFRvb2x0aXAoCiAgICAgICAgICAgICAgICBgPGRpdj4KICAgICAgICAgICAgICAgICAgICAgPGRpdiBzdHlsZT0nbWFyZ2luOiAwOyBiYWNrZ3JvdW5kLWNvbG9yOiBibGFjazsgY29sb3I6IHdoaXRlOyc+PGg0IHN0eWxlPSd0ZXh0LWFsaWduOmNlbnRlcjtmb250LXdlaWdodDogYm9sZCc+RGVubWFyazwvaDQ+PGhyIHN0eWxlPSdtYXJnaW46MTBweDtjb2xvcjogd2hpdGU7Jz48dWwgc3R5bGU9J2NvbG9yOiB3aGl0ZTs7bGlzdC1zdHlsZS10eXBlOmNpcmNsZTthbGlnbi1pdGVtOmxlZnQ7cGFkZGluZy1sZWZ0OjIwcHg7cGFkZGluZy1yaWdodDoyMHB4Jz48bGk+Q29uZmlybWVkOiA5MzExPC9saT48bGk+RGVhdGhzOiAgIDQ2MDwvbGk+PGxpPkRlYXRoIFJhdGU6IDQuOTQ8L2xpPjwvdWw+PC9kaXY+CiAgICAgICAgICAgICAgICAgPC9kaXY+YCwKICAgICAgICAgICAgICAgIHsic3RpY2t5IjogdHJ1ZX0KICAgICAgICAgICAgKTsKICAgICAgICAKICAgIAogICAgICAgICAgICB2YXIgY2lyY2xlXzcxNWNiNzEwOWRhNDRmOWFhMDFmOWViOThhOTkzMGZkID0gTC5jaXJjbGUoCiAgICAgICAgICAgICAgICBbMTEuODI1MSwgNDIuNTkwM10sCiAgICAgICAgICAgICAgICB7ImJ1YmJsaW5nTW91c2VFdmVudHMiOiB0cnVlLCAiY29sb3IiOiAicmVkIiwgImRhc2hBcnJheSI6IG51bGwsICJkYXNoT2Zmc2V0IjogbnVsbCwgImZpbGwiOiB0cnVlLCAiZmlsbENvbG9yIjogImluZGlnbyIsICJmaWxsT3BhY2l0eSI6IDAuMiwgImZpbGxSdWxlIjogImV2ZW5vZGQiLCAibGluZUNhcCI6ICJyb3VuZCIsICJsaW5lSm9pbiI6ICJyb3VuZCIsICJvcGFjaXR5IjogMS4wLCAicmFkaXVzIjogMzYwMDAwLjAsICJzdHJva2UiOiB0cnVlLCAid2VpZ2h0IjogM30KICAgICAgICAgICAgKS5hZGRUbyhtYXBfZmZmMTg1NzU5NGJmNGEzYTgyNzhmMTI1MzZjY2Q2MzcpOwogICAgICAgIAogICAgCiAgICAgICAgICAgIGNpcmNsZV83MTVjYjcxMDlkYTQ0ZjlhYTAxZjllYjk4YTk5MzBmZC5iaW5kVG9vbHRpcCgKICAgICAgICAgICAgICAgIGA8ZGl2PgogICAgICAgICAgICAgICAgICAgICA8ZGl2IHN0eWxlPSdtYXJnaW46IDA7IGJhY2tncm91bmQtY29sb3I6IGJsYWNrOyBjb2xvcjogd2hpdGU7Jz48aDQgc3R5bGU9J3RleHQtYWxpZ246Y2VudGVyO2ZvbnQtd2VpZ2h0OiBib2xkJz5Eamlib3V0aTwvaDQ+PGhyIHN0eWxlPSdtYXJnaW46MTBweDtjb2xvcjogd2hpdGU7Jz48dWwgc3R5bGU9J2NvbG9yOiB3aGl0ZTs7bGlzdC1zdHlsZS10eXBlOmNpcmNsZTthbGlnbi1pdGVtOmxlZnQ7cGFkZGluZy1sZWZ0OjIwcHg7cGFkZGluZy1yaWdodDoyMHB4Jz48bGk+Q29uZmlybWVkOiAxMDk3PC9saT48bGk+RGVhdGhzOiAgIDI8L2xpPjxsaT5EZWF0aCBSYXRlOiAwLjE4PC9saT48L3VsPjwvZGl2PgogICAgICAgICAgICAgICAgIDwvZGl2PmAsCiAgICAgICAgICAgICAgICB7InN0aWNreSI6IHRydWV9CiAgICAgICAgICAgICk7CiAgICAgICAgCiAgICAKICAgICAgICAgICAgdmFyIGNpcmNsZV9iYjJjMmNhZmNjYzY0NmY3OGIzZThlY2UyZjIzZjVmZCA9IEwuY2lyY2xlKAogICAgICAgICAgICAgICAgWzE4LjczNTcsIC03MC4xNjI3XSwKICAgICAgICAgICAgICAgIHsiYnViYmxpbmdNb3VzZUV2ZW50cyI6IHRydWUsICJjb2xvciI6ICJyZWQiLCAiZGFzaEFycmF5IjogbnVsbCwgImRhc2hPZmZzZXQiOiBudWxsLCAiZmlsbCI6IHRydWUsICJmaWxsQ29sb3IiOiAiaW5kaWdvIiwgImZpbGxPcGFjaXR5IjogMC4yLCAiZmlsbFJ1bGUiOiAiZXZlbm9kZCIsICJsaW5lQ2FwIjogInJvdW5kIiwgImxpbmVKb2luIjogInJvdW5kIiwgIm9wYWNpdHkiOiAxLjAsICJyYWRpdXMiOiA0MDk5OTkuOTk5OTk5OTk5OTQsICJzdHJva2UiOiB0cnVlLCAid2VpZ2h0IjogM30KICAgICAgICAgICAgKS5hZGRUbyhtYXBfZmZmMTg1NzU5NGJmNGEzYTgyNzhmMTI1MzZjY2Q2MzcpOwogICAgICAgIAogICAgCiAgICAgICAgICAgIGNpcmNsZV9iYjJjMmNhZmNjYzY0NmY3OGIzZThlY2UyZjIzZjVmZC5iaW5kVG9vbHRpcCgKICAgICAgICAgICAgICAgIGA8ZGl2PgogICAgICAgICAgICAgICAgICAgICA8ZGl2IHN0eWxlPSdtYXJnaW46IDA7IGJhY2tncm91bmQtY29sb3I6IGJsYWNrOyBjb2xvcjogd2hpdGU7Jz48aDQgc3R5bGU9J3RleHQtYWxpZ246Y2VudGVyO2ZvbnQtd2VpZ2h0OiBib2xkJz5Eb21pbmljYW4gUmVwdWJsaWM8L2g0PjxociBzdHlsZT0nbWFyZ2luOjEwcHg7Y29sb3I6IHdoaXRlOyc+PHVsIHN0eWxlPSdjb2xvcjogd2hpdGU7O2xpc3Qtc3R5bGUtdHlwZTpjaXJjbGU7YWxpZ24taXRlbTpsZWZ0O3BhZGRpbmctbGVmdDoyMHB4O3BhZGRpbmctcmlnaHQ6MjBweCc+PGxpPkNvbmZpcm1lZDogNzI4ODwvbGk+PGxpPkRlYXRoczogICAzMTM8L2xpPjxsaT5EZWF0aCBSYXRlOiA0LjI5PC9saT48L3VsPjwvZGl2PgogICAgICAgICAgICAgICAgIDwvZGl2PmAsCiAgICAgICAgICAgICAgICB7InN0aWNreSI6IHRydWV9CiAgICAgICAgICAgICk7CiAgICAgICAgCiAgICAKICAgICAgICAgICAgdmFyIGNpcmNsZV9iN2RjNWMzYTlhYmY0OGE5YThiNzc1Y2FjMGUzMDFiMyA9IEwuY2lyY2xlKAogICAgICAgICAgICAgICAgWy0xLjgzMTIsIC03OC4xODM0XSwKICAgICAgICAgICAgICAgIHsiYnViYmxpbmdNb3VzZUV2ZW50cyI6IHRydWUsICJjb2xvciI6ICJyZWQiLCAiZGFzaEFycmF5IjogbnVsbCwgImRhc2hPZmZzZXQiOiBudWxsLCAiZmlsbCI6IHRydWUsICJmaWxsQ29sb3IiOiAiaW5kaWdvIiwgImZpbGxPcGFjaXR5IjogMC4yLCAiZmlsbFJ1bGUiOiAiZXZlbm9kZCIsICJsaW5lQ2FwIjogInJvdW5kIiwgImxpbmVKb2luIjogInJvdW5kIiwgIm9wYWNpdHkiOiAxLjAsICJyYWRpdXMiOiA1MDk5OTkuOTk5OTk5OTk5OTQsICJzdHJva2UiOiB0cnVlLCAid2VpZ2h0IjogM30KICAgICAgICAgICAgKS5hZGRUbyhtYXBfZmZmMTg1NzU5NGJmNGEzYTgyNzhmMTI1MzZjY2Q2MzcpOwogICAgICAgIAogICAgCiAgICAgICAgICAgIGNpcmNsZV9iN2RjNWMzYTlhYmY0OGE5YThiNzc1Y2FjMGUzMDFiMy5iaW5kVG9vbHRpcCgKICAgICAgICAgICAgICAgIGA8ZGl2PgogICAgICAgICAgICAgICAgICAgICA8ZGl2IHN0eWxlPSdtYXJnaW46IDA7IGJhY2tncm91bmQtY29sb3I6IGJsYWNrOyBjb2xvcjogd2hpdGU7Jz48aDQgc3R5bGU9J3RleHQtYWxpZ246Y2VudGVyO2ZvbnQtd2VpZ2h0OiBib2xkJz5FY3VhZG9yPC9oND48aHIgc3R5bGU9J21hcmdpbjoxMHB4O2NvbG9yOiB3aGl0ZTsnPjx1bCBzdHlsZT0nY29sb3I6IHdoaXRlOztsaXN0LXN0eWxlLXR5cGU6Y2lyY2xlO2FsaWduLWl0ZW06bGVmdDtwYWRkaW5nLWxlZnQ6MjBweDtwYWRkaW5nLXJpZ2h0OjIwcHgnPjxsaT5Db25maXJtZWQ6IDI2MzM2PC9saT48bGk+RGVhdGhzOiAgIDEwNjM8L2xpPjxsaT5EZWF0aCBSYXRlOiA0LjA0PC9saT48L3VsPjwvZGl2PgogICAgICAgICAgICAgICAgIDwvZGl2PmAsCiAgICAgICAgICAgICAgICB7InN0aWNreSI6IHRydWV9CiAgICAgICAgICAgICk7CiAgICAgICAgCiAgICAKICAgICAgICAgICAgdmFyIGNpcmNsZV8wZmRjNmY4YjYyNTI0YmNmOTRkOWNiZWNlNDIzYzg4NiA9IEwuY2lyY2xlKAogICAgICAgICAgICAgICAgWzI2LjAsIDMwLjBdLAogICAgICAgICAgICAgICAgeyJidWJibGluZ01vdXNlRXZlbnRzIjogdHJ1ZSwgImNvbG9yIjogInJlZCIsICJkYXNoQXJyYXkiOiBudWxsLCAiZGFzaE9mZnNldCI6IG51bGwsICJmaWxsIjogdHJ1ZSwgImZpbGxDb2xvciI6ICJpbmRpZ28iLCAiZmlsbE9wYWNpdHkiOiAwLjIsICJmaWxsUnVsZSI6ICJldmVub2RkIiwgImxpbmVDYXAiOiAicm91bmQiLCAibGluZUpvaW4iOiAicm91bmQiLCAib3BhY2l0eSI6IDEuMCwgInJhZGl1cyI6IDQwOTk5OS45OTk5OTk5OTk5NCwgInN0cm9rZSI6IHRydWUsICJ3ZWlnaHQiOiAzfQogICAgICAgICAgICApLmFkZFRvKG1hcF9mZmYxODU3NTk0YmY0YTNhODI3OGYxMjUzNmNjZDYzNyk7CiAgICAgICAgCiAgICAKICAgICAgICAgICAgY2lyY2xlXzBmZGM2ZjhiNjI1MjRiY2Y5NGQ5Y2JlY2U0MjNjODg2LmJpbmRUb29sdGlwKAogICAgICAgICAgICAgICAgYDxkaXY+CiAgICAgICAgICAgICAgICAgICAgIDxkaXYgc3R5bGU9J21hcmdpbjogMDsgYmFja2dyb3VuZC1jb2xvcjogYmxhY2s7IGNvbG9yOiB3aGl0ZTsnPjxoNCBzdHlsZT0ndGV4dC1hbGlnbjpjZW50ZXI7Zm9udC13ZWlnaHQ6IGJvbGQnPkVneXB0PC9oND48aHIgc3R5bGU9J21hcmdpbjoxMHB4O2NvbG9yOiB3aGl0ZTsnPjx1bCBzdHlsZT0nY29sb3I6IHdoaXRlOztsaXN0LXN0eWxlLXR5cGU6Y2lyY2xlO2FsaWduLWl0ZW06bGVmdDtwYWRkaW5nLWxlZnQ6MjBweDtwYWRkaW5nLXJpZ2h0OjIwcHgnPjxsaT5Db25maXJtZWQ6IDU4OTU8L2xpPjxsaT5EZWF0aHM6ICAgNDA2PC9saT48bGk+RGVhdGggUmF0ZTogNi44OTwvbGk+PC91bD48L2Rpdj4KICAgICAgICAgICAgICAgICA8L2Rpdj5gLAogICAgICAgICAgICAgICAgeyJzdGlja3kiOiB0cnVlfQogICAgICAgICAgICApOwogICAgICAgIAogICAgCiAgICAgICAgICAgIHZhciBjaXJjbGVfMDM1NjFiNzc3ZTA1NDU3N2E4N2U2ZWNkZGZhYmMyN2IgPSBMLmNpcmNsZSgKICAgICAgICAgICAgICAgIFsxMy43OTQyLCAtODguODk2NV0sCiAgICAgICAgICAgICAgICB7ImJ1YmJsaW5nTW91c2VFdmVudHMiOiB0cnVlLCAiY29sb3IiOiAicmVkIiwgImRhc2hBcnJheSI6IG51bGwsICJkYXNoT2Zmc2V0IjogbnVsbCwgImZpbGwiOiB0cnVlLCAiZmlsbENvbG9yIjogImluZGlnbyIsICJmaWxsT3BhY2l0eSI6IDAuMiwgImZpbGxSdWxlIjogImV2ZW5vZGQiLCAibGluZUNhcCI6ICJyb3VuZCIsICJsaW5lSm9pbiI6ICJyb3VuZCIsICJvcGFjaXR5IjogMS4wLCAicmFkaXVzIjogMzEwMDAwLjAsICJzdHJva2UiOiB0cnVlLCAid2VpZ2h0IjogM30KICAgICAgICAgICAgKS5hZGRUbyhtYXBfZmZmMTg1NzU5NGJmNGEzYTgyNzhmMTI1MzZjY2Q2MzcpOwogICAgICAgIAogICAgCiAgICAgICAgICAgIGNpcmNsZV8wMzU2MWI3NzdlMDU0NTc3YTg3ZTZlY2RkZmFiYzI3Yi5iaW5kVG9vbHRpcCgKICAgICAgICAgICAgICAgIGA8ZGl2PgogICAgICAgICAgICAgICAgICAgICA8ZGl2IHN0eWxlPSdtYXJnaW46IDA7IGJhY2tncm91bmQtY29sb3I6IGJsYWNrOyBjb2xvcjogd2hpdGU7Jz48aDQgc3R5bGU9J3RleHQtYWxpZ246Y2VudGVyO2ZvbnQtd2VpZ2h0OiBib2xkJz5FbCBTYWx2YWRvcjwvaDQ+PGhyIHN0eWxlPSdtYXJnaW46MTBweDtjb2xvcjogd2hpdGU7Jz48dWwgc3R5bGU9J2NvbG9yOiB3aGl0ZTs7bGlzdC1zdHlsZS10eXBlOmNpcmNsZTthbGlnbi1pdGVtOmxlZnQ7cGFkZGluZy1sZWZ0OjIwcHg7cGFkZGluZy1yaWdodDoyMHB4Jz48bGk+Q29uZmlybWVkOiA0MjQ8L2xpPjxsaT5EZWF0aHM6ICAgMTA8L2xpPjxsaT5EZWF0aCBSYXRlOiAyLjM1PC9saT48L3VsPjwvZGl2PgogICAgICAgICAgICAgICAgIDwvZGl2PmAsCiAgICAgICAgICAgICAgICB7InN0aWNreSI6IHRydWV9CiAgICAgICAgICAgICk7CiAgICAgICAgCiAgICAKICAgICAgICAgICAgdmFyIGNpcmNsZV9iMzNmY2VmYmZjMmM0MmQ1OWZjZjJmZmE2OTAwNzFmYiA9IEwuY2lyY2xlKAogICAgICAgICAgICAgICAgWzEuNSwgMTAuMF0sCiAgICAgICAgICAgICAgICB7ImJ1YmJsaW5nTW91c2VFdmVudHMiOiB0cnVlLCAiY29sb3IiOiAicmVkIiwgImRhc2hBcnJheSI6IG51bGwsICJkYXNoT2Zmc2V0IjogbnVsbCwgImZpbGwiOiB0cnVlLCAiZmlsbENvbG9yIjogImluZGlnbyIsICJmaWxsT3BhY2l0eSI6IDAuMiwgImZpbGxSdWxlIjogImV2ZW5vZGQiLCAibGluZUNhcCI6ICJyb3VuZCIsICJsaW5lSm9pbiI6ICJyb3VuZCIsICJvcGFjaXR5IjogMS4wLCAicmFkaXVzIjogMjYwMDAwLjAsICJzdHJva2UiOiB0cnVlLCAid2VpZ2h0IjogM30KICAgICAgICAgICAgKS5hZGRUbyhtYXBfZmZmMTg1NzU5NGJmNGEzYTgyNzhmMTI1MzZjY2Q2MzcpOwogICAgICAgIAogICAgCiAgICAgICAgICAgIGNpcmNsZV9iMzNmY2VmYmZjMmM0MmQ1OWZjZjJmZmE2OTAwNzFmYi5iaW5kVG9vbHRpcCgKICAgICAgICAgICAgICAgIGA8ZGl2PgogICAgICAgICAgICAgICAgICAgICA8ZGl2IHN0eWxlPSdtYXJnaW46IDA7IGJhY2tncm91bmQtY29sb3I6IGJsYWNrOyBjb2xvcjogd2hpdGU7Jz48aDQgc3R5bGU9J3RleHQtYWxpZ246Y2VudGVyO2ZvbnQtd2VpZ2h0OiBib2xkJz5FcXVhdG9yaWFsIEd1aW5lYTwvaDQ+PGhyIHN0eWxlPSdtYXJnaW46MTBweDtjb2xvcjogd2hpdGU7Jz48dWwgc3R5bGU9J2NvbG9yOiB3aGl0ZTs7bGlzdC1zdHlsZS10eXBlOmNpcmNsZTthbGlnbi1pdGVtOmxlZnQ7cGFkZGluZy1sZWZ0OjIwcHg7cGFkZGluZy1yaWdodDoyMHB4Jz48bGk+Q29uZmlybWVkOiAzMTU8L2xpPjxsaT5EZWF0aHM6ICAgMTwvbGk+PGxpPkRlYXRoIFJhdGU6IDAuMzI8L2xpPjwvdWw+PC9kaXY+CiAgICAgICAgICAgICAgICAgPC9kaXY+YCwKICAgICAgICAgICAgICAgIHsic3RpY2t5IjogdHJ1ZX0KICAgICAgICAgICAgKTsKICAgICAgICAKICAgIAogICAgICAgICAgICB2YXIgY2lyY2xlX2ExNTljMDBiN2RhMzQwMjc5MDI0OWM0N2ZjODIyMzkxID0gTC5jaXJjbGUoCiAgICAgICAgICAgICAgICBbMTUuMTc5NCwgMzkuNzgyM10sCiAgICAgICAgICAgICAgICB7ImJ1YmJsaW5nTW91c2VFdmVudHMiOiB0cnVlLCAiY29sb3IiOiAicmVkIiwgImRhc2hBcnJheSI6IG51bGwsICJkYXNoT2Zmc2V0IjogbnVsbCwgImZpbGwiOiB0cnVlLCAiZmlsbENvbG9yIjogImluZGlnbyIsICJmaWxsT3BhY2l0eSI6IDAuMiwgImZpbGxSdWxlIjogImV2ZW5vZGQiLCAibGluZUNhcCI6ICJyb3VuZCIsICJsaW5lSm9pbiI6ICJyb3VuZCIsICJvcGFjaXR5IjogMS4wLCAicmFkaXVzIjogMTYwMDAwLjAsICJzdHJva2UiOiB0cnVlLCAid2VpZ2h0IjogM30KICAgICAgICAgICAgKS5hZGRUbyhtYXBfZmZmMTg1NzU5NGJmNGEzYTgyNzhmMTI1MzZjY2Q2MzcpOwogICAgICAgIAogICAgCiAgICAgICAgICAgIGNpcmNsZV9hMTU5YzAwYjdkYTM0MDI3OTAyNDljNDdmYzgyMjM5MS5iaW5kVG9vbHRpcCgKICAgICAgICAgICAgICAgIGA8ZGl2PgogICAgICAgICAgICAgICAgICAgICA8ZGl2IHN0eWxlPSdtYXJnaW46IDA7IGJhY2tncm91bmQtY29sb3I6IGJsYWNrOyBjb2xvcjogd2hpdGU7Jz48aDQgc3R5bGU9J3RleHQtYWxpZ246Y2VudGVyO2ZvbnQtd2VpZ2h0OiBib2xkJz5Fcml0cmVhPC9oND48aHIgc3R5bGU9J21hcmdpbjoxMHB4O2NvbG9yOiB3aGl0ZTsnPjx1bCBzdHlsZT0nY29sb3I6IHdoaXRlOztsaXN0LXN0eWxlLXR5cGU6Y2lyY2xlO2FsaWduLWl0ZW06bGVmdDtwYWRkaW5nLWxlZnQ6MjBweDtwYWRkaW5nLXJpZ2h0OjIwcHgnPjxsaT5Db25maXJtZWQ6IDM5PC9saT48bGk+RGVhdGhzOiAgIDA8L2xpPjxsaT5EZWF0aCBSYXRlOiAwLjA8L2xpPjwvdWw+PC9kaXY+CiAgICAgICAgICAgICAgICAgPC9kaXY+YCwKICAgICAgICAgICAgICAgIHsic3RpY2t5IjogdHJ1ZX0KICAgICAgICAgICAgKTsKICAgICAgICAKICAgIAogICAgICAgICAgICB2YXIgY2lyY2xlXzA0YTJiNjI5MWFkZjQwYjQ5OGQwZmM1MWI1YTIyNjcwID0gTC5jaXJjbGUoCiAgICAgICAgICAgICAgICBbNTguNTk1MywgMjUuMDEzNl0sCiAgICAgICAgICAgICAgICB7ImJ1YmJsaW5nTW91c2VFdmVudHMiOiB0cnVlLCAiY29sb3IiOiAicmVkIiwgImRhc2hBcnJheSI6IG51bGwsICJkYXNoT2Zmc2V0IjogbnVsbCwgImZpbGwiOiB0cnVlLCAiZmlsbENvbG9yIjogImluZGlnbyIsICJmaWxsT3BhY2l0eSI6IDAuMiwgImZpbGxSdWxlIjogImV2ZW5vZGQiLCAibGluZUNhcCI6ICJyb3VuZCIsICJsaW5lSm9pbiI6ICJyb3VuZCIsICJvcGFjaXR5IjogMS4wLCAicmFkaXVzIjogMzYwMDAwLjAsICJzdHJva2UiOiB0cnVlLCAid2VpZ2h0IjogM30KICAgICAgICAgICAgKS5hZGRUbyhtYXBfZmZmMTg1NzU5NGJmNGEzYTgyNzhmMTI1MzZjY2Q2MzcpOwogICAgICAgIAogICAgCiAgICAgICAgICAgIGNpcmNsZV8wNGEyYjYyOTFhZGY0MGI0OThkMGZjNTFiNWEyMjY3MC5iaW5kVG9vbHRpcCgKICAgICAgICAgICAgICAgIGA8ZGl2PgogICAgICAgICAgICAgICAgICAgICA8ZGl2IHN0eWxlPSdtYXJnaW46IDA7IGJhY2tncm91bmQtY29sb3I6IGJsYWNrOyBjb2xvcjogd2hpdGU7Jz48aDQgc3R5bGU9J3RleHQtYWxpZ246Y2VudGVyO2ZvbnQtd2VpZ2h0OiBib2xkJz5Fc3RvbmlhPC9oND48aHIgc3R5bGU9J21hcmdpbjoxMHB4O2NvbG9yOiB3aGl0ZTsnPjx1bCBzdHlsZT0nY29sb3I6IHdoaXRlOztsaXN0LXN0eWxlLXR5cGU6Y2lyY2xlO2FsaWduLWl0ZW06bGVmdDtwYWRkaW5nLWxlZnQ6MjBweDtwYWRkaW5nLXJpZ2h0OjIwcHgnPjxsaT5Db25maXJtZWQ6IDE2OTQ8L2xpPjxsaT5EZWF0aHM6ICAgNTI8L2xpPjxsaT5EZWF0aCBSYXRlOiAzLjA3PC9saT48L3VsPjwvZGl2PgogICAgICAgICAgICAgICAgIDwvZGl2PmAsCiAgICAgICAgICAgICAgICB7InN0aWNreSI6IHRydWV9CiAgICAgICAgICAgICk7CiAgICAgICAgCiAgICAKICAgICAgICAgICAgdmFyIGNpcmNsZV84MTQ5MDZiZjZjNTk0ZjdkYWVhMTJjZDU1YjY0OTM3MiA9IEwuY2lyY2xlKAogICAgICAgICAgICAgICAgWy0yNi41MjI1LCAzMS40NjU5XSwKICAgICAgICAgICAgICAgIHsiYnViYmxpbmdNb3VzZUV2ZW50cyI6IHRydWUsICJjb2xvciI6ICJyZWQiLCAiZGFzaEFycmF5IjogbnVsbCwgImRhc2hPZmZzZXQiOiBudWxsLCAiZmlsbCI6IHRydWUsICJmaWxsQ29sb3IiOiAiaW5kaWdvIiwgImZpbGxPcGFjaXR5IjogMC4yLCAiZmlsbFJ1bGUiOiAiZXZlbm9kZCIsICJsaW5lQ2FwIjogInJvdW5kIiwgImxpbmVKb2luIjogInJvdW5kIiwgIm9wYWNpdHkiOiAxLjAsICJyYWRpdXMiOiAyMTAwMDAuMCwgInN0cm9rZSI6IHRydWUsICJ3ZWlnaHQiOiAzfQogICAgICAgICAgICApLmFkZFRvKG1hcF9mZmYxODU3NTk0YmY0YTNhODI3OGYxMjUzNmNjZDYzNyk7CiAgICAgICAgCiAgICAKICAgICAgICAgICAgY2lyY2xlXzgxNDkwNmJmNmM1OTRmN2RhZWExMmNkNTViNjQ5MzcyLmJpbmRUb29sdGlwKAogICAgICAgICAgICAgICAgYDxkaXY+CiAgICAgICAgICAgICAgICAgICAgIDxkaXYgc3R5bGU9J21hcmdpbjogMDsgYmFja2dyb3VuZC1jb2xvcjogYmxhY2s7IGNvbG9yOiB3aGl0ZTsnPjxoNCBzdHlsZT0ndGV4dC1hbGlnbjpjZW50ZXI7Zm9udC13ZWlnaHQ6IGJvbGQnPkVzd2F0aW5pPC9oND48aHIgc3R5bGU9J21hcmdpbjoxMHB4O2NvbG9yOiB3aGl0ZTsnPjx1bCBzdHlsZT0nY29sb3I6IHdoaXRlOztsaXN0LXN0eWxlLXR5cGU6Y2lyY2xlO2FsaWduLWl0ZW06bGVmdDtwYWRkaW5nLWxlZnQ6MjBweDtwYWRkaW5nLXJpZ2h0OjIwcHgnPjxsaT5Db25maXJtZWQ6IDEwNjwvbGk+PGxpPkRlYXRoczogICAxPC9saT48bGk+RGVhdGggUmF0ZTogMC45MzwvbGk+PC91bD48L2Rpdj4KICAgICAgICAgICAgICAgICA8L2Rpdj5gLAogICAgICAgICAgICAgICAgeyJzdGlja3kiOiB0cnVlfQogICAgICAgICAgICApOwogICAgICAgIAogICAgCiAgICAgICAgICAgIHZhciBjaXJjbGVfMmY3NDhjODg0Mzc0NGNkZDljMDM5NjY4ZDE0MzdkMDAgPSBMLmNpcmNsZSgKICAgICAgICAgICAgICAgIFs5LjE0NSwgNDAuNDg5N10sCiAgICAgICAgICAgICAgICB7ImJ1YmJsaW5nTW91c2VFdmVudHMiOiB0cnVlLCAiY29sb3IiOiAicmVkIiwgImRhc2hBcnJheSI6IG51bGwsICJkYXNoT2Zmc2V0IjogbnVsbCwgImZpbGwiOiB0cnVlLCAiZmlsbENvbG9yIjogImluZGlnbyIsICJmaWxsT3BhY2l0eSI6IDAuMiwgImZpbGxSdWxlIjogImV2ZW5vZGQiLCAibGluZUNhcCI6ICJyb3VuZCIsICJsaW5lSm9pbiI6ICJyb3VuZCIsICJvcGFjaXR5IjogMS4wLCAicmFkaXVzIjogMjEwMDAwLjAsICJzdHJva2UiOiB0cnVlLCAid2VpZ2h0IjogM30KICAgICAgICAgICAgKS5hZGRUbyhtYXBfZmZmMTg1NzU5NGJmNGEzYTgyNzhmMTI1MzZjY2Q2MzcpOwogICAgICAgIAogICAgCiAgICAgICAgICAgIGNpcmNsZV8yZjc0OGM4ODQzNzQ0Y2RkOWMwMzk2NjhkMTQzN2QwMC5iaW5kVG9vbHRpcCgKICAgICAgICAgICAgICAgIGA8ZGl2PgogICAgICAgICAgICAgICAgICAgICA8ZGl2IHN0eWxlPSdtYXJnaW46IDA7IGJhY2tncm91bmQtY29sb3I6IGJsYWNrOyBjb2xvcjogd2hpdGU7Jz48aDQgc3R5bGU9J3RleHQtYWxpZ246Y2VudGVyO2ZvbnQtd2VpZ2h0OiBib2xkJz5FdGhpb3BpYTwvaDQ+PGhyIHN0eWxlPSdtYXJnaW46MTBweDtjb2xvcjogd2hpdGU7Jz48dWwgc3R5bGU9J2NvbG9yOiB3aGl0ZTs7bGlzdC1zdHlsZS10eXBlOmNpcmNsZTthbGlnbi1pdGVtOmxlZnQ7cGFkZGluZy1sZWZ0OjIwcHg7cGFkZGluZy1yaWdodDoyMHB4Jz48bGk+Q29uZmlybWVkOiAxMzM8L2xpPjxsaT5EZWF0aHM6ICAgMzwvbGk+PGxpPkRlYXRoIFJhdGU6IDIuMjQ8L2xpPjwvdWw+PC9kaXY+CiAgICAgICAgICAgICAgICAgPC9kaXY+YCwKICAgICAgICAgICAgICAgIHsic3RpY2t5IjogdHJ1ZX0KICAgICAgICAgICAgKTsKICAgICAgICAKICAgIAogICAgICAgICAgICB2YXIgY2lyY2xlXzViNjdlMjBhOGVmMTRmMDk4NGRiNTEyYWFhY2Y3YmYxID0gTC5jaXJjbGUoCiAgICAgICAgICAgICAgICBbLTE3LjcxMzQsIDE3OC4wNjVdLAogICAgICAgICAgICAgICAgeyJidWJibGluZ01vdXNlRXZlbnRzIjogdHJ1ZSwgImNvbG9yIjogInJlZCIsICJkYXNoQXJyYXkiOiBudWxsLCAiZGFzaE9mZnNldCI6IG51bGwsICJmaWxsIjogdHJ1ZSwgImZpbGxDb2xvciI6ICJpbmRpZ28iLCAiZmlsbE9wYWNpdHkiOiAwLjIsICJmaWxsUnVsZSI6ICJldmVub2RkIiwgImxpbmVDYXAiOiAicm91bmQiLCAibGluZUpvaW4iOiAicm91bmQiLCAib3BhY2l0eSI6IDEuMCwgInJhZGl1cyI6IDExMDAwMC4wMDAwMDAwMDAwMSwgInN0cm9rZSI6IHRydWUsICJ3ZWlnaHQiOiAzfQogICAgICAgICAgICApLmFkZFRvKG1hcF9mZmYxODU3NTk0YmY0YTNhODI3OGYxMjUzNmNjZDYzNyk7CiAgICAgICAgCiAgICAKICAgICAgICAgICAgY2lyY2xlXzViNjdlMjBhOGVmMTRmMDk4NGRiNTEyYWFhY2Y3YmYxLmJpbmRUb29sdGlwKAogICAgICAgICAgICAgICAgYDxkaXY+CiAgICAgICAgICAgICAgICAgICAgIDxkaXYgc3R5bGU9J21hcmdpbjogMDsgYmFja2dyb3VuZC1jb2xvcjogYmxhY2s7IGNvbG9yOiB3aGl0ZTsnPjxoNCBzdHlsZT0ndGV4dC1hbGlnbjpjZW50ZXI7Zm9udC13ZWlnaHQ6IGJvbGQnPkZpamk8L2g0PjxociBzdHlsZT0nbWFyZ2luOjEwcHg7Y29sb3I6IHdoaXRlOyc+PHVsIHN0eWxlPSdjb2xvcjogd2hpdGU7O2xpc3Qtc3R5bGUtdHlwZTpjaXJjbGU7YWxpZ24taXRlbTpsZWZ0O3BhZGRpbmctbGVmdDoyMHB4O3BhZGRpbmctcmlnaHQ6MjBweCc+PGxpPkNvbmZpcm1lZDogMTg8L2xpPjxsaT5EZWF0aHM6ICAgMDwvbGk+PGxpPkRlYXRoIFJhdGU6IDAuMDwvbGk+PC91bD48L2Rpdj4KICAgICAgICAgICAgICAgICA8L2Rpdj5gLAogICAgICAgICAgICAgICAgeyJzdGlja3kiOiB0cnVlfQogICAgICAgICAgICApOwogICAgICAgIAogICAgCiAgICAgICAgICAgIHZhciBjaXJjbGVfN2I2MWVjMDQ2YmEyNDIyMmI1OGZjMmNjZDdiNzgwMDUgPSBMLmNpcmNsZSgKICAgICAgICAgICAgICAgIFs2NC4wLCAyNi4wXSwKICAgICAgICAgICAgICAgIHsiYnViYmxpbmdNb3VzZUV2ZW50cyI6IHRydWUsICJjb2xvciI6ICJyZWQiLCAiZGFzaEFycmF5IjogbnVsbCwgImRhc2hPZmZzZXQiOiBudWxsLCAiZmlsbCI6IHRydWUsICJmaWxsQ29sb3IiOiAiaW5kaWdvIiwgImZpbGxPcGFjaXR5IjogMC4yLCAiZmlsbFJ1bGUiOiAiZXZlbm9kZCIsICJsaW5lQ2FwIjogInJvdW5kIiwgImxpbmVKb2luIjogInJvdW5kIiwgIm9wYWNpdHkiOiAxLjAsICJyYWRpdXMiOiA0MDk5OTkuOTk5OTk5OTk5OTQsICJzdHJva2UiOiB0cnVlLCAid2VpZ2h0IjogM30KICAgICAgICAgICAgKS5hZGRUbyhtYXBfZmZmMTg1NzU5NGJmNGEzYTgyNzhmMTI1MzZjY2Q2MzcpOwogICAgICAgIAogICAgCiAgICAgICAgICAgIGNpcmNsZV83YjYxZWMwNDZiYTI0MjIyYjU4ZmMyY2NkN2I3ODAwNS5iaW5kVG9vbHRpcCgKICAgICAgICAgICAgICAgIGA8ZGl2PgogICAgICAgICAgICAgICAgICAgICA8ZGl2IHN0eWxlPSdtYXJnaW46IDA7IGJhY2tncm91bmQtY29sb3I6IGJsYWNrOyBjb2xvcjogd2hpdGU7Jz48aDQgc3R5bGU9J3RleHQtYWxpZ246Y2VudGVyO2ZvbnQtd2VpZ2h0OiBib2xkJz5GaW5sYW5kPC9oND48aHIgc3R5bGU9J21hcmdpbjoxMHB4O2NvbG9yOiB3aGl0ZTsnPjx1bCBzdHlsZT0nY29sb3I6IHdoaXRlOztsaXN0LXN0eWxlLXR5cGU6Y2lyY2xlO2FsaWduLWl0ZW06bGVmdDtwYWRkaW5nLWxlZnQ6MjBweDtwYWRkaW5nLXJpZ2h0OjIwcHgnPjxsaT5Db25maXJtZWQ6IDUwNTE8L2xpPjxsaT5EZWF0aHM6ICAgMjE4PC9saT48bGk+RGVhdGggUmF0ZTogNC4zMjwvbGk+PC91bD48L2Rpdj4KICAgICAgICAgICAgICAgICA8L2Rpdj5gLAogICAgICAgICAgICAgICAgeyJzdGlja3kiOiB0cnVlfQogICAgICAgICAgICApOwogICAgICAgIAogICAgCiAgICAgICAgICAgIHZhciBjaXJjbGVfMmQ3MWQ4NmRhY2U3NDliNDkyODYxMWI2MzdlZTUwNzMgPSBMLmNpcmNsZSgKICAgICAgICAgICAgICAgIFszLjkzMzksIC01My4xMjU4XSwKICAgICAgICAgICAgICAgIHsiYnViYmxpbmdNb3VzZUV2ZW50cyI6IHRydWUsICJjb2xvciI6ICJyZWQiLCAiZGFzaEFycmF5IjogbnVsbCwgImRhc2hPZmZzZXQiOiBudWxsLCAiZmlsbCI6IHRydWUsICJmaWxsQ29sb3IiOiAiaW5kaWdvIiwgImZpbGxPcGFjaXR5IjogMC4yLCAiZmlsbFJ1bGUiOiAiZXZlbm9kZCIsICJsaW5lQ2FwIjogInJvdW5kIiwgImxpbmVKb2luIjogInJvdW5kIiwgIm9wYWNpdHkiOiAxLjAsICJyYWRpdXMiOiAyMTAwMDAuMCwgInN0cm9rZSI6IHRydWUsICJ3ZWlnaHQiOiAzfQogICAgICAgICAgICApLmFkZFRvKG1hcF9mZmYxODU3NTk0YmY0YTNhODI3OGYxMjUzNmNjZDYzNyk7CiAgICAgICAgCiAgICAKICAgICAgICAgICAgY2lyY2xlXzJkNzFkODZkYWNlNzQ5YjQ5Mjg2MTFiNjM3ZWU1MDczLmJpbmRUb29sdGlwKAogICAgICAgICAgICAgICAgYDxkaXY+CiAgICAgICAgICAgICAgICAgICAgIDxkaXYgc3R5bGU9J21hcmdpbjogMDsgYmFja2dyb3VuZC1jb2xvcjogYmxhY2s7IGNvbG9yOiB3aGl0ZTsnPjxoNCBzdHlsZT0ndGV4dC1hbGlnbjpjZW50ZXI7Zm9udC13ZWlnaHQ6IGJvbGQnPkZyYW5jZTwvaDQ+PGhyIHN0eWxlPSdtYXJnaW46MTBweDtjb2xvcjogd2hpdGU7Jz48dWwgc3R5bGU9J2NvbG9yOiB3aGl0ZTs7bGlzdC1zdHlsZS10eXBlOmNpcmNsZTthbGlnbi1pdGVtOmxlZnQ7cGFkZGluZy1sZWZ0OjIwcHg7cGFkZGluZy1yaWdodDoyMHB4Jz48bGk+Q29uZmlybWVkOiAxMjg8L2xpPjxsaT5EZWF0aHM6ICAgMTwvbGk+PGxpPkRlYXRoIFJhdGU6IDAuNzg8L2xpPjwvdWw+PC9kaXY+CiAgICAgICAgICAgICAgICAgPC9kaXY+YCwKICAgICAgICAgICAgICAgIHsic3RpY2t5IjogdHJ1ZX0KICAgICAgICAgICAgKTsKICAgICAgICAKICAgIAogICAgICAgICAgICB2YXIgY2lyY2xlXzFkYjgzZGUyNDUyMDQ2YmRhMjNjYjhjYzg3YTg5OWE4ID0gTC5jaXJjbGUoCiAgICAgICAgICAgICAgICBbLTE3LjY3OTcsIDE0OS40MDY4XSwKICAgICAgICAgICAgICAgIHsiYnViYmxpbmdNb3VzZUV2ZW50cyI6IHRydWUsICJjb2xvciI6ICJyZWQiLCAiZGFzaEFycmF5IjogbnVsbCwgImRhc2hPZmZzZXQiOiBudWxsLCAiZmlsbCI6IHRydWUsICJmaWxsQ29sb3IiOiAiaW5kaWdvIiwgImZpbGxPcGFjaXR5IjogMC4yLCAiZmlsbFJ1bGUiOiAiZXZlbm9kZCIsICJsaW5lQ2FwIjogInJvdW5kIiwgImxpbmVKb2luIjogInJvdW5kIiwgIm9wYWNpdHkiOiAxLjAsICJyYWRpdXMiOiAyMTAwMDAuMCwgInN0cm9rZSI6IHRydWUsICJ3ZWlnaHQiOiAzfQogICAgICAgICAgICApLmFkZFRvKG1hcF9mZmYxODU3NTk0YmY0YTNhODI3OGYxMjUzNmNjZDYzNyk7CiAgICAgICAgCiAgICAKICAgICAgICAgICAgY2lyY2xlXzFkYjgzZGUyNDUyMDQ2YmRhMjNjYjhjYzg3YTg5OWE4LmJpbmRUb29sdGlwKAogICAgICAgICAgICAgICAgYDxkaXY+CiAgICAgICAgICAgICAgICAgICAgIDxkaXYgc3R5bGU9J21hcmdpbjogMDsgYmFja2dyb3VuZC1jb2xvcjogYmxhY2s7IGNvbG9yOiB3aGl0ZTsnPjxoNCBzdHlsZT0ndGV4dC1hbGlnbjpjZW50ZXI7Zm9udC13ZWlnaHQ6IGJvbGQnPkZyYW5jZTwvaDQ+PGhyIHN0eWxlPSdtYXJnaW46MTBweDtjb2xvcjogd2hpdGU7Jz48dWwgc3R5bGU9J2NvbG9yOiB3aGl0ZTs7bGlzdC1zdHlsZS10eXBlOmNpcmNsZTthbGlnbi1pdGVtOmxlZnQ7cGFkZGluZy1sZWZ0OjIwcHg7cGFkZGluZy1yaWdodDoyMHB4Jz48bGk+Q29uZmlybWVkOiA1ODwvbGk+PGxpPkRlYXRoczogICAwPC9saT48bGk+RGVhdGggUmF0ZTogMC4wPC9saT48L3VsPjwvZGl2PgogICAgICAgICAgICAgICAgIDwvZGl2PmAsCiAgICAgICAgICAgICAgICB7InN0aWNreSI6IHRydWV9CiAgICAgICAgICAgICk7CiAgICAgICAgCiAgICAKICAgICAgICAgICAgdmFyIGNpcmNsZV9hZTQ1NzMzZTE4NjE0NTNlOWNjMzRmYWFlZTIzZjRmOSA9IEwuY2lyY2xlKAogICAgICAgICAgICAgICAgWzE2LjI1LCAtNjEuNTgzM10sCiAgICAgICAgICAgICAgICB7ImJ1YmJsaW5nTW91c2VFdmVudHMiOiB0cnVlLCAiY29sb3IiOiAicmVkIiwgImRhc2hBcnJheSI6IG51bGwsICJkYXNoT2Zmc2V0IjogbnVsbCwgImZpbGwiOiB0cnVlLCAiZmlsbENvbG9yIjogImluZGlnbyIsICJmaWxsT3BhY2l0eSI6IDAuMiwgImZpbGxSdWxlIjogImV2ZW5vZGQiLCAibGluZUNhcCI6ICJyb3VuZCIsICJsaW5lSm9pbiI6ICJyb3VuZCIsICJvcGFjaXR5IjogMS4wLCAicmFkaXVzIjogMjYwMDAwLjAsICJzdHJva2UiOiB0cnVlLCAid2VpZ2h0IjogM30KICAgICAgICAgICAgKS5hZGRUbyhtYXBfZmZmMTg1NzU5NGJmNGEzYTgyNzhmMTI1MzZjY2Q2MzcpOwogICAgICAgIAogICAgCiAgICAgICAgICAgIGNpcmNsZV9hZTQ1NzMzZTE4NjE0NTNlOWNjMzRmYWFlZTIzZjRmOS5iaW5kVG9vbHRpcCgKICAgICAgICAgICAgICAgIGA8ZGl2PgogICAgICAgICAgICAgICAgICAgICA8ZGl2IHN0eWxlPSdtYXJnaW46IDA7IGJhY2tncm91bmQtY29sb3I6IGJsYWNrOyBjb2xvcjogd2hpdGU7Jz48aDQgc3R5bGU9J3RleHQtYWxpZ246Y2VudGVyO2ZvbnQtd2VpZ2h0OiBib2xkJz5GcmFuY2U8L2g0PjxociBzdHlsZT0nbWFyZ2luOjEwcHg7Y29sb3I6IHdoaXRlOyc+PHVsIHN0eWxlPSdjb2xvcjogd2hpdGU7O2xpc3Qtc3R5bGUtdHlwZTpjaXJjbGU7YWxpZ24taXRlbTpsZWZ0O3BhZGRpbmctbGVmdDoyMHB4O3BhZGRpbmctcmlnaHQ6MjBweCc+PGxpPkNvbmZpcm1lZDogMTUyPC9saT48bGk+RGVhdGhzOiAgIDEyPC9saT48bGk+RGVhdGggUmF0ZTogNy44NDwvbGk+PC91bD48L2Rpdj4KICAgICAgICAgICAgICAgICA8L2Rpdj5gLAogICAgICAgICAgICAgICAgeyJzdGlja3kiOiB0cnVlfQogICAgICAgICAgICApOwogICAgICAgIAogICAgCiAgICAgICAgICAgIHZhciBjaXJjbGVfNmE5YzIzNjhkYTI5NDdmMWJhOWIyZTgzMmM4NmNiNjIgPSBMLmNpcmNsZSgKICAgICAgICAgICAgICAgIFstMTIuODI3NSwgNDUuMTY2Ml0sCiAgICAgICAgICAgICAgICB7ImJ1YmJsaW5nTW91c2VFdmVudHMiOiB0cnVlLCAiY29sb3IiOiAicmVkIiwgImRhc2hBcnJheSI6IG51bGwsICJkYXNoT2Zmc2V0IjogbnVsbCwgImZpbGwiOiB0cnVlLCAiZmlsbENvbG9yIjogImluZGlnbyIsICJmaWxsT3BhY2l0eSI6IDAuMiwgImZpbGxSdWxlIjogImV2ZW5vZGQiLCAibGluZUNhcCI6ICJyb3VuZCIsICJsaW5lSm9pbiI6ICJyb3VuZCIsICJvcGFjaXR5IjogMS4wLCAicmFkaXVzIjogMzEwMDAwLjAsICJzdHJva2UiOiB0cnVlLCAid2VpZ2h0IjogM30KICAgICAgICAgICAgKS5hZGRUbyhtYXBfZmZmMTg1NzU5NGJmNGEzYTgyNzhmMTI1MzZjY2Q2MzcpOwogICAgICAgIAogICAgCiAgICAgICAgICAgIGNpcmNsZV82YTljMjM2OGRhMjk0N2YxYmE5YjJlODMyYzg2Y2I2Mi5iaW5kVG9vbHRpcCgKICAgICAgICAgICAgICAgIGA8ZGl2PgogICAgICAgICAgICAgICAgICAgICA8ZGl2IHN0eWxlPSdtYXJnaW46IDA7IGJhY2tncm91bmQtY29sb3I6IGJsYWNrOyBjb2xvcjogd2hpdGU7Jz48aDQgc3R5bGU9J3RleHQtYWxpZ246Y2VudGVyO2ZvbnQtd2VpZ2h0OiBib2xkJz5GcmFuY2U8L2g0PjxociBzdHlsZT0nbWFyZ2luOjEwcHg7Y29sb3I6IHdoaXRlOyc+PHVsIHN0eWxlPSdjb2xvcjogd2hpdGU7O2xpc3Qtc3R5bGUtdHlwZTpjaXJjbGU7YWxpZ24taXRlbTpsZWZ0O3BhZGRpbmctbGVmdDoyMHB4O3BhZGRpbmctcmlnaHQ6MjBweCc+PGxpPkNvbmZpcm1lZDogNTM5PC9saT48bGk+RGVhdGhzOiAgIDQ8L2xpPjxsaT5EZWF0aCBSYXRlOiAwLjc0PC9saT48L3VsPjwvZGl2PgogICAgICAgICAgICAgICAgIDwvZGl2PmAsCiAgICAgICAgICAgICAgICB7InN0aWNreSI6IHRydWV9CiAgICAgICAgICAgICk7CiAgICAgICAgCiAgICAKICAgICAgICAgICAgdmFyIGNpcmNsZV83YzVmM2JhMDg0NDM0MDg1YjIzYWQ2Nzg2NDFlNDI1MyA9IEwuY2lyY2xlKAogICAgICAgICAgICAgICAgWy0yMC45MDQzLCAxNjUuNjE4XSwKICAgICAgICAgICAgICAgIHsiYnViYmxpbmdNb3VzZUV2ZW50cyI6IHRydWUsICJjb2xvciI6ICJyZWQiLCAiZGFzaEFycmF5IjogbnVsbCwgImRhc2hPZmZzZXQiOiBudWxsLCAiZmlsbCI6IHRydWUsICJmaWxsQ29sb3IiOiAiaW5kaWdvIiwgImZpbGxPcGFjaXR5IjogMC4yLCAiZmlsbFJ1bGUiOiAiZXZlbm9kZCIsICJsaW5lQ2FwIjogInJvdW5kIiwgImxpbmVKb2luIjogInJvdW5kIiwgIm9wYWNpdHkiOiAxLjAsICJyYWRpdXMiOiAxMTAwMDAuMDAwMDAwMDAwMDEsICJzdHJva2UiOiB0cnVlLCAid2VpZ2h0IjogM30KICAgICAgICAgICAgKS5hZGRUbyhtYXBfZmZmMTg1NzU5NGJmNGEzYTgyNzhmMTI1MzZjY2Q2MzcpOwogICAgICAgIAogICAgCiAgICAgICAgICAgIGNpcmNsZV83YzVmM2JhMDg0NDM0MDg1YjIzYWQ2Nzg2NDFlNDI1My5iaW5kVG9vbHRpcCgKICAgICAgICAgICAgICAgIGA8ZGl2PgogICAgICAgICAgICAgICAgICAgICA8ZGl2IHN0eWxlPSdtYXJnaW46IDA7IGJhY2tncm91bmQtY29sb3I6IGJsYWNrOyBjb2xvcjogd2hpdGU7Jz48aDQgc3R5bGU9J3RleHQtYWxpZ246Y2VudGVyO2ZvbnQtd2VpZ2h0OiBib2xkJz5GcmFuY2U8L2g0PjxociBzdHlsZT0nbWFyZ2luOjEwcHg7Y29sb3I6IHdoaXRlOyc+PHVsIHN0eWxlPSdjb2xvcjogd2hpdGU7O2xpc3Qtc3R5bGUtdHlwZTpjaXJjbGU7YWxpZ24taXRlbTpsZWZ0O3BhZGRpbmctbGVmdDoyMHB4O3BhZGRpbmctcmlnaHQ6MjBweCc+PGxpPkNvbmZpcm1lZDogMTg8L2xpPjxsaT5EZWF0aHM6ICAgMDwvbGk+PGxpPkRlYXRoIFJhdGU6IDAuMDwvbGk+PC91bD48L2Rpdj4KICAgICAgICAgICAgICAgICA8L2Rpdj5gLAogICAgICAgICAgICAgICAgeyJzdGlja3kiOiB0cnVlfQogICAgICAgICAgICApOwogICAgICAgIAogICAgCiAgICAgICAgICAgIHZhciBjaXJjbGVfNTRkYTVhN2Y5ZjRiNDYyYzgwMTM5MDAyMjAxYjI4YjQgPSBMLmNpcmNsZSgKICAgICAgICAgICAgICAgIFstMjEuMTM1MSwgNTUuMjQ3MV0sCiAgICAgICAgICAgICAgICB7ImJ1YmJsaW5nTW91c2VFdmVudHMiOiB0cnVlLCAiY29sb3IiOiAicmVkIiwgImRhc2hBcnJheSI6IG51bGwsICJkYXNoT2Zmc2V0IjogbnVsbCwgImZpbGwiOiB0cnVlLCAiZmlsbENvbG9yIjogImluZGlnbyIsICJmaWxsT3BhY2l0eSI6IDAuMiwgImZpbGxSdWxlIjogImV2ZW5vZGQiLCAibGluZUNhcCI6ICJyb3VuZCIsICJsaW5lSm9pbiI6ICJyb3VuZCIsICJvcGFjaXR5IjogMS4wLCAicmFkaXVzIjogMzEwMDAwLjAsICJzdHJva2UiOiB0cnVlLCAid2VpZ2h0IjogM30KICAgICAgICAgICAgKS5hZGRUbyhtYXBfZmZmMTg1NzU5NGJmNGEzYTgyNzhmMTI1MzZjY2Q2MzcpOwogICAgICAgIAogICAgCiAgICAgICAgICAgIGNpcmNsZV81NGRhNWE3ZjlmNGI0NjJjODAxMzkwMDIyMDFiMjhiNC5iaW5kVG9vbHRpcCgKICAgICAgICAgICAgICAgIGA8ZGl2PgogICAgICAgICAgICAgICAgICAgICA8ZGl2IHN0eWxlPSdtYXJnaW46IDA7IGJhY2tncm91bmQtY29sb3I6IGJsYWNrOyBjb2xvcjogd2hpdGU7Jz48aDQgc3R5bGU9J3RleHQtYWxpZ246Y2VudGVyO2ZvbnQtd2VpZ2h0OiBib2xkJz5GcmFuY2U8L2g0PjxociBzdHlsZT0nbWFyZ2luOjEwcHg7Y29sb3I6IHdoaXRlOyc+PHVsIHN0eWxlPSdjb2xvcjogd2hpdGU7O2xpc3Qtc3R5bGUtdHlwZTpjaXJjbGU7YWxpZ24taXRlbTpsZWZ0O3BhZGRpbmctbGVmdDoyMHB4O3BhZGRpbmctcmlnaHQ6MjBweCc+PGxpPkNvbmZpcm1lZDogNDIyPC9saT48bGk+RGVhdGhzOiAgIDA8L2xpPjxsaT5EZWF0aCBSYXRlOiAwLjA8L2xpPjwvdWw+PC9kaXY+CiAgICAgICAgICAgICAgICAgPC9kaXY+YCwKICAgICAgICAgICAgICAgIHsic3RpY2t5IjogdHJ1ZX0KICAgICAgICAgICAgKTsKICAgICAgICAKICAgIAogICAgICAgICAgICB2YXIgY2lyY2xlX2Q4ZWRjMmJmYzZjNjQyNjJiNTg3NWJhYzQzYzU2MmE5ID0gTC5jaXJjbGUoCiAgICAgICAgICAgICAgICBbMTcuOSwgLTYyLjgzMzNdLAogICAgICAgICAgICAgICAgeyJidWJibGluZ01vdXNlRXZlbnRzIjogdHJ1ZSwgImNvbG9yIjogInJlZCIsICJkYXNoQXJyYXkiOiBudWxsLCAiZGFzaE9mZnNldCI6IG51bGwsICJmaWxsIjogdHJ1ZSwgImZpbGxDb2xvciI6ICJpbmRpZ28iLCAiZmlsbE9wYWNpdHkiOiAwLjIsICJmaWxsUnVsZSI6ICJldmVub2RkIiwgImxpbmVDYXAiOiAicm91bmQiLCAibGluZUpvaW4iOiAicm91bmQiLCAib3BhY2l0eSI6IDEuMCwgInJhZGl1cyI6IDYwMDAwLjAsICJzdHJva2UiOiB0cnVlLCAid2VpZ2h0IjogM30KICAgICAgICAgICAgKS5hZGRUbyhtYXBfZmZmMTg1NzU5NGJmNGEzYTgyNzhmMTI1MzZjY2Q2MzcpOwogICAgICAgIAogICAgCiAgICAgICAgICAgIGNpcmNsZV9kOGVkYzJiZmM2YzY0MjYyYjU4NzViYWM0M2M1NjJhOS5iaW5kVG9vbHRpcCgKICAgICAgICAgICAgICAgIGA8ZGl2PgogICAgICAgICAgICAgICAgICAgICA8ZGl2IHN0eWxlPSdtYXJnaW46IDA7IGJhY2tncm91bmQtY29sb3I6IGJsYWNrOyBjb2xvcjogd2hpdGU7Jz48aDQgc3R5bGU9J3RleHQtYWxpZ246Y2VudGVyO2ZvbnQtd2VpZ2h0OiBib2xkJz5GcmFuY2U8L2g0PjxociBzdHlsZT0nbWFyZ2luOjEwcHg7Y29sb3I6IHdoaXRlOyc+PHVsIHN0eWxlPSdjb2xvcjogd2hpdGU7O2xpc3Qtc3R5bGUtdHlwZTpjaXJjbGU7YWxpZ24taXRlbTpsZWZ0O3BhZGRpbmctbGVmdDoyMHB4O3BhZGRpbmctcmlnaHQ6MjBweCc+PGxpPkNvbmZpcm1lZDogNjwvbGk+PGxpPkRlYXRoczogICAwPC9saT48bGk+RGVhdGggUmF0ZTogMC4wPC9saT48L3VsPjwvZGl2PgogICAgICAgICAgICAgICAgIDwvZGl2PmAsCiAgICAgICAgICAgICAgICB7InN0aWNreSI6IHRydWV9CiAgICAgICAgICAgICk7CiAgICAgICAgCiAgICAKICAgICAgICAgICAgdmFyIGNpcmNsZV9jYzg1MGE2MDRlMmQ0MzU3OGQ3ZjZkYTEyMTA1YjQxMiA9IEwuY2lyY2xlKAogICAgICAgICAgICAgICAgWzE4LjA3MDgsIC02My4wNTAxXSwKICAgICAgICAgICAgICAgIHsiYnViYmxpbmdNb3VzZUV2ZW50cyI6IHRydWUsICJjb2xvciI6ICJyZWQiLCAiZGFzaEFycmF5IjogbnVsbCwgImRhc2hPZmZzZXQiOiBudWxsLCAiZmlsbCI6IHRydWUsICJmaWxsQ29sb3IiOiAiaW5kaWdvIiwgImZpbGxPcGFjaXR5IjogMC4yLCAiZmlsbFJ1bGUiOiAiZXZlbm9kZCIsICJsaW5lQ2FwIjogInJvdW5kIiwgImxpbmVKb2luIjogInJvdW5kIiwgIm9wYWNpdHkiOiAxLjAsICJyYWRpdXMiOiAxNjAwMDAuMCwgInN0cm9rZSI6IHRydWUsICJ3ZWlnaHQiOiAzfQogICAgICAgICAgICApLmFkZFRvKG1hcF9mZmYxODU3NTk0YmY0YTNhODI3OGYxMjUzNmNjZDYzNyk7CiAgICAgICAgCiAgICAKICAgICAgICAgICAgY2lyY2xlX2NjODUwYTYwNGUyZDQzNTc4ZDdmNmRhMTIxMDViNDEyLmJpbmRUb29sdGlwKAogICAgICAgICAgICAgICAgYDxkaXY+CiAgICAgICAgICAgICAgICAgICAgIDxkaXYgc3R5bGU9J21hcmdpbjogMDsgYmFja2dyb3VuZC1jb2xvcjogYmxhY2s7IGNvbG9yOiB3aGl0ZTsnPjxoNCBzdHlsZT0ndGV4dC1hbGlnbjpjZW50ZXI7Zm9udC13ZWlnaHQ6IGJvbGQnPkZyYW5jZTwvaDQ+PGhyIHN0eWxlPSdtYXJnaW46MTBweDtjb2xvcjogd2hpdGU7Jz48dWwgc3R5bGU9J2NvbG9yOiB3aGl0ZTs7bGlzdC1zdHlsZS10eXBlOmNpcmNsZTthbGlnbi1pdGVtOmxlZnQ7cGFkZGluZy1sZWZ0OjIwcHg7cGFkZGluZy1yaWdodDoyMHB4Jz48bGk+Q29uZmlybWVkOiAzODwvbGk+PGxpPkRlYXRoczogICAzPC9saT48bGk+RGVhdGggUmF0ZTogNy42OTwvbGk+PC91bD48L2Rpdj4KICAgICAgICAgICAgICAgICA8L2Rpdj5gLAogICAgICAgICAgICAgICAgeyJzdGlja3kiOiB0cnVlfQogICAgICAgICAgICApOwogICAgICAgIAogICAgCiAgICAgICAgICAgIHZhciBjaXJjbGVfYjFiNDM0ZWEyZTk0NGMzYThlMDNjYjhkNjllYjgzMDUgPSBMLmNpcmNsZSgKICAgICAgICAgICAgICAgIFsxNC42NDE1LCAtNjEuMDI0Ml0sCiAgICAgICAgICAgICAgICB7ImJ1YmJsaW5nTW91c2VFdmVudHMiOiB0cnVlLCAiY29sb3IiOiAicmVkIiwgImRhc2hBcnJheSI6IG51bGwsICJkYXNoT2Zmc2V0IjogbnVsbCwgImZpbGwiOiB0cnVlLCAiZmlsbENvbG9yIjogImluZGlnbyIsICJmaWxsT3BhY2l0eSI6IDAuMiwgImZpbGxSdWxlIjogImV2ZW5vZGQiLCAibGluZUNhcCI6ICJyb3VuZCIsICJsaW5lSm9pbiI6ICJyb3VuZCIsICJvcGFjaXR5IjogMS4wLCAicmFkaXVzIjogMjYwMDAwLjAsICJzdHJva2UiOiB0cnVlLCAid2VpZ2h0IjogM30KICAgICAgICAgICAgKS5hZGRUbyhtYXBfZmZmMTg1NzU5NGJmNGEzYTgyNzhmMTI1MzZjY2Q2MzcpOwogICAgICAgIAogICAgCiAgICAgICAgICAgIGNpcmNsZV9iMWI0MzRlYTJlOTQ0YzNhOGUwM2NiOGQ2OWViODMwNS5iaW5kVG9vbHRpcCgKICAgICAgICAgICAgICAgIGA8ZGl2PgogICAgICAgICAgICAgICAgICAgICA8ZGl2IHN0eWxlPSdtYXJnaW46IDA7IGJhY2tncm91bmQtY29sb3I6IGJsYWNrOyBjb2xvcjogd2hpdGU7Jz48aDQgc3R5bGU9J3RleHQtYWxpZ246Y2VudGVyO2ZvbnQtd2VpZ2h0OiBib2xkJz5GcmFuY2U8L2g0PjxociBzdHlsZT0nbWFyZ2luOjEwcHg7Y29sb3I6IHdoaXRlOyc+PHVsIHN0eWxlPSdjb2xvcjogd2hpdGU7O2xpc3Qtc3R5bGUtdHlwZTpjaXJjbGU7YWxpZ24taXRlbTpsZWZ0O3BhZGRpbmctbGVmdDoyMHB4O3BhZGRpbmctcmlnaHQ6MjBweCc+PGxpPkNvbmZpcm1lZDogMTc5PC9saT48bGk+RGVhdGhzOiAgIDE0PC9saT48bGk+RGVhdGggUmF0ZTogNy43ODwvbGk+PC91bD48L2Rpdj4KICAgICAgICAgICAgICAgICA8L2Rpdj5gLAogICAgICAgICAgICAgICAgeyJzdGlja3kiOiB0cnVlfQogICAgICAgICAgICApOwogICAgICAgIAogICAgCiAgICAgICAgICAgIHZhciBjaXJjbGVfOTFjMWM5OWNlYzdmNDU3NzhmY2ExYzVhODYwMTMwNGMgPSBMLmNpcmNsZSgKICAgICAgICAgICAgICAgIFs0Ni4yMjc2LCAyLjIxMzddLAogICAgICAgICAgICAgICAgeyJidWJibGluZ01vdXNlRXZlbnRzIjogdHJ1ZSwgImNvbG9yIjogInJlZCIsICJkYXNoQXJyYXkiOiBudWxsLCAiZGFzaE9mZnNldCI6IG51bGwsICJmaWxsIjogdHJ1ZSwgImZpbGxDb2xvciI6ICJpbmRpZ28iLCAiZmlsbE9wYWNpdHkiOiAwLjIsICJmaWxsUnVsZSI6ICJldmVub2RkIiwgImxpbmVDYXAiOiAicm91bmQiLCAibGluZUpvaW4iOiAicm91bmQiLCAib3BhY2l0eSI6IDEuMCwgInJhZGl1cyI6IDYxMDAwMC4wLCAic3Ryb2tlIjogdHJ1ZSwgIndlaWdodCI6IDN9CiAgICAgICAgICAgICkuYWRkVG8obWFwX2ZmZjE4NTc1OTRiZjRhM2E4Mjc4ZjEyNTM2Y2NkNjM3KTsKICAgICAgICAKICAgIAogICAgICAgICAgICBjaXJjbGVfOTFjMWM5OWNlYzdmNDU3NzhmY2ExYzVhODYwMTMwNGMuYmluZFRvb2x0aXAoCiAgICAgICAgICAgICAgICBgPGRpdj4KICAgICAgICAgICAgICAgICAgICAgPGRpdiBzdHlsZT0nbWFyZ2luOiAwOyBiYWNrZ3JvdW5kLWNvbG9yOiBibGFjazsgY29sb3I6IHdoaXRlOyc+PGg0IHN0eWxlPSd0ZXh0LWFsaWduOmNlbnRlcjtmb250LXdlaWdodDogYm9sZCc+RnJhbmNlPC9oND48aHIgc3R5bGU9J21hcmdpbjoxMHB4O2NvbG9yOiB3aGl0ZTsnPjx1bCBzdHlsZT0nY29sb3I6IHdoaXRlOztsaXN0LXN0eWxlLXR5cGU6Y2lyY2xlO2FsaWduLWl0ZW06bGVmdDtwYWRkaW5nLWxlZnQ6MjBweDtwYWRkaW5nLXJpZ2h0OjIwcHgnPjxsaT5Db25maXJtZWQ6IDE2NTc2NDwvbGk+PGxpPkRlYXRoczogICAyNDU2MzwvbGk+PGxpPkRlYXRoIFJhdGU6IDE0LjgyPC9saT48L3VsPjwvZGl2PgogICAgICAgICAgICAgICAgIDwvZGl2PmAsCiAgICAgICAgICAgICAgICB7InN0aWNreSI6IHRydWV9CiAgICAgICAgICAgICk7CiAgICAgICAgCiAgICAKICAgICAgICAgICAgdmFyIGNpcmNsZV85ZDIzZGQ0NTk1ODU0YmYxYjBmYjhkZjlmZjU5ODViNyA9IEwuY2lyY2xlKAogICAgICAgICAgICAgICAgWy0wLjgwMzcsIDExLjYwOTRdLAogICAgICAgICAgICAgICAgeyJidWJibGluZ01vdXNlRXZlbnRzIjogdHJ1ZSwgImNvbG9yIjogInJlZCIsICJkYXNoQXJyYXkiOiBudWxsLCAiZGFzaE9mZnNldCI6IG51bGwsICJmaWxsIjogdHJ1ZSwgImZpbGxDb2xvciI6ICJpbmRpZ28iLCAiZmlsbE9wYWNpdHkiOiAwLjIsICJmaWxsUnVsZSI6ICJldmVub2RkIiwgImxpbmVDYXAiOiAicm91bmQiLCAibGluZUpvaW4iOiAicm91bmQiLCAib3BhY2l0eSI6IDEuMCwgInJhZGl1cyI6IDI2MDAwMC4wLCAic3Ryb2tlIjogdHJ1ZSwgIndlaWdodCI6IDN9CiAgICAgICAgICAgICkuYWRkVG8obWFwX2ZmZjE4NTc1OTRiZjRhM2E4Mjc4ZjEyNTM2Y2NkNjM3KTsKICAgICAgICAKICAgIAogICAgICAgICAgICBjaXJjbGVfOWQyM2RkNDU5NTg1NGJmMWIwZmI4ZGY5ZmY1OTg1YjcuYmluZFRvb2x0aXAoCiAgICAgICAgICAgICAgICBgPGRpdj4KICAgICAgICAgICAgICAgICAgICAgPGRpdiBzdHlsZT0nbWFyZ2luOiAwOyBiYWNrZ3JvdW5kLWNvbG9yOiBibGFjazsgY29sb3I6IHdoaXRlOyc+PGg0IHN0eWxlPSd0ZXh0LWFsaWduOmNlbnRlcjtmb250LXdlaWdodDogYm9sZCc+R2Fib248L2g0PjxociBzdHlsZT0nbWFyZ2luOjEwcHg7Y29sb3I6IHdoaXRlOyc+PHVsIHN0eWxlPSdjb2xvcjogd2hpdGU7O2xpc3Qtc3R5bGUtdHlwZTpjaXJjbGU7YWxpZ24taXRlbTpsZWZ0O3BhZGRpbmctbGVmdDoyMHB4O3BhZGRpbmctcmlnaHQ6MjBweCc+PGxpPkNvbmZpcm1lZDogMjc2PC9saT48bGk+RGVhdGhzOiAgIDM8L2xpPjxsaT5EZWF0aCBSYXRlOiAxLjA4PC9saT48L3VsPjwvZGl2PgogICAgICAgICAgICAgICAgIDwvZGl2PmAsCiAgICAgICAgICAgICAgICB7InN0aWNreSI6IHRydWV9CiAgICAgICAgICAgICk7CiAgICAgICAgCiAgICAKICAgICAgICAgICAgdmFyIGNpcmNsZV9jOWFlNDZjZTczMGU0ZDZjYjFlMGNmYTYyNTE0MGI1OCA9IEwuY2lyY2xlKAogICAgICAgICAgICAgICAgWzEzLjQ0MzIsIC0xNS4zMTAxXSwKICAgICAgICAgICAgICAgIHsiYnViYmxpbmdNb3VzZUV2ZW50cyI6IHRydWUsICJjb2xvciI6ICJyZWQiLCAiZGFzaEFycmF5IjogbnVsbCwgImRhc2hPZmZzZXQiOiBudWxsLCAiZmlsbCI6IHRydWUsICJmaWxsQ29sb3IiOiAiaW5kaWdvIiwgImZpbGxPcGFjaXR5IjogMC4yLCAiZmlsbFJ1bGUiOiAiZXZlbm9kZCIsICJsaW5lQ2FwIjogInJvdW5kIiwgImxpbmVKb2luIjogInJvdW5kIiwgIm9wYWNpdHkiOiAxLjAsICJyYWRpdXMiOiAxMTAwMDAuMDAwMDAwMDAwMDEsICJzdHJva2UiOiB0cnVlLCAid2VpZ2h0IjogM30KICAgICAgICAgICAgKS5hZGRUbyhtYXBfZmZmMTg1NzU5NGJmNGEzYTgyNzhmMTI1MzZjY2Q2MzcpOwogICAgICAgIAogICAgCiAgICAgICAgICAgIGNpcmNsZV9jOWFlNDZjZTczMGU0ZDZjYjFlMGNmYTYyNTE0MGI1OC5iaW5kVG9vbHRpcCgKICAgICAgICAgICAgICAgIGA8ZGl2PgogICAgICAgICAgICAgICAgICAgICA8ZGl2IHN0eWxlPSdtYXJnaW46IDA7IGJhY2tncm91bmQtY29sb3I6IGJsYWNrOyBjb2xvcjogd2hpdGU7Jz48aDQgc3R5bGU9J3RleHQtYWxpZ246Y2VudGVyO2ZvbnQtd2VpZ2h0OiBib2xkJz5HYW1iaWE8L2g0PjxociBzdHlsZT0nbWFyZ2luOjEwcHg7Y29sb3I6IHdoaXRlOyc+PHVsIHN0eWxlPSdjb2xvcjogd2hpdGU7O2xpc3Qtc3R5bGUtdHlwZTpjaXJjbGU7YWxpZ24taXRlbTpsZWZ0O3BhZGRpbmctbGVmdDoyMHB4O3BhZGRpbmctcmlnaHQ6MjBweCc+PGxpPkNvbmZpcm1lZDogMTI8L2xpPjxsaT5EZWF0aHM6ICAgMTwvbGk+PGxpPkRlYXRoIFJhdGU6IDcuNjk8L2xpPjwvdWw+PC9kaXY+CiAgICAgICAgICAgICAgICAgPC9kaXY+YCwKICAgICAgICAgICAgICAgIHsic3RpY2t5IjogdHJ1ZX0KICAgICAgICAgICAgKTsKICAgICAgICAKICAgIAogICAgICAgICAgICB2YXIgY2lyY2xlX2E1MmU0NmRmOWFjZTRhNDVhY2RiOGUwMTg1ZjdiZGMzID0gTC5jaXJjbGUoCiAgICAgICAgICAgICAgICBbNDIuMzE1NCwgNDMuMzU2OV0sCiAgICAgICAgICAgICAgICB7ImJ1YmJsaW5nTW91c2VFdmVudHMiOiB0cnVlLCAiY29sb3IiOiAicmVkIiwgImRhc2hBcnJheSI6IG51bGwsICJkYXNoT2Zmc2V0IjogbnVsbCwgImZpbGwiOiB0cnVlLCAiZmlsbENvbG9yIjogImluZGlnbyIsICJmaWxsT3BhY2l0eSI6IDAuMiwgImZpbGxSdWxlIjogImV2ZW5vZGQiLCAibGluZUNhcCI6ICJyb3VuZCIsICJsaW5lSm9pbiI6ICJyb3VuZCIsICJvcGFjaXR5IjogMS4wLCAicmFkaXVzIjogMzEwMDAwLjAsICJzdHJva2UiOiB0cnVlLCAid2VpZ2h0IjogM30KICAgICAgICAgICAgKS5hZGRUbyhtYXBfZmZmMTg1NzU5NGJmNGEzYTgyNzhmMTI1MzZjY2Q2MzcpOwogICAgICAgIAogICAgCiAgICAgICAgICAgIGNpcmNsZV9hNTJlNDZkZjlhY2U0YTQ1YWNkYjhlMDE4NWY3YmRjMy5iaW5kVG9vbHRpcCgKICAgICAgICAgICAgICAgIGA8ZGl2PgogICAgICAgICAgICAgICAgICAgICA8ZGl2IHN0eWxlPSdtYXJnaW46IDA7IGJhY2tncm91bmQtY29sb3I6IGJsYWNrOyBjb2xvcjogd2hpdGU7Jz48aDQgc3R5bGU9J3RleHQtYWxpZ246Y2VudGVyO2ZvbnQtd2VpZ2h0OiBib2xkJz5HZW9yZ2lhPC9oND48aHIgc3R5bGU9J21hcmdpbjoxMHB4O2NvbG9yOiB3aGl0ZTsnPjx1bCBzdHlsZT0nY29sb3I6IHdoaXRlOztsaXN0LXN0eWxlLXR5cGU6Y2lyY2xlO2FsaWduLWl0ZW06bGVmdDtwYWRkaW5nLWxlZnQ6MjBweDtwYWRkaW5nLXJpZ2h0OjIwcHgnPjxsaT5Db25maXJtZWQ6IDU2NjwvbGk+PGxpPkRlYXRoczogICA3PC9saT48bGk+RGVhdGggUmF0ZTogMS4yMzwvbGk+PC91bD48L2Rpdj4KICAgICAgICAgICAgICAgICA8L2Rpdj5gLAogICAgICAgICAgICAgICAgeyJzdGlja3kiOiB0cnVlfQogICAgICAgICAgICApOwogICAgICAgIAogICAgCiAgICAgICAgICAgIHZhciBjaXJjbGVfYjg3ZmRmMWRiNDFhNDM4YTlkNDk3ZjIxZmE4YWVjZDAgPSBMLmNpcmNsZSgKICAgICAgICAgICAgICAgIFs1MS4wLCA5LjBdLAogICAgICAgICAgICAgICAgeyJidWJibGluZ01vdXNlRXZlbnRzIjogdHJ1ZSwgImNvbG9yIjogInJlZCIsICJkYXNoQXJyYXkiOiBudWxsLCAiZGFzaE9mZnNldCI6IG51bGwsICJmaWxsIjogdHJ1ZSwgImZpbGxDb2xvciI6ICJpbmRpZ28iLCAiZmlsbE9wYWNpdHkiOiAwLjIsICJmaWxsUnVsZSI6ICJldmVub2RkIiwgImxpbmVDYXAiOiAicm91bmQiLCAibGluZUpvaW4iOiAicm91bmQiLCAib3BhY2l0eSI6IDEuMCwgInJhZGl1cyI6IDYxMDAwMC4wLCAic3Ryb2tlIjogdHJ1ZSwgIndlaWdodCI6IDN9CiAgICAgICAgICAgICkuYWRkVG8obWFwX2ZmZjE4NTc1OTRiZjRhM2E4Mjc4ZjEyNTM2Y2NkNjM3KTsKICAgICAgICAKICAgIAogICAgICAgICAgICBjaXJjbGVfYjg3ZmRmMWRiNDFhNDM4YTlkNDk3ZjIxZmE4YWVjZDAuYmluZFRvb2x0aXAoCiAgICAgICAgICAgICAgICBgPGRpdj4KICAgICAgICAgICAgICAgICAgICAgPGRpdiBzdHlsZT0nbWFyZ2luOiAwOyBiYWNrZ3JvdW5kLWNvbG9yOiBibGFjazsgY29sb3I6IHdoaXRlOyc+PGg0IHN0eWxlPSd0ZXh0LWFsaWduOmNlbnRlcjtmb250LXdlaWdodDogYm9sZCc+R2VybWFueTwvaDQ+PGhyIHN0eWxlPSdtYXJnaW46MTBweDtjb2xvcjogd2hpdGU7Jz48dWwgc3R5bGU9J2NvbG9yOiB3aGl0ZTs7bGlzdC1zdHlsZS10eXBlOmNpcmNsZTthbGlnbi1pdGVtOmxlZnQ7cGFkZGluZy1sZWZ0OjIwcHg7cGFkZGluZy1yaWdodDoyMHB4Jz48bGk+Q29uZmlybWVkOiAxNjQwNzc8L2xpPjxsaT5EZWF0aHM6ICAgNjczNjwvbGk+PGxpPkRlYXRoIFJhdGU6IDQuMTE8L2xpPjwvdWw+PC9kaXY+CiAgICAgICAgICAgICAgICAgPC9kaXY+YCwKICAgICAgICAgICAgICAgIHsic3RpY2t5IjogdHJ1ZX0KICAgICAgICAgICAgKTsKICAgICAgICAKICAgIAogICAgICAgICAgICB2YXIgY2lyY2xlX2UzODNkNjAzZWMwMTQ2MjJiNmViNmNhMjdmMWM5MGU2ID0gTC5jaXJjbGUoCiAgICAgICAgICAgICAgICBbNy45NDY1LCAtMS4wMjMyXSwKICAgICAgICAgICAgICAgIHsiYnViYmxpbmdNb3VzZUV2ZW50cyI6IHRydWUsICJjb2xvciI6ICJyZWQiLCAiZGFzaEFycmF5IjogbnVsbCwgImRhc2hPZmZzZXQiOiBudWxsLCAiZmlsbCI6IHRydWUsICJmaWxsQ29sb3IiOiAiaW5kaWdvIiwgImZpbGxPcGFjaXR5IjogMC4yLCAiZmlsbFJ1bGUiOiAiZXZlbm9kZCIsICJsaW5lQ2FwIjogInJvdW5kIiwgImxpbmVKb2luIjogInJvdW5kIiwgIm9wYWNpdHkiOiAxLjAsICJyYWRpdXMiOiAzNjAwMDAuMCwgInN0cm9rZSI6IHRydWUsICJ3ZWlnaHQiOiAzfQogICAgICAgICAgICApLmFkZFRvKG1hcF9mZmYxODU3NTk0YmY0YTNhODI3OGYxMjUzNmNjZDYzNyk7CiAgICAgICAgCiAgICAKICAgICAgICAgICAgY2lyY2xlX2UzODNkNjAzZWMwMTQ2MjJiNmViNmNhMjdmMWM5MGU2LmJpbmRUb29sdGlwKAogICAgICAgICAgICAgICAgYDxkaXY+CiAgICAgICAgICAgICAgICAgICAgIDxkaXYgc3R5bGU9J21hcmdpbjogMDsgYmFja2dyb3VuZC1jb2xvcjogYmxhY2s7IGNvbG9yOiB3aGl0ZTsnPjxoNCBzdHlsZT0ndGV4dC1hbGlnbjpjZW50ZXI7Zm9udC13ZWlnaHQ6IGJvbGQnPkdoYW5hPC9oND48aHIgc3R5bGU9J21hcmdpbjoxMHB4O2NvbG9yOiB3aGl0ZTsnPjx1bCBzdHlsZT0nY29sb3I6IHdoaXRlOztsaXN0LXN0eWxlLXR5cGU6Y2lyY2xlO2FsaWduLWl0ZW06bGVmdDtwYWRkaW5nLWxlZnQ6MjBweDtwYWRkaW5nLXJpZ2h0OjIwcHgnPjxsaT5Db25maXJtZWQ6IDIwNzQ8L2xpPjxsaT5EZWF0aHM6ICAgMTc8L2xpPjxsaT5EZWF0aCBSYXRlOiAwLjgyPC9saT48L3VsPjwvZGl2PgogICAgICAgICAgICAgICAgIDwvZGl2PmAsCiAgICAgICAgICAgICAgICB7InN0aWNreSI6IHRydWV9CiAgICAgICAgICAgICk7CiAgICAgICAgCiAgICAKICAgICAgICAgICAgdmFyIGNpcmNsZV81ZjhhZGM0Y2NiMTY0OGY0YjdmODNkZDM2ZGU5NDgxMCA9IEwuY2lyY2xlKAogICAgICAgICAgICAgICAgWzM5LjA3NDIsIDIxLjgyNDNdLAogICAgICAgICAgICAgICAgeyJidWJibGluZ01vdXNlRXZlbnRzIjogdHJ1ZSwgImNvbG9yIjogInJlZCIsICJkYXNoQXJyYXkiOiBudWxsLCAiZGFzaE9mZnNldCI6IG51bGwsICJmaWxsIjogdHJ1ZSwgImZpbGxDb2xvciI6ICJpbmRpZ28iLCAiZmlsbE9wYWNpdHkiOiAwLjIsICJmaWxsUnVsZSI6ICJldmVub2RkIiwgImxpbmVDYXAiOiAicm91bmQiLCAibGluZUpvaW4iOiAicm91bmQiLCAib3BhY2l0eSI6IDEuMCwgInJhZGl1cyI6IDM2MDAwMC4wLCAic3Ryb2tlIjogdHJ1ZSwgIndlaWdodCI6IDN9CiAgICAgICAgICAgICkuYWRkVG8obWFwX2ZmZjE4NTc1OTRiZjRhM2E4Mjc4ZjEyNTM2Y2NkNjM3KTsKICAgICAgICAKICAgIAogICAgICAgICAgICBjaXJjbGVfNWY4YWRjNGNjYjE2NDhmNGI3ZjgzZGQzNmRlOTQ4MTAuYmluZFRvb2x0aXAoCiAgICAgICAgICAgICAgICBgPGRpdj4KICAgICAgICAgICAgICAgICAgICAgPGRpdiBzdHlsZT0nbWFyZ2luOiAwOyBiYWNrZ3JvdW5kLWNvbG9yOiBibGFjazsgY29sb3I6IHdoaXRlOyc+PGg0IHN0eWxlPSd0ZXh0LWFsaWduOmNlbnRlcjtmb250LXdlaWdodDogYm9sZCc+R3JlZWNlPC9oND48aHIgc3R5bGU9J21hcmdpbjoxMHB4O2NvbG9yOiB3aGl0ZTsnPjx1bCBzdHlsZT0nY29sb3I6IHdoaXRlOztsaXN0LXN0eWxlLXR5cGU6Y2lyY2xlO2FsaWduLWl0ZW06bGVmdDtwYWRkaW5nLWxlZnQ6MjBweDtwYWRkaW5nLXJpZ2h0OjIwcHgnPjxsaT5Db25maXJtZWQ6IDI2MTI8L2xpPjxsaT5EZWF0aHM6ICAgMTQwPC9saT48bGk+RGVhdGggUmF0ZTogNS4zNjwvbGk+PC91bD48L2Rpdj4KICAgICAgICAgICAgICAgICA8L2Rpdj5gLAogICAgICAgICAgICAgICAgeyJzdGlja3kiOiB0cnVlfQogICAgICAgICAgICApOwogICAgICAgIAogICAgCiAgICAgICAgICAgIHZhciBjaXJjbGVfMWRhYTI4ZmM3YmRjNGU2ODlkZGNlMmMwMDVhNTgyZTUgPSBMLmNpcmNsZSgKICAgICAgICAgICAgICAgIFsxNS43ODM1LCAtOTAuMjMwOF0sCiAgICAgICAgICAgICAgICB7ImJ1YmJsaW5nTW91c2VFdmVudHMiOiB0cnVlLCAiY29sb3IiOiAicmVkIiwgImRhc2hBcnJheSI6IG51bGwsICJkYXNoT2Zmc2V0IjogbnVsbCwgImZpbGwiOiB0cnVlLCAiZmlsbENvbG9yIjogImluZGlnbyIsICJmaWxsT3BhY2l0eSI6IDAuMiwgImZpbGxSdWxlIjogImV2ZW5vZGQiLCAibGluZUNhcCI6ICJyb3VuZCIsICJsaW5lSm9pbiI6ICJyb3VuZCIsICJvcGFjaXR5IjogMS4wLCAicmFkaXVzIjogMzEwMDAwLjAsICJzdHJva2UiOiB0cnVlLCAid2VpZ2h0IjogM30KICAgICAgICAgICAgKS5hZGRUbyhtYXBfZmZmMTg1NzU5NGJmNGEzYTgyNzhmMTI1MzZjY2Q2MzcpOwogICAgICAgIAogICAgCiAgICAgICAgICAgIGNpcmNsZV8xZGFhMjhmYzdiZGM0ZTY4OWRkY2UyYzAwNWE1ODJlNS5iaW5kVG9vbHRpcCgKICAgICAgICAgICAgICAgIGA8ZGl2PgogICAgICAgICAgICAgICAgICAgICA8ZGl2IHN0eWxlPSdtYXJnaW46IDA7IGJhY2tncm91bmQtY29sb3I6IGJsYWNrOyBjb2xvcjogd2hpdGU7Jz48aDQgc3R5bGU9J3RleHQtYWxpZ246Y2VudGVyO2ZvbnQtd2VpZ2h0OiBib2xkJz5HdWF0ZW1hbGE8L2g0PjxociBzdHlsZT0nbWFyZ2luOjEwcHg7Y29sb3I6IHdoaXRlOyc+PHVsIHN0eWxlPSdjb2xvcjogd2hpdGU7O2xpc3Qtc3R5bGUtdHlwZTpjaXJjbGU7YWxpZ24taXRlbTpsZWZ0O3BhZGRpbmctbGVmdDoyMHB4O3BhZGRpbmctcmlnaHQ6MjBweCc+PGxpPkNvbmZpcm1lZDogNjQ0PC9saT48bGk+RGVhdGhzOiAgIDE2PC9saT48bGk+RGVhdGggUmF0ZTogMi40ODwvbGk+PC91bD48L2Rpdj4KICAgICAgICAgICAgICAgICA8L2Rpdj5gLAogICAgICAgICAgICAgICAgeyJzdGlja3kiOiB0cnVlfQogICAgICAgICAgICApOwogICAgICAgIAogICAgCiAgICAgICAgICAgIHZhciBjaXJjbGVfY2RlY2Q3YmM3ZGQ2NGNjOGJkZDVhOTk4YjEyZWZhOGEgPSBMLmNpcmNsZSgKICAgICAgICAgICAgICAgIFs5Ljk0NTYsIC05LjY5NjZdLAogICAgICAgICAgICAgICAgeyJidWJibGluZ01vdXNlRXZlbnRzIjogdHJ1ZSwgImNvbG9yIjogInJlZCIsICJkYXNoQXJyYXkiOiBudWxsLCAiZGFzaE9mZnNldCI6IG51bGwsICJmaWxsIjogdHJ1ZSwgImZpbGxDb2xvciI6ICJpbmRpZ28iLCAiZmlsbE9wYWNpdHkiOiAwLjIsICJmaWxsUnVsZSI6ICJldmVub2RkIiwgImxpbmVDYXAiOiAicm91bmQiLCAibGluZUpvaW4iOiAicm91bmQiLCAib3BhY2l0eSI6IDEuMCwgInJhZGl1cyI6IDM2MDAwMC4wLCAic3Ryb2tlIjogdHJ1ZSwgIndlaWdodCI6IDN9CiAgICAgICAgICAgICkuYWRkVG8obWFwX2ZmZjE4NTc1OTRiZjRhM2E4Mjc4ZjEyNTM2Y2NkNjM3KTsKICAgICAgICAKICAgIAogICAgICAgICAgICBjaXJjbGVfY2RlY2Q3YmM3ZGQ2NGNjOGJkZDVhOTk4YjEyZWZhOGEuYmluZFRvb2x0aXAoCiAgICAgICAgICAgICAgICBgPGRpdj4KICAgICAgICAgICAgICAgICAgICAgPGRpdiBzdHlsZT0nbWFyZ2luOiAwOyBiYWNrZ3JvdW5kLWNvbG9yOiBibGFjazsgY29sb3I6IHdoaXRlOyc+PGg0IHN0eWxlPSd0ZXh0LWFsaWduOmNlbnRlcjtmb250LXdlaWdodDogYm9sZCc+R3VpbmVhPC9oND48aHIgc3R5bGU9J21hcmdpbjoxMHB4O2NvbG9yOiB3aGl0ZTsnPjx1bCBzdHlsZT0nY29sb3I6IHdoaXRlOztsaXN0LXN0eWxlLXR5cGU6Y2lyY2xlO2FsaWduLWl0ZW06bGVmdDtwYWRkaW5nLWxlZnQ6MjBweDtwYWRkaW5nLXJpZ2h0OjIwcHgnPjxsaT5Db25maXJtZWQ6IDE1Mzc8L2xpPjxsaT5EZWF0aHM6ICAgNzwvbGk+PGxpPkRlYXRoIFJhdGU6IDAuNDY8L2xpPjwvdWw+PC9kaXY+CiAgICAgICAgICAgICAgICAgPC9kaXY+YCwKICAgICAgICAgICAgICAgIHsic3RpY2t5IjogdHJ1ZX0KICAgICAgICAgICAgKTsKICAgICAgICAKICAgIAogICAgICAgICAgICB2YXIgY2lyY2xlXzUxM2ZlMjE5MjI4NzRlYmNhNTM0ZTE5ZDlhNWE4ZGEwID0gTC5jaXJjbGUoCiAgICAgICAgICAgICAgICBbNS4wLCAtNTguNzVdLAogICAgICAgICAgICAgICAgeyJidWJibGluZ01vdXNlRXZlbnRzIjogdHJ1ZSwgImNvbG9yIjogInJlZCIsICJkYXNoQXJyYXkiOiBudWxsLCAiZGFzaE9mZnNldCI6IG51bGwsICJmaWxsIjogdHJ1ZSwgImZpbGxDb2xvciI6ICJpbmRpZ28iLCAiZmlsbE9wYWNpdHkiOiAwLjIsICJmaWxsUnVsZSI6ICJldmVub2RkIiwgImxpbmVDYXAiOiAicm91bmQiLCAibGluZUpvaW4iOiAicm91bmQiLCAib3BhY2l0eSI6IDEuMCwgInJhZGl1cyI6IDIxMDAwMC4wLCAic3Ryb2tlIjogdHJ1ZSwgIndlaWdodCI6IDN9CiAgICAgICAgICAgICkuYWRkVG8obWFwX2ZmZjE4NTc1OTRiZjRhM2E4Mjc4ZjEyNTM2Y2NkNjM3KTsKICAgICAgICAKICAgIAogICAgICAgICAgICBjaXJjbGVfNTEzZmUyMTkyMjg3NGViY2E1MzRlMTlkOWE1YThkYTAuYmluZFRvb2x0aXAoCiAgICAgICAgICAgICAgICBgPGRpdj4KICAgICAgICAgICAgICAgICAgICAgPGRpdiBzdHlsZT0nbWFyZ2luOiAwOyBiYWNrZ3JvdW5kLWNvbG9yOiBibGFjazsgY29sb3I6IHdoaXRlOyc+PGg0IHN0eWxlPSd0ZXh0LWFsaWduOmNlbnRlcjtmb250LXdlaWdodDogYm9sZCc+R3V5YW5hPC9oND48aHIgc3R5bGU9J21hcmdpbjoxMHB4O2NvbG9yOiB3aGl0ZTsnPjx1bCBzdHlsZT0nY29sb3I6IHdoaXRlOztsaXN0LXN0eWxlLXR5cGU6Y2lyY2xlO2FsaWduLWl0ZW06bGVmdDtwYWRkaW5nLWxlZnQ6MjBweDtwYWRkaW5nLXJpZ2h0OjIwcHgnPjxsaT5Db25maXJtZWQ6IDgyPC9saT48bGk+RGVhdGhzOiAgIDk8L2xpPjxsaT5EZWF0aCBSYXRlOiAxMC44NDwvbGk+PC91bD48L2Rpdj4KICAgICAgICAgICAgICAgICA8L2Rpdj5gLAogICAgICAgICAgICAgICAgeyJzdGlja3kiOiB0cnVlfQogICAgICAgICAgICApOwogICAgICAgIAogICAgCiAgICAgICAgICAgIHZhciBjaXJjbGVfNTA4NTE3YWYyNDZjNDY5YThiYzQ4MTY4ZTI0NTZkMTcgPSBMLmNpcmNsZSgKICAgICAgICAgICAgICAgIFsxOC45NzEyLCAtNzIuMjg1Ml0sCiAgICAgICAgICAgICAgICB7ImJ1YmJsaW5nTW91c2VFdmVudHMiOiB0cnVlLCAiY29sb3IiOiAicmVkIiwgImRhc2hBcnJheSI6IG51bGwsICJkYXNoT2Zmc2V0IjogbnVsbCwgImZpbGwiOiB0cnVlLCAiZmlsbENvbG9yIjogImluZGlnbyIsICJmaWxsT3BhY2l0eSI6IDAuMiwgImZpbGxSdWxlIjogImV2ZW5vZGQiLCAibGluZUNhcCI6ICJyb3VuZCIsICJsaW5lSm9pbiI6ICJyb3VuZCIsICJvcGFjaXR5IjogMS4wLCAicmFkaXVzIjogMjEwMDAwLjAsICJzdHJva2UiOiB0cnVlLCAid2VpZ2h0IjogM30KICAgICAgICAgICAgKS5hZGRUbyhtYXBfZmZmMTg1NzU5NGJmNGEzYTgyNzhmMTI1MzZjY2Q2MzcpOwogICAgICAgIAogICAgCiAgICAgICAgICAgIGNpcmNsZV81MDg1MTdhZjI0NmM0NjlhOGJjNDgxNjhlMjQ1NmQxNy5iaW5kVG9vbHRpcCgKICAgICAgICAgICAgICAgIGA8ZGl2PgogICAgICAgICAgICAgICAgICAgICA8ZGl2IHN0eWxlPSdtYXJnaW46IDA7IGJhY2tncm91bmQtY29sb3I6IGJsYWNrOyBjb2xvcjogd2hpdGU7Jz48aDQgc3R5bGU9J3RleHQtYWxpZ246Y2VudGVyO2ZvbnQtd2VpZ2h0OiBib2xkJz5IYWl0aTwvaDQ+PGhyIHN0eWxlPSdtYXJnaW46MTBweDtjb2xvcjogd2hpdGU7Jz48dWwgc3R5bGU9J2NvbG9yOiB3aGl0ZTs7bGlzdC1zdHlsZS10eXBlOmNpcmNsZTthbGlnbi1pdGVtOmxlZnQ7cGFkZGluZy1sZWZ0OjIwcHg7cGFkZGluZy1yaWdodDoyMHB4Jz48bGk+Q29uZmlybWVkOiA4NTwvbGk+PGxpPkRlYXRoczogICA4PC9saT48bGk+RGVhdGggUmF0ZTogOS4zPC9saT48L3VsPjwvZGl2PgogICAgICAgICAgICAgICAgIDwvZGl2PmAsCiAgICAgICAgICAgICAgICB7InN0aWNreSI6IHRydWV9CiAgICAgICAgICAgICk7CiAgICAgICAgCiAgICAKICAgICAgICAgICAgdmFyIGNpcmNsZV83ZjU2MmRjZGNjMjg0MDgzODhiODgxZTE0OTVjYTgwZiA9IEwuY2lyY2xlKAogICAgICAgICAgICAgICAgWzQxLjkwMjksIDEyLjQ1MzRdLAogICAgICAgICAgICAgICAgeyJidWJibGluZ01vdXNlRXZlbnRzIjogdHJ1ZSwgImNvbG9yIjogInJlZCIsICJkYXNoQXJyYXkiOiBudWxsLCAiZGFzaE9mZnNldCI6IG51bGwsICJmaWxsIjogdHJ1ZSwgImZpbGxDb2xvciI6ICJpbmRpZ28iLCAiZmlsbE9wYWNpdHkiOiAwLjIsICJmaWxsUnVsZSI6ICJldmVub2RkIiwgImxpbmVDYXAiOiAicm91bmQiLCAibGluZUpvaW4iOiAicm91bmQiLCAib3BhY2l0eSI6IDEuMCwgInJhZGl1cyI6IDExMDAwMC4wMDAwMDAwMDAwMSwgInN0cm9rZSI6IHRydWUsICJ3ZWlnaHQiOiAzfQogICAgICAgICAgICApLmFkZFRvKG1hcF9mZmYxODU3NTk0YmY0YTNhODI3OGYxMjUzNmNjZDYzNyk7CiAgICAgICAgCiAgICAKICAgICAgICAgICAgY2lyY2xlXzdmNTYyZGNkY2MyODQwODM4OGI4ODFlMTQ5NWNhODBmLmJpbmRUb29sdGlwKAogICAgICAgICAgICAgICAgYDxkaXY+CiAgICAgICAgICAgICAgICAgICAgIDxkaXYgc3R5bGU9J21hcmdpbjogMDsgYmFja2dyb3VuZC1jb2xvcjogYmxhY2s7IGNvbG9yOiB3aGl0ZTsnPjxoNCBzdHlsZT0ndGV4dC1hbGlnbjpjZW50ZXI7Zm9udC13ZWlnaHQ6IGJvbGQnPkhvbHkgU2VlPC9oND48aHIgc3R5bGU9J21hcmdpbjoxMHB4O2NvbG9yOiB3aGl0ZTsnPjx1bCBzdHlsZT0nY29sb3I6IHdoaXRlOztsaXN0LXN0eWxlLXR5cGU6Y2lyY2xlO2FsaWduLWl0ZW06bGVmdDtwYWRkaW5nLWxlZnQ6MjBweDtwYWRkaW5nLXJpZ2h0OjIwcHgnPjxsaT5Db25maXJtZWQ6IDExPC9saT48bGk+RGVhdGhzOiAgIDA8L2xpPjxsaT5EZWF0aCBSYXRlOiAwLjA8L2xpPjwvdWw+PC9kaXY+CiAgICAgICAgICAgICAgICAgPC9kaXY+YCwKICAgICAgICAgICAgICAgIHsic3RpY2t5IjogdHJ1ZX0KICAgICAgICAgICAgKTsKICAgICAgICAKICAgIAogICAgICAgICAgICB2YXIgY2lyY2xlX2JkMzU3MTZiZDQ5ZDRlNmNiY2ZhZjM0ODA2MGYyNDBjID0gTC5jaXJjbGUoCiAgICAgICAgICAgICAgICBbMTUuMiwgLTg2LjI0MTldLAogICAgICAgICAgICAgICAgeyJidWJibGluZ01vdXNlRXZlbnRzIjogdHJ1ZSwgImNvbG9yIjogInJlZCIsICJkYXNoQXJyYXkiOiBudWxsLCAiZGFzaE9mZnNldCI6IG51bGwsICJmaWxsIjogdHJ1ZSwgImZpbGxDb2xvciI6ICJpbmRpZ28iLCAiZmlsbE9wYWNpdHkiOiAwLjIsICJmaWxsUnVsZSI6ICJldmVub2RkIiwgImxpbmVDYXAiOiAicm91bmQiLCAibGluZUpvaW4iOiAicm91bmQiLCAib3BhY2l0eSI6IDEuMCwgInJhZGl1cyI6IDMxMDAwMC4wLCAic3Ryb2tlIjogdHJ1ZSwgIndlaWdodCI6IDN9CiAgICAgICAgICAgICkuYWRkVG8obWFwX2ZmZjE4NTc1OTRiZjRhM2E4Mjc4ZjEyNTM2Y2NkNjM3KTsKICAgICAgICAKICAgIAogICAgICAgICAgICBjaXJjbGVfYmQzNTcxNmJkNDlkNGU2Y2JjZmFmMzQ4MDYwZjI0MGMuYmluZFRvb2x0aXAoCiAgICAgICAgICAgICAgICBgPGRpdj4KICAgICAgICAgICAgICAgICAgICAgPGRpdiBzdHlsZT0nbWFyZ2luOiAwOyBiYWNrZ3JvdW5kLWNvbG9yOiBibGFjazsgY29sb3I6IHdoaXRlOyc+PGg0IHN0eWxlPSd0ZXh0LWFsaWduOmNlbnRlcjtmb250LXdlaWdodDogYm9sZCc+SG9uZHVyYXM8L2g0PjxociBzdHlsZT0nbWFyZ2luOjEwcHg7Y29sb3I6IHdoaXRlOyc+PHVsIHN0eWxlPSdjb2xvcjogd2hpdGU7O2xpc3Qtc3R5bGUtdHlwZTpjaXJjbGU7YWxpZ24taXRlbTpsZWZ0O3BhZGRpbmctbGVmdDoyMHB4O3BhZGRpbmctcmlnaHQ6MjBweCc+PGxpPkNvbmZpcm1lZDogODA0PC9saT48bGk+RGVhdGhzOiAgIDc1PC9saT48bGk+RGVhdGggUmF0ZTogOS4zMjwvbGk+PC91bD48L2Rpdj4KICAgICAgICAgICAgICAgICA8L2Rpdj5gLAogICAgICAgICAgICAgICAgeyJzdGlja3kiOiB0cnVlfQogICAgICAgICAgICApOwogICAgICAgIAogICAgCiAgICAgICAgICAgIHZhciBjaXJjbGVfOGRmYTc3MmQxYmIxNGY0NmJjYmI4NTE4Njk3ZjAyZWQgPSBMLmNpcmNsZSgKICAgICAgICAgICAgICAgIFs0Ny4xNjI1LCAxOS41MDMzXSwKICAgICAgICAgICAgICAgIHsiYnViYmxpbmdNb3VzZUV2ZW50cyI6IHRydWUsICJjb2xvciI6ICJyZWQiLCAiZGFzaEFycmF5IjogbnVsbCwgImRhc2hPZmZzZXQiOiBudWxsLCAiZmlsbCI6IHRydWUsICJmaWxsQ29sb3IiOiAiaW5kaWdvIiwgImZpbGxPcGFjaXR5IjogMC4yLCAiZmlsbFJ1bGUiOiAiZXZlbm9kZCIsICJsaW5lQ2FwIjogInJvdW5kIiwgImxpbmVKb2luIjogInJvdW5kIiwgIm9wYWNpdHkiOiAxLjAsICJyYWRpdXMiOiAzNjAwMDAuMCwgInN0cm9rZSI6IHRydWUsICJ3ZWlnaHQiOiAzfQogICAgICAgICAgICApLmFkZFRvKG1hcF9mZmYxODU3NTk0YmY0YTNhODI3OGYxMjUzNmNjZDYzNyk7CiAgICAgICAgCiAgICAKICAgICAgICAgICAgY2lyY2xlXzhkZmE3NzJkMWJiMTRmNDZiY2JiODUxODY5N2YwMmVkLmJpbmRUb29sdGlwKAogICAgICAgICAgICAgICAgYDxkaXY+CiAgICAgICAgICAgICAgICAgICAgIDxkaXYgc3R5bGU9J21hcmdpbjogMDsgYmFja2dyb3VuZC1jb2xvcjogYmxhY2s7IGNvbG9yOiB3aGl0ZTsnPjxoNCBzdHlsZT0ndGV4dC1hbGlnbjpjZW50ZXI7Zm9udC13ZWlnaHQ6IGJvbGQnPkh1bmdhcnk8L2g0PjxociBzdHlsZT0nbWFyZ2luOjEwcHg7Y29sb3I6IHdoaXRlOyc+PHVsIHN0eWxlPSdjb2xvcjogd2hpdGU7O2xpc3Qtc3R5bGUtdHlwZTpjaXJjbGU7YWxpZ24taXRlbTpsZWZ0O3BhZGRpbmctbGVmdDoyMHB4O3BhZGRpbmctcmlnaHQ6MjBweCc+PGxpPkNvbmZpcm1lZDogMjg2MzwvbGk+PGxpPkRlYXRoczogICAzMjM8L2xpPjxsaT5EZWF0aCBSYXRlOiAxMS4yODwvbGk+PC91bD48L2Rpdj4KICAgICAgICAgICAgICAgICA8L2Rpdj5gLAogICAgICAgICAgICAgICAgeyJzdGlja3kiOiB0cnVlfQogICAgICAgICAgICApOwogICAgICAgIAogICAgCiAgICAgICAgICAgIHZhciBjaXJjbGVfYWQxYjQ2NmY2NDE3NGI5ZDk4NjE3NTMwYzgxYmIzMDIgPSBMLmNpcmNsZSgKICAgICAgICAgICAgICAgIFs2NC45NjMxLCAtMTkuMDIwOF0sCiAgICAgICAgICAgICAgICB7ImJ1YmJsaW5nTW91c2VFdmVudHMiOiB0cnVlLCAiY29sb3IiOiAicmVkIiwgImRhc2hBcnJheSI6IG51bGwsICJkYXNoT2Zmc2V0IjogbnVsbCwgImZpbGwiOiB0cnVlLCAiZmlsbENvbG9yIjogImluZGlnbyIsICJmaWxsT3BhY2l0eSI6IDAuMiwgImZpbGxSdWxlIjogImV2ZW5vZGQiLCAibGluZUNhcCI6ICJyb3VuZCIsICJsaW5lSm9pbiI6ICJyb3VuZCIsICJvcGFjaXR5IjogMS4wLCAicmFkaXVzIjogMzYwMDAwLjAsICJzdHJva2UiOiB0cnVlLCAid2VpZ2h0IjogM30KICAgICAgICAgICAgKS5hZGRUbyhtYXBfZmZmMTg1NzU5NGJmNGEzYTgyNzhmMTI1MzZjY2Q2MzcpOwogICAgICAgIAogICAgCiAgICAgICAgICAgIGNpcmNsZV9hZDFiNDY2ZjY0MTc0YjlkOTg2MTc1MzBjODFiYjMwMi5iaW5kVG9vbHRpcCgKICAgICAgICAgICAgICAgIGA8ZGl2PgogICAgICAgICAgICAgICAgICAgICA8ZGl2IHN0eWxlPSdtYXJnaW46IDA7IGJhY2tncm91bmQtY29sb3I6IGJsYWNrOyBjb2xvcjogd2hpdGU7Jz48aDQgc3R5bGU9J3RleHQtYWxpZ246Y2VudGVyO2ZvbnQtd2VpZ2h0OiBib2xkJz5JY2VsYW5kPC9oND48aHIgc3R5bGU9J21hcmdpbjoxMHB4O2NvbG9yOiB3aGl0ZTsnPjx1bCBzdHlsZT0nY29sb3I6IHdoaXRlOztsaXN0LXN0eWxlLXR5cGU6Y2lyY2xlO2FsaWduLWl0ZW06bGVmdDtwYWRkaW5nLWxlZnQ6MjBweDtwYWRkaW5nLXJpZ2h0OjIwcHgnPjxsaT5Db25maXJtZWQ6IDE3OTg8L2xpPjxsaT5EZWF0aHM6ICAgMTA8L2xpPjxsaT5EZWF0aCBSYXRlOiAwLjU2PC9saT48L3VsPjwvZGl2PgogICAgICAgICAgICAgICAgIDwvZGl2PmAsCiAgICAgICAgICAgICAgICB7InN0aWNreSI6IHRydWV9CiAgICAgICAgICAgICk7CiAgICAgICAgCiAgICAKICAgICAgICAgICAgdmFyIGNpcmNsZV9mYzc4YmRmYmZiOTk0MjhmYWE0YWRmMGM5ZWNjYTQ2OSA9IEwuY2lyY2xlKAogICAgICAgICAgICAgICAgWzIxLjAsIDc4LjBdLAogICAgICAgICAgICAgICAgeyJidWJibGluZ01vdXNlRXZlbnRzIjogdHJ1ZSwgImNvbG9yIjogInJlZCIsICJkYXNoQXJyYXkiOiBudWxsLCAiZGFzaE9mZnNldCI6IG51bGwsICJmaWxsIjogdHJ1ZSwgImZpbGxDb2xvciI6ICJpbmRpZ28iLCAiZmlsbE9wYWNpdHkiOiAwLjIsICJmaWxsUnVsZSI6ICJldmVub2RkIiwgImxpbmVDYXAiOiAicm91bmQiLCAibGluZUpvaW4iOiAicm91bmQiLCAib3BhY2l0eSI6IDEuMCwgInJhZGl1cyI6IDUwOTk5OS45OTk5OTk5OTk5NCwgInN0cm9rZSI6IHRydWUsICJ3ZWlnaHQiOiAzfQogICAgICAgICAgICApLmFkZFRvKG1hcF9mZmYxODU3NTk0YmY0YTNhODI3OGYxMjUzNmNjZDYzNyk7CiAgICAgICAgCiAgICAKICAgICAgICAgICAgY2lyY2xlX2ZjNzhiZGZiZmI5OTQyOGZhYTRhZGYwYzllY2NhNDY5LmJpbmRUb29sdGlwKAogICAgICAgICAgICAgICAgYDxkaXY+CiAgICAgICAgICAgICAgICAgICAgIDxkaXYgc3R5bGU9J21hcmdpbjogMDsgYmFja2dyb3VuZC1jb2xvcjogYmxhY2s7IGNvbG9yOiB3aGl0ZTsnPjxoNCBzdHlsZT0ndGV4dC1hbGlnbjpjZW50ZXI7Zm9udC13ZWlnaHQ6IGJvbGQnPkluZGlhPC9oND48aHIgc3R5bGU9J21hcmdpbjoxMHB4O2NvbG9yOiB3aGl0ZTsnPjx1bCBzdHlsZT0nY29sb3I6IHdoaXRlOztsaXN0LXN0eWxlLXR5cGU6Y2lyY2xlO2FsaWduLWl0ZW06bGVmdDtwYWRkaW5nLWxlZnQ6MjBweDtwYWRkaW5nLXJpZ2h0OjIwcHgnPjxsaT5Db25maXJtZWQ6IDM3MjU3PC9saT48bGk+RGVhdGhzOiAgIDEyMjM8L2xpPjxsaT5EZWF0aCBSYXRlOiAzLjI4PC9saT48L3VsPjwvZGl2PgogICAgICAgICAgICAgICAgIDwvZGl2PmAsCiAgICAgICAgICAgICAgICB7InN0aWNreSI6IHRydWV9CiAgICAgICAgICAgICk7CiAgICAgICAgCiAgICAKICAgICAgICAgICAgdmFyIGNpcmNsZV9kMzYzMGY2OGQxMGU0MGEwOTQ3ZjY0MmFiN2E4ZjNlNyA9IEwuY2lyY2xlKAogICAgICAgICAgICAgICAgWy0wLjc4OTMsIDExMy45MjEzXSwKICAgICAgICAgICAgICAgIHsiYnViYmxpbmdNb3VzZUV2ZW50cyI6IHRydWUsICJjb2xvciI6ICJyZWQiLCAiZGFzaEFycmF5IjogbnVsbCwgImRhc2hPZmZzZXQiOiBudWxsLCAiZmlsbCI6IHRydWUsICJmaWxsQ29sb3IiOiAiaW5kaWdvIiwgImZpbGxPcGFjaXR5IjogMC4yLCAiZmlsbFJ1bGUiOiAiZXZlbm9kZCIsICJsaW5lQ2FwIjogInJvdW5kIiwgImxpbmVKb2luIjogInJvdW5kIiwgIm9wYWNpdHkiOiAxLjAsICJyYWRpdXMiOiA0NTk5OTkuOTk5OTk5OTk5OTQsICJzdHJva2UiOiB0cnVlLCAid2VpZ2h0IjogM30KICAgICAgICAgICAgKS5hZGRUbyhtYXBfZmZmMTg1NzU5NGJmNGEzYTgyNzhmMTI1MzZjY2Q2MzcpOwogICAgICAgIAogICAgCiAgICAgICAgICAgIGNpcmNsZV9kMzYzMGY2OGQxMGU0MGEwOTQ3ZjY0MmFiN2E4ZjNlNy5iaW5kVG9vbHRpcCgKICAgICAgICAgICAgICAgIGA8ZGl2PgogICAgICAgICAgICAgICAgICAgICA8ZGl2IHN0eWxlPSdtYXJnaW46IDA7IGJhY2tncm91bmQtY29sb3I6IGJsYWNrOyBjb2xvcjogd2hpdGU7Jz48aDQgc3R5bGU9J3RleHQtYWxpZ246Y2VudGVyO2ZvbnQtd2VpZ2h0OiBib2xkJz5JbmRvbmVzaWE8L2g0PjxociBzdHlsZT0nbWFyZ2luOjEwcHg7Y29sb3I6IHdoaXRlOyc+PHVsIHN0eWxlPSdjb2xvcjogd2hpdGU7O2xpc3Qtc3R5bGUtdHlwZTpjaXJjbGU7YWxpZ24taXRlbTpsZWZ0O3BhZGRpbmctbGVmdDoyMHB4O3BhZGRpbmctcmlnaHQ6MjBweCc+PGxpPkNvbmZpcm1lZDogMTA1NTE8L2xpPjxsaT5EZWF0aHM6ICAgODAwPC9saT48bGk+RGVhdGggUmF0ZTogNy41ODwvbGk+PC91bD48L2Rpdj4KICAgICAgICAgICAgICAgICA8L2Rpdj5gLAogICAgICAgICAgICAgICAgeyJzdGlja3kiOiB0cnVlfQogICAgICAgICAgICApOwogICAgICAgIAogICAgCiAgICAgICAgICAgIHZhciBjaXJjbGVfYTkwOWE1MzA3N2Q4NDg1MGFmMDY1ODVhNzVmYjY2MTMgPSBMLmNpcmNsZSgKICAgICAgICAgICAgICAgIFszMi4wLCA1My4wXSwKICAgICAgICAgICAgICAgIHsiYnViYmxpbmdNb3VzZUV2ZW50cyI6IHRydWUsICJjb2xvciI6ICJyZWQiLCAiZGFzaEFycmF5IjogbnVsbCwgImRhc2hPZmZzZXQiOiBudWxsLCAiZmlsbCI6IHRydWUsICJmaWxsQ29sb3IiOiAiaW5kaWdvIiwgImZpbGxPcGFjaXR5IjogMC4yLCAiZmlsbFJ1bGUiOiAiZXZlbm9kZCIsICJsaW5lQ2FwIjogInJvdW5kIiwgImxpbmVKb2luIjogInJvdW5kIiwgIm9wYWNpdHkiOiAxLjAsICJyYWRpdXMiOiA1NjAwMDAuMCwgInN0cm9rZSI6IHRydWUsICJ3ZWlnaHQiOiAzfQogICAgICAgICAgICApLmFkZFRvKG1hcF9mZmYxODU3NTk0YmY0YTNhODI3OGYxMjUzNmNjZDYzNyk7CiAgICAgICAgCiAgICAKICAgICAgICAgICAgY2lyY2xlX2E5MDlhNTMwNzdkODQ4NTBhZjA2NTg1YTc1ZmI2NjEzLmJpbmRUb29sdGlwKAogICAgICAgICAgICAgICAgYDxkaXY+CiAgICAgICAgICAgICAgICAgICAgIDxkaXYgc3R5bGU9J21hcmdpbjogMDsgYmFja2dyb3VuZC1jb2xvcjogYmxhY2s7IGNvbG9yOiB3aGl0ZTsnPjxoNCBzdHlsZT0ndGV4dC1hbGlnbjpjZW50ZXI7Zm9udC13ZWlnaHQ6IGJvbGQnPklyYW48L2g0PjxociBzdHlsZT0nbWFyZ2luOjEwcHg7Y29sb3I6IHdoaXRlOyc+PHVsIHN0eWxlPSdjb2xvcjogd2hpdGU7O2xpc3Qtc3R5bGUtdHlwZTpjaXJjbGU7YWxpZ24taXRlbTpsZWZ0O3BhZGRpbmctbGVmdDoyMHB4O3BhZGRpbmctcmlnaHQ6MjBweCc+PGxpPkNvbmZpcm1lZDogOTU2NDY8L2xpPjxsaT5EZWF0aHM6ICAgNjA5MTwvbGk+PGxpPkRlYXRoIFJhdGU6IDYuMzc8L2xpPjwvdWw+PC9kaXY+CiAgICAgICAgICAgICAgICAgPC9kaXY+YCwKICAgICAgICAgICAgICAgIHsic3RpY2t5IjogdHJ1ZX0KICAgICAgICAgICAgKTsKICAgICAgICAKICAgIAogICAgICAgICAgICB2YXIgY2lyY2xlXzY0ODBlNmUwMTY5ZjRjMGQ4ZTQ4ODcwMDIyZWE0MDY1ID0gTC5jaXJjbGUoCiAgICAgICAgICAgICAgICBbMzMuMCwgNDQuMF0sCiAgICAgICAgICAgICAgICB7ImJ1YmJsaW5nTW91c2VFdmVudHMiOiB0cnVlLCAiY29sb3IiOiAicmVkIiwgImRhc2hBcnJheSI6IG51bGwsICJkYXNoT2Zmc2V0IjogbnVsbCwgImZpbGwiOiB0cnVlLCAiZmlsbENvbG9yIjogImluZGlnbyIsICJmaWxsT3BhY2l0eSI6IDAuMiwgImZpbGxSdWxlIjogImV2ZW5vZGQiLCAibGluZUNhcCI6ICJyb3VuZCIsICJsaW5lSm9pbiI6ICJyb3VuZCIsICJvcGFjaXR5IjogMS4wLCAicmFkaXVzIjogMzYwMDAwLjAsICJzdHJva2UiOiB0cnVlLCAid2VpZ2h0IjogM30KICAgICAgICAgICAgKS5hZGRUbyhtYXBfZmZmMTg1NzU5NGJmNGEzYTgyNzhmMTI1MzZjY2Q2MzcpOwogICAgICAgIAogICAgCiAgICAgICAgICAgIGNpcmNsZV82NDgwZTZlMDE2OWY0YzBkOGU0ODg3MDAyMmVhNDA2NS5iaW5kVG9vbHRpcCgKICAgICAgICAgICAgICAgIGA8ZGl2PgogICAgICAgICAgICAgICAgICAgICA8ZGl2IHN0eWxlPSdtYXJnaW46IDA7IGJhY2tncm91bmQtY29sb3I6IGJsYWNrOyBjb2xvcjogd2hpdGU7Jz48aDQgc3R5bGU9J3RleHQtYWxpZ246Y2VudGVyO2ZvbnQtd2VpZ2h0OiBib2xkJz5JcmFxPC9oND48aHIgc3R5bGU9J21hcmdpbjoxMHB4O2NvbG9yOiB3aGl0ZTsnPjx1bCBzdHlsZT0nY29sb3I6IHdoaXRlOztsaXN0LXN0eWxlLXR5cGU6Y2lyY2xlO2FsaWduLWl0ZW06bGVmdDtwYWRkaW5nLWxlZnQ6MjBweDtwYWRkaW5nLXJpZ2h0OjIwcHgnPjxsaT5Db25maXJtZWQ6IDIxNTM8L2xpPjxsaT5EZWF0aHM6ICAgOTQ8L2xpPjxsaT5EZWF0aCBSYXRlOiA0LjM2PC9saT48L3VsPjwvZGl2PgogICAgICAgICAgICAgICAgIDwvZGl2PmAsCiAgICAgICAgICAgICAgICB7InN0aWNreSI6IHRydWV9CiAgICAgICAgICAgICk7CiAgICAgICAgCiAgICAKICAgICAgICAgICAgdmFyIGNpcmNsZV80MjIyODQzMzVlY2Y0ODUyYWY4N2M0YzBmMWM1Mjg2ZiA9IEwuY2lyY2xlKAogICAgICAgICAgICAgICAgWzUzLjE0MjQsIC03LjY5MjFdLAogICAgICAgICAgICAgICAgeyJidWJibGluZ01vdXNlRXZlbnRzIjogdHJ1ZSwgImNvbG9yIjogInJlZCIsICJkYXNoQXJyYXkiOiBudWxsLCAiZGFzaE9mZnNldCI6IG51bGwsICJmaWxsIjogdHJ1ZSwgImZpbGxDb2xvciI6ICJpbmRpZ28iLCAiZmlsbE9wYWNpdHkiOiAwLjIsICJmaWxsUnVsZSI6ICJldmVub2RkIiwgImxpbmVDYXAiOiAicm91bmQiLCAibGluZUpvaW4iOiAicm91bmQiLCAib3BhY2l0eSI6IDEuMCwgInJhZGl1cyI6IDQ1OTk5OS45OTk5OTk5OTk5NCwgInN0cm9rZSI6IHRydWUsICJ3ZWlnaHQiOiAzfQogICAgICAgICAgICApLmFkZFRvKG1hcF9mZmYxODU3NTk0YmY0YTNhODI3OGYxMjUzNmNjZDYzNyk7CiAgICAgICAgCiAgICAKICAgICAgICAgICAgY2lyY2xlXzQyMjI4NDMzNWVjZjQ4NTJhZjg3YzRjMGYxYzUyODZmLmJpbmRUb29sdGlwKAogICAgICAgICAgICAgICAgYDxkaXY+CiAgICAgICAgICAgICAgICAgICAgIDxkaXYgc3R5bGU9J21hcmdpbjogMDsgYmFja2dyb3VuZC1jb2xvcjogYmxhY2s7IGNvbG9yOiB3aGl0ZTsnPjxoNCBzdHlsZT0ndGV4dC1hbGlnbjpjZW50ZXI7Zm9udC13ZWlnaHQ6IGJvbGQnPklyZWxhbmQ8L2g0PjxociBzdHlsZT0nbWFyZ2luOjEwcHg7Y29sb3I6IHdoaXRlOyc+PHVsIHN0eWxlPSdjb2xvcjogd2hpdGU7O2xpc3Qtc3R5bGUtdHlwZTpjaXJjbGU7YWxpZ24taXRlbTpsZWZ0O3BhZGRpbmctbGVmdDoyMHB4O3BhZGRpbmctcmlnaHQ6MjBweCc+PGxpPkNvbmZpcm1lZDogMjA4MzM8L2xpPjxsaT5EZWF0aHM6ICAgMTI2NTwvbGk+PGxpPkRlYXRoIFJhdGU6IDYuMDc8L2xpPjwvdWw+PC9kaXY+CiAgICAgICAgICAgICAgICAgPC9kaXY+YCwKICAgICAgICAgICAgICAgIHsic3RpY2t5IjogdHJ1ZX0KICAgICAgICAgICAgKTsKICAgICAgICAKICAgIAogICAgICAgICAgICB2YXIgY2lyY2xlXzk2MTgxNDJmZjY0MDRiZjNiMWVkZDlhYzdmYzA1YmI4ID0gTC5jaXJjbGUoCiAgICAgICAgICAgICAgICBbMzEuMCwgMzUuMF0sCiAgICAgICAgICAgICAgICB7ImJ1YmJsaW5nTW91c2VFdmVudHMiOiB0cnVlLCAiY29sb3IiOiAicmVkIiwgImRhc2hBcnJheSI6IG51bGwsICJkYXNoT2Zmc2V0IjogbnVsbCwgImZpbGwiOiB0cnVlLCAiZmlsbENvbG9yIjogImluZGlnbyIsICJmaWxsT3BhY2l0eSI6IDAuMiwgImZpbGxSdWxlIjogImV2ZW5vZGQiLCAibGluZUNhcCI6ICJyb3VuZCIsICJsaW5lSm9pbiI6ICJyb3VuZCIsICJvcGFjaXR5IjogMS4wLCAicmFkaXVzIjogNDU5OTk5Ljk5OTk5OTk5OTk0LCAic3Ryb2tlIjogdHJ1ZSwgIndlaWdodCI6IDN9CiAgICAgICAgICAgICkuYWRkVG8obWFwX2ZmZjE4NTc1OTRiZjRhM2E4Mjc4ZjEyNTM2Y2NkNjM3KTsKICAgICAgICAKICAgIAogICAgICAgICAgICBjaXJjbGVfOTYxODE0MmZmNjQwNGJmM2IxZWRkOWFjN2ZjMDViYjguYmluZFRvb2x0aXAoCiAgICAgICAgICAgICAgICBgPGRpdj4KICAgICAgICAgICAgICAgICAgICAgPGRpdiBzdHlsZT0nbWFyZ2luOiAwOyBiYWNrZ3JvdW5kLWNvbG9yOiBibGFjazsgY29sb3I6IHdoaXRlOyc+PGg0IHN0eWxlPSd0ZXh0LWFsaWduOmNlbnRlcjtmb250LXdlaWdodDogYm9sZCc+SXNyYWVsPC9oND48aHIgc3R5bGU9J21hcmdpbjoxMHB4O2NvbG9yOiB3aGl0ZTsnPjx1bCBzdHlsZT0nY29sb3I6IHdoaXRlOztsaXN0LXN0eWxlLXR5cGU6Y2lyY2xlO2FsaWduLWl0ZW06bGVmdDtwYWRkaW5nLWxlZnQ6MjBweDtwYWRkaW5nLXJpZ2h0OjIwcHgnPjxsaT5Db25maXJtZWQ6IDE2MTAxPC9saT48bGk+RGVhdGhzOiAgIDIyNTwvbGk+PGxpPkRlYXRoIFJhdGU6IDEuNDwvbGk+PC91bD48L2Rpdj4KICAgICAgICAgICAgICAgICA8L2Rpdj5gLAogICAgICAgICAgICAgICAgeyJzdGlja3kiOiB0cnVlfQogICAgICAgICAgICApOwogICAgICAgIAogICAgCiAgICAgICAgICAgIHZhciBjaXJjbGVfNGMzMWJmNDMzZmI2NGJjM2FjZmQ3ZWZhZTFkYTQ0YmUgPSBMLmNpcmNsZSgKICAgICAgICAgICAgICAgIFs0My4wLCAxMi4wXSwKICAgICAgICAgICAgICAgIHsiYnViYmxpbmdNb3VzZUV2ZW50cyI6IHRydWUsICJjb2xvciI6ICJyZWQiLCAiZGFzaEFycmF5IjogbnVsbCwgImRhc2hPZmZzZXQiOiBudWxsLCAiZmlsbCI6IHRydWUsICJmaWxsQ29sb3IiOiAiaW5kaWdvIiwgImZpbGxPcGFjaXR5IjogMC4yLCAiZmlsbFJ1bGUiOiAiZXZlbm9kZCIsICJsaW5lQ2FwIjogInJvdW5kIiwgImxpbmVKb2luIjogInJvdW5kIiwgIm9wYWNpdHkiOiAxLjAsICJyYWRpdXMiOiA2MTAwMDAuMCwgInN0cm9rZSI6IHRydWUsICJ3ZWlnaHQiOiAzfQogICAgICAgICAgICApLmFkZFRvKG1hcF9mZmYxODU3NTk0YmY0YTNhODI3OGYxMjUzNmNjZDYzNyk7CiAgICAgICAgCiAgICAKICAgICAgICAgICAgY2lyY2xlXzRjMzFiZjQzM2ZiNjRiYzNhY2ZkN2VmYWUxZGE0NGJlLmJpbmRUb29sdGlwKAogICAgICAgICAgICAgICAgYDxkaXY+CiAgICAgICAgICAgICAgICAgICAgIDxkaXYgc3R5bGU9J21hcmdpbjogMDsgYmFja2dyb3VuZC1jb2xvcjogYmxhY2s7IGNvbG9yOiB3aGl0ZTsnPjxoNCBzdHlsZT0ndGV4dC1hbGlnbjpjZW50ZXI7Zm9udC13ZWlnaHQ6IGJvbGQnPkl0YWx5PC9oND48aHIgc3R5bGU9J21hcmdpbjoxMHB4O2NvbG9yOiB3aGl0ZTsnPjx1bCBzdHlsZT0nY29sb3I6IHdoaXRlOztsaXN0LXN0eWxlLXR5cGU6Y2lyY2xlO2FsaWduLWl0ZW06bGVmdDtwYWRkaW5nLWxlZnQ6MjBweDtwYWRkaW5nLXJpZ2h0OjIwcHgnPjxsaT5Db25maXJtZWQ6IDIwNzQyODwvbGk+PGxpPkRlYXRoczogICAyODIzNjwvbGk+PGxpPkRlYXRoIFJhdGU6IDEzLjYxPC9saT48L3VsPjwvZGl2PgogICAgICAgICAgICAgICAgIDwvZGl2PmAsCiAgICAgICAgICAgICAgICB7InN0aWNreSI6IHRydWV9CiAgICAgICAgICAgICk7CiAgICAgICAgCiAgICAKICAgICAgICAgICAgdmFyIGNpcmNsZV8xOTMwNjBjZDYwMzU0NDQ2OTFhZTU3MWEwZDhjOGEyOCA9IEwuY2lyY2xlKAogICAgICAgICAgICAgICAgWzE4LjEwOTYsIC03Ny4yOTc1XSwKICAgICAgICAgICAgICAgIHsiYnViYmxpbmdNb3VzZUV2ZW50cyI6IHRydWUsICJjb2xvciI6ICJyZWQiLCAiZGFzaEFycmF5IjogbnVsbCwgImRhc2hPZmZzZXQiOiBudWxsLCAiZmlsbCI6IHRydWUsICJmaWxsQ29sb3IiOiAiaW5kaWdvIiwgImZpbGxPcGFjaXR5IjogMC4yLCAiZmlsbFJ1bGUiOiAiZXZlbm9kZCIsICJsaW5lQ2FwIjogInJvdW5kIiwgImxpbmVKb2luIjogInJvdW5kIiwgIm9wYWNpdHkiOiAxLjAsICJyYWRpdXMiOiAzMTAwMDAuMCwgInN0cm9rZSI6IHRydWUsICJ3ZWlnaHQiOiAzfQogICAgICAgICAgICApLmFkZFRvKG1hcF9mZmYxODU3NTk0YmY0YTNhODI3OGYxMjUzNmNjZDYzNyk7CiAgICAgICAgCiAgICAKICAgICAgICAgICAgY2lyY2xlXzE5MzA2MGNkNjAzNTQ0NDY5MWFlNTcxYTBkOGM4YTI4LmJpbmRUb29sdGlwKAogICAgICAgICAgICAgICAgYDxkaXY+CiAgICAgICAgICAgICAgICAgICAgIDxkaXYgc3R5bGU9J21hcmdpbjogMDsgYmFja2dyb3VuZC1jb2xvcjogYmxhY2s7IGNvbG9yOiB3aGl0ZTsnPjxoNCBzdHlsZT0ndGV4dC1hbGlnbjpjZW50ZXI7Zm9udC13ZWlnaHQ6IGJvbGQnPkphbWFpY2E8L2g0PjxociBzdHlsZT0nbWFyZ2luOjEwcHg7Y29sb3I6IHdoaXRlOyc+PHVsIHN0eWxlPSdjb2xvcjogd2hpdGU7O2xpc3Qtc3R5bGUtdHlwZTpjaXJjbGU7YWxpZ24taXRlbTpsZWZ0O3BhZGRpbmctbGVmdDoyMHB4O3BhZGRpbmctcmlnaHQ6MjBweCc+PGxpPkNvbmZpcm1lZDogNDMyPC9saT48bGk+RGVhdGhzOiAgIDg8L2xpPjxsaT5EZWF0aCBSYXRlOiAxLjg1PC9saT48L3VsPjwvZGl2PgogICAgICAgICAgICAgICAgIDwvZGl2PmAsCiAgICAgICAgICAgICAgICB7InN0aWNreSI6IHRydWV9CiAgICAgICAgICAgICk7CiAgICAgICAgCiAgICAKICAgICAgICAgICAgdmFyIGNpcmNsZV80OGYyNmIwODNlMDA0OTg3Yjg2M2ZjZmFhYjU0OTExYyA9IEwuY2lyY2xlKAogICAgICAgICAgICAgICAgWzM2LjAsIDEzOC4wXSwKICAgICAgICAgICAgICAgIHsiYnViYmxpbmdNb3VzZUV2ZW50cyI6IHRydWUsICJjb2xvciI6ICJyZWQiLCAiZGFzaEFycmF5IjogbnVsbCwgImRhc2hPZmZzZXQiOiBudWxsLCAiZmlsbCI6IHRydWUsICJmaWxsQ29sb3IiOiAiaW5kaWdvIiwgImZpbGxPcGFjaXR5IjogMC4yLCAiZmlsbFJ1bGUiOiAiZXZlbm9kZCIsICJsaW5lQ2FwIjogInJvdW5kIiwgImxpbmVKb2luIjogInJvdW5kIiwgIm9wYWNpdHkiOiAxLjAsICJyYWRpdXMiOiA0NTk5OTkuOTk5OTk5OTk5OTQsICJzdHJva2UiOiB0cnVlLCAid2VpZ2h0IjogM30KICAgICAgICAgICAgKS5hZGRUbyhtYXBfZmZmMTg1NzU5NGJmNGEzYTgyNzhmMTI1MzZjY2Q2MzcpOwogICAgICAgIAogICAgCiAgICAgICAgICAgIGNpcmNsZV80OGYyNmIwODNlMDA0OTg3Yjg2M2ZjZmFhYjU0OTExYy5iaW5kVG9vbHRpcCgKICAgICAgICAgICAgICAgIGA8ZGl2PgogICAgICAgICAgICAgICAgICAgICA8ZGl2IHN0eWxlPSdtYXJnaW46IDA7IGJhY2tncm91bmQtY29sb3I6IGJsYWNrOyBjb2xvcjogd2hpdGU7Jz48aDQgc3R5bGU9J3RleHQtYWxpZ246Y2VudGVyO2ZvbnQtd2VpZ2h0OiBib2xkJz5KYXBhbjwvaDQ+PGhyIHN0eWxlPSdtYXJnaW46MTBweDtjb2xvcjogd2hpdGU7Jz48dWwgc3R5bGU9J2NvbG9yOiB3aGl0ZTs7bGlzdC1zdHlsZS10eXBlOmNpcmNsZTthbGlnbi1pdGVtOmxlZnQ7cGFkZGluZy1sZWZ0OjIwcHg7cGFkZGluZy1yaWdodDoyMHB4Jz48bGk+Q29uZmlybWVkOiAxNDMwNTwvbGk+PGxpPkRlYXRoczogICA0NTU8L2xpPjxsaT5EZWF0aCBSYXRlOiAzLjE4PC9saT48L3VsPjwvZGl2PgogICAgICAgICAgICAgICAgIDwvZGl2PmAsCiAgICAgICAgICAgICAgICB7InN0aWNreSI6IHRydWV9CiAgICAgICAgICAgICk7CiAgICAgICAgCiAgICAKICAgICAgICAgICAgdmFyIGNpcmNsZV8xZTVkNzhmMzU4NGE0YTY5YTg4ODFlNjZmMjE0NjYxZiA9IEwuY2lyY2xlKAogICAgICAgICAgICAgICAgWzMxLjI0LCAzNi41MV0sCiAgICAgICAgICAgICAgICB7ImJ1YmJsaW5nTW91c2VFdmVudHMiOiB0cnVlLCAiY29sb3IiOiAicmVkIiwgImRhc2hBcnJheSI6IG51bGwsICJkYXNoT2Zmc2V0IjogbnVsbCwgImZpbGwiOiB0cnVlLCAiZmlsbENvbG9yIjogImluZGlnbyIsICJmaWxsT3BhY2l0eSI6IDAuMiwgImZpbGxSdWxlIjogImV2ZW5vZGQiLCAibGluZUNhcCI6ICJyb3VuZCIsICJsaW5lSm9pbiI6ICJyb3VuZCIsICJvcGFjaXR5IjogMS4wLCAicmFkaXVzIjogMzEwMDAwLjAsICJzdHJva2UiOiB0cnVlLCAid2VpZ2h0IjogM30KICAgICAgICAgICAgKS5hZGRUbyhtYXBfZmZmMTg1NzU5NGJmNGEzYTgyNzhmMTI1MzZjY2Q2MzcpOwogICAgICAgIAogICAgCiAgICAgICAgICAgIGNpcmNsZV8xZTVkNzhmMzU4NGE0YTY5YTg4ODFlNjZmMjE0NjYxZi5iaW5kVG9vbHRpcCgKICAgICAgICAgICAgICAgIGA8ZGl2PgogICAgICAgICAgICAgICAgICAgICA8ZGl2IHN0eWxlPSdtYXJnaW46IDA7IGJhY2tncm91bmQtY29sb3I6IGJsYWNrOyBjb2xvcjogd2hpdGU7Jz48aDQgc3R5bGU9J3RleHQtYWxpZ246Y2VudGVyO2ZvbnQtd2VpZ2h0OiBib2xkJz5Kb3JkYW48L2g0PjxociBzdHlsZT0nbWFyZ2luOjEwcHg7Y29sb3I6IHdoaXRlOyc+PHVsIHN0eWxlPSdjb2xvcjogd2hpdGU7O2xpc3Qtc3R5bGUtdHlwZTpjaXJjbGU7YWxpZ24taXRlbTpsZWZ0O3BhZGRpbmctbGVmdDoyMHB4O3BhZGRpbmctcmlnaHQ6MjBweCc+PGxpPkNvbmZpcm1lZDogNDU5PC9saT48bGk+RGVhdGhzOiAgIDg8L2xpPjxsaT5EZWF0aCBSYXRlOiAxLjc0PC9saT48L3VsPjwvZGl2PgogICAgICAgICAgICAgICAgIDwvZGl2PmAsCiAgICAgICAgICAgICAgICB7InN0aWNreSI6IHRydWV9CiAgICAgICAgICAgICk7CiAgICAgICAgCiAgICAKICAgICAgICAgICAgdmFyIGNpcmNsZV9iMTdkYjFhZjZjY2M0YTE4YTczMWU1MGQyN2VkNWY3YyA9IEwuY2lyY2xlKAogICAgICAgICAgICAgICAgWzQ4LjAxOTYsIDY2LjkyMzddLAogICAgICAgICAgICAgICAgeyJidWJibGluZ01vdXNlRXZlbnRzIjogdHJ1ZSwgImNvbG9yIjogInJlZCIsICJkYXNoQXJyYXkiOiBudWxsLCAiZGFzaE9mZnNldCI6IG51bGwsICJmaWxsIjogdHJ1ZSwgImZpbGxDb2xvciI6ICJpbmRpZ28iLCAiZmlsbE9wYWNpdHkiOiAwLjIsICJmaWxsUnVsZSI6ICJldmVub2RkIiwgImxpbmVDYXAiOiAicm91bmQiLCAibGluZUpvaW4iOiAicm91bmQiLCAib3BhY2l0eSI6IDEuMCwgInJhZGl1cyI6IDQwOTk5OS45OTk5OTk5OTk5NCwgInN0cm9rZSI6IHRydWUsICJ3ZWlnaHQiOiAzfQogICAgICAgICAgICApLmFkZFRvKG1hcF9mZmYxODU3NTk0YmY0YTNhODI3OGYxMjUzNmNjZDYzNyk7CiAgICAgICAgCiAgICAKICAgICAgICAgICAgY2lyY2xlX2IxN2RiMWFmNmNjYzRhMThhNzMxZTUwZDI3ZWQ1ZjdjLmJpbmRUb29sdGlwKAogICAgICAgICAgICAgICAgYDxkaXY+CiAgICAgICAgICAgICAgICAgICAgIDxkaXYgc3R5bGU9J21hcmdpbjogMDsgYmFja2dyb3VuZC1jb2xvcjogYmxhY2s7IGNvbG9yOiB3aGl0ZTsnPjxoNCBzdHlsZT0ndGV4dC1hbGlnbjpjZW50ZXI7Zm9udC13ZWlnaHQ6IGJvbGQnPkthemFraHN0YW48L2g0PjxociBzdHlsZT0nbWFyZ2luOjEwcHg7Y29sb3I6IHdoaXRlOyc+PHVsIHN0eWxlPSdjb2xvcjogd2hpdGU7O2xpc3Qtc3R5bGUtdHlwZTpjaXJjbGU7YWxpZ24taXRlbTpsZWZ0O3BhZGRpbmctbGVmdDoyMHB4O3BhZGRpbmctcmlnaHQ6MjBweCc+PGxpPkNvbmZpcm1lZDogMzU5NzwvbGk+PGxpPkRlYXRoczogICAyNTwvbGk+PGxpPkRlYXRoIFJhdGU6IDAuNjk8L2xpPjwvdWw+PC9kaXY+CiAgICAgICAgICAgICAgICAgPC9kaXY+YCwKICAgICAgICAgICAgICAgIHsic3RpY2t5IjogdHJ1ZX0KICAgICAgICAgICAgKTsKICAgICAgICAKICAgIAogICAgICAgICAgICB2YXIgY2lyY2xlX2NhODQ1NWYyYjFhOTQ1NWY5OWE0OTFhNmNkYmUzNTEwID0gTC5jaXJjbGUoCiAgICAgICAgICAgICAgICBbLTAuMDIzNiwgMzcuOTA2Ml0sCiAgICAgICAgICAgICAgICB7ImJ1YmJsaW5nTW91c2VFdmVudHMiOiB0cnVlLCAiY29sb3IiOiAicmVkIiwgImRhc2hBcnJheSI6IG51bGwsICJkYXNoT2Zmc2V0IjogbnVsbCwgImZpbGwiOiB0cnVlLCAiZmlsbENvbG9yIjogImluZGlnbyIsICJmaWxsT3BhY2l0eSI6IDAuMiwgImZpbGxSdWxlIjogImV2ZW5vZGQiLCAibGluZUNhcCI6ICJyb3VuZCIsICJsaW5lSm9pbiI6ICJyb3VuZCIsICJvcGFjaXR5IjogMS4wLCAicmFkaXVzIjogMzEwMDAwLjAsICJzdHJva2UiOiB0cnVlLCAid2VpZ2h0IjogM30KICAgICAgICAgICAgKS5hZGRUbyhtYXBfZmZmMTg1NzU5NGJmNGEzYTgyNzhmMTI1MzZjY2Q2MzcpOwogICAgICAgIAogICAgCiAgICAgICAgICAgIGNpcmNsZV9jYTg0NTVmMmIxYTk0NTVmOTlhNDkxYTZjZGJlMzUxMC5iaW5kVG9vbHRpcCgKICAgICAgICAgICAgICAgIGA8ZGl2PgogICAgICAgICAgICAgICAgICAgICA8ZGl2IHN0eWxlPSdtYXJnaW46IDA7IGJhY2tncm91bmQtY29sb3I6IGJsYWNrOyBjb2xvcjogd2hpdGU7Jz48aDQgc3R5bGU9J3RleHQtYWxpZ246Y2VudGVyO2ZvbnQtd2VpZ2h0OiBib2xkJz5LZW55YTwvaDQ+PGhyIHN0eWxlPSdtYXJnaW46MTBweDtjb2xvcjogd2hpdGU7Jz48dWwgc3R5bGU9J2NvbG9yOiB3aGl0ZTs7bGlzdC1zdHlsZS10eXBlOmNpcmNsZTthbGlnbi1pdGVtOmxlZnQ7cGFkZGluZy1sZWZ0OjIwcHg7cGFkZGluZy1yaWdodDoyMHB4Jz48bGk+Q29uZmlybWVkOiA0MTE8L2xpPjxsaT5EZWF0aHM6ICAgMjE8L2xpPjxsaT5EZWF0aCBSYXRlOiA1LjE8L2xpPjwvdWw+PC9kaXY+CiAgICAgICAgICAgICAgICAgPC9kaXY+YCwKICAgICAgICAgICAgICAgIHsic3RpY2t5IjogdHJ1ZX0KICAgICAgICAgICAgKTsKICAgICAgICAKICAgIAogICAgICAgICAgICB2YXIgY2lyY2xlX2UxZDFkYjgyZGI0ZDRmZDZhMzhmZWMyMzA0YTUzOTZiID0gTC5jaXJjbGUoCiAgICAgICAgICAgICAgICBbMzYuMCwgMTI4LjBdLAogICAgICAgICAgICAgICAgeyJidWJibGluZ01vdXNlRXZlbnRzIjogdHJ1ZSwgImNvbG9yIjogInJlZCIsICJkYXNoQXJyYXkiOiBudWxsLCAiZGFzaE9mZnNldCI6IG51bGwsICJmaWxsIjogdHJ1ZSwgImZpbGxDb2xvciI6ICJpbmRpZ28iLCAiZmlsbE9wYWNpdHkiOiAwLjIsICJmaWxsUnVsZSI6ICJldmVub2RkIiwgImxpbmVDYXAiOiAicm91bmQiLCAibGluZUpvaW4iOiAicm91bmQiLCAib3BhY2l0eSI6IDEuMCwgInJhZGl1cyI6IDQ1OTk5OS45OTk5OTk5OTk5NCwgInN0cm9rZSI6IHRydWUsICJ3ZWlnaHQiOiAzfQogICAgICAgICAgICApLmFkZFRvKG1hcF9mZmYxODU3NTk0YmY0YTNhODI3OGYxMjUzNmNjZDYzNyk7CiAgICAgICAgCiAgICAKICAgICAgICAgICAgY2lyY2xlX2UxZDFkYjgyZGI0ZDRmZDZhMzhmZWMyMzA0YTUzOTZiLmJpbmRUb29sdGlwKAogICAgICAgICAgICAgICAgYDxkaXY+CiAgICAgICAgICAgICAgICAgICAgIDxkaXYgc3R5bGU9J21hcmdpbjogMDsgYmFja2dyb3VuZC1jb2xvcjogYmxhY2s7IGNvbG9yOiB3aGl0ZTsnPjxoNCBzdHlsZT0ndGV4dC1hbGlnbjpjZW50ZXI7Zm9udC13ZWlnaHQ6IGJvbGQnPktvcmVhLCBTb3V0aDwvaDQ+PGhyIHN0eWxlPSdtYXJnaW46MTBweDtjb2xvcjogd2hpdGU7Jz48dWwgc3R5bGU9J2NvbG9yOiB3aGl0ZTs7bGlzdC1zdHlsZS10eXBlOmNpcmNsZTthbGlnbi1pdGVtOmxlZnQ7cGFkZGluZy1sZWZ0OjIwcHg7cGFkZGluZy1yaWdodDoyMHB4Jz48bGk+Q29uZmlybWVkOiAxMDc4MDwvbGk+PGxpPkRlYXRoczogICAyNTA8L2xpPjxsaT5EZWF0aCBSYXRlOiAyLjMyPC9saT48L3VsPjwvZGl2PgogICAgICAgICAgICAgICAgIDwvZGl2PmAsCiAgICAgICAgICAgICAgICB7InN0aWNreSI6IHRydWV9CiAgICAgICAgICAgICk7CiAgICAgICAgCiAgICAKICAgICAgICAgICAgdmFyIGNpcmNsZV9hNjU3NDMzZDBiODc0ZmNjYTdiN2UzZmIxMjJkZGNiYyA9IEwuY2lyY2xlKAogICAgICAgICAgICAgICAgWzI5LjUsIDQ3Ljc1XSwKICAgICAgICAgICAgICAgIHsiYnViYmxpbmdNb3VzZUV2ZW50cyI6IHRydWUsICJjb2xvciI6ICJyZWQiLCAiZGFzaEFycmF5IjogbnVsbCwgImRhc2hPZmZzZXQiOiBudWxsLCAiZmlsbCI6IHRydWUsICJmaWxsQ29sb3IiOiAiaW5kaWdvIiwgImZpbGxPcGFjaXR5IjogMC4yLCAiZmlsbFJ1bGUiOiAiZXZlbm9kZCIsICJsaW5lQ2FwIjogInJvdW5kIiwgImxpbmVKb2luIjogInJvdW5kIiwgIm9wYWNpdHkiOiAxLjAsICJyYWRpdXMiOiA0MDk5OTkuOTk5OTk5OTk5OTQsICJzdHJva2UiOiB0cnVlLCAid2VpZ2h0IjogM30KICAgICAgICAgICAgKS5hZGRUbyhtYXBfZmZmMTg1NzU5NGJmNGEzYTgyNzhmMTI1MzZjY2Q2MzcpOwogICAgICAgIAogICAgCiAgICAgICAgICAgIGNpcmNsZV9hNjU3NDMzZDBiODc0ZmNjYTdiN2UzZmIxMjJkZGNiYy5iaW5kVG9vbHRpcCgKICAgICAgICAgICAgICAgIGA8ZGl2PgogICAgICAgICAgICAgICAgICAgICA8ZGl2IHN0eWxlPSdtYXJnaW46IDA7IGJhY2tncm91bmQtY29sb3I6IGJsYWNrOyBjb2xvcjogd2hpdGU7Jz48aDQgc3R5bGU9J3RleHQtYWxpZ246Y2VudGVyO2ZvbnQtd2VpZ2h0OiBib2xkJz5LdXdhaXQ8L2g0PjxociBzdHlsZT0nbWFyZ2luOjEwcHg7Y29sb3I6IHdoaXRlOyc+PHVsIHN0eWxlPSdjb2xvcjogd2hpdGU7O2xpc3Qtc3R5bGUtdHlwZTpjaXJjbGU7YWxpZ24taXRlbTpsZWZ0O3BhZGRpbmctbGVmdDoyMHB4O3BhZGRpbmctcmlnaHQ6MjBweCc+PGxpPkNvbmZpcm1lZDogNDM3NzwvbGk+PGxpPkRlYXRoczogICAzMDwvbGk+PGxpPkRlYXRoIFJhdGU6IDAuNjk8L2xpPjwvdWw+PC9kaXY+CiAgICAgICAgICAgICAgICAgPC9kaXY+YCwKICAgICAgICAgICAgICAgIHsic3RpY2t5IjogdHJ1ZX0KICAgICAgICAgICAgKTsKICAgICAgICAKICAgIAogICAgICAgICAgICB2YXIgY2lyY2xlXzViMTU2NjUxYjkzYTRlYmU5YWMyNjQ0ZGQwZWQ3NTcyID0gTC5jaXJjbGUoCiAgICAgICAgICAgICAgICBbNDEuMjA0NCwgNzQuNzY2MV0sCiAgICAgICAgICAgICAgICB7ImJ1YmJsaW5nTW91c2VFdmVudHMiOiB0cnVlLCAiY29sb3IiOiAicmVkIiwgImRhc2hBcnJheSI6IG51bGwsICJkYXNoT2Zmc2V0IjogbnVsbCwgImZpbGwiOiB0cnVlLCAiZmlsbENvbG9yIjogImluZGlnbyIsICJmaWxsT3BhY2l0eSI6IDAuMiwgImZpbGxSdWxlIjogImV2ZW5vZGQiLCAibGluZUNhcCI6ICJyb3VuZCIsICJsaW5lSm9pbiI6ICJyb3VuZCIsICJvcGFjaXR5IjogMS4wLCAicmFkaXVzIjogMzEwMDAwLjAsICJzdHJva2UiOiB0cnVlLCAid2VpZ2h0IjogM30KICAgICAgICAgICAgKS5hZGRUbyhtYXBfZmZmMTg1NzU5NGJmNGEzYTgyNzhmMTI1MzZjY2Q2MzcpOwogICAgICAgIAogICAgCiAgICAgICAgICAgIGNpcmNsZV81YjE1NjY1MWI5M2E0ZWJlOWFjMjY0NGRkMGVkNzU3Mi5iaW5kVG9vbHRpcCgKICAgICAgICAgICAgICAgIGA8ZGl2PgogICAgICAgICAgICAgICAgICAgICA8ZGl2IHN0eWxlPSdtYXJnaW46IDA7IGJhY2tncm91bmQtY29sb3I6IGJsYWNrOyBjb2xvcjogd2hpdGU7Jz48aDQgc3R5bGU9J3RleHQtYWxpZ246Y2VudGVyO2ZvbnQtd2VpZ2h0OiBib2xkJz5LeXJneXpzdGFuPC9oND48aHIgc3R5bGU9J21hcmdpbjoxMHB4O2NvbG9yOiB3aGl0ZTsnPjx1bCBzdHlsZT0nY29sb3I6IHdoaXRlOztsaXN0LXN0eWxlLXR5cGU6Y2lyY2xlO2FsaWduLWl0ZW06bGVmdDtwYWRkaW5nLWxlZnQ6MjBweDtwYWRkaW5nLXJpZ2h0OjIwcHgnPjxsaT5Db25maXJtZWQ6IDc1NjwvbGk+PGxpPkRlYXRoczogICA4PC9saT48bGk+RGVhdGggUmF0ZTogMS4wNjwvbGk+PC91bD48L2Rpdj4KICAgICAgICAgICAgICAgICA8L2Rpdj5gLAogICAgICAgICAgICAgICAgeyJzdGlja3kiOiB0cnVlfQogICAgICAgICAgICApOwogICAgICAgIAogICAgCiAgICAgICAgICAgIHZhciBjaXJjbGVfY2QxNDliMjdiZDQ3NDNkZjhkZjZlYmViNjU2NzljZTQgPSBMLmNpcmNsZSgKICAgICAgICAgICAgICAgIFs1Ni44Nzk2LCAyNC42MDMyXSwKICAgICAgICAgICAgICAgIHsiYnViYmxpbmdNb3VzZUV2ZW50cyI6IHRydWUsICJjb2xvciI6ICJyZWQiLCAiZGFzaEFycmF5IjogbnVsbCwgImRhc2hPZmZzZXQiOiBudWxsLCAiZmlsbCI6IHRydWUsICJmaWxsQ29sb3IiOiAiaW5kaWdvIiwgImZpbGxPcGFjaXR5IjogMC4yLCAiZmlsbFJ1bGUiOiAiZXZlbm9kZCIsICJsaW5lQ2FwIjogInJvdW5kIiwgImxpbmVKb2luIjogInJvdW5kIiwgIm9wYWNpdHkiOiAxLjAsICJyYWRpdXMiOiAzMTAwMDAuMCwgInN0cm9rZSI6IHRydWUsICJ3ZWlnaHQiOiAzfQogICAgICAgICAgICApLmFkZFRvKG1hcF9mZmYxODU3NTk0YmY0YTNhODI3OGYxMjUzNmNjZDYzNyk7CiAgICAgICAgCiAgICAKICAgICAgICAgICAgY2lyY2xlX2NkMTQ5YjI3YmQ0NzQzZGY4ZGY2ZWJlYjY1Njc5Y2U0LmJpbmRUb29sdGlwKAogICAgICAgICAgICAgICAgYDxkaXY+CiAgICAgICAgICAgICAgICAgICAgIDxkaXYgc3R5bGU9J21hcmdpbjogMDsgYmFja2dyb3VuZC1jb2xvcjogYmxhY2s7IGNvbG9yOiB3aGl0ZTsnPjxoNCBzdHlsZT0ndGV4dC1hbGlnbjpjZW50ZXI7Zm9udC13ZWlnaHQ6IGJvbGQnPkxhdHZpYTwvaDQ+PGhyIHN0eWxlPSdtYXJnaW46MTBweDtjb2xvcjogd2hpdGU7Jz48dWwgc3R5bGU9J2NvbG9yOiB3aGl0ZTs7bGlzdC1zdHlsZS10eXBlOmNpcmNsZTthbGlnbi1pdGVtOmxlZnQ7cGFkZGluZy1sZWZ0OjIwcHg7cGFkZGluZy1yaWdodDoyMHB4Jz48bGk+Q29uZmlybWVkOiA4NzA8L2xpPjxsaT5EZWF0aHM6ICAgMTY8L2xpPjxsaT5EZWF0aCBSYXRlOiAxLjg0PC9saT48L3VsPjwvZGl2PgogICAgICAgICAgICAgICAgIDwvZGl2PmAsCiAgICAgICAgICAgICAgICB7InN0aWNreSI6IHRydWV9CiAgICAgICAgICAgICk7CiAgICAgICAgCiAgICAKICAgICAgICAgICAgdmFyIGNpcmNsZV8yMGJkN2QyZDM4OTY0ODVlYTllNzczMjc0ODkzOTg3YSA9IEwuY2lyY2xlKAogICAgICAgICAgICAgICAgWzMzLjg1NDcsIDM1Ljg2MjNdLAogICAgICAgICAgICAgICAgeyJidWJibGluZ01vdXNlRXZlbnRzIjogdHJ1ZSwgImNvbG9yIjogInJlZCIsICJkYXNoQXJyYXkiOiBudWxsLCAiZGFzaE9mZnNldCI6IG51bGwsICJmaWxsIjogdHJ1ZSwgImZpbGxDb2xvciI6ICJpbmRpZ28iLCAiZmlsbE9wYWNpdHkiOiAwLjIsICJmaWxsUnVsZSI6ICJldmVub2RkIiwgImxpbmVDYXAiOiAicm91bmQiLCAibGluZUpvaW4iOiAicm91bmQiLCAib3BhY2l0eSI6IDEuMCwgInJhZGl1cyI6IDMxMDAwMC4wLCAic3Ryb2tlIjogdHJ1ZSwgIndlaWdodCI6IDN9CiAgICAgICAgICAgICkuYWRkVG8obWFwX2ZmZjE4NTc1OTRiZjRhM2E4Mjc4ZjEyNTM2Y2NkNjM3KTsKICAgICAgICAKICAgIAogICAgICAgICAgICBjaXJjbGVfMjBiZDdkMmQzODk2NDg1ZWE5ZTc3MzI3NDg5Mzk4N2EuYmluZFRvb2x0aXAoCiAgICAgICAgICAgICAgICBgPGRpdj4KICAgICAgICAgICAgICAgICAgICAgPGRpdiBzdHlsZT0nbWFyZ2luOiAwOyBiYWNrZ3JvdW5kLWNvbG9yOiBibGFjazsgY29sb3I6IHdoaXRlOyc+PGg0IHN0eWxlPSd0ZXh0LWFsaWduOmNlbnRlcjtmb250LXdlaWdodDogYm9sZCc+TGViYW5vbjwvaDQ+PGhyIHN0eWxlPSdtYXJnaW46MTBweDtjb2xvcjogd2hpdGU7Jz48dWwgc3R5bGU9J2NvbG9yOiB3aGl0ZTs7bGlzdC1zdHlsZS10eXBlOmNpcmNsZTthbGlnbi1pdGVtOmxlZnQ7cGFkZGluZy1sZWZ0OjIwcHg7cGFkZGluZy1yaWdodDoyMHB4Jz48bGk+Q29uZmlybWVkOiA3Mjk8L2xpPjxsaT5EZWF0aHM6ICAgMjQ8L2xpPjxsaT5EZWF0aCBSYXRlOiAzLjI5PC9saT48L3VsPjwvZGl2PgogICAgICAgICAgICAgICAgIDwvZGl2PmAsCiAgICAgICAgICAgICAgICB7InN0aWNreSI6IHRydWV9CiAgICAgICAgICAgICk7CiAgICAgICAgCiAgICAKICAgICAgICAgICAgdmFyIGNpcmNsZV9mMjU3MjQ4Y2VlMDY0OWExOGExODRmNTBjMjkwOTBiNSA9IEwuY2lyY2xlKAogICAgICAgICAgICAgICAgWzYuNDI4MSwgLTkuNDI5NV0sCiAgICAgICAgICAgICAgICB7ImJ1YmJsaW5nTW91c2VFdmVudHMiOiB0cnVlLCAiY29sb3IiOiAicmVkIiwgImRhc2hBcnJheSI6IG51bGwsICJkYXNoT2Zmc2V0IjogbnVsbCwgImZpbGwiOiB0cnVlLCAiZmlsbENvbG9yIjogImluZGlnbyIsICJmaWxsT3BhY2l0eSI6IDAuMiwgImZpbGxSdWxlIjogImV2ZW5vZGQiLCAibGluZUNhcCI6ICJyb3VuZCIsICJsaW5lSm9pbiI6ICJyb3VuZCIsICJvcGFjaXR5IjogMS4wLCAicmFkaXVzIjogMjYwMDAwLjAsICJzdHJva2UiOiB0cnVlLCAid2VpZ2h0IjogM30KICAgICAgICAgICAgKS5hZGRUbyhtYXBfZmZmMTg1NzU5NGJmNGEzYTgyNzhmMTI1MzZjY2Q2MzcpOwogICAgICAgIAogICAgCiAgICAgICAgICAgIGNpcmNsZV9mMjU3MjQ4Y2VlMDY0OWExOGExODRmNTBjMjkwOTBiNS5iaW5kVG9vbHRpcCgKICAgICAgICAgICAgICAgIGA8ZGl2PgogICAgICAgICAgICAgICAgICAgICA8ZGl2IHN0eWxlPSdtYXJnaW46IDA7IGJhY2tncm91bmQtY29sb3I6IGJsYWNrOyBjb2xvcjogd2hpdGU7Jz48aDQgc3R5bGU9J3RleHQtYWxpZ246Y2VudGVyO2ZvbnQtd2VpZ2h0OiBib2xkJz5MaWJlcmlhPC9oND48aHIgc3R5bGU9J21hcmdpbjoxMHB4O2NvbG9yOiB3aGl0ZTsnPjx1bCBzdHlsZT0nY29sb3I6IHdoaXRlOztsaXN0LXN0eWxlLXR5cGU6Y2lyY2xlO2FsaWduLWl0ZW06bGVmdDtwYWRkaW5nLWxlZnQ6MjBweDtwYWRkaW5nLXJpZ2h0OjIwcHgnPjxsaT5Db25maXJtZWQ6IDE1MjwvbGk+PGxpPkRlYXRoczogICAxODwvbGk+PGxpPkRlYXRoIFJhdGU6IDExLjc2PC9saT48L3VsPjwvZGl2PgogICAgICAgICAgICAgICAgIDwvZGl2PmAsCiAgICAgICAgICAgICAgICB7InN0aWNreSI6IHRydWV9CiAgICAgICAgICAgICk7CiAgICAgICAgCiAgICAKICAgICAgICAgICAgdmFyIGNpcmNsZV85ZmEzOTc0YWViYzk0ZjI2ODUyZDYyYjIzMDBlNGNjYiA9IEwuY2lyY2xlKAogICAgICAgICAgICAgICAgWzQ3LjE0LCA5LjU1XSwKICAgICAgICAgICAgICAgIHsiYnViYmxpbmdNb3VzZUV2ZW50cyI6IHRydWUsICJjb2xvciI6ICJyZWQiLCAiZGFzaEFycmF5IjogbnVsbCwgImRhc2hPZmZzZXQiOiBudWxsLCAiZmlsbCI6IHRydWUsICJmaWxsQ29sb3IiOiAiaW5kaWdvIiwgImZpbGxPcGFjaXR5IjogMC4yLCAiZmlsbFJ1bGUiOiAiZXZlbm9kZCIsICJsaW5lQ2FwIjogInJvdW5kIiwgImxpbmVKb2luIjogInJvdW5kIiwgIm9wYWNpdHkiOiAxLjAsICJyYWRpdXMiOiAyMTAwMDAuMCwgInN0cm9rZSI6IHRydWUsICJ3ZWlnaHQiOiAzfQogICAgICAgICAgICApLmFkZFRvKG1hcF9mZmYxODU3NTk0YmY0YTNhODI3OGYxMjUzNmNjZDYzNyk7CiAgICAgICAgCiAgICAKICAgICAgICAgICAgY2lyY2xlXzlmYTM5NzRhZWJjOTRmMjY4NTJkNjJiMjMwMGU0Y2NiLmJpbmRUb29sdGlwKAogICAgICAgICAgICAgICAgYDxkaXY+CiAgICAgICAgICAgICAgICAgICAgIDxkaXYgc3R5bGU9J21hcmdpbjogMDsgYmFja2dyb3VuZC1jb2xvcjogYmxhY2s7IGNvbG9yOiB3aGl0ZTsnPjxoNCBzdHlsZT0ndGV4dC1hbGlnbjpjZW50ZXI7Zm9udC13ZWlnaHQ6IGJvbGQnPkxpZWNodGVuc3RlaW48L2g0PjxociBzdHlsZT0nbWFyZ2luOjEwcHg7Y29sb3I6IHdoaXRlOyc+PHVsIHN0eWxlPSdjb2xvcjogd2hpdGU7O2xpc3Qtc3R5bGUtdHlwZTpjaXJjbGU7YWxpZ24taXRlbTpsZWZ0O3BhZGRpbmctbGVmdDoyMHB4O3BhZGRpbmctcmlnaHQ6MjBweCc+PGxpPkNvbmZpcm1lZDogODI8L2xpPjxsaT5EZWF0aHM6ICAgMTwvbGk+PGxpPkRlYXRoIFJhdGU6IDEuMjwvbGk+PC91bD48L2Rpdj4KICAgICAgICAgICAgICAgICA8L2Rpdj5gLAogICAgICAgICAgICAgICAgeyJzdGlja3kiOiB0cnVlfQogICAgICAgICAgICApOwogICAgICAgIAogICAgCiAgICAgICAgICAgIHZhciBjaXJjbGVfNjExMmZlZjZiOGRhNDQxYWE3ZjhlOGJiMjJkMTQ5NjAgPSBMLmNpcmNsZSgKICAgICAgICAgICAgICAgIFs1NS4xNjk0LCAyMy44ODEzXSwKICAgICAgICAgICAgICAgIHsiYnViYmxpbmdNb3VzZUV2ZW50cyI6IHRydWUsICJjb2xvciI6ICJyZWQiLCAiZGFzaEFycmF5IjogbnVsbCwgImRhc2hPZmZzZXQiOiBudWxsLCAiZmlsbCI6IHRydWUsICJmaWxsQ29sb3IiOiAiaW5kaWdvIiwgImZpbGxPcGFjaXR5IjogMC4yLCAiZmlsbFJ1bGUiOiAiZXZlbm9kZCIsICJsaW5lQ2FwIjogInJvdW5kIiwgImxpbmVKb2luIjogInJvdW5kIiwgIm9wYWNpdHkiOiAxLjAsICJyYWRpdXMiOiAzNjAwMDAuMCwgInN0cm9rZSI6IHRydWUsICJ3ZWlnaHQiOiAzfQogICAgICAgICAgICApLmFkZFRvKG1hcF9mZmYxODU3NTk0YmY0YTNhODI3OGYxMjUzNmNjZDYzNyk7CiAgICAgICAgCiAgICAKICAgICAgICAgICAgY2lyY2xlXzYxMTJmZWY2YjhkYTQ0MWFhN2Y4ZThiYjIyZDE0OTYwLmJpbmRUb29sdGlwKAogICAgICAgICAgICAgICAgYDxkaXY+CiAgICAgICAgICAgICAgICAgICAgIDxkaXYgc3R5bGU9J21hcmdpbjogMDsgYmFja2dyb3VuZC1jb2xvcjogYmxhY2s7IGNvbG9yOiB3aGl0ZTsnPjxoNCBzdHlsZT0ndGV4dC1hbGlnbjpjZW50ZXI7Zm9udC13ZWlnaHQ6IGJvbGQnPkxpdGh1YW5pYTwvaDQ+PGhyIHN0eWxlPSdtYXJnaW46MTBweDtjb2xvcjogd2hpdGU7Jz48dWwgc3R5bGU9J2NvbG9yOiB3aGl0ZTs7bGlzdC1zdHlsZS10eXBlOmNpcmNsZTthbGlnbi1pdGVtOmxlZnQ7cGFkZGluZy1sZWZ0OjIwcHg7cGFkZGluZy1yaWdodDoyMHB4Jz48bGk+Q29uZmlybWVkOiAxMzk5PC9saT48bGk+RGVhdGhzOiAgIDQ1PC9saT48bGk+RGVhdGggUmF0ZTogMy4yMTwvbGk+PC91bD48L2Rpdj4KICAgICAgICAgICAgICAgICA8L2Rpdj5gLAogICAgICAgICAgICAgICAgeyJzdGlja3kiOiB0cnVlfQogICAgICAgICAgICApOwogICAgICAgIAogICAgCiAgICAgICAgICAgIHZhciBjaXJjbGVfODJmOTZmZjc4ZDdmNDFhM2JkZjRmYTY2NzY2YjFjMWMgPSBMLmNpcmNsZSgKICAgICAgICAgICAgICAgIFs0OS44MTUzLCA2LjEyOTZdLAogICAgICAgICAgICAgICAgeyJidWJibGluZ01vdXNlRXZlbnRzIjogdHJ1ZSwgImNvbG9yIjogInJlZCIsICJkYXNoQXJyYXkiOiBudWxsLCAiZGFzaE9mZnNldCI6IG51bGwsICJmaWxsIjogdHJ1ZSwgImZpbGxDb2xvciI6ICJpbmRpZ28iLCAiZmlsbE9wYWNpdHkiOiAwLjIsICJmaWxsUnVsZSI6ICJldmVub2RkIiwgImxpbmVDYXAiOiAicm91bmQiLCAibGluZUpvaW4iOiAicm91bmQiLCAib3BhY2l0eSI6IDEuMCwgInJhZGl1cyI6IDQwOTk5OS45OTk5OTk5OTk5NCwgInN0cm9rZSI6IHRydWUsICJ3ZWlnaHQiOiAzfQogICAgICAgICAgICApLmFkZFRvKG1hcF9mZmYxODU3NTk0YmY0YTNhODI3OGYxMjUzNmNjZDYzNyk7CiAgICAgICAgCiAgICAKICAgICAgICAgICAgY2lyY2xlXzgyZjk2ZmY3OGQ3ZjQxYTNiZGY0ZmE2Njc2NmIxYzFjLmJpbmRUb29sdGlwKAogICAgICAgICAgICAgICAgYDxkaXY+CiAgICAgICAgICAgICAgICAgICAgIDxkaXYgc3R5bGU9J21hcmdpbjogMDsgYmFja2dyb3VuZC1jb2xvcjogYmxhY2s7IGNvbG9yOiB3aGl0ZTsnPjxoNCBzdHlsZT0ndGV4dC1hbGlnbjpjZW50ZXI7Zm9udC13ZWlnaHQ6IGJvbGQnPkx1eGVtYm91cmc8L2g0PjxociBzdHlsZT0nbWFyZ2luOjEwcHg7Y29sb3I6IHdoaXRlOyc+PHVsIHN0eWxlPSdjb2xvcjogd2hpdGU7O2xpc3Qtc3R5bGUtdHlwZTpjaXJjbGU7YWxpZ24taXRlbTpsZWZ0O3BhZGRpbmctbGVmdDoyMHB4O3BhZGRpbmctcmlnaHQ6MjBweCc+PGxpPkNvbmZpcm1lZDogMzgwMjwvbGk+PGxpPkRlYXRoczogICA5MjwvbGk+PGxpPkRlYXRoIFJhdGU6IDIuNDI8L2xpPjwvdWw+PC9kaXY+CiAgICAgICAgICAgICAgICAgPC9kaXY+YCwKICAgICAgICAgICAgICAgIHsic3RpY2t5IjogdHJ1ZX0KICAgICAgICAgICAgKTsKICAgICAgICAKICAgIAogICAgICAgICAgICB2YXIgY2lyY2xlXzI4MmMzMDc1ZTBkZjRkMzliNTI1YmUwNzQ5YTIwMjM2ID0gTC5jaXJjbGUoCiAgICAgICAgICAgICAgICBbLTE4Ljc2NjksIDQ2Ljg2OTFdLAogICAgICAgICAgICAgICAgeyJidWJibGluZ01vdXNlRXZlbnRzIjogdHJ1ZSwgImNvbG9yIjogInJlZCIsICJkYXNoQXJyYXkiOiBudWxsLCAiZGFzaE9mZnNldCI6IG51bGwsICJmaWxsIjogdHJ1ZSwgImZpbGxDb2xvciI6ICJpbmRpZ28iLCAiZmlsbE9wYWNpdHkiOiAwLjIsICJmaWxsUnVsZSI6ICJldmVub2RkIiwgImxpbmVDYXAiOiAicm91bmQiLCAibGluZUpvaW4iOiAicm91bmQiLCAib3BhY2l0eSI6IDEuMCwgInJhZGl1cyI6IDIxMDAwMC4wLCAic3Ryb2tlIjogdHJ1ZSwgIndlaWdodCI6IDN9CiAgICAgICAgICAgICkuYWRkVG8obWFwX2ZmZjE4NTc1OTRiZjRhM2E4Mjc4ZjEyNTM2Y2NkNjM3KTsKICAgICAgICAKICAgIAogICAgICAgICAgICBjaXJjbGVfMjgyYzMwNzVlMGRmNGQzOWI1MjViZTA3NDlhMjAyMzYuYmluZFRvb2x0aXAoCiAgICAgICAgICAgICAgICBgPGRpdj4KICAgICAgICAgICAgICAgICAgICAgPGRpdiBzdHlsZT0nbWFyZ2luOiAwOyBiYWNrZ3JvdW5kLWNvbG9yOiBibGFjazsgY29sb3I6IHdoaXRlOyc+PGg0IHN0eWxlPSd0ZXh0LWFsaWduOmNlbnRlcjtmb250LXdlaWdodDogYm9sZCc+TWFkYWdhc2NhcjwvaDQ+PGhyIHN0eWxlPSdtYXJnaW46MTBweDtjb2xvcjogd2hpdGU7Jz48dWwgc3R5bGU9J2NvbG9yOiB3aGl0ZTs7bGlzdC1zdHlsZS10eXBlOmNpcmNsZTthbGlnbi1pdGVtOmxlZnQ7cGFkZGluZy1sZWZ0OjIwcHg7cGFkZGluZy1yaWdodDoyMHB4Jz48bGk+Q29uZmlybWVkOiAxMzI8L2xpPjxsaT5EZWF0aHM6ICAgMDwvbGk+PGxpPkRlYXRoIFJhdGU6IDAuMDwvbGk+PC91bD48L2Rpdj4KICAgICAgICAgICAgICAgICA8L2Rpdj5gLAogICAgICAgICAgICAgICAgeyJzdGlja3kiOiB0cnVlfQogICAgICAgICAgICApOwogICAgICAgIAogICAgCiAgICAgICAgICAgIHZhciBjaXJjbGVfYTBiNGJiOGM3NmI0NDA2OWI4NGRmMDBkYzY0NzQ5ODggPSBMLmNpcmNsZSgKICAgICAgICAgICAgICAgIFsyLjUsIDExMi41XSwKICAgICAgICAgICAgICAgIHsiYnViYmxpbmdNb3VzZUV2ZW50cyI6IHRydWUsICJjb2xvciI6ICJyZWQiLCAiZGFzaEFycmF5IjogbnVsbCwgImRhc2hPZmZzZXQiOiBudWxsLCAiZmlsbCI6IHRydWUsICJmaWxsQ29sb3IiOiAiaW5kaWdvIiwgImZpbGxPcGFjaXR5IjogMC4yLCAiZmlsbFJ1bGUiOiAiZXZlbm9kZCIsICJsaW5lQ2FwIjogInJvdW5kIiwgImxpbmVKb2luIjogInJvdW5kIiwgIm9wYWNpdHkiOiAxLjAsICJyYWRpdXMiOiA0MDk5OTkuOTk5OTk5OTk5OTQsICJzdHJva2UiOiB0cnVlLCAid2VpZ2h0IjogM30KICAgICAgICAgICAgKS5hZGRUbyhtYXBfZmZmMTg1NzU5NGJmNGEzYTgyNzhmMTI1MzZjY2Q2MzcpOwogICAgICAgIAogICAgCiAgICAgICAgICAgIGNpcmNsZV9hMGI0YmI4Yzc2YjQ0MDY5Yjg0ZGYwMGRjNjQ3NDk4OC5iaW5kVG9vbHRpcCgKICAgICAgICAgICAgICAgIGA8ZGl2PgogICAgICAgICAgICAgICAgICAgICA8ZGl2IHN0eWxlPSdtYXJnaW46IDA7IGJhY2tncm91bmQtY29sb3I6IGJsYWNrOyBjb2xvcjogd2hpdGU7Jz48aDQgc3R5bGU9J3RleHQtYWxpZ246Y2VudGVyO2ZvbnQtd2VpZ2h0OiBib2xkJz5NYWxheXNpYTwvaDQ+PGhyIHN0eWxlPSdtYXJnaW46MTBweDtjb2xvcjogd2hpdGU7Jz48dWwgc3R5bGU9J2NvbG9yOiB3aGl0ZTs7bGlzdC1zdHlsZS10eXBlOmNpcmNsZTthbGlnbi1pdGVtOmxlZnQ7cGFkZGluZy1sZWZ0OjIwcHg7cGFkZGluZy1yaWdodDoyMHB4Jz48bGk+Q29uZmlybWVkOiA2MDcxPC9saT48bGk+RGVhdGhzOiAgIDEwMzwvbGk+PGxpPkRlYXRoIFJhdGU6IDEuNzwvbGk+PC91bD48L2Rpdj4KICAgICAgICAgICAgICAgICA8L2Rpdj5gLAogICAgICAgICAgICAgICAgeyJzdGlja3kiOiB0cnVlfQogICAgICAgICAgICApOwogICAgICAgIAogICAgCiAgICAgICAgICAgIHZhciBjaXJjbGVfN2Q0YTIyOTIxZTU4NGM3OWI1YWNjZTIwMzM2NzU5MzIgPSBMLmNpcmNsZSgKICAgICAgICAgICAgICAgIFszLjIwMjgsIDczLjIyMDddLAogICAgICAgICAgICAgICAgeyJidWJibGluZ01vdXNlRXZlbnRzIjogdHJ1ZSwgImNvbG9yIjogInJlZCIsICJkYXNoQXJyYXkiOiBudWxsLCAiZGFzaE9mZnNldCI6IG51bGwsICJmaWxsIjogdHJ1ZSwgImZpbGxDb2xvciI6ICJpbmRpZ28iLCAiZmlsbE9wYWNpdHkiOiAwLjIsICJmaWxsUnVsZSI6ICJldmVub2RkIiwgImxpbmVDYXAiOiAicm91bmQiLCAibGluZUpvaW4iOiAicm91bmQiLCAib3BhY2l0eSI6IDEuMCwgInJhZGl1cyI6IDMxMDAwMC4wLCAic3Ryb2tlIjogdHJ1ZSwgIndlaWdodCI6IDN9CiAgICAgICAgICAgICkuYWRkVG8obWFwX2ZmZjE4NTc1OTRiZjRhM2E4Mjc4ZjEyNTM2Y2NkNjM3KTsKICAgICAgICAKICAgIAogICAgICAgICAgICBjaXJjbGVfN2Q0YTIyOTIxZTU4NGM3OWI1YWNjZTIwMzM2NzU5MzIuYmluZFRvb2x0aXAoCiAgICAgICAgICAgICAgICBgPGRpdj4KICAgICAgICAgICAgICAgICAgICAgPGRpdiBzdHlsZT0nbWFyZ2luOiAwOyBiYWNrZ3JvdW5kLWNvbG9yOiBibGFjazsgY29sb3I6IHdoaXRlOyc+PGg0IHN0eWxlPSd0ZXh0LWFsaWduOmNlbnRlcjtmb250LXdlaWdodDogYm9sZCc+TWFsZGl2ZXM8L2g0PjxociBzdHlsZT0nbWFyZ2luOjEwcHg7Y29sb3I6IHdoaXRlOyc+PHVsIHN0eWxlPSdjb2xvcjogd2hpdGU7O2xpc3Qtc3R5bGUtdHlwZTpjaXJjbGU7YWxpZ24taXRlbTpsZWZ0O3BhZGRpbmctbGVmdDoyMHB4O3BhZGRpbmctcmlnaHQ6MjBweCc+PGxpPkNvbmZpcm1lZDogNDkxPC9saT48bGk+RGVhdGhzOiAgIDE8L2xpPjxsaT5EZWF0aCBSYXRlOiAwLjI8L2xpPjwvdWw+PC9kaXY+CiAgICAgICAgICAgICAgICAgPC9kaXY+YCwKICAgICAgICAgICAgICAgIHsic3RpY2t5IjogdHJ1ZX0KICAgICAgICAgICAgKTsKICAgICAgICAKICAgIAogICAgICAgICAgICB2YXIgY2lyY2xlXzIzOGJiODJlZDQ2MzQ0NmI4ZTE5OWExMjcyMDc5M2VhID0gTC5jaXJjbGUoCiAgICAgICAgICAgICAgICBbMzUuOTM3NSwgMTQuMzc1NF0sCiAgICAgICAgICAgICAgICB7ImJ1YmJsaW5nTW91c2VFdmVudHMiOiB0cnVlLCAiY29sb3IiOiAicmVkIiwgImRhc2hBcnJheSI6IG51bGwsICJkYXNoT2Zmc2V0IjogbnVsbCwgImZpbGwiOiB0cnVlLCAiZmlsbENvbG9yIjogImluZGlnbyIsICJmaWxsT3BhY2l0eSI6IDAuMiwgImZpbGxSdWxlIjogImV2ZW5vZGQiLCAibGluZUNhcCI6ICJyb3VuZCIsICJsaW5lSm9pbiI6ICJyb3VuZCIsICJvcGFjaXR5IjogMS4wLCAicmFkaXVzIjogMzEwMDAwLjAsICJzdHJva2UiOiB0cnVlLCAid2VpZ2h0IjogM30KICAgICAgICAgICAgKS5hZGRUbyhtYXBfZmZmMTg1NzU5NGJmNGEzYTgyNzhmMTI1MzZjY2Q2MzcpOwogICAgICAgIAogICAgCiAgICAgICAgICAgIGNpcmNsZV8yMzhiYjgyZWQ0NjM0NDZiOGUxOTlhMTI3MjA3OTNlYS5iaW5kVG9vbHRpcCgKICAgICAgICAgICAgICAgIGA8ZGl2PgogICAgICAgICAgICAgICAgICAgICA8ZGl2IHN0eWxlPSdtYXJnaW46IDA7IGJhY2tncm91bmQtY29sb3I6IGJsYWNrOyBjb2xvcjogd2hpdGU7Jz48aDQgc3R5bGU9J3RleHQtYWxpZ246Y2VudGVyO2ZvbnQtd2VpZ2h0OiBib2xkJz5NYWx0YTwvaDQ+PGhyIHN0eWxlPSdtYXJnaW46MTBweDtjb2xvcjogd2hpdGU7Jz48dWwgc3R5bGU9J2NvbG9yOiB3aGl0ZTs7bGlzdC1zdHlsZS10eXBlOmNpcmNsZTthbGlnbi1pdGVtOmxlZnQ7cGFkZGluZy1sZWZ0OjIwcHg7cGFkZGluZy1yaWdodDoyMHB4Jz48bGk+Q29uZmlybWVkOiA0Njc8L2xpPjxsaT5EZWF0aHM6ICAgNDwvbGk+PGxpPkRlYXRoIFJhdGU6IDAuODU8L2xpPjwvdWw+PC9kaXY+CiAgICAgICAgICAgICAgICAgPC9kaXY+YCwKICAgICAgICAgICAgICAgIHsic3RpY2t5IjogdHJ1ZX0KICAgICAgICAgICAgKTsKICAgICAgICAKICAgIAogICAgICAgICAgICB2YXIgY2lyY2xlXzFkMmQ0ZjMwZTM3ZTQwNWVhZDZhYjc4MTkxMTFiNWFkID0gTC5jaXJjbGUoCiAgICAgICAgICAgICAgICBbMjEuMDA3OSwgMTAuOTQwOF0sCiAgICAgICAgICAgICAgICB7ImJ1YmJsaW5nTW91c2VFdmVudHMiOiB0cnVlLCAiY29sb3IiOiAicmVkIiwgImRhc2hBcnJheSI6IG51bGwsICJkYXNoT2Zmc2V0IjogbnVsbCwgImZpbGwiOiB0cnVlLCAiZmlsbENvbG9yIjogImluZGlnbyIsICJmaWxsT3BhY2l0eSI6IDAuMiwgImZpbGxSdWxlIjogImV2ZW5vZGQiLCAibGluZUNhcCI6ICJyb3VuZCIsICJsaW5lSm9pbiI6ICJyb3VuZCIsICJvcGFjaXR5IjogMS4wLCAicmFkaXVzIjogMTEwMDAwLjAwMDAwMDAwMDAxLCAic3Ryb2tlIjogdHJ1ZSwgIndlaWdodCI6IDN9CiAgICAgICAgICAgICkuYWRkVG8obWFwX2ZmZjE4NTc1OTRiZjRhM2E4Mjc4ZjEyNTM2Y2NkNjM3KTsKICAgICAgICAKICAgIAogICAgICAgICAgICBjaXJjbGVfMWQyZDRmMzBlMzdlNDA1ZWFkNmFiNzgxOTExMWI1YWQuYmluZFRvb2x0aXAoCiAgICAgICAgICAgICAgICBgPGRpdj4KICAgICAgICAgICAgICAgICAgICAgPGRpdiBzdHlsZT0nbWFyZ2luOiAwOyBiYWNrZ3JvdW5kLWNvbG9yOiBibGFjazsgY29sb3I6IHdoaXRlOyc+PGg0IHN0eWxlPSd0ZXh0LWFsaWduOmNlbnRlcjtmb250LXdlaWdodDogYm9sZCc+TWF1cml0YW5pYTwvaDQ+PGhyIHN0eWxlPSdtYXJnaW46MTBweDtjb2xvcjogd2hpdGU7Jz48dWwgc3R5bGU9J2NvbG9yOiB3aGl0ZTs7bGlzdC1zdHlsZS10eXBlOmNpcmNsZTthbGlnbi1pdGVtOmxlZnQ7cGFkZGluZy1sZWZ0OjIwcHg7cGFkZGluZy1yaWdodDoyMHB4Jz48bGk+Q29uZmlybWVkOiA4PC9saT48bGk+RGVhdGhzOiAgIDE8L2xpPjxsaT5EZWF0aCBSYXRlOiAxMS4xMTwvbGk+PC91bD48L2Rpdj4KICAgICAgICAgICAgICAgICA8L2Rpdj5gLAogICAgICAgICAgICAgICAgeyJzdGlja3kiOiB0cnVlfQogICAgICAgICAgICApOwogICAgICAgIAogICAgCiAgICAgICAgICAgIHZhciBjaXJjbGVfMDFiOTNiM2QzMzc1NDlhM2JiNTgwN2I0M2M5NDNkMGEgPSBMLmNpcmNsZSgKICAgICAgICAgICAgICAgIFstMjAuMiwgNTcuNV0sCiAgICAgICAgICAgICAgICB7ImJ1YmJsaW5nTW91c2VFdmVudHMiOiB0cnVlLCAiY29sb3IiOiAicmVkIiwgImRhc2hBcnJheSI6IG51bGwsICJkYXNoT2Zmc2V0IjogbnVsbCwgImZpbGwiOiB0cnVlLCAiZmlsbENvbG9yIjogImluZGlnbyIsICJmaWxsT3BhY2l0eSI6IDAuMiwgImZpbGxSdWxlIjogImV2ZW5vZGQiLCAibGluZUNhcCI6ICJyb3VuZCIsICJsaW5lSm9pbiI6ICJyb3VuZCIsICJvcGFjaXR5IjogMS4wLCAicmFkaXVzIjogMjYwMDAwLjAsICJzdHJva2UiOiB0cnVlLCAid2VpZ2h0IjogM30KICAgICAgICAgICAgKS5hZGRUbyhtYXBfZmZmMTg1NzU5NGJmNGEzYTgyNzhmMTI1MzZjY2Q2MzcpOwogICAgICAgIAogICAgCiAgICAgICAgICAgIGNpcmNsZV8wMWI5M2IzZDMzNzU0OWEzYmI1ODA3YjQzYzk0M2QwYS5iaW5kVG9vbHRpcCgKICAgICAgICAgICAgICAgIGA8ZGl2PgogICAgICAgICAgICAgICAgICAgICA8ZGl2IHN0eWxlPSdtYXJnaW46IDA7IGJhY2tncm91bmQtY29sb3I6IGJsYWNrOyBjb2xvcjogd2hpdGU7Jz48aDQgc3R5bGU9J3RleHQtYWxpZ246Y2VudGVyO2ZvbnQtd2VpZ2h0OiBib2xkJz5NYXVyaXRpdXM8L2g0PjxociBzdHlsZT0nbWFyZ2luOjEwcHg7Y29sb3I6IHdoaXRlOyc+PHVsIHN0eWxlPSdjb2xvcjogd2hpdGU7O2xpc3Qtc3R5bGUtdHlwZTpjaXJjbGU7YWxpZ24taXRlbTpsZWZ0O3BhZGRpbmctbGVmdDoyMHB4O3BhZGRpbmctcmlnaHQ6MjBweCc+PGxpPkNvbmZpcm1lZDogMzMyPC9saT48bGk+RGVhdGhzOiAgIDEwPC9saT48bGk+RGVhdGggUmF0ZTogMy4wPC9saT48L3VsPjwvZGl2PgogICAgICAgICAgICAgICAgIDwvZGl2PmAsCiAgICAgICAgICAgICAgICB7InN0aWNreSI6IHRydWV9CiAgICAgICAgICAgICk7CiAgICAgICAgCiAgICAKICAgICAgICAgICAgdmFyIGNpcmNsZV8wNDI0MjQxMTRhYjA0NTVkYWIyZDVlZDdjZmNiMDNlNiA9IEwuY2lyY2xlKAogICAgICAgICAgICAgICAgWzIzLjYzNDUsIC0xMDIuNTUyOF0sCiAgICAgICAgICAgICAgICB7ImJ1YmJsaW5nTW91c2VFdmVudHMiOiB0cnVlLCAiY29sb3IiOiAicmVkIiwgImRhc2hBcnJheSI6IG51bGwsICJkYXNoT2Zmc2V0IjogbnVsbCwgImZpbGwiOiB0cnVlLCAiZmlsbENvbG9yIjogImluZGlnbyIsICJmaWxsT3BhY2l0eSI6IDAuMiwgImZpbGxSdWxlIjogImV2ZW5vZGQiLCAibGluZUNhcCI6ICJyb3VuZCIsICJsaW5lSm9pbiI6ICJyb3VuZCIsICJvcGFjaXR5IjogMS4wLCAicmFkaXVzIjogNDU5OTk5Ljk5OTk5OTk5OTk0LCAic3Ryb2tlIjogdHJ1ZSwgIndlaWdodCI6IDN9CiAgICAgICAgICAgICkuYWRkVG8obWFwX2ZmZjE4NTc1OTRiZjRhM2E4Mjc4ZjEyNTM2Y2NkNjM3KTsKICAgICAgICAKICAgIAogICAgICAgICAgICBjaXJjbGVfMDQyNDI0MTE0YWIwNDU1ZGFiMmQ1ZWQ3Y2ZjYjAzZTYuYmluZFRvb2x0aXAoCiAgICAgICAgICAgICAgICBgPGRpdj4KICAgICAgICAgICAgICAgICAgICAgPGRpdiBzdHlsZT0nbWFyZ2luOiAwOyBiYWNrZ3JvdW5kLWNvbG9yOiBibGFjazsgY29sb3I6IHdoaXRlOyc+PGg0IHN0eWxlPSd0ZXh0LWFsaWduOmNlbnRlcjtmb250LXdlaWdodDogYm9sZCc+TWV4aWNvPC9oND48aHIgc3R5bGU9J21hcmdpbjoxMHB4O2NvbG9yOiB3aGl0ZTsnPjx1bCBzdHlsZT0nY29sb3I6IHdoaXRlOztsaXN0LXN0eWxlLXR5cGU6Y2lyY2xlO2FsaWduLWl0ZW06bGVmdDtwYWRkaW5nLWxlZnQ6MjBweDtwYWRkaW5nLXJpZ2h0OjIwcHgnPjxsaT5Db25maXJtZWQ6IDIwNzM5PC9saT48bGk+RGVhdGhzOiAgIDE5NzI8L2xpPjxsaT5EZWF0aCBSYXRlOiA5LjUxPC9saT48L3VsPjwvZGl2PgogICAgICAgICAgICAgICAgIDwvZGl2PmAsCiAgICAgICAgICAgICAgICB7InN0aWNreSI6IHRydWV9CiAgICAgICAgICAgICk7CiAgICAgICAgCiAgICAKICAgICAgICAgICAgdmFyIGNpcmNsZV8zZWIwNTQ3YmYwZjE0MDUwYWQ1ZWQyYWFmY2JmYzI3MSA9IEwuY2lyY2xlKAogICAgICAgICAgICAgICAgWzQ3LjQxMTYsIDI4LjM2OTldLAogICAgICAgICAgICAgICAgeyJidWJibGluZ01vdXNlRXZlbnRzIjogdHJ1ZSwgImNvbG9yIjogInJlZCIsICJkYXNoQXJyYXkiOiBudWxsLCAiZGFzaE9mZnNldCI6IG51bGwsICJmaWxsIjogdHJ1ZSwgImZpbGxDb2xvciI6ICJpbmRpZ28iLCAiZmlsbE9wYWNpdHkiOiAwLjIsICJmaWxsUnVsZSI6ICJldmVub2RkIiwgImxpbmVDYXAiOiAicm91bmQiLCAibGluZUpvaW4iOiAicm91bmQiLCAib3BhY2l0eSI6IDEuMCwgInJhZGl1cyI6IDQwOTk5OS45OTk5OTk5OTk5NCwgInN0cm9rZSI6IHRydWUsICJ3ZWlnaHQiOiAzfQogICAgICAgICAgICApLmFkZFRvKG1hcF9mZmYxODU3NTk0YmY0YTNhODI3OGYxMjUzNmNjZDYzNyk7CiAgICAgICAgCiAgICAKICAgICAgICAgICAgY2lyY2xlXzNlYjA1NDdiZjBmMTQwNTBhZDVlZDJhYWZjYmZjMjcxLmJpbmRUb29sdGlwKAogICAgICAgICAgICAgICAgYDxkaXY+CiAgICAgICAgICAgICAgICAgICAgIDxkaXYgc3R5bGU9J21hcmdpbjogMDsgYmFja2dyb3VuZC1jb2xvcjogYmxhY2s7IGNvbG9yOiB3aGl0ZTsnPjxoNCBzdHlsZT0ndGV4dC1hbGlnbjpjZW50ZXI7Zm9udC13ZWlnaHQ6IGJvbGQnPk1vbGRvdmE8L2g0PjxociBzdHlsZT0nbWFyZ2luOjEwcHg7Y29sb3I6IHdoaXRlOyc+PHVsIHN0eWxlPSdjb2xvcjogd2hpdGU7O2xpc3Qtc3R5bGUtdHlwZTpjaXJjbGU7YWxpZ24taXRlbTpsZWZ0O3BhZGRpbmctbGVmdDoyMHB4O3BhZGRpbmctcmlnaHQ6MjBweCc+PGxpPkNvbmZpcm1lZDogMzk4MDwvbGk+PGxpPkRlYXRoczogICAxMjI8L2xpPjxsaT5EZWF0aCBSYXRlOiAzLjA2PC9saT48L3VsPjwvZGl2PgogICAgICAgICAgICAgICAgIDwvZGl2PmAsCiAgICAgICAgICAgICAgICB7InN0aWNreSI6IHRydWV9CiAgICAgICAgICAgICk7CiAgICAgICAgCiAgICAKICAgICAgICAgICAgdmFyIGNpcmNsZV84MjQxMzE4NDExYmQ0MWU2YjdlNDM0ZDk3ZjU2NmQ0NiA9IEwuY2lyY2xlKAogICAgICAgICAgICAgICAgWzQzLjczMzMsIDcuNDE2N10sCiAgICAgICAgICAgICAgICB7ImJ1YmJsaW5nTW91c2VFdmVudHMiOiB0cnVlLCAiY29sb3IiOiAicmVkIiwgImRhc2hBcnJheSI6IG51bGwsICJkYXNoT2Zmc2V0IjogbnVsbCwgImZpbGwiOiB0cnVlLCAiZmlsbENvbG9yIjogImluZGlnbyIsICJmaWxsT3BhY2l0eSI6IDAuMiwgImZpbGxSdWxlIjogImV2ZW5vZGQiLCAibGluZUNhcCI6ICJyb3VuZCIsICJsaW5lSm9pbiI6ICJyb3VuZCIsICJvcGFjaXR5IjogMS4wLCAicmFkaXVzIjogMjEwMDAwLjAsICJzdHJva2UiOiB0cnVlLCAid2VpZ2h0IjogM30KICAgICAgICAgICAgKS5hZGRUbyhtYXBfZmZmMTg1NzU5NGJmNGEzYTgyNzhmMTI1MzZjY2Q2MzcpOwogICAgICAgIAogICAgCiAgICAgICAgICAgIGNpcmNsZV84MjQxMzE4NDExYmQ0MWU2YjdlNDM0ZDk3ZjU2NmQ0Ni5iaW5kVG9vbHRpcCgKICAgICAgICAgICAgICAgIGA8ZGl2PgogICAgICAgICAgICAgICAgICAgICA8ZGl2IHN0eWxlPSdtYXJnaW46IDA7IGJhY2tncm91bmQtY29sb3I6IGJsYWNrOyBjb2xvcjogd2hpdGU7Jz48aDQgc3R5bGU9J3RleHQtYWxpZ246Y2VudGVyO2ZvbnQtd2VpZ2h0OiBib2xkJz5Nb25hY288L2g0PjxociBzdHlsZT0nbWFyZ2luOjEwcHg7Y29sb3I6IHdoaXRlOyc+PHVsIHN0eWxlPSdjb2xvcjogd2hpdGU7O2xpc3Qtc3R5bGUtdHlwZTpjaXJjbGU7YWxpZ24taXRlbTpsZWZ0O3BhZGRpbmctbGVmdDoyMHB4O3BhZGRpbmctcmlnaHQ6MjBweCc+PGxpPkNvbmZpcm1lZDogOTU8L2xpPjxsaT5EZWF0aHM6ICAgNDwvbGk+PGxpPkRlYXRoIFJhdGU6IDQuMTc8L2xpPjwvdWw+PC9kaXY+CiAgICAgICAgICAgICAgICAgPC9kaXY+YCwKICAgICAgICAgICAgICAgIHsic3RpY2t5IjogdHJ1ZX0KICAgICAgICAgICAgKTsKICAgICAgICAKICAgIAogICAgICAgICAgICB2YXIgY2lyY2xlX2Q2Zjg1YzE1OWFjZjQ0NmE5MjdiMzkzNGQ5NDljOGRiID0gTC5jaXJjbGUoCiAgICAgICAgICAgICAgICBbNDYuODYyNSwgMTAzLjg0NjddLAogICAgICAgICAgICAgICAgeyJidWJibGluZ01vdXNlRXZlbnRzIjogdHJ1ZSwgImNvbG9yIjogInJlZCIsICJkYXNoQXJyYXkiOiBudWxsLCAiZGFzaE9mZnNldCI6IG51bGwsICJmaWxsIjogdHJ1ZSwgImZpbGxDb2xvciI6ICJpbmRpZ28iLCAiZmlsbE9wYWNpdHkiOiAwLjIsICJmaWxsUnVsZSI6ICJldmVub2RkIiwgImxpbmVDYXAiOiAicm91bmQiLCAibGluZUpvaW4iOiAicm91bmQiLCAib3BhY2l0eSI6IDEuMCwgInJhZGl1cyI6IDE2MDAwMC4wLCAic3Ryb2tlIjogdHJ1ZSwgIndlaWdodCI6IDN9CiAgICAgICAgICAgICkuYWRkVG8obWFwX2ZmZjE4NTc1OTRiZjRhM2E4Mjc4ZjEyNTM2Y2NkNjM3KTsKICAgICAgICAKICAgIAogICAgICAgICAgICBjaXJjbGVfZDZmODVjMTU5YWNmNDQ2YTkyN2IzOTM0ZDk0OWM4ZGIuYmluZFRvb2x0aXAoCiAgICAgICAgICAgICAgICBgPGRpdj4KICAgICAgICAgICAgICAgICAgICAgPGRpdiBzdHlsZT0nbWFyZ2luOiAwOyBiYWNrZ3JvdW5kLWNvbG9yOiBibGFjazsgY29sb3I6IHdoaXRlOyc+PGg0IHN0eWxlPSd0ZXh0LWFsaWduOmNlbnRlcjtmb250LXdlaWdodDogYm9sZCc+TW9uZ29saWE8L2g0PjxociBzdHlsZT0nbWFyZ2luOjEwcHg7Y29sb3I6IHdoaXRlOyc+PHVsIHN0eWxlPSdjb2xvcjogd2hpdGU7O2xpc3Qtc3R5bGUtdHlwZTpjaXJjbGU7YWxpZ24taXRlbTpsZWZ0O3BhZGRpbmctbGVmdDoyMHB4O3BhZGRpbmctcmlnaHQ6MjBweCc+PGxpPkNvbmZpcm1lZDogMzg8L2xpPjxsaT5EZWF0aHM6ICAgMDwvbGk+PGxpPkRlYXRoIFJhdGU6IDAuMDwvbGk+PC91bD48L2Rpdj4KICAgICAgICAgICAgICAgICA8L2Rpdj5gLAogICAgICAgICAgICAgICAgeyJzdGlja3kiOiB0cnVlfQogICAgICAgICAgICApOwogICAgICAgIAogICAgCiAgICAgICAgICAgIHZhciBjaXJjbGVfNzczZWRmMWZiMGNjNGEzYjg1OGM2ODRiMmY0ODZlOWYgPSBMLmNpcmNsZSgKICAgICAgICAgICAgICAgIFs0Mi41LCAxOS4zXSwKICAgICAgICAgICAgICAgIHsiYnViYmxpbmdNb3VzZUV2ZW50cyI6IHRydWUsICJjb2xvciI6ICJyZWQiLCAiZGFzaEFycmF5IjogbnVsbCwgImRhc2hPZmZzZXQiOiBudWxsLCAiZmlsbCI6IHRydWUsICJmaWxsQ29sb3IiOiAiaW5kaWdvIiwgImZpbGxPcGFjaXR5IjogMC4yLCAiZmlsbFJ1bGUiOiAiZXZlbm9kZCIsICJsaW5lQ2FwIjogInJvdW5kIiwgImxpbmVKb2luIjogInJvdW5kIiwgIm9wYWNpdHkiOiAxLjAsICJyYWRpdXMiOiAyNjAwMDAuMCwgInN0cm9rZSI6IHRydWUsICJ3ZWlnaHQiOiAzfQogICAgICAgICAgICApLmFkZFRvKG1hcF9mZmYxODU3NTk0YmY0YTNhODI3OGYxMjUzNmNjZDYzNyk7CiAgICAgICAgCiAgICAKICAgICAgICAgICAgY2lyY2xlXzc3M2VkZjFmYjBjYzRhM2I4NThjNjg0YjJmNDg2ZTlmLmJpbmRUb29sdGlwKAogICAgICAgICAgICAgICAgYDxkaXY+CiAgICAgICAgICAgICAgICAgICAgIDxkaXYgc3R5bGU9J21hcmdpbjogMDsgYmFja2dyb3VuZC1jb2xvcjogYmxhY2s7IGNvbG9yOiB3aGl0ZTsnPjxoNCBzdHlsZT0ndGV4dC1hbGlnbjpjZW50ZXI7Zm9udC13ZWlnaHQ6IGJvbGQnPk1vbnRlbmVncm88L2g0PjxociBzdHlsZT0nbWFyZ2luOjEwcHg7Y29sb3I6IHdoaXRlOyc+PHVsIHN0eWxlPSdjb2xvcjogd2hpdGU7O2xpc3Qtc3R5bGUtdHlwZTpjaXJjbGU7YWxpZ24taXRlbTpsZWZ0O3BhZGRpbmctbGVmdDoyMHB4O3BhZGRpbmctcmlnaHQ6MjBweCc+PGxpPkNvbmZpcm1lZDogMzIyPC9saT48bGk+RGVhdGhzOiAgIDc8L2xpPjxsaT5EZWF0aCBSYXRlOiAyLjE3PC9saT48L3VsPjwvZGl2PgogICAgICAgICAgICAgICAgIDwvZGl2PmAsCiAgICAgICAgICAgICAgICB7InN0aWNreSI6IHRydWV9CiAgICAgICAgICAgICk7CiAgICAgICAgCiAgICAKICAgICAgICAgICAgdmFyIGNpcmNsZV8yZjhiNzI4ZDdhMzI0NmYwYTMxZjM3OTQwYzYxYzM4OCA9IEwuY2lyY2xlKAogICAgICAgICAgICAgICAgWzMxLjc5MTcsIC03LjA5MjZdLAogICAgICAgICAgICAgICAgeyJidWJibGluZ01vdXNlRXZlbnRzIjogdHJ1ZSwgImNvbG9yIjogInJlZCIsICJkYXNoQXJyYXkiOiBudWxsLCAiZGFzaE9mZnNldCI6IG51bGwsICJmaWxsIjogdHJ1ZSwgImZpbGxDb2xvciI6ICJpbmRpZ28iLCAiZmlsbE9wYWNpdHkiOiAwLjIsICJmaWxsUnVsZSI6ICJldmVub2RkIiwgImxpbmVDYXAiOiAicm91bmQiLCAibGluZUpvaW4iOiAicm91bmQiLCAib3BhY2l0eSI6IDEuMCwgInJhZGl1cyI6IDQwOTk5OS45OTk5OTk5OTk5NCwgInN0cm9rZSI6IHRydWUsICJ3ZWlnaHQiOiAzfQogICAgICAgICAgICApLmFkZFRvKG1hcF9mZmYxODU3NTk0YmY0YTNhODI3OGYxMjUzNmNjZDYzNyk7CiAgICAgICAgCiAgICAKICAgICAgICAgICAgY2lyY2xlXzJmOGI3MjhkN2EzMjQ2ZjBhMzFmMzc5NDBjNjFjMzg4LmJpbmRUb29sdGlwKAogICAgICAgICAgICAgICAgYDxkaXY+CiAgICAgICAgICAgICAgICAgICAgIDxkaXYgc3R5bGU9J21hcmdpbjogMDsgYmFja2dyb3VuZC1jb2xvcjogYmxhY2s7IGNvbG9yOiB3aGl0ZTsnPjxoNCBzdHlsZT0ndGV4dC1hbGlnbjpjZW50ZXI7Zm9udC13ZWlnaHQ6IGJvbGQnPk1vcm9jY288L2g0PjxociBzdHlsZT0nbWFyZ2luOjEwcHg7Y29sb3I6IHdoaXRlOyc+PHVsIHN0eWxlPSdjb2xvcjogd2hpdGU7O2xpc3Qtc3R5bGUtdHlwZTpjaXJjbGU7YWxpZ24taXRlbTpsZWZ0O3BhZGRpbmctbGVmdDoyMHB4O3BhZGRpbmctcmlnaHQ6MjBweCc+PGxpPkNvbmZpcm1lZDogNDU2OTwvbGk+PGxpPkRlYXRoczogICAxNzE8L2xpPjxsaT5EZWF0aCBSYXRlOiAzLjc0PC9saT48L3VsPjwvZGl2PgogICAgICAgICAgICAgICAgIDwvZGl2PmAsCiAgICAgICAgICAgICAgICB7InN0aWNreSI6IHRydWV9CiAgICAgICAgICAgICk7CiAgICAgICAgCiAgICAKICAgICAgICAgICAgdmFyIGNpcmNsZV8yMDhkMWM3ZTE1ZDQ0NGM5YTI3ZGQzYzg4YzAyZjJhMiA9IEwuY2lyY2xlKAogICAgICAgICAgICAgICAgWy0yMi45NTc2LCAxOC40OTA0XSwKICAgICAgICAgICAgICAgIHsiYnViYmxpbmdNb3VzZUV2ZW50cyI6IHRydWUsICJjb2xvciI6ICJyZWQiLCAiZGFzaEFycmF5IjogbnVsbCwgImRhc2hPZmZzZXQiOiBudWxsLCAiZmlsbCI6IHRydWUsICJmaWxsQ29sb3IiOiAiaW5kaWdvIiwgImZpbGxPcGFjaXR5IjogMC4yLCAiZmlsbFJ1bGUiOiAiZXZlbm9kZCIsICJsaW5lQ2FwIjogInJvdW5kIiwgImxpbmVKb2luIjogInJvdW5kIiwgIm9wYWNpdHkiOiAxLjAsICJyYWRpdXMiOiAxMTAwMDAuMDAwMDAwMDAwMDEsICJzdHJva2UiOiB0cnVlLCAid2VpZ2h0IjogM30KICAgICAgICAgICAgKS5hZGRUbyhtYXBfZmZmMTg1NzU5NGJmNGEzYTgyNzhmMTI1MzZjY2Q2MzcpOwogICAgICAgIAogICAgCiAgICAgICAgICAgIGNpcmNsZV8yMDhkMWM3ZTE1ZDQ0NGM5YTI3ZGQzYzg4YzAyZjJhMi5iaW5kVG9vbHRpcCgKICAgICAgICAgICAgICAgIGA8ZGl2PgogICAgICAgICAgICAgICAgICAgICA8ZGl2IHN0eWxlPSdtYXJnaW46IDA7IGJhY2tncm91bmQtY29sb3I6IGJsYWNrOyBjb2xvcjogd2hpdGU7Jz48aDQgc3R5bGU9J3RleHQtYWxpZ246Y2VudGVyO2ZvbnQtd2VpZ2h0OiBib2xkJz5OYW1pYmlhPC9oND48aHIgc3R5bGU9J21hcmdpbjoxMHB4O2NvbG9yOiB3aGl0ZTsnPjx1bCBzdHlsZT0nY29sb3I6IHdoaXRlOztsaXN0LXN0eWxlLXR5cGU6Y2lyY2xlO2FsaWduLWl0ZW06bGVmdDtwYWRkaW5nLWxlZnQ6MjBweDtwYWRkaW5nLXJpZ2h0OjIwcHgnPjxsaT5Db25maXJtZWQ6IDE2PC9saT48bGk+RGVhdGhzOiAgIDA8L2xpPjxsaT5EZWF0aCBSYXRlOiAwLjA8L2xpPjwvdWw+PC9kaXY+CiAgICAgICAgICAgICAgICAgPC9kaXY+YCwKICAgICAgICAgICAgICAgIHsic3RpY2t5IjogdHJ1ZX0KICAgICAgICAgICAgKTsKICAgICAgICAKICAgIAogICAgICAgICAgICB2YXIgY2lyY2xlXzgxZGZjYjgxODViODQ1MTI5YTg4MmJlYWVjY2U2NDEyID0gTC5jaXJjbGUoCiAgICAgICAgICAgICAgICBbMjguMTY2NywgODQuMjVdLAogICAgICAgICAgICAgICAgeyJidWJibGluZ01vdXNlRXZlbnRzIjogdHJ1ZSwgImNvbG9yIjogInJlZCIsICJkYXNoQXJyYXkiOiBudWxsLCAiZGFzaE9mZnNldCI6IG51bGwsICJmaWxsIjogdHJ1ZSwgImZpbGxDb2xvciI6ICJpbmRpZ28iLCAiZmlsbE9wYWNpdHkiOiAwLjIsICJmaWxsUnVsZSI6ICJldmVub2RkIiwgImxpbmVDYXAiOiAicm91bmQiLCAibGluZUpvaW4iOiAicm91bmQiLCAib3BhY2l0eSI6IDEuMCwgInJhZGl1cyI6IDIxMDAwMC4wLCAic3Ryb2tlIjogdHJ1ZSwgIndlaWdodCI6IDN9CiAgICAgICAgICAgICkuYWRkVG8obWFwX2ZmZjE4NTc1OTRiZjRhM2E4Mjc4ZjEyNTM2Y2NkNjM3KTsKICAgICAgICAKICAgIAogICAgICAgICAgICBjaXJjbGVfODFkZmNiODE4NWI4NDUxMjlhODgyYmVhZWNjZTY0MTIuYmluZFRvb2x0aXAoCiAgICAgICAgICAgICAgICBgPGRpdj4KICAgICAgICAgICAgICAgICAgICAgPGRpdiBzdHlsZT0nbWFyZ2luOiAwOyBiYWNrZ3JvdW5kLWNvbG9yOiBibGFjazsgY29sb3I6IHdoaXRlOyc+PGg0IHN0eWxlPSd0ZXh0LWFsaWduOmNlbnRlcjtmb250LXdlaWdodDogYm9sZCc+TmVwYWw8L2g0PjxociBzdHlsZT0nbWFyZ2luOjEwcHg7Y29sb3I6IHdoaXRlOyc+PHVsIHN0eWxlPSdjb2xvcjogd2hpdGU7O2xpc3Qtc3R5bGUtdHlwZTpjaXJjbGU7YWxpZ24taXRlbTpsZWZ0O3BhZGRpbmctbGVmdDoyMHB4O3BhZGRpbmctcmlnaHQ6MjBweCc+PGxpPkNvbmZpcm1lZDogNTk8L2xpPjxsaT5EZWF0aHM6ICAgMDwvbGk+PGxpPkRlYXRoIFJhdGU6IDAuMDwvbGk+PC91bD48L2Rpdj4KICAgICAgICAgICAgICAgICA8L2Rpdj5gLAogICAgICAgICAgICAgICAgeyJzdGlja3kiOiB0cnVlfQogICAgICAgICAgICApOwogICAgICAgIAogICAgCiAgICAgICAgICAgIHZhciBjaXJjbGVfZWFhZjg3NDY0ZWI2NDJmMzg1Y2U2ZTNlMjU3OGYyM2IgPSBMLmNpcmNsZSgKICAgICAgICAgICAgICAgIFsxMi41MTg2LCAtNzAuMDM1OF0sCiAgICAgICAgICAgICAgICB7ImJ1YmJsaW5nTW91c2VFdmVudHMiOiB0cnVlLCAiY29sb3IiOiAicmVkIiwgImRhc2hBcnJheSI6IG51bGwsICJkYXNoT2Zmc2V0IjogbnVsbCwgImZpbGwiOiB0cnVlLCAiZmlsbENvbG9yIjogImluZGlnbyIsICJmaWxsT3BhY2l0eSI6IDAuMiwgImZpbGxSdWxlIjogImV2ZW5vZGQiLCAibGluZUNhcCI6ICJyb3VuZCIsICJsaW5lSm9pbiI6ICJyb3VuZCIsICJvcGFjaXR5IjogMS4wLCAicmFkaXVzIjogMjEwMDAwLjAsICJzdHJva2UiOiB0cnVlLCAid2VpZ2h0IjogM30KICAgICAgICAgICAgKS5hZGRUbyhtYXBfZmZmMTg1NzU5NGJmNGEzYTgyNzhmMTI1MzZjY2Q2MzcpOwogICAgICAgIAogICAgCiAgICAgICAgICAgIGNpcmNsZV9lYWFmODc0NjRlYjY0MmYzODVjZTZlM2UyNTc4ZjIzYi5iaW5kVG9vbHRpcCgKICAgICAgICAgICAgICAgIGA8ZGl2PgogICAgICAgICAgICAgICAgICAgICA8ZGl2IHN0eWxlPSdtYXJnaW46IDA7IGJhY2tncm91bmQtY29sb3I6IGJsYWNrOyBjb2xvcjogd2hpdGU7Jz48aDQgc3R5bGU9J3RleHQtYWxpZ246Y2VudGVyO2ZvbnQtd2VpZ2h0OiBib2xkJz5OZXRoZXJsYW5kczwvaDQ+PGhyIHN0eWxlPSdtYXJnaW46MTBweDtjb2xvcjogd2hpdGU7Jz48dWwgc3R5bGU9J2NvbG9yOiB3aGl0ZTs7bGlzdC1zdHlsZS10eXBlOmNpcmNsZTthbGlnbi1pdGVtOmxlZnQ7cGFkZGluZy1sZWZ0OjIwcHg7cGFkZGluZy1yaWdodDoyMHB4Jz48bGk+Q29uZmlybWVkOiAxMDA8L2xpPjxsaT5EZWF0aHM6ICAgMjwvbGk+PGxpPkRlYXRoIFJhdGU6IDEuOTg8L2xpPjwvdWw+PC9kaXY+CiAgICAgICAgICAgICAgICAgPC9kaXY+YCwKICAgICAgICAgICAgICAgIHsic3RpY2t5IjogdHJ1ZX0KICAgICAgICAgICAgKTsKICAgICAgICAKICAgIAogICAgICAgICAgICB2YXIgY2lyY2xlX2M5MGNmZmZmZTg1NzQxMzc4NzEyZTI5NjE4ZDM1NzRjID0gTC5jaXJjbGUoCiAgICAgICAgICAgICAgICBbMTIuMTY5NiwgLTY4Ljk5XSwKICAgICAgICAgICAgICAgIHsiYnViYmxpbmdNb3VzZUV2ZW50cyI6IHRydWUsICJjb2xvciI6ICJyZWQiLCAiZGFzaEFycmF5IjogbnVsbCwgImRhc2hPZmZzZXQiOiBudWxsLCAiZmlsbCI6IHRydWUsICJmaWxsQ29sb3IiOiAiaW5kaWdvIiwgImZpbGxPcGFjaXR5IjogMC4yLCAiZmlsbFJ1bGUiOiAiZXZlbm9kZCIsICJsaW5lQ2FwIjogInJvdW5kIiwgImxpbmVKb2luIjogInJvdW5kIiwgIm9wYWNpdHkiOiAxLjAsICJyYWRpdXMiOiAxMTAwMDAuMDAwMDAwMDAwMDEsICJzdHJva2UiOiB0cnVlLCAid2VpZ2h0IjogM30KICAgICAgICAgICAgKS5hZGRUbyhtYXBfZmZmMTg1NzU5NGJmNGEzYTgyNzhmMTI1MzZjY2Q2MzcpOwogICAgICAgIAogICAgCiAgICAgICAgICAgIGNpcmNsZV9jOTBjZmZmZmU4NTc0MTM3ODcxMmUyOTYxOGQzNTc0Yy5iaW5kVG9vbHRpcCgKICAgICAgICAgICAgICAgIGA8ZGl2PgogICAgICAgICAgICAgICAgICAgICA8ZGl2IHN0eWxlPSdtYXJnaW46IDA7IGJhY2tncm91bmQtY29sb3I6IGJsYWNrOyBjb2xvcjogd2hpdGU7Jz48aDQgc3R5bGU9J3RleHQtYWxpZ246Y2VudGVyO2ZvbnQtd2VpZ2h0OiBib2xkJz5OZXRoZXJsYW5kczwvaDQ+PGhyIHN0eWxlPSdtYXJnaW46MTBweDtjb2xvcjogd2hpdGU7Jz48dWwgc3R5bGU9J2NvbG9yOiB3aGl0ZTs7bGlzdC1zdHlsZS10eXBlOmNpcmNsZTthbGlnbi1pdGVtOmxlZnQ7cGFkZGluZy1sZWZ0OjIwcHg7cGFkZGluZy1yaWdodDoyMHB4Jz48bGk+Q29uZmlybWVkOiAxNjwvbGk+PGxpPkRlYXRoczogICAxPC9saT48bGk+RGVhdGggUmF0ZTogNS44ODwvbGk+PC91bD48L2Rpdj4KICAgICAgICAgICAgICAgICA8L2Rpdj5gLAogICAgICAgICAgICAgICAgeyJzdGlja3kiOiB0cnVlfQogICAgICAgICAgICApOwogICAgICAgIAogICAgCiAgICAgICAgICAgIHZhciBjaXJjbGVfNzg5MGY5MGRlOTgwNGQ0NjhmZDlhMjFiNTMyOWNhMTggPSBMLmNpcmNsZSgKICAgICAgICAgICAgICAgIFsxOC4wNDI1LCAtNjMuMDU0OF0sCiAgICAgICAgICAgICAgICB7ImJ1YmJsaW5nTW91c2VFdmVudHMiOiB0cnVlLCAiY29sb3IiOiAicmVkIiwgImRhc2hBcnJheSI6IG51bGwsICJkYXNoT2Zmc2V0IjogbnVsbCwgImZpbGwiOiB0cnVlLCAiZmlsbENvbG9yIjogImluZGlnbyIsICJmaWxsT3BhY2l0eSI6IDAuMiwgImZpbGxSdWxlIjogImV2ZW5vZGQiLCAibGluZUNhcCI6ICJyb3VuZCIsICJsaW5lSm9pbiI6ICJyb3VuZCIsICJvcGFjaXR5IjogMS4wLCAicmFkaXVzIjogMjEwMDAwLjAsICJzdHJva2UiOiB0cnVlLCAid2VpZ2h0IjogM30KICAgICAgICAgICAgKS5hZGRUbyhtYXBfZmZmMTg1NzU5NGJmNGEzYTgyNzhmMTI1MzZjY2Q2MzcpOwogICAgICAgIAogICAgCiAgICAgICAgICAgIGNpcmNsZV83ODkwZjkwZGU5ODA0ZDQ2OGZkOWEyMWI1MzI5Y2ExOC5iaW5kVG9vbHRpcCgKICAgICAgICAgICAgICAgIGA8ZGl2PgogICAgICAgICAgICAgICAgICAgICA8ZGl2IHN0eWxlPSdtYXJnaW46IDA7IGJhY2tncm91bmQtY29sb3I6IGJsYWNrOyBjb2xvcjogd2hpdGU7Jz48aDQgc3R5bGU9J3RleHQtYWxpZ246Y2VudGVyO2ZvbnQtd2VpZ2h0OiBib2xkJz5OZXRoZXJsYW5kczwvaDQ+PGhyIHN0eWxlPSdtYXJnaW46MTBweDtjb2xvcjogd2hpdGU7Jz48dWwgc3R5bGU9J2NvbG9yOiB3aGl0ZTs7bGlzdC1zdHlsZS10eXBlOmNpcmNsZTthbGlnbi1pdGVtOmxlZnQ7cGFkZGluZy1sZWZ0OjIwcHg7cGFkZGluZy1yaWdodDoyMHB4Jz48bGk+Q29uZmlybWVkOiA3NjwvbGk+PGxpPkRlYXRoczogICAxMzwvbGk+PGxpPkRlYXRoIFJhdGU6IDE2Ljg4PC9saT48L3VsPjwvZGl2PgogICAgICAgICAgICAgICAgIDwvZGl2PmAsCiAgICAgICAgICAgICAgICB7InN0aWNreSI6IHRydWV9CiAgICAgICAgICAgICk7CiAgICAgICAgCiAgICAKICAgICAgICAgICAgdmFyIGNpcmNsZV8yZTY4NTc1MTgwOWY0MjU4OGU2MGNjNjM3NDAzNmE0YiA9IEwuY2lyY2xlKAogICAgICAgICAgICAgICAgWzUyLjEzMjYsIDUuMjkxM10sCiAgICAgICAgICAgICAgICB7ImJ1YmJsaW5nTW91c2VFdmVudHMiOiB0cnVlLCAiY29sb3IiOiAicmVkIiwgImRhc2hBcnJheSI6IG51bGwsICJkYXNoT2Zmc2V0IjogbnVsbCwgImZpbGwiOiB0cnVlLCAiZmlsbENvbG9yIjogImluZGlnbyIsICJmaWxsT3BhY2l0eSI6IDAuMiwgImZpbGxSdWxlIjogImV2ZW5vZGQiLCAibGluZUNhcCI6ICJyb3VuZCIsICJsaW5lSm9pbiI6ICJyb3VuZCIsICJvcGFjaXR5IjogMS4wLCAicmFkaXVzIjogNTA5OTk5Ljk5OTk5OTk5OTk0LCAic3Ryb2tlIjogdHJ1ZSwgIndlaWdodCI6IDN9CiAgICAgICAgICAgICkuYWRkVG8obWFwX2ZmZjE4NTc1OTRiZjRhM2E4Mjc4ZjEyNTM2Y2NkNjM3KTsKICAgICAgICAKICAgIAogICAgICAgICAgICBjaXJjbGVfMmU2ODU3NTE4MDlmNDI1ODhlNjBjYzYzNzQwMzZhNGIuYmluZFRvb2x0aXAoCiAgICAgICAgICAgICAgICBgPGRpdj4KICAgICAgICAgICAgICAgICAgICAgPGRpdiBzdHlsZT0nbWFyZ2luOiAwOyBiYWNrZ3JvdW5kLWNvbG9yOiBibGFjazsgY29sb3I6IHdoaXRlOyc+PGg0IHN0eWxlPSd0ZXh0LWFsaWduOmNlbnRlcjtmb250LXdlaWdodDogYm9sZCc+TmV0aGVybGFuZHM8L2g0PjxociBzdHlsZT0nbWFyZ2luOjEwcHg7Y29sb3I6IHdoaXRlOyc+PHVsIHN0eWxlPSdjb2xvcjogd2hpdGU7O2xpc3Qtc3R5bGUtdHlwZTpjaXJjbGU7YWxpZ24taXRlbTpsZWZ0O3BhZGRpbmctbGVmdDoyMHB4O3BhZGRpbmctcmlnaHQ6MjBweCc+PGxpPkNvbmZpcm1lZDogMzk3OTE8L2xpPjxsaT5EZWF0aHM6ICAgNDg5MzwvbGk+PGxpPkRlYXRoIFJhdGU6IDEyLjM8L2xpPjwvdWw+PC9kaXY+CiAgICAgICAgICAgICAgICAgPC9kaXY+YCwKICAgICAgICAgICAgICAgIHsic3RpY2t5IjogdHJ1ZX0KICAgICAgICAgICAgKTsKICAgICAgICAKICAgIAogICAgICAgICAgICB2YXIgY2lyY2xlX2MxZWE3YzliNzhkOTQ2ODg5MjE1Yzg2ODdiMzg4NTI5ID0gTC5jaXJjbGUoCiAgICAgICAgICAgICAgICBbLTQwLjkwMDYsIDE3NC44ODZdLAogICAgICAgICAgICAgICAgeyJidWJibGluZ01vdXNlRXZlbnRzIjogdHJ1ZSwgImNvbG9yIjogInJlZCIsICJkYXNoQXJyYXkiOiBudWxsLCAiZGFzaE9mZnNldCI6IG51bGwsICJmaWxsIjogdHJ1ZSwgImZpbGxDb2xvciI6ICJpbmRpZ28iLCAiZmlsbE9wYWNpdHkiOiAwLjIsICJmaWxsUnVsZSI6ICJldmVub2RkIiwgImxpbmVDYXAiOiAicm91bmQiLCAibGluZUpvaW4iOiAicm91bmQiLCAib3BhY2l0eSI6IDEuMCwgInJhZGl1cyI6IDM2MDAwMC4wLCAic3Ryb2tlIjogdHJ1ZSwgIndlaWdodCI6IDN9CiAgICAgICAgICAgICkuYWRkVG8obWFwX2ZmZjE4NTc1OTRiZjRhM2E4Mjc4ZjEyNTM2Y2NkNjM3KTsKICAgICAgICAKICAgIAogICAgICAgICAgICBjaXJjbGVfYzFlYTdjOWI3OGQ5NDY4ODkyMTVjODY4N2IzODg1MjkuYmluZFRvb2x0aXAoCiAgICAgICAgICAgICAgICBgPGRpdj4KICAgICAgICAgICAgICAgICAgICAgPGRpdiBzdHlsZT0nbWFyZ2luOiAwOyBiYWNrZ3JvdW5kLWNvbG9yOiBibGFjazsgY29sb3I6IHdoaXRlOyc+PGg0IHN0eWxlPSd0ZXh0LWFsaWduOmNlbnRlcjtmb250LXdlaWdodDogYm9sZCc+TmV3IFplYWxhbmQ8L2g0PjxociBzdHlsZT0nbWFyZ2luOjEwcHg7Y29sb3I6IHdoaXRlOyc+PHVsIHN0eWxlPSdjb2xvcjogd2hpdGU7O2xpc3Qtc3R5bGUtdHlwZTpjaXJjbGU7YWxpZ24taXRlbTpsZWZ0O3BhZGRpbmctbGVmdDoyMHB4O3BhZGRpbmctcmlnaHQ6MjBweCc+PGxpPkNvbmZpcm1lZDogMTQ4NTwvbGk+PGxpPkRlYXRoczogICAyMDwvbGk+PGxpPkRlYXRoIFJhdGU6IDEuMzU8L2xpPjwvdWw+PC9kaXY+CiAgICAgICAgICAgICAgICAgPC9kaXY+YCwKICAgICAgICAgICAgICAgIHsic3RpY2t5IjogdHJ1ZX0KICAgICAgICAgICAgKTsKICAgICAgICAKICAgIAogICAgICAgICAgICB2YXIgY2lyY2xlX2RlYWJmYjcxY2Y0NTQ1YTM4MjBlNjRjOWU1M2M0NjExID0gTC5jaXJjbGUoCiAgICAgICAgICAgICAgICBbMTIuODY1NCwgLTg1LjIwNzJdLAogICAgICAgICAgICAgICAgeyJidWJibGluZ01vdXNlRXZlbnRzIjogdHJ1ZSwgImNvbG9yIjogInJlZCIsICJkYXNoQXJyYXkiOiBudWxsLCAiZGFzaE9mZnNldCI6IG51bGwsICJmaWxsIjogdHJ1ZSwgImZpbGxDb2xvciI6ICJpbmRpZ28iLCAiZmlsbE9wYWNpdHkiOiAwLjIsICJmaWxsUnVsZSI6ICJldmVub2RkIiwgImxpbmVDYXAiOiAicm91bmQiLCAibGluZUpvaW4iOiAicm91bmQiLCAib3BhY2l0eSI6IDEuMCwgInJhZGl1cyI6IDExMDAwMC4wMDAwMDAwMDAwMSwgInN0cm9rZSI6IHRydWUsICJ3ZWlnaHQiOiAzfQogICAgICAgICAgICApLmFkZFRvKG1hcF9mZmYxODU3NTk0YmY0YTNhODI3OGYxMjUzNmNjZDYzNyk7CiAgICAgICAgCiAgICAKICAgICAgICAgICAgY2lyY2xlX2RlYWJmYjcxY2Y0NTQ1YTM4MjBlNjRjOWU1M2M0NjExLmJpbmRUb29sdGlwKAogICAgICAgICAgICAgICAgYDxkaXY+CiAgICAgICAgICAgICAgICAgICAgIDxkaXYgc3R5bGU9J21hcmdpbjogMDsgYmFja2dyb3VuZC1jb2xvcjogYmxhY2s7IGNvbG9yOiB3aGl0ZTsnPjxoNCBzdHlsZT0ndGV4dC1hbGlnbjpjZW50ZXI7Zm9udC13ZWlnaHQ6IGJvbGQnPk5pY2FyYWd1YTwvaDQ+PGhyIHN0eWxlPSdtYXJnaW46MTBweDtjb2xvcjogd2hpdGU7Jz48dWwgc3R5bGU9J2NvbG9yOiB3aGl0ZTs7bGlzdC1zdHlsZS10eXBlOmNpcmNsZTthbGlnbi1pdGVtOmxlZnQ7cGFkZGluZy1sZWZ0OjIwcHg7cGFkZGluZy1yaWdodDoyMHB4Jz48bGk+Q29uZmlybWVkOiAxNDwvbGk+PGxpPkRlYXRoczogICAzPC9saT48bGk+RGVhdGggUmF0ZTogMjAuMDwvbGk+PC91bD48L2Rpdj4KICAgICAgICAgICAgICAgICA8L2Rpdj5gLAogICAgICAgICAgICAgICAgeyJzdGlja3kiOiB0cnVlfQogICAgICAgICAgICApOwogICAgICAgIAogICAgCiAgICAgICAgICAgIHZhciBjaXJjbGVfMGE4OTg1MjE2NWUwNGViNzk2Y2Y1MzU1ZGFkZmE2YmUgPSBMLmNpcmNsZSgKICAgICAgICAgICAgICAgIFsxNy42MDc4LCA4LjA4MTddLAogICAgICAgICAgICAgICAgeyJidWJibGluZ01vdXNlRXZlbnRzIjogdHJ1ZSwgImNvbG9yIjogInJlZCIsICJkYXNoQXJyYXkiOiBudWxsLCAiZGFzaE9mZnNldCI6IG51bGwsICJmaWxsIjogdHJ1ZSwgImZpbGxDb2xvciI6ICJpbmRpZ28iLCAiZmlsbE9wYWNpdHkiOiAwLjIsICJmaWxsUnVsZSI6ICJldmVub2RkIiwgImxpbmVDYXAiOiAicm91bmQiLCAibGluZUpvaW4iOiAicm91bmQiLCAib3BhY2l0eSI6IDEuMCwgInJhZGl1cyI6IDMxMDAwMC4wLCAic3Ryb2tlIjogdHJ1ZSwgIndlaWdodCI6IDN9CiAgICAgICAgICAgICkuYWRkVG8obWFwX2ZmZjE4NTc1OTRiZjRhM2E4Mjc4ZjEyNTM2Y2NkNjM3KTsKICAgICAgICAKICAgIAogICAgICAgICAgICBjaXJjbGVfMGE4OTg1MjE2NWUwNGViNzk2Y2Y1MzU1ZGFkZmE2YmUuYmluZFRvb2x0aXAoCiAgICAgICAgICAgICAgICBgPGRpdj4KICAgICAgICAgICAgICAgICAgICAgPGRpdiBzdHlsZT0nbWFyZ2luOiAwOyBiYWNrZ3JvdW5kLWNvbG9yOiBibGFjazsgY29sb3I6IHdoaXRlOyc+PGg0IHN0eWxlPSd0ZXh0LWFsaWduOmNlbnRlcjtmb250LXdlaWdodDogYm9sZCc+TmlnZXI8L2g0PjxociBzdHlsZT0nbWFyZ2luOjEwcHg7Y29sb3I6IHdoaXRlOyc+PHVsIHN0eWxlPSdjb2xvcjogd2hpdGU7O2xpc3Qtc3R5bGUtdHlwZTpjaXJjbGU7YWxpZ24taXRlbTpsZWZ0O3BhZGRpbmctbGVmdDoyMHB4O3BhZGRpbmctcmlnaHQ6MjBweCc+PGxpPkNvbmZpcm1lZDogNzI4PC9saT48bGk+RGVhdGhzOiAgIDMzPC9saT48bGk+RGVhdGggUmF0ZTogNC41MzwvbGk+PC91bD48L2Rpdj4KICAgICAgICAgICAgICAgICA8L2Rpdj5gLAogICAgICAgICAgICAgICAgeyJzdGlja3kiOiB0cnVlfQogICAgICAgICAgICApOwogICAgICAgIAogICAgCiAgICAgICAgICAgIHZhciBjaXJjbGVfNWUyYjFiODc2ODAwNDgyOWJjMDc0ZGExNGVjN2M2Y2QgPSBMLmNpcmNsZSgKICAgICAgICAgICAgICAgIFs5LjA4MiwgOC42NzUzXSwKICAgICAgICAgICAgICAgIHsiYnViYmxpbmdNb3VzZUV2ZW50cyI6IHRydWUsICJjb2xvciI6ICJyZWQiLCAiZGFzaEFycmF5IjogbnVsbCwgImRhc2hPZmZzZXQiOiBudWxsLCAiZmlsbCI6IHRydWUsICJmaWxsQ29sb3IiOiAiaW5kaWdvIiwgImZpbGxPcGFjaXR5IjogMC4yLCAiZmlsbFJ1bGUiOiAiZXZlbm9kZCIsICJsaW5lQ2FwIjogInJvdW5kIiwgImxpbmVKb2luIjogInJvdW5kIiwgIm9wYWNpdHkiOiAxLjAsICJyYWRpdXMiOiAzNjAwMDAuMCwgInN0cm9rZSI6IHRydWUsICJ3ZWlnaHQiOiAzfQogICAgICAgICAgICApLmFkZFRvKG1hcF9mZmYxODU3NTk0YmY0YTNhODI3OGYxMjUzNmNjZDYzNyk7CiAgICAgICAgCiAgICAKICAgICAgICAgICAgY2lyY2xlXzVlMmIxYjg3NjgwMDQ4MjliYzA3NGRhMTRlYzdjNmNkLmJpbmRUb29sdGlwKAogICAgICAgICAgICAgICAgYDxkaXY+CiAgICAgICAgICAgICAgICAgICAgIDxkaXYgc3R5bGU9J21hcmdpbjogMDsgYmFja2dyb3VuZC1jb2xvcjogYmxhY2s7IGNvbG9yOiB3aGl0ZTsnPjxoNCBzdHlsZT0ndGV4dC1hbGlnbjpjZW50ZXI7Zm9udC13ZWlnaHQ6IGJvbGQnPk5pZ2VyaWE8L2g0PjxociBzdHlsZT0nbWFyZ2luOjEwcHg7Y29sb3I6IHdoaXRlOyc+PHVsIHN0eWxlPSdjb2xvcjogd2hpdGU7O2xpc3Qtc3R5bGUtdHlwZTpjaXJjbGU7YWxpZ24taXRlbTpsZWZ0O3BhZGRpbmctbGVmdDoyMHB4O3BhZGRpbmctcmlnaHQ6MjBweCc+PGxpPkNvbmZpcm1lZDogMjE3MDwvbGk+PGxpPkRlYXRoczogICA2ODwvbGk+PGxpPkRlYXRoIFJhdGU6IDMuMTM8L2xpPjwvdWw+PC9kaXY+CiAgICAgICAgICAgICAgICAgPC9kaXY+YCwKICAgICAgICAgICAgICAgIHsic3RpY2t5IjogdHJ1ZX0KICAgICAgICAgICAgKTsKICAgICAgICAKICAgIAogICAgICAgICAgICB2YXIgY2lyY2xlX2U2ZWYyZGI2MWZkMTRhMDVhYjcwOGVmOTdkM2U5ZTkxID0gTC5jaXJjbGUoCiAgICAgICAgICAgICAgICBbNDEuNjA4NiwgMjEuNzQ1M10sCiAgICAgICAgICAgICAgICB7ImJ1YmJsaW5nTW91c2VFdmVudHMiOiB0cnVlLCAiY29sb3IiOiAicmVkIiwgImRhc2hBcnJheSI6IG51bGwsICJkYXNoT2Zmc2V0IjogbnVsbCwgImZpbGwiOiB0cnVlLCAiZmlsbENvbG9yIjogImluZGlnbyIsICJmaWxsT3BhY2l0eSI6IDAuMiwgImZpbGxSdWxlIjogImV2ZW5vZGQiLCAibGluZUNhcCI6ICJyb3VuZCIsICJsaW5lSm9pbiI6ICJyb3VuZCIsICJvcGFjaXR5IjogMS4wLCAicmFkaXVzIjogMzYwMDAwLjAsICJzdHJva2UiOiB0cnVlLCAid2VpZ2h0IjogM30KICAgICAgICAgICAgKS5hZGRUbyhtYXBfZmZmMTg1NzU5NGJmNGEzYTgyNzhmMTI1MzZjY2Q2MzcpOwogICAgICAgIAogICAgCiAgICAgICAgICAgIGNpcmNsZV9lNmVmMmRiNjFmZDE0YTA1YWI3MDhlZjk3ZDNlOWU5MS5iaW5kVG9vbHRpcCgKICAgICAgICAgICAgICAgIGA8ZGl2PgogICAgICAgICAgICAgICAgICAgICA8ZGl2IHN0eWxlPSdtYXJnaW46IDA7IGJhY2tncm91bmQtY29sb3I6IGJsYWNrOyBjb2xvcjogd2hpdGU7Jz48aDQgc3R5bGU9J3RleHQtYWxpZ246Y2VudGVyO2ZvbnQtd2VpZ2h0OiBib2xkJz5Ob3J0aCBNYWNlZG9uaWE8L2g0PjxociBzdHlsZT0nbWFyZ2luOjEwcHg7Y29sb3I6IHdoaXRlOyc+PHVsIHN0eWxlPSdjb2xvcjogd2hpdGU7O2xpc3Qtc3R5bGUtdHlwZTpjaXJjbGU7YWxpZ24taXRlbTpsZWZ0O3BhZGRpbmctbGVmdDoyMHB4O3BhZGRpbmctcmlnaHQ6MjBweCc+PGxpPkNvbmZpcm1lZDogMTQ5NDwvbGk+PGxpPkRlYXRoczogICA4MTwvbGk+PGxpPkRlYXRoIFJhdGU6IDUuNDI8L2xpPjwvdWw+PC9kaXY+CiAgICAgICAgICAgICAgICAgPC9kaXY+YCwKICAgICAgICAgICAgICAgIHsic3RpY2t5IjogdHJ1ZX0KICAgICAgICAgICAgKTsKICAgICAgICAKICAgIAogICAgICAgICAgICB2YXIgY2lyY2xlXzg1MTU1YzAzOTk1MTRlZTZiMTBmNjc0NjYwNDcxZGVhID0gTC5jaXJjbGUoCiAgICAgICAgICAgICAgICBbNjAuNDcyLCA4LjQ2ODldLAogICAgICAgICAgICAgICAgeyJidWJibGluZ01vdXNlRXZlbnRzIjogdHJ1ZSwgImNvbG9yIjogInJlZCIsICJkYXNoQXJyYXkiOiBudWxsLCAiZGFzaE9mZnNldCI6IG51bGwsICJmaWxsIjogdHJ1ZSwgImZpbGxDb2xvciI6ICJpbmRpZ28iLCAiZmlsbE9wYWNpdHkiOiAwLjIsICJmaWxsUnVsZSI6ICJldmVub2RkIiwgImxpbmVDYXAiOiAicm91bmQiLCAibGluZUpvaW4iOiAicm91bmQiLCAib3BhY2l0eSI6IDEuMCwgInJhZGl1cyI6IDQwOTk5OS45OTk5OTk5OTk5NCwgInN0cm9rZSI6IHRydWUsICJ3ZWlnaHQiOiAzfQogICAgICAgICAgICApLmFkZFRvKG1hcF9mZmYxODU3NTk0YmY0YTNhODI3OGYxMjUzNmNjZDYzNyk7CiAgICAgICAgCiAgICAKICAgICAgICAgICAgY2lyY2xlXzg1MTU1YzAzOTk1MTRlZTZiMTBmNjc0NjYwNDcxZGVhLmJpbmRUb29sdGlwKAogICAgICAgICAgICAgICAgYDxkaXY+CiAgICAgICAgICAgICAgICAgICAgIDxkaXYgc3R5bGU9J21hcmdpbjogMDsgYmFja2dyb3VuZC1jb2xvcjogYmxhY2s7IGNvbG9yOiB3aGl0ZTsnPjxoNCBzdHlsZT0ndGV4dC1hbGlnbjpjZW50ZXI7Zm9udC13ZWlnaHQ6IGJvbGQnPk5vcndheTwvaDQ+PGhyIHN0eWxlPSdtYXJnaW46MTBweDtjb2xvcjogd2hpdGU7Jz48dWwgc3R5bGU9J2NvbG9yOiB3aGl0ZTs7bGlzdC1zdHlsZS10eXBlOmNpcmNsZTthbGlnbi1pdGVtOmxlZnQ7cGFkZGluZy1sZWZ0OjIwcHg7cGFkZGluZy1yaWdodDoyMHB4Jz48bGk+Q29uZmlybWVkOiA3NzgzPC9saT48bGk+RGVhdGhzOiAgIDIxMDwvbGk+PGxpPkRlYXRoIFJhdGU6IDIuNzwvbGk+PC91bD48L2Rpdj4KICAgICAgICAgICAgICAgICA8L2Rpdj5gLAogICAgICAgICAgICAgICAgeyJzdGlja3kiOiB0cnVlfQogICAgICAgICAgICApOwogICAgICAgIAogICAgCiAgICAgICAgICAgIHZhciBjaXJjbGVfYjdjMDlhZDI4NzAyNGE3NTljZjMzNDdhNjg0MDk2ZDIgPSBMLmNpcmNsZSgKICAgICAgICAgICAgICAgIFsyMS4wLCA1Ny4wXSwKICAgICAgICAgICAgICAgIHsiYnViYmxpbmdNb3VzZUV2ZW50cyI6IHRydWUsICJjb2xvciI6ICJyZWQiLCAiZGFzaEFycmF5IjogbnVsbCwgImRhc2hPZmZzZXQiOiBudWxsLCAiZmlsbCI6IHRydWUsICJmaWxsQ29sb3IiOiAiaW5kaWdvIiwgImZpbGxPcGFjaXR5IjogMC4yLCAiZmlsbFJ1bGUiOiAiZXZlbm9kZCIsICJsaW5lQ2FwIjogInJvdW5kIiwgImxpbmVKb2luIjogInJvdW5kIiwgIm9wYWNpdHkiOiAxLjAsICJyYWRpdXMiOiAzNjAwMDAuMCwgInN0cm9rZSI6IHRydWUsICJ3ZWlnaHQiOiAzfQogICAgICAgICAgICApLmFkZFRvKG1hcF9mZmYxODU3NTk0YmY0YTNhODI3OGYxMjUzNmNjZDYzNyk7CiAgICAgICAgCiAgICAKICAgICAgICAgICAgY2lyY2xlX2I3YzA5YWQyODcwMjRhNzU5Y2YzMzQ3YTY4NDA5NmQyLmJpbmRUb29sdGlwKAogICAgICAgICAgICAgICAgYDxkaXY+CiAgICAgICAgICAgICAgICAgICAgIDxkaXYgc3R5bGU9J21hcmdpbjogMDsgYmFja2dyb3VuZC1jb2xvcjogYmxhY2s7IGNvbG9yOiB3aGl0ZTsnPjxoNCBzdHlsZT0ndGV4dC1hbGlnbjpjZW50ZXI7Zm9udC13ZWlnaHQ6IGJvbGQnPk9tYW48L2g0PjxociBzdHlsZT0nbWFyZ2luOjEwcHg7Y29sb3I6IHdoaXRlOyc+PHVsIHN0eWxlPSdjb2xvcjogd2hpdGU7O2xpc3Qtc3R5bGUtdHlwZTpjaXJjbGU7YWxpZ24taXRlbTpsZWZ0O3BhZGRpbmctbGVmdDoyMHB4O3BhZGRpbmctcmlnaHQ6MjBweCc+PGxpPkNvbmZpcm1lZDogMjQ0NzwvbGk+PGxpPkRlYXRoczogICAxMTwvbGk+PGxpPkRlYXRoIFJhdGU6IDAuNDU8L2xpPjwvdWw+PC9kaXY+CiAgICAgICAgICAgICAgICAgPC9kaXY+YCwKICAgICAgICAgICAgICAgIHsic3RpY2t5IjogdHJ1ZX0KICAgICAgICAgICAgKTsKICAgICAgICAKICAgIAogICAgICAgICAgICB2YXIgY2lyY2xlXzQyMDkzNWUzNjYxMTRjZThhY2E3NmY3OWQxOTU3MjA2ID0gTC5jaXJjbGUoCiAgICAgICAgICAgICAgICBbMzAuMzc1MywgNjkuMzQ1MV0sCiAgICAgICAgICAgICAgICB7ImJ1YmJsaW5nTW91c2VFdmVudHMiOiB0cnVlLCAiY29sb3IiOiAicmVkIiwgImRhc2hBcnJheSI6IG51bGwsICJkYXNoT2Zmc2V0IjogbnVsbCwgImZpbGwiOiB0cnVlLCAiZmlsbENvbG9yIjogImluZGlnbyIsICJmaWxsT3BhY2l0eSI6IDAuMiwgImZpbGxSdWxlIjogImV2ZW5vZGQiLCAibGluZUNhcCI6ICJyb3VuZCIsICJsaW5lSm9pbiI6ICJyb3VuZCIsICJvcGFjaXR5IjogMS4wLCAicmFkaXVzIjogNDU5OTk5Ljk5OTk5OTk5OTk0LCAic3Ryb2tlIjogdHJ1ZSwgIndlaWdodCI6IDN9CiAgICAgICAgICAgICkuYWRkVG8obWFwX2ZmZjE4NTc1OTRiZjRhM2E4Mjc4ZjEyNTM2Y2NkNjM3KTsKICAgICAgICAKICAgIAogICAgICAgICAgICBjaXJjbGVfNDIwOTM1ZTM2NjExNGNlOGFjYTc2Zjc5ZDE5NTcyMDYuYmluZFRvb2x0aXAoCiAgICAgICAgICAgICAgICBgPGRpdj4KICAgICAgICAgICAgICAgICAgICAgPGRpdiBzdHlsZT0nbWFyZ2luOiAwOyBiYWNrZ3JvdW5kLWNvbG9yOiBibGFjazsgY29sb3I6IHdoaXRlOyc+PGg0IHN0eWxlPSd0ZXh0LWFsaWduOmNlbnRlcjtmb250LXdlaWdodDogYm9sZCc+UGFraXN0YW48L2g0PjxociBzdHlsZT0nbWFyZ2luOjEwcHg7Y29sb3I6IHdoaXRlOyc+PHVsIHN0eWxlPSdjb2xvcjogd2hpdGU7O2xpc3Qtc3R5bGUtdHlwZTpjaXJjbGU7YWxpZ24taXRlbTpsZWZ0O3BhZGRpbmctbGVmdDoyMHB4O3BhZGRpbmctcmlnaHQ6MjBweCc+PGxpPkNvbmZpcm1lZDogMTgxMTQ8L2xpPjxsaT5EZWF0aHM6ICAgNDE3PC9saT48bGk+RGVhdGggUmF0ZTogMi4zPC9saT48L3VsPjwvZGl2PgogICAgICAgICAgICAgICAgIDwvZGl2PmAsCiAgICAgICAgICAgICAgICB7InN0aWNreSI6IHRydWV9CiAgICAgICAgICAgICk7CiAgICAgICAgCiAgICAKICAgICAgICAgICAgdmFyIGNpcmNsZV8yMmVlYzAxZGM2YTQ0N2IyYjQ5NjU1Y2I2MWNlYWIyYiA9IEwuY2lyY2xlKAogICAgICAgICAgICAgICAgWzguNTM4LCAtODAuNzgyMV0sCiAgICAgICAgICAgICAgICB7ImJ1YmJsaW5nTW91c2VFdmVudHMiOiB0cnVlLCAiY29sb3IiOiAicmVkIiwgImRhc2hBcnJheSI6IG51bGwsICJkYXNoT2Zmc2V0IjogbnVsbCwgImZpbGwiOiB0cnVlLCAiZmlsbENvbG9yIjogImluZGlnbyIsICJmaWxsT3BhY2l0eSI6IDAuMiwgImZpbGxSdWxlIjogImV2ZW5vZGQiLCAibGluZUNhcCI6ICJyb3VuZCIsICJsaW5lSm9pbiI6ICJyb3VuZCIsICJvcGFjaXR5IjogMS4wLCAicmFkaXVzIjogNDA5OTk5Ljk5OTk5OTk5OTk0LCAic3Ryb2tlIjogdHJ1ZSwgIndlaWdodCI6IDN9CiAgICAgICAgICAgICkuYWRkVG8obWFwX2ZmZjE4NTc1OTRiZjRhM2E4Mjc4ZjEyNTM2Y2NkNjM3KTsKICAgICAgICAKICAgIAogICAgICAgICAgICBjaXJjbGVfMjJlZWMwMWRjNmE0NDdiMmI0OTY1NWNiNjFjZWFiMmIuYmluZFRvb2x0aXAoCiAgICAgICAgICAgICAgICBgPGRpdj4KICAgICAgICAgICAgICAgICAgICAgPGRpdiBzdHlsZT0nbWFyZ2luOiAwOyBiYWNrZ3JvdW5kLWNvbG9yOiBibGFjazsgY29sb3I6IHdoaXRlOyc+PGg0IHN0eWxlPSd0ZXh0LWFsaWduOmNlbnRlcjtmb250LXdlaWdodDogYm9sZCc+UGFuYW1hPC9oND48aHIgc3R5bGU9J21hcmdpbjoxMHB4O2NvbG9yOiB3aGl0ZTsnPjx1bCBzdHlsZT0nY29sb3I6IHdoaXRlOztsaXN0LXN0eWxlLXR5cGU6Y2lyY2xlO2FsaWduLWl0ZW06bGVmdDtwYWRkaW5nLWxlZnQ6MjBweDtwYWRkaW5nLXJpZ2h0OjIwcHgnPjxsaT5Db25maXJtZWQ6IDY3MjA8L2xpPjxsaT5EZWF0aHM6ICAgMTkyPC9saT48bGk+RGVhdGggUmF0ZTogMi44NjwvbGk+PC91bD48L2Rpdj4KICAgICAgICAgICAgICAgICA8L2Rpdj5gLAogICAgICAgICAgICAgICAgeyJzdGlja3kiOiB0cnVlfQogICAgICAgICAgICApOwogICAgICAgIAogICAgCiAgICAgICAgICAgIHZhciBjaXJjbGVfOGUxOWI3MzhjMzI0NDg5ZTg5NWQzNTgxYWFjZmQ1ODUgPSBMLmNpcmNsZSgKICAgICAgICAgICAgICAgIFstNi4zMTUsIDE0My45NTU1XSwKICAgICAgICAgICAgICAgIHsiYnViYmxpbmdNb3VzZUV2ZW50cyI6IHRydWUsICJjb2xvciI6ICJyZWQiLCAiZGFzaEFycmF5IjogbnVsbCwgImRhc2hPZmZzZXQiOiBudWxsLCAiZmlsbCI6IHRydWUsICJmaWxsQ29sb3IiOiAiaW5kaWdvIiwgImZpbGxPcGFjaXR5IjogMC4yLCAiZmlsbFJ1bGUiOiAiZXZlbm9kZCIsICJsaW5lQ2FwIjogInJvdW5kIiwgImxpbmVKb2luIjogInJvdW5kIiwgIm9wYWNpdHkiOiAxLjAsICJyYWRpdXMiOiAxMTAwMDAuMDAwMDAwMDAwMDEsICJzdHJva2UiOiB0cnVlLCAid2VpZ2h0IjogM30KICAgICAgICAgICAgKS5hZGRUbyhtYXBfZmZmMTg1NzU5NGJmNGEzYTgyNzhmMTI1MzZjY2Q2MzcpOwogICAgICAgIAogICAgCiAgICAgICAgICAgIGNpcmNsZV84ZTE5YjczOGMzMjQ0ODllODk1ZDM1ODFhYWNmZDU4NS5iaW5kVG9vbHRpcCgKICAgICAgICAgICAgICAgIGA8ZGl2PgogICAgICAgICAgICAgICAgICAgICA8ZGl2IHN0eWxlPSdtYXJnaW46IDA7IGJhY2tncm91bmQtY29sb3I6IGJsYWNrOyBjb2xvcjogd2hpdGU7Jz48aDQgc3R5bGU9J3RleHQtYWxpZ246Y2VudGVyO2ZvbnQtd2VpZ2h0OiBib2xkJz5QYXB1YSBOZXcgR3VpbmVhPC9oND48aHIgc3R5bGU9J21hcmdpbjoxMHB4O2NvbG9yOiB3aGl0ZTsnPjx1bCBzdHlsZT0nY29sb3I6IHdoaXRlOztsaXN0LXN0eWxlLXR5cGU6Y2lyY2xlO2FsaWduLWl0ZW06bGVmdDtwYWRkaW5nLWxlZnQ6MjBweDtwYWRkaW5nLXJpZ2h0OjIwcHgnPjxsaT5Db25maXJtZWQ6IDg8L2xpPjxsaT5EZWF0aHM6ICAgMDwvbGk+PGxpPkRlYXRoIFJhdGU6IDAuMDwvbGk+PC91bD48L2Rpdj4KICAgICAgICAgICAgICAgICA8L2Rpdj5gLAogICAgICAgICAgICAgICAgeyJzdGlja3kiOiB0cnVlfQogICAgICAgICAgICApOwogICAgICAgIAogICAgCiAgICAgICAgICAgIHZhciBjaXJjbGVfMTY0YTgyMzI5YTk0NDYyMTliYTMwZDI3ZDQ5NzA4MTQgPSBMLmNpcmNsZSgKICAgICAgICAgICAgICAgIFstMjMuNDQyNSwgLTU4LjQ0MzhdLAogICAgICAgICAgICAgICAgeyJidWJibGluZ01vdXNlRXZlbnRzIjogdHJ1ZSwgImNvbG9yIjogInJlZCIsICJkYXNoQXJyYXkiOiBudWxsLCAiZGFzaE9mZnNldCI6IG51bGwsICJmaWxsIjogdHJ1ZSwgImZpbGxDb2xvciI6ICJpbmRpZ28iLCAiZmlsbE9wYWNpdHkiOiAwLjIsICJmaWxsUnVsZSI6ICJldmVub2RkIiwgImxpbmVDYXAiOiAicm91bmQiLCAibGluZUpvaW4iOiAicm91bmQiLCAib3BhY2l0eSI6IDEuMCwgInJhZGl1cyI6IDI2MDAwMC4wLCAic3Ryb2tlIjogdHJ1ZSwgIndlaWdodCI6IDN9CiAgICAgICAgICAgICkuYWRkVG8obWFwX2ZmZjE4NTc1OTRiZjRhM2E4Mjc4ZjEyNTM2Y2NkNjM3KTsKICAgICAgICAKICAgIAogICAgICAgICAgICBjaXJjbGVfMTY0YTgyMzI5YTk0NDYyMTliYTMwZDI3ZDQ5NzA4MTQuYmluZFRvb2x0aXAoCiAgICAgICAgICAgICAgICBgPGRpdj4KICAgICAgICAgICAgICAgICAgICAgPGRpdiBzdHlsZT0nbWFyZ2luOiAwOyBiYWNrZ3JvdW5kLWNvbG9yOiBibGFjazsgY29sb3I6IHdoaXRlOyc+PGg0IHN0eWxlPSd0ZXh0LWFsaWduOmNlbnRlcjtmb250LXdlaWdodDogYm9sZCc+UGFyYWd1YXk8L2g0PjxociBzdHlsZT0nbWFyZ2luOjEwcHg7Y29sb3I6IHdoaXRlOyc+PHVsIHN0eWxlPSdjb2xvcjogd2hpdGU7O2xpc3Qtc3R5bGUtdHlwZTpjaXJjbGU7YWxpZ24taXRlbTpsZWZ0O3BhZGRpbmctbGVmdDoyMHB4O3BhZGRpbmctcmlnaHQ6MjBweCc+PGxpPkNvbmZpcm1lZDogMzMzPC9saT48bGk+RGVhdGhzOiAgIDEwPC9saT48bGk+RGVhdGggUmF0ZTogMi45OTwvbGk+PC91bD48L2Rpdj4KICAgICAgICAgICAgICAgICA8L2Rpdj5gLAogICAgICAgICAgICAgICAgeyJzdGlja3kiOiB0cnVlfQogICAgICAgICAgICApOwogICAgICAgIAogICAgCiAgICAgICAgICAgIHZhciBjaXJjbGVfMjczOThmNjM4MmIyNDNhYWJiZDg5ZmZlZDVmOTNhOTIgPSBMLmNpcmNsZSgKICAgICAgICAgICAgICAgIFstOS4xOSwgLTc1LjAxNTJdLAogICAgICAgICAgICAgICAgeyJidWJibGluZ01vdXNlRXZlbnRzIjogdHJ1ZSwgImNvbG9yIjogInJlZCIsICJkYXNoQXJyYXkiOiBudWxsLCAiZGFzaE9mZnNldCI6IG51bGwsICJmaWxsIjogdHJ1ZSwgImZpbGxDb2xvciI6ICJpbmRpZ28iLCAiZmlsbE9wYWNpdHkiOiAwLjIsICJmaWxsUnVsZSI6ICJldmVub2RkIiwgImxpbmVDYXAiOiAicm91bmQiLCAibGluZUpvaW4iOiAicm91bmQiLCAib3BhY2l0eSI6IDEuMCwgInJhZGl1cyI6IDUwOTk5OS45OTk5OTk5OTk5NCwgInN0cm9rZSI6IHRydWUsICJ3ZWlnaHQiOiAzfQogICAgICAgICAgICApLmFkZFRvKG1hcF9mZmYxODU3NTk0YmY0YTNhODI3OGYxMjUzNmNjZDYzNyk7CiAgICAgICAgCiAgICAKICAgICAgICAgICAgY2lyY2xlXzI3Mzk4ZjYzODJiMjQzYWFiYmQ4OWZmZWQ1ZjkzYTkyLmJpbmRUb29sdGlwKAogICAgICAgICAgICAgICAgYDxkaXY+CiAgICAgICAgICAgICAgICAgICAgIDxkaXYgc3R5bGU9J21hcmdpbjogMDsgYmFja2dyb3VuZC1jb2xvcjogYmxhY2s7IGNvbG9yOiB3aGl0ZTsnPjxoNCBzdHlsZT0ndGV4dC1hbGlnbjpjZW50ZXI7Zm9udC13ZWlnaHQ6IGJvbGQnPlBlcnU8L2g0PjxociBzdHlsZT0nbWFyZ2luOjEwcHg7Y29sb3I6IHdoaXRlOyc+PHVsIHN0eWxlPSdjb2xvcjogd2hpdGU7O2xpc3Qtc3R5bGUtdHlwZTpjaXJjbGU7YWxpZ24taXRlbTpsZWZ0O3BhZGRpbmctbGVmdDoyMHB4O3BhZGRpbmctcmlnaHQ6MjBweCc+PGxpPkNvbmZpcm1lZDogNDA0NTk8L2xpPjxsaT5EZWF0aHM6ICAgMTEyNDwvbGk+PGxpPkRlYXRoIFJhdGU6IDIuNzg8L2xpPjwvdWw+PC9kaXY+CiAgICAgICAgICAgICAgICAgPC9kaXY+YCwKICAgICAgICAgICAgICAgIHsic3RpY2t5IjogdHJ1ZX0KICAgICAgICAgICAgKTsKICAgICAgICAKICAgIAogICAgICAgICAgICB2YXIgY2lyY2xlXzVhOTI4Y2NhMTA1MzQ4MWE5OTdhZmM0ZjFmYTkzMzYwID0gTC5jaXJjbGUoCiAgICAgICAgICAgICAgICBbMTMuMCwgMTIyLjBdLAogICAgICAgICAgICAgICAgeyJidWJibGluZ01vdXNlRXZlbnRzIjogdHJ1ZSwgImNvbG9yIjogInJlZCIsICJkYXNoQXJyYXkiOiBudWxsLCAiZGFzaE9mZnNldCI6IG51bGwsICJmaWxsIjogdHJ1ZSwgImZpbGxDb2xvciI6ICJpbmRpZ28iLCAiZmlsbE9wYWNpdHkiOiAwLjIsICJmaWxsUnVsZSI6ICJldmVub2RkIiwgImxpbmVDYXAiOiAicm91bmQiLCAibGluZUpvaW4iOiAicm91bmQiLCAib3BhY2l0eSI6IDEuMCwgInJhZGl1cyI6IDQ1OTk5OS45OTk5OTk5OTk5NCwgInN0cm9rZSI6IHRydWUsICJ3ZWlnaHQiOiAzfQogICAgICAgICAgICApLmFkZFRvKG1hcF9mZmYxODU3NTk0YmY0YTNhODI3OGYxMjUzNmNjZDYzNyk7CiAgICAgICAgCiAgICAKICAgICAgICAgICAgY2lyY2xlXzVhOTI4Y2NhMTA1MzQ4MWE5OTdhZmM0ZjFmYTkzMzYwLmJpbmRUb29sdGlwKAogICAgICAgICAgICAgICAgYDxkaXY+CiAgICAgICAgICAgICAgICAgICAgIDxkaXYgc3R5bGU9J21hcmdpbjogMDsgYmFja2dyb3VuZC1jb2xvcjogYmxhY2s7IGNvbG9yOiB3aGl0ZTsnPjxoNCBzdHlsZT0ndGV4dC1hbGlnbjpjZW50ZXI7Zm9udC13ZWlnaHQ6IGJvbGQnPlBoaWxpcHBpbmVzPC9oND48aHIgc3R5bGU9J21hcmdpbjoxMHB4O2NvbG9yOiB3aGl0ZTsnPjx1bCBzdHlsZT0nY29sb3I6IHdoaXRlOztsaXN0LXN0eWxlLXR5cGU6Y2lyY2xlO2FsaWduLWl0ZW06bGVmdDtwYWRkaW5nLWxlZnQ6MjBweDtwYWRkaW5nLXJpZ2h0OjIwcHgnPjxsaT5Db25maXJtZWQ6IDg3NzI8L2xpPjxsaT5EZWF0aHM6ICAgNTc5PC9saT48bGk+RGVhdGggUmF0ZTogNi42PC9saT48L3VsPjwvZGl2PgogICAgICAgICAgICAgICAgIDwvZGl2PmAsCiAgICAgICAgICAgICAgICB7InN0aWNreSI6IHRydWV9CiAgICAgICAgICAgICk7CiAgICAgICAgCiAgICAKICAgICAgICAgICAgdmFyIGNpcmNsZV9jYjMzNzJiZDJhNzk0NGU5OTYzMjI4NDdjNzMzNzdkZiA9IEwuY2lyY2xlKAogICAgICAgICAgICAgICAgWzUxLjkxOTQsIDE5LjE0NTFdLAogICAgICAgICAgICAgICAgeyJidWJibGluZ01vdXNlRXZlbnRzIjogdHJ1ZSwgImNvbG9yIjogInJlZCIsICJkYXNoQXJyYXkiOiBudWxsLCAiZGFzaE9mZnNldCI6IG51bGwsICJmaWxsIjogdHJ1ZSwgImZpbGxDb2xvciI6ICJpbmRpZ28iLCAiZmlsbE9wYWNpdHkiOiAwLjIsICJmaWxsUnVsZSI6ICJldmVub2RkIiwgImxpbmVDYXAiOiAicm91bmQiLCAibGluZUpvaW4iOiAicm91bmQiLCAib3BhY2l0eSI6IDEuMCwgInJhZGl1cyI6IDQ1OTk5OS45OTk5OTk5OTk5NCwgInN0cm9rZSI6IHRydWUsICJ3ZWlnaHQiOiAzfQogICAgICAgICAgICApLmFkZFRvKG1hcF9mZmYxODU3NTk0YmY0YTNhODI3OGYxMjUzNmNjZDYzNyk7CiAgICAgICAgCiAgICAKICAgICAgICAgICAgY2lyY2xlX2NiMzM3MmJkMmE3OTQ0ZTk5NjMyMjg0N2M3MzM3N2RmLmJpbmRUb29sdGlwKAogICAgICAgICAgICAgICAgYDxkaXY+CiAgICAgICAgICAgICAgICAgICAgIDxkaXYgc3R5bGU9J21hcmdpbjogMDsgYmFja2dyb3VuZC1jb2xvcjogYmxhY2s7IGNvbG9yOiB3aGl0ZTsnPjxoNCBzdHlsZT0ndGV4dC1hbGlnbjpjZW50ZXI7Zm9udC13ZWlnaHQ6IGJvbGQnPlBvbGFuZDwvaDQ+PGhyIHN0eWxlPSdtYXJnaW46MTBweDtjb2xvcjogd2hpdGU7Jz48dWwgc3R5bGU9J2NvbG9yOiB3aGl0ZTs7bGlzdC1zdHlsZS10eXBlOmNpcmNsZTthbGlnbi1pdGVtOmxlZnQ7cGFkZGluZy1sZWZ0OjIwcHg7cGFkZGluZy1yaWdodDoyMHB4Jz48bGk+Q29uZmlybWVkOiAxMzEwNTwvbGk+PGxpPkRlYXRoczogICA2NTE8L2xpPjxsaT5EZWF0aCBSYXRlOiA0Ljk3PC9saT48L3VsPjwvZGl2PgogICAgICAgICAgICAgICAgIDwvZGl2PmAsCiAgICAgICAgICAgICAgICB7InN0aWNreSI6IHRydWV9CiAgICAgICAgICAgICk7CiAgICAgICAgCiAgICAKICAgICAgICAgICAgdmFyIGNpcmNsZV81YTg3MWY5OWY0MzE0ODM5ODNiZTUwMTg1NWY0NDYxYyA9IEwuY2lyY2xlKAogICAgICAgICAgICAgICAgWzM5LjM5OTksIC04LjIyNDVdLAogICAgICAgICAgICAgICAgeyJidWJibGluZ01vdXNlRXZlbnRzIjogdHJ1ZSwgImNvbG9yIjogInJlZCIsICJkYXNoQXJyYXkiOiBudWxsLCAiZGFzaE9mZnNldCI6IG51bGwsICJmaWxsIjogdHJ1ZSwgImZpbGxDb2xvciI6ICJpbmRpZ28iLCAiZmlsbE9wYWNpdHkiOiAwLjIsICJmaWxsUnVsZSI6ICJldmVub2RkIiwgImxpbmVDYXAiOiAicm91bmQiLCAibGluZUpvaW4iOiAicm91bmQiLCAib3BhY2l0eSI6IDEuMCwgInJhZGl1cyI6IDUwOTk5OS45OTk5OTk5OTk5NCwgInN0cm9rZSI6IHRydWUsICJ3ZWlnaHQiOiAzfQogICAgICAgICAgICApLmFkZFRvKG1hcF9mZmYxODU3NTk0YmY0YTNhODI3OGYxMjUzNmNjZDYzNyk7CiAgICAgICAgCiAgICAKICAgICAgICAgICAgY2lyY2xlXzVhODcxZjk5ZjQzMTQ4Mzk4M2JlNTAxODU1ZjQ0NjFjLmJpbmRUb29sdGlwKAogICAgICAgICAgICAgICAgYDxkaXY+CiAgICAgICAgICAgICAgICAgICAgIDxkaXYgc3R5bGU9J21hcmdpbjogMDsgYmFja2dyb3VuZC1jb2xvcjogYmxhY2s7IGNvbG9yOiB3aGl0ZTsnPjxoNCBzdHlsZT0ndGV4dC1hbGlnbjpjZW50ZXI7Zm9udC13ZWlnaHQ6IGJvbGQnPlBvcnR1Z2FsPC9oND48aHIgc3R5bGU9J21hcmdpbjoxMHB4O2NvbG9yOiB3aGl0ZTsnPjx1bCBzdHlsZT0nY29sb3I6IHdoaXRlOztsaXN0LXN0eWxlLXR5cGU6Y2lyY2xlO2FsaWduLWl0ZW06bGVmdDtwYWRkaW5nLWxlZnQ6MjBweDtwYWRkaW5nLXJpZ2h0OjIwcHgnPjxsaT5Db25maXJtZWQ6IDI1MzUxPC9saT48bGk+RGVhdGhzOiAgIDEwMDc8L2xpPjxsaT5EZWF0aCBSYXRlOiAzLjk3PC9saT48L3VsPjwvZGl2PgogICAgICAgICAgICAgICAgIDwvZGl2PmAsCiAgICAgICAgICAgICAgICB7InN0aWNreSI6IHRydWV9CiAgICAgICAgICAgICk7CiAgICAgICAgCiAgICAKICAgICAgICAgICAgdmFyIGNpcmNsZV9hNGQzNjI3ZTY0MTM0YmFmYjcwZDVhNzQzMTgyZmM4MCA9IEwuY2lyY2xlKAogICAgICAgICAgICAgICAgWzI1LjM1NDgsIDUxLjE4MzldLAogICAgICAgICAgICAgICAgeyJidWJibGluZ01vdXNlRXZlbnRzIjogdHJ1ZSwgImNvbG9yIjogInJlZCIsICJkYXNoQXJyYXkiOiBudWxsLCAiZGFzaE9mZnNldCI6IG51bGwsICJmaWxsIjogdHJ1ZSwgImZpbGxDb2xvciI6ICJpbmRpZ28iLCAiZmlsbE9wYWNpdHkiOiAwLjIsICJmaWxsUnVsZSI6ICJldmVub2RkIiwgImxpbmVDYXAiOiAicm91bmQiLCAibGluZUpvaW4iOiAicm91bmQiLCAib3BhY2l0eSI6IDEuMCwgInJhZGl1cyI6IDQ1OTk5OS45OTk5OTk5OTk5NCwgInN0cm9rZSI6IHRydWUsICJ3ZWlnaHQiOiAzfQogICAgICAgICAgICApLmFkZFRvKG1hcF9mZmYxODU3NTk0YmY0YTNhODI3OGYxMjUzNmNjZDYzNyk7CiAgICAgICAgCiAgICAKICAgICAgICAgICAgY2lyY2xlX2E0ZDM2MjdlNjQxMzRiYWZiNzBkNWE3NDMxODJmYzgwLmJpbmRUb29sdGlwKAogICAgICAgICAgICAgICAgYDxkaXY+CiAgICAgICAgICAgICAgICAgICAgIDxkaXYgc3R5bGU9J21hcmdpbjogMDsgYmFja2dyb3VuZC1jb2xvcjogYmxhY2s7IGNvbG9yOiB3aGl0ZTsnPjxoNCBzdHlsZT0ndGV4dC1hbGlnbjpjZW50ZXI7Zm9udC13ZWlnaHQ6IGJvbGQnPlFhdGFyPC9oND48aHIgc3R5bGU9J21hcmdpbjoxMHB4O2NvbG9yOiB3aGl0ZTsnPjx1bCBzdHlsZT0nY29sb3I6IHdoaXRlOztsaXN0LXN0eWxlLXR5cGU6Y2lyY2xlO2FsaWduLWl0ZW06bGVmdDtwYWRkaW5nLWxlZnQ6MjBweDtwYWRkaW5nLXJpZ2h0OjIwcHgnPjxsaT5Db25maXJtZWQ6IDE0MDk2PC9saT48bGk+RGVhdGhzOiAgIDEyPC9saT48bGk+RGVhdGggUmF0ZTogMC4wOTwvbGk+PC91bD48L2Rpdj4KICAgICAgICAgICAgICAgICA8L2Rpdj5gLAogICAgICAgICAgICAgICAgeyJzdGlja3kiOiB0cnVlfQogICAgICAgICAgICApOwogICAgICAgIAogICAgCiAgICAgICAgICAgIHZhciBjaXJjbGVfN2VmM2UwNzNkMjBjNGQ2Mzg0M2Q2NmIyNzZjOTFmNWUgPSBMLmNpcmNsZSgKICAgICAgICAgICAgICAgIFs0NS45NDMyLCAyNC45NjY4XSwKICAgICAgICAgICAgICAgIHsiYnViYmxpbmdNb3VzZUV2ZW50cyI6IHRydWUsICJjb2xvciI6ICJyZWQiLCAiZGFzaEFycmF5IjogbnVsbCwgImRhc2hPZmZzZXQiOiBudWxsLCAiZmlsbCI6IHRydWUsICJmaWxsQ29sb3IiOiAiaW5kaWdvIiwgImZpbGxPcGFjaXR5IjogMC4yLCAiZmlsbFJ1bGUiOiAiZXZlbm9kZCIsICJsaW5lQ2FwIjogInJvdW5kIiwgImxpbmVKb2luIjogInJvdW5kIiwgIm9wYWNpdHkiOiAxLjAsICJyYWRpdXMiOiA0NTk5OTkuOTk5OTk5OTk5OTQsICJzdHJva2UiOiB0cnVlLCAid2VpZ2h0IjogM30KICAgICAgICAgICAgKS5hZGRUbyhtYXBfZmZmMTg1NzU5NGJmNGEzYTgyNzhmMTI1MzZjY2Q2MzcpOwogICAgICAgIAogICAgCiAgICAgICAgICAgIGNpcmNsZV83ZWYzZTA3M2QyMGM0ZDYzODQzZDY2YjI3NmM5MWY1ZS5iaW5kVG9vbHRpcCgKICAgICAgICAgICAgICAgIGA8ZGl2PgogICAgICAgICAgICAgICAgICAgICA8ZGl2IHN0eWxlPSdtYXJnaW46IDA7IGJhY2tncm91bmQtY29sb3I6IGJsYWNrOyBjb2xvcjogd2hpdGU7Jz48aDQgc3R5bGU9J3RleHQtYWxpZ246Y2VudGVyO2ZvbnQtd2VpZ2h0OiBib2xkJz5Sb21hbmlhPC9oND48aHIgc3R5bGU9J21hcmdpbjoxMHB4O2NvbG9yOiB3aGl0ZTsnPjx1bCBzdHlsZT0nY29sb3I6IHdoaXRlOztsaXN0LXN0eWxlLXR5cGU6Y2lyY2xlO2FsaWduLWl0ZW06bGVmdDtwYWRkaW5nLWxlZnQ6MjBweDtwYWRkaW5nLXJpZ2h0OjIwcHgnPjxsaT5Db25maXJtZWQ6IDEyNTY3PC9saT48bGk+RGVhdGhzOiAgIDc0NDwvbGk+PGxpPkRlYXRoIFJhdGU6IDUuOTI8L2xpPjwvdWw+PC9kaXY+CiAgICAgICAgICAgICAgICAgPC9kaXY+YCwKICAgICAgICAgICAgICAgIHsic3RpY2t5IjogdHJ1ZX0KICAgICAgICAgICAgKTsKICAgICAgICAKICAgIAogICAgICAgICAgICB2YXIgY2lyY2xlX2QwZGY1YjZmN2E2ZjQyNDBhYTQ0NTNlNmRiNmEyMzVjID0gTC5jaXJjbGUoCiAgICAgICAgICAgICAgICBbNjAuMCwgOTAuMF0sCiAgICAgICAgICAgICAgICB7ImJ1YmJsaW5nTW91c2VFdmVudHMiOiB0cnVlLCAiY29sb3IiOiAicmVkIiwgImRhc2hBcnJheSI6IG51bGwsICJkYXNoT2Zmc2V0IjogbnVsbCwgImZpbGwiOiB0cnVlLCAiZmlsbENvbG9yIjogImluZGlnbyIsICJmaWxsT3BhY2l0eSI6IDAuMiwgImZpbGxSdWxlIjogImV2ZW5vZGQiLCAibGluZUNhcCI6ICJyb3VuZCIsICJsaW5lSm9pbiI6ICJyb3VuZCIsICJvcGFjaXR5IjogMS4wLCAicmFkaXVzIjogNTYwMDAwLjAsICJzdHJva2UiOiB0cnVlLCAid2VpZ2h0IjogM30KICAgICAgICAgICAgKS5hZGRUbyhtYXBfZmZmMTg1NzU5NGJmNGEzYTgyNzhmMTI1MzZjY2Q2MzcpOwogICAgICAgIAogICAgCiAgICAgICAgICAgIGNpcmNsZV9kMGRmNWI2ZjdhNmY0MjQwYWE0NDUzZTZkYjZhMjM1Yy5iaW5kVG9vbHRpcCgKICAgICAgICAgICAgICAgIGA8ZGl2PgogICAgICAgICAgICAgICAgICAgICA8ZGl2IHN0eWxlPSdtYXJnaW46IDA7IGJhY2tncm91bmQtY29sb3I6IGJsYWNrOyBjb2xvcjogd2hpdGU7Jz48aDQgc3R5bGU9J3RleHQtYWxpZ246Y2VudGVyO2ZvbnQtd2VpZ2h0OiBib2xkJz5SdXNzaWE8L2g0PjxociBzdHlsZT0nbWFyZ2luOjEwcHg7Y29sb3I6IHdoaXRlOyc+PHVsIHN0eWxlPSdjb2xvcjogd2hpdGU7O2xpc3Qtc3R5bGUtdHlwZTpjaXJjbGU7YWxpZ24taXRlbTpsZWZ0O3BhZGRpbmctbGVmdDoyMHB4O3BhZGRpbmctcmlnaHQ6MjBweCc+PGxpPkNvbmZpcm1lZDogMTE0NDMxPC9saT48bGk+RGVhdGhzOiAgIDExNjk8L2xpPjxsaT5EZWF0aCBSYXRlOiAxLjAyPC9saT48L3VsPjwvZGl2PgogICAgICAgICAgICAgICAgIDwvZGl2PmAsCiAgICAgICAgICAgICAgICB7InN0aWNreSI6IHRydWV9CiAgICAgICAgICAgICk7CiAgICAgICAgCiAgICAKICAgICAgICAgICAgdmFyIGNpcmNsZV8zM2FlYTNlMWQ3YjI0YmQ4ODAxMTliMjU3YjBlMDU3YSA9IEwuY2lyY2xlKAogICAgICAgICAgICAgICAgWy0xLjk0MDMsIDI5Ljg3MzldLAogICAgICAgICAgICAgICAgeyJidWJibGluZ01vdXNlRXZlbnRzIjogdHJ1ZSwgImNvbG9yIjogInJlZCIsICJkYXNoQXJyYXkiOiBudWxsLCAiZGFzaE9mZnNldCI6IG51bGwsICJmaWxsIjogdHJ1ZSwgImZpbGxDb2xvciI6ICJpbmRpZ28iLCAiZmlsbE9wYWNpdHkiOiAwLjIsICJmaWxsUnVsZSI6ICJldmVub2RkIiwgImxpbmVDYXAiOiAicm91bmQiLCAibGluZUpvaW4iOiAicm91bmQiLCAib3BhY2l0eSI6IDEuMCwgInJhZGl1cyI6IDI2MDAwMC4wLCAic3Ryb2tlIjogdHJ1ZSwgIndlaWdodCI6IDN9CiAgICAgICAgICAgICkuYWRkVG8obWFwX2ZmZjE4NTc1OTRiZjRhM2E4Mjc4ZjEyNTM2Y2NkNjM3KTsKICAgICAgICAKICAgIAogICAgICAgICAgICBjaXJjbGVfMzNhZWEzZTFkN2IyNGJkODgwMTE5YjI1N2IwZTA1N2EuYmluZFRvb2x0aXAoCiAgICAgICAgICAgICAgICBgPGRpdj4KICAgICAgICAgICAgICAgICAgICAgPGRpdiBzdHlsZT0nbWFyZ2luOiAwOyBiYWNrZ3JvdW5kLWNvbG9yOiBibGFjazsgY29sb3I6IHdoaXRlOyc+PGg0IHN0eWxlPSd0ZXh0LWFsaWduOmNlbnRlcjtmb250LXdlaWdodDogYm9sZCc+UndhbmRhPC9oND48aHIgc3R5bGU9J21hcmdpbjoxMHB4O2NvbG9yOiB3aGl0ZTsnPjx1bCBzdHlsZT0nY29sb3I6IHdoaXRlOztsaXN0LXN0eWxlLXR5cGU6Y2lyY2xlO2FsaWduLWl0ZW06bGVmdDtwYWRkaW5nLWxlZnQ6MjBweDtwYWRkaW5nLXJpZ2h0OjIwcHgnPjxsaT5Db25maXJtZWQ6IDI0OTwvbGk+PGxpPkRlYXRoczogICAwPC9saT48bGk+RGVhdGggUmF0ZTogMC4wPC9saT48L3VsPjwvZGl2PgogICAgICAgICAgICAgICAgIDwvZGl2PmAsCiAgICAgICAgICAgICAgICB7InN0aWNreSI6IHRydWV9CiAgICAgICAgICAgICk7CiAgICAgICAgCiAgICAKICAgICAgICAgICAgdmFyIGNpcmNsZV80MzQ2NzMxZmQ5YTg0NjQ0ODNlYjdkMWI0NjI4N2MwZiA9IEwuY2lyY2xlKAogICAgICAgICAgICAgICAgWzEzLjkwOTQsIC02MC45Nzg5XSwKICAgICAgICAgICAgICAgIHsiYnViYmxpbmdNb3VzZUV2ZW50cyI6IHRydWUsICJjb2xvciI6ICJyZWQiLCAiZGFzaEFycmF5IjogbnVsbCwgImRhc2hPZmZzZXQiOiBudWxsLCAiZmlsbCI6IHRydWUsICJmaWxsQ29sb3IiOiAiaW5kaWdvIiwgImZpbGxPcGFjaXR5IjogMC4yLCAiZmlsbFJ1bGUiOiAiZXZlbm9kZCIsICJsaW5lQ2FwIjogInJvdW5kIiwgImxpbmVKb2luIjogInJvdW5kIiwgIm9wYWNpdHkiOiAxLjAsICJyYWRpdXMiOiAxMTAwMDAuMDAwMDAwMDAwMDEsICJzdHJva2UiOiB0cnVlLCAid2VpZ2h0IjogM30KICAgICAgICAgICAgKS5hZGRUbyhtYXBfZmZmMTg1NzU5NGJmNGEzYTgyNzhmMTI1MzZjY2Q2MzcpOwogICAgICAgIAogICAgCiAgICAgICAgICAgIGNpcmNsZV80MzQ2NzMxZmQ5YTg0NjQ0ODNlYjdkMWI0NjI4N2MwZi5iaW5kVG9vbHRpcCgKICAgICAgICAgICAgICAgIGA8ZGl2PgogICAgICAgICAgICAgICAgICAgICA8ZGl2IHN0eWxlPSdtYXJnaW46IDA7IGJhY2tncm91bmQtY29sb3I6IGJsYWNrOyBjb2xvcjogd2hpdGU7Jz48aDQgc3R5bGU9J3RleHQtYWxpZ246Y2VudGVyO2ZvbnQtd2VpZ2h0OiBib2xkJz5TYWludCBMdWNpYTwvaDQ+PGhyIHN0eWxlPSdtYXJnaW46MTBweDtjb2xvcjogd2hpdGU7Jz48dWwgc3R5bGU9J2NvbG9yOiB3aGl0ZTs7bGlzdC1zdHlsZS10eXBlOmNpcmNsZTthbGlnbi1pdGVtOmxlZnQ7cGFkZGluZy1sZWZ0OjIwcHg7cGFkZGluZy1yaWdodDoyMHB4Jz48bGk+Q29uZmlybWVkOiAxNzwvbGk+PGxpPkRlYXRoczogICAwPC9saT48bGk+RGVhdGggUmF0ZTogMC4wPC9saT48L3VsPjwvZGl2PgogICAgICAgICAgICAgICAgIDwvZGl2PmAsCiAgICAgICAgICAgICAgICB7InN0aWNreSI6IHRydWV9CiAgICAgICAgICAgICk7CiAgICAgICAgCiAgICAKICAgICAgICAgICAgdmFyIGNpcmNsZV81ODJmMTQ0MjVkMjc0ZDlhOGUyMGFjZDg4YjUzNDM0ZiA9IEwuY2lyY2xlKAogICAgICAgICAgICAgICAgWzEyLjk4NDMsIC02MS4yODcyXSwKICAgICAgICAgICAgICAgIHsiYnViYmxpbmdNb3VzZUV2ZW50cyI6IHRydWUsICJjb2xvciI6ICJyZWQiLCAiZGFzaEFycmF5IjogbnVsbCwgImRhc2hPZmZzZXQiOiBudWxsLCAiZmlsbCI6IHRydWUsICJmaWxsQ29sb3IiOiAiaW5kaWdvIiwgImZpbGxPcGFjaXR5IjogMC4yLCAiZmlsbFJ1bGUiOiAiZXZlbm9kZCIsICJsaW5lQ2FwIjogInJvdW5kIiwgImxpbmVKb2luIjogInJvdW5kIiwgIm9wYWNpdHkiOiAxLjAsICJyYWRpdXMiOiAxMTAwMDAuMDAwMDAwMDAwMDEsICJzdHJva2UiOiB0cnVlLCAid2VpZ2h0IjogM30KICAgICAgICAgICAgKS5hZGRUbyhtYXBfZmZmMTg1NzU5NGJmNGEzYTgyNzhmMTI1MzZjY2Q2MzcpOwogICAgICAgIAogICAgCiAgICAgICAgICAgIGNpcmNsZV81ODJmMTQ0MjVkMjc0ZDlhOGUyMGFjZDg4YjUzNDM0Zi5iaW5kVG9vbHRpcCgKICAgICAgICAgICAgICAgIGA8ZGl2PgogICAgICAgICAgICAgICAgICAgICA8ZGl2IHN0eWxlPSdtYXJnaW46IDA7IGJhY2tncm91bmQtY29sb3I6IGJsYWNrOyBjb2xvcjogd2hpdGU7Jz48aDQgc3R5bGU9J3RleHQtYWxpZ246Y2VudGVyO2ZvbnQtd2VpZ2h0OiBib2xkJz5TYWludCBWaW5jZW50IGFuZCB0aGUgR3JlbmFkaW5lczwvaDQ+PGhyIHN0eWxlPSdtYXJnaW46MTBweDtjb2xvcjogd2hpdGU7Jz48dWwgc3R5bGU9J2NvbG9yOiB3aGl0ZTs7bGlzdC1zdHlsZS10eXBlOmNpcmNsZTthbGlnbi1pdGVtOmxlZnQ7cGFkZGluZy1sZWZ0OjIwcHg7cGFkZGluZy1yaWdodDoyMHB4Jz48bGk+Q29uZmlybWVkOiAxNjwvbGk+PGxpPkRlYXRoczogICAwPC9saT48bGk+RGVhdGggUmF0ZTogMC4wPC9saT48L3VsPjwvZGl2PgogICAgICAgICAgICAgICAgIDwvZGl2PmAsCiAgICAgICAgICAgICAgICB7InN0aWNreSI6IHRydWV9CiAgICAgICAgICAgICk7CiAgICAgICAgCiAgICAKICAgICAgICAgICAgdmFyIGNpcmNsZV9jMWRhYjJmOWIwYmM0M2VhYTgyYmU4MmQxMWM3ZDYwMSA9IEwuY2lyY2xlKAogICAgICAgICAgICAgICAgWzQzLjk0MjQsIDEyLjQ1NzhdLAogICAgICAgICAgICAgICAgeyJidWJibGluZ01vdXNlRXZlbnRzIjogdHJ1ZSwgImNvbG9yIjogInJlZCIsICJkYXNoQXJyYXkiOiBudWxsLCAiZGFzaE9mZnNldCI6IG51bGwsICJmaWxsIjogdHJ1ZSwgImZpbGxDb2xvciI6ICJpbmRpZ28iLCAiZmlsbE9wYWNpdHkiOiAwLjIsICJmaWxsUnVsZSI6ICJldmVub2RkIiwgImxpbmVDYXAiOiAicm91bmQiLCAibGluZUpvaW4iOiAicm91bmQiLCAib3BhY2l0eSI6IDEuMCwgInJhZGl1cyI6IDMxMDAwMC4wLCAic3Ryb2tlIjogdHJ1ZSwgIndlaWdodCI6IDN9CiAgICAgICAgICAgICkuYWRkVG8obWFwX2ZmZjE4NTc1OTRiZjRhM2E4Mjc4ZjEyNTM2Y2NkNjM3KTsKICAgICAgICAKICAgIAogICAgICAgICAgICBjaXJjbGVfYzFkYWIyZjliMGJjNDNlYWE4MmJlODJkMTFjN2Q2MDEuYmluZFRvb2x0aXAoCiAgICAgICAgICAgICAgICBgPGRpdj4KICAgICAgICAgICAgICAgICAgICAgPGRpdiBzdHlsZT0nbWFyZ2luOiAwOyBiYWNrZ3JvdW5kLWNvbG9yOiBibGFjazsgY29sb3I6IHdoaXRlOyc+PGg0IHN0eWxlPSd0ZXh0LWFsaWduOmNlbnRlcjtmb250LXdlaWdodDogYm9sZCc+U2FuIE1hcmlubzwvaDQ+PGhyIHN0eWxlPSdtYXJnaW46MTBweDtjb2xvcjogd2hpdGU7Jz48dWwgc3R5bGU9J2NvbG9yOiB3aGl0ZTs7bGlzdC1zdHlsZS10eXBlOmNpcmNsZTthbGlnbi1pdGVtOmxlZnQ7cGFkZGluZy1sZWZ0OjIwcHg7cGFkZGluZy1yaWdodDoyMHB4Jz48bGk+Q29uZmlybWVkOiA1ODA8L2xpPjxsaT5EZWF0aHM6ICAgNDE8L2xpPjxsaT5EZWF0aCBSYXRlOiA3LjA2PC9saT48L3VsPjwvZGl2PgogICAgICAgICAgICAgICAgIDwvZGl2PmAsCiAgICAgICAgICAgICAgICB7InN0aWNreSI6IHRydWV9CiAgICAgICAgICAgICk7CiAgICAgICAgCiAgICAKICAgICAgICAgICAgdmFyIGNpcmNsZV9iZTI4YzVkMjU4ZmM0Yzc2ODgxYWI0NDhkMTU4ZDIzMiA9IEwuY2lyY2xlKAogICAgICAgICAgICAgICAgWzI0LjAsIDQ1LjBdLAogICAgICAgICAgICAgICAgeyJidWJibGluZ01vdXNlRXZlbnRzIjogdHJ1ZSwgImNvbG9yIjogInJlZCIsICJkYXNoQXJyYXkiOiBudWxsLCAiZGFzaE9mZnNldCI6IG51bGwsICJmaWxsIjogdHJ1ZSwgImZpbGxDb2xvciI6ICJpbmRpZ28iLCAiZmlsbE9wYWNpdHkiOiAwLjIsICJmaWxsUnVsZSI6ICJldmVub2RkIiwgImxpbmVDYXAiOiAicm91bmQiLCAibGluZUpvaW4iOiAicm91bmQiLCAib3BhY2l0eSI6IDEuMCwgInJhZGl1cyI6IDUwOTk5OS45OTk5OTk5OTk5NCwgInN0cm9rZSI6IHRydWUsICJ3ZWlnaHQiOiAzfQogICAgICAgICAgICApLmFkZFRvKG1hcF9mZmYxODU3NTk0YmY0YTNhODI3OGYxMjUzNmNjZDYzNyk7CiAgICAgICAgCiAgICAKICAgICAgICAgICAgY2lyY2xlX2JlMjhjNWQyNThmYzRjNzY4ODFhYjQ0OGQxNThkMjMyLmJpbmRUb29sdGlwKAogICAgICAgICAgICAgICAgYDxkaXY+CiAgICAgICAgICAgICAgICAgICAgIDxkaXYgc3R5bGU9J21hcmdpbjogMDsgYmFja2dyb3VuZC1jb2xvcjogYmxhY2s7IGNvbG9yOiB3aGl0ZTsnPjxoNCBzdHlsZT0ndGV4dC1hbGlnbjpjZW50ZXI7Zm9udC13ZWlnaHQ6IGJvbGQnPlNhdWRpIEFyYWJpYTwvaDQ+PGhyIHN0eWxlPSdtYXJnaW46MTBweDtjb2xvcjogd2hpdGU7Jz48dWwgc3R5bGU9J2NvbG9yOiB3aGl0ZTs7bGlzdC1zdHlsZS10eXBlOmNpcmNsZTthbGlnbi1pdGVtOmxlZnQ7cGFkZGluZy1sZWZ0OjIwcHg7cGFkZGluZy1yaWdodDoyMHB4Jz48bGk+Q29uZmlybWVkOiAyNDA5NzwvbGk+PGxpPkRlYXRoczogICAxNjk8L2xpPjxsaT5EZWF0aCBSYXRlOiAwLjc8L2xpPjwvdWw+PC9kaXY+CiAgICAgICAgICAgICAgICAgPC9kaXY+YCwKICAgICAgICAgICAgICAgIHsic3RpY2t5IjogdHJ1ZX0KICAgICAgICAgICAgKTsKICAgICAgICAKICAgIAogICAgICAgICAgICB2YXIgY2lyY2xlXzYzMjRkYTM0ODFiMjQxZWRhNmQxYjM5NTFmZTYwNmQ4ID0gTC5jaXJjbGUoCiAgICAgICAgICAgICAgICBbMTQuNDk3NCwgLTE0LjQ1MjRdLAogICAgICAgICAgICAgICAgeyJidWJibGluZ01vdXNlRXZlbnRzIjogdHJ1ZSwgImNvbG9yIjogInJlZCIsICJkYXNoQXJyYXkiOiBudWxsLCAiZGFzaE9mZnNldCI6IG51bGwsICJmaWxsIjogdHJ1ZSwgImZpbGxDb2xvciI6ICJpbmRpZ28iLCAiZmlsbE9wYWNpdHkiOiAwLjIsICJmaWxsUnVsZSI6ICJldmVub2RkIiwgImxpbmVDYXAiOiAicm91bmQiLCAibGluZUpvaW4iOiAicm91bmQiLCAib3BhY2l0eSI6IDEuMCwgInJhZGl1cyI6IDMxMDAwMC4wLCAic3Ryb2tlIjogdHJ1ZSwgIndlaWdodCI6IDN9CiAgICAgICAgICAgICkuYWRkVG8obWFwX2ZmZjE4NTc1OTRiZjRhM2E4Mjc4ZjEyNTM2Y2NkNjM3KTsKICAgICAgICAKICAgIAogICAgICAgICAgICBjaXJjbGVfNjMyNGRhMzQ4MWIyNDFlZGE2ZDFiMzk1MWZlNjA2ZDguYmluZFRvb2x0aXAoCiAgICAgICAgICAgICAgICBgPGRpdj4KICAgICAgICAgICAgICAgICAgICAgPGRpdiBzdHlsZT0nbWFyZ2luOiAwOyBiYWNrZ3JvdW5kLWNvbG9yOiBibGFjazsgY29sb3I6IHdoaXRlOyc+PGg0IHN0eWxlPSd0ZXh0LWFsaWduOmNlbnRlcjtmb250LXdlaWdodDogYm9sZCc+U2VuZWdhbDwvaDQ+PGhyIHN0eWxlPSdtYXJnaW46MTBweDtjb2xvcjogd2hpdGU7Jz48dWwgc3R5bGU9J2NvbG9yOiB3aGl0ZTs7bGlzdC1zdHlsZS10eXBlOmNpcmNsZTthbGlnbi1pdGVtOmxlZnQ7cGFkZGluZy1sZWZ0OjIwcHg7cGFkZGluZy1yaWdodDoyMHB4Jz48bGk+Q29uZmlybWVkOiAxMDI0PC9saT48bGk+RGVhdGhzOiAgIDk8L2xpPjxsaT5EZWF0aCBSYXRlOiAwLjg4PC9saT48L3VsPjwvZGl2PgogICAgICAgICAgICAgICAgIDwvZGl2PmAsCiAgICAgICAgICAgICAgICB7InN0aWNreSI6IHRydWV9CiAgICAgICAgICAgICk7CiAgICAgICAgCiAgICAKICAgICAgICAgICAgdmFyIGNpcmNsZV8xMDdlYmIxNWJhYWI0MjRmYmZjNjcxMGYzMDlmZDcxMiA9IEwuY2lyY2xlKAogICAgICAgICAgICAgICAgWzQ0LjAxNjUsIDIxLjAwNTldLAogICAgICAgICAgICAgICAgeyJidWJibGluZ01vdXNlRXZlbnRzIjogdHJ1ZSwgImNvbG9yIjogInJlZCIsICJkYXNoQXJyYXkiOiBudWxsLCAiZGFzaE9mZnNldCI6IG51bGwsICJmaWxsIjogdHJ1ZSwgImZpbGxDb2xvciI6ICJpbmRpZ28iLCAiZmlsbE9wYWNpdHkiOiAwLjIsICJmaWxsUnVsZSI6ICJldmVub2RkIiwgImxpbmVDYXAiOiAicm91bmQiLCAibGluZUpvaW4iOiAicm91bmQiLCAib3BhY2l0eSI6IDEuMCwgInJhZGl1cyI6IDQ1OTk5OS45OTk5OTk5OTk5NCwgInN0cm9rZSI6IHRydWUsICJ3ZWlnaHQiOiAzfQogICAgICAgICAgICApLmFkZFRvKG1hcF9mZmYxODU3NTk0YmY0YTNhODI3OGYxMjUzNmNjZDYzNyk7CiAgICAgICAgCiAgICAKICAgICAgICAgICAgY2lyY2xlXzEwN2ViYjE1YmFhYjQyNGZiZmM2NzEwZjMwOWZkNzEyLmJpbmRUb29sdGlwKAogICAgICAgICAgICAgICAgYDxkaXY+CiAgICAgICAgICAgICAgICAgICAgIDxkaXYgc3R5bGU9J21hcmdpbjogMDsgYmFja2dyb3VuZC1jb2xvcjogYmxhY2s7IGNvbG9yOiB3aGl0ZTsnPjxoNCBzdHlsZT0ndGV4dC1hbGlnbjpjZW50ZXI7Zm9udC13ZWlnaHQ6IGJvbGQnPlNlcmJpYTwvaDQ+PGhyIHN0eWxlPSdtYXJnaW46MTBweDtjb2xvcjogd2hpdGU7Jz48dWwgc3R5bGU9J2NvbG9yOiB3aGl0ZTs7bGlzdC1zdHlsZS10eXBlOmNpcmNsZTthbGlnbi1pdGVtOmxlZnQ7cGFkZGluZy1sZWZ0OjIwcHg7cGFkZGluZy1yaWdodDoyMHB4Jz48bGk+Q29uZmlybWVkOiA5MDA5PC9saT48bGk+RGVhdGhzOiAgIDE3OTwvbGk+PGxpPkRlYXRoIFJhdGU6IDEuOTk8L2xpPjwvdWw+PC9kaXY+CiAgICAgICAgICAgICAgICAgPC9kaXY+YCwKICAgICAgICAgICAgICAgIHsic3RpY2t5IjogdHJ1ZX0KICAgICAgICAgICAgKTsKICAgICAgICAKICAgIAogICAgICAgICAgICB2YXIgY2lyY2xlXzE5YjBkYjg4MDQ1YjQxMjZhM2RhNzA5NzIxOTNlODEzID0gTC5jaXJjbGUoCiAgICAgICAgICAgICAgICBbLTQuNjc5NiwgNTUuNDkyXSwKICAgICAgICAgICAgICAgIHsiYnViYmxpbmdNb3VzZUV2ZW50cyI6IHRydWUsICJjb2xvciI6ICJyZWQiLCAiZGFzaEFycmF5IjogbnVsbCwgImRhc2hPZmZzZXQiOiBudWxsLCAiZmlsbCI6IHRydWUsICJmaWxsQ29sb3IiOiAiaW5kaWdvIiwgImZpbGxPcGFjaXR5IjogMC4yLCAiZmlsbFJ1bGUiOiAiZXZlbm9kZCIsICJsaW5lQ2FwIjogInJvdW5kIiwgImxpbmVKb2luIjogInJvdW5kIiwgIm9wYWNpdHkiOiAxLjAsICJyYWRpdXMiOiAxMTAwMDAuMDAwMDAwMDAwMDEsICJzdHJva2UiOiB0cnVlLCAid2VpZ2h0IjogM30KICAgICAgICAgICAgKS5hZGRUbyhtYXBfZmZmMTg1NzU5NGJmNGEzYTgyNzhmMTI1MzZjY2Q2MzcpOwogICAgICAgIAogICAgCiAgICAgICAgICAgIGNpcmNsZV8xOWIwZGI4ODA0NWI0MTI2YTNkYTcwOTcyMTkzZTgxMy5iaW5kVG9vbHRpcCgKICAgICAgICAgICAgICAgIGA8ZGl2PgogICAgICAgICAgICAgICAgICAgICA8ZGl2IHN0eWxlPSdtYXJnaW46IDA7IGJhY2tncm91bmQtY29sb3I6IGJsYWNrOyBjb2xvcjogd2hpdGU7Jz48aDQgc3R5bGU9J3RleHQtYWxpZ246Y2VudGVyO2ZvbnQtd2VpZ2h0OiBib2xkJz5TZXljaGVsbGVzPC9oND48aHIgc3R5bGU9J21hcmdpbjoxMHB4O2NvbG9yOiB3aGl0ZTsnPjx1bCBzdHlsZT0nY29sb3I6IHdoaXRlOztsaXN0LXN0eWxlLXR5cGU6Y2lyY2xlO2FsaWduLWl0ZW06bGVmdDtwYWRkaW5nLWxlZnQ6MjBweDtwYWRkaW5nLXJpZ2h0OjIwcHgnPjxsaT5Db25maXJtZWQ6IDExPC9saT48bGk+RGVhdGhzOiAgIDA8L2xpPjxsaT5EZWF0aCBSYXRlOiAwLjA8L2xpPjwvdWw+PC9kaXY+CiAgICAgICAgICAgICAgICAgPC9kaXY+YCwKICAgICAgICAgICAgICAgIHsic3RpY2t5IjogdHJ1ZX0KICAgICAgICAgICAgKTsKICAgICAgICAKICAgIAogICAgICAgICAgICB2YXIgY2lyY2xlXzlkMzI3MmY0ZTc2OTRhOTE5ZDYwZjg0YmE3NTAzZGEyID0gTC5jaXJjbGUoCiAgICAgICAgICAgICAgICBbMS4yODMzLCAxMDMuODMzM10sCiAgICAgICAgICAgICAgICB7ImJ1YmJsaW5nTW91c2VFdmVudHMiOiB0cnVlLCAiY29sb3IiOiAicmVkIiwgImRhc2hBcnJheSI6IG51bGwsICJkYXNoT2Zmc2V0IjogbnVsbCwgImZpbGwiOiB0cnVlLCAiZmlsbENvbG9yIjogImluZGlnbyIsICJmaWxsT3BhY2l0eSI6IDAuMiwgImZpbGxSdWxlIjogImV2ZW5vZGQiLCAibGluZUNhcCI6ICJyb3VuZCIsICJsaW5lSm9pbiI6ICJyb3VuZCIsICJvcGFjaXR5IjogMS4wLCAicmFkaXVzIjogNDU5OTk5Ljk5OTk5OTk5OTk0LCAic3Ryb2tlIjogdHJ1ZSwgIndlaWdodCI6IDN9CiAgICAgICAgICAgICkuYWRkVG8obWFwX2ZmZjE4NTc1OTRiZjRhM2E4Mjc4ZjEyNTM2Y2NkNjM3KTsKICAgICAgICAKICAgIAogICAgICAgICAgICBjaXJjbGVfOWQzMjcyZjRlNzY5NGE5MTlkNjBmODRiYTc1MDNkYTIuYmluZFRvb2x0aXAoCiAgICAgICAgICAgICAgICBgPGRpdj4KICAgICAgICAgICAgICAgICAgICAgPGRpdiBzdHlsZT0nbWFyZ2luOiAwOyBiYWNrZ3JvdW5kLWNvbG9yOiBibGFjazsgY29sb3I6IHdoaXRlOyc+PGg0IHN0eWxlPSd0ZXh0LWFsaWduOmNlbnRlcjtmb250LXdlaWdodDogYm9sZCc+U2luZ2Fwb3JlPC9oND48aHIgc3R5bGU9J21hcmdpbjoxMHB4O2NvbG9yOiB3aGl0ZTsnPjx1bCBzdHlsZT0nY29sb3I6IHdoaXRlOztsaXN0LXN0eWxlLXR5cGU6Y2lyY2xlO2FsaWduLWl0ZW06bGVmdDtwYWRkaW5nLWxlZnQ6MjBweDtwYWRkaW5nLXJpZ2h0OjIwcHgnPjxsaT5Db25maXJtZWQ6IDE3MTAxPC9saT48bGk+RGVhdGhzOiAgIDE2PC9saT48bGk+RGVhdGggUmF0ZTogMC4wOTwvbGk+PC91bD48L2Rpdj4KICAgICAgICAgICAgICAgICA8L2Rpdj5gLAogICAgICAgICAgICAgICAgeyJzdGlja3kiOiB0cnVlfQogICAgICAgICAgICApOwogICAgICAgIAogICAgCiAgICAgICAgICAgIHZhciBjaXJjbGVfYTdjOGNiZjQ3Y2UzNDA3OWI4Y2ZkYTYwMzEyYmUxYmYgPSBMLmNpcmNsZSgKICAgICAgICAgICAgICAgIFs0OC42NjksIDE5LjY5OV0sCiAgICAgICAgICAgICAgICB7ImJ1YmJsaW5nTW91c2VFdmVudHMiOiB0cnVlLCAiY29sb3IiOiAicmVkIiwgImRhc2hBcnJheSI6IG51bGwsICJkYXNoT2Zmc2V0IjogbnVsbCwgImZpbGwiOiB0cnVlLCAiZmlsbENvbG9yIjogImluZGlnbyIsICJmaWxsT3BhY2l0eSI6IDAuMiwgImZpbGxSdWxlIjogImV2ZW5vZGQiLCAibGluZUNhcCI6ICJyb3VuZCIsICJsaW5lSm9pbiI6ICJyb3VuZCIsICJvcGFjaXR5IjogMS4wLCAicmFkaXVzIjogMzYwMDAwLjAsICJzdHJva2UiOiB0cnVlLCAid2VpZ2h0IjogM30KICAgICAgICAgICAgKS5hZGRUbyhtYXBfZmZmMTg1NzU5NGJmNGEzYTgyNzhmMTI1MzZjY2Q2MzcpOwogICAgICAgIAogICAgCiAgICAgICAgICAgIGNpcmNsZV9hN2M4Y2JmNDdjZTM0MDc5YjhjZmRhNjAzMTJiZTFiZi5iaW5kVG9vbHRpcCgKICAgICAgICAgICAgICAgIGA8ZGl2PgogICAgICAgICAgICAgICAgICAgICA8ZGl2IHN0eWxlPSdtYXJnaW46IDA7IGJhY2tncm91bmQtY29sb3I6IGJsYWNrOyBjb2xvcjogd2hpdGU7Jz48aDQgc3R5bGU9J3RleHQtYWxpZ246Y2VudGVyO2ZvbnQtd2VpZ2h0OiBib2xkJz5TbG92YWtpYTwvaDQ+PGhyIHN0eWxlPSdtYXJnaW46MTBweDtjb2xvcjogd2hpdGU7Jz48dWwgc3R5bGU9J2NvbG9yOiB3aGl0ZTs7bGlzdC1zdHlsZS10eXBlOmNpcmNsZTthbGlnbi1pdGVtOmxlZnQ7cGFkZGluZy1sZWZ0OjIwcHg7cGFkZGluZy1yaWdodDoyMHB4Jz48bGk+Q29uZmlybWVkOiAxNDAzPC9saT48bGk+RGVhdGhzOiAgIDIzPC9saT48bGk+RGVhdGggUmF0ZTogMS42NDwvbGk+PC91bD48L2Rpdj4KICAgICAgICAgICAgICAgICA8L2Rpdj5gLAogICAgICAgICAgICAgICAgeyJzdGlja3kiOiB0cnVlfQogICAgICAgICAgICApOwogICAgICAgIAogICAgCiAgICAgICAgICAgIHZhciBjaXJjbGVfZjRkY2YzODJkMjQzNGE3NTg0NTZjMDZhZmMzODZlMmUgPSBMLmNpcmNsZSgKICAgICAgICAgICAgICAgIFs0Ni4xNTEyLCAxNC45OTU1XSwKICAgICAgICAgICAgICAgIHsiYnViYmxpbmdNb3VzZUV2ZW50cyI6IHRydWUsICJjb2xvciI6ICJyZWQiLCAiZGFzaEFycmF5IjogbnVsbCwgImRhc2hPZmZzZXQiOiBudWxsLCAiZmlsbCI6IHRydWUsICJmaWxsQ29sb3IiOiAiaW5kaWdvIiwgImZpbGxPcGFjaXR5IjogMC4yLCAiZmlsbFJ1bGUiOiAiZXZlbm9kZCIsICJsaW5lQ2FwIjogInJvdW5kIiwgImxpbmVKb2luIjogInJvdW5kIiwgIm9wYWNpdHkiOiAxLjAsICJyYWRpdXMiOiAzNjAwMDAuMCwgInN0cm9rZSI6IHRydWUsICJ3ZWlnaHQiOiAzfQogICAgICAgICAgICApLmFkZFRvKG1hcF9mZmYxODU3NTk0YmY0YTNhODI3OGYxMjUzNmNjZDYzNyk7CiAgICAgICAgCiAgICAKICAgICAgICAgICAgY2lyY2xlX2Y0ZGNmMzgyZDI0MzRhNzU4NDU2YzA2YWZjMzg2ZTJlLmJpbmRUb29sdGlwKAogICAgICAgICAgICAgICAgYDxkaXY+CiAgICAgICAgICAgICAgICAgICAgIDxkaXYgc3R5bGU9J21hcmdpbjogMDsgYmFja2dyb3VuZC1jb2xvcjogYmxhY2s7IGNvbG9yOiB3aGl0ZTsnPjxoNCBzdHlsZT0ndGV4dC1hbGlnbjpjZW50ZXI7Zm9udC13ZWlnaHQ6IGJvbGQnPlNsb3ZlbmlhPC9oND48aHIgc3R5bGU9J21hcmdpbjoxMHB4O2NvbG9yOiB3aGl0ZTsnPjx1bCBzdHlsZT0nY29sb3I6IHdoaXRlOztsaXN0LXN0eWxlLXR5cGU6Y2lyY2xlO2FsaWduLWl0ZW06bGVmdDtwYWRkaW5nLWxlZnQ6MjBweDtwYWRkaW5nLXJpZ2h0OjIwcHgnPjxsaT5Db25maXJtZWQ6IDE0MzQ8L2xpPjxsaT5EZWF0aHM6ICAgOTI8L2xpPjxsaT5EZWF0aCBSYXRlOiA2LjQxPC9saT48L3VsPjwvZGl2PgogICAgICAgICAgICAgICAgIDwvZGl2PmAsCiAgICAgICAgICAgICAgICB7InN0aWNreSI6IHRydWV9CiAgICAgICAgICAgICk7CiAgICAgICAgCiAgICAKICAgICAgICAgICAgdmFyIGNpcmNsZV9kNWRlMDA0NzZhYzU0ZTU3YjhhMWJmNzM3ZWUzODM4NiA9IEwuY2lyY2xlKAogICAgICAgICAgICAgICAgWzUuMTUyMSwgNDYuMTk5Nl0sCiAgICAgICAgICAgICAgICB7ImJ1YmJsaW5nTW91c2VFdmVudHMiOiB0cnVlLCAiY29sb3IiOiAicmVkIiwgImRhc2hBcnJheSI6IG51bGwsICJkYXNoT2Zmc2V0IjogbnVsbCwgImZpbGwiOiB0cnVlLCAiZmlsbENvbG9yIjogImluZGlnbyIsICJmaWxsT3BhY2l0eSI6IDAuMiwgImZpbGxSdWxlIjogImV2ZW5vZGQiLCAibGluZUNhcCI6ICJyb3VuZCIsICJsaW5lSm9pbiI6ICJyb3VuZCIsICJvcGFjaXR5IjogMS4wLCAicmFkaXVzIjogMzEwMDAwLjAsICJzdHJva2UiOiB0cnVlLCAid2VpZ2h0IjogM30KICAgICAgICAgICAgKS5hZGRUbyhtYXBfZmZmMTg1NzU5NGJmNGEzYTgyNzhmMTI1MzZjY2Q2MzcpOwogICAgICAgIAogICAgCiAgICAgICAgICAgIGNpcmNsZV9kNWRlMDA0NzZhYzU0ZTU3YjhhMWJmNzM3ZWUzODM4Ni5iaW5kVG9vbHRpcCgKICAgICAgICAgICAgICAgIGA8ZGl2PgogICAgICAgICAgICAgICAgICAgICA8ZGl2IHN0eWxlPSdtYXJnaW46IDA7IGJhY2tncm91bmQtY29sb3I6IGJsYWNrOyBjb2xvcjogd2hpdGU7Jz48aDQgc3R5bGU9J3RleHQtYWxpZ246Y2VudGVyO2ZvbnQtd2VpZ2h0OiBib2xkJz5Tb21hbGlhPC9oND48aHIgc3R5bGU9J21hcmdpbjoxMHB4O2NvbG9yOiB3aGl0ZTsnPjx1bCBzdHlsZT0nY29sb3I6IHdoaXRlOztsaXN0LXN0eWxlLXR5cGU6Y2lyY2xlO2FsaWduLWl0ZW06bGVmdDtwYWRkaW5nLWxlZnQ6MjBweDtwYWRkaW5nLXJpZ2h0OjIwcHgnPjxsaT5Db25maXJtZWQ6IDYwMTwvbGk+PGxpPkRlYXRoczogICAyODwvbGk+PGxpPkRlYXRoIFJhdGU6IDQuNjU8L2xpPjwvdWw+PC9kaXY+CiAgICAgICAgICAgICAgICAgPC9kaXY+YCwKICAgICAgICAgICAgICAgIHsic3RpY2t5IjogdHJ1ZX0KICAgICAgICAgICAgKTsKICAgICAgICAKICAgIAogICAgICAgICAgICB2YXIgY2lyY2xlX2FmMmUyMzJhYzZjNTRhOGE5YjcxM2IwN2U0MTYzZmNlID0gTC5jaXJjbGUoCiAgICAgICAgICAgICAgICBbLTMwLjU1OTUsIDIyLjkzNzVdLAogICAgICAgICAgICAgICAgeyJidWJibGluZ01vdXNlRXZlbnRzIjogdHJ1ZSwgImNvbG9yIjogInJlZCIsICJkYXNoQXJyYXkiOiBudWxsLCAiZGFzaE9mZnNldCI6IG51bGwsICJmaWxsIjogdHJ1ZSwgImZpbGxDb2xvciI6ICJpbmRpZ28iLCAiZmlsbE9wYWNpdHkiOiAwLjIsICJmaWxsUnVsZSI6ICJldmVub2RkIiwgImxpbmVDYXAiOiAicm91bmQiLCAibGluZUpvaW4iOiAicm91bmQiLCAib3BhY2l0eSI6IDEuMCwgInJhZGl1cyI6IDQwOTk5OS45OTk5OTk5OTk5NCwgInN0cm9rZSI6IHRydWUsICJ3ZWlnaHQiOiAzfQogICAgICAgICAgICApLmFkZFRvKG1hcF9mZmYxODU3NTk0YmY0YTNhODI3OGYxMjUzNmNjZDYzNyk7CiAgICAgICAgCiAgICAKICAgICAgICAgICAgY2lyY2xlX2FmMmUyMzJhYzZjNTRhOGE5YjcxM2IwN2U0MTYzZmNlLmJpbmRUb29sdGlwKAogICAgICAgICAgICAgICAgYDxkaXY+CiAgICAgICAgICAgICAgICAgICAgIDxkaXYgc3R5bGU9J21hcmdpbjogMDsgYmFja2dyb3VuZC1jb2xvcjogYmxhY2s7IGNvbG9yOiB3aGl0ZTsnPjxoNCBzdHlsZT0ndGV4dC1hbGlnbjpjZW50ZXI7Zm9udC13ZWlnaHQ6IGJvbGQnPlNvdXRoIEFmcmljYTwvaDQ+PGhyIHN0eWxlPSdtYXJnaW46MTBweDtjb2xvcjogd2hpdGU7Jz48dWwgc3R5bGU9J2NvbG9yOiB3aGl0ZTs7bGlzdC1zdHlsZS10eXBlOmNpcmNsZTthbGlnbi1pdGVtOmxlZnQ7cGFkZGluZy1sZWZ0OjIwcHg7cGFkZGluZy1yaWdodDoyMHB4Jz48bGk+Q29uZmlybWVkOiA1OTUxPC9saT48bGk+RGVhdGhzOiAgIDExNjwvbGk+PGxpPkRlYXRoIFJhdGU6IDEuOTU8L2xpPjwvdWw+PC9kaXY+CiAgICAgICAgICAgICAgICAgPC9kaXY+YCwKICAgICAgICAgICAgICAgIHsic3RpY2t5IjogdHJ1ZX0KICAgICAgICAgICAgKTsKICAgICAgICAKICAgIAogICAgICAgICAgICB2YXIgY2lyY2xlXzRhODM2N2FmZTAzYTQxYWZiMDdlMmIwZDY5ODE1ZWQzID0gTC5jaXJjbGUoCiAgICAgICAgICAgICAgICBbNDAuMCwgLTQuMF0sCiAgICAgICAgICAgICAgICB7ImJ1YmJsaW5nTW91c2VFdmVudHMiOiB0cnVlLCAiY29sb3IiOiAicmVkIiwgImRhc2hBcnJheSI6IG51bGwsICJkYXNoT2Zmc2V0IjogbnVsbCwgImZpbGwiOiB0cnVlLCAiZmlsbENvbG9yIjogImluZGlnbyIsICJmaWxsT3BhY2l0eSI6IDAuMiwgImZpbGxSdWxlIjogImV2ZW5vZGQiLCAibGluZUNhcCI6ICJyb3VuZCIsICJsaW5lSm9pbiI6ICJyb3VuZCIsICJvcGFjaXR5IjogMS4wLCAicmFkaXVzIjogNjEwMDAwLjAsICJzdHJva2UiOiB0cnVlLCAid2VpZ2h0IjogM30KICAgICAgICAgICAgKS5hZGRUbyhtYXBfZmZmMTg1NzU5NGJmNGEzYTgyNzhmMTI1MzZjY2Q2MzcpOwogICAgICAgIAogICAgCiAgICAgICAgICAgIGNpcmNsZV80YTgzNjdhZmUwM2E0MWFmYjA3ZTJiMGQ2OTgxNWVkMy5iaW5kVG9vbHRpcCgKICAgICAgICAgICAgICAgIGA8ZGl2PgogICAgICAgICAgICAgICAgICAgICA8ZGl2IHN0eWxlPSdtYXJnaW46IDA7IGJhY2tncm91bmQtY29sb3I6IGJsYWNrOyBjb2xvcjogd2hpdGU7Jz48aDQgc3R5bGU9J3RleHQtYWxpZ246Y2VudGVyO2ZvbnQtd2VpZ2h0OiBib2xkJz5TcGFpbjwvaDQ+PGhyIHN0eWxlPSdtYXJnaW46MTBweDtjb2xvcjogd2hpdGU7Jz48dWwgc3R5bGU9J2NvbG9yOiB3aGl0ZTs7bGlzdC1zdHlsZS10eXBlOmNpcmNsZTthbGlnbi1pdGVtOmxlZnQ7cGFkZGluZy1sZWZ0OjIwcHg7cGFkZGluZy1yaWdodDoyMHB4Jz48bGk+Q29uZmlybWVkOiAyMTM0MzU8L2xpPjxsaT5EZWF0aHM6ICAgMjQ1NDM8L2xpPjxsaT5EZWF0aCBSYXRlOiAxMS41PC9saT48L3VsPjwvZGl2PgogICAgICAgICAgICAgICAgIDwvZGl2PmAsCiAgICAgICAgICAgICAgICB7InN0aWNreSI6IHRydWV9CiAgICAgICAgICAgICk7CiAgICAgICAgCiAgICAKICAgICAgICAgICAgdmFyIGNpcmNsZV8wNDcyNTY1MWE1YTY0ZjljYTgzZTQ2MTA5NTI5NTNlZSA9IEwuY2lyY2xlKAogICAgICAgICAgICAgICAgWzcuMCwgODEuMF0sCiAgICAgICAgICAgICAgICB7ImJ1YmJsaW5nTW91c2VFdmVudHMiOiB0cnVlLCAiY29sb3IiOiAicmVkIiwgImRhc2hBcnJheSI6IG51bGwsICJkYXNoT2Zmc2V0IjogbnVsbCwgImZpbGwiOiB0cnVlLCAiZmlsbENvbG9yIjogImluZGlnbyIsICJmaWxsT3BhY2l0eSI6IDAuMiwgImZpbGxSdWxlIjogImV2ZW5vZGQiLCAibGluZUNhcCI6ICJyb3VuZCIsICJsaW5lSm9pbiI6ICJyb3VuZCIsICJvcGFjaXR5IjogMS4wLCAicmFkaXVzIjogMzEwMDAwLjAsICJzdHJva2UiOiB0cnVlLCAid2VpZ2h0IjogM30KICAgICAgICAgICAgKS5hZGRUbyhtYXBfZmZmMTg1NzU5NGJmNGEzYTgyNzhmMTI1MzZjY2Q2MzcpOwogICAgICAgIAogICAgCiAgICAgICAgICAgIGNpcmNsZV8wNDcyNTY1MWE1YTY0ZjljYTgzZTQ2MTA5NTI5NTNlZS5iaW5kVG9vbHRpcCgKICAgICAgICAgICAgICAgIGA8ZGl2PgogICAgICAgICAgICAgICAgICAgICA8ZGl2IHN0eWxlPSdtYXJnaW46IDA7IGJhY2tncm91bmQtY29sb3I6IGJsYWNrOyBjb2xvcjogd2hpdGU7Jz48aDQgc3R5bGU9J3RleHQtYWxpZ246Y2VudGVyO2ZvbnQtd2VpZ2h0OiBib2xkJz5TcmkgTGFua2E8L2g0PjxociBzdHlsZT0nbWFyZ2luOjEwcHg7Y29sb3I6IHdoaXRlOyc+PHVsIHN0eWxlPSdjb2xvcjogd2hpdGU7O2xpc3Qtc3R5bGUtdHlwZTpjaXJjbGU7YWxpZ24taXRlbTpsZWZ0O3BhZGRpbmctbGVmdDoyMHB4O3BhZGRpbmctcmlnaHQ6MjBweCc+PGxpPkNvbmZpcm1lZDogNjkwPC9saT48bGk+RGVhdGhzOiAgIDc8L2xpPjxsaT5EZWF0aCBSYXRlOiAxLjAxPC9saT48L3VsPjwvZGl2PgogICAgICAgICAgICAgICAgIDwvZGl2PmAsCiAgICAgICAgICAgICAgICB7InN0aWNreSI6IHRydWV9CiAgICAgICAgICAgICk7CiAgICAgICAgCiAgICAKICAgICAgICAgICAgdmFyIGNpcmNsZV9iMWY4OWM2Y2M3NDc0YTE2YTQ5ZmVkZTMyZmFjOGQzZiA9IEwuY2lyY2xlKAogICAgICAgICAgICAgICAgWzEyLjg2MjgsIDMwLjIxNzZdLAogICAgICAgICAgICAgICAgeyJidWJibGluZ01vdXNlRXZlbnRzIjogdHJ1ZSwgImNvbG9yIjogInJlZCIsICJkYXNoQXJyYXkiOiBudWxsLCAiZGFzaE9mZnNldCI6IG51bGwsICJmaWxsIjogdHJ1ZSwgImZpbGxDb2xvciI6ICJpbmRpZ28iLCAiZmlsbE9wYWNpdHkiOiAwLjIsICJmaWxsUnVsZSI6ICJldmVub2RkIiwgImxpbmVDYXAiOiAicm91bmQiLCAibGluZUpvaW4iOiAicm91bmQiLCAib3BhY2l0eSI6IDEuMCwgInJhZGl1cyI6IDMxMDAwMC4wLCAic3Ryb2tlIjogdHJ1ZSwgIndlaWdodCI6IDN9CiAgICAgICAgICAgICkuYWRkVG8obWFwX2ZmZjE4NTc1OTRiZjRhM2E4Mjc4ZjEyNTM2Y2NkNjM3KTsKICAgICAgICAKICAgIAogICAgICAgICAgICBjaXJjbGVfYjFmODljNmNjNzQ3NGExNmE0OWZlZGUzMmZhYzhkM2YuYmluZFRvb2x0aXAoCiAgICAgICAgICAgICAgICBgPGRpdj4KICAgICAgICAgICAgICAgICAgICAgPGRpdiBzdHlsZT0nbWFyZ2luOiAwOyBiYWNrZ3JvdW5kLWNvbG9yOiBibGFjazsgY29sb3I6IHdoaXRlOyc+PGg0IHN0eWxlPSd0ZXh0LWFsaWduOmNlbnRlcjtmb250LXdlaWdodDogYm9sZCc+U3VkYW48L2g0PjxociBzdHlsZT0nbWFyZ2luOjEwcHg7Y29sb3I6IHdoaXRlOyc+PHVsIHN0eWxlPSdjb2xvcjogd2hpdGU7O2xpc3Qtc3R5bGUtdHlwZTpjaXJjbGU7YWxpZ24taXRlbTpsZWZ0O3BhZGRpbmctbGVmdDoyMHB4O3BhZGRpbmctcmlnaHQ6MjBweCc+PGxpPkNvbmZpcm1lZDogNTMzPC9saT48bGk+RGVhdGhzOiAgIDM2PC9saT48bGk+RGVhdGggUmF0ZTogNi43NDwvbGk+PC91bD48L2Rpdj4KICAgICAgICAgICAgICAgICA8L2Rpdj5gLAogICAgICAgICAgICAgICAgeyJzdGlja3kiOiB0cnVlfQogICAgICAgICAgICApOwogICAgICAgIAogICAgCiAgICAgICAgICAgIHZhciBjaXJjbGVfNzFmNTFlZWZlZWM3NGNkMGJjNTY2ODhlOGU4YzgyNGMgPSBMLmNpcmNsZSgKICAgICAgICAgICAgICAgIFszLjkxOTMsIC01Ni4wMjc4XSwKICAgICAgICAgICAgICAgIHsiYnViYmxpbmdNb3VzZUV2ZW50cyI6IHRydWUsICJjb2xvciI6ICJyZWQiLCAiZGFzaEFycmF5IjogbnVsbCwgImRhc2hPZmZzZXQiOiBudWxsLCAiZmlsbCI6IHRydWUsICJmaWxsQ29sb3IiOiAiaW5kaWdvIiwgImZpbGxPcGFjaXR5IjogMC4yLCAiZmlsbFJ1bGUiOiAiZXZlbm9kZCIsICJsaW5lQ2FwIjogInJvdW5kIiwgImxpbmVKb2luIjogInJvdW5kIiwgIm9wYWNpdHkiOiAxLjAsICJyYWRpdXMiOiAxMTAwMDAuMDAwMDAwMDAwMDEsICJzdHJva2UiOiB0cnVlLCAid2VpZ2h0IjogM30KICAgICAgICAgICAgKS5hZGRUbyhtYXBfZmZmMTg1NzU5NGJmNGEzYTgyNzhmMTI1MzZjY2Q2MzcpOwogICAgICAgIAogICAgCiAgICAgICAgICAgIGNpcmNsZV83MWY1MWVlZmVlYzc0Y2QwYmM1NjY4OGU4ZThjODI0Yy5iaW5kVG9vbHRpcCgKICAgICAgICAgICAgICAgIGA8ZGl2PgogICAgICAgICAgICAgICAgICAgICA8ZGl2IHN0eWxlPSdtYXJnaW46IDA7IGJhY2tncm91bmQtY29sb3I6IGJsYWNrOyBjb2xvcjogd2hpdGU7Jz48aDQgc3R5bGU9J3RleHQtYWxpZ246Y2VudGVyO2ZvbnQtd2VpZ2h0OiBib2xkJz5TdXJpbmFtZTwvaDQ+PGhyIHN0eWxlPSdtYXJnaW46MTBweDtjb2xvcjogd2hpdGU7Jz48dWwgc3R5bGU9J2NvbG9yOiB3aGl0ZTs7bGlzdC1zdHlsZS10eXBlOmNpcmNsZTthbGlnbi1pdGVtOmxlZnQ7cGFkZGluZy1sZWZ0OjIwcHg7cGFkZGluZy1yaWdodDoyMHB4Jz48bGk+Q29uZmlybWVkOiAxMDwvbGk+PGxpPkRlYXRoczogICAxPC9saT48bGk+RGVhdGggUmF0ZTogOS4wOTwvbGk+PC91bD48L2Rpdj4KICAgICAgICAgICAgICAgICA8L2Rpdj5gLAogICAgICAgICAgICAgICAgeyJzdGlja3kiOiB0cnVlfQogICAgICAgICAgICApOwogICAgICAgIAogICAgCiAgICAgICAgICAgIHZhciBjaXJjbGVfMjcyZGY5MGQ5ZjMwNGY5NWJiZmIzYTM4OWFmMDI1ZDggPSBMLmNpcmNsZSgKICAgICAgICAgICAgICAgIFs2My4wLCAxNi4wXSwKICAgICAgICAgICAgICAgIHsiYnViYmxpbmdNb3VzZUV2ZW50cyI6IHRydWUsICJjb2xvciI6ICJyZWQiLCAiZGFzaEFycmF5IjogbnVsbCwgImRhc2hPZmZzZXQiOiBudWxsLCAiZmlsbCI6IHRydWUsICJmaWxsQ29sb3IiOiAiaW5kaWdvIiwgImZpbGxPcGFjaXR5IjogMC4yLCAiZmlsbFJ1bGUiOiAiZXZlbm9kZCIsICJsaW5lQ2FwIjogInJvdW5kIiwgImxpbmVKb2luIjogInJvdW5kIiwgIm9wYWNpdHkiOiAxLjAsICJyYWRpdXMiOiA0NTk5OTkuOTk5OTk5OTk5OTQsICJzdHJva2UiOiB0cnVlLCAid2VpZ2h0IjogM30KICAgICAgICAgICAgKS5hZGRUbyhtYXBfZmZmMTg1NzU5NGJmNGEzYTgyNzhmMTI1MzZjY2Q2MzcpOwogICAgICAgIAogICAgCiAgICAgICAgICAgIGNpcmNsZV8yNzJkZjkwZDlmMzA0Zjk1YmJmYjNhMzg5YWYwMjVkOC5iaW5kVG9vbHRpcCgKICAgICAgICAgICAgICAgIGA8ZGl2PgogICAgICAgICAgICAgICAgICAgICA8ZGl2IHN0eWxlPSdtYXJnaW46IDA7IGJhY2tncm91bmQtY29sb3I6IGJsYWNrOyBjb2xvcjogd2hpdGU7Jz48aDQgc3R5bGU9J3RleHQtYWxpZ246Y2VudGVyO2ZvbnQtd2VpZ2h0OiBib2xkJz5Td2VkZW48L2g0PjxociBzdHlsZT0nbWFyZ2luOjEwcHg7Y29sb3I6IHdoaXRlOyc+PHVsIHN0eWxlPSdjb2xvcjogd2hpdGU7O2xpc3Qtc3R5bGUtdHlwZTpjaXJjbGU7YWxpZ24taXRlbTpsZWZ0O3BhZGRpbmctbGVmdDoyMHB4O3BhZGRpbmctcmlnaHQ6MjBweCc+PGxpPkNvbmZpcm1lZDogMjE1MjA8L2xpPjxsaT5EZWF0aHM6ICAgMjY1MzwvbGk+PGxpPkRlYXRoIFJhdGU6IDEyLjMzPC9saT48L3VsPjwvZGl2PgogICAgICAgICAgICAgICAgIDwvZGl2PmAsCiAgICAgICAgICAgICAgICB7InN0aWNreSI6IHRydWV9CiAgICAgICAgICAgICk7CiAgICAgICAgCiAgICAKICAgICAgICAgICAgdmFyIGNpcmNsZV8zNjliZGVmMjRkMjM0NjNmYjgwZGVkYTg4NTU0Y2Q0NyA9IEwuY2lyY2xlKAogICAgICAgICAgICAgICAgWzQ2LjgxODIsIDguMjI3NV0sCiAgICAgICAgICAgICAgICB7ImJ1YmJsaW5nTW91c2VFdmVudHMiOiB0cnVlLCAiY29sb3IiOiAicmVkIiwgImRhc2hBcnJheSI6IG51bGwsICJkYXNoT2Zmc2V0IjogbnVsbCwgImZpbGwiOiB0cnVlLCAiZmlsbENvbG9yIjogImluZGlnbyIsICJmaWxsT3BhY2l0eSI6IDAuMiwgImZpbGxSdWxlIjogImV2ZW5vZGQiLCAibGluZUNhcCI6ICJyb3VuZCIsICJsaW5lSm9pbiI6ICJyb3VuZCIsICJvcGFjaXR5IjogMS4wLCAicmFkaXVzIjogNTA5OTk5Ljk5OTk5OTk5OTk0LCAic3Ryb2tlIjogdHJ1ZSwgIndlaWdodCI6IDN9CiAgICAgICAgICAgICkuYWRkVG8obWFwX2ZmZjE4NTc1OTRiZjRhM2E4Mjc4ZjEyNTM2Y2NkNjM3KTsKICAgICAgICAKICAgIAogICAgICAgICAgICBjaXJjbGVfMzY5YmRlZjI0ZDIzNDYzZmI4MGRlZGE4ODU1NGNkNDcuYmluZFRvb2x0aXAoCiAgICAgICAgICAgICAgICBgPGRpdj4KICAgICAgICAgICAgICAgICAgICAgPGRpdiBzdHlsZT0nbWFyZ2luOiAwOyBiYWNrZ3JvdW5kLWNvbG9yOiBibGFjazsgY29sb3I6IHdoaXRlOyc+PGg0IHN0eWxlPSd0ZXh0LWFsaWduOmNlbnRlcjtmb250LXdlaWdodDogYm9sZCc+U3dpdHplcmxhbmQ8L2g0PjxociBzdHlsZT0nbWFyZ2luOjEwcHg7Y29sb3I6IHdoaXRlOyc+PHVsIHN0eWxlPSdjb2xvcjogd2hpdGU7O2xpc3Qtc3R5bGUtdHlwZTpjaXJjbGU7YWxpZ24taXRlbTpsZWZ0O3BhZGRpbmctbGVmdDoyMHB4O3BhZGRpbmctcmlnaHQ6MjBweCc+PGxpPkNvbmZpcm1lZDogMjk3MDU8L2xpPjxsaT5EZWF0aHM6ICAgMTc1NDwvbGk+PGxpPkRlYXRoIFJhdGU6IDUuOTwvbGk+PC91bD48L2Rpdj4KICAgICAgICAgICAgICAgICA8L2Rpdj5gLAogICAgICAgICAgICAgICAgeyJzdGlja3kiOiB0cnVlfQogICAgICAgICAgICApOwogICAgICAgIAogICAgCiAgICAgICAgICAgIHZhciBjaXJjbGVfYmNlZDk2YzU0NzNlNDIyNDgwNTllMjdiZDg3YjBkZGIgPSBMLmNpcmNsZSgKICAgICAgICAgICAgICAgIFsyMy43LCAxMjEuMF0sCiAgICAgICAgICAgICAgICB7ImJ1YmJsaW5nTW91c2VFdmVudHMiOiB0cnVlLCAiY29sb3IiOiAicmVkIiwgImRhc2hBcnJheSI6IG51bGwsICJkYXNoT2Zmc2V0IjogbnVsbCwgImZpbGwiOiB0cnVlLCAiZmlsbENvbG9yIjogImluZGlnbyIsICJmaWxsT3BhY2l0eSI6IDAuMiwgImZpbGxSdWxlIjogImV2ZW5vZGQiLCAibGluZUNhcCI6ICJyb3VuZCIsICJsaW5lSm9pbiI6ICJyb3VuZCIsICJvcGFjaXR5IjogMS4wLCAicmFkaXVzIjogMzEwMDAwLjAsICJzdHJva2UiOiB0cnVlLCAid2VpZ2h0IjogM30KICAgICAgICAgICAgKS5hZGRUbyhtYXBfZmZmMTg1NzU5NGJmNGEzYTgyNzhmMTI1MzZjY2Q2MzcpOwogICAgICAgIAogICAgCiAgICAgICAgICAgIGNpcmNsZV9iY2VkOTZjNTQ3M2U0MjI0ODA1OWUyN2JkODdiMGRkYi5iaW5kVG9vbHRpcCgKICAgICAgICAgICAgICAgIGA8ZGl2PgogICAgICAgICAgICAgICAgICAgICA8ZGl2IHN0eWxlPSdtYXJnaW46IDA7IGJhY2tncm91bmQtY29sb3I6IGJsYWNrOyBjb2xvcjogd2hpdGU7Jz48aDQgc3R5bGU9J3RleHQtYWxpZ246Y2VudGVyO2ZvbnQtd2VpZ2h0OiBib2xkJz5UYWl3YW4qPC9oND48aHIgc3R5bGU9J21hcmdpbjoxMHB4O2NvbG9yOiB3aGl0ZTsnPjx1bCBzdHlsZT0nY29sb3I6IHdoaXRlOztsaXN0LXN0eWxlLXR5cGU6Y2lyY2xlO2FsaWduLWl0ZW06bGVmdDtwYWRkaW5nLWxlZnQ6MjBweDtwYWRkaW5nLXJpZ2h0OjIwcHgnPjxsaT5Db25maXJtZWQ6IDQyOTwvbGk+PGxpPkRlYXRoczogICA2PC9saT48bGk+RGVhdGggUmF0ZTogMS40PC9saT48L3VsPjwvZGl2PgogICAgICAgICAgICAgICAgIDwvZGl2PmAsCiAgICAgICAgICAgICAgICB7InN0aWNreSI6IHRydWV9CiAgICAgICAgICAgICk7CiAgICAgICAgCiAgICAKICAgICAgICAgICAgdmFyIGNpcmNsZV9kOWE0MmMyMzllNTU0YTg2YTZiZmQ1Y2EzMzRhNjhhMCA9IEwuY2lyY2xlKAogICAgICAgICAgICAgICAgWy02LjM2OSwgMzQuODg4OF0sCiAgICAgICAgICAgICAgICB7ImJ1YmJsaW5nTW91c2VFdmVudHMiOiB0cnVlLCAiY29sb3IiOiAicmVkIiwgImRhc2hBcnJheSI6IG51bGwsICJkYXNoT2Zmc2V0IjogbnVsbCwgImZpbGwiOiB0cnVlLCAiZmlsbENvbG9yIjogImluZGlnbyIsICJmaWxsT3BhY2l0eSI6IDAuMiwgImZpbGxSdWxlIjogImV2ZW5vZGQiLCAibGluZUNhcCI6ICJyb3VuZCIsICJsaW5lSm9pbiI6ICJyb3VuZCIsICJvcGFjaXR5IjogMS4wLCAicmFkaXVzIjogMzEwMDAwLjAsICJzdHJva2UiOiB0cnVlLCAid2VpZ2h0IjogM30KICAgICAgICAgICAgKS5hZGRUbyhtYXBfZmZmMTg1NzU5NGJmNGEzYTgyNzhmMTI1MzZjY2Q2MzcpOwogICAgICAgIAogICAgCiAgICAgICAgICAgIGNpcmNsZV9kOWE0MmMyMzllNTU0YTg2YTZiZmQ1Y2EzMzRhNjhhMC5iaW5kVG9vbHRpcCgKICAgICAgICAgICAgICAgIGA8ZGl2PgogICAgICAgICAgICAgICAgICAgICA8ZGl2IHN0eWxlPSdtYXJnaW46IDA7IGJhY2tncm91bmQtY29sb3I6IGJsYWNrOyBjb2xvcjogd2hpdGU7Jz48aDQgc3R5bGU9J3RleHQtYWxpZ246Y2VudGVyO2ZvbnQtd2VpZ2h0OiBib2xkJz5UYW56YW5pYTwvaDQ+PGhyIHN0eWxlPSdtYXJnaW46MTBweDtjb2xvcjogd2hpdGU7Jz48dWwgc3R5bGU9J2NvbG9yOiB3aGl0ZTs7bGlzdC1zdHlsZS10eXBlOmNpcmNsZTthbGlnbi1pdGVtOmxlZnQ7cGFkZGluZy1sZWZ0OjIwcHg7cGFkZGluZy1yaWdodDoyMHB4Jz48bGk+Q29uZmlybWVkOiA0ODA8L2xpPjxsaT5EZWF0aHM6ICAgMTY8L2xpPjxsaT5EZWF0aCBSYXRlOiAzLjMzPC9saT48L3VsPjwvZGl2PgogICAgICAgICAgICAgICAgIDwvZGl2PmAsCiAgICAgICAgICAgICAgICB7InN0aWNreSI6IHRydWV9CiAgICAgICAgICAgICk7CiAgICAgICAgCiAgICAKICAgICAgICAgICAgdmFyIGNpcmNsZV9hY2YyYzg4NWFiY2E0N2M2YmU1YTNjY2JhNzQ0MWZjNSA9IEwuY2lyY2xlKAogICAgICAgICAgICAgICAgWzE1LjAsIDEwMS4wXSwKICAgICAgICAgICAgICAgIHsiYnViYmxpbmdNb3VzZUV2ZW50cyI6IHRydWUsICJjb2xvciI6ICJyZWQiLCAiZGFzaEFycmF5IjogbnVsbCwgImRhc2hPZmZzZXQiOiBudWxsLCAiZmlsbCI6IHRydWUsICJmaWxsQ29sb3IiOiAiaW5kaWdvIiwgImZpbGxPcGFjaXR5IjogMC4yLCAiZmlsbFJ1bGUiOiAiZXZlbm9kZCIsICJsaW5lQ2FwIjogInJvdW5kIiwgImxpbmVKb2luIjogInJvdW5kIiwgIm9wYWNpdHkiOiAxLjAsICJyYWRpdXMiOiAzNjAwMDAuMCwgInN0cm9rZSI6IHRydWUsICJ3ZWlnaHQiOiAzfQogICAgICAgICAgICApLmFkZFRvKG1hcF9mZmYxODU3NTk0YmY0YTNhODI3OGYxMjUzNmNjZDYzNyk7CiAgICAgICAgCiAgICAKICAgICAgICAgICAgY2lyY2xlX2FjZjJjODg1YWJjYTQ3YzZiZTVhM2NjYmE3NDQxZmM1LmJpbmRUb29sdGlwKAogICAgICAgICAgICAgICAgYDxkaXY+CiAgICAgICAgICAgICAgICAgICAgIDxkaXYgc3R5bGU9J21hcmdpbjogMDsgYmFja2dyb3VuZC1jb2xvcjogYmxhY2s7IGNvbG9yOiB3aGl0ZTsnPjxoNCBzdHlsZT0ndGV4dC1hbGlnbjpjZW50ZXI7Zm9udC13ZWlnaHQ6IGJvbGQnPlRoYWlsYW5kPC9oND48aHIgc3R5bGU9J21hcmdpbjoxMHB4O2NvbG9yOiB3aGl0ZTsnPjx1bCBzdHlsZT0nY29sb3I6IHdoaXRlOztsaXN0LXN0eWxlLXR5cGU6Y2lyY2xlO2FsaWduLWl0ZW06bGVmdDtwYWRkaW5nLWxlZnQ6MjBweDtwYWRkaW5nLXJpZ2h0OjIwcHgnPjxsaT5Db25maXJtZWQ6IDI5NjA8L2xpPjxsaT5EZWF0aHM6ICAgNTQ8L2xpPjxsaT5EZWF0aCBSYXRlOiAxLjgyPC9saT48L3VsPjwvZGl2PgogICAgICAgICAgICAgICAgIDwvZGl2PmAsCiAgICAgICAgICAgICAgICB7InN0aWNreSI6IHRydWV9CiAgICAgICAgICAgICk7CiAgICAgICAgCiAgICAKICAgICAgICAgICAgdmFyIGNpcmNsZV82NGVhZDRhMGYxYTI0Yzg3OWU1NTI4MDQ5YTFiMmFlYyA9IEwuY2lyY2xlKAogICAgICAgICAgICAgICAgWzguNjE5NSwgMC44MjQ4XSwKICAgICAgICAgICAgICAgIHsiYnViYmxpbmdNb3VzZUV2ZW50cyI6IHRydWUsICJjb2xvciI6ICJyZWQiLCAiZGFzaEFycmF5IjogbnVsbCwgImRhc2hPZmZzZXQiOiBudWxsLCAiZmlsbCI6IHRydWUsICJmaWxsQ29sb3IiOiAiaW5kaWdvIiwgImZpbGxPcGFjaXR5IjogMC4yLCAiZmlsbFJ1bGUiOiAiZXZlbm9kZCIsICJsaW5lQ2FwIjogInJvdW5kIiwgImxpbmVKb2luIjogInJvdW5kIiwgIm9wYWNpdHkiOiAxLjAsICJyYWRpdXMiOiAyMTAwMDAuMCwgInN0cm9rZSI6IHRydWUsICJ3ZWlnaHQiOiAzfQogICAgICAgICAgICApLmFkZFRvKG1hcF9mZmYxODU3NTk0YmY0YTNhODI3OGYxMjUzNmNjZDYzNyk7CiAgICAgICAgCiAgICAKICAgICAgICAgICAgY2lyY2xlXzY0ZWFkNGEwZjFhMjRjODc5ZTU1MjgwNDlhMWIyYWVjLmJpbmRUb29sdGlwKAogICAgICAgICAgICAgICAgYDxkaXY+CiAgICAgICAgICAgICAgICAgICAgIDxkaXYgc3R5bGU9J21hcmdpbjogMDsgYmFja2dyb3VuZC1jb2xvcjogYmxhY2s7IGNvbG9yOiB3aGl0ZTsnPjxoNCBzdHlsZT0ndGV4dC1hbGlnbjpjZW50ZXI7Zm9udC13ZWlnaHQ6IGJvbGQnPlRvZ288L2g0PjxociBzdHlsZT0nbWFyZ2luOjEwcHg7Y29sb3I6IHdoaXRlOyc+PHVsIHN0eWxlPSdjb2xvcjogd2hpdGU7O2xpc3Qtc3R5bGUtdHlwZTpjaXJjbGU7YWxpZ24taXRlbTpsZWZ0O3BhZGRpbmctbGVmdDoyMHB4O3BhZGRpbmctcmlnaHQ6MjBweCc+PGxpPkNvbmZpcm1lZDogMTIzPC9saT48bGk+RGVhdGhzOiAgIDk8L2xpPjxsaT5EZWF0aCBSYXRlOiA3LjI2PC9saT48L3VsPjwvZGl2PgogICAgICAgICAgICAgICAgIDwvZGl2PmAsCiAgICAgICAgICAgICAgICB7InN0aWNreSI6IHRydWV9CiAgICAgICAgICAgICk7CiAgICAgICAgCiAgICAKICAgICAgICAgICAgdmFyIGNpcmNsZV9iZGExOTk2YjQ2OWY0ODdkYmY1NDIyOThmODRkNDc2YyA9IEwuY2lyY2xlKAogICAgICAgICAgICAgICAgWzEwLjY5MTgsIC02MS4yMjI1XSwKICAgICAgICAgICAgICAgIHsiYnViYmxpbmdNb3VzZUV2ZW50cyI6IHRydWUsICJjb2xvciI6ICJyZWQiLCAiZGFzaEFycmF5IjogbnVsbCwgImRhc2hPZmZzZXQiOiBudWxsLCAiZmlsbCI6IHRydWUsICJmaWxsQ29sb3IiOiAiaW5kaWdvIiwgImZpbGxPcGFjaXR5IjogMC4yLCAiZmlsbFJ1bGUiOiAiZXZlbm9kZCIsICJsaW5lQ2FwIjogInJvdW5kIiwgImxpbmVKb2luIjogInJvdW5kIiwgIm9wYWNpdHkiOiAxLjAsICJyYWRpdXMiOiAyMTAwMDAuMCwgInN0cm9rZSI6IHRydWUsICJ3ZWlnaHQiOiAzfQogICAgICAgICAgICApLmFkZFRvKG1hcF9mZmYxODU3NTk0YmY0YTNhODI3OGYxMjUzNmNjZDYzNyk7CiAgICAgICAgCiAgICAKICAgICAgICAgICAgY2lyY2xlX2JkYTE5OTZiNDY5ZjQ4N2RiZjU0MjI5OGY4NGQ0NzZjLmJpbmRUb29sdGlwKAogICAgICAgICAgICAgICAgYDxkaXY+CiAgICAgICAgICAgICAgICAgICAgIDxkaXYgc3R5bGU9J21hcmdpbjogMDsgYmFja2dyb3VuZC1jb2xvcjogYmxhY2s7IGNvbG9yOiB3aGl0ZTsnPjxoNCBzdHlsZT0ndGV4dC1hbGlnbjpjZW50ZXI7Zm9udC13ZWlnaHQ6IGJvbGQnPlRyaW5pZGFkIGFuZCBUb2JhZ288L2g0PjxociBzdHlsZT0nbWFyZ2luOjEwcHg7Y29sb3I6IHdoaXRlOyc+PHVsIHN0eWxlPSdjb2xvcjogd2hpdGU7O2xpc3Qtc3R5bGUtdHlwZTpjaXJjbGU7YWxpZ24taXRlbTpsZWZ0O3BhZGRpbmctbGVmdDoyMHB4O3BhZGRpbmctcmlnaHQ6MjBweCc+PGxpPkNvbmZpcm1lZDogMTE2PC9saT48bGk+RGVhdGhzOiAgIDg8L2xpPjxsaT5EZWF0aCBSYXRlOiA2Ljg0PC9saT48L3VsPjwvZGl2PgogICAgICAgICAgICAgICAgIDwvZGl2PmAsCiAgICAgICAgICAgICAgICB7InN0aWNreSI6IHRydWV9CiAgICAgICAgICAgICk7CiAgICAgICAgCiAgICAKICAgICAgICAgICAgdmFyIGNpcmNsZV8zYjBkMmFiNTkyODI0MWM3OGRhM2U0M2FhOTMyNDQ5ZSA9IEwuY2lyY2xlKAogICAgICAgICAgICAgICAgWzM0LjAsIDkuMF0sCiAgICAgICAgICAgICAgICB7ImJ1YmJsaW5nTW91c2VFdmVudHMiOiB0cnVlLCAiY29sb3IiOiAicmVkIiwgImRhc2hBcnJheSI6IG51bGwsICJkYXNoT2Zmc2V0IjogbnVsbCwgImZpbGwiOiB0cnVlLCAiZmlsbENvbG9yIjogImluZGlnbyIsICJmaWxsT3BhY2l0eSI6IDAuMiwgImZpbGxSdWxlIjogImV2ZW5vZGQiLCAibGluZUNhcCI6ICJyb3VuZCIsICJsaW5lSm9pbiI6ICJyb3VuZCIsICJvcGFjaXR5IjogMS4wLCAicmFkaXVzIjogMzEwMDAwLjAsICJzdHJva2UiOiB0cnVlLCAid2VpZ2h0IjogM30KICAgICAgICAgICAgKS5hZGRUbyhtYXBfZmZmMTg1NzU5NGJmNGEzYTgyNzhmMTI1MzZjY2Q2MzcpOwogICAgICAgIAogICAgCiAgICAgICAgICAgIGNpcmNsZV8zYjBkMmFiNTkyODI0MWM3OGRhM2U0M2FhOTMyNDQ5ZS5iaW5kVG9vbHRpcCgKICAgICAgICAgICAgICAgIGA8ZGl2PgogICAgICAgICAgICAgICAgICAgICA8ZGl2IHN0eWxlPSdtYXJnaW46IDA7IGJhY2tncm91bmQtY29sb3I6IGJsYWNrOyBjb2xvcjogd2hpdGU7Jz48aDQgc3R5bGU9J3RleHQtYWxpZ246Y2VudGVyO2ZvbnQtd2VpZ2h0OiBib2xkJz5UdW5pc2lhPC9oND48aHIgc3R5bGU9J21hcmdpbjoxMHB4O2NvbG9yOiB3aGl0ZTsnPjx1bCBzdHlsZT0nY29sb3I6IHdoaXRlOztsaXN0LXN0eWxlLXR5cGU6Y2lyY2xlO2FsaWduLWl0ZW06bGVmdDtwYWRkaW5nLWxlZnQ6MjBweDtwYWRkaW5nLXJpZ2h0OjIwcHgnPjxsaT5Db25maXJtZWQ6IDk5ODwvbGk+PGxpPkRlYXRoczogICA0MTwvbGk+PGxpPkRlYXRoIFJhdGU6IDQuMTwvbGk+PC91bD48L2Rpdj4KICAgICAgICAgICAgICAgICA8L2Rpdj5gLAogICAgICAgICAgICAgICAgeyJzdGlja3kiOiB0cnVlfQogICAgICAgICAgICApOwogICAgICAgIAogICAgCiAgICAgICAgICAgIHZhciBjaXJjbGVfNmQ1M2JmMTBkZTk1NDIwZGFiM2ZiMGY5ODhkYWM5NDkgPSBMLmNpcmNsZSgKICAgICAgICAgICAgICAgIFszOC45NjM3LCAzNS4yNDMzXSwKICAgICAgICAgICAgICAgIHsiYnViYmxpbmdNb3VzZUV2ZW50cyI6IHRydWUsICJjb2xvciI6ICJyZWQiLCAiZGFzaEFycmF5IjogbnVsbCwgImRhc2hPZmZzZXQiOiBudWxsLCAiZmlsbCI6IHRydWUsICJmaWxsQ29sb3IiOiAiaW5kaWdvIiwgImZpbGxPcGFjaXR5IjogMC4yLCAiZmlsbFJ1bGUiOiAiZXZlbm9kZCIsICJsaW5lQ2FwIjogInJvdW5kIiwgImxpbmVKb2luIjogInJvdW5kIiwgIm9wYWNpdHkiOiAxLjAsICJyYWRpdXMiOiA1NjAwMDAuMCwgInN0cm9rZSI6IHRydWUsICJ3ZWlnaHQiOiAzfQogICAgICAgICAgICApLmFkZFRvKG1hcF9mZmYxODU3NTk0YmY0YTNhODI3OGYxMjUzNmNjZDYzNyk7CiAgICAgICAgCiAgICAKICAgICAgICAgICAgY2lyY2xlXzZkNTNiZjEwZGU5NTQyMGRhYjNmYjBmOTg4ZGFjOTQ5LmJpbmRUb29sdGlwKAogICAgICAgICAgICAgICAgYDxkaXY+CiAgICAgICAgICAgICAgICAgICAgIDxkaXYgc3R5bGU9J21hcmdpbjogMDsgYmFja2dyb3VuZC1jb2xvcjogYmxhY2s7IGNvbG9yOiB3aGl0ZTsnPjxoNCBzdHlsZT0ndGV4dC1hbGlnbjpjZW50ZXI7Zm9udC13ZWlnaHQ6IGJvbGQnPlR1cmtleTwvaDQ+PGhyIHN0eWxlPSdtYXJnaW46MTBweDtjb2xvcjogd2hpdGU7Jz48dWwgc3R5bGU9J2NvbG9yOiB3aGl0ZTs7bGlzdC1zdHlsZS10eXBlOmNpcmNsZTthbGlnbi1pdGVtOmxlZnQ7cGFkZGluZy1sZWZ0OjIwcHg7cGFkZGluZy1yaWdodDoyMHB4Jz48bGk+Q29uZmlybWVkOiAxMjIzOTI8L2xpPjxsaT5EZWF0aHM6ICAgMzI1ODwvbGk+PGxpPkRlYXRoIFJhdGU6IDIuNjY8L2xpPjwvdWw+PC9kaXY+CiAgICAgICAgICAgICAgICAgPC9kaXY+YCwKICAgICAgICAgICAgICAgIHsic3RpY2t5IjogdHJ1ZX0KICAgICAgICAgICAgKTsKICAgICAgICAKICAgIAogICAgICAgICAgICB2YXIgY2lyY2xlXzk5N2U4ZDcxMjc4NjRmMDU5MjA2NDI5NmM1NzA1ZjkwID0gTC5jaXJjbGUoCiAgICAgICAgICAgICAgICBbMS4wLCAzMi4wXSwKICAgICAgICAgICAgICAgIHsiYnViYmxpbmdNb3VzZUV2ZW50cyI6IHRydWUsICJjb2xvciI6ICJyZWQiLCAiZGFzaEFycmF5IjogbnVsbCwgImRhc2hPZmZzZXQiOiBudWxsLCAiZmlsbCI6IHRydWUsICJmaWxsQ29sb3IiOiAiaW5kaWdvIiwgImZpbGxPcGFjaXR5IjogMC4yLCAiZmlsbFJ1bGUiOiAiZXZlbm9kZCIsICJsaW5lQ2FwIjogInJvdW5kIiwgImxpbmVKb2luIjogInJvdW5kIiwgIm9wYWNpdHkiOiAxLjAsICJyYWRpdXMiOiAyMTAwMDAuMCwgInN0cm9rZSI6IHRydWUsICJ3ZWlnaHQiOiAzfQogICAgICAgICAgICApLmFkZFRvKG1hcF9mZmYxODU3NTk0YmY0YTNhODI3OGYxMjUzNmNjZDYzNyk7CiAgICAgICAgCiAgICAKICAgICAgICAgICAgY2lyY2xlXzk5N2U4ZDcxMjc4NjRmMDU5MjA2NDI5NmM1NzA1ZjkwLmJpbmRUb29sdGlwKAogICAgICAgICAgICAgICAgYDxkaXY+CiAgICAgICAgICAgICAgICAgICAgIDxkaXYgc3R5bGU9J21hcmdpbjogMDsgYmFja2dyb3VuZC1jb2xvcjogYmxhY2s7IGNvbG9yOiB3aGl0ZTsnPjxoNCBzdHlsZT0ndGV4dC1hbGlnbjpjZW50ZXI7Zm9udC13ZWlnaHQ6IGJvbGQnPlVnYW5kYTwvaDQ+PGhyIHN0eWxlPSdtYXJnaW46MTBweDtjb2xvcjogd2hpdGU7Jz48dWwgc3R5bGU9J2NvbG9yOiB3aGl0ZTs7bGlzdC1zdHlsZS10eXBlOmNpcmNsZTthbGlnbi1pdGVtOmxlZnQ7cGFkZGluZy1sZWZ0OjIwcHg7cGFkZGluZy1yaWdodDoyMHB4Jz48bGk+Q29uZmlybWVkOiA4NTwvbGk+PGxpPkRlYXRoczogICAwPC9saT48bGk+RGVhdGggUmF0ZTogMC4wPC9saT48L3VsPjwvZGl2PgogICAgICAgICAgICAgICAgIDwvZGl2PmAsCiAgICAgICAgICAgICAgICB7InN0aWNreSI6IHRydWV9CiAgICAgICAgICAgICk7CiAgICAgICAgCiAgICAKICAgICAgICAgICAgdmFyIGNpcmNsZV9iODVhMGNiZjA0YjA0MmIxYWNiMDIyNjdkNjlkYmRjYiA9IEwuY2lyY2xlKAogICAgICAgICAgICAgICAgWzQ4LjM3OTQsIDMxLjE2NTZdLAogICAgICAgICAgICAgICAgeyJidWJibGluZ01vdXNlRXZlbnRzIjogdHJ1ZSwgImNvbG9yIjogInJlZCIsICJkYXNoQXJyYXkiOiBudWxsLCAiZGFzaE9mZnNldCI6IG51bGwsICJmaWxsIjogdHJ1ZSwgImZpbGxDb2xvciI6ICJpbmRpZ28iLCAiZmlsbE9wYWNpdHkiOiAwLjIsICJmaWxsUnVsZSI6ICJldmVub2RkIiwgImxpbmVDYXAiOiAicm91bmQiLCAibGluZUpvaW4iOiAicm91bmQiLCAib3BhY2l0eSI6IDEuMCwgInJhZGl1cyI6IDQ1OTk5OS45OTk5OTk5OTk5NCwgInN0cm9rZSI6IHRydWUsICJ3ZWlnaHQiOiAzfQogICAgICAgICAgICApLmFkZFRvKG1hcF9mZmYxODU3NTk0YmY0YTNhODI3OGYxMjUzNmNjZDYzNyk7CiAgICAgICAgCiAgICAKICAgICAgICAgICAgY2lyY2xlX2I4NWEwY2JmMDRiMDQyYjFhY2IwMjI2N2Q2OWRiZGNiLmJpbmRUb29sdGlwKAogICAgICAgICAgICAgICAgYDxkaXY+CiAgICAgICAgICAgICAgICAgICAgIDxkaXYgc3R5bGU9J21hcmdpbjogMDsgYmFja2dyb3VuZC1jb2xvcjogYmxhY2s7IGNvbG9yOiB3aGl0ZTsnPjxoNCBzdHlsZT0ndGV4dC1hbGlnbjpjZW50ZXI7Zm9udC13ZWlnaHQ6IGJvbGQnPlVrcmFpbmU8L2g0PjxociBzdHlsZT0nbWFyZ2luOjEwcHg7Y29sb3I6IHdoaXRlOyc+PHVsIHN0eWxlPSdjb2xvcjogd2hpdGU7O2xpc3Qtc3R5bGUtdHlwZTpjaXJjbGU7YWxpZ24taXRlbTpsZWZ0O3BhZGRpbmctbGVmdDoyMHB4O3BhZGRpbmctcmlnaHQ6MjBweCc+PGxpPkNvbmZpcm1lZDogMTA4NjE8L2xpPjxsaT5EZWF0aHM6ICAgMjcyPC9saT48bGk+RGVhdGggUmF0ZTogMi41PC9saT48L3VsPjwvZGl2PgogICAgICAgICAgICAgICAgIDwvZGl2PmAsCiAgICAgICAgICAgICAgICB7InN0aWNreSI6IHRydWV9CiAgICAgICAgICAgICk7CiAgICAgICAgCiAgICAKICAgICAgICAgICAgdmFyIGNpcmNsZV83OGVhNWIzZmEyZjY0MzYwYmZjMTk1MmExYzQyMmU2MiA9IEwuY2lyY2xlKAogICAgICAgICAgICAgICAgWzI0LjAsIDU0LjBdLAogICAgICAgICAgICAgICAgeyJidWJibGluZ01vdXNlRXZlbnRzIjogdHJ1ZSwgImNvbG9yIjogInJlZCIsICJkYXNoQXJyYXkiOiBudWxsLCAiZGFzaE9mZnNldCI6IG51bGwsICJmaWxsIjogdHJ1ZSwgImZpbGxDb2xvciI6ICJpbmRpZ28iLCAiZmlsbE9wYWNpdHkiOiAwLjIsICJmaWxsUnVsZSI6ICJldmVub2RkIiwgImxpbmVDYXAiOiAicm91bmQiLCAibGluZUpvaW4iOiAicm91bmQiLCAib3BhY2l0eSI6IDEuMCwgInJhZGl1cyI6IDQ1OTk5OS45OTk5OTk5OTk5NCwgInN0cm9rZSI6IHRydWUsICJ3ZWlnaHQiOiAzfQogICAgICAgICAgICApLmFkZFRvKG1hcF9mZmYxODU3NTk0YmY0YTNhODI3OGYxMjUzNmNjZDYzNyk7CiAgICAgICAgCiAgICAKICAgICAgICAgICAgY2lyY2xlXzc4ZWE1YjNmYTJmNjQzNjBiZmMxOTUyYTFjNDIyZTYyLmJpbmRUb29sdGlwKAogICAgICAgICAgICAgICAgYDxkaXY+CiAgICAgICAgICAgICAgICAgICAgIDxkaXYgc3R5bGU9J21hcmdpbjogMDsgYmFja2dyb3VuZC1jb2xvcjogYmxhY2s7IGNvbG9yOiB3aGl0ZTsnPjxoNCBzdHlsZT0ndGV4dC1hbGlnbjpjZW50ZXI7Zm9udC13ZWlnaHQ6IGJvbGQnPlVuaXRlZCBBcmFiIEVtaXJhdGVzPC9oND48aHIgc3R5bGU9J21hcmdpbjoxMHB4O2NvbG9yOiB3aGl0ZTsnPjx1bCBzdHlsZT0nY29sb3I6IHdoaXRlOztsaXN0LXN0eWxlLXR5cGU6Y2lyY2xlO2FsaWduLWl0ZW06bGVmdDtwYWRkaW5nLWxlZnQ6MjBweDtwYWRkaW5nLXJpZ2h0OjIwcHgnPjxsaT5Db25maXJtZWQ6IDEzMDM4PC9saT48bGk+RGVhdGhzOiAgIDExMTwvbGk+PGxpPkRlYXRoIFJhdGU6IDAuODU8L2xpPjwvdWw+PC9kaXY+CiAgICAgICAgICAgICAgICAgPC9kaXY+YCwKICAgICAgICAgICAgICAgIHsic3RpY2t5IjogdHJ1ZX0KICAgICAgICAgICAgKTsKICAgICAgICAKICAgIAogICAgICAgICAgICB2YXIgY2lyY2xlX2M1YTlmNTBlOWRlMDQ5NWJiMWU4Nzc2NmJkNjUxYzJhID0gTC5jaXJjbGUoCiAgICAgICAgICAgICAgICBbMzIuMzA3OCwgLTY0Ljc1MDVdLAogICAgICAgICAgICAgICAgeyJidWJibGluZ01vdXNlRXZlbnRzIjogdHJ1ZSwgImNvbG9yIjogInJlZCIsICJkYXNoQXJyYXkiOiBudWxsLCAiZGFzaE9mZnNldCI6IG51bGwsICJmaWxsIjogdHJ1ZSwgImZpbGxDb2xvciI6ICJpbmRpZ28iLCAiZmlsbE9wYWNpdHkiOiAwLjIsICJmaWxsUnVsZSI6ICJldmVub2RkIiwgImxpbmVDYXAiOiAicm91bmQiLCAibGluZUpvaW4iOiAicm91bmQiLCAib3BhY2l0eSI6IDEuMCwgInJhZGl1cyI6IDIxMDAwMC4wLCAic3Ryb2tlIjogdHJ1ZSwgIndlaWdodCI6IDN9CiAgICAgICAgICAgICkuYWRkVG8obWFwX2ZmZjE4NTc1OTRiZjRhM2E4Mjc4ZjEyNTM2Y2NkNjM3KTsKICAgICAgICAKICAgIAogICAgICAgICAgICBjaXJjbGVfYzVhOWY1MGU5ZGUwNDk1YmIxZTg3NzY2YmQ2NTFjMmEuYmluZFRvb2x0aXAoCiAgICAgICAgICAgICAgICBgPGRpdj4KICAgICAgICAgICAgICAgICAgICAgPGRpdiBzdHlsZT0nbWFyZ2luOiAwOyBiYWNrZ3JvdW5kLWNvbG9yOiBibGFjazsgY29sb3I6IHdoaXRlOyc+PGg0IHN0eWxlPSd0ZXh0LWFsaWduOmNlbnRlcjtmb250LXdlaWdodDogYm9sZCc+VW5pdGVkIEtpbmdkb208L2g0PjxociBzdHlsZT0nbWFyZ2luOjEwcHg7Y29sb3I6IHdoaXRlOyc+PHVsIHN0eWxlPSdjb2xvcjogd2hpdGU7O2xpc3Qtc3R5bGUtdHlwZTpjaXJjbGU7YWxpZ24taXRlbTpsZWZ0O3BhZGRpbmctbGVmdDoyMHB4O3BhZGRpbmctcmlnaHQ6MjBweCc+PGxpPkNvbmZpcm1lZDogMTE0PC9saT48bGk+RGVhdGhzOiAgIDY8L2xpPjxsaT5EZWF0aCBSYXRlOiA1LjIyPC9saT48L3VsPjwvZGl2PgogICAgICAgICAgICAgICAgIDwvZGl2PmAsCiAgICAgICAgICAgICAgICB7InN0aWNreSI6IHRydWV9CiAgICAgICAgICAgICk7CiAgICAgICAgCiAgICAKICAgICAgICAgICAgdmFyIGNpcmNsZV80MjAxMzBjZTI4MmI0MGM2YmQwNTkyYTljMWM2MmI5YSA9IEwuY2lyY2xlKAogICAgICAgICAgICAgICAgWzE5LjMxMzMsIC04MS4yNTQ2XSwKICAgICAgICAgICAgICAgIHsiYnViYmxpbmdNb3VzZUV2ZW50cyI6IHRydWUsICJjb2xvciI6ICJyZWQiLCAiZGFzaEFycmF5IjogbnVsbCwgImRhc2hPZmZzZXQiOiBudWxsLCAiZmlsbCI6IHRydWUsICJmaWxsQ29sb3IiOiAiaW5kaWdvIiwgImZpbGxPcGFjaXR5IjogMC4yLCAiZmlsbFJ1bGUiOiAiZXZlbm9kZCIsICJsaW5lQ2FwIjogInJvdW5kIiwgImxpbmVKb2luIjogInJvdW5kIiwgIm9wYWNpdHkiOiAxLjAsICJyYWRpdXMiOiAyMTAwMDAuMCwgInN0cm9rZSI6IHRydWUsICJ3ZWlnaHQiOiAzfQogICAgICAgICAgICApLmFkZFRvKG1hcF9mZmYxODU3NTk0YmY0YTNhODI3OGYxMjUzNmNjZDYzNyk7CiAgICAgICAgCiAgICAKICAgICAgICAgICAgY2lyY2xlXzQyMDEzMGNlMjgyYjQwYzZiZDA1OTJhOWMxYzYyYjlhLmJpbmRUb29sdGlwKAogICAgICAgICAgICAgICAgYDxkaXY+CiAgICAgICAgICAgICAgICAgICAgIDxkaXYgc3R5bGU9J21hcmdpbjogMDsgYmFja2dyb3VuZC1jb2xvcjogYmxhY2s7IGNvbG9yOiB3aGl0ZTsnPjxoNCBzdHlsZT0ndGV4dC1hbGlnbjpjZW50ZXI7Zm9udC13ZWlnaHQ6IGJvbGQnPlVuaXRlZCBLaW5nZG9tPC9oND48aHIgc3R5bGU9J21hcmdpbjoxMHB4O2NvbG9yOiB3aGl0ZTsnPjx1bCBzdHlsZT0nY29sb3I6IHdoaXRlOztsaXN0LXN0eWxlLXR5cGU6Y2lyY2xlO2FsaWduLWl0ZW06bGVmdDtwYWRkaW5nLWxlZnQ6MjBweDtwYWRkaW5nLXJpZ2h0OjIwcHgnPjxsaT5Db25maXJtZWQ6IDc0PC9saT48bGk+RGVhdGhzOiAgIDE8L2xpPjxsaT5EZWF0aCBSYXRlOiAxLjMzPC9saT48L3VsPjwvZGl2PgogICAgICAgICAgICAgICAgIDwvZGl2PmAsCiAgICAgICAgICAgICAgICB7InN0aWNreSI6IHRydWV9CiAgICAgICAgICAgICk7CiAgICAgICAgCiAgICAKICAgICAgICAgICAgdmFyIGNpcmNsZV8yYzZhMThkNjE0Mjc0NTM1YTg1ZDY5NTNjODIxYjI2ZiA9IEwuY2lyY2xlKAogICAgICAgICAgICAgICAgWzQ5LjM3MjMsIC0yLjM2NDRdLAogICAgICAgICAgICAgICAgeyJidWJibGluZ01vdXNlRXZlbnRzIjogdHJ1ZSwgImNvbG9yIjogInJlZCIsICJkYXNoQXJyYXkiOiBudWxsLCAiZGFzaE9mZnNldCI6IG51bGwsICJmaWxsIjogdHJ1ZSwgImZpbGxDb2xvciI6ICJpbmRpZ28iLCAiZmlsbE9wYWNpdHkiOiAwLjIsICJmaWxsUnVsZSI6ICJldmVub2RkIiwgImxpbmVDYXAiOiAicm91bmQiLCAibGluZUpvaW4iOiAicm91bmQiLCAib3BhY2l0eSI6IDEuMCwgInJhZGl1cyI6IDMxMDAwMC4wLCAic3Ryb2tlIjogdHJ1ZSwgIndlaWdodCI6IDN9CiAgICAgICAgICAgICkuYWRkVG8obWFwX2ZmZjE4NTc1OTRiZjRhM2E4Mjc4ZjEyNTM2Y2NkNjM3KTsKICAgICAgICAKICAgIAogICAgICAgICAgICBjaXJjbGVfMmM2YTE4ZDYxNDI3NDUzNWE4NWQ2OTUzYzgyMWIyNmYuYmluZFRvb2x0aXAoCiAgICAgICAgICAgICAgICBgPGRpdj4KICAgICAgICAgICAgICAgICAgICAgPGRpdiBzdHlsZT0nbWFyZ2luOiAwOyBiYWNrZ3JvdW5kLWNvbG9yOiBibGFjazsgY29sb3I6IHdoaXRlOyc+PGg0IHN0eWxlPSd0ZXh0LWFsaWduOmNlbnRlcjtmb250LXdlaWdodDogYm9sZCc+VW5pdGVkIEtpbmdkb208L2g0PjxociBzdHlsZT0nbWFyZ2luOjEwcHg7Y29sb3I6IHdoaXRlOyc+PHVsIHN0eWxlPSdjb2xvcjogd2hpdGU7O2xpc3Qtc3R5bGUtdHlwZTpjaXJjbGU7YWxpZ24taXRlbTpsZWZ0O3BhZGRpbmctbGVmdDoyMHB4O3BhZGRpbmctcmlnaHQ6MjBweCc+PGxpPkNvbmZpcm1lZDogNTM4PC9saT48bGk+RGVhdGhzOiAgIDQxPC9saT48bGk+RGVhdGggUmF0ZTogNy42MTwvbGk+PC91bD48L2Rpdj4KICAgICAgICAgICAgICAgICA8L2Rpdj5gLAogICAgICAgICAgICAgICAgeyJzdGlja3kiOiB0cnVlfQogICAgICAgICAgICApOwogICAgICAgIAogICAgCiAgICAgICAgICAgIHZhciBjaXJjbGVfZDNhYzk4ODkyY2MwNGRiMDgxOWNjMWNjODI0NjQ1YjAgPSBMLmNpcmNsZSgKICAgICAgICAgICAgICAgIFszNi4xNDA4LCAtNS4zNTM2XSwKICAgICAgICAgICAgICAgIHsiYnViYmxpbmdNb3VzZUV2ZW50cyI6IHRydWUsICJjb2xvciI6ICJyZWQiLCAiZGFzaEFycmF5IjogbnVsbCwgImRhc2hPZmZzZXQiOiBudWxsLCAiZmlsbCI6IHRydWUsICJmaWxsQ29sb3IiOiAiaW5kaWdvIiwgImZpbGxPcGFjaXR5IjogMC4yLCAiZmlsbFJ1bGUiOiAiZXZlbm9kZCIsICJsaW5lQ2FwIjogInJvdW5kIiwgImxpbmVKb2luIjogInJvdW5kIiwgIm9wYWNpdHkiOiAxLjAsICJyYWRpdXMiOiAyMTAwMDAuMCwgInN0cm9rZSI6IHRydWUsICJ3ZWlnaHQiOiAzfQogICAgICAgICAgICApLmFkZFRvKG1hcF9mZmYxODU3NTk0YmY0YTNhODI3OGYxMjUzNmNjZDYzNyk7CiAgICAgICAgCiAgICAKICAgICAgICAgICAgY2lyY2xlX2QzYWM5ODg5MmNjMDRkYjA4MTljYzFjYzgyNDY0NWIwLmJpbmRUb29sdGlwKAogICAgICAgICAgICAgICAgYDxkaXY+CiAgICAgICAgICAgICAgICAgICAgIDxkaXYgc3R5bGU9J21hcmdpbjogMDsgYmFja2dyb3VuZC1jb2xvcjogYmxhY2s7IGNvbG9yOiB3aGl0ZTsnPjxoNCBzdHlsZT0ndGV4dC1hbGlnbjpjZW50ZXI7Zm9udC13ZWlnaHQ6IGJvbGQnPlVuaXRlZCBLaW5nZG9tPC9oND48aHIgc3R5bGU9J21hcmdpbjoxMHB4O2NvbG9yOiB3aGl0ZTsnPjx1bCBzdHlsZT0nY29sb3I6IHdoaXRlOztsaXN0LXN0eWxlLXR5cGU6Y2lyY2xlO2FsaWduLWl0ZW06bGVmdDtwYWRkaW5nLWxlZnQ6MjBweDtwYWRkaW5nLXJpZ2h0OjIwcHgnPjxsaT5Db25maXJtZWQ6IDE0NDwvbGk+PGxpPkRlYXRoczogICAwPC9saT48bGk+RGVhdGggUmF0ZTogMC4wPC9saT48L3VsPjwvZGl2PgogICAgICAgICAgICAgICAgIDwvZGl2PmAsCiAgICAgICAgICAgICAgICB7InN0aWNreSI6IHRydWV9CiAgICAgICAgICAgICk7CiAgICAgICAgCiAgICAKICAgICAgICAgICAgdmFyIGNpcmNsZV8zZjM3MDk2MjVmZWQ0ODMwYWY5ZjU4NmI1NmNlNTk4NyA9IEwuY2lyY2xlKAogICAgICAgICAgICAgICAgWzU0LjIzNjEsIC00LjU0ODFdLAogICAgICAgICAgICAgICAgeyJidWJibGluZ01vdXNlRXZlbnRzIjogdHJ1ZSwgImNvbG9yIjogInJlZCIsICJkYXNoQXJyYXkiOiBudWxsLCAiZGFzaE9mZnNldCI6IG51bGwsICJmaWxsIjogdHJ1ZSwgImZpbGxDb2xvciI6ICJpbmRpZ28iLCAiZmlsbE9wYWNpdHkiOiAwLjIsICJmaWxsUnVsZSI6ICJldmVub2RkIiwgImxpbmVDYXAiOiAicm91bmQiLCAibGluZUpvaW4iOiAicm91bmQiLCAib3BhY2l0eSI6IDEuMCwgInJhZGl1cyI6IDI2MDAwMC4wLCAic3Ryb2tlIjogdHJ1ZSwgIndlaWdodCI6IDN9CiAgICAgICAgICAgICkuYWRkVG8obWFwX2ZmZjE4NTc1OTRiZjRhM2E4Mjc4ZjEyNTM2Y2NkNjM3KTsKICAgICAgICAKICAgIAogICAgICAgICAgICBjaXJjbGVfM2YzNzA5NjI1ZmVkNDgzMGFmOWY1ODZiNTZjZTU5ODcuYmluZFRvb2x0aXAoCiAgICAgICAgICAgICAgICBgPGRpdj4KICAgICAgICAgICAgICAgICAgICAgPGRpdiBzdHlsZT0nbWFyZ2luOiAwOyBiYWNrZ3JvdW5kLWNvbG9yOiBibGFjazsgY29sb3I6IHdoaXRlOyc+PGg0IHN0eWxlPSd0ZXh0LWFsaWduOmNlbnRlcjtmb250LXdlaWdodDogYm9sZCc+VW5pdGVkIEtpbmdkb208L2g0PjxociBzdHlsZT0nbWFyZ2luOjEwcHg7Y29sb3I6IHdoaXRlOyc+PHVsIHN0eWxlPSdjb2xvcjogd2hpdGU7O2xpc3Qtc3R5bGUtdHlwZTpjaXJjbGU7YWxpZ24taXRlbTpsZWZ0O3BhZGRpbmctbGVmdDoyMHB4O3BhZGRpbmctcmlnaHQ6MjBweCc+PGxpPkNvbmZpcm1lZDogMzE2PC9saT48bGk+RGVhdGhzOiAgIDIyPC9saT48bGk+RGVhdGggUmF0ZTogNi45NDwvbGk+PC91bD48L2Rpdj4KICAgICAgICAgICAgICAgICA8L2Rpdj5gLAogICAgICAgICAgICAgICAgeyJzdGlja3kiOiB0cnVlfQogICAgICAgICAgICApOwogICAgICAgIAogICAgCiAgICAgICAgICAgIHZhciBjaXJjbGVfYzVhZWQwYWM3ZDg3NGY2N2IxNWI2ZGRkYjFlNWFjYjEgPSBMLmNpcmNsZSgKICAgICAgICAgICAgICAgIFsxNi43NDI1LCAtNjIuMTg3NF0sCiAgICAgICAgICAgICAgICB7ImJ1YmJsaW5nTW91c2VFdmVudHMiOiB0cnVlLCAiY29sb3IiOiAicmVkIiwgImRhc2hBcnJheSI6IG51bGwsICJkYXNoT2Zmc2V0IjogbnVsbCwgImZpbGwiOiB0cnVlLCAiZmlsbENvbG9yIjogImluZGlnbyIsICJmaWxsT3BhY2l0eSI6IDAuMiwgImZpbGxSdWxlIjogImV2ZW5vZGQiLCAibGluZUNhcCI6ICJyb3VuZCIsICJsaW5lSm9pbiI6ICJyb3VuZCIsICJvcGFjaXR5IjogMS4wLCAicmFkaXVzIjogMTEwMDAwLjAwMDAwMDAwMDAxLCAic3Ryb2tlIjogdHJ1ZSwgIndlaWdodCI6IDN9CiAgICAgICAgICAgICkuYWRkVG8obWFwX2ZmZjE4NTc1OTRiZjRhM2E4Mjc4ZjEyNTM2Y2NkNjM3KTsKICAgICAgICAKICAgIAogICAgICAgICAgICBjaXJjbGVfYzVhZWQwYWM3ZDg3NGY2N2IxNWI2ZGRkYjFlNWFjYjEuYmluZFRvb2x0aXAoCiAgICAgICAgICAgICAgICBgPGRpdj4KICAgICAgICAgICAgICAgICAgICAgPGRpdiBzdHlsZT0nbWFyZ2luOiAwOyBiYWNrZ3JvdW5kLWNvbG9yOiBibGFjazsgY29sb3I6IHdoaXRlOyc+PGg0IHN0eWxlPSd0ZXh0LWFsaWduOmNlbnRlcjtmb250LXdlaWdodDogYm9sZCc+VW5pdGVkIEtpbmdkb208L2g0PjxociBzdHlsZT0nbWFyZ2luOjEwcHg7Y29sb3I6IHdoaXRlOyc+PHVsIHN0eWxlPSdjb2xvcjogd2hpdGU7O2xpc3Qtc3R5bGUtdHlwZTpjaXJjbGU7YWxpZ24taXRlbTpsZWZ0O3BhZGRpbmctbGVmdDoyMHB4O3BhZGRpbmctcmlnaHQ6MjBweCc+PGxpPkNvbmZpcm1lZDogMTE8L2xpPjxsaT5EZWF0aHM6ICAgMTwvbGk+PGxpPkRlYXRoIFJhdGU6IDguMzM8L2xpPjwvdWw+PC9kaXY+CiAgICAgICAgICAgICAgICAgPC9kaXY+YCwKICAgICAgICAgICAgICAgIHsic3RpY2t5IjogdHJ1ZX0KICAgICAgICAgICAgKTsKICAgICAgICAKICAgIAogICAgICAgICAgICB2YXIgY2lyY2xlX2VlOWJkYTlmNGFhNDQxNWQ4NWM1MjA1MDI5NzZkNTdiID0gTC5jaXJjbGUoCiAgICAgICAgICAgICAgICBbNTUuMzc4MSwgLTMuNDM2MDAwMDAwMDAwMDAwNF0sCiAgICAgICAgICAgICAgICB7ImJ1YmJsaW5nTW91c2VFdmVudHMiOiB0cnVlLCAiY29sb3IiOiAicmVkIiwgImRhc2hBcnJheSI6IG51bGwsICJkYXNoT2Zmc2V0IjogbnVsbCwgImZpbGwiOiB0cnVlLCAiZmlsbENvbG9yIjogImluZGlnbyIsICJmaWxsT3BhY2l0eSI6IDAuMiwgImZpbGxSdWxlIjogImV2ZW5vZGQiLCAibGluZUNhcCI6ICJyb3VuZCIsICJsaW5lSm9pbiI6ICJyb3VuZCIsICJvcGFjaXR5IjogMS4wLCAicmFkaXVzIjogNjEwMDAwLjAsICJzdHJva2UiOiB0cnVlLCAid2VpZ2h0IjogM30KICAgICAgICAgICAgKS5hZGRUbyhtYXBfZmZmMTg1NzU5NGJmNGEzYTgyNzhmMTI1MzZjY2Q2MzcpOwogICAgICAgIAogICAgCiAgICAgICAgICAgIGNpcmNsZV9lZTliZGE5ZjRhYTQ0MTVkODVjNTIwNTAyOTc2ZDU3Yi5iaW5kVG9vbHRpcCgKICAgICAgICAgICAgICAgIGA8ZGl2PgogICAgICAgICAgICAgICAgICAgICA8ZGl2IHN0eWxlPSdtYXJnaW46IDA7IGJhY2tncm91bmQtY29sb3I6IGJsYWNrOyBjb2xvcjogd2hpdGU7Jz48aDQgc3R5bGU9J3RleHQtYWxpZ246Y2VudGVyO2ZvbnQtd2VpZ2h0OiBib2xkJz5Vbml0ZWQgS2luZ2RvbTwvaDQ+PGhyIHN0eWxlPSdtYXJnaW46MTBweDtjb2xvcjogd2hpdGU7Jz48dWwgc3R5bGU9J2NvbG9yOiB3aGl0ZTs7bGlzdC1zdHlsZS10eXBlOmNpcmNsZTthbGlnbi1pdGVtOmxlZnQ7cGFkZGluZy1sZWZ0OjIwcHg7cGFkZGluZy1yaWdodDoyMHB4Jz48bGk+Q29uZmlybWVkOiAxNzc0NTQ8L2xpPjxsaT5EZWF0aHM6ICAgMjc1MTA8L2xpPjxsaT5EZWF0aCBSYXRlOiAxNS41PC9saT48L3VsPjwvZGl2PgogICAgICAgICAgICAgICAgIDwvZGl2PmAsCiAgICAgICAgICAgICAgICB7InN0aWNreSI6IHRydWV9CiAgICAgICAgICAgICk7CiAgICAgICAgCiAgICAKICAgICAgICAgICAgdmFyIGNpcmNsZV81NjgyNTM4YWZjMjU0YjA2YmM2ZjE4ZWRjMWIyZjE0MCA9IEwuY2lyY2xlKAogICAgICAgICAgICAgICAgWy0zMi41MjI4LCAtNTUuNzY1OF0sCiAgICAgICAgICAgICAgICB7ImJ1YmJsaW5nTW91c2VFdmVudHMiOiB0cnVlLCAiY29sb3IiOiAicmVkIiwgImRhc2hBcnJheSI6IG51bGwsICJkYXNoT2Zmc2V0IjogbnVsbCwgImZpbGwiOiB0cnVlLCAiZmlsbENvbG9yIjogImluZGlnbyIsICJmaWxsT3BhY2l0eSI6IDAuMiwgImZpbGxSdWxlIjogImV2ZW5vZGQiLCAibGluZUNhcCI6ICJyb3VuZCIsICJsaW5lSm9pbiI6ICJyb3VuZCIsICJvcGFjaXR5IjogMS4wLCAicmFkaXVzIjogMzEwMDAwLjAsICJzdHJva2UiOiB0cnVlLCAid2VpZ2h0IjogM30KICAgICAgICAgICAgKS5hZGRUbyhtYXBfZmZmMTg1NzU5NGJmNGEzYTgyNzhmMTI1MzZjY2Q2MzcpOwogICAgICAgIAogICAgCiAgICAgICAgICAgIGNpcmNsZV81NjgyNTM4YWZjMjU0YjA2YmM2ZjE4ZWRjMWIyZjE0MC5iaW5kVG9vbHRpcCgKICAgICAgICAgICAgICAgIGA8ZGl2PgogICAgICAgICAgICAgICAgICAgICA8ZGl2IHN0eWxlPSdtYXJnaW46IDA7IGJhY2tncm91bmQtY29sb3I6IGJsYWNrOyBjb2xvcjogd2hpdGU7Jz48aDQgc3R5bGU9J3RleHQtYWxpZ246Y2VudGVyO2ZvbnQtd2VpZ2h0OiBib2xkJz5VcnVndWF5PC9oND48aHIgc3R5bGU9J21hcmdpbjoxMHB4O2NvbG9yOiB3aGl0ZTsnPjx1bCBzdHlsZT0nY29sb3I6IHdoaXRlOztsaXN0LXN0eWxlLXR5cGU6Y2lyY2xlO2FsaWduLWl0ZW06bGVmdDtwYWRkaW5nLWxlZnQ6MjBweDtwYWRkaW5nLXJpZ2h0OjIwcHgnPjxsaT5Db25maXJtZWQ6IDY0ODwvbGk+PGxpPkRlYXRoczogICAxNzwvbGk+PGxpPkRlYXRoIFJhdGU6IDIuNjI8L2xpPjwvdWw+PC9kaXY+CiAgICAgICAgICAgICAgICAgPC9kaXY+YCwKICAgICAgICAgICAgICAgIHsic3RpY2t5IjogdHJ1ZX0KICAgICAgICAgICAgKTsKICAgICAgICAKICAgIAogICAgICAgICAgICB2YXIgY2lyY2xlX2IzN2Q2YzQzZDMxMDRmOGZiY2ZlNDAwOWViODRjMWI1ID0gTC5jaXJjbGUoCiAgICAgICAgICAgICAgICBbMzcuMDkwMiwgLTk1LjcxMjldLAogICAgICAgICAgICAgICAgeyJidWJibGluZ01vdXNlRXZlbnRzIjogdHJ1ZSwgImNvbG9yIjogInJlZCIsICJkYXNoQXJyYXkiOiBudWxsLCAiZGFzaE9mZnNldCI6IG51bGwsICJmaWxsIjogdHJ1ZSwgImZpbGxDb2xvciI6ICJpbmRpZ28iLCAiZmlsbE9wYWNpdHkiOiAwLjIsICJmaWxsUnVsZSI6ICJldmVub2RkIiwgImxpbmVDYXAiOiAicm91bmQiLCAibGluZUpvaW4iOiAicm91bmQiLCAib3BhY2l0eSI6IDEuMCwgInJhZGl1cyI6IDY2MDAwMC4wLCAic3Ryb2tlIjogdHJ1ZSwgIndlaWdodCI6IDN9CiAgICAgICAgICAgICkuYWRkVG8obWFwX2ZmZjE4NTc1OTRiZjRhM2E4Mjc4ZjEyNTM2Y2NkNjM3KTsKICAgICAgICAKICAgIAogICAgICAgICAgICBjaXJjbGVfYjM3ZDZjNDNkMzEwNGY4ZmJjZmU0MDA5ZWI4NGMxYjUuYmluZFRvb2x0aXAoCiAgICAgICAgICAgICAgICBgPGRpdj4KICAgICAgICAgICAgICAgICAgICAgPGRpdiBzdHlsZT0nbWFyZ2luOiAwOyBiYWNrZ3JvdW5kLWNvbG9yOiBibGFjazsgY29sb3I6IHdoaXRlOyc+PGg0IHN0eWxlPSd0ZXh0LWFsaWduOmNlbnRlcjtmb250LXdlaWdodDogYm9sZCc+VVM8L2g0PjxociBzdHlsZT0nbWFyZ2luOjEwcHg7Y29sb3I6IHdoaXRlOyc+PHVsIHN0eWxlPSdjb2xvcjogd2hpdGU7O2xpc3Qtc3R5bGUtdHlwZTpjaXJjbGU7YWxpZ24taXRlbTpsZWZ0O3BhZGRpbmctbGVmdDoyMHB4O3BhZGRpbmctcmlnaHQ6MjBweCc+PGxpPkNvbmZpcm1lZDogMTEwMzQ2MTwvbGk+PGxpPkRlYXRoczogICA2NDk0MzwvbGk+PGxpPkRlYXRoIFJhdGU6IDUuODk8L2xpPjwvdWw+PC9kaXY+CiAgICAgICAgICAgICAgICAgPC9kaXY+YCwKICAgICAgICAgICAgICAgIHsic3RpY2t5IjogdHJ1ZX0KICAgICAgICAgICAgKTsKICAgICAgICAKICAgIAogICAgICAgICAgICB2YXIgY2lyY2xlXzQ4MTg5MTExNWYwZjRhMDQ5YTczZTEyYzEwZTQ4NmI5ID0gTC5jaXJjbGUoCiAgICAgICAgICAgICAgICBbNDEuMzc3NSwgNjQuNTg1M10sCiAgICAgICAgICAgICAgICB7ImJ1YmJsaW5nTW91c2VFdmVudHMiOiB0cnVlLCAiY29sb3IiOiAicmVkIiwgImRhc2hBcnJheSI6IG51bGwsICJkYXNoT2Zmc2V0IjogbnVsbCwgImZpbGwiOiB0cnVlLCAiZmlsbENvbG9yIjogImluZGlnbyIsICJmaWxsT3BhY2l0eSI6IDAuMiwgImZpbGxSdWxlIjogImV2ZW5vZGQiLCAibGluZUNhcCI6ICJyb3VuZCIsICJsaW5lSm9pbiI6ICJyb3VuZCIsICJvcGFjaXR5IjogMS4wLCAicmFkaXVzIjogMzYwMDAwLjAsICJzdHJva2UiOiB0cnVlLCAid2VpZ2h0IjogM30KICAgICAgICAgICAgKS5hZGRUbyhtYXBfZmZmMTg1NzU5NGJmNGEzYTgyNzhmMTI1MzZjY2Q2MzcpOwogICAgICAgIAogICAgCiAgICAgICAgICAgIGNpcmNsZV80ODE4OTExMTVmMGY0YTA0OWE3M2UxMmMxMGU0ODZiOS5iaW5kVG9vbHRpcCgKICAgICAgICAgICAgICAgIGA8ZGl2PgogICAgICAgICAgICAgICAgICAgICA8ZGl2IHN0eWxlPSdtYXJnaW46IDA7IGJhY2tncm91bmQtY29sb3I6IGJsYWNrOyBjb2xvcjogd2hpdGU7Jz48aDQgc3R5bGU9J3RleHQtYWxpZ246Y2VudGVyO2ZvbnQtd2VpZ2h0OiBib2xkJz5VemJla2lzdGFuPC9oND48aHIgc3R5bGU9J21hcmdpbjoxMHB4O2NvbG9yOiB3aGl0ZTsnPjx1bCBzdHlsZT0nY29sb3I6IHdoaXRlOztsaXN0LXN0eWxlLXR5cGU6Y2lyY2xlO2FsaWduLWl0ZW06bGVmdDtwYWRkaW5nLWxlZnQ6MjBweDtwYWRkaW5nLXJpZ2h0OjIwcHgnPjxsaT5Db25maXJtZWQ6IDIwODY8L2xpPjxsaT5EZWF0aHM6ICAgOTwvbGk+PGxpPkRlYXRoIFJhdGU6IDAuNDM8L2xpPjwvdWw+PC9kaXY+CiAgICAgICAgICAgICAgICAgPC9kaXY+YCwKICAgICAgICAgICAgICAgIHsic3RpY2t5IjogdHJ1ZX0KICAgICAgICAgICAgKTsKICAgICAgICAKICAgIAogICAgICAgICAgICB2YXIgY2lyY2xlXzMxMjkyMTI2NzVjZjRkNWRhOTc2NzNmNzRmZGQxYTdlID0gTC5jaXJjbGUoCiAgICAgICAgICAgICAgICBbNi40MjM4LCAtNjYuNTg5N10sCiAgICAgICAgICAgICAgICB7ImJ1YmJsaW5nTW91c2VFdmVudHMiOiB0cnVlLCAiY29sb3IiOiAicmVkIiwgImRhc2hBcnJheSI6IG51bGwsICJkYXNoT2Zmc2V0IjogbnVsbCwgImZpbGwiOiB0cnVlLCAiZmlsbENvbG9yIjogImluZGlnbyIsICJmaWxsT3BhY2l0eSI6IDAuMiwgImZpbGxSdWxlIjogImV2ZW5vZGQiLCAibGluZUNhcCI6ICJyb3VuZCIsICJsaW5lSm9pbiI6ICJyb3VuZCIsICJvcGFjaXR5IjogMS4wLCAicmFkaXVzIjogMjYwMDAwLjAsICJzdHJva2UiOiB0cnVlLCAid2VpZ2h0IjogM30KICAgICAgICAgICAgKS5hZGRUbyhtYXBfZmZmMTg1NzU5NGJmNGEzYTgyNzhmMTI1MzZjY2Q2MzcpOwogICAgICAgIAogICAgCiAgICAgICAgICAgIGNpcmNsZV8zMTI5MjEyNjc1Y2Y0ZDVkYTk3NjczZjc0ZmRkMWE3ZS5iaW5kVG9vbHRpcCgKICAgICAgICAgICAgICAgIGA8ZGl2PgogICAgICAgICAgICAgICAgICAgICA8ZGl2IHN0eWxlPSdtYXJnaW46IDA7IGJhY2tncm91bmQtY29sb3I6IGJsYWNrOyBjb2xvcjogd2hpdGU7Jz48aDQgc3R5bGU9J3RleHQtYWxpZ246Y2VudGVyO2ZvbnQtd2VpZ2h0OiBib2xkJz5WZW5lenVlbGE8L2g0PjxociBzdHlsZT0nbWFyZ2luOjEwcHg7Y29sb3I6IHdoaXRlOyc+PHVsIHN0eWxlPSdjb2xvcjogd2hpdGU7O2xpc3Qtc3R5bGUtdHlwZTpjaXJjbGU7YWxpZ24taXRlbTpsZWZ0O3BhZGRpbmctbGVmdDoyMHB4O3BhZGRpbmctcmlnaHQ6MjBweCc+PGxpPkNvbmZpcm1lZDogMzM1PC9saT48bGk+RGVhdGhzOiAgIDEwPC9saT48bGk+RGVhdGggUmF0ZTogMi45ODwvbGk+PC91bD48L2Rpdj4KICAgICAgICAgICAgICAgICA8L2Rpdj5gLAogICAgICAgICAgICAgICAgeyJzdGlja3kiOiB0cnVlfQogICAgICAgICAgICApOwogICAgICAgIAogICAgCiAgICAgICAgICAgIHZhciBjaXJjbGVfN2FkZjNkMDQ4OWI1NGFmZDgxMTg3MGM2OTYyOTYwODEgPSBMLmNpcmNsZSgKICAgICAgICAgICAgICAgIFsxNi4wLCAxMDguMF0sCiAgICAgICAgICAgICAgICB7ImJ1YmJsaW5nTW91c2VFdmVudHMiOiB0cnVlLCAiY29sb3IiOiAicmVkIiwgImRhc2hBcnJheSI6IG51bGwsICJkYXNoT2Zmc2V0IjogbnVsbCwgImZpbGwiOiB0cnVlLCAiZmlsbENvbG9yIjogImluZGlnbyIsICJmaWxsT3BhY2l0eSI6IDAuMiwgImZpbGxSdWxlIjogImV2ZW5vZGQiLCAibGluZUNhcCI6ICJyb3VuZCIsICJsaW5lSm9pbiI6ICJyb3VuZCIsICJvcGFjaXR5IjogMS4wLCAicmFkaXVzIjogMjYwMDAwLjAsICJzdHJva2UiOiB0cnVlLCAid2VpZ2h0IjogM30KICAgICAgICAgICAgKS5hZGRUbyhtYXBfZmZmMTg1NzU5NGJmNGEzYTgyNzhmMTI1MzZjY2Q2MzcpOwogICAgICAgIAogICAgCiAgICAgICAgICAgIGNpcmNsZV83YWRmM2QwNDg5YjU0YWZkODExODcwYzY5NjI5NjA4MS5iaW5kVG9vbHRpcCgKICAgICAgICAgICAgICAgIGA8ZGl2PgogICAgICAgICAgICAgICAgICAgICA8ZGl2IHN0eWxlPSdtYXJnaW46IDA7IGJhY2tncm91bmQtY29sb3I6IGJsYWNrOyBjb2xvcjogd2hpdGU7Jz48aDQgc3R5bGU9J3RleHQtYWxpZ246Y2VudGVyO2ZvbnQtd2VpZ2h0OiBib2xkJz5WaWV0bmFtPC9oND48aHIgc3R5bGU9J21hcmdpbjoxMHB4O2NvbG9yOiB3aGl0ZTsnPjx1bCBzdHlsZT0nY29sb3I6IHdoaXRlOztsaXN0LXN0eWxlLXR5cGU6Y2lyY2xlO2FsaWduLWl0ZW06bGVmdDtwYWRkaW5nLWxlZnQ6MjBweDtwYWRkaW5nLXJpZ2h0OjIwcHgnPjxsaT5Db25maXJtZWQ6IDI3MDwvbGk+PGxpPkRlYXRoczogICAwPC9saT48bGk+RGVhdGggUmF0ZTogMC4wPC9saT48L3VsPjwvZGl2PgogICAgICAgICAgICAgICAgIDwvZGl2PmAsCiAgICAgICAgICAgICAgICB7InN0aWNreSI6IHRydWV9CiAgICAgICAgICAgICk7CiAgICAgICAgCiAgICAKICAgICAgICAgICAgdmFyIGNpcmNsZV85ODQyODdiOTQ2MWE0N2I5YWI5YjM4Njg4YzUxNzgzNCA9IEwuY2lyY2xlKAogICAgICAgICAgICAgICAgWy0xNS40MTY3LCAyOC4yODMzXSwKICAgICAgICAgICAgICAgIHsiYnViYmxpbmdNb3VzZUV2ZW50cyI6IHRydWUsICJjb2xvciI6ICJyZWQiLCAiZGFzaEFycmF5IjogbnVsbCwgImRhc2hPZmZzZXQiOiBudWxsLCAiZmlsbCI6IHRydWUsICJmaWxsQ29sb3IiOiAiaW5kaWdvIiwgImZpbGxPcGFjaXR5IjogMC4yLCAiZmlsbFJ1bGUiOiAiZXZlbm9kZCIsICJsaW5lQ2FwIjogInJvdW5kIiwgImxpbmVKb2luIjogInJvdW5kIiwgIm9wYWNpdHkiOiAxLjAsICJyYWRpdXMiOiAyMTAwMDAuMCwgInN0cm9rZSI6IHRydWUsICJ3ZWlnaHQiOiAzfQogICAgICAgICAgICApLmFkZFRvKG1hcF9mZmYxODU3NTk0YmY0YTNhODI3OGYxMjUzNmNjZDYzNyk7CiAgICAgICAgCiAgICAKICAgICAgICAgICAgY2lyY2xlXzk4NDI4N2I5NDYxYTQ3YjlhYjliMzg2ODhjNTE3ODM0LmJpbmRUb29sdGlwKAogICAgICAgICAgICAgICAgYDxkaXY+CiAgICAgICAgICAgICAgICAgICAgIDxkaXYgc3R5bGU9J21hcmdpbjogMDsgYmFja2dyb3VuZC1jb2xvcjogYmxhY2s7IGNvbG9yOiB3aGl0ZTsnPjxoNCBzdHlsZT0ndGV4dC1hbGlnbjpjZW50ZXI7Zm9udC13ZWlnaHQ6IGJvbGQnPlphbWJpYTwvaDQ+PGhyIHN0eWxlPSdtYXJnaW46MTBweDtjb2xvcjogd2hpdGU7Jz48dWwgc3R5bGU9J2NvbG9yOiB3aGl0ZTs7bGlzdC1zdHlsZS10eXBlOmNpcmNsZTthbGlnbi1pdGVtOmxlZnQ7cGFkZGluZy1sZWZ0OjIwcHg7cGFkZGluZy1yaWdodDoyMHB4Jz48bGk+Q29uZmlybWVkOiAxMDk8L2xpPjxsaT5EZWF0aHM6ICAgMzwvbGk+PGxpPkRlYXRoIFJhdGU6IDIuNzM8L2xpPjwvdWw+PC9kaXY+CiAgICAgICAgICAgICAgICAgPC9kaXY+YCwKICAgICAgICAgICAgICAgIHsic3RpY2t5IjogdHJ1ZX0KICAgICAgICAgICAgKTsKICAgICAgICAKICAgIAogICAgICAgICAgICB2YXIgY2lyY2xlX2MyYjUyNGQ4OTdhMDQ2NTg4NzYxNjIxYTU1MDE0MWM5ID0gTC5jaXJjbGUoCiAgICAgICAgICAgICAgICBbLTIwLjAsIDMwLjBdLAogICAgICAgICAgICAgICAgeyJidWJibGluZ01vdXNlRXZlbnRzIjogdHJ1ZSwgImNvbG9yIjogInJlZCIsICJkYXNoQXJyYXkiOiBudWxsLCAiZGFzaE9mZnNldCI6IG51bGwsICJmaWxsIjogdHJ1ZSwgImZpbGxDb2xvciI6ICJpbmRpZ28iLCAiZmlsbE9wYWNpdHkiOiAwLjIsICJmaWxsUnVsZSI6ICJldmVub2RkIiwgImxpbmVDYXAiOiAicm91bmQiLCAibGluZUpvaW4iOiAicm91bmQiLCAib3BhY2l0eSI6IDEuMCwgInJhZGl1cyI6IDE2MDAwMC4wLCAic3Ryb2tlIjogdHJ1ZSwgIndlaWdodCI6IDN9CiAgICAgICAgICAgICkuYWRkVG8obWFwX2ZmZjE4NTc1OTRiZjRhM2E4Mjc4ZjEyNTM2Y2NkNjM3KTsKICAgICAgICAKICAgIAogICAgICAgICAgICBjaXJjbGVfYzJiNTI0ZDg5N2EwNDY1ODg3NjE2MjFhNTUwMTQxYzkuYmluZFRvb2x0aXAoCiAgICAgICAgICAgICAgICBgPGRpdj4KICAgICAgICAgICAgICAgICAgICAgPGRpdiBzdHlsZT0nbWFyZ2luOiAwOyBiYWNrZ3JvdW5kLWNvbG9yOiBibGFjazsgY29sb3I6IHdoaXRlOyc+PGg0IHN0eWxlPSd0ZXh0LWFsaWduOmNlbnRlcjtmb250LXdlaWdodDogYm9sZCc+WmltYmFid2U8L2g0PjxociBzdHlsZT0nbWFyZ2luOjEwcHg7Y29sb3I6IHdoaXRlOyc+PHVsIHN0eWxlPSdjb2xvcjogd2hpdGU7O2xpc3Qtc3R5bGUtdHlwZTpjaXJjbGU7YWxpZ24taXRlbTpsZWZ0O3BhZGRpbmctbGVmdDoyMHB4O3BhZGRpbmctcmlnaHQ6MjBweCc+PGxpPkNvbmZpcm1lZDogNDA8L2xpPjxsaT5EZWF0aHM6ICAgNDwvbGk+PGxpPkRlYXRoIFJhdGU6IDkuNzY8L2xpPjwvdWw+PC9kaXY+CiAgICAgICAgICAgICAgICAgPC9kaXY+YCwKICAgICAgICAgICAgICAgIHsic3RpY2t5IjogdHJ1ZX0KICAgICAgICAgICAgKTsKICAgICAgICAKICAgIAogICAgICAgICAgICB2YXIgY2lyY2xlX2IzNzg5YWVmOWQ2NzRiNWRiNjZkNTA3MjI1YzA2ZDNjID0gTC5jaXJjbGUoCiAgICAgICAgICAgICAgICBbMC4wLCAwLjBdLAogICAgICAgICAgICAgICAgeyJidWJibGluZ01vdXNlRXZlbnRzIjogdHJ1ZSwgImNvbG9yIjogInJlZCIsICJkYXNoQXJyYXkiOiBudWxsLCAiZGFzaE9mZnNldCI6IG51bGwsICJmaWxsIjogdHJ1ZSwgImZpbGxDb2xvciI6ICJpbmRpZ28iLCAiZmlsbE9wYWNpdHkiOiAwLjIsICJmaWxsUnVsZSI6ICJldmVub2RkIiwgImxpbmVDYXAiOiAicm91bmQiLCAibGluZUpvaW4iOiAicm91bmQiLCAib3BhY2l0eSI6IDEuMCwgInJhZGl1cyI6IDEwMDAwLjAsICJzdHJva2UiOiB0cnVlLCAid2VpZ2h0IjogM30KICAgICAgICAgICAgKS5hZGRUbyhtYXBfZmZmMTg1NzU5NGJmNGEzYTgyNzhmMTI1MzZjY2Q2MzcpOwogICAgICAgIAogICAgCiAgICAgICAgICAgIGNpcmNsZV9iMzc4OWFlZjlkNjc0YjVkYjY2ZDUwNzIyNWMwNmQzYy5iaW5kVG9vbHRpcCgKICAgICAgICAgICAgICAgIGA8ZGl2PgogICAgICAgICAgICAgICAgICAgICA8ZGl2IHN0eWxlPSdtYXJnaW46IDA7IGJhY2tncm91bmQtY29sb3I6IGJsYWNrOyBjb2xvcjogd2hpdGU7Jz48aDQgc3R5bGU9J3RleHQtYWxpZ246Y2VudGVyO2ZvbnQtd2VpZ2h0OiBib2xkJz5DYW5hZGE8L2g0PjxociBzdHlsZT0nbWFyZ2luOjEwcHg7Y29sb3I6IHdoaXRlOyc+PHVsIHN0eWxlPSdjb2xvcjogd2hpdGU7O2xpc3Qtc3R5bGUtdHlwZTpjaXJjbGU7YWxpZ24taXRlbTpsZWZ0O3BhZGRpbmctbGVmdDoyMHB4O3BhZGRpbmctcmlnaHQ6MjBweCc+PGxpPkNvbmZpcm1lZDogMTwvbGk+PGxpPkRlYXRoczogICAxPC9saT48bGk+RGVhdGggUmF0ZTogNTAuMDwvbGk+PC91bD48L2Rpdj4KICAgICAgICAgICAgICAgICA8L2Rpdj5gLAogICAgICAgICAgICAgICAgeyJzdGlja3kiOiB0cnVlfQogICAgICAgICAgICApOwogICAgICAgIAogICAgCiAgICAgICAgICAgIHZhciBjaXJjbGVfNTY4NTNmNjYwNWU3NGUwNTkwNTk0MWU0MGU4MTc3MGEgPSBMLmNpcmNsZSgKICAgICAgICAgICAgICAgIFsxNS40MTUsIC02MS4zNzFdLAogICAgICAgICAgICAgICAgeyJidWJibGluZ01vdXNlRXZlbnRzIjogdHJ1ZSwgImNvbG9yIjogInJlZCIsICJkYXNoQXJyYXkiOiBudWxsLCAiZGFzaE9mZnNldCI6IG51bGwsICJmaWxsIjogdHJ1ZSwgImZpbGxDb2xvciI6ICJpbmRpZ28iLCAiZmlsbE9wYWNpdHkiOiAwLjIsICJmaWxsUnVsZSI6ICJldmVub2RkIiwgImxpbmVDYXAiOiAicm91bmQiLCAibGluZUpvaW4iOiAicm91bmQiLCAib3BhY2l0eSI6IDEuMCwgInJhZGl1cyI6IDExMDAwMC4wMDAwMDAwMDAwMSwgInN0cm9rZSI6IHRydWUsICJ3ZWlnaHQiOiAzfQogICAgICAgICAgICApLmFkZFRvKG1hcF9mZmYxODU3NTk0YmY0YTNhODI3OGYxMjUzNmNjZDYzNyk7CiAgICAgICAgCiAgICAKICAgICAgICAgICAgY2lyY2xlXzU2ODUzZjY2MDVlNzRlMDU5MDU5NDFlNDBlODE3NzBhLmJpbmRUb29sdGlwKAogICAgICAgICAgICAgICAgYDxkaXY+CiAgICAgICAgICAgICAgICAgICAgIDxkaXYgc3R5bGU9J21hcmdpbjogMDsgYmFja2dyb3VuZC1jb2xvcjogYmxhY2s7IGNvbG9yOiB3aGl0ZTsnPjxoNCBzdHlsZT0ndGV4dC1hbGlnbjpjZW50ZXI7Zm9udC13ZWlnaHQ6IGJvbGQnPkRvbWluaWNhPC9oND48aHIgc3R5bGU9J21hcmdpbjoxMHB4O2NvbG9yOiB3aGl0ZTsnPjx1bCBzdHlsZT0nY29sb3I6IHdoaXRlOztsaXN0LXN0eWxlLXR5cGU6Y2lyY2xlO2FsaWduLWl0ZW06bGVmdDtwYWRkaW5nLWxlZnQ6MjBweDtwYWRkaW5nLXJpZ2h0OjIwcHgnPjxsaT5Db25maXJtZWQ6IDE2PC9saT48bGk+RGVhdGhzOiAgIDA8L2xpPjxsaT5EZWF0aCBSYXRlOiAwLjA8L2xpPjwvdWw+PC9kaXY+CiAgICAgICAgICAgICAgICAgPC9kaXY+YCwKICAgICAgICAgICAgICAgIHsic3RpY2t5IjogdHJ1ZX0KICAgICAgICAgICAgKTsKICAgICAgICAKICAgIAogICAgICAgICAgICB2YXIgY2lyY2xlX2FhZWIyZmFiYmRkOTRjMGZiN2Y4NzFmYmU2ZmI1NTkwID0gTC5jaXJjbGUoCiAgICAgICAgICAgICAgICBbMTIuMTE2NSwgLTYxLjY3ODk5OTk5OTk5OTk5NV0sCiAgICAgICAgICAgICAgICB7ImJ1YmJsaW5nTW91c2VFdmVudHMiOiB0cnVlLCAiY29sb3IiOiAicmVkIiwgImRhc2hBcnJheSI6IG51bGwsICJkYXNoT2Zmc2V0IjogbnVsbCwgImZpbGwiOiB0cnVlLCAiZmlsbENvbG9yIjogImluZGlnbyIsICJmaWxsT3BhY2l0eSI6IDAuMiwgImZpbGxSdWxlIjogImV2ZW5vZGQiLCAibGluZUNhcCI6ICJyb3VuZCIsICJsaW5lSm9pbiI6ICJyb3VuZCIsICJvcGFjaXR5IjogMS4wLCAicmFkaXVzIjogMTYwMDAwLjAsICJzdHJva2UiOiB0cnVlLCAid2VpZ2h0IjogM30KICAgICAgICAgICAgKS5hZGRUbyhtYXBfZmZmMTg1NzU5NGJmNGEzYTgyNzhmMTI1MzZjY2Q2MzcpOwogICAgICAgIAogICAgCiAgICAgICAgICAgIGNpcmNsZV9hYWViMmZhYmJkZDk0YzBmYjdmODcxZmJlNmZiNTU5MC5iaW5kVG9vbHRpcCgKICAgICAgICAgICAgICAgIGA8ZGl2PgogICAgICAgICAgICAgICAgICAgICA8ZGl2IHN0eWxlPSdtYXJnaW46IDA7IGJhY2tncm91bmQtY29sb3I6IGJsYWNrOyBjb2xvcjogd2hpdGU7Jz48aDQgc3R5bGU9J3RleHQtYWxpZ246Y2VudGVyO2ZvbnQtd2VpZ2h0OiBib2xkJz5HcmVuYWRhPC9oND48aHIgc3R5bGU9J21hcmdpbjoxMHB4O2NvbG9yOiB3aGl0ZTsnPjx1bCBzdHlsZT0nY29sb3I6IHdoaXRlOztsaXN0LXN0eWxlLXR5cGU6Y2lyY2xlO2FsaWduLWl0ZW06bGVmdDtwYWRkaW5nLWxlZnQ6MjBweDtwYWRkaW5nLXJpZ2h0OjIwcHgnPjxsaT5Db25maXJtZWQ6IDIwPC9saT48bGk+RGVhdGhzOiAgIDA8L2xpPjxsaT5EZWF0aCBSYXRlOiAwLjA8L2xpPjwvdWw+PC9kaXY+CiAgICAgICAgICAgICAgICAgPC9kaXY+YCwKICAgICAgICAgICAgICAgIHsic3RpY2t5IjogdHJ1ZX0KICAgICAgICAgICAgKTsKICAgICAgICAKICAgIAogICAgICAgICAgICB2YXIgY2lyY2xlXzUzOGJmMjkwMzdhODQwYzNhNTVhNjI0MGQ0Mzk0ZGY1ID0gTC5jaXJjbGUoCiAgICAgICAgICAgICAgICBbLTE4LjY2NTY5NSwgMzUuNTI5NTYyXSwKICAgICAgICAgICAgICAgIHsiYnViYmxpbmdNb3VzZUV2ZW50cyI6IHRydWUsICJjb2xvciI6ICJyZWQiLCAiZGFzaEFycmF5IjogbnVsbCwgImRhc2hPZmZzZXQiOiBudWxsLCAiZmlsbCI6IHRydWUsICJmaWxsQ29sb3IiOiAiaW5kaWdvIiwgImZpbGxPcGFjaXR5IjogMC4yLCAiZmlsbFJ1bGUiOiAiZXZlbm9kZCIsICJsaW5lQ2FwIjogInJvdW5kIiwgImxpbmVKb2luIjogInJvdW5kIiwgIm9wYWNpdHkiOiAxLjAsICJyYWRpdXMiOiAyMTAwMDAuMCwgInN0cm9rZSI6IHRydWUsICJ3ZWlnaHQiOiAzfQogICAgICAgICAgICApLmFkZFRvKG1hcF9mZmYxODU3NTk0YmY0YTNhODI3OGYxMjUzNmNjZDYzNyk7CiAgICAgICAgCiAgICAKICAgICAgICAgICAgY2lyY2xlXzUzOGJmMjkwMzdhODQwYzNhNTVhNjI0MGQ0Mzk0ZGY1LmJpbmRUb29sdGlwKAogICAgICAgICAgICAgICAgYDxkaXY+CiAgICAgICAgICAgICAgICAgICAgIDxkaXYgc3R5bGU9J21hcmdpbjogMDsgYmFja2dyb3VuZC1jb2xvcjogYmxhY2s7IGNvbG9yOiB3aGl0ZTsnPjxoNCBzdHlsZT0ndGV4dC1hbGlnbjpjZW50ZXI7Zm9udC13ZWlnaHQ6IGJvbGQnPk1vemFtYmlxdWU8L2g0PjxociBzdHlsZT0nbWFyZ2luOjEwcHg7Y29sb3I6IHdoaXRlOyc+PHVsIHN0eWxlPSdjb2xvcjogd2hpdGU7O2xpc3Qtc3R5bGUtdHlwZTpjaXJjbGU7YWxpZ24taXRlbTpsZWZ0O3BhZGRpbmctbGVmdDoyMHB4O3BhZGRpbmctcmlnaHQ6MjBweCc+PGxpPkNvbmZpcm1lZDogNzk8L2xpPjxsaT5EZWF0aHM6ICAgMDwvbGk+PGxpPkRlYXRoIFJhdGU6IDAuMDwvbGk+PC91bD48L2Rpdj4KICAgICAgICAgICAgICAgICA8L2Rpdj5gLAogICAgICAgICAgICAgICAgeyJzdGlja3kiOiB0cnVlfQogICAgICAgICAgICApOwogICAgICAgIAogICAgCiAgICAgICAgICAgIHZhciBjaXJjbGVfMTRkYTUxZjQ4YzhiNGMwZDlhMjUxYTJlZTNiYjMyMWIgPSBMLmNpcmNsZSgKICAgICAgICAgICAgICAgIFszNC44MDIwNzUsIDM4Ljk5NjgxNTAwMDAwMDAxXSwKICAgICAgICAgICAgICAgIHsiYnViYmxpbmdNb3VzZUV2ZW50cyI6IHRydWUsICJjb2xvciI6ICJyZWQiLCAiZGFzaEFycmF5IjogbnVsbCwgImRhc2hPZmZzZXQiOiBudWxsLCAiZmlsbCI6IHRydWUsICJmaWxsQ29sb3IiOiAiaW5kaWdvIiwgImZpbGxPcGFjaXR5IjogMC4yLCAiZmlsbFJ1bGUiOiAiZXZlbm9kZCIsICJsaW5lQ2FwIjogInJvdW5kIiwgImxpbmVKb2luIjogInJvdW5kIiwgIm9wYWNpdHkiOiAxLjAsICJyYWRpdXMiOiAxNjAwMDAuMCwgInN0cm9rZSI6IHRydWUsICJ3ZWlnaHQiOiAzfQogICAgICAgICAgICApLmFkZFRvKG1hcF9mZmYxODU3NTk0YmY0YTNhODI3OGYxMjUzNmNjZDYzNyk7CiAgICAgICAgCiAgICAKICAgICAgICAgICAgY2lyY2xlXzE0ZGE1MWY0OGM4YjRjMGQ5YTI1MWEyZWUzYmIzMjFiLmJpbmRUb29sdGlwKAogICAgICAgICAgICAgICAgYDxkaXY+CiAgICAgICAgICAgICAgICAgICAgIDxkaXYgc3R5bGU9J21hcmdpbjogMDsgYmFja2dyb3VuZC1jb2xvcjogYmxhY2s7IGNvbG9yOiB3aGl0ZTsnPjxoNCBzdHlsZT0ndGV4dC1hbGlnbjpjZW50ZXI7Zm9udC13ZWlnaHQ6IGJvbGQnPlN5cmlhPC9oND48aHIgc3R5bGU9J21hcmdpbjoxMHB4O2NvbG9yOiB3aGl0ZTsnPjx1bCBzdHlsZT0nY29sb3I6IHdoaXRlOztsaXN0LXN0eWxlLXR5cGU6Y2lyY2xlO2FsaWduLWl0ZW06bGVmdDtwYWRkaW5nLWxlZnQ6MjBweDtwYWRkaW5nLXJpZ2h0OjIwcHgnPjxsaT5Db25maXJtZWQ6IDQ0PC9saT48bGk+RGVhdGhzOiAgIDM8L2xpPjxsaT5EZWF0aCBSYXRlOiA2LjY3PC9saT48L3VsPjwvZGl2PgogICAgICAgICAgICAgICAgIDwvZGl2PmAsCiAgICAgICAgICAgICAgICB7InN0aWNreSI6IHRydWV9CiAgICAgICAgICAgICk7CiAgICAgICAgCiAgICAKICAgICAgICAgICAgdmFyIGNpcmNsZV9mYzY3NmJhN2M4MDI0MDZjYjc5MmNkMjYwNGE5Yzc3ZiA9IEwuY2lyY2xlKAogICAgICAgICAgICAgICAgWy04Ljg3NDIxNywgMTI1LjcyNzUzOV0sCiAgICAgICAgICAgICAgICB7ImJ1YmJsaW5nTW91c2VFdmVudHMiOiB0cnVlLCAiY29sb3IiOiAicmVkIiwgImRhc2hBcnJheSI6IG51bGwsICJkYXNoT2Zmc2V0IjogbnVsbCwgImZpbGwiOiB0cnVlLCAiZmlsbENvbG9yIjogImluZGlnbyIsICJmaWxsT3BhY2l0eSI6IDAuMiwgImZpbGxSdWxlIjogImV2ZW5vZGQiLCAibGluZUNhcCI6ICJyb3VuZCIsICJsaW5lSm9pbiI6ICJyb3VuZCIsICJvcGFjaXR5IjogMS4wLCAicmFkaXVzIjogMTYwMDAwLjAsICJzdHJva2UiOiB0cnVlLCAid2VpZ2h0IjogM30KICAgICAgICAgICAgKS5hZGRUbyhtYXBfZmZmMTg1NzU5NGJmNGEzYTgyNzhmMTI1MzZjY2Q2MzcpOwogICAgICAgIAogICAgCiAgICAgICAgICAgIGNpcmNsZV9mYzY3NmJhN2M4MDI0MDZjYjc5MmNkMjYwNGE5Yzc3Zi5iaW5kVG9vbHRpcCgKICAgICAgICAgICAgICAgIGA8ZGl2PgogICAgICAgICAgICAgICAgICAgICA8ZGl2IHN0eWxlPSdtYXJnaW46IDA7IGJhY2tncm91bmQtY29sb3I6IGJsYWNrOyBjb2xvcjogd2hpdGU7Jz48aDQgc3R5bGU9J3RleHQtYWxpZ246Y2VudGVyO2ZvbnQtd2VpZ2h0OiBib2xkJz5UaW1vci1MZXN0ZTwvaDQ+PGhyIHN0eWxlPSdtYXJnaW46MTBweDtjb2xvcjogd2hpdGU7Jz48dWwgc3R5bGU9J2NvbG9yOiB3aGl0ZTs7bGlzdC1zdHlsZS10eXBlOmNpcmNsZTthbGlnbi1pdGVtOmxlZnQ7cGFkZGluZy1sZWZ0OjIwcHg7cGFkZGluZy1yaWdodDoyMHB4Jz48bGk+Q29uZmlybWVkOiAyNDwvbGk+PGxpPkRlYXRoczogICAwPC9saT48bGk+RGVhdGggUmF0ZTogMC4wPC9saT48L3VsPjwvZGl2PgogICAgICAgICAgICAgICAgIDwvZGl2PmAsCiAgICAgICAgICAgICAgICB7InN0aWNreSI6IHRydWV9CiAgICAgICAgICAgICk7CiAgICAgICAgCiAgICAKICAgICAgICAgICAgdmFyIGNpcmNsZV83YzA0OGJiYzQyOGQ0ZWZhOGRkYzUwNzYwZTNjY2Y1YiA9IEwuY2lyY2xlKAogICAgICAgICAgICAgICAgWzEzLjE5MzksIC01OS41NDMyXSwKICAgICAgICAgICAgICAgIHsiYnViYmxpbmdNb3VzZUV2ZW50cyI6IHRydWUsICJjb2xvciI6ICJyZWQiLCAiZGFzaEFycmF5IjogbnVsbCwgImRhc2hPZmZzZXQiOiBudWxsLCAiZmlsbCI6IHRydWUsICJmaWxsQ29sb3IiOiAiaW5kaWdvIiwgImZpbGxPcGFjaXR5IjogMC4yLCAiZmlsbFJ1bGUiOiAiZXZlbm9kZCIsICJsaW5lQ2FwIjogInJvdW5kIiwgImxpbmVKb2luIjogInJvdW5kIiwgIm9wYWNpdHkiOiAxLjAsICJyYWRpdXMiOiAxMTAwMDAuMDAwMDAwMDAwMDEsICJzdHJva2UiOiB0cnVlLCAid2VpZ2h0IjogM30KICAgICAgICAgICAgKS5hZGRUbyhtYXBfZmZmMTg1NzU5NGJmNGEzYTgyNzhmMTI1MzZjY2Q2MzcpOwogICAgICAgIAogICAgCiAgICAgICAgICAgIGNpcmNsZV83YzA0OGJiYzQyOGQ0ZWZhOGRkYzUwNzYwZTNjY2Y1Yi5iaW5kVG9vbHRpcCgKICAgICAgICAgICAgICAgIGA8ZGl2PgogICAgICAgICAgICAgICAgICAgICA8ZGl2IHN0eWxlPSdtYXJnaW46IDA7IGJhY2tncm91bmQtY29sb3I6IGJsYWNrOyBjb2xvcjogd2hpdGU7Jz48aDQgc3R5bGU9J3RleHQtYWxpZ246Y2VudGVyO2ZvbnQtd2VpZ2h0OiBib2xkJz5CZWxpemU8L2g0PjxociBzdHlsZT0nbWFyZ2luOjEwcHg7Y29sb3I6IHdoaXRlOyc+PHVsIHN0eWxlPSdjb2xvcjogd2hpdGU7O2xpc3Qtc3R5bGUtdHlwZTpjaXJjbGU7YWxpZ24taXRlbTpsZWZ0O3BhZGRpbmctbGVmdDoyMHB4O3BhZGRpbmctcmlnaHQ6MjBweCc+PGxpPkNvbmZpcm1lZDogMTg8L2xpPjxsaT5EZWF0aHM6ICAgMjwvbGk+PGxpPkRlYXRoIFJhdGU6IDEwLjUzPC9saT48L3VsPjwvZGl2PgogICAgICAgICAgICAgICAgIDwvZGl2PmAsCiAgICAgICAgICAgICAgICB7InN0aWNreSI6IHRydWV9CiAgICAgICAgICAgICk7CiAgICAgICAgCiAgICAKICAgICAgICAgICAgdmFyIGNpcmNsZV9jOGM0NjFkZTY1ZWY0NDNlODU1OTFiODk4NGZkNTg5YyA9IEwuY2lyY2xlKAogICAgICAgICAgICAgICAgWzAuMCwgMC4wXSwKICAgICAgICAgICAgICAgIHsiYnViYmxpbmdNb3VzZUV2ZW50cyI6IHRydWUsICJjb2xvciI6ICJyZWQiLCAiZGFzaEFycmF5IjogbnVsbCwgImRhc2hPZmZzZXQiOiBudWxsLCAiZmlsbCI6IHRydWUsICJmaWxsQ29sb3IiOiAiaW5kaWdvIiwgImZpbGxPcGFjaXR5IjogMC4yLCAiZmlsbFJ1bGUiOiAiZXZlbm9kZCIsICJsaW5lQ2FwIjogInJvdW5kIiwgImxpbmVKb2luIjogInJvdW5kIiwgIm9wYWNpdHkiOiAxLjAsICJyYWRpdXMiOiAxMDAwMC4wLCAic3Ryb2tlIjogdHJ1ZSwgIndlaWdodCI6IDN9CiAgICAgICAgICAgICkuYWRkVG8obWFwX2ZmZjE4NTc1OTRiZjRhM2E4Mjc4ZjEyNTM2Y2NkNjM3KTsKICAgICAgICAKICAgIAogICAgICAgICAgICBjaXJjbGVfYzhjNDYxZGU2NWVmNDQzZTg1NTkxYjg5ODRmZDU4OWMuYmluZFRvb2x0aXAoCiAgICAgICAgICAgICAgICBgPGRpdj4KICAgICAgICAgICAgICAgICAgICAgPGRpdiBzdHlsZT0nbWFyZ2luOiAwOyBiYWNrZ3JvdW5kLWNvbG9yOiBibGFjazsgY29sb3I6IHdoaXRlOyc+PGg0IHN0eWxlPSd0ZXh0LWFsaWduOmNlbnRlcjtmb250LXdlaWdodDogYm9sZCc+Q2FuYWRhPC9oND48aHIgc3R5bGU9J21hcmdpbjoxMHB4O2NvbG9yOiB3aGl0ZTsnPjx1bCBzdHlsZT0nY29sb3I6IHdoaXRlOztsaXN0LXN0eWxlLXR5cGU6Y2lyY2xlO2FsaWduLWl0ZW06bGVmdDtwYWRkaW5nLWxlZnQ6MjBweDtwYWRkaW5nLXJpZ2h0OjIwcHgnPjxsaT5Db25maXJtZWQ6IDA8L2xpPjxsaT5EZWF0aHM6ICAgMDwvbGk+PGxpPkRlYXRoIFJhdGU6IDAuMDwvbGk+PC91bD48L2Rpdj4KICAgICAgICAgICAgICAgICA8L2Rpdj5gLAogICAgICAgICAgICAgICAgeyJzdGlja3kiOiB0cnVlfQogICAgICAgICAgICApOwogICAgICAgIAogICAgCiAgICAgICAgICAgIHZhciBjaXJjbGVfNDg4NzFlZjJkOTgwNGFkYzkwNGJmM2I0NTFkYzkwZDYgPSBMLmNpcmNsZSgKICAgICAgICAgICAgICAgIFsxOS44NTYyNzAwMDAwMDAwMDIsIDEwMi40OTU0OTZdLAogICAgICAgICAgICAgICAgeyJidWJibGluZ01vdXNlRXZlbnRzIjogdHJ1ZSwgImNvbG9yIjogInJlZCIsICJkYXNoQXJyYXkiOiBudWxsLCAiZGFzaE9mZnNldCI6IG51bGwsICJmaWxsIjogdHJ1ZSwgImZpbGxDb2xvciI6ICJpbmRpZ28iLCAiZmlsbE9wYWNpdHkiOiAwLjIsICJmaWxsUnVsZSI6ICJldmVub2RkIiwgImxpbmVDYXAiOiAicm91bmQiLCAibGluZUpvaW4iOiAicm91bmQiLCAib3BhY2l0eSI6IDEuMCwgInJhZGl1cyI6IDExMDAwMC4wMDAwMDAwMDAwMSwgInN0cm9rZSI6IHRydWUsICJ3ZWlnaHQiOiAzfQogICAgICAgICAgICApLmFkZFRvKG1hcF9mZmYxODU3NTk0YmY0YTNhODI3OGYxMjUzNmNjZDYzNyk7CiAgICAgICAgCiAgICAKICAgICAgICAgICAgY2lyY2xlXzQ4ODcxZWYyZDk4MDRhZGM5MDRiZjNiNDUxZGM5MGQ2LmJpbmRUb29sdGlwKAogICAgICAgICAgICAgICAgYDxkaXY+CiAgICAgICAgICAgICAgICAgICAgIDxkaXYgc3R5bGU9J21hcmdpbjogMDsgYmFja2dyb3VuZC1jb2xvcjogYmxhY2s7IGNvbG9yOiB3aGl0ZTsnPjxoNCBzdHlsZT0ndGV4dC1hbGlnbjpjZW50ZXI7Zm9udC13ZWlnaHQ6IGJvbGQnPkxhb3M8L2g0PjxociBzdHlsZT0nbWFyZ2luOjEwcHg7Y29sb3I6IHdoaXRlOyc+PHVsIHN0eWxlPSdjb2xvcjogd2hpdGU7O2xpc3Qtc3R5bGUtdHlwZTpjaXJjbGU7YWxpZ24taXRlbTpsZWZ0O3BhZGRpbmctbGVmdDoyMHB4O3BhZGRpbmctcmlnaHQ6MjBweCc+PGxpPkNvbmZpcm1lZDogMTk8L2xpPjxsaT5EZWF0aHM6ICAgMDwvbGk+PGxpPkRlYXRoIFJhdGU6IDAuMDwvbGk+PC91bD48L2Rpdj4KICAgICAgICAgICAgICAgICA8L2Rpdj5gLAogICAgICAgICAgICAgICAgeyJzdGlja3kiOiB0cnVlfQogICAgICAgICAgICApOwogICAgICAgIAogICAgCiAgICAgICAgICAgIHZhciBjaXJjbGVfZDBiZTc0OGQyNTMwNDRiZmFmZWFkZWZmZmM0YjNmMmMgPSBMLmNpcmNsZSgKICAgICAgICAgICAgICAgIFsyNi4zMzUxLCAxNy4yMjgzMzFdLAogICAgICAgICAgICAgICAgeyJidWJibGluZ01vdXNlRXZlbnRzIjogdHJ1ZSwgImNvbG9yIjogInJlZCIsICJkYXNoQXJyYXkiOiBudWxsLCAiZGFzaE9mZnNldCI6IG51bGwsICJmaWxsIjogdHJ1ZSwgImZpbGxDb2xvciI6ICJpbmRpZ28iLCAiZmlsbE9wYWNpdHkiOiAwLjIsICJmaWxsUnVsZSI6ICJldmVub2RkIiwgImxpbmVDYXAiOiAicm91bmQiLCAibGluZUpvaW4iOiAicm91bmQiLCAib3BhY2l0eSI6IDEuMCwgInJhZGl1cyI6IDIxMDAwMC4wLCAic3Ryb2tlIjogdHJ1ZSwgIndlaWdodCI6IDN9CiAgICAgICAgICAgICkuYWRkVG8obWFwX2ZmZjE4NTc1OTRiZjRhM2E4Mjc4ZjEyNTM2Y2NkNjM3KTsKICAgICAgICAKICAgIAogICAgICAgICAgICBjaXJjbGVfZDBiZTc0OGQyNTMwNDRiZmFmZWFkZWZmZmM0YjNmMmMuYmluZFRvb2x0aXAoCiAgICAgICAgICAgICAgICBgPGRpdj4KICAgICAgICAgICAgICAgICAgICAgPGRpdiBzdHlsZT0nbWFyZ2luOiAwOyBiYWNrZ3JvdW5kLWNvbG9yOiBibGFjazsgY29sb3I6IHdoaXRlOyc+PGg0IHN0eWxlPSd0ZXh0LWFsaWduOmNlbnRlcjtmb250LXdlaWdodDogYm9sZCc+TGlieWE8L2g0PjxociBzdHlsZT0nbWFyZ2luOjEwcHg7Y29sb3I6IHdoaXRlOyc+PHVsIHN0eWxlPSdjb2xvcjogd2hpdGU7O2xpc3Qtc3R5bGUtdHlwZTpjaXJjbGU7YWxpZ24taXRlbTpsZWZ0O3BhZGRpbmctbGVmdDoyMHB4O3BhZGRpbmctcmlnaHQ6MjBweCc+PGxpPkNvbmZpcm1lZDogNjM8L2xpPjxsaT5EZWF0aHM6ICAgMzwvbGk+PGxpPkRlYXRoIFJhdGU6IDQuNjk8L2xpPjwvdWw+PC9kaXY+CiAgICAgICAgICAgICAgICAgPC9kaXY+YCwKICAgICAgICAgICAgICAgIHsic3RpY2t5IjogdHJ1ZX0KICAgICAgICAgICAgKTsKICAgICAgICAKICAgIAogICAgICAgICAgICB2YXIgY2lyY2xlX2FhOTA0MjI5ZTE2NzQ0YjRhZDM3ZjI2N2M2ODI3MmFjID0gTC5jaXJjbGUoCiAgICAgICAgICAgICAgICBbMzEuOTUyMiwgMzUuMjMzMl0sCiAgICAgICAgICAgICAgICB7ImJ1YmJsaW5nTW91c2VFdmVudHMiOiB0cnVlLCAiY29sb3IiOiAicmVkIiwgImRhc2hBcnJheSI6IG51bGwsICJkYXNoT2Zmc2V0IjogbnVsbCwgImZpbGwiOiB0cnVlLCAiZmlsbENvbG9yIjogImluZGlnbyIsICJmaWxsT3BhY2l0eSI6IDAuMiwgImZpbGxSdWxlIjogImV2ZW5vZGQiLCAibGluZUNhcCI6ICJyb3VuZCIsICJsaW5lSm9pbiI6ICJyb3VuZCIsICJvcGFjaXR5IjogMS4wLCAicmFkaXVzIjogMjYwMDAwLjAsICJzdHJva2UiOiB0cnVlLCAid2VpZ2h0IjogM30KICAgICAgICAgICAgKS5hZGRUbyhtYXBfZmZmMTg1NzU5NGJmNGEzYTgyNzhmMTI1MzZjY2Q2MzcpOwogICAgICAgIAogICAgCiAgICAgICAgICAgIGNpcmNsZV9hYTkwNDIyOWUxNjc0NGI0YWQzN2YyNjdjNjgyNzJhYy5iaW5kVG9vbHRpcCgKICAgICAgICAgICAgICAgIGA8ZGl2PgogICAgICAgICAgICAgICAgICAgICA8ZGl2IHN0eWxlPSdtYXJnaW46IDA7IGJhY2tncm91bmQtY29sb3I6IGJsYWNrOyBjb2xvcjogd2hpdGU7Jz48aDQgc3R5bGU9J3RleHQtYWxpZ246Y2VudGVyO2ZvbnQtd2VpZ2h0OiBib2xkJz5XZXN0IEJhbmsgYW5kIEdhemE8L2g0PjxociBzdHlsZT0nbWFyZ2luOjEwcHg7Y29sb3I6IHdoaXRlOyc+PHVsIHN0eWxlPSdjb2xvcjogd2hpdGU7O2xpc3Qtc3R5bGUtdHlwZTpjaXJjbGU7YWxpZ24taXRlbTpsZWZ0O3BhZGRpbmctbGVmdDoyMHB4O3BhZGRpbmctcmlnaHQ6MjBweCc+PGxpPkNvbmZpcm1lZDogMzUzPC9saT48bGk+RGVhdGhzOiAgIDI8L2xpPjxsaT5EZWF0aCBSYXRlOiAwLjU2PC9saT48L3VsPjwvZGl2PgogICAgICAgICAgICAgICAgIDwvZGl2PmAsCiAgICAgICAgICAgICAgICB7InN0aWNreSI6IHRydWV9CiAgICAgICAgICAgICk7CiAgICAgICAgCiAgICAKICAgICAgICAgICAgdmFyIGNpcmNsZV8xNmM5MDI1OGNhOTk0YTNlYTM2OTRjZDQ2OWNiMDdiNiA9IEwuY2lyY2xlKAogICAgICAgICAgICAgICAgWzExLjgwMzcsIC0xNS4xODA0XSwKICAgICAgICAgICAgICAgIHsiYnViYmxpbmdNb3VzZUV2ZW50cyI6IHRydWUsICJjb2xvciI6ICJyZWQiLCAiZGFzaEFycmF5IjogbnVsbCwgImRhc2hPZmZzZXQiOiBudWxsLCAiZmlsbCI6IHRydWUsICJmaWxsQ29sb3IiOiAiaW5kaWdvIiwgImZpbGxPcGFjaXR5IjogMC4yLCAiZmlsbFJ1bGUiOiAiZXZlbm9kZCIsICJsaW5lQ2FwIjogInJvdW5kIiwgImxpbmVKb2luIjogInJvdW5kIiwgIm9wYWNpdHkiOiAxLjAsICJyYWRpdXMiOiAyNjAwMDAuMCwgInN0cm9rZSI6IHRydWUsICJ3ZWlnaHQiOiAzfQogICAgICAgICAgICApLmFkZFRvKG1hcF9mZmYxODU3NTk0YmY0YTNhODI3OGYxMjUzNmNjZDYzNyk7CiAgICAgICAgCiAgICAKICAgICAgICAgICAgY2lyY2xlXzE2YzkwMjU4Y2E5OTRhM2VhMzY5NGNkNDY5Y2IwN2I2LmJpbmRUb29sdGlwKAogICAgICAgICAgICAgICAgYDxkaXY+CiAgICAgICAgICAgICAgICAgICAgIDxkaXYgc3R5bGU9J21hcmdpbjogMDsgYmFja2dyb3VuZC1jb2xvcjogYmxhY2s7IGNvbG9yOiB3aGl0ZTsnPjxoNCBzdHlsZT0ndGV4dC1hbGlnbjpjZW50ZXI7Zm9udC13ZWlnaHQ6IGJvbGQnPkd1aW5lYS1CaXNzYXU8L2g0PjxociBzdHlsZT0nbWFyZ2luOjEwcHg7Y29sb3I6IHdoaXRlOyc+PHVsIHN0eWxlPSdjb2xvcjogd2hpdGU7O2xpc3Qtc3R5bGUtdHlwZTpjaXJjbGU7YWxpZ24taXRlbTpsZWZ0O3BhZGRpbmctbGVmdDoyMHB4O3BhZGRpbmctcmlnaHQ6MjBweCc+PGxpPkNvbmZpcm1lZDogMjU3PC9saT48bGk+RGVhdGhzOiAgIDE8L2xpPjxsaT5EZWF0aCBSYXRlOiAwLjM5PC9saT48L3VsPjwvZGl2PgogICAgICAgICAgICAgICAgIDwvZGl2PmAsCiAgICAgICAgICAgICAgICB7InN0aWNreSI6IHRydWV9CiAgICAgICAgICAgICk7CiAgICAgICAgCiAgICAKICAgICAgICAgICAgdmFyIGNpcmNsZV9iZDZhMjdkMjJjYTc0MzgzYTRlMTIxOWEzNzExOTk0MyA9IEwuY2lyY2xlKAogICAgICAgICAgICAgICAgWzE3LjU3MDY5MiwgLTMuOTk2MTY2MDAwMDAwMDAxXSwKICAgICAgICAgICAgICAgIHsiYnViYmxpbmdNb3VzZUV2ZW50cyI6IHRydWUsICJjb2xvciI6ICJyZWQiLCAiZGFzaEFycmF5IjogbnVsbCwgImRhc2hPZmZzZXQiOiBudWxsLCAiZmlsbCI6IHRydWUsICJmaWxsQ29sb3IiOiAiaW5kaWdvIiwgImZpbGxPcGFjaXR5IjogMC4yLCAiZmlsbFJ1bGUiOiAiZXZlbm9kZCIsICJsaW5lQ2FwIjogInJvdW5kIiwgImxpbmVKb2luIjogInJvdW5kIiwgIm9wYWNpdHkiOiAxLjAsICJyYWRpdXMiOiAzMTAwMDAuMCwgInN0cm9rZSI6IHRydWUsICJ3ZWlnaHQiOiAzfQogICAgICAgICAgICApLmFkZFRvKG1hcF9mZmYxODU3NTk0YmY0YTNhODI3OGYxMjUzNmNjZDYzNyk7CiAgICAgICAgCiAgICAKICAgICAgICAgICAgY2lyY2xlX2JkNmEyN2QyMmNhNzQzODNhNGUxMjE5YTM3MTE5OTQzLmJpbmRUb29sdGlwKAogICAgICAgICAgICAgICAgYDxkaXY+CiAgICAgICAgICAgICAgICAgICAgIDxkaXYgc3R5bGU9J21hcmdpbjogMDsgYmFja2dyb3VuZC1jb2xvcjogYmxhY2s7IGNvbG9yOiB3aGl0ZTsnPjxoNCBzdHlsZT0ndGV4dC1hbGlnbjpjZW50ZXI7Zm9udC13ZWlnaHQ6IGJvbGQnPk1hbGk8L2g0PjxociBzdHlsZT0nbWFyZ2luOjEwcHg7Y29sb3I6IHdoaXRlOyc+PHVsIHN0eWxlPSdjb2xvcjogd2hpdGU7O2xpc3Qtc3R5bGUtdHlwZTpjaXJjbGU7YWxpZ24taXRlbTpsZWZ0O3BhZGRpbmctbGVmdDoyMHB4O3BhZGRpbmctcmlnaHQ6MjBweCc+PGxpPkNvbmZpcm1lZDogNTA4PC9saT48bGk+RGVhdGhzOiAgIDI2PC9saT48bGk+RGVhdGggUmF0ZTogNS4xMTwvbGk+PC91bD48L2Rpdj4KICAgICAgICAgICAgICAgICA8L2Rpdj5gLAogICAgICAgICAgICAgICAgeyJzdGlja3kiOiB0cnVlfQogICAgICAgICAgICApOwogICAgICAgIAogICAgCiAgICAgICAgICAgIHZhciBjaXJjbGVfZmI4YzIwMzg1NjQxNDhiZjk4MGNkNWM1YTdjZGJkNGUgPSBMLmNpcmNsZSgKICAgICAgICAgICAgICAgIFsxNy4zNTc4MjIsIC02Mi43ODI5OThdLAogICAgICAgICAgICAgICAgeyJidWJibGluZ01vdXNlRXZlbnRzIjogdHJ1ZSwgImNvbG9yIjogInJlZCIsICJkYXNoQXJyYXkiOiBudWxsLCAiZGFzaE9mZnNldCI6IG51bGwsICJmaWxsIjogdHJ1ZSwgImZpbGxDb2xvciI6ICJpbmRpZ28iLCAiZmlsbE9wYWNpdHkiOiAwLjIsICJmaWxsUnVsZSI6ICJldmVub2RkIiwgImxpbmVDYXAiOiAicm91bmQiLCAibGluZUpvaW4iOiAicm91bmQiLCAib3BhY2l0eSI6IDEuMCwgInJhZGl1cyI6IDExMDAwMC4wMDAwMDAwMDAwMSwgInN0cm9rZSI6IHRydWUsICJ3ZWlnaHQiOiAzfQogICAgICAgICAgICApLmFkZFRvKG1hcF9mZmYxODU3NTk0YmY0YTNhODI3OGYxMjUzNmNjZDYzNyk7CiAgICAgICAgCiAgICAKICAgICAgICAgICAgY2lyY2xlX2ZiOGMyMDM4NTY0MTQ4YmY5ODBjZDVjNWE3Y2RiZDRlLmJpbmRUb29sdGlwKAogICAgICAgICAgICAgICAgYDxkaXY+CiAgICAgICAgICAgICAgICAgICAgIDxkaXYgc3R5bGU9J21hcmdpbjogMDsgYmFja2dyb3VuZC1jb2xvcjogYmxhY2s7IGNvbG9yOiB3aGl0ZTsnPjxoNCBzdHlsZT0ndGV4dC1hbGlnbjpjZW50ZXI7Zm9udC13ZWlnaHQ6IGJvbGQnPlNhaW50IEtpdHRzIGFuZCBOZXZpczwvaDQ+PGhyIHN0eWxlPSdtYXJnaW46MTBweDtjb2xvcjogd2hpdGU7Jz48dWwgc3R5bGU9J2NvbG9yOiB3aGl0ZTs7bGlzdC1zdHlsZS10eXBlOmNpcmNsZTthbGlnbi1pdGVtOmxlZnQ7cGFkZGluZy1sZWZ0OjIwcHg7cGFkZGluZy1yaWdodDoyMHB4Jz48bGk+Q29uZmlybWVkOiAxNTwvbGk+PGxpPkRlYXRoczogICAwPC9saT48bGk+RGVhdGggUmF0ZTogMC4wPC9saT48L3VsPjwvZGl2PgogICAgICAgICAgICAgICAgIDwvZGl2PmAsCiAgICAgICAgICAgICAgICB7InN0aWNreSI6IHRydWV9CiAgICAgICAgICAgICk7CiAgICAgICAgCiAgICAKICAgICAgICAgICAgdmFyIGNpcmNsZV9jMWMzMTc5OWJiZjQ0NjU2YmQ2ODBlYzQ3YjA5ZGU1YiA9IEwuY2lyY2xlKAogICAgICAgICAgICAgICAgWzY0LjgyNTUsIC0xMjQuODQ1N10sCiAgICAgICAgICAgICAgICB7ImJ1YmJsaW5nTW91c2VFdmVudHMiOiB0cnVlLCAiY29sb3IiOiAicmVkIiwgImRhc2hBcnJheSI6IG51bGwsICJkYXNoT2Zmc2V0IjogbnVsbCwgImZpbGwiOiB0cnVlLCAiZmlsbENvbG9yIjogImluZGlnbyIsICJmaWxsT3BhY2l0eSI6IDAuMiwgImZpbGxSdWxlIjogImV2ZW5vZGQiLCAibGluZUNhcCI6ICJyb3VuZCIsICJsaW5lSm9pbiI6ICJyb3VuZCIsICJvcGFjaXR5IjogMS4wLCAicmFkaXVzIjogNjAwMDAuMCwgInN0cm9rZSI6IHRydWUsICJ3ZWlnaHQiOiAzfQogICAgICAgICAgICApLmFkZFRvKG1hcF9mZmYxODU3NTk0YmY0YTNhODI3OGYxMjUzNmNjZDYzNyk7CiAgICAgICAgCiAgICAKICAgICAgICAgICAgY2lyY2xlX2MxYzMxNzk5YmJmNDQ2NTZiZDY4MGVjNDdiMDlkZTViLmJpbmRUb29sdGlwKAogICAgICAgICAgICAgICAgYDxkaXY+CiAgICAgICAgICAgICAgICAgICAgIDxkaXYgc3R5bGU9J21hcmdpbjogMDsgYmFja2dyb3VuZC1jb2xvcjogYmxhY2s7IGNvbG9yOiB3aGl0ZTsnPjxoNCBzdHlsZT0ndGV4dC1hbGlnbjpjZW50ZXI7Zm9udC13ZWlnaHQ6IGJvbGQnPkNhbmFkYTwvaDQ+PGhyIHN0eWxlPSdtYXJnaW46MTBweDtjb2xvcjogd2hpdGU7Jz48dWwgc3R5bGU9J2NvbG9yOiB3aGl0ZTs7bGlzdC1zdHlsZS10eXBlOmNpcmNsZTthbGlnbi1pdGVtOmxlZnQ7cGFkZGluZy1sZWZ0OjIwcHg7cGFkZGluZy1yaWdodDoyMHB4Jz48bGk+Q29uZmlybWVkOiA1PC9saT48bGk+RGVhdGhzOiAgIDA8L2xpPjxsaT5EZWF0aCBSYXRlOiAwLjA8L2xpPjwvdWw+PC9kaXY+CiAgICAgICAgICAgICAgICAgPC9kaXY+YCwKICAgICAgICAgICAgICAgIHsic3RpY2t5IjogdHJ1ZX0KICAgICAgICAgICAgKTsKICAgICAgICAKICAgIAogICAgICAgICAgICB2YXIgY2lyY2xlX2I3MjJiY2I1MzcxOTQ2NGZiNDdmYWU3OWU3MDEwYmE0ID0gTC5jaXJjbGUoCiAgICAgICAgICAgICAgICBbNjQuMjgyMywgLTEzNS4wXSwKICAgICAgICAgICAgICAgIHsiYnViYmxpbmdNb3VzZUV2ZW50cyI6IHRydWUsICJjb2xvciI6ICJyZWQiLCAiZGFzaEFycmF5IjogbnVsbCwgImRhc2hPZmZzZXQiOiBudWxsLCAiZmlsbCI6IHRydWUsICJmaWxsQ29sb3IiOiAiaW5kaWdvIiwgImZpbGxPcGFjaXR5IjogMC4yLCAiZmlsbFJ1bGUiOiAiZXZlbm9kZCIsICJsaW5lQ2FwIjogInJvdW5kIiwgImxpbmVKb2luIjogInJvdW5kIiwgIm9wYWNpdHkiOiAxLjAsICJyYWRpdXMiOiAxMTAwMDAuMDAwMDAwMDAwMDEsICJzdHJva2UiOiB0cnVlLCAid2VpZ2h0IjogM30KICAgICAgICAgICAgKS5hZGRUbyhtYXBfZmZmMTg1NzU5NGJmNGEzYTgyNzhmMTI1MzZjY2Q2MzcpOwogICAgICAgIAogICAgCiAgICAgICAgICAgIGNpcmNsZV9iNzIyYmNiNTM3MTk0NjRmYjQ3ZmFlNzllNzAxMGJhNC5iaW5kVG9vbHRpcCgKICAgICAgICAgICAgICAgIGA8ZGl2PgogICAgICAgICAgICAgICAgICAgICA8ZGl2IHN0eWxlPSdtYXJnaW46IDA7IGJhY2tncm91bmQtY29sb3I6IGJsYWNrOyBjb2xvcjogd2hpdGU7Jz48aDQgc3R5bGU9J3RleHQtYWxpZ246Y2VudGVyO2ZvbnQtd2VpZ2h0OiBib2xkJz5DYW5hZGE8L2g0PjxociBzdHlsZT0nbWFyZ2luOjEwcHg7Y29sb3I6IHdoaXRlOyc+PHVsIHN0eWxlPSdjb2xvcjogd2hpdGU7O2xpc3Qtc3R5bGUtdHlwZTpjaXJjbGU7YWxpZ24taXRlbTpsZWZ0O3BhZGRpbmctbGVmdDoyMHB4O3BhZGRpbmctcmlnaHQ6MjBweCc+PGxpPkNvbmZpcm1lZDogMTE8L2xpPjxsaT5EZWF0aHM6ICAgMDwvbGk+PGxpPkRlYXRoIFJhdGU6IDAuMDwvbGk+PC91bD48L2Rpdj4KICAgICAgICAgICAgICAgICA8L2Rpdj5gLAogICAgICAgICAgICAgICAgeyJzdGlja3kiOiB0cnVlfQogICAgICAgICAgICApOwogICAgICAgIAogICAgCiAgICAgICAgICAgIHZhciBjaXJjbGVfYzE2Njk2ZWExMTAxNDJmY2FjNzFlMzkzZmUyNzM1MjUgPSBMLmNpcmNsZSgKICAgICAgICAgICAgICAgIFs0Mi42MDI2MzYsIDIwLjkwMjk3N10sCiAgICAgICAgICAgICAgICB7ImJ1YmJsaW5nTW91c2VFdmVudHMiOiB0cnVlLCAiY29sb3IiOiAicmVkIiwgImRhc2hBcnJheSI6IG51bGwsICJkYXNoT2Zmc2V0IjogbnVsbCwgImZpbGwiOiB0cnVlLCAiZmlsbENvbG9yIjogImluZGlnbyIsICJmaWxsT3BhY2l0eSI6IDAuMiwgImZpbGxSdWxlIjogImV2ZW5vZGQiLCAibGluZUNhcCI6ICJyb3VuZCIsICJsaW5lSm9pbiI6ICJyb3VuZCIsICJvcGFjaXR5IjogMS4wLCAicmFkaXVzIjogMzEwMDAwLjAsICJzdHJva2UiOiB0cnVlLCAid2VpZ2h0IjogM30KICAgICAgICAgICAgKS5hZGRUbyhtYXBfZmZmMTg1NzU5NGJmNGEzYTgyNzhmMTI1MzZjY2Q2MzcpOwogICAgICAgIAogICAgCiAgICAgICAgICAgIGNpcmNsZV9jMTY2OTZlYTExMDE0MmZjYWM3MWUzOTNmZTI3MzUyNS5iaW5kVG9vbHRpcCgKICAgICAgICAgICAgICAgIGA8ZGl2PgogICAgICAgICAgICAgICAgICAgICA8ZGl2IHN0eWxlPSdtYXJnaW46IDA7IGJhY2tncm91bmQtY29sb3I6IGJsYWNrOyBjb2xvcjogd2hpdGU7Jz48aDQgc3R5bGU9J3RleHQtYWxpZ246Y2VudGVyO2ZvbnQtd2VpZ2h0OiBib2xkJz5Lb3Nvdm88L2g0PjxociBzdHlsZT0nbWFyZ2luOjEwcHg7Y29sb3I6IHdoaXRlOyc+PHVsIHN0eWxlPSdjb2xvcjogd2hpdGU7O2xpc3Qtc3R5bGUtdHlwZTpjaXJjbGU7YWxpZ24taXRlbTpsZWZ0O3BhZGRpbmctbGVmdDoyMHB4O3BhZGRpbmctcmlnaHQ6MjBweCc+PGxpPkNvbmZpcm1lZDogODA2PC9saT48bGk+RGVhdGhzOiAgIDIyPC9saT48bGk+RGVhdGggUmF0ZTogMi43MzwvbGk+PC91bD48L2Rpdj4KICAgICAgICAgICAgICAgICA8L2Rpdj5gLAogICAgICAgICAgICAgICAgeyJzdGlja3kiOiB0cnVlfQogICAgICAgICAgICApOwogICAgICAgIAogICAgCiAgICAgICAgICAgIHZhciBjaXJjbGVfNjllYzA4MTQwZmEwNGFlZWEzN2EyZDJkZDUzNjVlYmUgPSBMLmNpcmNsZSgKICAgICAgICAgICAgICAgIFsyMS45MTYyLCA5NS45NTZdLAogICAgICAgICAgICAgICAgeyJidWJibGluZ01vdXNlRXZlbnRzIjogdHJ1ZSwgImNvbG9yIjogInJlZCIsICJkYXNoQXJyYXkiOiBudWxsLCAiZGFzaE9mZnNldCI6IG51bGwsICJmaWxsIjogdHJ1ZSwgImZpbGxDb2xvciI6ICJpbmRpZ28iLCAiZmlsbE9wYWNpdHkiOiAwLjIsICJmaWxsUnVsZSI6ICJldmVub2RkIiwgImxpbmVDYXAiOiAicm91bmQiLCAibGluZUpvaW4iOiAicm91bmQiLCAib3BhY2l0eSI6IDEuMCwgInJhZGl1cyI6IDI2MDAwMC4wLCAic3Ryb2tlIjogdHJ1ZSwgIndlaWdodCI6IDN9CiAgICAgICAgICAgICkuYWRkVG8obWFwX2ZmZjE4NTc1OTRiZjRhM2E4Mjc4ZjEyNTM2Y2NkNjM3KTsKICAgICAgICAKICAgIAogICAgICAgICAgICBjaXJjbGVfNjllYzA4MTQwZmEwNGFlZWEzN2EyZDJkZDUzNjVlYmUuYmluZFRvb2x0aXAoCiAgICAgICAgICAgICAgICBgPGRpdj4KICAgICAgICAgICAgICAgICAgICAgPGRpdiBzdHlsZT0nbWFyZ2luOiAwOyBiYWNrZ3JvdW5kLWNvbG9yOiBibGFjazsgY29sb3I6IHdoaXRlOyc+PGg0IHN0eWxlPSd0ZXh0LWFsaWduOmNlbnRlcjtmb250LXdlaWdodDogYm9sZCc+QnVybWE8L2g0PjxociBzdHlsZT0nbWFyZ2luOjEwcHg7Y29sb3I6IHdoaXRlOyc+PHVsIHN0eWxlPSdjb2xvcjogd2hpdGU7O2xpc3Qtc3R5bGUtdHlwZTpjaXJjbGU7YWxpZ24taXRlbTpsZWZ0O3BhZGRpbmctbGVmdDoyMHB4O3BhZGRpbmctcmlnaHQ6MjBweCc+PGxpPkNvbmZpcm1lZDogMTUxPC9saT48bGk+RGVhdGhzOiAgIDY8L2xpPjxsaT5EZWF0aCBSYXRlOiAzLjk1PC9saT48L3VsPjwvZGl2PgogICAgICAgICAgICAgICAgIDwvZGl2PmAsCiAgICAgICAgICAgICAgICB7InN0aWNreSI6IHRydWV9CiAgICAgICAgICAgICk7CiAgICAgICAgCiAgICAKICAgICAgICAgICAgdmFyIGNpcmNsZV84YThhMDkwYjhlMGE0ZGRmYjNjZTc0YTc1MzE4Njc4ZSA9IEwuY2lyY2xlKAogICAgICAgICAgICAgICAgWzE4LjIyMDYsIC02My4wNjg2XSwKICAgICAgICAgICAgICAgIHsiYnViYmxpbmdNb3VzZUV2ZW50cyI6IHRydWUsICJjb2xvciI6ICJyZWQiLCAiZGFzaEFycmF5IjogbnVsbCwgImRhc2hPZmZzZXQiOiBudWxsLCAiZmlsbCI6IHRydWUsICJmaWxsQ29sb3IiOiAiaW5kaWdvIiwgImZpbGxPcGFjaXR5IjogMC4yLCAiZmlsbFJ1bGUiOiAiZXZlbm9kZCIsICJsaW5lQ2FwIjogInJvdW5kIiwgImxpbmVKb2luIjogInJvdW5kIiwgIm9wYWNpdHkiOiAxLjAsICJyYWRpdXMiOiA2MDAwMC4wLCAic3Ryb2tlIjogdHJ1ZSwgIndlaWdodCI6IDN9CiAgICAgICAgICAgICkuYWRkVG8obWFwX2ZmZjE4NTc1OTRiZjRhM2E4Mjc4ZjEyNTM2Y2NkNjM3KTsKICAgICAgICAKICAgIAogICAgICAgICAgICBjaXJjbGVfOGE4YTA5MGI4ZTBhNGRkZmIzY2U3NGE3NTMxODY3OGUuYmluZFRvb2x0aXAoCiAgICAgICAgICAgICAgICBgPGRpdj4KICAgICAgICAgICAgICAgICAgICAgPGRpdiBzdHlsZT0nbWFyZ2luOiAwOyBiYWNrZ3JvdW5kLWNvbG9yOiBibGFjazsgY29sb3I6IHdoaXRlOyc+PGg0IHN0eWxlPSd0ZXh0LWFsaWduOmNlbnRlcjtmb250LXdlaWdodDogYm9sZCc+VW5pdGVkIEtpbmdkb208L2g0PjxociBzdHlsZT0nbWFyZ2luOjEwcHg7Y29sb3I6IHdoaXRlOyc+PHVsIHN0eWxlPSdjb2xvcjogd2hpdGU7O2xpc3Qtc3R5bGUtdHlwZTpjaXJjbGU7YWxpZ24taXRlbTpsZWZ0O3BhZGRpbmctbGVmdDoyMHB4O3BhZGRpbmctcmlnaHQ6MjBweCc+PGxpPkNvbmZpcm1lZDogMzwvbGk+PGxpPkRlYXRoczogICAwPC9saT48bGk+RGVhdGggUmF0ZTogMC4wPC9saT48L3VsPjwvZGl2PgogICAgICAgICAgICAgICAgIDwvZGl2PmAsCiAgICAgICAgICAgICAgICB7InN0aWNreSI6IHRydWV9CiAgICAgICAgICAgICk7CiAgICAgICAgCiAgICAKICAgICAgICAgICAgdmFyIGNpcmNsZV9iNjg1ZDI3YWRmY2E0MjRjOTEzZWQzM2JhNzgzNmI5ZSA9IEwuY2lyY2xlKAogICAgICAgICAgICAgICAgWzE4LjQyMDcsIC02NC42NF0sCiAgICAgICAgICAgICAgICB7ImJ1YmJsaW5nTW91c2VFdmVudHMiOiB0cnVlLCAiY29sb3IiOiAicmVkIiwgImRhc2hBcnJheSI6IG51bGwsICJkYXNoT2Zmc2V0IjogbnVsbCwgImZpbGwiOiB0cnVlLCAiZmlsbENvbG9yIjogImluZGlnbyIsICJmaWxsT3BhY2l0eSI6IDAuMiwgImZpbGxSdWxlIjogImV2ZW5vZGQiLCAibGluZUNhcCI6ICJyb3VuZCIsICJsaW5lSm9pbiI6ICJyb3VuZCIsICJvcGFjaXR5IjogMS4wLCAicmFkaXVzIjogNjAwMDAuMCwgInN0cm9rZSI6IHRydWUsICJ3ZWlnaHQiOiAzfQogICAgICAgICAgICApLmFkZFRvKG1hcF9mZmYxODU3NTk0YmY0YTNhODI3OGYxMjUzNmNjZDYzNyk7CiAgICAgICAgCiAgICAKICAgICAgICAgICAgY2lyY2xlX2I2ODVkMjdhZGZjYTQyNGM5MTNlZDMzYmE3ODM2YjllLmJpbmRUb29sdGlwKAogICAgICAgICAgICAgICAgYDxkaXY+CiAgICAgICAgICAgICAgICAgICAgIDxkaXYgc3R5bGU9J21hcmdpbjogMDsgYmFja2dyb3VuZC1jb2xvcjogYmxhY2s7IGNvbG9yOiB3aGl0ZTsnPjxoNCBzdHlsZT0ndGV4dC1hbGlnbjpjZW50ZXI7Zm9udC13ZWlnaHQ6IGJvbGQnPlVuaXRlZCBLaW5nZG9tPC9oND48aHIgc3R5bGU9J21hcmdpbjoxMHB4O2NvbG9yOiB3aGl0ZTsnPjx1bCBzdHlsZT0nY29sb3I6IHdoaXRlOztsaXN0LXN0eWxlLXR5cGU6Y2lyY2xlO2FsaWduLWl0ZW06bGVmdDtwYWRkaW5nLWxlZnQ6MjBweDtwYWRkaW5nLXJpZ2h0OjIwcHgnPjxsaT5Db25maXJtZWQ6IDY8L2xpPjxsaT5EZWF0aHM6ICAgMTwvbGk+PGxpPkRlYXRoIFJhdGU6IDE0LjI5PC9saT48L3VsPjwvZGl2PgogICAgICAgICAgICAgICAgIDwvZGl2PmAsCiAgICAgICAgICAgICAgICB7InN0aWNreSI6IHRydWV9CiAgICAgICAgICAgICk7CiAgICAgICAgCiAgICAKICAgICAgICAgICAgdmFyIGNpcmNsZV8xNTA3NTIwYjRmNmI0NDk5YjQ3M2E1MzNhNTNjOWFjMiA9IEwuY2lyY2xlKAogICAgICAgICAgICAgICAgWzIxLjY5NDAwMDAwMDAwMDAxLCAtNzEuNzk3OV0sCiAgICAgICAgICAgICAgICB7ImJ1YmJsaW5nTW91c2VFdmVudHMiOiB0cnVlLCAiY29sb3IiOiAicmVkIiwgImRhc2hBcnJheSI6IG51bGwsICJkYXNoT2Zmc2V0IjogbnVsbCwgImZpbGwiOiB0cnVlLCAiZmlsbENvbG9yIjogImluZGlnbyIsICJmaWxsT3BhY2l0eSI6IDAuMiwgImZpbGxSdWxlIjogImV2ZW5vZGQiLCAibGluZUNhcCI6ICJyb3VuZCIsICJsaW5lSm9pbiI6ICJyb3VuZCIsICJvcGFjaXR5IjogMS4wLCAicmFkaXVzIjogMTEwMDAwLjAwMDAwMDAwMDAxLCAic3Ryb2tlIjogdHJ1ZSwgIndlaWdodCI6IDN9CiAgICAgICAgICAgICkuYWRkVG8obWFwX2ZmZjE4NTc1OTRiZjRhM2E4Mjc4ZjEyNTM2Y2NkNjM3KTsKICAgICAgICAKICAgIAogICAgICAgICAgICBjaXJjbGVfMTUwNzUyMGI0ZjZiNDQ5OWI0NzNhNTMzYTUzYzlhYzIuYmluZFRvb2x0aXAoCiAgICAgICAgICAgICAgICBgPGRpdj4KICAgICAgICAgICAgICAgICAgICAgPGRpdiBzdHlsZT0nbWFyZ2luOiAwOyBiYWNrZ3JvdW5kLWNvbG9yOiBibGFjazsgY29sb3I6IHdoaXRlOyc+PGg0IHN0eWxlPSd0ZXh0LWFsaWduOmNlbnRlcjtmb250LXdlaWdodDogYm9sZCc+VW5pdGVkIEtpbmdkb208L2g0PjxociBzdHlsZT0nbWFyZ2luOjEwcHg7Y29sb3I6IHdoaXRlOyc+PHVsIHN0eWxlPSdjb2xvcjogd2hpdGU7O2xpc3Qtc3R5bGUtdHlwZTpjaXJjbGU7YWxpZ24taXRlbTpsZWZ0O3BhZGRpbmctbGVmdDoyMHB4O3BhZGRpbmctcmlnaHQ6MjBweCc+PGxpPkNvbmZpcm1lZDogMTI8L2xpPjxsaT5EZWF0aHM6ICAgMTwvbGk+PGxpPkRlYXRoIFJhdGU6IDcuNjk8L2xpPjwvdWw+PC9kaXY+CiAgICAgICAgICAgICAgICAgPC9kaXY+YCwKICAgICAgICAgICAgICAgIHsic3RpY2t5IjogdHJ1ZX0KICAgICAgICAgICAgKTsKICAgICAgICAKICAgIAogICAgICAgICAgICB2YXIgY2lyY2xlXzViODhjMTE5OWZhYTQ1Y2FiOTk2ZGE0MmJkOWZiZjJmID0gTC5jaXJjbGUoCiAgICAgICAgICAgICAgICBbMC4wLCAwLjBdLAogICAgICAgICAgICAgICAgeyJidWJibGluZ01vdXNlRXZlbnRzIjogdHJ1ZSwgImNvbG9yIjogInJlZCIsICJkYXNoQXJyYXkiOiBudWxsLCAiZGFzaE9mZnNldCI6IG51bGwsICJmaWxsIjogdHJ1ZSwgImZpbGxDb2xvciI6ICJpbmRpZ28iLCAiZmlsbE9wYWNpdHkiOiAwLjIsICJmaWxsUnVsZSI6ICJldmVub2RkIiwgImxpbmVDYXAiOiAicm91bmQiLCAibGluZUpvaW4iOiAicm91bmQiLCAib3BhY2l0eSI6IDEuMCwgInJhZGl1cyI6IDExMDAwMC4wMDAwMDAwMDAwMSwgInN0cm9rZSI6IHRydWUsICJ3ZWlnaHQiOiAzfQogICAgICAgICAgICApLmFkZFRvKG1hcF9mZmYxODU3NTk0YmY0YTNhODI3OGYxMjUzNmNjZDYzNyk7CiAgICAgICAgCiAgICAKICAgICAgICAgICAgY2lyY2xlXzViODhjMTE5OWZhYTQ1Y2FiOTk2ZGE0MmJkOWZiZjJmLmJpbmRUb29sdGlwKAogICAgICAgICAgICAgICAgYDxkaXY+CiAgICAgICAgICAgICAgICAgICAgIDxkaXYgc3R5bGU9J21hcmdpbjogMDsgYmFja2dyb3VuZC1jb2xvcjogYmxhY2s7IGNvbG9yOiB3aGl0ZTsnPjxoNCBzdHlsZT0ndGV4dC1hbGlnbjpjZW50ZXI7Zm9udC13ZWlnaHQ6IGJvbGQnPk1TIFphYW5kYW08L2g0PjxociBzdHlsZT0nbWFyZ2luOjEwcHg7Y29sb3I6IHdoaXRlOyc+PHVsIHN0eWxlPSdjb2xvcjogd2hpdGU7O2xpc3Qtc3R5bGUtdHlwZTpjaXJjbGU7YWxpZ24taXRlbTpsZWZ0O3BhZGRpbmctbGVmdDoyMHB4O3BhZGRpbmctcmlnaHQ6MjBweCc+PGxpPkNvbmZpcm1lZDogOTwvbGk+PGxpPkRlYXRoczogICAyPC9saT48bGk+RGVhdGggUmF0ZTogMjAuMDwvbGk+PC91bD48L2Rpdj4KICAgICAgICAgICAgICAgICA8L2Rpdj5gLAogICAgICAgICAgICAgICAgeyJzdGlja3kiOiB0cnVlfQogICAgICAgICAgICApOwogICAgICAgIAogICAgCiAgICAgICAgICAgIHZhciBjaXJjbGVfY2I2NTY2NWRjMmRiNGU5N2E1YTY3N2YwZGJkY2Y4ZTggPSBMLmNpcmNsZSgKICAgICAgICAgICAgICAgIFstMjIuMzI4NSwgMjQuNjg0OV0sCiAgICAgICAgICAgICAgICB7ImJ1YmJsaW5nTW91c2VFdmVudHMiOiB0cnVlLCAiY29sb3IiOiAicmVkIiwgImRhc2hBcnJheSI6IG51bGwsICJkYXNoT2Zmc2V0IjogbnVsbCwgImZpbGwiOiB0cnVlLCAiZmlsbENvbG9yIjogImluZGlnbyIsICJmaWxsT3BhY2l0eSI6IDAuMiwgImZpbGxSdWxlIjogImV2ZW5vZGQiLCAibGluZUNhcCI6ICJyb3VuZCIsICJsaW5lSm9pbiI6ICJyb3VuZCIsICJvcGFjaXR5IjogMS4wLCAicmFkaXVzIjogMTYwMDAwLjAsICJzdHJva2UiOiB0cnVlLCAid2VpZ2h0IjogM30KICAgICAgICAgICAgKS5hZGRUbyhtYXBfZmZmMTg1NzU5NGJmNGEzYTgyNzhmMTI1MzZjY2Q2MzcpOwogICAgICAgIAogICAgCiAgICAgICAgICAgIGNpcmNsZV9jYjY1NjY1ZGMyZGI0ZTk3YTVhNjc3ZjBkYmRjZjhlOC5iaW5kVG9vbHRpcCgKICAgICAgICAgICAgICAgIGA8ZGl2PgogICAgICAgICAgICAgICAgICAgICA8ZGl2IHN0eWxlPSdtYXJnaW46IDA7IGJhY2tncm91bmQtY29sb3I6IGJsYWNrOyBjb2xvcjogd2hpdGU7Jz48aDQgc3R5bGU9J3RleHQtYWxpZ246Y2VudGVyO2ZvbnQtd2VpZ2h0OiBib2xkJz5Cb3Rzd2FuYTwvaDQ+PGhyIHN0eWxlPSdtYXJnaW46MTBweDtjb2xvcjogd2hpdGU7Jz48dWwgc3R5bGU9J2NvbG9yOiB3aGl0ZTs7bGlzdC1zdHlsZS10eXBlOmNpcmNsZTthbGlnbi1pdGVtOmxlZnQ7cGFkZGluZy1sZWZ0OjIwcHg7cGFkZGluZy1yaWdodDoyMHB4Jz48bGk+Q29uZmlybWVkOiAyMzwvbGk+PGxpPkRlYXRoczogICAxPC9saT48bGk+RGVhdGggUmF0ZTogNC4xNzwvbGk+PC91bD48L2Rpdj4KICAgICAgICAgICAgICAgICA8L2Rpdj5gLAogICAgICAgICAgICAgICAgeyJzdGlja3kiOiB0cnVlfQogICAgICAgICAgICApOwogICAgICAgIAogICAgCiAgICAgICAgICAgIHZhciBjaXJjbGVfNzViN2Q3NWYyM2QzNDU1ZGFlYzBiYmQzMWU4NTg0YjkgPSBMLmNpcmNsZSgKICAgICAgICAgICAgICAgIFstMy4zNzMxLCAyOS45MTg5XSwKICAgICAgICAgICAgICAgIHsiYnViYmxpbmdNb3VzZUV2ZW50cyI6IHRydWUsICJjb2xvciI6ICJyZWQiLCAiZGFzaEFycmF5IjogbnVsbCwgImRhc2hPZmZzZXQiOiBudWxsLCAiZmlsbCI6IHRydWUsICJmaWxsQ29sb3IiOiAiaW5kaWdvIiwgImZpbGxPcGFjaXR5IjogMC4yLCAiZmlsbFJ1bGUiOiAiZXZlbm9kZCIsICJsaW5lQ2FwIjogInJvdW5kIiwgImxpbmVKb2luIjogInJvdW5kIiwgIm9wYWNpdHkiOiAxLjAsICJyYWRpdXMiOiAxMTAwMDAuMDAwMDAwMDAwMDEsICJzdHJva2UiOiB0cnVlLCAid2VpZ2h0IjogM30KICAgICAgICAgICAgKS5hZGRUbyhtYXBfZmZmMTg1NzU5NGJmNGEzYTgyNzhmMTI1MzZjY2Q2MzcpOwogICAgICAgIAogICAgCiAgICAgICAgICAgIGNpcmNsZV83NWI3ZDc1ZjIzZDM0NTVkYWVjMGJiZDMxZTg1ODRiOS5iaW5kVG9vbHRpcCgKICAgICAgICAgICAgICAgIGA8ZGl2PgogICAgICAgICAgICAgICAgICAgICA8ZGl2IHN0eWxlPSdtYXJnaW46IDA7IGJhY2tncm91bmQtY29sb3I6IGJsYWNrOyBjb2xvcjogd2hpdGU7Jz48aDQgc3R5bGU9J3RleHQtYWxpZ246Y2VudGVyO2ZvbnQtd2VpZ2h0OiBib2xkJz5CdXJ1bmRpPC9oND48aHIgc3R5bGU9J21hcmdpbjoxMHB4O2NvbG9yOiB3aGl0ZTsnPjx1bCBzdHlsZT0nY29sb3I6IHdoaXRlOztsaXN0LXN0eWxlLXR5cGU6Y2lyY2xlO2FsaWduLWl0ZW06bGVmdDtwYWRkaW5nLWxlZnQ6MjBweDtwYWRkaW5nLXJpZ2h0OjIwcHgnPjxsaT5Db25maXJtZWQ6IDExPC9saT48bGk+RGVhdGhzOiAgIDE8L2xpPjxsaT5EZWF0aCBSYXRlOiA4LjMzPC9saT48L3VsPjwvZGl2PgogICAgICAgICAgICAgICAgIDwvZGl2PmAsCiAgICAgICAgICAgICAgICB7InN0aWNreSI6IHRydWV9CiAgICAgICAgICAgICk7CiAgICAgICAgCiAgICAKICAgICAgICAgICAgdmFyIGNpcmNsZV82MWUzNzZkMjAxY2Q0ZGZjOTNjODM5NjNhZGU1NTY1NiA9IEwuY2lyY2xlKAogICAgICAgICAgICAgICAgWzguNDYwNTU1MDAwMDAwMDAxLCAtMTEuNzc5ODg5XSwKICAgICAgICAgICAgICAgIHsiYnViYmxpbmdNb3VzZUV2ZW50cyI6IHRydWUsICJjb2xvciI6ICJyZWQiLCAiZGFzaEFycmF5IjogbnVsbCwgImRhc2hPZmZzZXQiOiBudWxsLCAiZmlsbCI6IHRydWUsICJmaWxsQ29sb3IiOiAiaW5kaWdvIiwgImZpbGxPcGFjaXR5IjogMC4yLCAiZmlsbFJ1bGUiOiAiZXZlbm9kZCIsICJsaW5lQ2FwIjogInJvdW5kIiwgImxpbmVKb2luIjogInJvdW5kIiwgIm9wYWNpdHkiOiAxLjAsICJyYWRpdXMiOiAyMTAwMDAuMCwgInN0cm9rZSI6IHRydWUsICJ3ZWlnaHQiOiAzfQogICAgICAgICAgICApLmFkZFRvKG1hcF9mZmYxODU3NTk0YmY0YTNhODI3OGYxMjUzNmNjZDYzNyk7CiAgICAgICAgCiAgICAKICAgICAgICAgICAgY2lyY2xlXzYxZTM3NmQyMDFjZDRkZmM5M2M4Mzk2M2FkZTU1NjU2LmJpbmRUb29sdGlwKAogICAgICAgICAgICAgICAgYDxkaXY+CiAgICAgICAgICAgICAgICAgICAgIDxkaXYgc3R5bGU9J21hcmdpbjogMDsgYmFja2dyb3VuZC1jb2xvcjogYmxhY2s7IGNvbG9yOiB3aGl0ZTsnPjxoNCBzdHlsZT0ndGV4dC1hbGlnbjpjZW50ZXI7Zm9udC13ZWlnaHQ6IGJvbGQnPlNpZXJyYSBMZW9uZTwvaDQ+PGhyIHN0eWxlPSdtYXJnaW46MTBweDtjb2xvcjogd2hpdGU7Jz48dWwgc3R5bGU9J2NvbG9yOiB3aGl0ZTs7bGlzdC1zdHlsZS10eXBlOmNpcmNsZTthbGlnbi1pdGVtOmxlZnQ7cGFkZGluZy1sZWZ0OjIwcHg7cGFkZGluZy1yaWdodDoyMHB4Jz48bGk+Q29uZmlybWVkOiAxMzY8L2xpPjxsaT5EZWF0aHM6ICAgNzwvbGk+PGxpPkRlYXRoIFJhdGU6IDUuMTE8L2xpPjwvdWw+PC9kaXY+CiAgICAgICAgICAgICAgICAgPC9kaXY+YCwKICAgICAgICAgICAgICAgIHsic3RpY2t5IjogdHJ1ZX0KICAgICAgICAgICAgKTsKICAgICAgICAKICAgIAogICAgICAgICAgICB2YXIgY2lyY2xlXzFlMjUwZWQxODMyMjRiYzg4MTQyM2ViZmUxNWU4MzFhID0gTC5jaXJjbGUoCiAgICAgICAgICAgICAgICBbMTIuMTc4NCwgLTY4LjIzODVdLAogICAgICAgICAgICAgICAgeyJidWJibGluZ01vdXNlRXZlbnRzIjogdHJ1ZSwgImNvbG9yIjogInJlZCIsICJkYXNoQXJyYXkiOiBudWxsLCAiZGFzaE9mZnNldCI6IG51bGwsICJmaWxsIjogdHJ1ZSwgImZpbGxDb2xvciI6ICJpbmRpZ28iLCAiZmlsbE9wYWNpdHkiOiAwLjIsICJmaWxsUnVsZSI6ICJldmVub2RkIiwgImxpbmVDYXAiOiAicm91bmQiLCAibGluZUpvaW4iOiAicm91bmQiLCAib3BhY2l0eSI6IDEuMCwgInJhZGl1cyI6IDYwMDAwLjAsICJzdHJva2UiOiB0cnVlLCAid2VpZ2h0IjogM30KICAgICAgICAgICAgKS5hZGRUbyhtYXBfZmZmMTg1NzU5NGJmNGEzYTgyNzhmMTI1MzZjY2Q2MzcpOwogICAgICAgIAogICAgCiAgICAgICAgICAgIGNpcmNsZV8xZTI1MGVkMTgzMjI0YmM4ODE0MjNlYmZlMTVlODMxYS5iaW5kVG9vbHRpcCgKICAgICAgICAgICAgICAgIGA8ZGl2PgogICAgICAgICAgICAgICAgICAgICA8ZGl2IHN0eWxlPSdtYXJnaW46IDA7IGJhY2tncm91bmQtY29sb3I6IGJsYWNrOyBjb2xvcjogd2hpdGU7Jz48aDQgc3R5bGU9J3RleHQtYWxpZ246Y2VudGVyO2ZvbnQtd2VpZ2h0OiBib2xkJz5OZXRoZXJsYW5kczwvaDQ+PGhyIHN0eWxlPSdtYXJnaW46MTBweDtjb2xvcjogd2hpdGU7Jz48dWwgc3R5bGU9J2NvbG9yOiB3aGl0ZTs7bGlzdC1zdHlsZS10eXBlOmNpcmNsZTthbGlnbi1pdGVtOmxlZnQ7cGFkZGluZy1sZWZ0OjIwcHg7cGFkZGluZy1yaWdodDoyMHB4Jz48bGk+Q29uZmlybWVkOiA2PC9saT48bGk+RGVhdGhzOiAgIDA8L2xpPjxsaT5EZWF0aCBSYXRlOiAwLjA8L2xpPjwvdWw+PC9kaXY+CiAgICAgICAgICAgICAgICAgPC9kaXY+YCwKICAgICAgICAgICAgICAgIHsic3RpY2t5IjogdHJ1ZX0KICAgICAgICAgICAgKTsKICAgICAgICAKICAgIAogICAgICAgICAgICB2YXIgY2lyY2xlX2U3YTRmOTI0NTFkMjQwYmI5NTljYzI3MWNhYTVmYTFjID0gTC5jaXJjbGUoCiAgICAgICAgICAgICAgICBbLTEzLjI1NDMwNzk5OTk5OTk5OCwgMzQuMzAxNTI1XSwKICAgICAgICAgICAgICAgIHsiYnViYmxpbmdNb3VzZUV2ZW50cyI6IHRydWUsICJjb2xvciI6ICJyZWQiLCAiZGFzaEFycmF5IjogbnVsbCwgImRhc2hPZmZzZXQiOiBudWxsLCAiZmlsbCI6IHRydWUsICJmaWxsQ29sb3IiOiAiaW5kaWdvIiwgImZpbGxPcGFjaXR5IjogMC4yLCAiZmlsbFJ1bGUiOiAiZXZlbm9kZCIsICJsaW5lQ2FwIjogInJvdW5kIiwgImxpbmVKb2luIjogInJvdW5kIiwgIm9wYWNpdHkiOiAxLjAsICJyYWRpdXMiOiAxNjAwMDAuMCwgInN0cm9rZSI6IHRydWUsICJ3ZWlnaHQiOiAzfQogICAgICAgICAgICApLmFkZFRvKG1hcF9mZmYxODU3NTk0YmY0YTNhODI3OGYxMjUzNmNjZDYzNyk7CiAgICAgICAgCiAgICAKICAgICAgICAgICAgY2lyY2xlX2U3YTRmOTI0NTFkMjQwYmI5NTljYzI3MWNhYTVmYTFjLmJpbmRUb29sdGlwKAogICAgICAgICAgICAgICAgYDxkaXY+CiAgICAgICAgICAgICAgICAgICAgIDxkaXYgc3R5bGU9J21hcmdpbjogMDsgYmFja2dyb3VuZC1jb2xvcjogYmxhY2s7IGNvbG9yOiB3aGl0ZTsnPjxoNCBzdHlsZT0ndGV4dC1hbGlnbjpjZW50ZXI7Zm9udC13ZWlnaHQ6IGJvbGQnPk1hbGF3aTwvaDQ+PGhyIHN0eWxlPSdtYXJnaW46MTBweDtjb2xvcjogd2hpdGU7Jz48dWwgc3R5bGU9J2NvbG9yOiB3aGl0ZTs7bGlzdC1zdHlsZS10eXBlOmNpcmNsZTthbGlnbi1pdGVtOmxlZnQ7cGFkZGluZy1sZWZ0OjIwcHg7cGFkZGluZy1yaWdodDoyMHB4Jz48bGk+Q29uZmlybWVkOiAzNzwvbGk+PGxpPkRlYXRoczogICAzPC9saT48bGk+RGVhdGggUmF0ZTogNy44OTwvbGk+PC91bD48L2Rpdj4KICAgICAgICAgICAgICAgICA8L2Rpdj5gLAogICAgICAgICAgICAgICAgeyJzdGlja3kiOiB0cnVlfQogICAgICAgICAgICApOwogICAgICAgIAogICAgCiAgICAgICAgICAgIHZhciBjaXJjbGVfNWJhMGM4MGUzMjVmNDk2ZGI3YTQ1NDBjOWM5Yjc4M2YgPSBMLmNpcmNsZSgKICAgICAgICAgICAgICAgIFstNTEuNzk2MywgLTU5LjUyMzZdLAogICAgICAgICAgICAgICAgeyJidWJibGluZ01vdXNlRXZlbnRzIjogdHJ1ZSwgImNvbG9yIjogInJlZCIsICJkYXNoQXJyYXkiOiBudWxsLCAiZGFzaE9mZnNldCI6IG51bGwsICJmaWxsIjogdHJ1ZSwgImZpbGxDb2xvciI6ICJpbmRpZ28iLCAiZmlsbE9wYWNpdHkiOiAwLjIsICJmaWxsUnVsZSI6ICJldmVub2RkIiwgImxpbmVDYXAiOiAicm91bmQiLCAibGluZUpvaW4iOiAicm91bmQiLCAib3BhY2l0eSI6IDEuMCwgInJhZGl1cyI6IDExMDAwMC4wMDAwMDAwMDAwMSwgInN0cm9rZSI6IHRydWUsICJ3ZWlnaHQiOiAzfQogICAgICAgICAgICApLmFkZFRvKG1hcF9mZmYxODU3NTk0YmY0YTNhODI3OGYxMjUzNmNjZDYzNyk7CiAgICAgICAgCiAgICAKICAgICAgICAgICAgY2lyY2xlXzViYTBjODBlMzI1ZjQ5NmRiN2E0NTQwYzljOWI3ODNmLmJpbmRUb29sdGlwKAogICAgICAgICAgICAgICAgYDxkaXY+CiAgICAgICAgICAgICAgICAgICAgIDxkaXYgc3R5bGU9J21hcmdpbjogMDsgYmFja2dyb3VuZC1jb2xvcjogYmxhY2s7IGNvbG9yOiB3aGl0ZTsnPjxoNCBzdHlsZT0ndGV4dC1hbGlnbjpjZW50ZXI7Zm9udC13ZWlnaHQ6IGJvbGQnPlVuaXRlZCBLaW5nZG9tPC9oND48aHIgc3R5bGU9J21hcmdpbjoxMHB4O2NvbG9yOiB3aGl0ZTsnPjx1bCBzdHlsZT0nY29sb3I6IHdoaXRlOztsaXN0LXN0eWxlLXR5cGU6Y2lyY2xlO2FsaWduLWl0ZW06bGVmdDtwYWRkaW5nLWxlZnQ6MjBweDtwYWRkaW5nLXJpZ2h0OjIwcHgnPjxsaT5Db25maXJtZWQ6IDEzPC9saT48bGk+RGVhdGhzOiAgIDA8L2xpPjxsaT5EZWF0aCBSYXRlOiAwLjA8L2xpPjwvdWw+PC9kaXY+CiAgICAgICAgICAgICAgICAgPC9kaXY+YCwKICAgICAgICAgICAgICAgIHsic3RpY2t5IjogdHJ1ZX0KICAgICAgICAgICAgKTsKICAgICAgICAKICAgIAogICAgICAgICAgICB2YXIgY2lyY2xlX2VmNTEwYWQzMWUwMTQ3Njg5NDQwOWQ2OGZjM2Q0NGRlID0gTC5jaXJjbGUoCiAgICAgICAgICAgICAgICBbNDYuODg1MiwgLTU2LjMxNTldLAogICAgICAgICAgICAgICAgeyJidWJibGluZ01vdXNlRXZlbnRzIjogdHJ1ZSwgImNvbG9yIjogInJlZCIsICJkYXNoQXJyYXkiOiBudWxsLCAiZGFzaE9mZnNldCI6IG51bGwsICJmaWxsIjogdHJ1ZSwgImZpbGxDb2xvciI6ICJpbmRpZ28iLCAiZmlsbE9wYWNpdHkiOiAwLjIsICJmaWxsUnVsZSI6ICJldmVub2RkIiwgImxpbmVDYXAiOiAicm91bmQiLCAibGluZUpvaW4iOiAicm91bmQiLCAib3BhY2l0eSI6IDEuMCwgInJhZGl1cyI6IDEwMDAwLjAsICJzdHJva2UiOiB0cnVlLCAid2VpZ2h0IjogM30KICAgICAgICAgICAgKS5hZGRUbyhtYXBfZmZmMTg1NzU5NGJmNGEzYTgyNzhmMTI1MzZjY2Q2MzcpOwogICAgICAgIAogICAgCiAgICAgICAgICAgIGNpcmNsZV9lZjUxMGFkMzFlMDE0NzY4OTQ0MDlkNjhmYzNkNDRkZS5iaW5kVG9vbHRpcCgKICAgICAgICAgICAgICAgIGA8ZGl2PgogICAgICAgICAgICAgICAgICAgICA8ZGl2IHN0eWxlPSdtYXJnaW46IDA7IGJhY2tncm91bmQtY29sb3I6IGJsYWNrOyBjb2xvcjogd2hpdGU7Jz48aDQgc3R5bGU9J3RleHQtYWxpZ246Y2VudGVyO2ZvbnQtd2VpZ2h0OiBib2xkJz5GcmFuY2U8L2g0PjxociBzdHlsZT0nbWFyZ2luOjEwcHg7Y29sb3I6IHdoaXRlOyc+PHVsIHN0eWxlPSdjb2xvcjogd2hpdGU7O2xpc3Qtc3R5bGUtdHlwZTpjaXJjbGU7YWxpZ24taXRlbTpsZWZ0O3BhZGRpbmctbGVmdDoyMHB4O3BhZGRpbmctcmlnaHQ6MjBweCc+PGxpPkNvbmZpcm1lZDogMTwvbGk+PGxpPkRlYXRoczogICAwPC9saT48bGk+RGVhdGggUmF0ZTogMC4wPC9saT48L3VsPjwvZGl2PgogICAgICAgICAgICAgICAgIDwvZGl2PmAsCiAgICAgICAgICAgICAgICB7InN0aWNreSI6IHRydWV9CiAgICAgICAgICAgICk7CiAgICAgICAgCiAgICAKICAgICAgICAgICAgdmFyIGNpcmNsZV85M2M2NTIzYTFkNzY0NjJiYWI2ODk5NjY4NGM1OWNhOCA9IEwuY2lyY2xlKAogICAgICAgICAgICAgICAgWzYuODc3MDAwMDAwMDAwMDAyNCwgMzEuMzA3XSwKICAgICAgICAgICAgICAgIHsiYnViYmxpbmdNb3VzZUV2ZW50cyI6IHRydWUsICJjb2xvciI6ICJyZWQiLCAiZGFzaEFycmF5IjogbnVsbCwgImRhc2hPZmZzZXQiOiBudWxsLCAiZmlsbCI6IHRydWUsICJmaWxsQ29sb3IiOiAiaW5kaWdvIiwgImZpbGxPcGFjaXR5IjogMC4yLCAiZmlsbFJ1bGUiOiAiZXZlbm9kZCIsICJsaW5lQ2FwIjogInJvdW5kIiwgImxpbmVKb2luIjogInJvdW5kIiwgIm9wYWNpdHkiOiAxLjAsICJyYWRpdXMiOiAxNjAwMDAuMCwgInN0cm9rZSI6IHRydWUsICJ3ZWlnaHQiOiAzfQogICAgICAgICAgICApLmFkZFRvKG1hcF9mZmYxODU3NTk0YmY0YTNhODI3OGYxMjUzNmNjZDYzNyk7CiAgICAgICAgCiAgICAKICAgICAgICAgICAgY2lyY2xlXzkzYzY1MjNhMWQ3NjQ2MmJhYjY4OTk2Njg0YzU5Y2E4LmJpbmRUb29sdGlwKAogICAgICAgICAgICAgICAgYDxkaXY+CiAgICAgICAgICAgICAgICAgICAgIDxkaXYgc3R5bGU9J21hcmdpbjogMDsgYmFja2dyb3VuZC1jb2xvcjogYmxhY2s7IGNvbG9yOiB3aGl0ZTsnPjxoNCBzdHlsZT0ndGV4dC1hbGlnbjpjZW50ZXI7Zm9udC13ZWlnaHQ6IGJvbGQnPlNvdXRoIFN1ZGFuPC9oND48aHIgc3R5bGU9J21hcmdpbjoxMHB4O2NvbG9yOiB3aGl0ZTsnPjx1bCBzdHlsZT0nY29sb3I6IHdoaXRlOztsaXN0LXN0eWxlLXR5cGU6Y2lyY2xlO2FsaWduLWl0ZW06bGVmdDtwYWRkaW5nLWxlZnQ6MjBweDtwYWRkaW5nLXJpZ2h0OjIwcHgnPjxsaT5Db25maXJtZWQ6IDQ1PC9saT48bGk+RGVhdGhzOiAgIDA8L2xpPjxsaT5EZWF0aCBSYXRlOiAwLjA8L2xpPjwvdWw+PC9kaXY+CiAgICAgICAgICAgICAgICAgPC9kaXY+YCwKICAgICAgICAgICAgICAgIHsic3RpY2t5IjogdHJ1ZX0KICAgICAgICAgICAgKTsKICAgICAgICAKICAgIAogICAgICAgICAgICB2YXIgY2lyY2xlXzJmZDZiNTM3ODExODQzNGVhNGYzZDJjZmJlYjg5YTU3ID0gTC5jaXJjbGUoCiAgICAgICAgICAgICAgICBbMjQuMjE1NSwgLTEyLjg4NThdLAogICAgICAgICAgICAgICAgeyJidWJibGluZ01vdXNlRXZlbnRzIjogdHJ1ZSwgImNvbG9yIjogInJlZCIsICJkYXNoQXJyYXkiOiBudWxsLCAiZGFzaE9mZnNldCI6IG51bGwsICJmaWxsIjogdHJ1ZSwgImZpbGxDb2xvciI6ICJpbmRpZ28iLCAiZmlsbE9wYWNpdHkiOiAwLjIsICJmaWxsUnVsZSI6ICJldmVub2RkIiwgImxpbmVDYXAiOiAicm91bmQiLCAibGluZUpvaW4iOiAicm91bmQiLCAib3BhY2l0eSI6IDEuMCwgInJhZGl1cyI6IDYwMDAwLjAsICJzdHJva2UiOiB0cnVlLCAid2VpZ2h0IjogM30KICAgICAgICAgICAgKS5hZGRUbyhtYXBfZmZmMTg1NzU5NGJmNGEzYTgyNzhmMTI1MzZjY2Q2MzcpOwogICAgICAgIAogICAgCiAgICAgICAgICAgIGNpcmNsZV8yZmQ2YjUzNzgxMTg0MzRlYTRmM2QyY2ZiZWI4OWE1Ny5iaW5kVG9vbHRpcCgKICAgICAgICAgICAgICAgIGA8ZGl2PgogICAgICAgICAgICAgICAgICAgICA8ZGl2IHN0eWxlPSdtYXJnaW46IDA7IGJhY2tncm91bmQtY29sb3I6IGJsYWNrOyBjb2xvcjogd2hpdGU7Jz48aDQgc3R5bGU9J3RleHQtYWxpZ246Y2VudGVyO2ZvbnQtd2VpZ2h0OiBib2xkJz5XZXN0ZXJuIFNhaGFyYTwvaDQ+PGhyIHN0eWxlPSdtYXJnaW46MTBweDtjb2xvcjogd2hpdGU7Jz48dWwgc3R5bGU9J2NvbG9yOiB3aGl0ZTs7bGlzdC1zdHlsZS10eXBlOmNpcmNsZTthbGlnbi1pdGVtOmxlZnQ7cGFkZGluZy1sZWZ0OjIwcHg7cGFkZGluZy1yaWdodDoyMHB4Jz48bGk+Q29uZmlybWVkOiA2PC9saT48bGk+RGVhdGhzOiAgIDA8L2xpPjxsaT5EZWF0aCBSYXRlOiAwLjA8L2xpPjwvdWw+PC9kaXY+CiAgICAgICAgICAgICAgICAgPC9kaXY+YCwKICAgICAgICAgICAgICAgIHsic3RpY2t5IjogdHJ1ZX0KICAgICAgICAgICAgKTsKICAgICAgICAKICAgIAogICAgICAgICAgICB2YXIgY2lyY2xlXzMxNTRkYzY4MWRjZDQ0NGVhOTg2ZjA5M2E1NDI1MTE4ID0gTC5jaXJjbGUoCiAgICAgICAgICAgICAgICBbMC4xODYzNiwgNi42MTMwODFdLAogICAgICAgICAgICAgICAgeyJidWJibGluZ01vdXNlRXZlbnRzIjogdHJ1ZSwgImNvbG9yIjogInJlZCIsICJkYXNoQXJyYXkiOiBudWxsLCAiZGFzaE9mZnNldCI6IG51bGwsICJmaWxsIjogdHJ1ZSwgImZpbGxDb2xvciI6ICJpbmRpZ28iLCAiZmlsbE9wYWNpdHkiOiAwLjIsICJmaWxsUnVsZSI6ICJldmVub2RkIiwgImxpbmVDYXAiOiAicm91bmQiLCAibGluZUpvaW4iOiAicm91bmQiLCAib3BhY2l0eSI6IDEuMCwgInJhZGl1cyI6IDExMDAwMC4wMDAwMDAwMDAwMSwgInN0cm9rZSI6IHRydWUsICJ3ZWlnaHQiOiAzfQogICAgICAgICAgICApLmFkZFRvKG1hcF9mZmYxODU3NTk0YmY0YTNhODI3OGYxMjUzNmNjZDYzNyk7CiAgICAgICAgCiAgICAKICAgICAgICAgICAgY2lyY2xlXzMxNTRkYzY4MWRjZDQ0NGVhOTg2ZjA5M2E1NDI1MTE4LmJpbmRUb29sdGlwKAogICAgICAgICAgICAgICAgYDxkaXY+CiAgICAgICAgICAgICAgICAgICAgIDxkaXYgc3R5bGU9J21hcmdpbjogMDsgYmFja2dyb3VuZC1jb2xvcjogYmxhY2s7IGNvbG9yOiB3aGl0ZTsnPjxoNCBzdHlsZT0ndGV4dC1hbGlnbjpjZW50ZXI7Zm9udC13ZWlnaHQ6IGJvbGQnPlNhbyBUb21lIGFuZCBQcmluY2lwZTwvaDQ+PGhyIHN0eWxlPSdtYXJnaW46MTBweDtjb2xvcjogd2hpdGU7Jz48dWwgc3R5bGU9J2NvbG9yOiB3aGl0ZTs7bGlzdC1zdHlsZS10eXBlOmNpcmNsZTthbGlnbi1pdGVtOmxlZnQ7cGFkZGluZy1sZWZ0OjIwcHg7cGFkZGluZy1yaWdodDoyMHB4Jz48bGk+Q29uZmlybWVkOiAxNjwvbGk+PGxpPkRlYXRoczogICAxPC9saT48bGk+RGVhdGggUmF0ZTogNS44ODwvbGk+PC91bD48L2Rpdj4KICAgICAgICAgICAgICAgICA8L2Rpdj5gLAogICAgICAgICAgICAgICAgeyJzdGlja3kiOiB0cnVlfQogICAgICAgICAgICApOwogICAgICAgIAogICAgCiAgICAgICAgICAgIHZhciBjaXJjbGVfODQ3OTgwODNjZWY4NGMzZTg3NGRhNjFjMjQ5NzY5MzkgPSBMLmNpcmNsZSgKICAgICAgICAgICAgICAgIFsxNS41NTI3MjY5OTk5OTk5OTksIDQ4LjUxNjM4OF0sCiAgICAgICAgICAgICAgICB7ImJ1YmJsaW5nTW91c2VFdmVudHMiOiB0cnVlLCAiY29sb3IiOiAicmVkIiwgImRhc2hBcnJheSI6IG51bGwsICJkYXNoT2Zmc2V0IjogbnVsbCwgImZpbGwiOiB0cnVlLCAiZmlsbENvbG9yIjogImluZGlnbyIsICJmaWxsT3BhY2l0eSI6IDAuMiwgImZpbGxSdWxlIjogImV2ZW5vZGQiLCAibGluZUNhcCI6ICJyb3VuZCIsICJsaW5lSm9pbiI6ICJyb3VuZCIsICJvcGFjaXR5IjogMS4wLCAicmFkaXVzIjogMTEwMDAwLjAwMDAwMDAwMDAxLCAic3Ryb2tlIjogdHJ1ZSwgIndlaWdodCI6IDN9CiAgICAgICAgICAgICkuYWRkVG8obWFwX2ZmZjE4NTc1OTRiZjRhM2E4Mjc4ZjEyNTM2Y2NkNjM3KTsKICAgICAgICAKICAgIAogICAgICAgICAgICBjaXJjbGVfODQ3OTgwODNjZWY4NGMzZTg3NGRhNjFjMjQ5NzY5MzkuYmluZFRvb2x0aXAoCiAgICAgICAgICAgICAgICBgPGRpdj4KICAgICAgICAgICAgICAgICAgICAgPGRpdiBzdHlsZT0nbWFyZ2luOiAwOyBiYWNrZ3JvdW5kLWNvbG9yOiBibGFjazsgY29sb3I6IHdoaXRlOyc+PGg0IHN0eWxlPSd0ZXh0LWFsaWduOmNlbnRlcjtmb250LXdlaWdodDogYm9sZCc+WWVtZW48L2g0PjxociBzdHlsZT0nbWFyZ2luOjEwcHg7Y29sb3I6IHdoaXRlOyc+PHVsIHN0eWxlPSdjb2xvcjogd2hpdGU7O2xpc3Qtc3R5bGUtdHlwZTpjaXJjbGU7YWxpZ24taXRlbTpsZWZ0O3BhZGRpbmctbGVmdDoyMHB4O3BhZGRpbmctcmlnaHQ6MjBweCc+PGxpPkNvbmZpcm1lZDogNzwvbGk+PGxpPkRlYXRoczogICAyPC9saT48bGk+RGVhdGggUmF0ZTogMjUuMDwvbGk+PC91bD48L2Rpdj4KICAgICAgICAgICAgICAgICA8L2Rpdj5gLAogICAgICAgICAgICAgICAgeyJzdGlja3kiOiB0cnVlfQogICAgICAgICAgICApOwogICAgICAgIAogICAgCiAgICAgICAgICAgIHZhciBjaXJjbGVfNDU1MGZiODQ0Y2UxNGI1NjkzZDdhM2Q4M2EyYzk3ZjEgPSBMLmNpcmNsZSgKICAgICAgICAgICAgICAgIFstMTEuNjQ1NSwgNDMuMzMzM10sCiAgICAgICAgICAgICAgICB7ImJ1YmJsaW5nTW91c2VFdmVudHMiOiB0cnVlLCAiY29sb3IiOiAicmVkIiwgImRhc2hBcnJheSI6IG51bGwsICJkYXNoT2Zmc2V0IjogbnVsbCwgImZpbGwiOiB0cnVlLCAiZmlsbENvbG9yIjogImluZGlnbyIsICJmaWxsT3BhY2l0eSI6IDAuMiwgImZpbGxSdWxlIjogImV2ZW5vZGQiLCAibGluZUNhcCI6ICJyb3VuZCIsICJsaW5lSm9pbiI6ICJyb3VuZCIsICJvcGFjaXR5IjogMS4wLCAicmFkaXVzIjogMTAwMDAuMCwgInN0cm9rZSI6IHRydWUsICJ3ZWlnaHQiOiAzfQogICAgICAgICAgICApLmFkZFRvKG1hcF9mZmYxODU3NTk0YmY0YTNhODI3OGYxMjUzNmNjZDYzNyk7CiAgICAgICAgCiAgICAKICAgICAgICAgICAgY2lyY2xlXzQ1NTBmYjg0NGNlMTRiNTY5M2Q3YTNkODNhMmM5N2YxLmJpbmRUb29sdGlwKAogICAgICAgICAgICAgICAgYDxkaXY+CiAgICAgICAgICAgICAgICAgICAgIDxkaXYgc3R5bGU9J21hcmdpbjogMDsgYmFja2dyb3VuZC1jb2xvcjogYmxhY2s7IGNvbG9yOiB3aGl0ZTsnPjxoNCBzdHlsZT0ndGV4dC1hbGlnbjpjZW50ZXI7Zm9udC13ZWlnaHQ6IGJvbGQnPkNvbW9yb3M8L2g0PjxociBzdHlsZT0nbWFyZ2luOjEwcHg7Y29sb3I6IHdoaXRlOyc+PHVsIHN0eWxlPSdjb2xvcjogd2hpdGU7O2xpc3Qtc3R5bGUtdHlwZTpjaXJjbGU7YWxpZ24taXRlbTpsZWZ0O3BhZGRpbmctbGVmdDoyMHB4O3BhZGRpbmctcmlnaHQ6MjBweCc+PGxpPkNvbmZpcm1lZDogMTwvbGk+PGxpPkRlYXRoczogICAwPC9saT48bGk+RGVhdGggUmF0ZTogMC4wPC9saT48L3VsPjwvZGl2PgogICAgICAgICAgICAgICAgIDwvZGl2PmAsCiAgICAgICAgICAgICAgICB7InN0aWNreSI6IHRydWV9CiAgICAgICAgICAgICk7CiAgICAgICAgCiAgICAKICAgICAgICAgICAgdmFyIGNpcmNsZV9jYWFhN2I3OGI4Njg0M2I1YWEyODAwMzdlZjQwN2UyYSA9IEwuY2lyY2xlKAogICAgICAgICAgICAgICAgWzM4Ljg2MTAzNCwgNzEuMjc2MDkzXSwKICAgICAgICAgICAgICAgIHsiYnViYmxpbmdNb3VzZUV2ZW50cyI6IHRydWUsICJjb2xvciI6ICJyZWQiLCAiZGFzaEFycmF5IjogbnVsbCwgImRhc2hPZmZzZXQiOiBudWxsLCAiZmlsbCI6IHRydWUsICJmaWxsQ29sb3IiOiAiaW5kaWdvIiwgImZpbGxPcGFjaXR5IjogMC4yLCAiZmlsbFJ1bGUiOiAiZXZlbm9kZCIsICJsaW5lQ2FwIjogInJvdW5kIiwgImxpbmVKb2luIjogInJvdW5kIiwgIm9wYWNpdHkiOiAxLjAsICJyYWRpdXMiOiAxMTAwMDAuMDAwMDAwMDAwMDEsICJzdHJva2UiOiB0cnVlLCAid2VpZ2h0IjogM30KICAgICAgICAgICAgKS5hZGRUbyhtYXBfZmZmMTg1NzU5NGJmNGEzYTgyNzhmMTI1MzZjY2Q2MzcpOwogICAgICAgIAogICAgCiAgICAgICAgICAgIGNpcmNsZV9jYWFhN2I3OGI4Njg0M2I1YWEyODAwMzdlZjQwN2UyYS5iaW5kVG9vbHRpcCgKICAgICAgICAgICAgICAgIGA8ZGl2PgogICAgICAgICAgICAgICAgICAgICA8ZGl2IHN0eWxlPSdtYXJnaW46IDA7IGJhY2tncm91bmQtY29sb3I6IGJsYWNrOyBjb2xvcjogd2hpdGU7Jz48aDQgc3R5bGU9J3RleHQtYWxpZ246Y2VudGVyO2ZvbnQtd2VpZ2h0OiBib2xkJz5UYWppa2lzdGFuPC9oND48aHIgc3R5bGU9J21hcmdpbjoxMHB4O2NvbG9yOiB3aGl0ZTsnPjx1bCBzdHlsZT0nY29sb3I6IHdoaXRlOztsaXN0LXN0eWxlLXR5cGU6Y2lyY2xlO2FsaWduLWl0ZW06bGVmdDtwYWRkaW5nLWxlZnQ6MjBweDtwYWRkaW5nLXJpZ2h0OjIwcHgnPjxsaT5Db25maXJtZWQ6IDE1PC9saT48bGk+RGVhdGhzOiAgIDA8L2xpPjxsaT5EZWF0aCBSYXRlOiAwLjA8L2xpPjwvdWw+PC9kaXY+CiAgICAgICAgICAgICAgICAgPC9kaXY+YCwKICAgICAgICAgICAgICAgIHsic3RpY2t5IjogdHJ1ZX0KICAgICAgICAgICAgKTsKICAgICAgICAKPC9zY3JpcHQ+ onload=\"this.contentDocument.open();this.contentDocument.write(atob(this.getAttribute('data-html')));this.contentDocument.close();\" allowfullscreen webkitallowfullscreen mozallowfullscreen></iframe></div></div>"
      ],
      "text/plain": [
       "<folium.folium.Map at 0x7fedc5f4d970>"
      ]
     },
     "execution_count": 18,
     "metadata": {},
     "output_type": "execute_result"
    }
   ],
   "source": [
    "\n",
    "world_map = folium.Map(location=[11,0], tiles=\"cartodbpositron\", zoom_start=2, max_zoom = 6, min_zoom = 2)\n",
    "\n",
    "\n",
    "for i in range(0,len(confirmed_df)):\n",
    "    folium.Circle(\n",
    "        location=[confirmed_df.iloc[i]['lat'], confirmed_df.iloc[i]['long']],\n",
    "        fill=True,\n",
    "        radius=(int((np.log(confirmed_df.iloc[i,-1]+1.00001)))+0.2)*50000,\n",
    "        color='red',\n",
    "        fill_color='indigo',\n",
    "        tooltip = \"<div style='margin: 0; background-color: black; color: white;'>\"+\n",
    "                    \"<h4 style='text-align:center;font-weight: bold'>\"+confirmed_df.iloc[i]['country'] + \"</h4>\"\n",
    "                    \"<hr style='margin:10px;color: white;'>\"+\n",
    "                    \"<ul style='color: white;;list-style-type:circle;align-item:left;padding-left:20px;padding-right:20px'>\"+\n",
    "                        \"<li>Confirmed: \"+str(confirmed_df.iloc[i,-1])+\"</li>\"+\n",
    "                        \"<li>Deaths:   \"+str(death_df.iloc[i,-1])+\"</li>\"+\n",
    "                        \"<li>Death Rate: \"+ str(np.round(death_df.iloc[i,-1]/(confirmed_df.iloc[i,-1]+1.00001)*100,2))+ \"</li>\"+\n",
    "                    \"</ul></div>\",\n",
    "        ).add_to(world_map)\n",
    "\n",
    "world_map\n"
   ]
  },
  {
   "cell_type": "markdown",
   "metadata": {},
   "source": [
    "## [Notebook covers:](https://github.com/datasciencewithharshit/voila-covid-19-dashboard)\n",
    "\n",
    "1. What is COVID-19?\n",
    "2. Data loading from [John Hopkins CSSE data repository](https://github.com/CSSEGISandData/COVID-19/tree/master/csse_covid_19_data/csse_covid_19_time_series)\n",
    "3. Data Cleaning and Preparation\n",
    "4. Visualising N number of worst hit countries using [plotly](https://plotly.com/) scatter plot.\n",
    "5. Plotting confirmed and death cases for the requested country.\n",
    "6. Plotting all cases on world map using [Folium](https://python-visualization.github.io/folium/)\n",
    "\n",
    "\n",
    "## Symptoms:\n",
    "People may be sick with the virus for 1 to 14 days before developing symptoms. The most common symptoms of coronavirus disease (COVID-19) are fever, tiredness, and dry cough. Most people (about 80%) recover from the disease without needing special treatment.\n",
    "* cough\n",
    "* fever\n",
    "* tiredness\n",
    "* difficulty in breathing(severe cases)\n",
    "\n",
    "## More Info on COVID-19:\n",
    "* [https://www.who.int/health-topics/coronavirus](https://www.who.int/health-topics/coronavirus)\n",
    "* [https://www.who.int/emergencies/diseases/novel-coronavirus-2019](https://www.who.int/emergencies/diseases/novel-coronavirus-2019)\n",
    "* [https://www.nature.com/articles/s41597-020-0448-0](https://www.nature.com/articles/s41597-020-0448-0)\n"
   ]
  },
  {
   "cell_type": "code",
   "execution_count": null,
   "metadata": {},
   "outputs": [],
   "source": []
  }
 ],
 "metadata": {
  "kernelspec": {
   "display_name": "Python 3",
   "language": "python",
   "name": "python3"
  },
  "language_info": {
   "codemirror_mode": {
    "name": "ipython",
    "version": 3
   },
   "file_extension": ".py",
   "mimetype": "text/x-python",
   "name": "python",
   "nbconvert_exporter": "python",
   "pygments_lexer": "ipython3",
   "version": "3.8.1"
  }
 },
 "nbformat": 4,
 "nbformat_minor": 2
}
